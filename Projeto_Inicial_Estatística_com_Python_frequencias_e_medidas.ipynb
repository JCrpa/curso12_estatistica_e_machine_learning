{
 "cells": [
  {
   "cell_type": "markdown",
   "metadata": {
    "id": "aXvD2rsPDicS"
   },
   "source": [
    "# <font size=6>**Estatística com Python: resumindo e analisando dados**</font>"
   ]
  },
  {
   "cell_type": "markdown",
   "metadata": {
    "id": "VtyprZfbDlwW"
   },
   "source": [
    "Estamos prestando consultoria como **cientistas de dados** em uma grande rede de varejo que atende em todo Brasil.\n",
    "\n",
    "Aqui, precisaremos utilizar uma série de conceitos da estatística para investigar e auxiliar nos problemas e demandas que essa empresa está enfrentando, baseando suas decisões na análise dos dados recebidos.\n",
    "\n",
    "Neste projeto, vamos ter acesso a duas bases de dados passando por dois contextos distintos dentro da empresa:\n",
    "1. Análise do público e vendas, traçando o perfil da nossa clientela e gerando insights com esses dados respondendo a perguntas levantadas pelo setor de marketing e vendas\n",
    "2. Análise da remuneração dos colaboradores, passando pelos salários, desempenho atual e analisando criticamente a equidade salarial entre cargos e gênero, por exemplo. Isto, respondendo a perguntas do setor do RH e financeiro da empresa.\n",
    "\n",
    "**Base de dados**\n",
    "\n",
    "Vamos importar duas bases de dados:\n",
    "\n",
    "> Dados das vendas do e-commerce, separados pelo código identificador da compra.\n",
    "\n",
    "> Dados da remuneração dos colaboradores da empresa, separados pelo código identificador do(a) colaborador(a).\n",
    "\n",
    "Esses dados serão lidos a partir do repositório compartilhado pelo GitHub.\n",
    "\n",
    "**Desafio**\n",
    "\n",
    "Nosso desafio é aplicar os conceitos de **distribuições de frequência, medidas de tendência central, medidas separatizes e de dispersão e visualização de dados** para cada caso trazido por essa empresa para que possa agregar valor aos times e ajudar nos processos de decisão. Para isso, serão repassados alguns questionamentos ao longo do nosso projeto para que possamos contribuir na execução dessa demanda.\n",
    "\n",
    "Vamos utilizar a **linguagem Python** para responder todos os questionamentos levantados."
   ]
  },
  {
   "cell_type": "markdown",
   "metadata": {
    "id": "UNZZiHpAnSS-"
   },
   "source": [
    "# **1. Entendendo os dados**\n",
    "\n",
    "---\n"
   ]
  },
  {
   "cell_type": "markdown",
   "metadata": {
    "id": "AxaRaI7hnZsA"
   },
   "source": [
    "## **1.1  Importando os pacotes e lendo os dados**"
   ]
  },
  {
   "cell_type": "markdown",
   "metadata": {
    "id": "SQWrAZuzHh2i"
   },
   "source": [
    "Como vamos explorar os dados das bases, gerar visualizações e responder a perguntas, vamos trazer um pacote extremamente importante e bastante utilizado por pessoas cientistas e pesquisadoras que é o `pandas`.\n",
    "\n",
    "https://pandas.pydata.org/"
   ]
  },
  {
   "cell_type": "code",
   "execution_count": 4,
   "metadata": {
    "id": "O6BY_gF0ihGR"
   },
   "outputs": [],
   "source": [
    "import pandas as pd"
   ]
  },
  {
   "cell_type": "markdown",
   "metadata": {
    "id": "2uF5RbNzIGeo"
   },
   "source": [
    "Vamos ler a nossa primeira base de dados para as análises do perfil da nossa clientela de acordo com as compras que realizaram.\n",
    "\n",
    "Vamos também salvar os dados em uma variável, para que possamos manipulá-los"
   ]
  },
  {
   "cell_type": "code",
   "execution_count": 5,
   "metadata": {
    "id": "FSAhtmGJijsk"
   },
   "outputs": [],
   "source": [
    "url = 'https://raw.githubusercontent.com/alura-cursos/Estatisticas-Python-frequencias-medidas/refs/heads/main/dados/vendas_ecommerce.csv'\n",
    "df = pd.read_csv(url)"
   ]
  },
  {
   "cell_type": "markdown",
   "metadata": {
    "id": "sTHXHYDHpMJD"
   },
   "source": [
    "Retornar a quantidade de linhas e colunas do dataset"
   ]
  },
  {
   "cell_type": "code",
   "execution_count": 6,
   "metadata": {
    "id": "x3UnzGIOilr0"
   },
   "outputs": [
    {
     "data": {
      "application/vnd.microsoft.datawrangler.viewer.v0+json": {
       "columns": [
        {
         "name": "index",
         "rawType": "int64",
         "type": "integer"
        },
        {
         "name": "id_compra",
         "rawType": "object",
         "type": "string"
        },
        {
         "name": "sexo_biologico",
         "rawType": "object",
         "type": "string"
        },
        {
         "name": "idade_cliente",
         "rawType": "int64",
         "type": "integer"
        },
        {
         "name": "regiao_cliente",
         "rawType": "object",
         "type": "string"
        },
        {
         "name": "categoria_produto",
         "rawType": "object",
         "type": "string"
        },
        {
         "name": "preco_unitario",
         "rawType": "float64",
         "type": "float"
        },
        {
         "name": "quantidade",
         "rawType": "int64",
         "type": "integer"
        },
        {
         "name": "total_compra",
         "rawType": "float64",
         "type": "float"
        },
        {
         "name": "tempo_entrega",
         "rawType": "int64",
         "type": "integer"
        },
        {
         "name": "avaliacao",
         "rawType": "int64",
         "type": "integer"
        }
       ],
       "ref": "637c69f8-6b90-48e5-bb99-1cc17ecc7416",
       "rows": [
        [
         "0",
         "9f86e969-221a-4b1a-9b48-9aba719b61cf",
         "Masculino",
         "33",
         "Sul",
         "Ferramentas e Construção",
         "96.8",
         "2",
         "193.6",
         "18",
         "1"
        ],
        [
         "1",
         "659f9b07-be10-4849-b2ab-dd542498a1e8",
         "Feminino",
         "33",
         "Nordeste",
         "Alimentos e Bebidas",
         "247.68",
         "1",
         "247.68",
         "6",
         "4"
        ],
        [
         "2",
         "d317d7df-1126-42e5-bf4b-0e178bd4e14e",
         "Feminino",
         "36",
         "Sudeste",
         "Eletrônicos",
         "627.46",
         "2",
         "1254.92",
         "8",
         "5"
        ],
        [
         "3",
         "bb99bcf6-b333-493e-9ec2-c39f8695503c",
         "Feminino",
         "21",
         "Sul",
         "Eletrônicos",
         "2025.07",
         "8",
         "16200.56",
         "6",
         "5"
        ],
        [
         "4",
         "898e4624-84e9-4c41-b181-66d3b7ccfef7",
         "Masculino",
         "31",
         "Centro-Oeste",
         "Papelaria e Escritório",
         "99.24",
         "5",
         "496.2",
         "13",
         "5"
        ]
       ],
       "shape": {
        "columns": 10,
        "rows": 5
       }
      },
      "text/html": [
       "<div>\n",
       "<style scoped>\n",
       "    .dataframe tbody tr th:only-of-type {\n",
       "        vertical-align: middle;\n",
       "    }\n",
       "\n",
       "    .dataframe tbody tr th {\n",
       "        vertical-align: top;\n",
       "    }\n",
       "\n",
       "    .dataframe thead th {\n",
       "        text-align: right;\n",
       "    }\n",
       "</style>\n",
       "<table border=\"1\" class=\"dataframe\">\n",
       "  <thead>\n",
       "    <tr style=\"text-align: right;\">\n",
       "      <th></th>\n",
       "      <th>id_compra</th>\n",
       "      <th>sexo_biologico</th>\n",
       "      <th>idade_cliente</th>\n",
       "      <th>regiao_cliente</th>\n",
       "      <th>categoria_produto</th>\n",
       "      <th>preco_unitario</th>\n",
       "      <th>quantidade</th>\n",
       "      <th>total_compra</th>\n",
       "      <th>tempo_entrega</th>\n",
       "      <th>avaliacao</th>\n",
       "    </tr>\n",
       "  </thead>\n",
       "  <tbody>\n",
       "    <tr>\n",
       "      <th>0</th>\n",
       "      <td>9f86e969-221a-4b1a-9b48-9aba719b61cf</td>\n",
       "      <td>Masculino</td>\n",
       "      <td>33</td>\n",
       "      <td>Sul</td>\n",
       "      <td>Ferramentas e Construção</td>\n",
       "      <td>96.80</td>\n",
       "      <td>2</td>\n",
       "      <td>193.60</td>\n",
       "      <td>18</td>\n",
       "      <td>1</td>\n",
       "    </tr>\n",
       "    <tr>\n",
       "      <th>1</th>\n",
       "      <td>659f9b07-be10-4849-b2ab-dd542498a1e8</td>\n",
       "      <td>Feminino</td>\n",
       "      <td>33</td>\n",
       "      <td>Nordeste</td>\n",
       "      <td>Alimentos e Bebidas</td>\n",
       "      <td>247.68</td>\n",
       "      <td>1</td>\n",
       "      <td>247.68</td>\n",
       "      <td>6</td>\n",
       "      <td>4</td>\n",
       "    </tr>\n",
       "    <tr>\n",
       "      <th>2</th>\n",
       "      <td>d317d7df-1126-42e5-bf4b-0e178bd4e14e</td>\n",
       "      <td>Feminino</td>\n",
       "      <td>36</td>\n",
       "      <td>Sudeste</td>\n",
       "      <td>Eletrônicos</td>\n",
       "      <td>627.46</td>\n",
       "      <td>2</td>\n",
       "      <td>1254.92</td>\n",
       "      <td>8</td>\n",
       "      <td>5</td>\n",
       "    </tr>\n",
       "    <tr>\n",
       "      <th>3</th>\n",
       "      <td>bb99bcf6-b333-493e-9ec2-c39f8695503c</td>\n",
       "      <td>Feminino</td>\n",
       "      <td>21</td>\n",
       "      <td>Sul</td>\n",
       "      <td>Eletrônicos</td>\n",
       "      <td>2025.07</td>\n",
       "      <td>8</td>\n",
       "      <td>16200.56</td>\n",
       "      <td>6</td>\n",
       "      <td>5</td>\n",
       "    </tr>\n",
       "    <tr>\n",
       "      <th>4</th>\n",
       "      <td>898e4624-84e9-4c41-b181-66d3b7ccfef7</td>\n",
       "      <td>Masculino</td>\n",
       "      <td>31</td>\n",
       "      <td>Centro-Oeste</td>\n",
       "      <td>Papelaria e Escritório</td>\n",
       "      <td>99.24</td>\n",
       "      <td>5</td>\n",
       "      <td>496.20</td>\n",
       "      <td>13</td>\n",
       "      <td>5</td>\n",
       "    </tr>\n",
       "  </tbody>\n",
       "</table>\n",
       "</div>"
      ],
      "text/plain": [
       "                              id_compra sexo_biologico  idade_cliente  \\\n",
       "0  9f86e969-221a-4b1a-9b48-9aba719b61cf      Masculino             33   \n",
       "1  659f9b07-be10-4849-b2ab-dd542498a1e8       Feminino             33   \n",
       "2  d317d7df-1126-42e5-bf4b-0e178bd4e14e       Feminino             36   \n",
       "3  bb99bcf6-b333-493e-9ec2-c39f8695503c       Feminino             21   \n",
       "4  898e4624-84e9-4c41-b181-66d3b7ccfef7      Masculino             31   \n",
       "\n",
       "  regiao_cliente         categoria_produto  preco_unitario  quantidade  \\\n",
       "0            Sul  Ferramentas e Construção           96.80           2   \n",
       "1       Nordeste       Alimentos e Bebidas          247.68           1   \n",
       "2        Sudeste               Eletrônicos          627.46           2   \n",
       "3            Sul               Eletrônicos         2025.07           8   \n",
       "4   Centro-Oeste    Papelaria e Escritório           99.24           5   \n",
       "\n",
       "   total_compra  tempo_entrega  avaliacao  \n",
       "0        193.60             18          1  \n",
       "1        247.68              6          4  \n",
       "2       1254.92              8          5  \n",
       "3      16200.56              6          5  \n",
       "4        496.20             13          5  "
      ]
     },
     "execution_count": 6,
     "metadata": {},
     "output_type": "execute_result"
    }
   ],
   "source": [
    "df.head()"
   ]
  },
  {
   "cell_type": "code",
   "execution_count": 7,
   "metadata": {},
   "outputs": [
    {
     "data": {
      "application/vnd.microsoft.datawrangler.viewer.v0+json": {
       "columns": [
        {
         "name": "index",
         "rawType": "int64",
         "type": "integer"
        },
        {
         "name": "id_compra",
         "rawType": "object",
         "type": "string"
        },
        {
         "name": "sexo_biologico",
         "rawType": "object",
         "type": "string"
        },
        {
         "name": "idade_cliente",
         "rawType": "int64",
         "type": "integer"
        },
        {
         "name": "regiao_cliente",
         "rawType": "object",
         "type": "string"
        },
        {
         "name": "categoria_produto",
         "rawType": "object",
         "type": "string"
        },
        {
         "name": "preco_unitario",
         "rawType": "float64",
         "type": "float"
        },
        {
         "name": "quantidade",
         "rawType": "int64",
         "type": "integer"
        },
        {
         "name": "total_compra",
         "rawType": "float64",
         "type": "float"
        },
        {
         "name": "tempo_entrega",
         "rawType": "int64",
         "type": "integer"
        },
        {
         "name": "avaliacao",
         "rawType": "int64",
         "type": "integer"
        }
       ],
       "ref": "aa417e2e-82f8-4903-91e9-d5d04a6d4ccd",
       "rows": [
        [
         "199995",
         "28008de1-40b8-4716-ac92-8b12c617af2a",
         "Feminino",
         "22",
         "Sudeste",
         "Eletrônicos",
         "1883.4",
         "7",
         "13183.8",
         "9",
         "2"
        ],
        [
         "199996",
         "d1e1b4aa-9b64-4172-8581-13957777b4b0",
         "Feminino",
         "35",
         "Sul",
         "Eletrônicos",
         "1666.33",
         "1",
         "1666.33",
         "6",
         "5"
        ],
        [
         "199997",
         "d3064a09-71a8-4795-b75e-745d4f01bd2b",
         "Masculino",
         "30",
         "Norte",
         "Roupas, Calçados e Acessórios",
         "1193.03",
         "1",
         "1193.03",
         "10",
         "3"
        ],
        [
         "199998",
         "df1b2dc5-7f80-4f3a-bcb7-40b9d5e7680d",
         "Feminino",
         "28",
         "Nordeste",
         "Alimentos e Bebidas",
         "50.63",
         "7",
         "354.41",
         "6",
         "5"
        ],
        [
         "199999",
         "78b789cb-a417-49ad-9e92-643e42539c7c",
         "Masculino",
         "19",
         "Sudeste",
         "Beleza e Cuidados Pessoais",
         "141.4",
         "9",
         "1272.6",
         "11",
         "2"
        ]
       ],
       "shape": {
        "columns": 10,
        "rows": 5
       }
      },
      "text/html": [
       "<div>\n",
       "<style scoped>\n",
       "    .dataframe tbody tr th:only-of-type {\n",
       "        vertical-align: middle;\n",
       "    }\n",
       "\n",
       "    .dataframe tbody tr th {\n",
       "        vertical-align: top;\n",
       "    }\n",
       "\n",
       "    .dataframe thead th {\n",
       "        text-align: right;\n",
       "    }\n",
       "</style>\n",
       "<table border=\"1\" class=\"dataframe\">\n",
       "  <thead>\n",
       "    <tr style=\"text-align: right;\">\n",
       "      <th></th>\n",
       "      <th>id_compra</th>\n",
       "      <th>sexo_biologico</th>\n",
       "      <th>idade_cliente</th>\n",
       "      <th>regiao_cliente</th>\n",
       "      <th>categoria_produto</th>\n",
       "      <th>preco_unitario</th>\n",
       "      <th>quantidade</th>\n",
       "      <th>total_compra</th>\n",
       "      <th>tempo_entrega</th>\n",
       "      <th>avaliacao</th>\n",
       "    </tr>\n",
       "  </thead>\n",
       "  <tbody>\n",
       "    <tr>\n",
       "      <th>199995</th>\n",
       "      <td>28008de1-40b8-4716-ac92-8b12c617af2a</td>\n",
       "      <td>Feminino</td>\n",
       "      <td>22</td>\n",
       "      <td>Sudeste</td>\n",
       "      <td>Eletrônicos</td>\n",
       "      <td>1883.40</td>\n",
       "      <td>7</td>\n",
       "      <td>13183.80</td>\n",
       "      <td>9</td>\n",
       "      <td>2</td>\n",
       "    </tr>\n",
       "    <tr>\n",
       "      <th>199996</th>\n",
       "      <td>d1e1b4aa-9b64-4172-8581-13957777b4b0</td>\n",
       "      <td>Feminino</td>\n",
       "      <td>35</td>\n",
       "      <td>Sul</td>\n",
       "      <td>Eletrônicos</td>\n",
       "      <td>1666.33</td>\n",
       "      <td>1</td>\n",
       "      <td>1666.33</td>\n",
       "      <td>6</td>\n",
       "      <td>5</td>\n",
       "    </tr>\n",
       "    <tr>\n",
       "      <th>199997</th>\n",
       "      <td>d3064a09-71a8-4795-b75e-745d4f01bd2b</td>\n",
       "      <td>Masculino</td>\n",
       "      <td>30</td>\n",
       "      <td>Norte</td>\n",
       "      <td>Roupas, Calçados e Acessórios</td>\n",
       "      <td>1193.03</td>\n",
       "      <td>1</td>\n",
       "      <td>1193.03</td>\n",
       "      <td>10</td>\n",
       "      <td>3</td>\n",
       "    </tr>\n",
       "    <tr>\n",
       "      <th>199998</th>\n",
       "      <td>df1b2dc5-7f80-4f3a-bcb7-40b9d5e7680d</td>\n",
       "      <td>Feminino</td>\n",
       "      <td>28</td>\n",
       "      <td>Nordeste</td>\n",
       "      <td>Alimentos e Bebidas</td>\n",
       "      <td>50.63</td>\n",
       "      <td>7</td>\n",
       "      <td>354.41</td>\n",
       "      <td>6</td>\n",
       "      <td>5</td>\n",
       "    </tr>\n",
       "    <tr>\n",
       "      <th>199999</th>\n",
       "      <td>78b789cb-a417-49ad-9e92-643e42539c7c</td>\n",
       "      <td>Masculino</td>\n",
       "      <td>19</td>\n",
       "      <td>Sudeste</td>\n",
       "      <td>Beleza e Cuidados Pessoais</td>\n",
       "      <td>141.40</td>\n",
       "      <td>9</td>\n",
       "      <td>1272.60</td>\n",
       "      <td>11</td>\n",
       "      <td>2</td>\n",
       "    </tr>\n",
       "  </tbody>\n",
       "</table>\n",
       "</div>"
      ],
      "text/plain": [
       "                                   id_compra sexo_biologico  idade_cliente  \\\n",
       "199995  28008de1-40b8-4716-ac92-8b12c617af2a       Feminino             22   \n",
       "199996  d1e1b4aa-9b64-4172-8581-13957777b4b0       Feminino             35   \n",
       "199997  d3064a09-71a8-4795-b75e-745d4f01bd2b      Masculino             30   \n",
       "199998  df1b2dc5-7f80-4f3a-bcb7-40b9d5e7680d       Feminino             28   \n",
       "199999  78b789cb-a417-49ad-9e92-643e42539c7c      Masculino             19   \n",
       "\n",
       "       regiao_cliente              categoria_produto  preco_unitario  \\\n",
       "199995        Sudeste                    Eletrônicos         1883.40   \n",
       "199996            Sul                    Eletrônicos         1666.33   \n",
       "199997          Norte  Roupas, Calçados e Acessórios         1193.03   \n",
       "199998       Nordeste            Alimentos e Bebidas           50.63   \n",
       "199999        Sudeste     Beleza e Cuidados Pessoais          141.40   \n",
       "\n",
       "        quantidade  total_compra  tempo_entrega  avaliacao  \n",
       "199995           7      13183.80              9          2  \n",
       "199996           1       1666.33              6          5  \n",
       "199997           1       1193.03             10          3  \n",
       "199998           7        354.41              6          5  \n",
       "199999           9       1272.60             11          2  "
      ]
     },
     "execution_count": 7,
     "metadata": {},
     "output_type": "execute_result"
    }
   ],
   "source": [
    "df.tail()"
   ]
  },
  {
   "cell_type": "code",
   "execution_count": 8,
   "metadata": {},
   "outputs": [
    {
     "data": {
      "text/plain": [
       "(200000, 10)"
      ]
     },
     "execution_count": 8,
     "metadata": {},
     "output_type": "execute_result"
    }
   ],
   "source": [
    "df.shape"
   ]
  },
  {
   "cell_type": "markdown",
   "metadata": {
    "id": "qudYCFeSpQwt"
   },
   "source": [
    "Verificar o nome de cada coluna, a quantidade de dados não nulos existente na coluna em questão e o tipo de dado.\n"
   ]
  },
  {
   "cell_type": "code",
   "execution_count": 9,
   "metadata": {
    "id": "O0nK_TMgio0g"
   },
   "outputs": [
    {
     "name": "stdout",
     "output_type": "stream",
     "text": [
      "<class 'pandas.core.frame.DataFrame'>\n",
      "RangeIndex: 200000 entries, 0 to 199999\n",
      "Data columns (total 10 columns):\n",
      " #   Column             Non-Null Count   Dtype  \n",
      "---  ------             --------------   -----  \n",
      " 0   id_compra          200000 non-null  object \n",
      " 1   sexo_biologico     200000 non-null  object \n",
      " 2   idade_cliente      200000 non-null  int64  \n",
      " 3   regiao_cliente     200000 non-null  object \n",
      " 4   categoria_produto  200000 non-null  object \n",
      " 5   preco_unitario     200000 non-null  float64\n",
      " 6   quantidade         200000 non-null  int64  \n",
      " 7   total_compra       200000 non-null  float64\n",
      " 8   tempo_entrega      200000 non-null  int64  \n",
      " 9   avaliacao          200000 non-null  int64  \n",
      "dtypes: float64(2), int64(4), object(4)\n",
      "memory usage: 15.3+ MB\n"
     ]
    }
   ],
   "source": [
    "df.info()"
   ]
  },
  {
   "cell_type": "markdown",
   "metadata": {
    "id": "s_SxEZvdIZ-U"
   },
   "source": [
    "Conseguimos observar aqui os dados das vendas da empresa com algumas colunas interessantes.\n",
    "\n",
    "Podemos realizar talvez uma análise de vendas por região, por gênero, podemos explorar os tipos de produtos, o tempo de entrega e avaliação. Ou seja, bastante coisa!\n",
    "\n",
    "Para todas essas análises que podemos traçar, temos 2 pontos extremamente importantes:\n",
    "\n",
    "1. Qual o tipo de dado que tenho?\n",
    "2. O que desejo investigar com este dado?\n",
    "\n",
    "A estatística, é muito importante aqui, pois a depender do tipo do dado e como ele se comporta temos diferentes formas de analisá-lo para responder a necessidade do nosso cliente. Tudo isso focado no tripé da ciência de dados: **estatística**, **programação** e **conhecimento do negócio**\n",
    "\n",
    "Vamos aplicar as 3 aqui apontando o seu potencial na análise de dados e extração de insights utilizando a linguagem Python.\n",
    "\n",
    "Vamos nessa?"
   ]
  },
  {
   "cell_type": "markdown",
   "metadata": {
    "id": "lmFhWRkinnP0"
   },
   "source": [
    "## **1.2 Investigando os tipos dos dados**"
   ]
  },
  {
   "cell_type": "markdown",
   "metadata": {
    "id": "AnVZHaxMJIyE"
   },
   "source": [
    "Observando rapidamente os dados, podemos notar dados em formato de textos, números inteiros, números com casas decimais. A depender da análise que queremos fazer, cada um tem uma forma de ser trabalhado e adequado para a extração de informação dos dados"
   ]
  },
  {
   "cell_type": "code",
   "execution_count": 10,
   "metadata": {
    "id": "8mnPTNAzir4M"
   },
   "outputs": [
    {
     "data": {
      "application/vnd.microsoft.datawrangler.viewer.v0+json": {
       "columns": [
        {
         "name": "index",
         "rawType": "int64",
         "type": "integer"
        },
        {
         "name": "id_compra",
         "rawType": "object",
         "type": "string"
        },
        {
         "name": "sexo_biologico",
         "rawType": "object",
         "type": "string"
        },
        {
         "name": "idade_cliente",
         "rawType": "int64",
         "type": "integer"
        },
        {
         "name": "regiao_cliente",
         "rawType": "object",
         "type": "string"
        },
        {
         "name": "categoria_produto",
         "rawType": "object",
         "type": "string"
        },
        {
         "name": "preco_unitario",
         "rawType": "float64",
         "type": "float"
        },
        {
         "name": "quantidade",
         "rawType": "int64",
         "type": "integer"
        },
        {
         "name": "total_compra",
         "rawType": "float64",
         "type": "float"
        },
        {
         "name": "tempo_entrega",
         "rawType": "int64",
         "type": "integer"
        },
        {
         "name": "avaliacao",
         "rawType": "int64",
         "type": "integer"
        }
       ],
       "ref": "5675f1a2-2d5f-42df-bcad-4e5d40c93b30",
       "rows": [
        [
         "0",
         "9f86e969-221a-4b1a-9b48-9aba719b61cf",
         "Masculino",
         "33",
         "Sul",
         "Ferramentas e Construção",
         "96.8",
         "2",
         "193.6",
         "18",
         "1"
        ],
        [
         "1",
         "659f9b07-be10-4849-b2ab-dd542498a1e8",
         "Feminino",
         "33",
         "Nordeste",
         "Alimentos e Bebidas",
         "247.68",
         "1",
         "247.68",
         "6",
         "4"
        ],
        [
         "2",
         "d317d7df-1126-42e5-bf4b-0e178bd4e14e",
         "Feminino",
         "36",
         "Sudeste",
         "Eletrônicos",
         "627.46",
         "2",
         "1254.92",
         "8",
         "5"
        ],
        [
         "3",
         "bb99bcf6-b333-493e-9ec2-c39f8695503c",
         "Feminino",
         "21",
         "Sul",
         "Eletrônicos",
         "2025.07",
         "8",
         "16200.56",
         "6",
         "5"
        ],
        [
         "4",
         "898e4624-84e9-4c41-b181-66d3b7ccfef7",
         "Masculino",
         "31",
         "Centro-Oeste",
         "Papelaria e Escritório",
         "99.24",
         "5",
         "496.2",
         "13",
         "5"
        ]
       ],
       "shape": {
        "columns": 10,
        "rows": 5
       }
      },
      "text/html": [
       "<div>\n",
       "<style scoped>\n",
       "    .dataframe tbody tr th:only-of-type {\n",
       "        vertical-align: middle;\n",
       "    }\n",
       "\n",
       "    .dataframe tbody tr th {\n",
       "        vertical-align: top;\n",
       "    }\n",
       "\n",
       "    .dataframe thead th {\n",
       "        text-align: right;\n",
       "    }\n",
       "</style>\n",
       "<table border=\"1\" class=\"dataframe\">\n",
       "  <thead>\n",
       "    <tr style=\"text-align: right;\">\n",
       "      <th></th>\n",
       "      <th>id_compra</th>\n",
       "      <th>sexo_biologico</th>\n",
       "      <th>idade_cliente</th>\n",
       "      <th>regiao_cliente</th>\n",
       "      <th>categoria_produto</th>\n",
       "      <th>preco_unitario</th>\n",
       "      <th>quantidade</th>\n",
       "      <th>total_compra</th>\n",
       "      <th>tempo_entrega</th>\n",
       "      <th>avaliacao</th>\n",
       "    </tr>\n",
       "  </thead>\n",
       "  <tbody>\n",
       "    <tr>\n",
       "      <th>0</th>\n",
       "      <td>9f86e969-221a-4b1a-9b48-9aba719b61cf</td>\n",
       "      <td>Masculino</td>\n",
       "      <td>33</td>\n",
       "      <td>Sul</td>\n",
       "      <td>Ferramentas e Construção</td>\n",
       "      <td>96.80</td>\n",
       "      <td>2</td>\n",
       "      <td>193.60</td>\n",
       "      <td>18</td>\n",
       "      <td>1</td>\n",
       "    </tr>\n",
       "    <tr>\n",
       "      <th>1</th>\n",
       "      <td>659f9b07-be10-4849-b2ab-dd542498a1e8</td>\n",
       "      <td>Feminino</td>\n",
       "      <td>33</td>\n",
       "      <td>Nordeste</td>\n",
       "      <td>Alimentos e Bebidas</td>\n",
       "      <td>247.68</td>\n",
       "      <td>1</td>\n",
       "      <td>247.68</td>\n",
       "      <td>6</td>\n",
       "      <td>4</td>\n",
       "    </tr>\n",
       "    <tr>\n",
       "      <th>2</th>\n",
       "      <td>d317d7df-1126-42e5-bf4b-0e178bd4e14e</td>\n",
       "      <td>Feminino</td>\n",
       "      <td>36</td>\n",
       "      <td>Sudeste</td>\n",
       "      <td>Eletrônicos</td>\n",
       "      <td>627.46</td>\n",
       "      <td>2</td>\n",
       "      <td>1254.92</td>\n",
       "      <td>8</td>\n",
       "      <td>5</td>\n",
       "    </tr>\n",
       "    <tr>\n",
       "      <th>3</th>\n",
       "      <td>bb99bcf6-b333-493e-9ec2-c39f8695503c</td>\n",
       "      <td>Feminino</td>\n",
       "      <td>21</td>\n",
       "      <td>Sul</td>\n",
       "      <td>Eletrônicos</td>\n",
       "      <td>2025.07</td>\n",
       "      <td>8</td>\n",
       "      <td>16200.56</td>\n",
       "      <td>6</td>\n",
       "      <td>5</td>\n",
       "    </tr>\n",
       "    <tr>\n",
       "      <th>4</th>\n",
       "      <td>898e4624-84e9-4c41-b181-66d3b7ccfef7</td>\n",
       "      <td>Masculino</td>\n",
       "      <td>31</td>\n",
       "      <td>Centro-Oeste</td>\n",
       "      <td>Papelaria e Escritório</td>\n",
       "      <td>99.24</td>\n",
       "      <td>5</td>\n",
       "      <td>496.20</td>\n",
       "      <td>13</td>\n",
       "      <td>5</td>\n",
       "    </tr>\n",
       "  </tbody>\n",
       "</table>\n",
       "</div>"
      ],
      "text/plain": [
       "                              id_compra sexo_biologico  idade_cliente  \\\n",
       "0  9f86e969-221a-4b1a-9b48-9aba719b61cf      Masculino             33   \n",
       "1  659f9b07-be10-4849-b2ab-dd542498a1e8       Feminino             33   \n",
       "2  d317d7df-1126-42e5-bf4b-0e178bd4e14e       Feminino             36   \n",
       "3  bb99bcf6-b333-493e-9ec2-c39f8695503c       Feminino             21   \n",
       "4  898e4624-84e9-4c41-b181-66d3b7ccfef7      Masculino             31   \n",
       "\n",
       "  regiao_cliente         categoria_produto  preco_unitario  quantidade  \\\n",
       "0            Sul  Ferramentas e Construção           96.80           2   \n",
       "1       Nordeste       Alimentos e Bebidas          247.68           1   \n",
       "2        Sudeste               Eletrônicos          627.46           2   \n",
       "3            Sul               Eletrônicos         2025.07           8   \n",
       "4   Centro-Oeste    Papelaria e Escritório           99.24           5   \n",
       "\n",
       "   total_compra  tempo_entrega  avaliacao  \n",
       "0        193.60             18          1  \n",
       "1        247.68              6          4  \n",
       "2       1254.92              8          5  \n",
       "3      16200.56              6          5  \n",
       "4        496.20             13          5  "
      ]
     },
     "execution_count": 10,
     "metadata": {},
     "output_type": "execute_result"
    }
   ],
   "source": [
    "df.head()"
   ]
  },
  {
   "cell_type": "markdown",
   "metadata": {
    "id": "3u7VM4iMJXCW"
   },
   "source": [
    "Ou seja, temos aqui dados categóricos (qualitativos) e numéricos (quantitativos)."
   ]
  },
  {
   "cell_type": "markdown",
   "metadata": {
    "id": "_7SMi1PuJQKW"
   },
   "source": [
    "### Tipos de Variáveis:\n",
    "\n",
    "![texto do link](https://github.com/afonsosr2/estatistica-r-frequencias-medidas/blob/main/imagens/outros/tipos_variaveis.png?raw=true)\n",
    "\n",
    "- **Qualitativas (Categóricas):** São variáveis que representam características ou categorias. Geralmente, são usadas para classificar ou categorizar dados. Por exemplo: sexo biólogico e região\n",
    "  - **Nominais:** quando não possuem uma ordem natural. (Ex.: tipo de produto).  \n",
    "  - **Ordinais:** Possuem uma ordem ou hierarquia. (Ex.: Níveis de escolaridade).\n",
    "\n",
    "- **Quantitativas (Numéricas):** São variáveis que representam números e podem ser mensuradas. Estas variáveis têm significado matemático e podem ser usadas para cálculos. Por exemplo: idade e total de compra\n",
    "  - **Discretas:** Valores inteiros e contáveis (Ex.: quantidade de produtos).  \n",
    "  - **Contínuas:** Qualquer valor em um intervalo (Ex.: Altura de pessoas)."
   ]
  },
  {
   "cell_type": "markdown",
   "metadata": {
    "id": "2ifPBhSUJkO0"
   },
   "source": [
    "Podemos então realizar uma análise simples aqui, investigando uma **variável qualitativa nominal** como, por exemplo, a quantidade de vendas por categoria:"
   ]
  },
  {
   "cell_type": "code",
   "execution_count": 11,
   "metadata": {
    "id": "55tKpewIiuzD"
   },
   "outputs": [
    {
     "data": {
      "application/vnd.microsoft.datawrangler.viewer.v0+json": {
       "columns": [
        {
         "name": "index",
         "rawType": "int64",
         "type": "integer"
        },
        {
         "name": "categoria_produto",
         "rawType": "object",
         "type": "string"
        }
       ],
       "ref": "9cb2c544-5eb4-4322-ba78-5ddc1e081f26",
       "rows": [
        [
         "0",
         "Ferramentas e Construção"
        ],
        [
         "1",
         "Alimentos e Bebidas"
        ],
        [
         "2",
         "Eletrônicos"
        ],
        [
         "3",
         "Eletrônicos"
        ],
        [
         "4",
         "Papelaria e Escritório"
        ],
        [
         "5",
         "Beleza e Cuidados Pessoais"
        ],
        [
         "6",
         "Casa e Mobílias"
        ],
        [
         "7",
         "Casa e Mobílias"
        ],
        [
         "8",
         "Roupas, Calçados e Acessórios"
        ],
        [
         "9",
         "Casa e Mobílias"
        ],
        [
         "10",
         "Eletrônicos"
        ],
        [
         "11",
         "Livros"
        ],
        [
         "12",
         "Casa e Mobílias"
        ],
        [
         "13",
         "Ferramentas e Construção"
        ],
        [
         "14",
         "Roupas, Calçados e Acessórios"
        ],
        [
         "15",
         "Eletrônicos"
        ],
        [
         "16",
         "Ferramentas e Construção"
        ],
        [
         "17",
         "Roupas, Calçados e Acessórios"
        ],
        [
         "18",
         "Eletrônicos"
        ],
        [
         "19",
         "Casa e Mobílias"
        ],
        [
         "20",
         "Brinquedos"
        ],
        [
         "21",
         "Casa e Mobílias"
        ],
        [
         "22",
         "Papelaria e Escritório"
        ],
        [
         "23",
         "Ferramentas e Construção"
        ],
        [
         "24",
         "Papelaria e Escritório"
        ],
        [
         "25",
         "Esporte e Lazer"
        ],
        [
         "26",
         "Casa e Mobílias"
        ],
        [
         "27",
         "Esporte e Lazer"
        ],
        [
         "28",
         "Roupas, Calçados e Acessórios"
        ],
        [
         "29",
         "Casa e Mobílias"
        ],
        [
         "30",
         "Ferramentas e Construção"
        ],
        [
         "31",
         "Ferramentas e Construção"
        ],
        [
         "32",
         "Eletrônicos"
        ],
        [
         "33",
         "Roupas, Calçados e Acessórios"
        ],
        [
         "34",
         "Casa e Mobílias"
        ],
        [
         "35",
         "Casa e Mobílias"
        ],
        [
         "36",
         "Casa e Mobílias"
        ],
        [
         "37",
         "Roupas, Calçados e Acessórios"
        ],
        [
         "38",
         "Roupas, Calçados e Acessórios"
        ],
        [
         "39",
         "Ferramentas e Construção"
        ],
        [
         "40",
         "Roupas, Calçados e Acessórios"
        ],
        [
         "41",
         "Roupas, Calçados e Acessórios"
        ],
        [
         "42",
         "Roupas, Calçados e Acessórios"
        ],
        [
         "43",
         "Roupas, Calçados e Acessórios"
        ],
        [
         "44",
         "Ferramentas e Construção"
        ],
        [
         "45",
         "Ferramentas e Construção"
        ],
        [
         "46",
         "Alimentos e Bebidas"
        ],
        [
         "47",
         "Roupas, Calçados e Acessórios"
        ],
        [
         "48",
         "Eletrônicos"
        ],
        [
         "49",
         "Alimentos e Bebidas"
        ]
       ],
       "shape": {
        "columns": 1,
        "rows": 200000
       }
      },
      "text/plain": [
       "0              Ferramentas e Construção\n",
       "1                   Alimentos e Bebidas\n",
       "2                           Eletrônicos\n",
       "3                           Eletrônicos\n",
       "4                Papelaria e Escritório\n",
       "                      ...              \n",
       "199995                      Eletrônicos\n",
       "199996                      Eletrônicos\n",
       "199997    Roupas, Calçados e Acessórios\n",
       "199998              Alimentos e Bebidas\n",
       "199999       Beleza e Cuidados Pessoais\n",
       "Name: categoria_produto, Length: 200000, dtype: object"
      ]
     },
     "execution_count": 11,
     "metadata": {},
     "output_type": "execute_result"
    }
   ],
   "source": [
    "df['categoria_produto']"
   ]
  },
  {
   "cell_type": "code",
   "execution_count": 12,
   "metadata": {
    "id": "mRvVjeIXiurJ"
   },
   "outputs": [
    {
     "data": {
      "text/plain": [
       "array(['Ferramentas e Construção', 'Alimentos e Bebidas', 'Eletrônicos',\n",
       "       'Papelaria e Escritório', 'Beleza e Cuidados Pessoais',\n",
       "       'Casa e Mobílias', 'Roupas, Calçados e Acessórios', 'Livros',\n",
       "       'Brinquedos', 'Esporte e Lazer'], dtype=object)"
      ]
     },
     "execution_count": 12,
     "metadata": {},
     "output_type": "execute_result"
    }
   ],
   "source": [
    "df['categoria_produto'].unique()"
   ]
  },
  {
   "cell_type": "code",
   "execution_count": 13,
   "metadata": {
    "id": "j4xzQ4h-iuj-"
   },
   "outputs": [
    {
     "data": {
      "application/vnd.microsoft.datawrangler.viewer.v0+json": {
       "columns": [
        {
         "name": "categoria_produto",
         "rawType": "object",
         "type": "string"
        },
        {
         "name": "count",
         "rawType": "int64",
         "type": "integer"
        }
       ],
       "ref": "b579ecd7-5dbc-4384-992a-4b954d55654d",
       "rows": [
        [
         "Eletrônicos",
         "36060"
        ],
        [
         "Roupas, Calçados e Acessórios",
         "27917"
        ],
        [
         "Casa e Mobílias",
         "26015"
        ],
        [
         "Beleza e Cuidados Pessoais",
         "22026"
        ],
        [
         "Esporte e Lazer",
         "19939"
        ],
        [
         "Alimentos e Bebidas",
         "18022"
        ],
        [
         "Papelaria e Escritório",
         "13936"
        ],
        [
         "Livros",
         "13790"
        ],
        [
         "Ferramentas e Construção",
         "12063"
        ],
        [
         "Brinquedos",
         "10232"
        ]
       ],
       "shape": {
        "columns": 1,
        "rows": 10
       }
      },
      "text/plain": [
       "categoria_produto\n",
       "Eletrônicos                      36060\n",
       "Roupas, Calçados e Acessórios    27917\n",
       "Casa e Mobílias                  26015\n",
       "Beleza e Cuidados Pessoais       22026\n",
       "Esporte e Lazer                  19939\n",
       "Alimentos e Bebidas              18022\n",
       "Papelaria e Escritório           13936\n",
       "Livros                           13790\n",
       "Ferramentas e Construção         12063\n",
       "Brinquedos                       10232\n",
       "Name: count, dtype: int64"
      ]
     },
     "execution_count": 13,
     "metadata": {},
     "output_type": "execute_result"
    }
   ],
   "source": [
    "df['categoria_produto'].value_counts()"
   ]
  },
  {
   "cell_type": "code",
   "execution_count": 14,
   "metadata": {
    "id": "BvkcjXKxiueq"
   },
   "outputs": [],
   "source": [
    "produtos = df['categoria_produto'].value_counts().reset_index()"
   ]
  },
  {
   "cell_type": "code",
   "execution_count": 15,
   "metadata": {},
   "outputs": [
    {
     "data": {
      "image/png": "[encoded data removed]",
      "text/plain": [
       "<Figure size 640x480 with 1 Axes>"
      ]
     },
     "metadata": {},
     "output_type": "display_data"
    }
   ],
   "source": [
    "import matplotlib.pyplot as plt\n",
    "plt.barh(produtos['categoria_produto'],produtos['count'])\n",
    "plt.show()"
   ]
  },
  {
   "cell_type": "markdown",
   "metadata": {
    "id": "Esn8ePB_abtg"
   },
   "source": [
    "Olha só! Apenas analisando uma única coluna já podemos extrair uma informação bem relevante sobre os registros de venda por categoria.\n",
    "\n",
    "Vamos na sequência analisar e aprender como utilizar uma **variável qualitativa ordinal** deixando-a preparada em nossa base."
   ]
  },
  {
   "cell_type": "markdown",
   "metadata": {
    "id": "eUBRumYDo7Hu"
   },
   "source": [
    "## **1.3 Manipulando dados qualitativos ordinais**\n",
    "\n",
    "---"
   ]
  },
  {
   "cell_type": "markdown",
   "metadata": {
    "id": "pWte-bp4Jysp"
   },
   "source": [
    "A gente já observou anteriormente os diferentes tipos de variáveis e começamos a entender como analisar os dados categóricos de uma base.\n",
    "\n",
    "Uma variável bem interessante em nossa base é a `avaliacao` do produto. Mesmo com dados numéricos, pode ser interpretada como uma variável qualitativa, pois as notas representam uma ordem relacionada a satisfação do cliente. Partindo do Péssimo (nota 1) ao Ótimo (nota 5)."
   ]
  },
  {
   "cell_type": "code",
   "execution_count": 16,
   "metadata": {
    "id": "BvU1nTZzjhZF"
   },
   "outputs": [
    {
     "data": {
      "text/plain": [
       "[np.int64(1), np.int64(2), np.int64(3), np.int64(4), np.int64(5)]"
      ]
     },
     "execution_count": 16,
     "metadata": {},
     "output_type": "execute_result"
    }
   ],
   "source": [
    "sorted(df['avaliacao'].unique())"
   ]
  },
  {
   "cell_type": "code",
   "execution_count": 17,
   "metadata": {
    "id": "QN7LFlcIjhSJ"
   },
   "outputs": [],
   "source": [
    "df['avaliacao_indicador'] = pd.Categorical(df['avaliacao'],\n",
    "                                            categories=[1, 2, 3, 4, 5],\n",
    "                                            ordered=True)"
   ]
  },
  {
   "cell_type": "code",
   "execution_count": 18,
   "metadata": {
    "id": "--a0wfacjhNr"
   },
   "outputs": [],
   "source": [
    "avaliacao_labels = {1: 'Péssima',\n",
    "                    2: 'Ruim',\n",
    "                    3: 'Regular',\n",
    "                    4: 'Boa',\n",
    "                    5: 'Ótima'\n",
    "}\n",
    "df['avaliacao_indicador'] = df['avaliacao_indicador'].map(avaliacao_labels)"
   ]
  },
  {
   "cell_type": "code",
   "execution_count": 19,
   "metadata": {
    "id": "M9Bm5T5PkcXh"
   },
   "outputs": [
    {
     "data": {
      "application/vnd.microsoft.datawrangler.viewer.v0+json": {
       "columns": [
        {
         "name": "index",
         "rawType": "int64",
         "type": "integer"
        },
        {
         "name": "id_compra",
         "rawType": "object",
         "type": "string"
        },
        {
         "name": "sexo_biologico",
         "rawType": "object",
         "type": "string"
        },
        {
         "name": "idade_cliente",
         "rawType": "int64",
         "type": "integer"
        },
        {
         "name": "regiao_cliente",
         "rawType": "object",
         "type": "string"
        },
        {
         "name": "categoria_produto",
         "rawType": "object",
         "type": "string"
        },
        {
         "name": "preco_unitario",
         "rawType": "float64",
         "type": "float"
        },
        {
         "name": "quantidade",
         "rawType": "int64",
         "type": "integer"
        },
        {
         "name": "total_compra",
         "rawType": "float64",
         "type": "float"
        },
        {
         "name": "tempo_entrega",
         "rawType": "int64",
         "type": "integer"
        },
        {
         "name": "avaliacao",
         "rawType": "int64",
         "type": "integer"
        },
        {
         "name": "avaliacao_indicador",
         "rawType": "category",
         "type": "unknown"
        }
       ],
       "ref": "72f0cf30-7acf-4da7-888f-d416d23979b1",
       "rows": [
        [
         "0",
         "9f86e969-221a-4b1a-9b48-9aba719b61cf",
         "Masculino",
         "33",
         "Sul",
         "Ferramentas e Construção",
         "96.8",
         "2",
         "193.6",
         "18",
         "1",
         "Péssima"
        ],
        [
         "1",
         "659f9b07-be10-4849-b2ab-dd542498a1e8",
         "Feminino",
         "33",
         "Nordeste",
         "Alimentos e Bebidas",
         "247.68",
         "1",
         "247.68",
         "6",
         "4",
         "Boa"
        ],
        [
         "2",
         "d317d7df-1126-42e5-bf4b-0e178bd4e14e",
         "Feminino",
         "36",
         "Sudeste",
         "Eletrônicos",
         "627.46",
         "2",
         "1254.92",
         "8",
         "5",
         "Ótima"
        ],
        [
         "3",
         "bb99bcf6-b333-493e-9ec2-c39f8695503c",
         "Feminino",
         "21",
         "Sul",
         "Eletrônicos",
         "2025.07",
         "8",
         "16200.56",
         "6",
         "5",
         "Ótima"
        ],
        [
         "4",
         "898e4624-84e9-4c41-b181-66d3b7ccfef7",
         "Masculino",
         "31",
         "Centro-Oeste",
         "Papelaria e Escritório",
         "99.24",
         "5",
         "496.2",
         "13",
         "5",
         "Ótima"
        ]
       ],
       "shape": {
        "columns": 11,
        "rows": 5
       }
      },
      "text/html": [
       "<div>\n",
       "<style scoped>\n",
       "    .dataframe tbody tr th:only-of-type {\n",
       "        vertical-align: middle;\n",
       "    }\n",
       "\n",
       "    .dataframe tbody tr th {\n",
       "        vertical-align: top;\n",
       "    }\n",
       "\n",
       "    .dataframe thead th {\n",
       "        text-align: right;\n",
       "    }\n",
       "</style>\n",
       "<table border=\"1\" class=\"dataframe\">\n",
       "  <thead>\n",
       "    <tr style=\"text-align: right;\">\n",
       "      <th></th>\n",
       "      <th>id_compra</th>\n",
       "      <th>sexo_biologico</th>\n",
       "      <th>idade_cliente</th>\n",
       "      <th>regiao_cliente</th>\n",
       "      <th>categoria_produto</th>\n",
       "      <th>preco_unitario</th>\n",
       "      <th>quantidade</th>\n",
       "      <th>total_compra</th>\n",
       "      <th>tempo_entrega</th>\n",
       "      <th>avaliacao</th>\n",
       "      <th>avaliacao_indicador</th>\n",
       "    </tr>\n",
       "  </thead>\n",
       "  <tbody>\n",
       "    <tr>\n",
       "      <th>0</th>\n",
       "      <td>9f86e969-221a-4b1a-9b48-9aba719b61cf</td>\n",
       "      <td>Masculino</td>\n",
       "      <td>33</td>\n",
       "      <td>Sul</td>\n",
       "      <td>Ferramentas e Construção</td>\n",
       "      <td>96.80</td>\n",
       "      <td>2</td>\n",
       "      <td>193.60</td>\n",
       "      <td>18</td>\n",
       "      <td>1</td>\n",
       "      <td>Péssima</td>\n",
       "    </tr>\n",
       "    <tr>\n",
       "      <th>1</th>\n",
       "      <td>659f9b07-be10-4849-b2ab-dd542498a1e8</td>\n",
       "      <td>Feminino</td>\n",
       "      <td>33</td>\n",
       "      <td>Nordeste</td>\n",
       "      <td>Alimentos e Bebidas</td>\n",
       "      <td>247.68</td>\n",
       "      <td>1</td>\n",
       "      <td>247.68</td>\n",
       "      <td>6</td>\n",
       "      <td>4</td>\n",
       "      <td>Boa</td>\n",
       "    </tr>\n",
       "    <tr>\n",
       "      <th>2</th>\n",
       "      <td>d317d7df-1126-42e5-bf4b-0e178bd4e14e</td>\n",
       "      <td>Feminino</td>\n",
       "      <td>36</td>\n",
       "      <td>Sudeste</td>\n",
       "      <td>Eletrônicos</td>\n",
       "      <td>627.46</td>\n",
       "      <td>2</td>\n",
       "      <td>1254.92</td>\n",
       "      <td>8</td>\n",
       "      <td>5</td>\n",
       "      <td>Ótima</td>\n",
       "    </tr>\n",
       "    <tr>\n",
       "      <th>3</th>\n",
       "      <td>bb99bcf6-b333-493e-9ec2-c39f8695503c</td>\n",
       "      <td>Feminino</td>\n",
       "      <td>21</td>\n",
       "      <td>Sul</td>\n",
       "      <td>Eletrônicos</td>\n",
       "      <td>2025.07</td>\n",
       "      <td>8</td>\n",
       "      <td>16200.56</td>\n",
       "      <td>6</td>\n",
       "      <td>5</td>\n",
       "      <td>Ótima</td>\n",
       "    </tr>\n",
       "    <tr>\n",
       "      <th>4</th>\n",
       "      <td>898e4624-84e9-4c41-b181-66d3b7ccfef7</td>\n",
       "      <td>Masculino</td>\n",
       "      <td>31</td>\n",
       "      <td>Centro-Oeste</td>\n",
       "      <td>Papelaria e Escritório</td>\n",
       "      <td>99.24</td>\n",
       "      <td>5</td>\n",
       "      <td>496.20</td>\n",
       "      <td>13</td>\n",
       "      <td>5</td>\n",
       "      <td>Ótima</td>\n",
       "    </tr>\n",
       "  </tbody>\n",
       "</table>\n",
       "</div>"
      ],
      "text/plain": [
       "                              id_compra sexo_biologico  idade_cliente  \\\n",
       "0  9f86e969-221a-4b1a-9b48-9aba719b61cf      Masculino             33   \n",
       "1  659f9b07-be10-4849-b2ab-dd542498a1e8       Feminino             33   \n",
       "2  d317d7df-1126-42e5-bf4b-0e178bd4e14e       Feminino             36   \n",
       "3  bb99bcf6-b333-493e-9ec2-c39f8695503c       Feminino             21   \n",
       "4  898e4624-84e9-4c41-b181-66d3b7ccfef7      Masculino             31   \n",
       "\n",
       "  regiao_cliente         categoria_produto  preco_unitario  quantidade  \\\n",
       "0            Sul  Ferramentas e Construção           96.80           2   \n",
       "1       Nordeste       Alimentos e Bebidas          247.68           1   \n",
       "2        Sudeste               Eletrônicos          627.46           2   \n",
       "3            Sul               Eletrônicos         2025.07           8   \n",
       "4   Centro-Oeste    Papelaria e Escritório           99.24           5   \n",
       "\n",
       "   total_compra  tempo_entrega  avaliacao avaliacao_indicador  \n",
       "0        193.60             18          1             Péssima  \n",
       "1        247.68              6          4                 Boa  \n",
       "2       1254.92              8          5               Ótima  \n",
       "3      16200.56              6          5               Ótima  \n",
       "4        496.20             13          5               Ótima  "
      ]
     },
     "execution_count": 19,
     "metadata": {},
     "output_type": "execute_result"
    }
   ],
   "source": [
    "df.head()"
   ]
  },
  {
   "cell_type": "code",
   "execution_count": 20,
   "metadata": {
    "id": "F6dzuzZwlPfE"
   },
   "outputs": [
    {
     "data": {
      "application/vnd.microsoft.datawrangler.viewer.v0+json": {
       "columns": [
        {
         "name": "index",
         "rawType": "int64",
         "type": "integer"
        },
        {
         "name": "avaliacao",
         "rawType": "int64",
         "type": "integer"
        },
        {
         "name": "avaliacao_indicador",
         "rawType": "category",
         "type": "unknown"
        }
       ],
       "ref": "2c87d335-ee97-4024-a52c-ff31335d59af",
       "rows": [
        [
         "0",
         "1",
         "Péssima"
        ],
        [
         "14",
         "2",
         "Ruim"
        ],
        [
         "8",
         "3",
         "Regular"
        ],
        [
         "1",
         "4",
         "Boa"
        ],
        [
         "2",
         "5",
         "Ótima"
        ]
       ],
       "shape": {
        "columns": 2,
        "rows": 5
       }
      },
      "text/html": [
       "<div>\n",
       "<style scoped>\n",
       "    .dataframe tbody tr th:only-of-type {\n",
       "        vertical-align: middle;\n",
       "    }\n",
       "\n",
       "    .dataframe tbody tr th {\n",
       "        vertical-align: top;\n",
       "    }\n",
       "\n",
       "    .dataframe thead th {\n",
       "        text-align: right;\n",
       "    }\n",
       "</style>\n",
       "<table border=\"1\" class=\"dataframe\">\n",
       "  <thead>\n",
       "    <tr style=\"text-align: right;\">\n",
       "      <th></th>\n",
       "      <th>avaliacao</th>\n",
       "      <th>avaliacao_indicador</th>\n",
       "    </tr>\n",
       "  </thead>\n",
       "  <tbody>\n",
       "    <tr>\n",
       "      <th>0</th>\n",
       "      <td>1</td>\n",
       "      <td>Péssima</td>\n",
       "    </tr>\n",
       "    <tr>\n",
       "      <th>14</th>\n",
       "      <td>2</td>\n",
       "      <td>Ruim</td>\n",
       "    </tr>\n",
       "    <tr>\n",
       "      <th>8</th>\n",
       "      <td>3</td>\n",
       "      <td>Regular</td>\n",
       "    </tr>\n",
       "    <tr>\n",
       "      <th>1</th>\n",
       "      <td>4</td>\n",
       "      <td>Boa</td>\n",
       "    </tr>\n",
       "    <tr>\n",
       "      <th>2</th>\n",
       "      <td>5</td>\n",
       "      <td>Ótima</td>\n",
       "    </tr>\n",
       "  </tbody>\n",
       "</table>\n",
       "</div>"
      ],
      "text/plain": [
       "    avaliacao avaliacao_indicador\n",
       "0           1             Péssima\n",
       "14          2                Ruim\n",
       "8           3             Regular\n",
       "1           4                 Boa\n",
       "2           5               Ótima"
      ]
     },
     "execution_count": 20,
     "metadata": {},
     "output_type": "execute_result"
    }
   ],
   "source": [
    "df_unico = df[['avaliacao', 'avaliacao_indicador']].drop_duplicates().sort_values(by='avaliacao_indicador').copy()\n",
    "df_unico"
   ]
  },
  {
   "cell_type": "code",
   "execution_count": null,
   "metadata": {
    "id": "Cc9LnoqUjjwp"
   },
   "outputs": [],
   "source": []
  },
  {
   "cell_type": "markdown",
   "metadata": {
    "id": "t9YXItFpJ6R6"
   },
   "source": [
    "Passando por alguns exemplos de variáveis qualitativas em nosso dado. Mas que tal analisarmos também os diferentes dados numéricos?"
   ]
  },
  {
   "cell_type": "markdown",
   "metadata": {
    "id": "PjCs3WacJ8xh"
   },
   "source": [
    "## **1.4 Diferenciando dados discretos de contínuos**\n",
    "\n",
    "---"
   ]
  },
  {
   "cell_type": "markdown",
   "metadata": {
    "id": "0J7x2jptJ-va"
   },
   "source": [
    "Temos alguns dados numéricos em nossa base de dados. Mas cada variável  tem a sua forma de ser analisada. Algumas delas até com possibilidades de serem encaixadas em 2 ou mais subdivisões."
   ]
  },
  {
   "cell_type": "code",
   "execution_count": 21,
   "metadata": {
    "id": "gk_La5MGjcS9"
   },
   "outputs": [
    {
     "data": {
      "text/plain": [
       "array([ 2,  1,  8,  5,  3,  7,  6,  4, 10,  9])"
      ]
     },
     "execution_count": 21,
     "metadata": {},
     "output_type": "execute_result"
    }
   ],
   "source": [
    "df['quantidade'].unique()"
   ]
  },
  {
   "cell_type": "code",
   "execution_count": 22,
   "metadata": {
    "id": "_i1Q4Oaojb_3"
   },
   "outputs": [
    {
     "name": "stdout",
     "output_type": "stream",
     "text": [
      "Vendemos de 1 até 10 unidades de produto por registro\n"
     ]
    }
   ],
   "source": [
    "print(f\"Vendemos de {min(df['quantidade'])} até {max(df['quantidade'])} unidades de produto por registro\")"
   ]
  },
  {
   "cell_type": "code",
   "execution_count": 23,
   "metadata": {
    "id": "ZApQiQUujb7D"
   },
   "outputs": [
    {
     "data": {
      "text/plain": [
       "array([  193.6 ,   247.68,  1254.92, ..., 13183.8 ,  1666.33,  1193.03],\n",
       "      shape=(141854,))"
      ]
     },
     "execution_count": 23,
     "metadata": {},
     "output_type": "execute_result"
    }
   ],
   "source": [
    "df['total_compra'].unique()"
   ]
  },
  {
   "cell_type": "code",
   "execution_count": 24,
   "metadata": {
    "id": "I-zXWVt0jb2Q"
   },
   "outputs": [
    {
     "name": "stdout",
     "output_type": "stream",
     "text": [
      "Tivemos vendas a partir de R$ 5.05 até R$ 20,744.70\n"
     ]
    }
   ],
   "source": [
    "print(f\"Tivemos vendas a partir de R$ {min(df['total_compra']):,.2f} até R$ {max(df['total_compra']):,.2f}\")"
   ]
  },
  {
   "cell_type": "code",
   "execution_count": 25,
   "metadata": {
    "id": "IAGw2SkQjeY2"
   },
   "outputs": [
    {
     "data": {
      "application/vnd.microsoft.datawrangler.viewer.v0+json": {
       "columns": [
        {
         "name": "index",
         "rawType": "int64",
         "type": "integer"
        },
        {
         "name": "id_compra",
         "rawType": "object",
         "type": "string"
        },
        {
         "name": "sexo_biologico",
         "rawType": "object",
         "type": "string"
        },
        {
         "name": "idade_cliente",
         "rawType": "int64",
         "type": "integer"
        },
        {
         "name": "regiao_cliente",
         "rawType": "object",
         "type": "string"
        },
        {
         "name": "categoria_produto",
         "rawType": "object",
         "type": "string"
        },
        {
         "name": "preco_unitario",
         "rawType": "float64",
         "type": "float"
        },
        {
         "name": "quantidade",
         "rawType": "int64",
         "type": "integer"
        },
        {
         "name": "total_compra",
         "rawType": "float64",
         "type": "float"
        },
        {
         "name": "tempo_entrega",
         "rawType": "int64",
         "type": "integer"
        },
        {
         "name": "avaliacao",
         "rawType": "int64",
         "type": "integer"
        },
        {
         "name": "avaliacao_indicador",
         "rawType": "category",
         "type": "unknown"
        }
       ],
       "ref": "4d6694b0-649b-4e90-b623-f023024c055e",
       "rows": [
        [
         "157075",
         "b866504d-9fe1-4c75-8956-decf7f25dd75",
         "Masculino",
         "35",
         "Sudeste",
         "Papelaria e Escritório",
         "5.05",
         "1",
         "5.05",
         "13",
         "4",
         "Boa"
        ],
        [
         "4562",
         "5a66b58a-2ab0-49c3-b597-f45846130ded",
         "Feminino",
         "37",
         "Norte",
         "Papelaria e Escritório",
         "5.14",
         "1",
         "5.14",
         "11",
         "2",
         "Ruim"
        ],
        [
         "6279",
         "c67e996c-403c-4f58-81c5-996c1ab676a5",
         "Masculino",
         "34",
         "Sul",
         "Papelaria e Escritório",
         "5.28",
         "1",
         "5.28",
         "7",
         "3",
         "Regular"
        ],
        [
         "50155",
         "e7ad75b4-6a0e-4609-801c-ef12adeb837a",
         "Masculino",
         "55",
         "Sudeste",
         "Papelaria e Escritório",
         "5.35",
         "1",
         "5.35",
         "11",
         "5",
         "Ótima"
        ],
        [
         "85703",
         "ed88c6a2-2fdd-4278-bfa8-fd54f7e2f357",
         "Feminino",
         "42",
         "Centro-Oeste",
         "Papelaria e Escritório",
         "5.78",
         "1",
         "5.78",
         "16",
         "4",
         "Boa"
        ],
        [
         "165443",
         "fee549a3-42b3-49f5-8636-3210ac9888a1",
         "Feminino",
         "20",
         "Nordeste",
         "Papelaria e Escritório",
         "5.84",
         "1",
         "5.84",
         "8",
         "4",
         "Boa"
        ],
        [
         "73634",
         "0a992629-3125-4b06-b341-cadfcff23564",
         "Feminino",
         "33",
         "Centro-Oeste",
         "Papelaria e Escritório",
         "5.9",
         "1",
         "5.9",
         "17",
         "2",
         "Ruim"
        ],
        [
         "155639",
         "2d3ecd21-a386-44f1-a817-cf79fd6f6f98",
         "Masculino",
         "35",
         "Sul",
         "Papelaria e Escritório",
         "6.18",
         "1",
         "6.18",
         "14",
         "3",
         "Regular"
        ],
        [
         "80463",
         "67f3033b-f4ca-4960-8c8a-988d71cee1c0",
         "Masculino",
         "35",
         "Sudeste",
         "Papelaria e Escritório",
         "6.29",
         "1",
         "6.29",
         "11",
         "2",
         "Ruim"
        ],
        [
         "91959",
         "6744d064-d450-49b1-bb4a-4dc18a3fc65d",
         "Feminino",
         "40",
         "Nordeste",
         "Papelaria e Escritório",
         "6.37",
         "1",
         "6.37",
         "13",
         "1",
         "Péssima"
        ],
        [
         "49269",
         "6777b33c-d9da-458b-9ed2-21eb25eee0cd",
         "Feminino",
         "35",
         "Centro-Oeste",
         "Papelaria e Escritório",
         "6.78",
         "1",
         "6.78",
         "13",
         "4",
         "Boa"
        ],
        [
         "177970",
         "9bf7d238-0f11-4dbc-a202-699c350d41e7",
         "Masculino",
         "41",
         "Sudeste",
         "Papelaria e Escritório",
         "6.78",
         "1",
         "6.78",
         "9",
         "4",
         "Boa"
        ],
        [
         "65457",
         "9dd242f8-16ae-43e8-860f-03772ac71183",
         "Feminino",
         "22",
         "Nordeste",
         "Papelaria e Escritório",
         "6.9",
         "1",
         "6.9",
         "9",
         "3",
         "Regular"
        ],
        [
         "195100",
         "188417c7-27f7-4b93-b60f-20114829377e",
         "Feminino",
         "34",
         "Nordeste",
         "Papelaria e Escritório",
         "7.04",
         "1",
         "7.04",
         "10",
         "4",
         "Boa"
        ],
        [
         "149738",
         "ecd6a648-5521-49a9-a314-c58fbd479b39",
         "Feminino",
         "28",
         "Centro-Oeste",
         "Papelaria e Escritório",
         "7.07",
         "1",
         "7.07",
         "12",
         "1",
         "Péssima"
        ],
        [
         "128309",
         "37ce0d09-e13b-4407-8c90-d94def2dbd1b",
         "Masculino",
         "43",
         "Sudeste",
         "Papelaria e Escritório",
         "7.11",
         "1",
         "7.11",
         "8",
         "3",
         "Regular"
        ],
        [
         "180671",
         "ae79cad7-3804-41cd-83af-37679f88623b",
         "Feminino",
         "32",
         "Norte",
         "Papelaria e Escritório",
         "7.22",
         "1",
         "7.22",
         "8",
         "1",
         "Péssima"
        ],
        [
         "194258",
         "6619e13b-d46f-4dd2-96da-d12bcfeb56e4",
         "Masculino",
         "31",
         "Sudeste",
         "Papelaria e Escritório",
         "7.35",
         "1",
         "7.35",
         "11",
         "3",
         "Regular"
        ],
        [
         "51229",
         "fedd7929-3550-42b0-9bed-f78fe901df1e",
         "Masculino",
         "15",
         "Norte",
         "Papelaria e Escritório",
         "7.66",
         "1",
         "7.66",
         "9",
         "1",
         "Péssima"
        ],
        [
         "131316",
         "9fa57d26-30cc-488b-9ecf-f9c4d2ffe9ff",
         "Feminino",
         "27",
         "Centro-Oeste",
         "Papelaria e Escritório",
         "8.09",
         "1",
         "8.09",
         "11",
         "3",
         "Regular"
        ],
        [
         "26827",
         "9be5561a-1544-4e2c-b496-45dfaf1ae7d8",
         "Masculino",
         "41",
         "Sudeste",
         "Papelaria e Escritório",
         "8.18",
         "1",
         "8.18",
         "10",
         "1",
         "Péssima"
        ],
        [
         "99904",
         "42322b70-6b9c-41aa-99fa-5caa17e6811f",
         "Masculino",
         "37",
         "Sul",
         "Papelaria e Escritório",
         "8.2",
         "1",
         "8.2",
         "11",
         "3",
         "Regular"
        ],
        [
         "4224",
         "7aa34880-50bc-4a32-8d5c-4c7744092e47",
         "Feminino",
         "22",
         "Centro-Oeste",
         "Papelaria e Escritório",
         "8.21",
         "1",
         "8.21",
         "14",
         "5",
         "Ótima"
        ],
        [
         "136138",
         "69afd798-7a64-461e-a124-3217ccb6df00",
         "Masculino",
         "26",
         "Sudeste",
         "Papelaria e Escritório",
         "8.24",
         "1",
         "8.24",
         "11",
         "2",
         "Ruim"
        ],
        [
         "107572",
         "4cdd1857-a564-480f-91b6-aee9cc431c5f",
         "Feminino",
         "40",
         "Nordeste",
         "Papelaria e Escritório",
         "8.34",
         "1",
         "8.34",
         "9",
         "5",
         "Ótima"
        ],
        [
         "22728",
         "4a69b5e7-9be8-420d-9d0a-c84abcbd6eed",
         "Masculino",
         "30",
         "Sudeste",
         "Papelaria e Escritório",
         "8.9",
         "1",
         "8.9",
         "5",
         "5",
         "Ótima"
        ],
        [
         "72898",
         "3068f2f1-280d-4161-9283-e1131d38dbf8",
         "Masculino",
         "32",
         "Sul",
         "Papelaria e Escritório",
         "9.12",
         "1",
         "9.12",
         "18",
         "1",
         "Péssima"
        ],
        [
         "55565",
         "6539e099-84ce-43b9-9b88-6b5b8201ed04",
         "Masculino",
         "27",
         "Sudeste",
         "Papelaria e Escritório",
         "9.22",
         "1",
         "9.22",
         "8",
         "5",
         "Ótima"
        ],
        [
         "39785",
         "4059c335-96a2-4c67-b6fb-eccbcb3db0bc",
         "Masculino",
         "33",
         "Sudeste",
         "Papelaria e Escritório",
         "9.24",
         "1",
         "9.24",
         "8",
         "5",
         "Ótima"
        ],
        [
         "189216",
         "99a11f91-a392-4538-9200-91f8b50e9d5f",
         "Feminino",
         "36",
         "Centro-Oeste",
         "Papelaria e Escritório",
         "9.27",
         "1",
         "9.27",
         "13",
         "1",
         "Péssima"
        ],
        [
         "150520",
         "73a61677-51ae-4945-8cb3-3732a74d06c4",
         "Feminino",
         "34",
         "Nordeste",
         "Papelaria e Escritório",
         "9.3",
         "1",
         "9.3",
         "9",
         "4",
         "Boa"
        ],
        [
         "99879",
         "685b5cf9-61e3-4b72-8ff5-d861b3bcf6b3",
         "Masculino",
         "45",
         "Sudeste",
         "Papelaria e Escritório",
         "9.4",
         "1",
         "9.4",
         "14",
         "3",
         "Regular"
        ],
        [
         "33148",
         "5f793ca0-1f5c-4f51-be1c-61f99d09ab87",
         "Masculino",
         "32",
         "Sudeste",
         "Papelaria e Escritório",
         "9.49",
         "1",
         "9.49",
         "10",
         "5",
         "Ótima"
        ],
        [
         "28678",
         "8967884c-4111-4b2c-9ba7-39e7d66f847a",
         "Feminino",
         "20",
         "Centro-Oeste",
         "Beleza e Cuidados Pessoais",
         "10.07",
         "1",
         "10.07",
         "8",
         "5",
         "Ótima"
        ],
        [
         "123469",
         "0c93301a-6f2c-4c76-a799-a12be233ffac",
         "Masculino",
         "45",
         "Norte",
         "Papelaria e Escritório",
         "10.07",
         "1",
         "10.07",
         "13",
         "1",
         "Péssima"
        ],
        [
         "67687",
         "1dcf18c1-6df2-4fc6-b7a0-bd2f6cece8ea",
         "Masculino",
         "32",
         "Norte",
         "Beleza e Cuidados Pessoais",
         "10.11",
         "1",
         "10.11",
         "14",
         "4",
         "Boa"
        ],
        [
         "182670",
         "2bf1809f-cf89-45ca-b108-49a0ec6e1b97",
         "Masculino",
         "36",
         "Sudeste",
         "Papelaria e Escritório",
         "10.11",
         "1",
         "10.11",
         "13",
         "1",
         "Péssima"
        ],
        [
         "12394",
         "5a2ac075-b5a0-4c8c-ad57-91b06de80315",
         "Feminino",
         "29",
         "Centro-Oeste",
         "Beleza e Cuidados Pessoais",
         "10.11",
         "1",
         "10.11",
         "9",
         "1",
         "Péssima"
        ],
        [
         "157246",
         "112a12df-120b-4134-b23b-ef334868564d",
         "Feminino",
         "23",
         "Centro-Oeste",
         "Alimentos e Bebidas",
         "10.14",
         "1",
         "10.14",
         "11",
         "1",
         "Péssima"
        ],
        [
         "188212",
         "f27367ad-442c-4001-a6c7-4c5ad2a4ffd3",
         "Masculino",
         "27",
         "Sul",
         "Beleza e Cuidados Pessoais",
         "10.2",
         "1",
         "10.2",
         "11",
         "1",
         "Péssima"
        ],
        [
         "90271",
         "40b3e0a0-d0fc-48d9-8143-3a6ca611f572",
         "Masculino",
         "29",
         "Sudeste",
         "Beleza e Cuidados Pessoais",
         "10.23",
         "1",
         "10.23",
         "10",
         "2",
         "Ruim"
        ],
        [
         "13571",
         "a550a4fa-3890-4ab9-9c62-e97ff889e8bd",
         "Masculino",
         "30",
         "Sudeste",
         "Alimentos e Bebidas",
         "10.25",
         "1",
         "10.25",
         "4",
         "4",
         "Boa"
        ],
        [
         "110755",
         "6770bfc4-f368-4f42-94d2-e3f45d3542ef",
         "Masculino",
         "26",
         "Sudeste",
         "Beleza e Cuidados Pessoais",
         "10.26",
         "1",
         "10.26",
         "11",
         "2",
         "Ruim"
        ],
        [
         "180451",
         "b13f8899-12e1-4c21-b23f-e1156f012ee1",
         "Masculino",
         "32",
         "Sul",
         "Papelaria e Escritório",
         "10.31",
         "1",
         "10.31",
         "9",
         "2",
         "Ruim"
        ],
        [
         "8340",
         "eafed1ec-29fb-423e-97ce-700ccf115e23",
         "Feminino",
         "26",
         "Nordeste",
         "Beleza e Cuidados Pessoais",
         "10.36",
         "1",
         "10.36",
         "7",
         "4",
         "Boa"
        ],
        [
         "14694",
         "aaac74d0-b6d6-48c0-b3b9-955a763d7af9",
         "Masculino",
         "35",
         "Sul",
         "Beleza e Cuidados Pessoais",
         "10.38",
         "1",
         "10.38",
         "7",
         "5",
         "Ótima"
        ],
        [
         "189010",
         "54c46352-d8ad-416f-b7ec-c37e135a0f04",
         "Feminino",
         "21",
         "Nordeste",
         "Esporte e Lazer",
         "10.39",
         "1",
         "10.39",
         "8",
         "5",
         "Ótima"
        ],
        [
         "175028",
         "86ba9bdf-2b27-4219-bf8e-e5e2021772d1",
         "Masculino",
         "26",
         "Sul",
         "Alimentos e Bebidas",
         "10.4",
         "1",
         "10.4",
         "9",
         "3",
         "Regular"
        ],
        [
         "187330",
         "19c4a565-1876-4c10-892d-071da1c0612a",
         "Feminino",
         "43",
         "Nordeste",
         "Beleza e Cuidados Pessoais",
         "10.41",
         "1",
         "10.41",
         "8",
         "3",
         "Regular"
        ],
        [
         "167648",
         "e512291f-7315-4473-8625-1dc11f1f6c26",
         "Feminino",
         "40",
         "Nordeste",
         "Beleza e Cuidados Pessoais",
         "10.43",
         "1",
         "10.43",
         "7",
         "5",
         "Ótima"
        ]
       ],
       "shape": {
        "columns": 11,
        "rows": 200000
       }
      },
      "text/html": [
       "<div>\n",
       "<style scoped>\n",
       "    .dataframe tbody tr th:only-of-type {\n",
       "        vertical-align: middle;\n",
       "    }\n",
       "\n",
       "    .dataframe tbody tr th {\n",
       "        vertical-align: top;\n",
       "    }\n",
       "\n",
       "    .dataframe thead th {\n",
       "        text-align: right;\n",
       "    }\n",
       "</style>\n",
       "<table border=\"1\" class=\"dataframe\">\n",
       "  <thead>\n",
       "    <tr style=\"text-align: right;\">\n",
       "      <th></th>\n",
       "      <th>id_compra</th>\n",
       "      <th>sexo_biologico</th>\n",
       "      <th>idade_cliente</th>\n",
       "      <th>regiao_cliente</th>\n",
       "      <th>categoria_produto</th>\n",
       "      <th>preco_unitario</th>\n",
       "      <th>quantidade</th>\n",
       "      <th>total_compra</th>\n",
       "      <th>tempo_entrega</th>\n",
       "      <th>avaliacao</th>\n",
       "      <th>avaliacao_indicador</th>\n",
       "    </tr>\n",
       "  </thead>\n",
       "  <tbody>\n",
       "    <tr>\n",
       "      <th>157075</th>\n",
       "      <td>b866504d-9fe1-4c75-8956-decf7f25dd75</td>\n",
       "      <td>Masculino</td>\n",
       "      <td>35</td>\n",
       "      <td>Sudeste</td>\n",
       "      <td>Papelaria e Escritório</td>\n",
       "      <td>5.05</td>\n",
       "      <td>1</td>\n",
       "      <td>5.05</td>\n",
       "      <td>13</td>\n",
       "      <td>4</td>\n",
       "      <td>Boa</td>\n",
       "    </tr>\n",
       "    <tr>\n",
       "      <th>4562</th>\n",
       "      <td>5a66b58a-2ab0-49c3-b597-f45846130ded</td>\n",
       "      <td>Feminino</td>\n",
       "      <td>37</td>\n",
       "      <td>Norte</td>\n",
       "      <td>Papelaria e Escritório</td>\n",
       "      <td>5.14</td>\n",
       "      <td>1</td>\n",
       "      <td>5.14</td>\n",
       "      <td>11</td>\n",
       "      <td>2</td>\n",
       "      <td>Ruim</td>\n",
       "    </tr>\n",
       "    <tr>\n",
       "      <th>6279</th>\n",
       "      <td>c67e996c-403c-4f58-81c5-996c1ab676a5</td>\n",
       "      <td>Masculino</td>\n",
       "      <td>34</td>\n",
       "      <td>Sul</td>\n",
       "      <td>Papelaria e Escritório</td>\n",
       "      <td>5.28</td>\n",
       "      <td>1</td>\n",
       "      <td>5.28</td>\n",
       "      <td>7</td>\n",
       "      <td>3</td>\n",
       "      <td>Regular</td>\n",
       "    </tr>\n",
       "    <tr>\n",
       "      <th>50155</th>\n",
       "      <td>e7ad75b4-6a0e-4609-801c-ef12adeb837a</td>\n",
       "      <td>Masculino</td>\n",
       "      <td>55</td>\n",
       "      <td>Sudeste</td>\n",
       "      <td>Papelaria e Escritório</td>\n",
       "      <td>5.35</td>\n",
       "      <td>1</td>\n",
       "      <td>5.35</td>\n",
       "      <td>11</td>\n",
       "      <td>5</td>\n",
       "      <td>Ótima</td>\n",
       "    </tr>\n",
       "    <tr>\n",
       "      <th>85703</th>\n",
       "      <td>ed88c6a2-2fdd-4278-bfa8-fd54f7e2f357</td>\n",
       "      <td>Feminino</td>\n",
       "      <td>42</td>\n",
       "      <td>Centro-Oeste</td>\n",
       "      <td>Papelaria e Escritório</td>\n",
       "      <td>5.78</td>\n",
       "      <td>1</td>\n",
       "      <td>5.78</td>\n",
       "      <td>16</td>\n",
       "      <td>4</td>\n",
       "      <td>Boa</td>\n",
       "    </tr>\n",
       "    <tr>\n",
       "      <th>...</th>\n",
       "      <td>...</td>\n",
       "      <td>...</td>\n",
       "      <td>...</td>\n",
       "      <td>...</td>\n",
       "      <td>...</td>\n",
       "      <td>...</td>\n",
       "      <td>...</td>\n",
       "      <td>...</td>\n",
       "      <td>...</td>\n",
       "      <td>...</td>\n",
       "      <td>...</td>\n",
       "    </tr>\n",
       "    <tr>\n",
       "      <th>88073</th>\n",
       "      <td>5f125e88-f01c-4499-9a25-c4910bc76dee</td>\n",
       "      <td>Masculino</td>\n",
       "      <td>39</td>\n",
       "      <td>Nordeste</td>\n",
       "      <td>Eletrônicos</td>\n",
       "      <td>2037.44</td>\n",
       "      <td>10</td>\n",
       "      <td>20374.40</td>\n",
       "      <td>7</td>\n",
       "      <td>2</td>\n",
       "      <td>Ruim</td>\n",
       "    </tr>\n",
       "    <tr>\n",
       "      <th>134287</th>\n",
       "      <td>2c3853dc-b9dc-400a-bd70-ff2521fe4d8a</td>\n",
       "      <td>Feminino</td>\n",
       "      <td>35</td>\n",
       "      <td>Sul</td>\n",
       "      <td>Eletrônicos</td>\n",
       "      <td>2057.76</td>\n",
       "      <td>10</td>\n",
       "      <td>20577.60</td>\n",
       "      <td>6</td>\n",
       "      <td>2</td>\n",
       "      <td>Ruim</td>\n",
       "    </tr>\n",
       "    <tr>\n",
       "      <th>17790</th>\n",
       "      <td>dbf2429a-3252-42df-ad4e-a11339afceb8</td>\n",
       "      <td>Feminino</td>\n",
       "      <td>33</td>\n",
       "      <td>Sudeste</td>\n",
       "      <td>Eletrônicos</td>\n",
       "      <td>2058.18</td>\n",
       "      <td>10</td>\n",
       "      <td>20581.80</td>\n",
       "      <td>4</td>\n",
       "      <td>5</td>\n",
       "      <td>Ótima</td>\n",
       "    </tr>\n",
       "    <tr>\n",
       "      <th>114561</th>\n",
       "      <td>dc3c4162-5772-480e-b7fa-0ccc41d78a40</td>\n",
       "      <td>Feminino</td>\n",
       "      <td>29</td>\n",
       "      <td>Sudeste</td>\n",
       "      <td>Eletrônicos</td>\n",
       "      <td>2058.77</td>\n",
       "      <td>10</td>\n",
       "      <td>20587.70</td>\n",
       "      <td>6</td>\n",
       "      <td>5</td>\n",
       "      <td>Ótima</td>\n",
       "    </tr>\n",
       "    <tr>\n",
       "      <th>108742</th>\n",
       "      <td>8c971cc6-964e-468d-86f8-1e6955887bd1</td>\n",
       "      <td>Feminino</td>\n",
       "      <td>28</td>\n",
       "      <td>Sudeste</td>\n",
       "      <td>Eletrônicos</td>\n",
       "      <td>2074.47</td>\n",
       "      <td>10</td>\n",
       "      <td>20744.70</td>\n",
       "      <td>11</td>\n",
       "      <td>1</td>\n",
       "      <td>Péssima</td>\n",
       "    </tr>\n",
       "  </tbody>\n",
       "</table>\n",
       "<p>200000 rows × 11 columns</p>\n",
       "</div>"
      ],
      "text/plain": [
       "                                   id_compra sexo_biologico  idade_cliente  \\\n",
       "157075  b866504d-9fe1-4c75-8956-decf7f25dd75      Masculino             35   \n",
       "4562    5a66b58a-2ab0-49c3-b597-f45846130ded       Feminino             37   \n",
       "6279    c67e996c-403c-4f58-81c5-996c1ab676a5      Masculino             34   \n",
       "50155   e7ad75b4-6a0e-4609-801c-ef12adeb837a      Masculino             55   \n",
       "85703   ed88c6a2-2fdd-4278-bfa8-fd54f7e2f357       Feminino             42   \n",
       "...                                      ...            ...            ...   \n",
       "88073   5f125e88-f01c-4499-9a25-c4910bc76dee      Masculino             39   \n",
       "134287  2c3853dc-b9dc-400a-bd70-ff2521fe4d8a       Feminino             35   \n",
       "17790   dbf2429a-3252-42df-ad4e-a11339afceb8       Feminino             33   \n",
       "114561  dc3c4162-5772-480e-b7fa-0ccc41d78a40       Feminino             29   \n",
       "108742  8c971cc6-964e-468d-86f8-1e6955887bd1       Feminino             28   \n",
       "\n",
       "       regiao_cliente       categoria_produto  preco_unitario  quantidade  \\\n",
       "157075        Sudeste  Papelaria e Escritório            5.05           1   \n",
       "4562            Norte  Papelaria e Escritório            5.14           1   \n",
       "6279              Sul  Papelaria e Escritório            5.28           1   \n",
       "50155         Sudeste  Papelaria e Escritório            5.35           1   \n",
       "85703    Centro-Oeste  Papelaria e Escritório            5.78           1   \n",
       "...               ...                     ...             ...         ...   \n",
       "88073        Nordeste             Eletrônicos         2037.44          10   \n",
       "134287            Sul             Eletrônicos         2057.76          10   \n",
       "17790         Sudeste             Eletrônicos         2058.18          10   \n",
       "114561        Sudeste             Eletrônicos         2058.77          10   \n",
       "108742        Sudeste             Eletrônicos         2074.47          10   \n",
       "\n",
       "        total_compra  tempo_entrega  avaliacao avaliacao_indicador  \n",
       "157075          5.05             13          4                 Boa  \n",
       "4562            5.14             11          2                Ruim  \n",
       "6279            5.28              7          3             Regular  \n",
       "50155           5.35             11          5               Ótima  \n",
       "85703           5.78             16          4                 Boa  \n",
       "...              ...            ...        ...                 ...  \n",
       "88073       20374.40              7          2                Ruim  \n",
       "134287      20577.60              6          2                Ruim  \n",
       "17790       20581.80              4          5               Ótima  \n",
       "114561      20587.70              6          5               Ótima  \n",
       "108742      20744.70             11          1             Péssima  \n",
       "\n",
       "[200000 rows x 11 columns]"
      ]
     },
     "execution_count": 25,
     "metadata": {},
     "output_type": "execute_result"
    }
   ],
   "source": [
    "df.sort_values(by='total_compra')"
   ]
  },
  {
   "cell_type": "code",
   "execution_count": null,
   "metadata": {
    "id": "ROhf5_rAjeUq"
   },
   "outputs": [],
   "source": []
  },
  {
   "cell_type": "markdown",
   "metadata": {
    "id": "Rv8nz9vMKGvn"
   },
   "source": [
    "Agora que já entendemos a importância de como trabalhar e analisar diferentes tipos de dados, estamos prontos(as) para responder às perguntas levantadas pelas lideranças da empresa trazendo informações relevantes para o que desejam."
   ]
  },
  {
   "cell_type": "markdown",
   "metadata": {
    "id": "lz_rMlOtDtso"
   },
   "source": [
    "# **2. Identificando o perfil do público**\n",
    "\n",
    "---"
   ]
  },
  {
   "cell_type": "markdown",
   "metadata": {
    "id": "MCK8Qk47FzQz"
   },
   "source": [
    "Agora, vamos partir para as análises acerca do perfil do público, como requisitado pelo time de marketing e vendas da empresa varejista que estamos estudando.\n",
    "\n",
    "Para isso, vamos utilizar uma ferramenta estatística muito importante, que organiza e resume dados em grupos ou classes: a distribuição de frequência. Com ela iremos analisar de maneira mais direta e eficiente as informações dos clientes com os dados qualitativos que possuímos.\n",
    "\n",
    "Mas, antes disso, vamos interpretar as perguntas que devemos responder e como este tipo de distribuição poderá nos ajudar."
   ]
  },
  {
   "cell_type": "markdown",
   "metadata": {
    "id": "zHp0nFexFz6t"
   },
   "source": [
    "## **2.1 Distribuindo frequências de dados qualitativos - 1 variável**\n",
    "\n",
    "---"
   ]
  },
  {
   "cell_type": "markdown",
   "metadata": {
    "id": "GMfPrLjdF8jM"
   },
   "source": [
    "### <font color=\"#E23155\" face=\"Verdana\">Demanda 1: Acompanhamento das avaliações dos clientes</font>"
   ]
  },
  {
   "cell_type": "markdown",
   "metadata": {
    "id": "W77K13p0F9mz"
   },
   "source": [
    "A empresa quer acompanhar as **avaliações dos clientes** sobre seus produtos a fim de priorizar ações, como melhorar produtos com maior proporção de feedbacks negativos, investigar causas e explorar pontos fortes apontados pelos clientes satisfeitos. Essas avaliações variam entre:\n",
    "\n",
    "1. **Péssimo**\n",
    "2. **Ruim**\n",
    "3. **Regular**\n",
    "4. **Bom**\n",
    "5. **Ótimo**\n",
    "\n",
    "Como a **equipe de marketing e vendas** poderá investigar a percepção geral dos clientes sobre os produtos e identificar possíveis comportamentos para ajustar suas estratégias de comunicação e melhoria de produtos?"
   ]
  },
  {
   "cell_type": "markdown",
   "metadata": {
    "id": "60Ji6SohGDU-"
   },
   "source": [
    "### <font color=\"#E23155\" face=\"Verdana\">Solução:</font>"
   ]
  },
  {
   "cell_type": "markdown",
   "metadata": {
    "id": "pL3InDboGD42"
   },
   "source": [
    "### **Distribuição de frequência**\n",
    "\n",
    "A **distribuição de frequência** é uma tabela que contêm os dados de acordo com a sua **frequência** ($f_i$ = quantidade de vezes que uma determinada variável ocorre). Ela é utilizada tanto para dados **qualitativos** quanto **quantitativos**.\n",
    "\n",
    "Cada entrada na tabela contém a contagem de ocorrências de valores dentro de um grupo ou intervalo específico, resumindo a distribuição destes valores. Por exemplo, classifica a quantidade de pessoas pelo sexo biológico, a quantidade de itens de um produto vendido, a faixa de renda de pessoas, etc.\n",
    "\n",
    "#### **Frequência absoluta ($f_i$)**\n",
    "\n",
    "É o número de vezes em que uma dada observação aparece numa variável. Para cada valor possível, você tem uma dada frequência, cuja soma seria igual a frequência total absoluta, ou melhor, o número total de registros.\n",
    "\n",
    "# $$F = \\sum_{i=1}^{n}f_i = f_1 + f_2 + ... + f_n$$\n",
    "\n",
    "&nbsp;\n",
    "\n",
    "#### **Como construir:**\n",
    "\n",
    "1.  Ordenar os valores das variáveis em ordem crescente ou decrescente;\n",
    "\n",
    "2.  Determinar a frequência de cada valor;\n",
    "\n",
    "3.  Agrupar os dados em classes ou intervalos"
   ]
  },
  {
   "cell_type": "markdown",
   "metadata": {
    "id": "eYh8sWFRJP-6"
   },
   "source": [
    "As avaliações são armazenadas em uma variável chamada `avaliacao_indicador` dentro do banco de dados da empresa."
   ]
  },
  {
   "cell_type": "code",
   "execution_count": 26,
   "metadata": {
    "id": "4Dteb-mWjYjK"
   },
   "outputs": [
    {
     "data": {
      "application/vnd.microsoft.datawrangler.viewer.v0+json": {
       "columns": [
        {
         "name": "index",
         "rawType": "int64",
         "type": "integer"
        },
        {
         "name": "id_compra",
         "rawType": "object",
         "type": "string"
        },
        {
         "name": "sexo_biologico",
         "rawType": "object",
         "type": "string"
        },
        {
         "name": "idade_cliente",
         "rawType": "int64",
         "type": "integer"
        },
        {
         "name": "regiao_cliente",
         "rawType": "object",
         "type": "string"
        },
        {
         "name": "categoria_produto",
         "rawType": "object",
         "type": "string"
        },
        {
         "name": "preco_unitario",
         "rawType": "float64",
         "type": "float"
        },
        {
         "name": "quantidade",
         "rawType": "int64",
         "type": "integer"
        },
        {
         "name": "total_compra",
         "rawType": "float64",
         "type": "float"
        },
        {
         "name": "tempo_entrega",
         "rawType": "int64",
         "type": "integer"
        },
        {
         "name": "avaliacao",
         "rawType": "int64",
         "type": "integer"
        },
        {
         "name": "avaliacao_indicador",
         "rawType": "category",
         "type": "unknown"
        }
       ],
       "ref": "ca95c962-b45c-4b8a-84f8-a697a0787798",
       "rows": [
        [
         "0",
         "9f86e969-221a-4b1a-9b48-9aba719b61cf",
         "Masculino",
         "33",
         "Sul",
         "Ferramentas e Construção",
         "96.8",
         "2",
         "193.6",
         "18",
         "1",
         "Péssima"
        ],
        [
         "1",
         "659f9b07-be10-4849-b2ab-dd542498a1e8",
         "Feminino",
         "33",
         "Nordeste",
         "Alimentos e Bebidas",
         "247.68",
         "1",
         "247.68",
         "6",
         "4",
         "Boa"
        ],
        [
         "2",
         "d317d7df-1126-42e5-bf4b-0e178bd4e14e",
         "Feminino",
         "36",
         "Sudeste",
         "Eletrônicos",
         "627.46",
         "2",
         "1254.92",
         "8",
         "5",
         "Ótima"
        ],
        [
         "3",
         "bb99bcf6-b333-493e-9ec2-c39f8695503c",
         "Feminino",
         "21",
         "Sul",
         "Eletrônicos",
         "2025.07",
         "8",
         "16200.56",
         "6",
         "5",
         "Ótima"
        ],
        [
         "4",
         "898e4624-84e9-4c41-b181-66d3b7ccfef7",
         "Masculino",
         "31",
         "Centro-Oeste",
         "Papelaria e Escritório",
         "99.24",
         "5",
         "496.2",
         "13",
         "5",
         "Ótima"
        ]
       ],
       "shape": {
        "columns": 11,
        "rows": 5
       }
      },
      "text/html": [
       "<div>\n",
       "<style scoped>\n",
       "    .dataframe tbody tr th:only-of-type {\n",
       "        vertical-align: middle;\n",
       "    }\n",
       "\n",
       "    .dataframe tbody tr th {\n",
       "        vertical-align: top;\n",
       "    }\n",
       "\n",
       "    .dataframe thead th {\n",
       "        text-align: right;\n",
       "    }\n",
       "</style>\n",
       "<table border=\"1\" class=\"dataframe\">\n",
       "  <thead>\n",
       "    <tr style=\"text-align: right;\">\n",
       "      <th></th>\n",
       "      <th>id_compra</th>\n",
       "      <th>sexo_biologico</th>\n",
       "      <th>idade_cliente</th>\n",
       "      <th>regiao_cliente</th>\n",
       "      <th>categoria_produto</th>\n",
       "      <th>preco_unitario</th>\n",
       "      <th>quantidade</th>\n",
       "      <th>total_compra</th>\n",
       "      <th>tempo_entrega</th>\n",
       "      <th>avaliacao</th>\n",
       "      <th>avaliacao_indicador</th>\n",
       "    </tr>\n",
       "  </thead>\n",
       "  <tbody>\n",
       "    <tr>\n",
       "      <th>0</th>\n",
       "      <td>9f86e969-221a-4b1a-9b48-9aba719b61cf</td>\n",
       "      <td>Masculino</td>\n",
       "      <td>33</td>\n",
       "      <td>Sul</td>\n",
       "      <td>Ferramentas e Construção</td>\n",
       "      <td>96.80</td>\n",
       "      <td>2</td>\n",
       "      <td>193.60</td>\n",
       "      <td>18</td>\n",
       "      <td>1</td>\n",
       "      <td>Péssima</td>\n",
       "    </tr>\n",
       "    <tr>\n",
       "      <th>1</th>\n",
       "      <td>659f9b07-be10-4849-b2ab-dd542498a1e8</td>\n",
       "      <td>Feminino</td>\n",
       "      <td>33</td>\n",
       "      <td>Nordeste</td>\n",
       "      <td>Alimentos e Bebidas</td>\n",
       "      <td>247.68</td>\n",
       "      <td>1</td>\n",
       "      <td>247.68</td>\n",
       "      <td>6</td>\n",
       "      <td>4</td>\n",
       "      <td>Boa</td>\n",
       "    </tr>\n",
       "    <tr>\n",
       "      <th>2</th>\n",
       "      <td>d317d7df-1126-42e5-bf4b-0e178bd4e14e</td>\n",
       "      <td>Feminino</td>\n",
       "      <td>36</td>\n",
       "      <td>Sudeste</td>\n",
       "      <td>Eletrônicos</td>\n",
       "      <td>627.46</td>\n",
       "      <td>2</td>\n",
       "      <td>1254.92</td>\n",
       "      <td>8</td>\n",
       "      <td>5</td>\n",
       "      <td>Ótima</td>\n",
       "    </tr>\n",
       "    <tr>\n",
       "      <th>3</th>\n",
       "      <td>bb99bcf6-b333-493e-9ec2-c39f8695503c</td>\n",
       "      <td>Feminino</td>\n",
       "      <td>21</td>\n",
       "      <td>Sul</td>\n",
       "      <td>Eletrônicos</td>\n",
       "      <td>2025.07</td>\n",
       "      <td>8</td>\n",
       "      <td>16200.56</td>\n",
       "      <td>6</td>\n",
       "      <td>5</td>\n",
       "      <td>Ótima</td>\n",
       "    </tr>\n",
       "    <tr>\n",
       "      <th>4</th>\n",
       "      <td>898e4624-84e9-4c41-b181-66d3b7ccfef7</td>\n",
       "      <td>Masculino</td>\n",
       "      <td>31</td>\n",
       "      <td>Centro-Oeste</td>\n",
       "      <td>Papelaria e Escritório</td>\n",
       "      <td>99.24</td>\n",
       "      <td>5</td>\n",
       "      <td>496.20</td>\n",
       "      <td>13</td>\n",
       "      <td>5</td>\n",
       "      <td>Ótima</td>\n",
       "    </tr>\n",
       "  </tbody>\n",
       "</table>\n",
       "</div>"
      ],
      "text/plain": [
       "                              id_compra sexo_biologico  idade_cliente  \\\n",
       "0  9f86e969-221a-4b1a-9b48-9aba719b61cf      Masculino             33   \n",
       "1  659f9b07-be10-4849-b2ab-dd542498a1e8       Feminino             33   \n",
       "2  d317d7df-1126-42e5-bf4b-0e178bd4e14e       Feminino             36   \n",
       "3  bb99bcf6-b333-493e-9ec2-c39f8695503c       Feminino             21   \n",
       "4  898e4624-84e9-4c41-b181-66d3b7ccfef7      Masculino             31   \n",
       "\n",
       "  regiao_cliente         categoria_produto  preco_unitario  quantidade  \\\n",
       "0            Sul  Ferramentas e Construção           96.80           2   \n",
       "1       Nordeste       Alimentos e Bebidas          247.68           1   \n",
       "2        Sudeste               Eletrônicos          627.46           2   \n",
       "3            Sul               Eletrônicos         2025.07           8   \n",
       "4   Centro-Oeste    Papelaria e Escritório           99.24           5   \n",
       "\n",
       "   total_compra  tempo_entrega  avaliacao avaliacao_indicador  \n",
       "0        193.60             18          1             Péssima  \n",
       "1        247.68              6          4                 Boa  \n",
       "2       1254.92              8          5               Ótima  \n",
       "3      16200.56              6          5               Ótima  \n",
       "4        496.20             13          5               Ótima  "
      ]
     },
     "execution_count": 26,
     "metadata": {},
     "output_type": "execute_result"
    }
   ],
   "source": [
    "df.head()"
   ]
  },
  {
   "cell_type": "code",
   "execution_count": 27,
   "metadata": {
    "id": "08cp-Ig_jYfD"
   },
   "outputs": [
    {
     "data": {
      "application/vnd.microsoft.datawrangler.viewer.v0+json": {
       "columns": [
        {
         "name": "index",
         "rawType": "int64",
         "type": "integer"
        },
        {
         "name": "avaliacao_indicador",
         "rawType": "category",
         "type": "unknown"
        },
        {
         "name": "freq_absoluta",
         "rawType": "int64",
         "type": "integer"
        }
       ],
       "ref": "5dd175a9-6e36-48ba-9b7e-29f69e5d3cdb",
       "rows": [
        [
         "4",
         "Ótima",
         "66076"
        ],
        [
         "3",
         "Boa",
         "40980"
        ],
        [
         "2",
         "Regular",
         "32282"
        ],
        [
         "1",
         "Ruim",
         "28239"
        ],
        [
         "0",
         "Péssima",
         "32423"
        ]
       ],
       "shape": {
        "columns": 2,
        "rows": 5
       }
      },
      "text/html": [
       "<div>\n",
       "<style scoped>\n",
       "    .dataframe tbody tr th:only-of-type {\n",
       "        vertical-align: middle;\n",
       "    }\n",
       "\n",
       "    .dataframe tbody tr th {\n",
       "        vertical-align: top;\n",
       "    }\n",
       "\n",
       "    .dataframe thead th {\n",
       "        text-align: right;\n",
       "    }\n",
       "</style>\n",
       "<table border=\"1\" class=\"dataframe\">\n",
       "  <thead>\n",
       "    <tr style=\"text-align: right;\">\n",
       "      <th></th>\n",
       "      <th>avaliacao_indicador</th>\n",
       "      <th>freq_absoluta</th>\n",
       "    </tr>\n",
       "  </thead>\n",
       "  <tbody>\n",
       "    <tr>\n",
       "      <th>4</th>\n",
       "      <td>Ótima</td>\n",
       "      <td>66076</td>\n",
       "    </tr>\n",
       "    <tr>\n",
       "      <th>3</th>\n",
       "      <td>Boa</td>\n",
       "      <td>40980</td>\n",
       "    </tr>\n",
       "    <tr>\n",
       "      <th>2</th>\n",
       "      <td>Regular</td>\n",
       "      <td>32282</td>\n",
       "    </tr>\n",
       "    <tr>\n",
       "      <th>1</th>\n",
       "      <td>Ruim</td>\n",
       "      <td>28239</td>\n",
       "    </tr>\n",
       "    <tr>\n",
       "      <th>0</th>\n",
       "      <td>Péssima</td>\n",
       "      <td>32423</td>\n",
       "    </tr>\n",
       "  </tbody>\n",
       "</table>\n",
       "</div>"
      ],
      "text/plain": [
       "  avaliacao_indicador  freq_absoluta\n",
       "4               Ótima          66076\n",
       "3                 Boa          40980\n",
       "2             Regular          32282\n",
       "1                Ruim          28239\n",
       "0             Péssima          32423"
      ]
     },
     "execution_count": 27,
     "metadata": {},
     "output_type": "execute_result"
    }
   ],
   "source": [
    "freq_avaliacoes = (df.groupby('avaliacao_indicador', observed=False)\n",
    "                   .size()\n",
    "                   .reset_index(name='freq_absoluta')\n",
    "                   .sort_values(by='avaliacao_indicador', ascending=False))\n",
    "\n",
    "freq_avaliacoes"
   ]
  },
  {
   "cell_type": "markdown",
   "metadata": {
    "id": "xPQj8G88L2Ss"
   },
   "source": [
    "#### **Frequência relativa ($f_{ri}$)**\n",
    "\n",
    "Ela é dada pela razão entre a frequência absoluta de cada classe e a frequência total ou soma das frequências absolutas:\n",
    "\n",
    "# $$f_{ri} = \\frac{f_i}{F}$$\n",
    "\n",
    "Para valores percentuais, basta multiplicar cada frequência relativa por 100."
   ]
  },
  {
   "cell_type": "code",
   "execution_count": 28,
   "metadata": {
    "id": "8qTzyU0LjW9H"
   },
   "outputs": [],
   "source": [
    "freq_avaliacoes['freq_relativa'] = round((freq_avaliacoes['freq_absoluta'] / freq_avaliacoes['freq_absoluta'].sum()) * 100, 1)"
   ]
  },
  {
   "cell_type": "code",
   "execution_count": 29,
   "metadata": {
    "id": "ScDP5E1sjW4W"
   },
   "outputs": [
    {
     "data": {
      "application/vnd.microsoft.datawrangler.viewer.v0+json": {
       "columns": [
        {
         "name": "index",
         "rawType": "int64",
         "type": "integer"
        },
        {
         "name": "avaliacao_indicador",
         "rawType": "category",
         "type": "unknown"
        },
        {
         "name": "freq_absoluta",
         "rawType": "int64",
         "type": "integer"
        },
        {
         "name": "freq_relativa",
         "rawType": "float64",
         "type": "float"
        }
       ],
       "ref": "3d0ab289-5b7e-4d9a-9262-41c899ae0b1f",
       "rows": [
        [
         "4",
         "Ótima",
         "66076",
         "33.0"
        ],
        [
         "3",
         "Boa",
         "40980",
         "20.5"
        ],
        [
         "2",
         "Regular",
         "32282",
         "16.1"
        ],
        [
         "1",
         "Ruim",
         "28239",
         "14.1"
        ],
        [
         "0",
         "Péssima",
         "32423",
         "16.2"
        ]
       ],
       "shape": {
        "columns": 3,
        "rows": 5
       }
      },
      "text/html": [
       "<div>\n",
       "<style scoped>\n",
       "    .dataframe tbody tr th:only-of-type {\n",
       "        vertical-align: middle;\n",
       "    }\n",
       "\n",
       "    .dataframe tbody tr th {\n",
       "        vertical-align: top;\n",
       "    }\n",
       "\n",
       "    .dataframe thead th {\n",
       "        text-align: right;\n",
       "    }\n",
       "</style>\n",
       "<table border=\"1\" class=\"dataframe\">\n",
       "  <thead>\n",
       "    <tr style=\"text-align: right;\">\n",
       "      <th></th>\n",
       "      <th>avaliacao_indicador</th>\n",
       "      <th>freq_absoluta</th>\n",
       "      <th>freq_relativa</th>\n",
       "    </tr>\n",
       "  </thead>\n",
       "  <tbody>\n",
       "    <tr>\n",
       "      <th>4</th>\n",
       "      <td>Ótima</td>\n",
       "      <td>66076</td>\n",
       "      <td>33.0</td>\n",
       "    </tr>\n",
       "    <tr>\n",
       "      <th>3</th>\n",
       "      <td>Boa</td>\n",
       "      <td>40980</td>\n",
       "      <td>20.5</td>\n",
       "    </tr>\n",
       "    <tr>\n",
       "      <th>2</th>\n",
       "      <td>Regular</td>\n",
       "      <td>32282</td>\n",
       "      <td>16.1</td>\n",
       "    </tr>\n",
       "    <tr>\n",
       "      <th>1</th>\n",
       "      <td>Ruim</td>\n",
       "      <td>28239</td>\n",
       "      <td>14.1</td>\n",
       "    </tr>\n",
       "    <tr>\n",
       "      <th>0</th>\n",
       "      <td>Péssima</td>\n",
       "      <td>32423</td>\n",
       "      <td>16.2</td>\n",
       "    </tr>\n",
       "  </tbody>\n",
       "</table>\n",
       "</div>"
      ],
      "text/plain": [
       "  avaliacao_indicador  freq_absoluta  freq_relativa\n",
       "4               Ótima          66076           33.0\n",
       "3                 Boa          40980           20.5\n",
       "2             Regular          32282           16.1\n",
       "1                Ruim          28239           14.1\n",
       "0             Péssima          32423           16.2"
      ]
     },
     "execution_count": 29,
     "metadata": {},
     "output_type": "execute_result"
    }
   ],
   "source": [
    "freq_avaliacoes"
   ]
  },
  {
   "cell_type": "code",
   "execution_count": 30,
   "metadata": {
    "id": "6JfIP9YcCKQA"
   },
   "outputs": [],
   "source": [
    "freq_avaliacoes.columns = ['Avaliação', 'Quantidade', 'Porcentagem (%)']"
   ]
  },
  {
   "cell_type": "code",
   "execution_count": 31,
   "metadata": {
    "id": "2RSwUXWajVPd"
   },
   "outputs": [
    {
     "data": {
      "application/vnd.microsoft.datawrangler.viewer.v0+json": {
       "columns": [
        {
         "name": "index",
         "rawType": "int64",
         "type": "integer"
        },
        {
         "name": "Avaliação",
         "rawType": "category",
         "type": "unknown"
        },
        {
         "name": "Quantidade",
         "rawType": "int64",
         "type": "integer"
        },
        {
         "name": "Porcentagem (%)",
         "rawType": "float64",
         "type": "float"
        }
       ],
       "ref": "e8aa4925-9ec8-43b8-9bbb-c91eb0ca1728",
       "rows": [
        [
         "4",
         "Ótima",
         "66076",
         "33.0"
        ],
        [
         "3",
         "Boa",
         "40980",
         "20.5"
        ],
        [
         "2",
         "Regular",
         "32282",
         "16.1"
        ],
        [
         "1",
         "Ruim",
         "28239",
         "14.1"
        ],
        [
         "0",
         "Péssima",
         "32423",
         "16.2"
        ]
       ],
       "shape": {
        "columns": 3,
        "rows": 5
       }
      },
      "text/html": [
       "<div>\n",
       "<style scoped>\n",
       "    .dataframe tbody tr th:only-of-type {\n",
       "        vertical-align: middle;\n",
       "    }\n",
       "\n",
       "    .dataframe tbody tr th {\n",
       "        vertical-align: top;\n",
       "    }\n",
       "\n",
       "    .dataframe thead th {\n",
       "        text-align: right;\n",
       "    }\n",
       "</style>\n",
       "<table border=\"1\" class=\"dataframe\">\n",
       "  <thead>\n",
       "    <tr style=\"text-align: right;\">\n",
       "      <th></th>\n",
       "      <th>Avaliação</th>\n",
       "      <th>Quantidade</th>\n",
       "      <th>Porcentagem (%)</th>\n",
       "    </tr>\n",
       "  </thead>\n",
       "  <tbody>\n",
       "    <tr>\n",
       "      <th>4</th>\n",
       "      <td>Ótima</td>\n",
       "      <td>66076</td>\n",
       "      <td>33.0</td>\n",
       "    </tr>\n",
       "    <tr>\n",
       "      <th>3</th>\n",
       "      <td>Boa</td>\n",
       "      <td>40980</td>\n",
       "      <td>20.5</td>\n",
       "    </tr>\n",
       "    <tr>\n",
       "      <th>2</th>\n",
       "      <td>Regular</td>\n",
       "      <td>32282</td>\n",
       "      <td>16.1</td>\n",
       "    </tr>\n",
       "    <tr>\n",
       "      <th>1</th>\n",
       "      <td>Ruim</td>\n",
       "      <td>28239</td>\n",
       "      <td>14.1</td>\n",
       "    </tr>\n",
       "    <tr>\n",
       "      <th>0</th>\n",
       "      <td>Péssima</td>\n",
       "      <td>32423</td>\n",
       "      <td>16.2</td>\n",
       "    </tr>\n",
       "  </tbody>\n",
       "</table>\n",
       "</div>"
      ],
      "text/plain": [
       "  Avaliação  Quantidade  Porcentagem (%)\n",
       "4     Ótima       66076             33.0\n",
       "3       Boa       40980             20.5\n",
       "2   Regular       32282             16.1\n",
       "1      Ruim       28239             14.1\n",
       "0   Péssima       32423             16.2"
      ]
     },
     "execution_count": 31,
     "metadata": {},
     "output_type": "execute_result"
    }
   ],
   "source": [
    "freq_avaliacoes"
   ]
  },
  {
   "cell_type": "code",
   "execution_count": 32,
   "metadata": {},
   "outputs": [
    {
     "data": {
      "image/png": "[encoded data removed]",
      "text/plain": [
       "<Figure size 1000x600 with 1 Axes>"
      ]
     },
     "metadata": {},
     "output_type": "display_data"
    }
   ],
   "source": [
    "import seaborn as sns\n",
    "plt.figure(figsize=(10, 6))\n",
    "sns.barplot(data=freq_avaliacoes, x='Avaliação', y='Quantidade')\n",
    "\n",
    "# Adicionando título e rótulos aos eixos\n",
    "plt.title(\"Distribuição de Frequências das Avaliações\")\n",
    "plt.xlabel(\"Avaliação\")\n",
    "plt.ylabel(\"Frequência\")\n",
    "\n",
    "\n",
    "# Adicionando os rótulos com valores de frequência e porcentagem\n",
    "for index, row in freq_avaliacoes.iterrows():\n",
    "    plt.text(index, row['Quantidade'] + 0.1, f\"{row['Quantidade']} ({row['Porcentagem (%)']:.1f}%)\",\n",
    "             ha='center', va='bottom', fontsize=12)\n",
    "\n",
    "\n",
    "plt.show()"
   ]
  },
  {
   "cell_type": "markdown",
   "metadata": {
    "id": "XktCzlTwtP0J"
   },
   "source": [
    "Conseguimos perceber que de modo geral possuímos mais avaliações positivas (\"Ótimo\" e \"Bom\") que negativas (\"Péssimo\" e \"Ruim\"), porém o número de avaliações \"Péssimo\" está acima das avaliações neutras.\n",
    "\n",
    "Reportar esse comportamento pode ser importante, pois a equipe de marketing poderá investigar com mais detalhes o que levou a esse nível de avaliação negativa."
   ]
  },
  {
   "cell_type": "markdown",
   "metadata": {
    "id": "PG13hWS7L-k_"
   },
   "source": [
    "## **2.2 Distribuindo frequências de dados qualitativos - 2 variáveis**\n",
    "\n",
    "---\n"
   ]
  },
  {
   "cell_type": "markdown",
   "metadata": {
    "id": "12OWccByMAGl"
   },
   "source": [
    "### <font color=\"#E23155\" face=\"Verdana\">Demanda 2: Avaliações dos clientes por região</font>"
   ]
  },
  {
   "cell_type": "markdown",
   "metadata": {
    "id": "I5UEG4lYwmlv"
   },
   "source": [
    "A equipe de marketing e vendas da empresa trouxe uma nova demanda para a análise das avaliações. Além de entender o comportamento geral das avaliações (avaliacao_indicador), agora desejam saber também como essas avaliações variam de acordo com a região do país.\n",
    "\n",
    "Com isso, gostariam de identificar como as percepções dos clientes variam regionalmente, respondendo questões como:\n",
    "\n",
    "* Qual região tem mais avaliações positivas?\n",
    "* Alguma região concentra a maior parte das avaliações negativas?\n",
    "* Existe alguma diferença relevante que indique a necessidade de ações específicas para uma região?"
   ]
  },
  {
   "cell_type": "markdown",
   "metadata": {
    "id": "VOyJcglDwnHl"
   },
   "source": [
    "### <font color=\"#E23155\" face=\"Verdana\">Solução:</font>"
   ]
  },
  {
   "cell_type": "markdown",
   "metadata": {
    "id": "DG17O0LEwqXq"
   },
   "source": [
    "### **Tabela de contingência (distribuição de frequência bivariada)**\n",
    "\n",
    "A **tabela de contingência**, também conhecida como tabela cruzada ou tabela bidirecional, tem como objetivo representar de forma resumida a relação entre diferentes variáveis categóricas. Ela é uma espécie de **distribuição de frequência entre 2 variáveis** que analisa a relação entre as variáveis qualitativas, sejam elas dependentes ou independentes.\n",
    "\n",
    "Geralmente, ela é construída com base em dados qualitativos, os quais são divididos em grupos mutuamente exclusivos. Por exemplo: quantidade de pessoas por sexo biológico e grau de instrução.\n",
    "\n",
    "Uma das principais utilizações de uma tabela de contingência é analisar a relação entre dados que não são facilmente identificáveis."
   ]
  },
  {
   "cell_type": "code",
   "execution_count": 33,
   "metadata": {
    "id": "Mh-WWywQjQ_O"
   },
   "outputs": [],
   "source": [
    "tab_avaliacoes_regiao = pd.crosstab(df['avaliacao_indicador'], df['regiao_cliente'])"
   ]
  },
  {
   "cell_type": "code",
   "execution_count": 34,
   "metadata": {
    "id": "qa3ln_rxwvGg"
   },
   "outputs": [
    {
     "data": {
      "application/vnd.microsoft.datawrangler.viewer.v0+json": {
       "columns": [
        {
         "name": "avaliacao_indicador",
         "rawType": "category",
         "type": "unknown"
        },
        {
         "name": "Centro-Oeste",
         "rawType": "int64",
         "type": "integer"
        },
        {
         "name": "Nordeste",
         "rawType": "int64",
         "type": "integer"
        },
        {
         "name": "Norte",
         "rawType": "int64",
         "type": "integer"
        },
        {
         "name": "Sudeste",
         "rawType": "int64",
         "type": "integer"
        },
        {
         "name": "Sul",
         "rawType": "int64",
         "type": "integer"
        }
       ],
       "ref": "9ef449fc-4cff-4a35-8d61-2b66c7e0394c",
       "rows": [
        [
         "Péssima",
         "5005",
         "7880",
         "2757",
         "9838",
         "6943"
        ],
        [
         "Ruim",
         "4473",
         "6809",
         "2545",
         "8810",
         "5602"
        ],
        [
         "Regular",
         "3587",
         "5701",
         "3811",
         "13454",
         "5729"
        ],
        [
         "Boa",
         "7378",
         "11834",
         "3058",
         "11845",
         "6865"
        ],
        [
         "Ótima",
         "11124",
         "17343",
         "5490",
         "20656",
         "11463"
        ]
       ],
       "shape": {
        "columns": 5,
        "rows": 5
       }
      },
      "text/html": [
       "<div>\n",
       "<style scoped>\n",
       "    .dataframe tbody tr th:only-of-type {\n",
       "        vertical-align: middle;\n",
       "    }\n",
       "\n",
       "    .dataframe tbody tr th {\n",
       "        vertical-align: top;\n",
       "    }\n",
       "\n",
       "    .dataframe thead th {\n",
       "        text-align: right;\n",
       "    }\n",
       "</style>\n",
       "<table border=\"1\" class=\"dataframe\">\n",
       "  <thead>\n",
       "    <tr style=\"text-align: right;\">\n",
       "      <th>regiao_cliente</th>\n",
       "      <th>Centro-Oeste</th>\n",
       "      <th>Nordeste</th>\n",
       "      <th>Norte</th>\n",
       "      <th>Sudeste</th>\n",
       "      <th>Sul</th>\n",
       "    </tr>\n",
       "    <tr>\n",
       "      <th>avaliacao_indicador</th>\n",
       "      <th></th>\n",
       "      <th></th>\n",
       "      <th></th>\n",
       "      <th></th>\n",
       "      <th></th>\n",
       "    </tr>\n",
       "  </thead>\n",
       "  <tbody>\n",
       "    <tr>\n",
       "      <th>Péssima</th>\n",
       "      <td>5005</td>\n",
       "      <td>7880</td>\n",
       "      <td>2757</td>\n",
       "      <td>9838</td>\n",
       "      <td>6943</td>\n",
       "    </tr>\n",
       "    <tr>\n",
       "      <th>Ruim</th>\n",
       "      <td>4473</td>\n",
       "      <td>6809</td>\n",
       "      <td>2545</td>\n",
       "      <td>8810</td>\n",
       "      <td>5602</td>\n",
       "    </tr>\n",
       "    <tr>\n",
       "      <th>Regular</th>\n",
       "      <td>3587</td>\n",
       "      <td>5701</td>\n",
       "      <td>3811</td>\n",
       "      <td>13454</td>\n",
       "      <td>5729</td>\n",
       "    </tr>\n",
       "    <tr>\n",
       "      <th>Boa</th>\n",
       "      <td>7378</td>\n",
       "      <td>11834</td>\n",
       "      <td>3058</td>\n",
       "      <td>11845</td>\n",
       "      <td>6865</td>\n",
       "    </tr>\n",
       "    <tr>\n",
       "      <th>Ótima</th>\n",
       "      <td>11124</td>\n",
       "      <td>17343</td>\n",
       "      <td>5490</td>\n",
       "      <td>20656</td>\n",
       "      <td>11463</td>\n",
       "    </tr>\n",
       "  </tbody>\n",
       "</table>\n",
       "</div>"
      ],
      "text/plain": [
       "regiao_cliente       Centro-Oeste  Nordeste  Norte  Sudeste    Sul\n",
       "avaliacao_indicador                                               \n",
       "Péssima                      5005      7880   2757     9838   6943\n",
       "Ruim                         4473      6809   2545     8810   5602\n",
       "Regular                      3587      5701   3811    13454   5729\n",
       "Boa                          7378     11834   3058    11845   6865\n",
       "Ótima                       11124     17343   5490    20656  11463"
      ]
     },
     "execution_count": 34,
     "metadata": {},
     "output_type": "execute_result"
    }
   ],
   "source": [
    "tab_avaliacoes_regiao"
   ]
  },
  {
   "cell_type": "markdown",
   "metadata": {
    "id": "4fxcIrt5w2cf"
   },
   "source": [
    "#### **Quais as vantagens de uma tabela de contigência**\n",
    "\n",
    "1. **Visualização das informações:** Organiza dados categóricos num formato compacto e legível, que podem ser transformadas em gráficos;\n",
    "\n",
    "2. **Análises rápidas:** correlaciona variáveis de forma rápida e visual auxiliando na tomada de decisões informadas e com agilidade;\n",
    "\n",
    "3. **Testes estatísticos:** Serve como base para realizar testes estatísticos a fim de avaliar a independência entre variáveis categóricas."
   ]
  },
  {
   "cell_type": "code",
   "execution_count": 35,
   "metadata": {
    "id": "hTYX1DmhjNP4"
   },
   "outputs": [
    {
     "data": {
      "application/vnd.microsoft.datawrangler.viewer.v0+json": {
       "columns": [
        {
         "name": "avaliacao_indicador",
         "rawType": "category",
         "type": "unknown"
        },
        {
         "name": "Centro-Oeste",
         "rawType": "float64",
         "type": "float"
        },
        {
         "name": "Nordeste",
         "rawType": "float64",
         "type": "float"
        },
        {
         "name": "Norte",
         "rawType": "float64",
         "type": "float"
        },
        {
         "name": "Sudeste",
         "rawType": "float64",
         "type": "float"
        },
        {
         "name": "Sul",
         "rawType": "float64",
         "type": "float"
        }
       ],
       "ref": "d88f6d56-12ea-40ec-a6bc-27dd99c3bad7",
       "rows": [
        [
         "Péssima",
         "15.9",
         "15.9",
         "15.6",
         "15.2",
         "19.0"
        ],
        [
         "Ruim",
         "14.2",
         "13.7",
         "14.4",
         "13.6",
         "15.3"
        ],
        [
         "Regular",
         "11.4",
         "11.5",
         "21.6",
         "20.8",
         "15.7"
        ],
        [
         "Boa",
         "23.4",
         "23.9",
         "17.3",
         "18.3",
         "18.8"
        ],
        [
         "Ótima",
         "35.2",
         "35.0",
         "31.1",
         "32.0",
         "31.3"
        ]
       ],
       "shape": {
        "columns": 5,
        "rows": 5
       }
      },
      "text/html": [
       "<div>\n",
       "<style scoped>\n",
       "    .dataframe tbody tr th:only-of-type {\n",
       "        vertical-align: middle;\n",
       "    }\n",
       "\n",
       "    .dataframe tbody tr th {\n",
       "        vertical-align: top;\n",
       "    }\n",
       "\n",
       "    .dataframe thead th {\n",
       "        text-align: right;\n",
       "    }\n",
       "</style>\n",
       "<table border=\"1\" class=\"dataframe\">\n",
       "  <thead>\n",
       "    <tr style=\"text-align: right;\">\n",
       "      <th>regiao_cliente</th>\n",
       "      <th>Centro-Oeste</th>\n",
       "      <th>Nordeste</th>\n",
       "      <th>Norte</th>\n",
       "      <th>Sudeste</th>\n",
       "      <th>Sul</th>\n",
       "    </tr>\n",
       "    <tr>\n",
       "      <th>avaliacao_indicador</th>\n",
       "      <th></th>\n",
       "      <th></th>\n",
       "      <th></th>\n",
       "      <th></th>\n",
       "      <th></th>\n",
       "    </tr>\n",
       "  </thead>\n",
       "  <tbody>\n",
       "    <tr>\n",
       "      <th>Péssima</th>\n",
       "      <td>15.9</td>\n",
       "      <td>15.9</td>\n",
       "      <td>15.6</td>\n",
       "      <td>15.2</td>\n",
       "      <td>19.0</td>\n",
       "    </tr>\n",
       "    <tr>\n",
       "      <th>Ruim</th>\n",
       "      <td>14.2</td>\n",
       "      <td>13.7</td>\n",
       "      <td>14.4</td>\n",
       "      <td>13.6</td>\n",
       "      <td>15.3</td>\n",
       "    </tr>\n",
       "    <tr>\n",
       "      <th>Regular</th>\n",
       "      <td>11.4</td>\n",
       "      <td>11.5</td>\n",
       "      <td>21.6</td>\n",
       "      <td>20.8</td>\n",
       "      <td>15.7</td>\n",
       "    </tr>\n",
       "    <tr>\n",
       "      <th>Boa</th>\n",
       "      <td>23.4</td>\n",
       "      <td>23.9</td>\n",
       "      <td>17.3</td>\n",
       "      <td>18.3</td>\n",
       "      <td>18.8</td>\n",
       "    </tr>\n",
       "    <tr>\n",
       "      <th>Ótima</th>\n",
       "      <td>35.2</td>\n",
       "      <td>35.0</td>\n",
       "      <td>31.1</td>\n",
       "      <td>32.0</td>\n",
       "      <td>31.3</td>\n",
       "    </tr>\n",
       "  </tbody>\n",
       "</table>\n",
       "</div>"
      ],
      "text/plain": [
       "regiao_cliente       Centro-Oeste  Nordeste  Norte  Sudeste   Sul\n",
       "avaliacao_indicador                                              \n",
       "Péssima                      15.9      15.9   15.6     15.2  19.0\n",
       "Ruim                         14.2      13.7   14.4     13.6  15.3\n",
       "Regular                      11.4      11.5   21.6     20.8  15.7\n",
       "Boa                          23.4      23.9   17.3     18.3  18.8\n",
       "Ótima                        35.2      35.0   31.1     32.0  31.3"
      ]
     },
     "execution_count": 35,
     "metadata": {},
     "output_type": "execute_result"
    }
   ],
   "source": [
    "tab_avaliacoes_regiao_relativa = pd.crosstab(df['avaliacao_indicador'], df['regiao_cliente'], normalize = 'columns') * 100\n",
    "\n",
    "tab_avaliacoes_regiao_relativa = round(tab_avaliacoes_regiao_relativa, 1)\n",
    "\n",
    "tab_avaliacoes_regiao_relativa"
   ]
  },
  {
   "cell_type": "markdown",
   "metadata": {
    "id": "q_L4Hc--w-aU"
   },
   "source": [
    "#### ***Qual região tem mais avaliações positivas?***\n",
    "\n",
    "Considerando \"Ótimo\" e \"Bom\" as Regiões Centro-Oeste e Nordeste dividem o ranking de avaliações mais positivas com mais de 55% de satisfação com as compras"
   ]
  },
  {
   "cell_type": "code",
   "execution_count": 36,
   "metadata": {
    "id": "bfzcuAVWjNsH"
   },
   "outputs": [
    {
     "data": {
      "application/vnd.microsoft.datawrangler.viewer.v0+json": {
       "columns": [
        {
         "name": "regiao_cliente",
         "rawType": "object",
         "type": "string"
        },
        {
         "name": "0",
         "rawType": "float64",
         "type": "float"
        }
       ],
       "ref": "610a841a-3f98-4b19-9e85-c235635d0966",
       "rows": [
        [
         "Centro-Oeste",
         "58.6"
        ],
        [
         "Nordeste",
         "58.9"
        ],
        [
         "Norte",
         "48.4"
        ],
        [
         "Sudeste",
         "50.3"
        ],
        [
         "Sul",
         "50.1"
        ]
       ],
       "shape": {
        "columns": 1,
        "rows": 5
       }
      },
      "text/plain": [
       "regiao_cliente\n",
       "Centro-Oeste    58.6\n",
       "Nordeste        58.9\n",
       "Norte           48.4\n",
       "Sudeste         50.3\n",
       "Sul             50.1\n",
       "dtype: float64"
      ]
     },
     "execution_count": 36,
     "metadata": {},
     "output_type": "execute_result"
    }
   ],
   "source": [
    "tab_avaliacoes_filtrada = tab_avaliacoes_regiao_relativa[tab_avaliacoes_regiao_relativa.index.isin(['Ótima', 'Boa'])]\n",
    "\n",
    "resultado = tab_avaliacoes_filtrada.sum().round(1)\n",
    "resultado"
   ]
  },
  {
   "cell_type": "markdown",
   "metadata": {
    "id": "2ZBErGC-xBrT"
   },
   "source": [
    "#### ***Alguma região concentra a maior parte das avaliações negativas?***\n",
    "\n",
    "Analisando a tabela de valores absolutos conseguimos notar que a Região Sul tem a maior porcentagem de avaliações negativas (34.3%), sendo a única com quase 20% das notas no nível de satisfação \"Péssimo\"."
   ]
  },
  {
   "cell_type": "code",
   "execution_count": 37,
   "metadata": {
    "id": "pWoIWukojPSc"
   },
   "outputs": [
    {
     "data": {
      "application/vnd.microsoft.datawrangler.viewer.v0+json": {
       "columns": [
        {
         "name": "regiao_cliente",
         "rawType": "object",
         "type": "string"
        },
        {
         "name": "0",
         "rawType": "float64",
         "type": "float"
        }
       ],
       "ref": "b751b4af-3264-4bef-8c62-852b71458da5",
       "rows": [
        [
         "Centro-Oeste",
         "30.1"
        ],
        [
         "Nordeste",
         "29.6"
        ],
        [
         "Norte",
         "30.0"
        ],
        [
         "Sudeste",
         "28.8"
        ],
        [
         "Sul",
         "34.3"
        ]
       ],
       "shape": {
        "columns": 1,
        "rows": 5
       }
      },
      "text/plain": [
       "regiao_cliente\n",
       "Centro-Oeste    30.1\n",
       "Nordeste        29.6\n",
       "Norte           30.0\n",
       "Sudeste         28.8\n",
       "Sul             34.3\n",
       "dtype: float64"
      ]
     },
     "execution_count": 37,
     "metadata": {},
     "output_type": "execute_result"
    }
   ],
   "source": [
    "tab_avaliacoes_filtrada = tab_avaliacoes_regiao_relativa[tab_avaliacoes_regiao_relativa.index.isin(['Ruim', 'Péssima'])]\n",
    "\n",
    "resultado = tab_avaliacoes_filtrada.sum().round(1)\n",
    "\n",
    "resultado"
   ]
  },
  {
   "cell_type": "markdown",
   "metadata": {
    "id": "xzKZE1AuxEBG"
   },
   "source": [
    "#### ***Existe alguma diferença relevante que indique a necessidade de ações específicas para uma região?***\n",
    "\n",
    "Sim! Como vimos anteriormente é necessário investigar a baixa avaliação na Região Sul comparada às outras regiões. Outro ponto de atenção está também nas Regiões Sudeste e Norte que concentram cada uma mais de 20% de notas \"Regular\".\n",
    "\n",
    "Seriam pontos interessantes de reportar as partes interessadas!"
   ]
  },
  {
   "cell_type": "markdown",
   "metadata": {
    "id": "GNOLac1oMBot"
   },
   "source": [
    "## **2.3 Cruzando os dados dos clientes**\n",
    "\n",
    "---\n"
   ]
  },
  {
   "cell_type": "markdown",
   "metadata": {
    "id": "x4GnMOdAMDaa"
   },
   "source": [
    "### <font color=\"#E23155\" face=\"Verdana\">Demanda 3: Perfil dos clientes</font>"
   ]
  },
  {
   "cell_type": "markdown",
   "metadata": {
    "id": "L-3eRgUzxb9q"
   },
   "source": [
    "A equipe de marketing e vendas da empresa trouxe mais uma demanda, desta vez, visando traçar o **perfil dos clientes** para melhorar suas campanhas publicitárias. Ela quer entender como o **ticket médio** varia entre o **sexo biológico** e a **região** onde a clientela reside. Com base nessa análise, será possível identificar oportunidades para segmentação de mercado e personalização de campanhas.\n",
    "\n",
    "Não existe ainda uma análise cruzada dessas informações, portanto, a equipe precisa de uma tabela ou visual que resuma o **ticket médio por sexo e região** para extrair insights sobre o comportamento de consumo."
   ]
  },
  {
   "cell_type": "markdown",
   "metadata": {
    "id": "2md7fHcQxeTX"
   },
   "source": [
    "### <font color=\"#E23155\" face=\"Verdana\">Solução:</font>"
   ]
  },
  {
   "cell_type": "markdown",
   "metadata": {
    "id": "Eq0sYi5DxhgF"
   },
   "source": [
    "A gente já aprendeu a criar uma distribuição de frequência cruzando duas variáveis diferentes. Para este problema precisamos adicionar a estatística descritiva de uma variável quantitativa, no caso a média, dentro dessa nova tabela."
   ]
  },
  {
   "cell_type": "code",
   "execution_count": 38,
   "metadata": {
    "id": "V_XKeYyljncX"
   },
   "outputs": [
    {
     "data": {
      "application/vnd.microsoft.datawrangler.viewer.v0+json": {
       "columns": [
        {
         "name": "sexo_biologico",
         "rawType": "object",
         "type": "string"
        },
        {
         "name": "Centro-Oeste",
         "rawType": "float64",
         "type": "float"
        },
        {
         "name": "Nordeste",
         "rawType": "float64",
         "type": "float"
        },
        {
         "name": "Norte",
         "rawType": "float64",
         "type": "float"
        },
        {
         "name": "Sudeste",
         "rawType": "float64",
         "type": "float"
        },
        {
         "name": "Sul",
         "rawType": "float64",
         "type": "float"
        }
       ],
       "ref": "f50fe7ed-15f8-414d-b5fe-3dbefefa50df",
       "rows": [
        [
         "Feminino",
         "1887.12",
         "1861.09",
         "1828.61",
         "2160.82",
         "2176.44"
        ],
        [
         "Masculino",
         "2025.24",
         "2005.31",
         "1830.54",
         "1881.08",
         "1871.38"
        ]
       ],
       "shape": {
        "columns": 5,
        "rows": 2
       }
      },
      "text/html": [
       "<div>\n",
       "<style scoped>\n",
       "    .dataframe tbody tr th:only-of-type {\n",
       "        vertical-align: middle;\n",
       "    }\n",
       "\n",
       "    .dataframe tbody tr th {\n",
       "        vertical-align: top;\n",
       "    }\n",
       "\n",
       "    .dataframe thead th {\n",
       "        text-align: right;\n",
       "    }\n",
       "</style>\n",
       "<table border=\"1\" class=\"dataframe\">\n",
       "  <thead>\n",
       "    <tr style=\"text-align: right;\">\n",
       "      <th>regiao_cliente</th>\n",
       "      <th>Centro-Oeste</th>\n",
       "      <th>Nordeste</th>\n",
       "      <th>Norte</th>\n",
       "      <th>Sudeste</th>\n",
       "      <th>Sul</th>\n",
       "    </tr>\n",
       "    <tr>\n",
       "      <th>sexo_biologico</th>\n",
       "      <th></th>\n",
       "      <th></th>\n",
       "      <th></th>\n",
       "      <th></th>\n",
       "      <th></th>\n",
       "    </tr>\n",
       "  </thead>\n",
       "  <tbody>\n",
       "    <tr>\n",
       "      <th>Feminino</th>\n",
       "      <td>1887.12</td>\n",
       "      <td>1861.09</td>\n",
       "      <td>1828.61</td>\n",
       "      <td>2160.82</td>\n",
       "      <td>2176.44</td>\n",
       "    </tr>\n",
       "    <tr>\n",
       "      <th>Masculino</th>\n",
       "      <td>2025.24</td>\n",
       "      <td>2005.31</td>\n",
       "      <td>1830.54</td>\n",
       "      <td>1881.08</td>\n",
       "      <td>1871.38</td>\n",
       "    </tr>\n",
       "  </tbody>\n",
       "</table>\n",
       "</div>"
      ],
      "text/plain": [
       "regiao_cliente  Centro-Oeste  Nordeste    Norte  Sudeste      Sul\n",
       "sexo_biologico                                                   \n",
       "Feminino             1887.12   1861.09  1828.61  2160.82  2176.44\n",
       "Masculino            2025.24   2005.31  1830.54  1881.08  1871.38"
      ]
     },
     "execution_count": 38,
     "metadata": {},
     "output_type": "execute_result"
    }
   ],
   "source": [
    "ticket_medio = round(pd.crosstab(df['sexo_biologico'], df['regiao_cliente'], values=df['total_compra'], aggfunc='mean'), 2)\n",
    "\n",
    "ticket_medio"
   ]
  },
  {
   "cell_type": "markdown",
   "metadata": {
    "id": "S4XYUAUvxkHr"
   },
   "source": [
    "Temos o total de cada compra dentro do nosso dataset. Precisamos então calcular o ticket médio das pessoas por sexo e região para encontrar, por exemplo, a média de compras de uma pessoa do sexo masculino da região Sudeste ou uma pessoa do sexo feminino da região Norte. Bem interessante, não é?"
   ]
  },
  {
   "cell_type": "markdown",
   "metadata": {
    "id": "q6C0M73FxoIR"
   },
   "source": [
    "Observando a matriz, percebemos que as pessoas de sexo biológico masculino possuem um ticket médio acima do feminino nas regiões Centro-Oeste e Nordeste, com uma diferença próxima de **R\\$150,00**. Em contrapartida, as pessoas de sexo biológico feminino gastam mais do que o masculino nas regiões Sul e Sudeste, com uma diferença por volta de **R\\$300,00** reais.\n",
    "\n",
    "A análise de ticket médio aqui nos ajudou a entender o comportamento de consumo de diferentes segmentos de clientes."
   ]
  },
  {
   "cell_type": "markdown",
   "metadata": {
    "id": "V6iS-yqwDwQm"
   },
   "source": [
    "# **3. Analisando a tendência dos dados**\n",
    "\n",
    "---\n"
   ]
  },
  {
   "cell_type": "markdown",
   "metadata": {
    "id": "Y3nmdRYXPJgZ"
   },
   "source": [
    "## **3.1 Calculando a média de uma variável**\n",
    "\n",
    "---\n"
   ]
  },
  {
   "cell_type": "markdown",
   "metadata": {
    "id": "eQxC56cwPLm8"
   },
   "source": [
    "### <font color=\"#E23155\" face=\"Verdana\">Demanda 4: Tempo de entrega por tipo de produto</font>"
   ]
  },
  {
   "cell_type": "markdown",
   "metadata": {
    "id": "YtGCCinfPMJ_"
   },
   "source": [
    "A equipe de marketing e vendas está buscando formas de melhorar a experiência do cliente, e percebeu que o **tempo de entrega** é um fator crítico para aumentar a satisfação.\n",
    "\n",
    "Por exemplo, produtos de categorias diferentes, como eletrônicos e roupas, podem ter tempos de entrega distintos devido a fatores como peso, localização dos fornecedores e demanda.\n",
    "\n",
    "Por isso, precisamos calcular o **tempo médio de entrega para cada categoria de produto** com base nos dados históricos, visando fornecer estimativas mais precisas no site e permitir ajustes na logística."
   ]
  },
  {
   "cell_type": "markdown",
   "metadata": {
    "id": "fqVLiEFNPOLr"
   },
   "source": [
    "### **Medidas de Tendência Central**\n",
    "\n",
    "As **medidas de tendência central** são ferramentas estatísticas que ajudam a descrever as características dos dados resumindo-os em um único valor. Essas medidas (média, mediana e moda) são utilizadas em diversas análises e técnicas visando extrair informações dos dados.\n",
    "\n",
    "### **Média aritmética ($\\mu$)**\n",
    "\n",
    "A **média aritmética**  é uma das mais conhecidas medidas de resumo. Ela é a soma de todos os valores divididos pelo número de observações. Representa um ponto central dos dados, ou seja, um ponto de equilíbrio.\n",
    "\n",
    "\n",
    "# $$\\mu = \\frac 1n\\sum_{i=1}^{n}X_i = \\frac{X_1 + X_2 + ... + X_n}{n}$$\n",
    "\n",
    "Onde:\n",
    "\n",
    "$n$ = número de observações (registros)\n",
    "\n",
    "$X_i$ = valor da i-ésima observação (registro)"
   ]
  },
  {
   "cell_type": "markdown",
   "metadata": {
    "id": "zUPF3EKovM-H"
   },
   "source": [
    "### <font color=\"#E23155\" face=\"Verdana\">Solução:</font>"
   ]
  },
  {
   "cell_type": "code",
   "execution_count": 39,
   "metadata": {
    "id": "usZVyOnDjspA"
   },
   "outputs": [
    {
     "data": {
      "text/plain": [
       "np.float64(10.043535)"
      ]
     },
     "execution_count": 39,
     "metadata": {},
     "output_type": "execute_result"
    }
   ],
   "source": [
    "df.tempo_entrega.mean()"
   ]
  },
  {
   "cell_type": "code",
   "execution_count": 40,
   "metadata": {
    "id": "3psl3zMmjsi5"
   },
   "outputs": [
    {
     "data": {
      "text/plain": [
       "np.float64(10.043535)"
      ]
     },
     "execution_count": 40,
     "metadata": {},
     "output_type": "execute_result"
    }
   ],
   "source": [
    "media_entrega = df.tempo_entrega.mean()\n",
    "media_entrega"
   ]
  },
  {
   "cell_type": "markdown",
   "metadata": {
    "id": "U6m4kbzAvVFR"
   },
   "source": [
    "#### ***A média é sempre a melhor forma de resumir os dados***\n",
    "\n",
    "A resposta é **não**! Por ser um ponto de equilíbrio, em algumas análises ela pode não ser a forma mais correta de indicar a tendência central.\n",
    "\n",
    "Isto porque ela é muito influenciada pelos extremos da distribuição. Entretanto, com outras informações aliadas à média podemos tirar boas conclusões e investigar se precisamos ou não de algum tratamento e/ou transformação do dado."
   ]
  },
  {
   "cell_type": "code",
   "execution_count": 41,
   "metadata": {
    "id": "kXRQXvX7jvCM"
   },
   "outputs": [
    {
     "data": {
      "application/vnd.microsoft.datawrangler.viewer.v0+json": {
       "columns": [
        {
         "name": "index",
         "rawType": "int64",
         "type": "integer"
        },
        {
         "name": "categoria_produto",
         "rawType": "object",
         "type": "string"
        },
        {
         "name": "tempo_entrega",
         "rawType": "float64",
         "type": "float"
        }
       ],
       "ref": "941b9c4d-907f-4d92-81d6-0a04a791a238",
       "rows": [
        [
         "0",
         "Alimentos e Bebidas",
         "7.7"
        ],
        [
         "1",
         "Beleza e Cuidados Pessoais",
         "8.9"
        ],
        [
         "2",
         "Brinquedos",
         "10.1"
        ],
        [
         "3",
         "Casa e Mobílias",
         "14.4"
        ],
        [
         "4",
         "Eletrônicos",
         "7.2"
        ],
        [
         "5",
         "Esporte e Lazer",
         "10.7"
        ],
        [
         "6",
         "Ferramentas e Construção",
         "13.6"
        ],
        [
         "7",
         "Livros",
         "9.5"
        ],
        [
         "8",
         "Papelaria e Escritório",
         "12.0"
        ],
        [
         "9",
         "Roupas, Calçados e Acessórios",
         "9.2"
        ]
       ],
       "shape": {
        "columns": 2,
        "rows": 10
       }
      },
      "text/html": [
       "<div>\n",
       "<style scoped>\n",
       "    .dataframe tbody tr th:only-of-type {\n",
       "        vertical-align: middle;\n",
       "    }\n",
       "\n",
       "    .dataframe tbody tr th {\n",
       "        vertical-align: top;\n",
       "    }\n",
       "\n",
       "    .dataframe thead th {\n",
       "        text-align: right;\n",
       "    }\n",
       "</style>\n",
       "<table border=\"1\" class=\"dataframe\">\n",
       "  <thead>\n",
       "    <tr style=\"text-align: right;\">\n",
       "      <th></th>\n",
       "      <th>categoria_produto</th>\n",
       "      <th>tempo_entrega</th>\n",
       "    </tr>\n",
       "  </thead>\n",
       "  <tbody>\n",
       "    <tr>\n",
       "      <th>0</th>\n",
       "      <td>Alimentos e Bebidas</td>\n",
       "      <td>7.7</td>\n",
       "    </tr>\n",
       "    <tr>\n",
       "      <th>1</th>\n",
       "      <td>Beleza e Cuidados Pessoais</td>\n",
       "      <td>8.9</td>\n",
       "    </tr>\n",
       "    <tr>\n",
       "      <th>2</th>\n",
       "      <td>Brinquedos</td>\n",
       "      <td>10.1</td>\n",
       "    </tr>\n",
       "    <tr>\n",
       "      <th>3</th>\n",
       "      <td>Casa e Mobílias</td>\n",
       "      <td>14.4</td>\n",
       "    </tr>\n",
       "    <tr>\n",
       "      <th>4</th>\n",
       "      <td>Eletrônicos</td>\n",
       "      <td>7.2</td>\n",
       "    </tr>\n",
       "    <tr>\n",
       "      <th>5</th>\n",
       "      <td>Esporte e Lazer</td>\n",
       "      <td>10.7</td>\n",
       "    </tr>\n",
       "    <tr>\n",
       "      <th>6</th>\n",
       "      <td>Ferramentas e Construção</td>\n",
       "      <td>13.6</td>\n",
       "    </tr>\n",
       "    <tr>\n",
       "      <th>7</th>\n",
       "      <td>Livros</td>\n",
       "      <td>9.5</td>\n",
       "    </tr>\n",
       "    <tr>\n",
       "      <th>8</th>\n",
       "      <td>Papelaria e Escritório</td>\n",
       "      <td>12.0</td>\n",
       "    </tr>\n",
       "    <tr>\n",
       "      <th>9</th>\n",
       "      <td>Roupas, Calçados e Acessórios</td>\n",
       "      <td>9.2</td>\n",
       "    </tr>\n",
       "  </tbody>\n",
       "</table>\n",
       "</div>"
      ],
      "text/plain": [
       "               categoria_produto  tempo_entrega\n",
       "0            Alimentos e Bebidas            7.7\n",
       "1     Beleza e Cuidados Pessoais            8.9\n",
       "2                     Brinquedos           10.1\n",
       "3                Casa e Mobílias           14.4\n",
       "4                    Eletrônicos            7.2\n",
       "5                Esporte e Lazer           10.7\n",
       "6       Ferramentas e Construção           13.6\n",
       "7                         Livros            9.5\n",
       "8         Papelaria e Escritório           12.0\n",
       "9  Roupas, Calçados e Acessórios            9.2"
      ]
     },
     "execution_count": 41,
     "metadata": {},
     "output_type": "execute_result"
    }
   ],
   "source": [
    "media_entrega_cat = df.groupby('categoria_produto')['tempo_entrega'].mean().reset_index().round(1)\n",
    "media_entrega_cat"
   ]
  },
  {
   "cell_type": "code",
   "execution_count": 42,
   "metadata": {
    "id": "b3syv8W-ju9S"
   },
   "outputs": [
    {
     "data": {
      "application/vnd.microsoft.datawrangler.viewer.v0+json": {
       "columns": [
        {
         "name": "index",
         "rawType": "int64",
         "type": "integer"
        },
        {
         "name": "categoria_produto",
         "rawType": "object",
         "type": "string"
        },
        {
         "name": "media_tempo",
         "rawType": "float64",
         "type": "float"
        }
       ],
       "ref": "ca8f5ee7-b883-431a-bde9-0178fbe312db",
       "rows": [
        [
         "3",
         "Casa e Mobílias",
         "14.4"
        ],
        [
         "6",
         "Ferramentas e Construção",
         "13.6"
        ],
        [
         "8",
         "Papelaria e Escritório",
         "12.0"
        ],
        [
         "5",
         "Esporte e Lazer",
         "10.7"
        ],
        [
         "2",
         "Brinquedos",
         "10.1"
        ],
        [
         "7",
         "Livros",
         "9.5"
        ],
        [
         "9",
         "Roupas, Calçados e Acessórios",
         "9.2"
        ],
        [
         "1",
         "Beleza e Cuidados Pessoais",
         "8.9"
        ],
        [
         "0",
         "Alimentos e Bebidas",
         "7.7"
        ],
        [
         "4",
         "Eletrônicos",
         "7.2"
        ]
       ],
       "shape": {
        "columns": 2,
        "rows": 10
       }
      },
      "text/html": [
       "<div>\n",
       "<style scoped>\n",
       "    .dataframe tbody tr th:only-of-type {\n",
       "        vertical-align: middle;\n",
       "    }\n",
       "\n",
       "    .dataframe tbody tr th {\n",
       "        vertical-align: top;\n",
       "    }\n",
       "\n",
       "    .dataframe thead th {\n",
       "        text-align: right;\n",
       "    }\n",
       "</style>\n",
       "<table border=\"1\" class=\"dataframe\">\n",
       "  <thead>\n",
       "    <tr style=\"text-align: right;\">\n",
       "      <th></th>\n",
       "      <th>categoria_produto</th>\n",
       "      <th>media_tempo</th>\n",
       "    </tr>\n",
       "  </thead>\n",
       "  <tbody>\n",
       "    <tr>\n",
       "      <th>3</th>\n",
       "      <td>Casa e Mobílias</td>\n",
       "      <td>14.4</td>\n",
       "    </tr>\n",
       "    <tr>\n",
       "      <th>6</th>\n",
       "      <td>Ferramentas e Construção</td>\n",
       "      <td>13.6</td>\n",
       "    </tr>\n",
       "    <tr>\n",
       "      <th>8</th>\n",
       "      <td>Papelaria e Escritório</td>\n",
       "      <td>12.0</td>\n",
       "    </tr>\n",
       "    <tr>\n",
       "      <th>5</th>\n",
       "      <td>Esporte e Lazer</td>\n",
       "      <td>10.7</td>\n",
       "    </tr>\n",
       "    <tr>\n",
       "      <th>2</th>\n",
       "      <td>Brinquedos</td>\n",
       "      <td>10.1</td>\n",
       "    </tr>\n",
       "    <tr>\n",
       "      <th>7</th>\n",
       "      <td>Livros</td>\n",
       "      <td>9.5</td>\n",
       "    </tr>\n",
       "    <tr>\n",
       "      <th>9</th>\n",
       "      <td>Roupas, Calçados e Acessórios</td>\n",
       "      <td>9.2</td>\n",
       "    </tr>\n",
       "    <tr>\n",
       "      <th>1</th>\n",
       "      <td>Beleza e Cuidados Pessoais</td>\n",
       "      <td>8.9</td>\n",
       "    </tr>\n",
       "    <tr>\n",
       "      <th>0</th>\n",
       "      <td>Alimentos e Bebidas</td>\n",
       "      <td>7.7</td>\n",
       "    </tr>\n",
       "    <tr>\n",
       "      <th>4</th>\n",
       "      <td>Eletrônicos</td>\n",
       "      <td>7.2</td>\n",
       "    </tr>\n",
       "  </tbody>\n",
       "</table>\n",
       "</div>"
      ],
      "text/plain": [
       "               categoria_produto  media_tempo\n",
       "3                Casa e Mobílias         14.4\n",
       "6       Ferramentas e Construção         13.6\n",
       "8         Papelaria e Escritório         12.0\n",
       "5                Esporte e Lazer         10.7\n",
       "2                     Brinquedos         10.1\n",
       "7                         Livros          9.5\n",
       "9  Roupas, Calçados e Acessórios          9.2\n",
       "1     Beleza e Cuidados Pessoais          8.9\n",
       "0            Alimentos e Bebidas          7.7\n",
       "4                    Eletrônicos          7.2"
      ]
     },
     "execution_count": 42,
     "metadata": {},
     "output_type": "execute_result"
    }
   ],
   "source": [
    "media_entrega_cat.columns = ['categoria_produto', 'media_tempo']\n",
    "media_entrega_cat = media_entrega_cat.sort_values(by='media_tempo', ascending=False)\n",
    "media_entrega_cat"
   ]
  },
  {
   "cell_type": "code",
   "execution_count": 43,
   "metadata": {
    "id": "2Gs0aZ2ejxtC"
   },
   "outputs": [
    {
     "data": {
      "image/png": "[encoded data removed]",
      "text/plain": [
       "<Figure size 800x600 with 1 Axes>"
      ]
     },
     "metadata": {},
     "output_type": "display_data"
    }
   ],
   "source": [
    "# Criando o gráfico de barras com seaborn\n",
    "plt.figure(figsize=(8, 6))\n",
    "sns.barplot(data=media_entrega_cat, x='media_tempo', y='categoria_produto')\n",
    "plt.axvline(media_entrega, color='red')\n",
    "\n",
    "\n",
    "plt.xlabel('Tempo de Entrega')\n",
    "plt.ylabel('Categoria de Produto')\n",
    "\n",
    "\n",
    "plt.show()"
   ]
  },
  {
   "cell_type": "markdown",
   "metadata": {
    "id": "01oDFiZtvXkn"
   },
   "source": [
    "Como a empresa não possuia informações precisas sobre como os tempos de entrega variam entre as categorias de produtos, isso dificultava a definição de estimativas para os clientes, gerando frustrações quando o tempo real de entrega não corresponde ao esperado.\n",
    "\n",
    "Aqui conseguimos apontar os gargalos e quais as categorias que precisam de atenção, seja pela dificuldade de transporte ou outros problemas."
   ]
  },
  {
   "cell_type": "markdown",
   "metadata": {
    "id": "g3zvC6ITMMWw"
   },
   "source": [
    "## **3.2 Aplicando a mediana na investigação dos dados**\n",
    "\n",
    "---"
   ]
  },
  {
   "cell_type": "markdown",
   "metadata": {
    "id": "vx45hn83MN-K"
   },
   "source": [
    "### <font color=\"#E23155\" face=\"Verdana\">Demanda 5: Vendas de eletrônicos na região Nordeste</font>"
   ]
  },
  {
   "cell_type": "markdown",
   "metadata": {
    "id": "GcRbqpbN7I28"
   },
   "source": [
    "Para nossa nova demanda, a divisão da equipe de marketing e vendas que cuida das vendas no Nordeste está buscando investigar o comportamento dos consumidores nessa área, devido ao crescimento significativo nas vendas de **Eletrônicos**. A equipe deseja entender melhor a distribuição dos valores de vendas para ajustar sua estratégia de preços e campanhas.\n",
    "\n",
    "Embora a média das vendas de eletrônicos forneça uma visão geral, ela pode ser influenciada por valores extremos, como compras muito altas ou muito baixas.\n",
    "\n",
    "Para capturar um retrato mais representativo do comportamento típico dos consumidores qual medida podemos utilizar?"
   ]
  },
  {
   "cell_type": "markdown",
   "metadata": {
    "id": "Jt3utyFQ7Kn4"
   },
   "source": [
    "### **Mediana ($M_d$)**\n",
    "\n",
    "A **mediana** representa o valor central de um conjunto de dados, passando o número que divide um conjunto de dados exatamente ao meio. Para obtermos a mediana de uma conjunto de dados devemos proceder da seguinte maneira:\n",
    "\n",
    "1. Ordenar o conjunto de dados;\n",
    "2. Identificar o número de observações (registros) do conjunto de dados ($n$);\n",
    "3. Identificar o elemento mediano:\n",
    "\n",
    "$$ Elemento_{Md} = \\left\\{\\begin{matrix}\n",
    "\\frac{n+1}2 & ,se \\ n \\ for \\ ímpar \\\\\n",
    " &  \\\\\n",
    "\\frac{n}2 & ,se \\ n \\ for \\ par \\\\\n",
    "\\end{matrix}\\right.$$\n",
    "\n",
    "&nbsp;\n",
    "\n",
    "4. Obter a mediana:\n",
    "\n",
    "$$ M_d = \\left\\{\\begin{matrix}\n",
    "X_{Elemento_{Md}} & ,se \\ n \\ for \\ ímpar \\\\\n",
    " &  \\\\\n",
    "\\frac{X_{Elemento_{Md}} + X_{Elemento_{Md}+1}}2 & ,se \\ n \\ for \\ par \\\\\n",
    "\\end{matrix}\\right.$$\n",
    "\n",
    "&nbsp;"
   ]
  },
  {
   "cell_type": "markdown",
   "metadata": {
    "id": "WVbkrC4g7Mm5"
   },
   "source": [
    "### <font color=\"#E23155\" face=\"Verdana\">Solução:</font>"
   ]
  },
  {
   "cell_type": "markdown",
   "metadata": {
    "id": "nX-DvrzN7OWb"
   },
   "source": [
    "##### **Usando a fórmula**"
   ]
  },
  {
   "cell_type": "code",
   "execution_count": 44,
   "metadata": {
    "id": "ad8GTBgQj5nn"
   },
   "outputs": [
    {
     "data": {
      "application/vnd.microsoft.datawrangler.viewer.v0+json": {
       "columns": [
        {
         "name": "index",
         "rawType": "int64",
         "type": "integer"
        },
        {
         "name": "id_compra",
         "rawType": "object",
         "type": "string"
        },
        {
         "name": "sexo_biologico",
         "rawType": "object",
         "type": "string"
        },
        {
         "name": "idade_cliente",
         "rawType": "int64",
         "type": "integer"
        },
        {
         "name": "regiao_cliente",
         "rawType": "object",
         "type": "string"
        },
        {
         "name": "categoria_produto",
         "rawType": "object",
         "type": "string"
        },
        {
         "name": "preco_unitario",
         "rawType": "float64",
         "type": "float"
        },
        {
         "name": "quantidade",
         "rawType": "int64",
         "type": "integer"
        },
        {
         "name": "total_compra",
         "rawType": "float64",
         "type": "float"
        },
        {
         "name": "tempo_entrega",
         "rawType": "int64",
         "type": "integer"
        },
        {
         "name": "avaliacao",
         "rawType": "int64",
         "type": "integer"
        },
        {
         "name": "avaliacao_indicador",
         "rawType": "category",
         "type": "unknown"
        }
       ],
       "ref": "8671382f-5c05-432c-b182-e0e221553342",
       "rows": [
        [
         "78891",
         "b398ddb6-2790-443a-9d32-15ff5778ca19",
         "Feminino",
         "25",
         "Nordeste",
         "Eletrônicos",
         "25.35",
         "1",
         "25.35",
         "9",
         "3",
         "Regular"
        ],
        [
         "36398",
         "76f5e991-cf96-4b4c-b6f5-4f84e763fdb9",
         "Feminino",
         "26",
         "Nordeste",
         "Eletrônicos",
         "26.34",
         "1",
         "26.34",
         "9",
         "3",
         "Regular"
        ],
        [
         "71461",
         "689e13d1-85f7-44ac-997f-e46ed8c1fdde",
         "Feminino",
         "34",
         "Nordeste",
         "Eletrônicos",
         "29.85",
         "1",
         "29.85",
         "7",
         "5",
         "Ótima"
        ],
        [
         "112356",
         "b2878a8d-e3cc-40af-a46c-d9ae1b8e3aa6",
         "Feminino",
         "27",
         "Nordeste",
         "Eletrônicos",
         "30.09",
         "1",
         "30.09",
         "4",
         "5",
         "Ótima"
        ],
        [
         "29317",
         "23e748d7-2f72-4c3c-97ce-ac9fc5624ea8",
         "Feminino",
         "39",
         "Nordeste",
         "Eletrônicos",
         "32.92",
         "1",
         "32.92",
         "6",
         "2",
         "Ruim"
        ]
       ],
       "shape": {
        "columns": 11,
        "rows": 5
       }
      },
      "text/html": [
       "<div>\n",
       "<style scoped>\n",
       "    .dataframe tbody tr th:only-of-type {\n",
       "        vertical-align: middle;\n",
       "    }\n",
       "\n",
       "    .dataframe tbody tr th {\n",
       "        vertical-align: top;\n",
       "    }\n",
       "\n",
       "    .dataframe thead th {\n",
       "        text-align: right;\n",
       "    }\n",
       "</style>\n",
       "<table border=\"1\" class=\"dataframe\">\n",
       "  <thead>\n",
       "    <tr style=\"text-align: right;\">\n",
       "      <th></th>\n",
       "      <th>id_compra</th>\n",
       "      <th>sexo_biologico</th>\n",
       "      <th>idade_cliente</th>\n",
       "      <th>regiao_cliente</th>\n",
       "      <th>categoria_produto</th>\n",
       "      <th>preco_unitario</th>\n",
       "      <th>quantidade</th>\n",
       "      <th>total_compra</th>\n",
       "      <th>tempo_entrega</th>\n",
       "      <th>avaliacao</th>\n",
       "      <th>avaliacao_indicador</th>\n",
       "    </tr>\n",
       "  </thead>\n",
       "  <tbody>\n",
       "    <tr>\n",
       "      <th>78891</th>\n",
       "      <td>b398ddb6-2790-443a-9d32-15ff5778ca19</td>\n",
       "      <td>Feminino</td>\n",
       "      <td>25</td>\n",
       "      <td>Nordeste</td>\n",
       "      <td>Eletrônicos</td>\n",
       "      <td>25.35</td>\n",
       "      <td>1</td>\n",
       "      <td>25.35</td>\n",
       "      <td>9</td>\n",
       "      <td>3</td>\n",
       "      <td>Regular</td>\n",
       "    </tr>\n",
       "    <tr>\n",
       "      <th>36398</th>\n",
       "      <td>76f5e991-cf96-4b4c-b6f5-4f84e763fdb9</td>\n",
       "      <td>Feminino</td>\n",
       "      <td>26</td>\n",
       "      <td>Nordeste</td>\n",
       "      <td>Eletrônicos</td>\n",
       "      <td>26.34</td>\n",
       "      <td>1</td>\n",
       "      <td>26.34</td>\n",
       "      <td>9</td>\n",
       "      <td>3</td>\n",
       "      <td>Regular</td>\n",
       "    </tr>\n",
       "    <tr>\n",
       "      <th>71461</th>\n",
       "      <td>689e13d1-85f7-44ac-997f-e46ed8c1fdde</td>\n",
       "      <td>Feminino</td>\n",
       "      <td>34</td>\n",
       "      <td>Nordeste</td>\n",
       "      <td>Eletrônicos</td>\n",
       "      <td>29.85</td>\n",
       "      <td>1</td>\n",
       "      <td>29.85</td>\n",
       "      <td>7</td>\n",
       "      <td>5</td>\n",
       "      <td>Ótima</td>\n",
       "    </tr>\n",
       "    <tr>\n",
       "      <th>112356</th>\n",
       "      <td>b2878a8d-e3cc-40af-a46c-d9ae1b8e3aa6</td>\n",
       "      <td>Feminino</td>\n",
       "      <td>27</td>\n",
       "      <td>Nordeste</td>\n",
       "      <td>Eletrônicos</td>\n",
       "      <td>30.09</td>\n",
       "      <td>1</td>\n",
       "      <td>30.09</td>\n",
       "      <td>4</td>\n",
       "      <td>5</td>\n",
       "      <td>Ótima</td>\n",
       "    </tr>\n",
       "    <tr>\n",
       "      <th>29317</th>\n",
       "      <td>23e748d7-2f72-4c3c-97ce-ac9fc5624ea8</td>\n",
       "      <td>Feminino</td>\n",
       "      <td>39</td>\n",
       "      <td>Nordeste</td>\n",
       "      <td>Eletrônicos</td>\n",
       "      <td>32.92</td>\n",
       "      <td>1</td>\n",
       "      <td>32.92</td>\n",
       "      <td>6</td>\n",
       "      <td>2</td>\n",
       "      <td>Ruim</td>\n",
       "    </tr>\n",
       "  </tbody>\n",
       "</table>\n",
       "</div>"
      ],
      "text/plain": [
       "                                   id_compra sexo_biologico  idade_cliente  \\\n",
       "78891   b398ddb6-2790-443a-9d32-15ff5778ca19       Feminino             25   \n",
       "36398   76f5e991-cf96-4b4c-b6f5-4f84e763fdb9       Feminino             26   \n",
       "71461   689e13d1-85f7-44ac-997f-e46ed8c1fdde       Feminino             34   \n",
       "112356  b2878a8d-e3cc-40af-a46c-d9ae1b8e3aa6       Feminino             27   \n",
       "29317   23e748d7-2f72-4c3c-97ce-ac9fc5624ea8       Feminino             39   \n",
       "\n",
       "       regiao_cliente categoria_produto  preco_unitario  quantidade  \\\n",
       "78891        Nordeste       Eletrônicos           25.35           1   \n",
       "36398        Nordeste       Eletrônicos           26.34           1   \n",
       "71461        Nordeste       Eletrônicos           29.85           1   \n",
       "112356       Nordeste       Eletrônicos           30.09           1   \n",
       "29317        Nordeste       Eletrônicos           32.92           1   \n",
       "\n",
       "        total_compra  tempo_entrega  avaliacao avaliacao_indicador  \n",
       "78891          25.35              9          3             Regular  \n",
       "36398          26.34              9          3             Regular  \n",
       "71461          29.85              7          5               Ótima  \n",
       "112356         30.09              4          5               Ótima  \n",
       "29317          32.92              6          2                Ruim  "
      ]
     },
     "execution_count": 44,
     "metadata": {},
     "output_type": "execute_result"
    }
   ],
   "source": [
    "dados_nordeste = df[(df['regiao_cliente'] == 'Nordeste') & (df['categoria_produto'] == 'Eletrônicos')]\n",
    "dados_nordeste = dados_nordeste.sort_values('total_compra')\n",
    "dados_nordeste.head()"
   ]
  },
  {
   "cell_type": "code",
   "execution_count": 45,
   "metadata": {
    "id": "vnIzYHr5j5h5"
   },
   "outputs": [
    {
     "data": {
      "text/plain": [
       "8872"
      ]
     },
     "execution_count": 45,
     "metadata": {},
     "output_type": "execute_result"
    }
   ],
   "source": [
    "n = len(dados_nordeste)\n",
    "n"
   ]
  },
  {
   "cell_type": "code",
   "execution_count": 46,
   "metadata": {
    "id": "k-m1URvNj5av"
   },
   "outputs": [
    {
     "data": {
      "text/plain": [
       "4436"
      ]
     },
     "execution_count": 46,
     "metadata": {},
     "output_type": "execute_result"
    }
   ],
   "source": [
    "elemento_md = int(n / 2)\n",
    "elemento_md"
   ]
  },
  {
   "cell_type": "code",
   "execution_count": 47,
   "metadata": {
    "id": "LhyuApCtj5UJ"
   },
   "outputs": [
    {
     "data": {
      "text/plain": [
       "np.float64(2989.62)"
      ]
     },
     "execution_count": 47,
     "metadata": {},
     "output_type": "execute_result"
    }
   ],
   "source": [
    "# Calculando a média entre o valor no índice 'elemento_md' e o próximo valor\n",
    "round((dados_nordeste['total_compra'].iloc[elemento_md - 1] + dados_nordeste['total_compra'].iloc[elemento_md]) / 2,2)"
   ]
  },
  {
   "cell_type": "markdown",
   "metadata": {
    "id": "Y8Lb4RpO7Rlx"
   },
   "source": [
    "##### **Usando a função `median()`**"
   ]
  },
  {
   "cell_type": "code",
   "execution_count": 48,
   "metadata": {
    "id": "BI2m6lP1j0SN"
   },
   "outputs": [
    {
     "data": {
      "text/plain": [
       "np.float64(2989.62)"
      ]
     },
     "execution_count": 48,
     "metadata": {},
     "output_type": "execute_result"
    }
   ],
   "source": [
    "dados_nordeste.total_compra.median()"
   ]
  },
  {
   "cell_type": "code",
   "execution_count": 49,
   "metadata": {
    "id": "JUY8KyNHj0OF"
   },
   "outputs": [
    {
     "data": {
      "text/plain": [
       "np.float64(3969.225537646528)"
      ]
     },
     "execution_count": 49,
     "metadata": {},
     "output_type": "execute_result"
    }
   ],
   "source": [
    "dados_nordeste.total_compra.mean()"
   ]
  },
  {
   "cell_type": "markdown",
   "metadata": {
    "id": "tWyxUtqq7UYq"
   },
   "source": [
    "#### ***Por que usar a mediana ao invés da média neste caso?***\n",
    "\n",
    "Porque a **média** pode ser influenciada por valores extremos, enquanto a **mediana** reflete o ponto central das vendas, oferecendo uma medida de tendência central mais adequada em casos de dados assimétricos.\n",
    "\n",
    "A mediana indica aqui que metade dos clientes gasta até, aproximadamente, R\\$ 2.990,00 em eletrônicos, enquanto a média (R$ 3.970,00) sugere que há vendas bastante altas puxando o valor médio para cima.\n",
    "\n",
    "---\n",
    "\n"
   ]
  },
  {
   "cell_type": "markdown",
   "metadata": {
    "id": "338fE8qL7WGa"
   },
   "source": [
    "##### **Visualizando diferença graficamente**\n",
    "\n",
    "Para visualizar essa discrepância entre os dados, vamos criar um gráfico chamado **histograma**. Ele é uma espécie de gráfico de barras que demonstra uma distribuição de frequências.\n",
    "\n",
    "No histograma, a base de cada uma das barras representa uma classe e a altura representa a quantidade ou frequência absoluta com que o valor de cada classe ocorre."
   ]
  },
  {
   "cell_type": "code",
   "execution_count": 50,
   "metadata": {
    "id": "SuOptAnsj2p9"
   },
   "outputs": [
    {
     "data": {
      "image/png": "[encoded data removed]",
      "text/plain": [
       "<Figure size 640x480 with 1 Axes>"
      ]
     },
     "metadata": {},
     "output_type": "display_data"
    }
   ],
   "source": [
    "sns.histplot(dados_nordeste.total_compra, bins=30)\n",
    "plt.show()"
   ]
  },
  {
   "cell_type": "markdown",
   "metadata": {
    "id": "6qKzxqOa7ZPd"
   },
   "source": [
    "Como os dados de vendas de eletrônicos tiveram valores muito altos, o que elevou a média para **uma diferença de quase R$1.000,00** em relação à mediana, a mediana oferece uma métrica mais confiável para entender o comportamento típico do consumidor.\n",
    "\n",
    "Neste caso, a mediana seria o ideal para reportar ao time de vendas como valor esperado de compra das pessoas clientes da empresa na Região Nordeste para produtos eletrônicos.\n",
    "\n",
    "Essa informação pode auxiliar em estratégias de vendas como, por exemplo:\n",
    "\n",
    "1. Criar promoções em produtos na faixa da mediana para atrair mais consumidores \"típicos\".\n",
    "2. Destacar os produtos de alto valor nas campanhas de marketing para atingir clientes dispostos a gastar mais."
   ]
  },
  {
   "cell_type": "markdown",
   "metadata": {
    "id": "Xr64dC5d7bL0"
   },
   "source": [
    "Como desafio, que tal você analisar também as medianas para os diferentes sexos biológicos?"
   ]
  },
  {
   "cell_type": "markdown",
   "metadata": {
    "id": "I_hLmh_dMarM"
   },
   "source": [
    "## **3.3 Identificando os valores mais frequentes**\n",
    "\n",
    "---\n",
    "\n"
   ]
  },
  {
   "cell_type": "markdown",
   "metadata": {
    "id": "rukYid-iMcTO"
   },
   "source": [
    "### <font color=\"#E23155\" face=\"Verdana\">Demanda 6: Campanha promocional de livros</font>"
   ]
  },
  {
   "cell_type": "markdown",
   "metadata": {
    "id": "90VZ90o98Jbr"
   },
   "source": [
    "A equipe de marketing e vendas da empresa em que estamos prestando consultoria, está planejando uma nova campanha promocional de \"Pague X e Leve Y Livros\". Para definir a quantidade de livros a ofertar no pacote, eles decidiram basear-se na quantidade de livros mais frequentemente comprada pelos clientes. Isso permite criar uma promoção direcionada ao comportamento mais comum dos consumidores.\n",
    "\n",
    "Precisamos então identificar qual ou quais quantidades de livro são mais frequentes para a campanha, maximizando a relevância e atratividade da promoção.\n"
   ]
  },
  {
   "cell_type": "markdown",
   "metadata": {
    "id": "D8xb8DsM8LWc"
   },
   "source": [
    "### **Moda ($M_o$)**\n",
    "\n",
    "A **moda** representa o valor mais frequente de um conjunto de dados. Para obtermos a moda, basta observar a frequência com que os valores aparecem no conjunto de dados.\n",
    "\n",
    "Esta medida é bastante utilizada para dados qualitativos, mas também tem aplicações em dados numéricos como em nosso exemplo."
   ]
  },
  {
   "cell_type": "markdown",
   "metadata": {
    "id": "ZD5pcjT_8NWD"
   },
   "source": [
    "### <font color=\"#E23155\" face=\"Verdana\">Solução:</font>"
   ]
  },
  {
   "cell_type": "code",
   "execution_count": 51,
   "metadata": {
    "id": "xf0LLRmcj8fC"
   },
   "outputs": [
    {
     "data": {
      "application/vnd.microsoft.datawrangler.viewer.v0+json": {
       "columns": [
        {
         "name": "regiao_cliente",
         "rawType": "object",
         "type": "string"
        },
        {
         "name": "count",
         "rawType": "int64",
         "type": "integer"
        }
       ],
       "ref": "1229f7cb-8bc5-4310-a58d-067dbae3ed32",
       "rows": [
        [
         "Sudeste",
         "64603"
        ],
        [
         "Nordeste",
         "49567"
        ],
        [
         "Sul",
         "36602"
        ],
        [
         "Centro-Oeste",
         "31567"
        ],
        [
         "Norte",
         "17661"
        ]
       ],
       "shape": {
        "columns": 1,
        "rows": 5
       }
      },
      "text/plain": [
       "regiao_cliente\n",
       "Sudeste         64603\n",
       "Nordeste        49567\n",
       "Sul             36602\n",
       "Centro-Oeste    31567\n",
       "Norte           17661\n",
       "Name: count, dtype: int64"
      ]
     },
     "execution_count": 51,
     "metadata": {},
     "output_type": "execute_result"
    }
   ],
   "source": [
    "df['regiao_cliente'].value_counts()"
   ]
  },
  {
   "cell_type": "markdown",
   "metadata": {
    "id": "xZqpx8Om8PXh"
   },
   "source": [
    "Existem $n$ formas de encontrar a moda de uma variável. Em dados qualitativos, podemos contar, por exemplo, as ocorrências e pegar a que mais se repete. Já fizemos isso por meio das distribuições de frequência para uma variável."
   ]
  },
  {
   "cell_type": "code",
   "execution_count": 52,
   "metadata": {
    "id": "dsiCNIj9j9ud"
   },
   "outputs": [
    {
     "data": {
      "application/vnd.microsoft.datawrangler.viewer.v0+json": {
       "columns": [
        {
         "name": "index",
         "rawType": "int64",
         "type": "integer"
        },
        {
         "name": "id_compra",
         "rawType": "object",
         "type": "string"
        },
        {
         "name": "sexo_biologico",
         "rawType": "object",
         "type": "string"
        },
        {
         "name": "idade_cliente",
         "rawType": "int64",
         "type": "integer"
        },
        {
         "name": "regiao_cliente",
         "rawType": "object",
         "type": "string"
        },
        {
         "name": "categoria_produto",
         "rawType": "object",
         "type": "string"
        },
        {
         "name": "preco_unitario",
         "rawType": "float64",
         "type": "float"
        },
        {
         "name": "quantidade",
         "rawType": "int64",
         "type": "integer"
        },
        {
         "name": "total_compra",
         "rawType": "float64",
         "type": "float"
        },
        {
         "name": "tempo_entrega",
         "rawType": "int64",
         "type": "integer"
        },
        {
         "name": "avaliacao",
         "rawType": "int64",
         "type": "integer"
        },
        {
         "name": "avaliacao_indicador",
         "rawType": "category",
         "type": "unknown"
        }
       ],
       "ref": "94a87ba8-a005-427f-8a1c-966c7c798e05",
       "rows": [
        [
         "11",
         "b0494b41-df5b-488f-b305-43dda2916737",
         "Feminino",
         "24",
         "Centro-Oeste",
         "Livros",
         "300.07",
         "2",
         "600.14",
         "10",
         "4",
         "Boa"
        ],
        [
         "60",
         "7c1da24d-871d-4a84-a21b-b25ad422676a",
         "Masculino",
         "44",
         "Sudeste",
         "Livros",
         "177.15",
         "2",
         "354.3",
         "11",
         "1",
         "Péssima"
        ],
        [
         "61",
         "7dd0a745-207a-41bc-a3bf-c5ff6e1cd274",
         "Masculino",
         "47",
         "Sudeste",
         "Livros",
         "354.72",
         "1",
         "354.72",
         "9",
         "3",
         "Regular"
        ],
        [
         "83",
         "fa44d7e6-e17b-4fef-8326-e9b3035699e5",
         "Masculino",
         "35",
         "Sul",
         "Livros",
         "116.94",
         "3",
         "350.82",
         "16",
         "3",
         "Regular"
        ],
        [
         "92",
         "399a3765-c43e-434f-b9eb-8cb7eb4a21ff",
         "Feminino",
         "26",
         "Sul",
         "Livros",
         "129.11",
         "4",
         "516.44",
         "10",
         "4",
         "Boa"
        ]
       ],
       "shape": {
        "columns": 11,
        "rows": 5
       }
      },
      "text/html": [
       "<div>\n",
       "<style scoped>\n",
       "    .dataframe tbody tr th:only-of-type {\n",
       "        vertical-align: middle;\n",
       "    }\n",
       "\n",
       "    .dataframe tbody tr th {\n",
       "        vertical-align: top;\n",
       "    }\n",
       "\n",
       "    .dataframe thead th {\n",
       "        text-align: right;\n",
       "    }\n",
       "</style>\n",
       "<table border=\"1\" class=\"dataframe\">\n",
       "  <thead>\n",
       "    <tr style=\"text-align: right;\">\n",
       "      <th></th>\n",
       "      <th>id_compra</th>\n",
       "      <th>sexo_biologico</th>\n",
       "      <th>idade_cliente</th>\n",
       "      <th>regiao_cliente</th>\n",
       "      <th>categoria_produto</th>\n",
       "      <th>preco_unitario</th>\n",
       "      <th>quantidade</th>\n",
       "      <th>total_compra</th>\n",
       "      <th>tempo_entrega</th>\n",
       "      <th>avaliacao</th>\n",
       "      <th>avaliacao_indicador</th>\n",
       "    </tr>\n",
       "  </thead>\n",
       "  <tbody>\n",
       "    <tr>\n",
       "      <th>11</th>\n",
       "      <td>b0494b41-df5b-488f-b305-43dda2916737</td>\n",
       "      <td>Feminino</td>\n",
       "      <td>24</td>\n",
       "      <td>Centro-Oeste</td>\n",
       "      <td>Livros</td>\n",
       "      <td>300.07</td>\n",
       "      <td>2</td>\n",
       "      <td>600.14</td>\n",
       "      <td>10</td>\n",
       "      <td>4</td>\n",
       "      <td>Boa</td>\n",
       "    </tr>\n",
       "    <tr>\n",
       "      <th>60</th>\n",
       "      <td>7c1da24d-871d-4a84-a21b-b25ad422676a</td>\n",
       "      <td>Masculino</td>\n",
       "      <td>44</td>\n",
       "      <td>Sudeste</td>\n",
       "      <td>Livros</td>\n",
       "      <td>177.15</td>\n",
       "      <td>2</td>\n",
       "      <td>354.30</td>\n",
       "      <td>11</td>\n",
       "      <td>1</td>\n",
       "      <td>Péssima</td>\n",
       "    </tr>\n",
       "    <tr>\n",
       "      <th>61</th>\n",
       "      <td>7dd0a745-207a-41bc-a3bf-c5ff6e1cd274</td>\n",
       "      <td>Masculino</td>\n",
       "      <td>47</td>\n",
       "      <td>Sudeste</td>\n",
       "      <td>Livros</td>\n",
       "      <td>354.72</td>\n",
       "      <td>1</td>\n",
       "      <td>354.72</td>\n",
       "      <td>9</td>\n",
       "      <td>3</td>\n",
       "      <td>Regular</td>\n",
       "    </tr>\n",
       "    <tr>\n",
       "      <th>83</th>\n",
       "      <td>fa44d7e6-e17b-4fef-8326-e9b3035699e5</td>\n",
       "      <td>Masculino</td>\n",
       "      <td>35</td>\n",
       "      <td>Sul</td>\n",
       "      <td>Livros</td>\n",
       "      <td>116.94</td>\n",
       "      <td>3</td>\n",
       "      <td>350.82</td>\n",
       "      <td>16</td>\n",
       "      <td>3</td>\n",
       "      <td>Regular</td>\n",
       "    </tr>\n",
       "    <tr>\n",
       "      <th>92</th>\n",
       "      <td>399a3765-c43e-434f-b9eb-8cb7eb4a21ff</td>\n",
       "      <td>Feminino</td>\n",
       "      <td>26</td>\n",
       "      <td>Sul</td>\n",
       "      <td>Livros</td>\n",
       "      <td>129.11</td>\n",
       "      <td>4</td>\n",
       "      <td>516.44</td>\n",
       "      <td>10</td>\n",
       "      <td>4</td>\n",
       "      <td>Boa</td>\n",
       "    </tr>\n",
       "  </tbody>\n",
       "</table>\n",
       "</div>"
      ],
      "text/plain": [
       "                               id_compra sexo_biologico  idade_cliente  \\\n",
       "11  b0494b41-df5b-488f-b305-43dda2916737       Feminino             24   \n",
       "60  7c1da24d-871d-4a84-a21b-b25ad422676a      Masculino             44   \n",
       "61  7dd0a745-207a-41bc-a3bf-c5ff6e1cd274      Masculino             47   \n",
       "83  fa44d7e6-e17b-4fef-8326-e9b3035699e5      Masculino             35   \n",
       "92  399a3765-c43e-434f-b9eb-8cb7eb4a21ff       Feminino             26   \n",
       "\n",
       "   regiao_cliente categoria_produto  preco_unitario  quantidade  total_compra  \\\n",
       "11   Centro-Oeste            Livros          300.07           2        600.14   \n",
       "60        Sudeste            Livros          177.15           2        354.30   \n",
       "61        Sudeste            Livros          354.72           1        354.72   \n",
       "83            Sul            Livros          116.94           3        350.82   \n",
       "92            Sul            Livros          129.11           4        516.44   \n",
       "\n",
       "    tempo_entrega  avaliacao avaliacao_indicador  \n",
       "11             10          4                 Boa  \n",
       "60             11          1             Péssima  \n",
       "61              9          3             Regular  \n",
       "83             16          3             Regular  \n",
       "92             10          4                 Boa  "
      ]
     },
     "execution_count": 52,
     "metadata": {},
     "output_type": "execute_result"
    }
   ],
   "source": [
    "dados_filtrados = df[df['categoria_produto'] == 'Livros']\n",
    "dados_filtrados.head()"
   ]
  },
  {
   "cell_type": "markdown",
   "metadata": {
    "id": "SxQqGkOI8SlR"
   },
   "source": [
    "#### ***Quais cuidados devemos ter com a moda?***\n",
    "\n",
    "Por ser o valor mais frequente em um conjunto de dados, em dados numéricos é possível que haja repetições e, por isso, teremos mais de 1 moda (multimodalidade).\n",
    "\n",
    "É importante decidir como lidar com esses casos para atingir o comportamento desejado.\n"
   ]
  },
  {
   "cell_type": "markdown",
   "metadata": {
    "id": "pMouuOxs8USS"
   },
   "source": [
    "A outra forma, utilizando dados quantitativos e/ou qualitativos é por meio também da contagem para cada ocorrência, mas filtrando os máximos ao final, para verificar se a amostra possui uma única moda ou mais."
   ]
  },
  {
   "cell_type": "code",
   "execution_count": 53,
   "metadata": {
    "id": "7v_k3ekFj_yp"
   },
   "outputs": [
    {
     "data": {
      "application/vnd.microsoft.datawrangler.viewer.v0+json": {
       "columns": [
        {
         "name": "index",
         "rawType": "int64",
         "type": "integer"
        },
        {
         "name": "quantidade",
         "rawType": "int64",
         "type": "integer"
        }
       ],
       "ref": "72260a23-b69e-42b8-995d-5568b21a0296",
       "rows": [
        [
         "0",
         "2"
        ],
        [
         "1",
         "4"
        ]
       ],
       "shape": {
        "columns": 1,
        "rows": 2
       }
      },
      "text/plain": [
       "0    2\n",
       "1    4\n",
       "Name: quantidade, dtype: int64"
      ]
     },
     "execution_count": 53,
     "metadata": {},
     "output_type": "execute_result"
    }
   ],
   "source": [
    "moda = dados_filtrados.quantidade.mode()\n",
    "moda"
   ]
  },
  {
   "cell_type": "markdown",
   "metadata": {
    "id": "vlZxi5ot8WN3"
   },
   "source": [
    "Conseguimos observar aqui que temos **2 modas** na quantidade de livros vendidos (**bimodal**) e, portanto, podemos reportar esse resultado ficando a cargo da empresa qual campanha realizar.\n",
    "\n",
    "Será que vale a pena para menos livros ou para mais livros? Ou seria melhor 2 campanhas como \"Pague 2 e Leve 3\" e \"Pague 4 e leve 6\", verificando qual converte mais clientes e gera mais vendas?"
   ]
  },
  {
   "cell_type": "markdown",
   "metadata": {
    "id": "vaK7ctdMMjSn"
   },
   "source": [
    "## **3.4 Compreendendo a relação entre média, mediana e moda**\n",
    "\n",
    "---\n"
   ]
  },
  {
   "cell_type": "markdown",
   "metadata": {
    "id": "-Nl4kK-MMk2T"
   },
   "source": [
    "### <font color=\"#E23155\" face=\"Verdana\">Demanda 7: Investigando as avaliações e sua relação com o tempo de entrega</font>"
   ]
  },
  {
   "cell_type": "markdown",
   "metadata": {
    "id": "sf4pC1Xf8jEh"
   },
   "source": [
    "A equipe de marketing e vendas da empresa recebeu feedbacks de clientes sobre o tempo de entrega. Eles notaram que avaliações \"Ótima\" (nota 5) podem ter certa  relação com o tempo de entrega.\n",
    "\n",
    "A hipótese é que clientes mais satisfeitos (nota 5) tendem a ter um tempo de entrega mais curto, mas isso só pode ser confirmado analisando os dados.\n",
    "Com isso, queremos explorar:\n",
    "* As distribuições do tempo de entrega e o que as medidas de tendência central podem nos informar.\n",
    "* Se o comportamento das avaliações nota 5 realmente indica que entregas mais rápidas são mais apreciadas pelos clientes.\n"
   ]
  },
  {
   "cell_type": "markdown",
   "metadata": {
    "id": "cTYBcvvP8l7g"
   },
   "source": [
    "### <font color=\"#E23155\" face=\"Verdana\">Solução:</font>"
   ]
  },
  {
   "cell_type": "markdown",
   "metadata": {
    "id": "vDbGJoQg8nXK"
   },
   "source": [
    "Faremos uma análise em duas etapas:\n",
    "\n",
    "1. **Distribuição do tempo de entrega:** calcularemos média, mediana e moda e visualizaremos a curva de densidade.\n",
    "2. **Distribuição para avaliações nota 5:** repetiremos o processo para o caso, comparando os resultados com a distribuição geral."
   ]
  },
  {
   "cell_type": "markdown",
   "metadata": {
    "id": "5_Ue_sy38o-Y"
   },
   "source": [
    "### Relação entre média, mediana e moda:\n",
    "\n",
    "Investigar a relação entre as medidas de tendência central pode ser bastante útil para identificar se uma variável é simétrica ou assimétrica, se precisa de algum tipo de transformação ou se é uma forte candidata a ter \"outliers\".\n",
    "\n",
    "Abaixo, temos 3 tipos de comportamentos e como as estatísticas se posicionam em cada uma delas:\n",
    "\n",
    "![texto do link](https://github.com/afonsosr2/estatistica-r-frequencias-medidas/blob/main/imagens/outros/relacao_media_mediana_moda.png?raw=true)\n"
   ]
  },
  {
   "cell_type": "markdown",
   "metadata": {
    "id": "0iw9Fy0E8qn8"
   },
   "source": [
    "Vamos começar com a distribuição do tempo de entrega. Vou primeiro construir um histograma com uma curva de densidade, semelhante a um dos exemplos de cima para observar o comportamento dos tempos de entrega da empresa."
   ]
  },
  {
   "cell_type": "code",
   "execution_count": 54,
   "metadata": {
    "id": "dDPVmhrxkEJA"
   },
   "outputs": [
    {
     "data": {
      "image/png": "[encoded data removed]",
      "text/plain": [
       "<Figure size 640x480 with 1 Axes>"
      ]
     },
     "metadata": {},
     "output_type": "display_data"
    }
   ],
   "source": [
    "sns.histplot(bins=21, data=df, x='tempo_entrega', kde=True, kde_kws={'bw_adjust':2})\n",
    "plt.show()"
   ]
  },
  {
   "cell_type": "code",
   "execution_count": 55,
   "metadata": {
    "id": "Dw3FccRTkEAc"
   },
   "outputs": [
    {
     "data": {
      "text/plain": [
       "np.int64(10)"
      ]
     },
     "execution_count": 55,
     "metadata": {},
     "output_type": "execute_result"
    }
   ],
   "source": [
    "df.tempo_entrega.mode()[0]"
   ]
  },
  {
   "cell_type": "code",
   "execution_count": 56,
   "metadata": {
    "id": "hHNi8Vx_kD8H"
   },
   "outputs": [
    {
     "data": {
      "text/plain": [
       "{'media': np.float64(10.043535),\n",
       " 'mediana': np.float64(10.0),\n",
       " 'moda': np.int64(10)}"
      ]
     },
     "execution_count": 56,
     "metadata": {},
     "output_type": "execute_result"
    }
   ],
   "source": [
    "# Dicionário de tempo de entrega\n",
    "tempo_entrega_resumo = {\n",
    "    'media': df['tempo_entrega'].mean(),\n",
    "    'mediana': df['tempo_entrega'].median(),\n",
    "    'moda': df['tempo_entrega'].mode()[0]\n",
    "}\n",
    "tempo_entrega_resumo"
   ]
  },
  {
   "cell_type": "markdown",
   "metadata": {
    "id": "9Mmzq0tE8tM2"
   },
   "source": [
    "A análise inicial revelou que o tempo de entrega segue uma **distribuição normal simétrica**.\n",
    "\n",
    "Precisamos agora investigar se a distribuição muda para tempos de entrega com vendas com notas de satisfação 5.\n",
    "\n",
    "Nossa hipótese é que esta distribuição sera apresentada com uma **curva assimétrica à direita**. O que pode sugerir que entregas mais rápidas podem estar relacionadas a maior satisfação do cliente."
   ]
  },
  {
   "cell_type": "code",
   "execution_count": 57,
   "metadata": {
    "id": "N1_aN2SCkFQZ"
   },
   "outputs": [
    {
     "data": {
      "application/vnd.microsoft.datawrangler.viewer.v0+json": {
       "columns": [
        {
         "name": "index",
         "rawType": "int64",
         "type": "integer"
        },
        {
         "name": "id_compra",
         "rawType": "object",
         "type": "string"
        },
        {
         "name": "sexo_biologico",
         "rawType": "object",
         "type": "string"
        },
        {
         "name": "idade_cliente",
         "rawType": "int64",
         "type": "integer"
        },
        {
         "name": "regiao_cliente",
         "rawType": "object",
         "type": "string"
        },
        {
         "name": "categoria_produto",
         "rawType": "object",
         "type": "string"
        },
        {
         "name": "preco_unitario",
         "rawType": "float64",
         "type": "float"
        },
        {
         "name": "quantidade",
         "rawType": "int64",
         "type": "integer"
        },
        {
         "name": "total_compra",
         "rawType": "float64",
         "type": "float"
        },
        {
         "name": "tempo_entrega",
         "rawType": "int64",
         "type": "integer"
        },
        {
         "name": "avaliacao",
         "rawType": "int64",
         "type": "integer"
        },
        {
         "name": "avaliacao_indicador",
         "rawType": "category",
         "type": "unknown"
        }
       ],
       "ref": "28fd2abe-ed38-4780-b0d0-fdf49f3b7960",
       "rows": [
        [
         "2",
         "d317d7df-1126-42e5-bf4b-0e178bd4e14e",
         "Feminino",
         "36",
         "Sudeste",
         "Eletrônicos",
         "627.46",
         "2",
         "1254.92",
         "8",
         "5",
         "Ótima"
        ],
        [
         "3",
         "bb99bcf6-b333-493e-9ec2-c39f8695503c",
         "Feminino",
         "21",
         "Sul",
         "Eletrônicos",
         "2025.07",
         "8",
         "16200.56",
         "6",
         "5",
         "Ótima"
        ],
        [
         "4",
         "898e4624-84e9-4c41-b181-66d3b7ccfef7",
         "Masculino",
         "31",
         "Centro-Oeste",
         "Papelaria e Escritório",
         "99.24",
         "5",
         "496.2",
         "13",
         "5",
         "Ótima"
        ],
        [
         "5",
         "bbbaecc2-2d97-4c02-a69c-77ccfb2c8a26",
         "Masculino",
         "29",
         "Nordeste",
         "Beleza e Cuidados Pessoais",
         "131.2",
         "1",
         "131.2",
         "13",
         "5",
         "Ótima"
        ],
        [
         "6",
         "923d6915-1488-485b-9398-4fbcf7146496",
         "Masculino",
         "44",
         "Centro-Oeste",
         "Casa e Mobílias",
         "909.83",
         "2",
         "1819.66",
         "14",
         "5",
         "Ótima"
        ]
       ],
       "shape": {
        "columns": 11,
        "rows": 5
       }
      },
      "text/html": [
       "<div>\n",
       "<style scoped>\n",
       "    .dataframe tbody tr th:only-of-type {\n",
       "        vertical-align: middle;\n",
       "    }\n",
       "\n",
       "    .dataframe tbody tr th {\n",
       "        vertical-align: top;\n",
       "    }\n",
       "\n",
       "    .dataframe thead th {\n",
       "        text-align: right;\n",
       "    }\n",
       "</style>\n",
       "<table border=\"1\" class=\"dataframe\">\n",
       "  <thead>\n",
       "    <tr style=\"text-align: right;\">\n",
       "      <th></th>\n",
       "      <th>id_compra</th>\n",
       "      <th>sexo_biologico</th>\n",
       "      <th>idade_cliente</th>\n",
       "      <th>regiao_cliente</th>\n",
       "      <th>categoria_produto</th>\n",
       "      <th>preco_unitario</th>\n",
       "      <th>quantidade</th>\n",
       "      <th>total_compra</th>\n",
       "      <th>tempo_entrega</th>\n",
       "      <th>avaliacao</th>\n",
       "      <th>avaliacao_indicador</th>\n",
       "    </tr>\n",
       "  </thead>\n",
       "  <tbody>\n",
       "    <tr>\n",
       "      <th>2</th>\n",
       "      <td>d317d7df-1126-42e5-bf4b-0e178bd4e14e</td>\n",
       "      <td>Feminino</td>\n",
       "      <td>36</td>\n",
       "      <td>Sudeste</td>\n",
       "      <td>Eletrônicos</td>\n",
       "      <td>627.46</td>\n",
       "      <td>2</td>\n",
       "      <td>1254.92</td>\n",
       "      <td>8</td>\n",
       "      <td>5</td>\n",
       "      <td>Ótima</td>\n",
       "    </tr>\n",
       "    <tr>\n",
       "      <th>3</th>\n",
       "      <td>bb99bcf6-b333-493e-9ec2-c39f8695503c</td>\n",
       "      <td>Feminino</td>\n",
       "      <td>21</td>\n",
       "      <td>Sul</td>\n",
       "      <td>Eletrônicos</td>\n",
       "      <td>2025.07</td>\n",
       "      <td>8</td>\n",
       "      <td>16200.56</td>\n",
       "      <td>6</td>\n",
       "      <td>5</td>\n",
       "      <td>Ótima</td>\n",
       "    </tr>\n",
       "    <tr>\n",
       "      <th>4</th>\n",
       "      <td>898e4624-84e9-4c41-b181-66d3b7ccfef7</td>\n",
       "      <td>Masculino</td>\n",
       "      <td>31</td>\n",
       "      <td>Centro-Oeste</td>\n",
       "      <td>Papelaria e Escritório</td>\n",
       "      <td>99.24</td>\n",
       "      <td>5</td>\n",
       "      <td>496.20</td>\n",
       "      <td>13</td>\n",
       "      <td>5</td>\n",
       "      <td>Ótima</td>\n",
       "    </tr>\n",
       "    <tr>\n",
       "      <th>5</th>\n",
       "      <td>bbbaecc2-2d97-4c02-a69c-77ccfb2c8a26</td>\n",
       "      <td>Masculino</td>\n",
       "      <td>29</td>\n",
       "      <td>Nordeste</td>\n",
       "      <td>Beleza e Cuidados Pessoais</td>\n",
       "      <td>131.20</td>\n",
       "      <td>1</td>\n",
       "      <td>131.20</td>\n",
       "      <td>13</td>\n",
       "      <td>5</td>\n",
       "      <td>Ótima</td>\n",
       "    </tr>\n",
       "    <tr>\n",
       "      <th>6</th>\n",
       "      <td>923d6915-1488-485b-9398-4fbcf7146496</td>\n",
       "      <td>Masculino</td>\n",
       "      <td>44</td>\n",
       "      <td>Centro-Oeste</td>\n",
       "      <td>Casa e Mobílias</td>\n",
       "      <td>909.83</td>\n",
       "      <td>2</td>\n",
       "      <td>1819.66</td>\n",
       "      <td>14</td>\n",
       "      <td>5</td>\n",
       "      <td>Ótima</td>\n",
       "    </tr>\n",
       "  </tbody>\n",
       "</table>\n",
       "</div>"
      ],
      "text/plain": [
       "                              id_compra sexo_biologico  idade_cliente  \\\n",
       "2  d317d7df-1126-42e5-bf4b-0e178bd4e14e       Feminino             36   \n",
       "3  bb99bcf6-b333-493e-9ec2-c39f8695503c       Feminino             21   \n",
       "4  898e4624-84e9-4c41-b181-66d3b7ccfef7      Masculino             31   \n",
       "5  bbbaecc2-2d97-4c02-a69c-77ccfb2c8a26      Masculino             29   \n",
       "6  923d6915-1488-485b-9398-4fbcf7146496      Masculino             44   \n",
       "\n",
       "  regiao_cliente           categoria_produto  preco_unitario  quantidade  \\\n",
       "2        Sudeste                 Eletrônicos          627.46           2   \n",
       "3            Sul                 Eletrônicos         2025.07           8   \n",
       "4   Centro-Oeste      Papelaria e Escritório           99.24           5   \n",
       "5       Nordeste  Beleza e Cuidados Pessoais          131.20           1   \n",
       "6   Centro-Oeste             Casa e Mobílias          909.83           2   \n",
       "\n",
       "   total_compra  tempo_entrega  avaliacao avaliacao_indicador  \n",
       "2       1254.92              8          5               Ótima  \n",
       "3      16200.56              6          5               Ótima  \n",
       "4        496.20             13          5               Ótima  \n",
       "5        131.20             13          5               Ótima  \n",
       "6       1819.66             14          5               Ótima  "
      ]
     },
     "execution_count": 57,
     "metadata": {},
     "output_type": "execute_result"
    }
   ],
   "source": [
    "dados_nota_5 = df[df['avaliacao'] == 5]\n",
    "dados_nota_5.head()"
   ]
  },
  {
   "cell_type": "code",
   "execution_count": 58,
   "metadata": {
    "id": "hgGl6dyPkFMP"
   },
   "outputs": [
    {
     "data": {
      "image/png": "[encoded data removed]",
      "text/plain": [
       "<Figure size 640x480 with 1 Axes>"
      ]
     },
     "metadata": {},
     "output_type": "display_data"
    }
   ],
   "source": [
    "sns.histplot(bins=21, data=dados_nota_5, x='tempo_entrega', kde=True, kde_kws={'bw_adjust':2})\n",
    "plt.show()"
   ]
  },
  {
   "cell_type": "code",
   "execution_count": 59,
   "metadata": {
    "id": "ydSIkKLZkGdY"
   },
   "outputs": [
    {
     "data": {
      "text/plain": [
       "{'media': np.float64(8.290680428597373),\n",
       " 'mediana': np.float64(7.0),\n",
       " 'moda': np.int64(6)}"
      ]
     },
     "execution_count": 59,
     "metadata": {},
     "output_type": "execute_result"
    }
   ],
   "source": [
    "# Dicionário de tempo de entrega para notas 5\n",
    "resumo = {\n",
    "    'media': dados_nota_5['tempo_entrega'].mean(),\n",
    "    'mediana': dados_nota_5['tempo_entrega'].median(),\n",
    "    'moda': dados_nota_5['tempo_entrega'].mode()[0]\n",
    "}\n",
    "resumo"
   ]
  },
  {
   "cell_type": "markdown",
   "metadata": {
    "id": "CikmzaqF8waw"
   },
   "source": [
    "Os dados confirmam que entregas mais rápidas estão associadas a avaliações nota 5, embora algumas poucas entregas mais longas ainda recebam notas altas. Esses insights destacam a importância de **manter prazos curtos de entrega para maximizar a satisfação dos clientes**.\n",
    "\n",
    "Com essa análise, a equipe de marketing e vendas aliada à logística pode usar os resultados para:\n",
    "\n",
    "1. Otimizar rotas e processos de entrega para reduzir o tempo de entrega médio.\n",
    "2. Diferenciar campanhas promocionais com base na promessa de entregas rápidas."
   ]
  },
  {
   "cell_type": "markdown",
   "metadata": {
    "id": "AsBGdfK0DzLt"
   },
   "source": [
    "# **4. Investigando os dados dos colaboradores**\n",
    "\n",
    "---"
   ]
  },
  {
   "cell_type": "markdown",
   "metadata": {
    "id": "JRNVKX1YPWLq"
   },
   "source": [
    "Agora, vamos partir para análises das remunerações dos colaboradores, a pedido do setor do RH e financeiro da empresa da empresa de e-commerce.\n",
    "\n",
    "Vamos prosseguir utilizando alguns conceitos da estatística para investigar os dados que trazem informações sobre a remuneração dos colaboradores, passando pelos salários, desempenho atual. Vamos trazer alguns insights analisando criticamente, por exemplo, a equidade salarial entre cargos e gênero e respondendo a perguntas do setor do RH e financeiro da empresa.\n"
   ]
  },
  {
   "cell_type": "markdown",
   "metadata": {
    "id": "aV0q3H8GPXwc"
   },
   "source": [
    "## **4.1 Criando o histograma de salários com amplitude fixa**\n",
    "\n",
    "---\n"
   ]
  },
  {
   "cell_type": "markdown",
   "metadata": {
    "id": "idpRhGOINH5N"
   },
   "source": [
    "### <font color=\"#E23155\" face=\"Verdana\">Demanda 8: Iniciando as análises da remuneração dos colaboradores\n",
    "\n",
    "</font>"
   ]
  },
  {
   "cell_type": "markdown",
   "metadata": {
    "id": "SrgZDsI6-qnt"
   },
   "source": [
    "A equipe de RH e financeiro da empresa de e-commerce que estamos prestando consultoria quer investigar a distribuição dos salários dos colaboradores para identificar possíveis faixas salariais e verificar a concentração de colaboradores em determinados intervalos. Essas informações serão usadas para ajustar benefícios, analisar disparidades salariais e planejar estratégias de retenção de talentos.\n",
    "\n",
    "Nosso objetivo, é ler a base com os dados e criar uma distribuição de frequências com base em classes de salários utilizando os conceitos da estatística tanto para visualizar os dados em um histograma quanto para identificar as faixas salariais mais representativas."
   ]
  },
  {
   "cell_type": "markdown",
   "metadata": {
    "id": "AxJG2Rco-sVZ"
   },
   "source": [
    "### <font color=\"#E23155\" face=\"Verdana\">Solução:</font>"
   ]
  },
  {
   "cell_type": "markdown",
   "metadata": {
    "id": "R05TuMtE-t7-"
   },
   "source": [
    "Para calcular o número de classes utilizaremos a **Regra de Sturges** para em sequência segmentar os salários em faixas e calcular a frequência absoluta e relativa de cada faixa. Por fim, construiremos um histograma para visualizar os dados."
   ]
  },
  {
   "cell_type": "markdown",
   "metadata": {
    "id": "LxHzSOTc-vfT"
   },
   "source": [
    "#### **Definindo o número de classes**"
   ]
  },
  {
   "cell_type": "markdown",
   "metadata": {
    "id": "DoR-Vq-_-wyr"
   },
   "source": [
    "##### **Regra de Sturges**\n",
    "\n",
    "Calcula o número de classes de uma distribuição com base no tamanho da amostra:\n",
    "\n",
    "# $$k = 1 + \\frac {10}{3}\\log_{10}n$$\n",
    "\n",
    "onde,\n",
    "\n",
    "$k$ = número de classes\n",
    "\n",
    "$n$ = número de observações.\n",
    "\n"
   ]
  },
  {
   "cell_type": "code",
   "execution_count": 60,
   "metadata": {
    "id": "olLlV3WzkOWG"
   },
   "outputs": [],
   "source": [
    "url = 'https://raw.githubusercontent.com/alura-cursos/Estatisticas-Python-frequencias-medidas/refs/heads/main/dados/colaboradores.csv'\n",
    "colaboradores = pd.read_csv(url)"
   ]
  },
  {
   "cell_type": "code",
   "execution_count": 61,
   "metadata": {
    "id": "Zz5gS7AKkORP"
   },
   "outputs": [
    {
     "data": {
      "application/vnd.microsoft.datawrangler.viewer.v0+json": {
       "columns": [
        {
         "name": "index",
         "rawType": "int64",
         "type": "integer"
        },
        {
         "name": "id_colaborador",
         "rawType": "object",
         "type": "string"
        },
        {
         "name": "nome",
         "rawType": "object",
         "type": "string"
        },
        {
         "name": "sexo_biologico",
         "rawType": "object",
         "type": "string"
        },
        {
         "name": "idade",
         "rawType": "int64",
         "type": "integer"
        },
        {
         "name": "cargo",
         "rawType": "object",
         "type": "string"
        },
        {
         "name": "nota_desempenho",
         "rawType": "object",
         "type": "string"
        },
        {
         "name": "remuneracao",
         "rawType": "float64",
         "type": "float"
        }
       ],
       "ref": "9528ab66-325f-4df3-94d5-50d0475b0b91",
       "rows": [
        [
         "0",
         "DIR000001",
         "Théo Sales",
         "Masculino",
         "45",
         "Diretor(a)",
         "Bom",
         "29950.79"
        ],
        [
         "1",
         "DIR000002",
         "Isis Pinto",
         "Feminino",
         "45",
         "Diretor(a)",
         "Bom",
         "27261.07"
        ],
        [
         "2",
         "DIR000003",
         "Isabelly Garcia",
         "Feminino",
         "45",
         "Diretor(a)",
         "Bom",
         "25635.61"
        ],
        [
         "3",
         "DIR000004",
         "Nina Pereira",
         "Feminino",
         "45",
         "Diretor(a)",
         "Excelente",
         "27678.6"
        ],
        [
         "4",
         "DIR000005",
         "Otávio Azevedo",
         "Masculino",
         "46",
         "Diretor(a)",
         "Excelente",
         "32084.55"
        ]
       ],
       "shape": {
        "columns": 7,
        "rows": 5
       }
      },
      "text/html": [
       "<div>\n",
       "<style scoped>\n",
       "    .dataframe tbody tr th:only-of-type {\n",
       "        vertical-align: middle;\n",
       "    }\n",
       "\n",
       "    .dataframe tbody tr th {\n",
       "        vertical-align: top;\n",
       "    }\n",
       "\n",
       "    .dataframe thead th {\n",
       "        text-align: right;\n",
       "    }\n",
       "</style>\n",
       "<table border=\"1\" class=\"dataframe\">\n",
       "  <thead>\n",
       "    <tr style=\"text-align: right;\">\n",
       "      <th></th>\n",
       "      <th>id_colaborador</th>\n",
       "      <th>nome</th>\n",
       "      <th>sexo_biologico</th>\n",
       "      <th>idade</th>\n",
       "      <th>cargo</th>\n",
       "      <th>nota_desempenho</th>\n",
       "      <th>remuneracao</th>\n",
       "    </tr>\n",
       "  </thead>\n",
       "  <tbody>\n",
       "    <tr>\n",
       "      <th>0</th>\n",
       "      <td>DIR000001</td>\n",
       "      <td>Théo Sales</td>\n",
       "      <td>Masculino</td>\n",
       "      <td>45</td>\n",
       "      <td>Diretor(a)</td>\n",
       "      <td>Bom</td>\n",
       "      <td>29950.79</td>\n",
       "    </tr>\n",
       "    <tr>\n",
       "      <th>1</th>\n",
       "      <td>DIR000002</td>\n",
       "      <td>Isis Pinto</td>\n",
       "      <td>Feminino</td>\n",
       "      <td>45</td>\n",
       "      <td>Diretor(a)</td>\n",
       "      <td>Bom</td>\n",
       "      <td>27261.07</td>\n",
       "    </tr>\n",
       "    <tr>\n",
       "      <th>2</th>\n",
       "      <td>DIR000003</td>\n",
       "      <td>Isabelly Garcia</td>\n",
       "      <td>Feminino</td>\n",
       "      <td>45</td>\n",
       "      <td>Diretor(a)</td>\n",
       "      <td>Bom</td>\n",
       "      <td>25635.61</td>\n",
       "    </tr>\n",
       "    <tr>\n",
       "      <th>3</th>\n",
       "      <td>DIR000004</td>\n",
       "      <td>Nina Pereira</td>\n",
       "      <td>Feminino</td>\n",
       "      <td>45</td>\n",
       "      <td>Diretor(a)</td>\n",
       "      <td>Excelente</td>\n",
       "      <td>27678.60</td>\n",
       "    </tr>\n",
       "    <tr>\n",
       "      <th>4</th>\n",
       "      <td>DIR000005</td>\n",
       "      <td>Otávio Azevedo</td>\n",
       "      <td>Masculino</td>\n",
       "      <td>46</td>\n",
       "      <td>Diretor(a)</td>\n",
       "      <td>Excelente</td>\n",
       "      <td>32084.55</td>\n",
       "    </tr>\n",
       "  </tbody>\n",
       "</table>\n",
       "</div>"
      ],
      "text/plain": [
       "  id_colaborador             nome sexo_biologico  idade       cargo  \\\n",
       "0      DIR000001       Théo Sales      Masculino     45  Diretor(a)   \n",
       "1      DIR000002       Isis Pinto       Feminino     45  Diretor(a)   \n",
       "2      DIR000003  Isabelly Garcia       Feminino     45  Diretor(a)   \n",
       "3      DIR000004     Nina Pereira       Feminino     45  Diretor(a)   \n",
       "4      DIR000005   Otávio Azevedo      Masculino     46  Diretor(a)   \n",
       "\n",
       "  nota_desempenho  remuneracao  \n",
       "0             Bom     29950.79  \n",
       "1             Bom     27261.07  \n",
       "2             Bom     25635.61  \n",
       "3       Excelente     27678.60  \n",
       "4       Excelente     32084.55  "
      ]
     },
     "execution_count": 61,
     "metadata": {},
     "output_type": "execute_result"
    }
   ],
   "source": [
    "colaboradores.head()"
   ]
  },
  {
   "cell_type": "code",
   "execution_count": 62,
   "metadata": {
    "id": "6cHEXnGFkNpc"
   },
   "outputs": [
    {
     "data": {
      "text/plain": [
       "11090"
      ]
     },
     "execution_count": 62,
     "metadata": {},
     "output_type": "execute_result"
    }
   ],
   "source": [
    "n = len(colaboradores)\n",
    "n"
   ]
  },
  {
   "cell_type": "code",
   "execution_count": 63,
   "metadata": {
    "id": "8AvquegokPk0"
   },
   "outputs": [],
   "source": [
    "import math"
   ]
  },
  {
   "cell_type": "code",
   "execution_count": 64,
   "metadata": {
    "id": "wzKeKYt1kPhr"
   },
   "outputs": [
    {
     "data": {
      "text/plain": [
       "14.483105153830532"
      ]
     },
     "execution_count": 64,
     "metadata": {},
     "output_type": "execute_result"
    }
   ],
   "source": [
    "k = 1 + (10/3) * math.log10(n)\n",
    "k"
   ]
  },
  {
   "cell_type": "code",
   "execution_count": 65,
   "metadata": {},
   "outputs": [
    {
     "data": {
      "text/plain": [
       "14"
      ]
     },
     "execution_count": 65,
     "metadata": {},
     "output_type": "execute_result"
    }
   ],
   "source": [
    "k = int(k)\n",
    "k"
   ]
  },
  {
   "cell_type": "code",
   "execution_count": 66,
   "metadata": {
    "id": "SLJCp0iIkTSH"
   },
   "outputs": [
    {
     "data": {
      "application/vnd.microsoft.datawrangler.viewer.v0+json": {
       "columns": [
        {
         "name": "index",
         "rawType": "int64",
         "type": "integer"
        },
        {
         "name": "id_colaborador",
         "rawType": "object",
         "type": "string"
        },
        {
         "name": "nome",
         "rawType": "object",
         "type": "string"
        },
        {
         "name": "sexo_biologico",
         "rawType": "object",
         "type": "string"
        },
        {
         "name": "idade",
         "rawType": "int64",
         "type": "integer"
        },
        {
         "name": "cargo",
         "rawType": "object",
         "type": "string"
        },
        {
         "name": "nota_desempenho",
         "rawType": "object",
         "type": "string"
        },
        {
         "name": "remuneracao",
         "rawType": "float64",
         "type": "float"
        }
       ],
       "ref": "0c0a0d71-29fb-40f1-8180-5dbceb7a18d3",
       "rows": [
        [
         "0",
         "DIR000001",
         "Théo Sales",
         "Masculino",
         "45",
         "Diretor(a)",
         "Bom",
         "29950.79"
        ],
        [
         "1",
         "DIR000002",
         "Isis Pinto",
         "Feminino",
         "45",
         "Diretor(a)",
         "Bom",
         "27261.07"
        ],
        [
         "2",
         "DIR000003",
         "Isabelly Garcia",
         "Feminino",
         "45",
         "Diretor(a)",
         "Bom",
         "25635.61"
        ],
        [
         "3",
         "DIR000004",
         "Nina Pereira",
         "Feminino",
         "45",
         "Diretor(a)",
         "Excelente",
         "27678.6"
        ],
        [
         "4",
         "DIR000005",
         "Otávio Azevedo",
         "Masculino",
         "46",
         "Diretor(a)",
         "Excelente",
         "32084.55"
        ],
        [
         "5",
         "GER000006",
         "João Pedro da Mata",
         "Masculino",
         "42",
         "Gerente",
         "Excelente",
         "21656.81"
        ],
        [
         "6",
         "GER000007",
         "Lucas Gabriel Casa Grande",
         "Masculino",
         "43",
         "Gerente",
         "Bom",
         "20017.92"
        ],
        [
         "7",
         "GER000008",
         "Laura Barbosa",
         "Feminino",
         "35",
         "Gerente",
         "Bom",
         "18539.31"
        ],
        [
         "8",
         "GER000009",
         "Maysa Alves",
         "Feminino",
         "35",
         "Gerente",
         "Bom",
         "19620.42"
        ],
        [
         "9",
         "GER000010",
         "Agatha Gomes",
         "Feminino",
         "43",
         "Gerente",
         "Bom",
         "18821.0"
        ],
        [
         "10",
         "GER000011",
         "Benicio Sousa",
         "Masculino",
         "35",
         "Gerente",
         "Excelente",
         "24275.9"
        ],
        [
         "11",
         "GER000012",
         "Natália Costa",
         "Feminino",
         "35",
         "Gerente",
         "Excelente",
         "19355.62"
        ],
        [
         "12",
         "GER000013",
         "Ana Sophia Rezende",
         "Feminino",
         "35",
         "Gerente",
         "Bom",
         "20112.06"
        ],
        [
         "13",
         "GER000014",
         "Guilherme das Neves",
         "Masculino",
         "52",
         "Gerente",
         "Excelente",
         "21431.28"
        ],
        [
         "14",
         "GER000015",
         "Luiz Miguel Dias",
         "Masculino",
         "47",
         "Gerente",
         "Excelente",
         "20909.93"
        ],
        [
         "15",
         "GER000016",
         "Marcos Vinicius Campos",
         "Masculino",
         "35",
         "Gerente",
         "Excelente",
         "20307.46"
        ],
        [
         "16",
         "GER000017",
         "Raul Montenegro",
         "Masculino",
         "35",
         "Gerente",
         "Excelente",
         "22309.59"
        ],
        [
         "17",
         "GER000018",
         "Heitor Campos",
         "Masculino",
         "43",
         "Gerente",
         "Bom",
         "19823.03"
        ],
        [
         "18",
         "GER000019",
         "Thomas Gonçalves",
         "Masculino",
         "36",
         "Gerente",
         "Excelente",
         "21737.33"
        ],
        [
         "19",
         "GER000020",
         "Noah Sousa",
         "Masculino",
         "35",
         "Gerente",
         "Excelente",
         "20439.73"
        ],
        [
         "20",
         "COO000021",
         "Gabriela Vasconcelos",
         "Feminino",
         "40",
         "Coordenador(a)",
         "Regular",
         "15657.07"
        ],
        [
         "21",
         "COO000022",
         "Emanuel Pereira",
         "Masculino",
         "39",
         "Coordenador(a)",
         "Regular",
         "14867.74"
        ],
        [
         "22",
         "COO000023",
         "Pedro Garcia",
         "Masculino",
         "38",
         "Coordenador(a)",
         "Bom",
         "14740.45"
        ],
        [
         "23",
         "COO000024",
         "Theodoro Campos",
         "Masculino",
         "45",
         "Coordenador(a)",
         "Regular",
         "15275.54"
        ],
        [
         "24",
         "COO000025",
         "Isaac Sousa",
         "Masculino",
         "33",
         "Coordenador(a)",
         "Excelente",
         "16872.47"
        ],
        [
         "25",
         "COO000026",
         "Luana Lima",
         "Feminino",
         "46",
         "Coordenador(a)",
         "Bom",
         "14424.4"
        ],
        [
         "26",
         "COO000027",
         "Cauã da Rocha",
         "Masculino",
         "30",
         "Coordenador(a)",
         "Excelente",
         "19021.32"
        ],
        [
         "27",
         "COO000028",
         "Mathias Freitas",
         "Masculino",
         "44",
         "Coordenador(a)",
         "Regular",
         "16053.86"
        ],
        [
         "28",
         "COO000029",
         "Joana Gonçalves",
         "Feminino",
         "44",
         "Coordenador(a)",
         "Bom",
         "12663.54"
        ],
        [
         "29",
         "COO000030",
         "Luiz Otávio Barbosa",
         "Masculino",
         "30",
         "Coordenador(a)",
         "Regular",
         "13742.23"
        ],
        [
         "30",
         "COO000031",
         "Agatha Almeida",
         "Feminino",
         "30",
         "Coordenador(a)",
         "Regular",
         "15355.86"
        ],
        [
         "31",
         "COO000032",
         "Diogo Novais",
         "Masculino",
         "48",
         "Coordenador(a)",
         "Excelente",
         "18694.95"
        ],
        [
         "32",
         "COO000033",
         "Diogo Rezende",
         "Masculino",
         "49",
         "Coordenador(a)",
         "Excelente",
         "19205.64"
        ],
        [
         "33",
         "COO000034",
         "Emanuelly Fogaça",
         "Feminino",
         "30",
         "Coordenador(a)",
         "Excelente",
         "15430.48"
        ],
        [
         "34",
         "COO000035",
         "Evelyn da Mata",
         "Feminino",
         "30",
         "Coordenador(a)",
         "Bom",
         "15298.4"
        ],
        [
         "35",
         "COO000036",
         "Nina Alves",
         "Feminino",
         "40",
         "Coordenador(a)",
         "Excelente",
         "17760.83"
        ],
        [
         "36",
         "COO000037",
         "Yuri das Neves",
         "Masculino",
         "49",
         "Coordenador(a)",
         "Regular",
         "14085.38"
        ],
        [
         "37",
         "COO000038",
         "Matteo Santos",
         "Masculino",
         "30",
         "Coordenador(a)",
         "Bom",
         "17054.66"
        ],
        [
         "38",
         "COO000039",
         "Isabelly Novais",
         "Feminino",
         "30",
         "Coordenador(a)",
         "Excelente",
         "14785.15"
        ],
        [
         "39",
         "COO000040",
         "Davi Lucas Oliveira",
         "Masculino",
         "39",
         "Coordenador(a)",
         "Excelente",
         "17356.18"
        ],
        [
         "40",
         "COO000041",
         "Lorenzo Mendes",
         "Masculino",
         "43",
         "Coordenador(a)",
         "Excelente",
         "17885.32"
        ],
        [
         "41",
         "COO000042",
         "Erick Jesus",
         "Masculino",
         "34",
         "Coordenador(a)",
         "Regular",
         "15876.7"
        ],
        [
         "42",
         "COO000043",
         "Matheus Novaes",
         "Masculino",
         "44",
         "Coordenador(a)",
         "Excelente",
         "17812.33"
        ],
        [
         "43",
         "COO000044",
         "Larissa da Mota",
         "Feminino",
         "30",
         "Coordenador(a)",
         "Regular",
         "12834.55"
        ],
        [
         "44",
         "COO000045",
         "Benício Machado",
         "Masculino",
         "30",
         "Coordenador(a)",
         "Bom",
         "15215.75"
        ],
        [
         "45",
         "COO000046",
         "Maria Clara Melo",
         "Feminino",
         "30",
         "Coordenador(a)",
         "Excelente",
         "18340.05"
        ],
        [
         "46",
         "COO000047",
         "Matheus Brito",
         "Masculino",
         "38",
         "Coordenador(a)",
         "Regular",
         "14670.15"
        ],
        [
         "47",
         "COO000048",
         "Mateus Barbosa",
         "Masculino",
         "34",
         "Coordenador(a)",
         "Excelente",
         "19202.39"
        ],
        [
         "48",
         "COO000049",
         "Dante Peixoto",
         "Masculino",
         "30",
         "Coordenador(a)",
         "Excelente",
         "19405.2"
        ],
        [
         "49",
         "COO000050",
         "Kaique Novaes",
         "Masculino",
         "30",
         "Coordenador(a)",
         "Bom",
         "17336.44"
        ]
       ],
       "shape": {
        "columns": 7,
        "rows": 11090
       }
      },
      "text/html": [
       "<div>\n",
       "<style scoped>\n",
       "    .dataframe tbody tr th:only-of-type {\n",
       "        vertical-align: middle;\n",
       "    }\n",
       "\n",
       "    .dataframe tbody tr th {\n",
       "        vertical-align: top;\n",
       "    }\n",
       "\n",
       "    .dataframe thead th {\n",
       "        text-align: right;\n",
       "    }\n",
       "</style>\n",
       "<table border=\"1\" class=\"dataframe\">\n",
       "  <thead>\n",
       "    <tr style=\"text-align: right;\">\n",
       "      <th></th>\n",
       "      <th>id_colaborador</th>\n",
       "      <th>nome</th>\n",
       "      <th>sexo_biologico</th>\n",
       "      <th>idade</th>\n",
       "      <th>cargo</th>\n",
       "      <th>nota_desempenho</th>\n",
       "      <th>remuneracao</th>\n",
       "    </tr>\n",
       "  </thead>\n",
       "  <tbody>\n",
       "    <tr>\n",
       "      <th>0</th>\n",
       "      <td>DIR000001</td>\n",
       "      <td>Théo Sales</td>\n",
       "      <td>Masculino</td>\n",
       "      <td>45</td>\n",
       "      <td>Diretor(a)</td>\n",
       "      <td>Bom</td>\n",
       "      <td>29950.79</td>\n",
       "    </tr>\n",
       "    <tr>\n",
       "      <th>1</th>\n",
       "      <td>DIR000002</td>\n",
       "      <td>Isis Pinto</td>\n",
       "      <td>Feminino</td>\n",
       "      <td>45</td>\n",
       "      <td>Diretor(a)</td>\n",
       "      <td>Bom</td>\n",
       "      <td>27261.07</td>\n",
       "    </tr>\n",
       "    <tr>\n",
       "      <th>2</th>\n",
       "      <td>DIR000003</td>\n",
       "      <td>Isabelly Garcia</td>\n",
       "      <td>Feminino</td>\n",
       "      <td>45</td>\n",
       "      <td>Diretor(a)</td>\n",
       "      <td>Bom</td>\n",
       "      <td>25635.61</td>\n",
       "    </tr>\n",
       "    <tr>\n",
       "      <th>3</th>\n",
       "      <td>DIR000004</td>\n",
       "      <td>Nina Pereira</td>\n",
       "      <td>Feminino</td>\n",
       "      <td>45</td>\n",
       "      <td>Diretor(a)</td>\n",
       "      <td>Excelente</td>\n",
       "      <td>27678.60</td>\n",
       "    </tr>\n",
       "    <tr>\n",
       "      <th>4</th>\n",
       "      <td>DIR000005</td>\n",
       "      <td>Otávio Azevedo</td>\n",
       "      <td>Masculino</td>\n",
       "      <td>46</td>\n",
       "      <td>Diretor(a)</td>\n",
       "      <td>Excelente</td>\n",
       "      <td>32084.55</td>\n",
       "    </tr>\n",
       "    <tr>\n",
       "      <th>...</th>\n",
       "      <td>...</td>\n",
       "      <td>...</td>\n",
       "      <td>...</td>\n",
       "      <td>...</td>\n",
       "      <td>...</td>\n",
       "      <td>...</td>\n",
       "      <td>...</td>\n",
       "    </tr>\n",
       "    <tr>\n",
       "      <th>11085</th>\n",
       "      <td>REP011086</td>\n",
       "      <td>Nicolas Mendes</td>\n",
       "      <td>Masculino</td>\n",
       "      <td>40</td>\n",
       "      <td>Repositor(a)</td>\n",
       "      <td>Bom</td>\n",
       "      <td>3340.72</td>\n",
       "    </tr>\n",
       "    <tr>\n",
       "      <th>11086</th>\n",
       "      <td>REP011087</td>\n",
       "      <td>Maria Luísa Câmara</td>\n",
       "      <td>Feminino</td>\n",
       "      <td>48</td>\n",
       "      <td>Repositor(a)</td>\n",
       "      <td>Insuficiente</td>\n",
       "      <td>3330.98</td>\n",
       "    </tr>\n",
       "    <tr>\n",
       "      <th>11087</th>\n",
       "      <td>REP011088</td>\n",
       "      <td>Allana da Mota</td>\n",
       "      <td>Feminino</td>\n",
       "      <td>28</td>\n",
       "      <td>Repositor(a)</td>\n",
       "      <td>Excelente</td>\n",
       "      <td>3382.03</td>\n",
       "    </tr>\n",
       "    <tr>\n",
       "      <th>11088</th>\n",
       "      <td>REP011089</td>\n",
       "      <td>Bruno Rezende</td>\n",
       "      <td>Masculino</td>\n",
       "      <td>36</td>\n",
       "      <td>Repositor(a)</td>\n",
       "      <td>Bom</td>\n",
       "      <td>3088.46</td>\n",
       "    </tr>\n",
       "    <tr>\n",
       "      <th>11089</th>\n",
       "      <td>REP011090</td>\n",
       "      <td>Maria Júlia Rios</td>\n",
       "      <td>Feminino</td>\n",
       "      <td>42</td>\n",
       "      <td>Repositor(a)</td>\n",
       "      <td>Regular</td>\n",
       "      <td>2978.90</td>\n",
       "    </tr>\n",
       "  </tbody>\n",
       "</table>\n",
       "<p>11090 rows × 7 columns</p>\n",
       "</div>"
      ],
      "text/plain": [
       "      id_colaborador                nome sexo_biologico  idade         cargo  \\\n",
       "0          DIR000001          Théo Sales      Masculino     45    Diretor(a)   \n",
       "1          DIR000002          Isis Pinto       Feminino     45    Diretor(a)   \n",
       "2          DIR000003     Isabelly Garcia       Feminino     45    Diretor(a)   \n",
       "3          DIR000004        Nina Pereira       Feminino     45    Diretor(a)   \n",
       "4          DIR000005      Otávio Azevedo      Masculino     46    Diretor(a)   \n",
       "...              ...                 ...            ...    ...           ...   \n",
       "11085      REP011086      Nicolas Mendes      Masculino     40  Repositor(a)   \n",
       "11086      REP011087  Maria Luísa Câmara       Feminino     48  Repositor(a)   \n",
       "11087      REP011088      Allana da Mota       Feminino     28  Repositor(a)   \n",
       "11088      REP011089       Bruno Rezende      Masculino     36  Repositor(a)   \n",
       "11089      REP011090    Maria Júlia Rios       Feminino     42  Repositor(a)   \n",
       "\n",
       "      nota_desempenho  remuneracao  \n",
       "0                 Bom     29950.79  \n",
       "1                 Bom     27261.07  \n",
       "2                 Bom     25635.61  \n",
       "3           Excelente     27678.60  \n",
       "4           Excelente     32084.55  \n",
       "...               ...          ...  \n",
       "11085             Bom      3340.72  \n",
       "11086    Insuficiente      3330.98  \n",
       "11087       Excelente      3382.03  \n",
       "11088             Bom      3088.46  \n",
       "11089         Regular      2978.90  \n",
       "\n",
       "[11090 rows x 7 columns]"
      ]
     },
     "execution_count": 66,
     "metadata": {},
     "output_type": "execute_result"
    }
   ],
   "source": [
    "faixas = colaboradores.copy()\n",
    "faixas"
   ]
  },
  {
   "cell_type": "code",
   "execution_count": 67,
   "metadata": {
    "id": "Dcm3yCMDkULy"
   },
   "outputs": [
    {
     "data": {
      "application/vnd.microsoft.datawrangler.viewer.v0+json": {
       "columns": [
        {
         "name": "index",
         "rawType": "int64",
         "type": "integer"
        },
        {
         "name": "id_colaborador",
         "rawType": "object",
         "type": "string"
        },
        {
         "name": "nome",
         "rawType": "object",
         "type": "string"
        },
        {
         "name": "sexo_biologico",
         "rawType": "object",
         "type": "string"
        },
        {
         "name": "idade",
         "rawType": "int64",
         "type": "integer"
        },
        {
         "name": "cargo",
         "rawType": "object",
         "type": "string"
        },
        {
         "name": "nota_desempenho",
         "rawType": "object",
         "type": "string"
        },
        {
         "name": "remuneracao",
         "rawType": "float64",
         "type": "float"
        },
        {
         "name": "faixa_salarial",
         "rawType": "category",
         "type": "unknown"
        }
       ],
       "ref": "f11c8bc3-71f6-461c-b32e-ba660754ec7b",
       "rows": [
        [
         "0",
         "DIR000001",
         "Théo Sales",
         "Masculino",
         "45",
         "Diretor(a)",
         "Bom",
         "29950.79",
         "(29929.98, 32084.55]"
        ],
        [
         "1",
         "DIR000002",
         "Isis Pinto",
         "Feminino",
         "45",
         "Diretor(a)",
         "Bom",
         "27261.07",
         "(25620.84, 27775.41]"
        ],
        [
         "2",
         "DIR000003",
         "Isabelly Garcia",
         "Feminino",
         "45",
         "Diretor(a)",
         "Bom",
         "25635.61",
         "(25620.84, 27775.41]"
        ],
        [
         "3",
         "DIR000004",
         "Nina Pereira",
         "Feminino",
         "45",
         "Diretor(a)",
         "Excelente",
         "27678.6",
         "(25620.84, 27775.41]"
        ],
        [
         "4",
         "DIR000005",
         "Otávio Azevedo",
         "Masculino",
         "46",
         "Diretor(a)",
         "Excelente",
         "32084.55",
         "(29929.98, 32084.55]"
        ]
       ],
       "shape": {
        "columns": 8,
        "rows": 5
       }
      },
      "text/html": [
       "<div>\n",
       "<style scoped>\n",
       "    .dataframe tbody tr th:only-of-type {\n",
       "        vertical-align: middle;\n",
       "    }\n",
       "\n",
       "    .dataframe tbody tr th {\n",
       "        vertical-align: top;\n",
       "    }\n",
       "\n",
       "    .dataframe thead th {\n",
       "        text-align: right;\n",
       "    }\n",
       "</style>\n",
       "<table border=\"1\" class=\"dataframe\">\n",
       "  <thead>\n",
       "    <tr style=\"text-align: right;\">\n",
       "      <th></th>\n",
       "      <th>id_colaborador</th>\n",
       "      <th>nome</th>\n",
       "      <th>sexo_biologico</th>\n",
       "      <th>idade</th>\n",
       "      <th>cargo</th>\n",
       "      <th>nota_desempenho</th>\n",
       "      <th>remuneracao</th>\n",
       "      <th>faixa_salarial</th>\n",
       "    </tr>\n",
       "  </thead>\n",
       "  <tbody>\n",
       "    <tr>\n",
       "      <th>0</th>\n",
       "      <td>DIR000001</td>\n",
       "      <td>Théo Sales</td>\n",
       "      <td>Masculino</td>\n",
       "      <td>45</td>\n",
       "      <td>Diretor(a)</td>\n",
       "      <td>Bom</td>\n",
       "      <td>29950.79</td>\n",
       "      <td>(29929.98, 32084.55]</td>\n",
       "    </tr>\n",
       "    <tr>\n",
       "      <th>1</th>\n",
       "      <td>DIR000002</td>\n",
       "      <td>Isis Pinto</td>\n",
       "      <td>Feminino</td>\n",
       "      <td>45</td>\n",
       "      <td>Diretor(a)</td>\n",
       "      <td>Bom</td>\n",
       "      <td>27261.07</td>\n",
       "      <td>(25620.84, 27775.41]</td>\n",
       "    </tr>\n",
       "    <tr>\n",
       "      <th>2</th>\n",
       "      <td>DIR000003</td>\n",
       "      <td>Isabelly Garcia</td>\n",
       "      <td>Feminino</td>\n",
       "      <td>45</td>\n",
       "      <td>Diretor(a)</td>\n",
       "      <td>Bom</td>\n",
       "      <td>25635.61</td>\n",
       "      <td>(25620.84, 27775.41]</td>\n",
       "    </tr>\n",
       "    <tr>\n",
       "      <th>3</th>\n",
       "      <td>DIR000004</td>\n",
       "      <td>Nina Pereira</td>\n",
       "      <td>Feminino</td>\n",
       "      <td>45</td>\n",
       "      <td>Diretor(a)</td>\n",
       "      <td>Excelente</td>\n",
       "      <td>27678.60</td>\n",
       "      <td>(25620.84, 27775.41]</td>\n",
       "    </tr>\n",
       "    <tr>\n",
       "      <th>4</th>\n",
       "      <td>DIR000005</td>\n",
       "      <td>Otávio Azevedo</td>\n",
       "      <td>Masculino</td>\n",
       "      <td>46</td>\n",
       "      <td>Diretor(a)</td>\n",
       "      <td>Excelente</td>\n",
       "      <td>32084.55</td>\n",
       "      <td>(29929.98, 32084.55]</td>\n",
       "    </tr>\n",
       "  </tbody>\n",
       "</table>\n",
       "</div>"
      ],
      "text/plain": [
       "  id_colaborador             nome sexo_biologico  idade       cargo  \\\n",
       "0      DIR000001       Théo Sales      Masculino     45  Diretor(a)   \n",
       "1      DIR000002       Isis Pinto       Feminino     45  Diretor(a)   \n",
       "2      DIR000003  Isabelly Garcia       Feminino     45  Diretor(a)   \n",
       "3      DIR000004     Nina Pereira       Feminino     45  Diretor(a)   \n",
       "4      DIR000005   Otávio Azevedo      Masculino     46  Diretor(a)   \n",
       "\n",
       "  nota_desempenho  remuneracao        faixa_salarial  \n",
       "0             Bom     29950.79  (29929.98, 32084.55]  \n",
       "1             Bom     27261.07  (25620.84, 27775.41]  \n",
       "2             Bom     25635.61  (25620.84, 27775.41]  \n",
       "3       Excelente     27678.60  (25620.84, 27775.41]  \n",
       "4       Excelente     32084.55  (29929.98, 32084.55]  "
      ]
     },
     "execution_count": 67,
     "metadata": {},
     "output_type": "execute_result"
    }
   ],
   "source": [
    "faixas['faixa_salarial'] = pd.cut(faixas['remuneracao'], bins=int(k), include_lowest=True)\n",
    "faixas.head()"
   ]
  },
  {
   "cell_type": "markdown",
   "metadata": {
    "id": "OgPd_yXlEP6r"
   },
   "source": [
    "#### **Criando a tabela de frequências**"
   ]
  },
  {
   "cell_type": "code",
   "execution_count": 68,
   "metadata": {},
   "outputs": [],
   "source": [
    "tabela_frequencias = faixas.groupby('faixa_salarial', observed=False ).size().reset_index(name='frequencia')"
   ]
  },
  {
   "cell_type": "code",
   "execution_count": 69,
   "metadata": {},
   "outputs": [
    {
     "data": {
      "application/vnd.microsoft.datawrangler.viewer.v0+json": {
       "columns": [
        {
         "name": "index",
         "rawType": "int64",
         "type": "integer"
        },
        {
         "name": "faixa_salarial",
         "rawType": "category",
         "type": "unknown"
        },
        {
         "name": "frequencia",
         "rawType": "int64",
         "type": "integer"
        },
        {
         "name": "porcentagem",
         "rawType": "float64",
         "type": "float"
        }
       ],
       "ref": "3f36a5dc-9b0f-4269-b2da-6b91b424f1df",
       "rows": [
        [
         "0",
         "(1890.405, 4075.14]",
         "5828",
         "52.55184851217313"
        ],
        [
         "1",
         "(4075.14, 6229.71]",
         "3662",
         "33.02073940486925"
        ],
        [
         "2",
         "(6229.71, 8384.28]",
         "1112",
         "10.027051397655546"
        ],
        [
         "3",
         "(8384.28, 10538.85]",
         "288",
         "2.5969341749323713"
        ],
        [
         "4",
         "(10538.85, 12693.42]",
         "131",
         "1.181244364292155"
        ],
        [
         "5",
         "(12693.42, 14847.99]",
         "20",
         "0.18034265103697023"
        ],
        [
         "6",
         "(14847.99, 17002.56]",
         "15",
         "0.1352569882777277"
        ],
        [
         "7",
         "(17002.56, 19157.13]",
         "13",
         "0.11722272317403065"
        ],
        [
         "8",
         "(19157.13, 21311.7]",
         "11",
         "0.09918845807033363"
        ],
        [
         "9",
         "(21311.7, 23466.27]",
         "4",
         "0.03606853020739405"
        ],
        [
         "10",
         "(23466.27, 25620.84]",
         "1",
         "0.009017132551848512"
        ],
        [
         "11",
         "(25620.84, 27775.41]",
         "3",
         "0.027051397655545536"
        ],
        [
         "12",
         "(27775.41, 29929.98]",
         "0",
         "0.0"
        ],
        [
         "13",
         "(29929.98, 32084.55]",
         "2",
         "0.018034265103697024"
        ]
       ],
       "shape": {
        "columns": 3,
        "rows": 14
       }
      },
      "text/html": [
       "<div>\n",
       "<style scoped>\n",
       "    .dataframe tbody tr th:only-of-type {\n",
       "        vertical-align: middle;\n",
       "    }\n",
       "\n",
       "    .dataframe tbody tr th {\n",
       "        vertical-align: top;\n",
       "    }\n",
       "\n",
       "    .dataframe thead th {\n",
       "        text-align: right;\n",
       "    }\n",
       "</style>\n",
       "<table border=\"1\" class=\"dataframe\">\n",
       "  <thead>\n",
       "    <tr style=\"text-align: right;\">\n",
       "      <th></th>\n",
       "      <th>faixa_salarial</th>\n",
       "      <th>frequencia</th>\n",
       "      <th>porcentagem</th>\n",
       "    </tr>\n",
       "  </thead>\n",
       "  <tbody>\n",
       "    <tr>\n",
       "      <th>0</th>\n",
       "      <td>(1890.405, 4075.14]</td>\n",
       "      <td>5828</td>\n",
       "      <td>52.551849</td>\n",
       "    </tr>\n",
       "    <tr>\n",
       "      <th>1</th>\n",
       "      <td>(4075.14, 6229.71]</td>\n",
       "      <td>3662</td>\n",
       "      <td>33.020739</td>\n",
       "    </tr>\n",
       "    <tr>\n",
       "      <th>2</th>\n",
       "      <td>(6229.71, 8384.28]</td>\n",
       "      <td>1112</td>\n",
       "      <td>10.027051</td>\n",
       "    </tr>\n",
       "    <tr>\n",
       "      <th>3</th>\n",
       "      <td>(8384.28, 10538.85]</td>\n",
       "      <td>288</td>\n",
       "      <td>2.596934</td>\n",
       "    </tr>\n",
       "    <tr>\n",
       "      <th>4</th>\n",
       "      <td>(10538.85, 12693.42]</td>\n",
       "      <td>131</td>\n",
       "      <td>1.181244</td>\n",
       "    </tr>\n",
       "    <tr>\n",
       "      <th>5</th>\n",
       "      <td>(12693.42, 14847.99]</td>\n",
       "      <td>20</td>\n",
       "      <td>0.180343</td>\n",
       "    </tr>\n",
       "    <tr>\n",
       "      <th>6</th>\n",
       "      <td>(14847.99, 17002.56]</td>\n",
       "      <td>15</td>\n",
       "      <td>0.135257</td>\n",
       "    </tr>\n",
       "    <tr>\n",
       "      <th>7</th>\n",
       "      <td>(17002.56, 19157.13]</td>\n",
       "      <td>13</td>\n",
       "      <td>0.117223</td>\n",
       "    </tr>\n",
       "    <tr>\n",
       "      <th>8</th>\n",
       "      <td>(19157.13, 21311.7]</td>\n",
       "      <td>11</td>\n",
       "      <td>0.099188</td>\n",
       "    </tr>\n",
       "    <tr>\n",
       "      <th>9</th>\n",
       "      <td>(21311.7, 23466.27]</td>\n",
       "      <td>4</td>\n",
       "      <td>0.036069</td>\n",
       "    </tr>\n",
       "    <tr>\n",
       "      <th>10</th>\n",
       "      <td>(23466.27, 25620.84]</td>\n",
       "      <td>1</td>\n",
       "      <td>0.009017</td>\n",
       "    </tr>\n",
       "    <tr>\n",
       "      <th>11</th>\n",
       "      <td>(25620.84, 27775.41]</td>\n",
       "      <td>3</td>\n",
       "      <td>0.027051</td>\n",
       "    </tr>\n",
       "    <tr>\n",
       "      <th>12</th>\n",
       "      <td>(27775.41, 29929.98]</td>\n",
       "      <td>0</td>\n",
       "      <td>0.000000</td>\n",
       "    </tr>\n",
       "    <tr>\n",
       "      <th>13</th>\n",
       "      <td>(29929.98, 32084.55]</td>\n",
       "      <td>2</td>\n",
       "      <td>0.018034</td>\n",
       "    </tr>\n",
       "  </tbody>\n",
       "</table>\n",
       "</div>"
      ],
      "text/plain": [
       "          faixa_salarial  frequencia  porcentagem\n",
       "0    (1890.405, 4075.14]        5828    52.551849\n",
       "1     (4075.14, 6229.71]        3662    33.020739\n",
       "2     (6229.71, 8384.28]        1112    10.027051\n",
       "3    (8384.28, 10538.85]         288     2.596934\n",
       "4   (10538.85, 12693.42]         131     1.181244\n",
       "5   (12693.42, 14847.99]          20     0.180343\n",
       "6   (14847.99, 17002.56]          15     0.135257\n",
       "7   (17002.56, 19157.13]          13     0.117223\n",
       "8    (19157.13, 21311.7]          11     0.099188\n",
       "9    (21311.7, 23466.27]           4     0.036069\n",
       "10  (23466.27, 25620.84]           1     0.009017\n",
       "11  (25620.84, 27775.41]           3     0.027051\n",
       "12  (27775.41, 29929.98]           0     0.000000\n",
       "13  (29929.98, 32084.55]           2     0.018034"
      ]
     },
     "execution_count": 69,
     "metadata": {},
     "output_type": "execute_result"
    }
   ],
   "source": [
    "# Calculando a porcentagem\n",
    "tabela_frequencias['porcentagem'] = (tabela_frequencias['frequencia'] / len(colaboradores)) * 100\n",
    "\n",
    "tabela_frequencias"
   ]
  },
  {
   "cell_type": "markdown",
   "metadata": {
    "id": "9ASbyGcoEVAq"
   },
   "source": [
    "A tabela de frequências mostra os intervalos de salários (faixas) e a concentração de colaboradores em cada uma.\n",
    "\n",
    "* Podemos observar que mais da metade dos colaboradores (52,5%) são remunerados dentro da 1ª faixa (de R\\$ 1.890,00 até R\\$4.080,00).\n",
    "* Proporção de Colaboradores: A coluna de porcentagem fornece insights sobre a distribuição relativa dos colaboradores, útil para comparações."
   ]
  },
  {
   "cell_type": "markdown",
   "metadata": {
    "id": "FwZr9mioEwug"
   },
   "source": [
    "#### **Construindo o histograma**"
   ]
  },
  {
   "cell_type": "code",
   "execution_count": 70,
   "metadata": {
    "id": "62qWQRkFkVEF"
   },
   "outputs": [
    {
     "data": {
      "image/png": "[encoded data removed]",
      "text/plain": [
       "<Figure size 1500x600 with 1 Axes>"
      ]
     },
     "metadata": {},
     "output_type": "display_data"
    }
   ],
   "source": [
    "plt.figure(figsize=(15, 6))\n",
    "sns.histplot(data=faixas, x='remuneracao')\n",
    "plt.show()"
   ]
  },
  {
   "cell_type": "code",
   "execution_count": 71,
   "metadata": {
    "id": "7kyC7KuMkWO2"
   },
   "outputs": [
    {
     "data": {
      "image/png": "[encoded data removed]",
      "text/plain": [
       "<Figure size 640x480 with 1 Axes>"
      ]
     },
     "metadata": {},
     "output_type": "display_data"
    }
   ],
   "source": [
    "sns.histplot(bins=int(k), data=colaboradores, x='remuneracao', kde=True)\n",
    "plt.show()"
   ]
  },
  {
   "cell_type": "markdown",
   "metadata": {
    "id": "c046w3VREzYl"
   },
   "source": [
    "O histograma apresenta a distribuição visual da nossa tabela de frequência. Conseguimos notar um comportamento assimétrico à direita, como esperado para salários em uma empresa.\n",
    "Notamos que a distribuição de salários está com mais de 95% das remunerações até R\\$ 10.000,00."
   ]
  },
  {
   "cell_type": "code",
   "execution_count": 72,
   "metadata": {},
   "outputs": [],
   "source": [
    "# Definindo o salário mínimo e classes\n",
    "sm = 1412"
   ]
  },
  {
   "cell_type": "code",
   "execution_count": 73,
   "metadata": {},
   "outputs": [
    {
     "data": {
      "text/plain": [
       "[np.float64(1920.57), 2824, 5648, 11296, 16944, np.float64(32084.55)]"
      ]
     },
     "execution_count": 73,
     "metadata": {},
     "output_type": "execute_result"
    }
   ],
   "source": [
    "# Definindo as classes salariais com base no salário mínimo\n",
    "classes = [colaboradores['remuneracao'].min(), sm * 2, sm * 4, sm * 8, sm * 12, colaboradores['remuneracao'].max()]\n",
    "\n",
    "classes"
   ]
  },
  {
   "cell_type": "code",
   "execution_count": 74,
   "metadata": {},
   "outputs": [
    {
     "data": {
      "application/vnd.microsoft.datawrangler.viewer.v0+json": {
       "columns": [
        {
         "name": "index",
         "rawType": "int64",
         "type": "integer"
        },
        {
         "name": "id_colaborador",
         "rawType": "object",
         "type": "string"
        },
        {
         "name": "nome",
         "rawType": "object",
         "type": "string"
        },
        {
         "name": "sexo_biologico",
         "rawType": "object",
         "type": "string"
        },
        {
         "name": "idade",
         "rawType": "int64",
         "type": "integer"
        },
        {
         "name": "cargo",
         "rawType": "object",
         "type": "string"
        },
        {
         "name": "nota_desempenho",
         "rawType": "object",
         "type": "string"
        },
        {
         "name": "remuneracao",
         "rawType": "float64",
         "type": "float"
        },
        {
         "name": "faixa_salarial",
         "rawType": "category",
         "type": "unknown"
        }
       ],
       "ref": "e74d99d9-7521-4738-971c-3fdae5c8cd30",
       "rows": [
        [
         "0",
         "DIR000001",
         "Théo Sales",
         "Masculino",
         "45",
         "Diretor(a)",
         "Bom",
         "29950.79",
         "A"
        ],
        [
         "1",
         "DIR000002",
         "Isis Pinto",
         "Feminino",
         "45",
         "Diretor(a)",
         "Bom",
         "27261.07",
         "A"
        ],
        [
         "2",
         "DIR000003",
         "Isabelly Garcia",
         "Feminino",
         "45",
         "Diretor(a)",
         "Bom",
         "25635.61",
         "A"
        ],
        [
         "3",
         "DIR000004",
         "Nina Pereira",
         "Feminino",
         "45",
         "Diretor(a)",
         "Excelente",
         "27678.6",
         "A"
        ],
        [
         "4",
         "DIR000005",
         "Otávio Azevedo",
         "Masculino",
         "46",
         "Diretor(a)",
         "Excelente",
         "32084.55",
         "A"
        ],
        [
         "5",
         "GER000006",
         "João Pedro da Mata",
         "Masculino",
         "42",
         "Gerente",
         "Excelente",
         "21656.81",
         "A"
        ],
        [
         "6",
         "GER000007",
         "Lucas Gabriel Casa Grande",
         "Masculino",
         "43",
         "Gerente",
         "Bom",
         "20017.92",
         "A"
        ],
        [
         "7",
         "GER000008",
         "Laura Barbosa",
         "Feminino",
         "35",
         "Gerente",
         "Bom",
         "18539.31",
         "A"
        ],
        [
         "8",
         "GER000009",
         "Maysa Alves",
         "Feminino",
         "35",
         "Gerente",
         "Bom",
         "19620.42",
         "A"
        ],
        [
         "9",
         "GER000010",
         "Agatha Gomes",
         "Feminino",
         "43",
         "Gerente",
         "Bom",
         "18821.0",
         "A"
        ],
        [
         "10",
         "GER000011",
         "Benicio Sousa",
         "Masculino",
         "35",
         "Gerente",
         "Excelente",
         "24275.9",
         "A"
        ],
        [
         "11",
         "GER000012",
         "Natália Costa",
         "Feminino",
         "35",
         "Gerente",
         "Excelente",
         "19355.62",
         "A"
        ],
        [
         "12",
         "GER000013",
         "Ana Sophia Rezende",
         "Feminino",
         "35",
         "Gerente",
         "Bom",
         "20112.06",
         "A"
        ],
        [
         "13",
         "GER000014",
         "Guilherme das Neves",
         "Masculino",
         "52",
         "Gerente",
         "Excelente",
         "21431.28",
         "A"
        ],
        [
         "14",
         "GER000015",
         "Luiz Miguel Dias",
         "Masculino",
         "47",
         "Gerente",
         "Excelente",
         "20909.93",
         "A"
        ],
        [
         "15",
         "GER000016",
         "Marcos Vinicius Campos",
         "Masculino",
         "35",
         "Gerente",
         "Excelente",
         "20307.46",
         "A"
        ],
        [
         "16",
         "GER000017",
         "Raul Montenegro",
         "Masculino",
         "35",
         "Gerente",
         "Excelente",
         "22309.59",
         "A"
        ],
        [
         "17",
         "GER000018",
         "Heitor Campos",
         "Masculino",
         "43",
         "Gerente",
         "Bom",
         "19823.03",
         "A"
        ],
        [
         "18",
         "GER000019",
         "Thomas Gonçalves",
         "Masculino",
         "36",
         "Gerente",
         "Excelente",
         "21737.33",
         "A"
        ],
        [
         "19",
         "GER000020",
         "Noah Sousa",
         "Masculino",
         "35",
         "Gerente",
         "Excelente",
         "20439.73",
         "A"
        ],
        [
         "20",
         "COO000021",
         "Gabriela Vasconcelos",
         "Feminino",
         "40",
         "Coordenador(a)",
         "Regular",
         "15657.07",
         "B"
        ],
        [
         "21",
         "COO000022",
         "Emanuel Pereira",
         "Masculino",
         "39",
         "Coordenador(a)",
         "Regular",
         "14867.74",
         "B"
        ],
        [
         "22",
         "COO000023",
         "Pedro Garcia",
         "Masculino",
         "38",
         "Coordenador(a)",
         "Bom",
         "14740.45",
         "B"
        ],
        [
         "23",
         "COO000024",
         "Theodoro Campos",
         "Masculino",
         "45",
         "Coordenador(a)",
         "Regular",
         "15275.54",
         "B"
        ],
        [
         "24",
         "COO000025",
         "Isaac Sousa",
         "Masculino",
         "33",
         "Coordenador(a)",
         "Excelente",
         "16872.47",
         "B"
        ],
        [
         "25",
         "COO000026",
         "Luana Lima",
         "Feminino",
         "46",
         "Coordenador(a)",
         "Bom",
         "14424.4",
         "B"
        ],
        [
         "26",
         "COO000027",
         "Cauã da Rocha",
         "Masculino",
         "30",
         "Coordenador(a)",
         "Excelente",
         "19021.32",
         "A"
        ],
        [
         "27",
         "COO000028",
         "Mathias Freitas",
         "Masculino",
         "44",
         "Coordenador(a)",
         "Regular",
         "16053.86",
         "B"
        ],
        [
         "28",
         "COO000029",
         "Joana Gonçalves",
         "Feminino",
         "44",
         "Coordenador(a)",
         "Bom",
         "12663.54",
         "B"
        ],
        [
         "29",
         "COO000030",
         "Luiz Otávio Barbosa",
         "Masculino",
         "30",
         "Coordenador(a)",
         "Regular",
         "13742.23",
         "B"
        ],
        [
         "30",
         "COO000031",
         "Agatha Almeida",
         "Feminino",
         "30",
         "Coordenador(a)",
         "Regular",
         "15355.86",
         "B"
        ],
        [
         "31",
         "COO000032",
         "Diogo Novais",
         "Masculino",
         "48",
         "Coordenador(a)",
         "Excelente",
         "18694.95",
         "A"
        ],
        [
         "32",
         "COO000033",
         "Diogo Rezende",
         "Masculino",
         "49",
         "Coordenador(a)",
         "Excelente",
         "19205.64",
         "A"
        ],
        [
         "33",
         "COO000034",
         "Emanuelly Fogaça",
         "Feminino",
         "30",
         "Coordenador(a)",
         "Excelente",
         "15430.48",
         "B"
        ],
        [
         "34",
         "COO000035",
         "Evelyn da Mata",
         "Feminino",
         "30",
         "Coordenador(a)",
         "Bom",
         "15298.4",
         "B"
        ],
        [
         "35",
         "COO000036",
         "Nina Alves",
         "Feminino",
         "40",
         "Coordenador(a)",
         "Excelente",
         "17760.83",
         "A"
        ],
        [
         "36",
         "COO000037",
         "Yuri das Neves",
         "Masculino",
         "49",
         "Coordenador(a)",
         "Regular",
         "14085.38",
         "B"
        ],
        [
         "37",
         "COO000038",
         "Matteo Santos",
         "Masculino",
         "30",
         "Coordenador(a)",
         "Bom",
         "17054.66",
         "A"
        ],
        [
         "38",
         "COO000039",
         "Isabelly Novais",
         "Feminino",
         "30",
         "Coordenador(a)",
         "Excelente",
         "14785.15",
         "B"
        ],
        [
         "39",
         "COO000040",
         "Davi Lucas Oliveira",
         "Masculino",
         "39",
         "Coordenador(a)",
         "Excelente",
         "17356.18",
         "A"
        ],
        [
         "40",
         "COO000041",
         "Lorenzo Mendes",
         "Masculino",
         "43",
         "Coordenador(a)",
         "Excelente",
         "17885.32",
         "A"
        ],
        [
         "41",
         "COO000042",
         "Erick Jesus",
         "Masculino",
         "34",
         "Coordenador(a)",
         "Regular",
         "15876.7",
         "B"
        ],
        [
         "42",
         "COO000043",
         "Matheus Novaes",
         "Masculino",
         "44",
         "Coordenador(a)",
         "Excelente",
         "17812.33",
         "A"
        ],
        [
         "43",
         "COO000044",
         "Larissa da Mota",
         "Feminino",
         "30",
         "Coordenador(a)",
         "Regular",
         "12834.55",
         "B"
        ],
        [
         "44",
         "COO000045",
         "Benício Machado",
         "Masculino",
         "30",
         "Coordenador(a)",
         "Bom",
         "15215.75",
         "B"
        ],
        [
         "45",
         "COO000046",
         "Maria Clara Melo",
         "Feminino",
         "30",
         "Coordenador(a)",
         "Excelente",
         "18340.05",
         "A"
        ],
        [
         "46",
         "COO000047",
         "Matheus Brito",
         "Masculino",
         "38",
         "Coordenador(a)",
         "Regular",
         "14670.15",
         "B"
        ],
        [
         "47",
         "COO000048",
         "Mateus Barbosa",
         "Masculino",
         "34",
         "Coordenador(a)",
         "Excelente",
         "19202.39",
         "A"
        ],
        [
         "48",
         "COO000049",
         "Dante Peixoto",
         "Masculino",
         "30",
         "Coordenador(a)",
         "Excelente",
         "19405.2",
         "A"
        ],
        [
         "49",
         "COO000050",
         "Kaique Novaes",
         "Masculino",
         "30",
         "Coordenador(a)",
         "Bom",
         "17336.44",
         "A"
        ]
       ],
       "shape": {
        "columns": 8,
        "rows": 11090
       }
      },
      "text/html": [
       "<div>\n",
       "<style scoped>\n",
       "    .dataframe tbody tr th:only-of-type {\n",
       "        vertical-align: middle;\n",
       "    }\n",
       "\n",
       "    .dataframe tbody tr th {\n",
       "        vertical-align: top;\n",
       "    }\n",
       "\n",
       "    .dataframe thead th {\n",
       "        text-align: right;\n",
       "    }\n",
       "</style>\n",
       "<table border=\"1\" class=\"dataframe\">\n",
       "  <thead>\n",
       "    <tr style=\"text-align: right;\">\n",
       "      <th></th>\n",
       "      <th>id_colaborador</th>\n",
       "      <th>nome</th>\n",
       "      <th>sexo_biologico</th>\n",
       "      <th>idade</th>\n",
       "      <th>cargo</th>\n",
       "      <th>nota_desempenho</th>\n",
       "      <th>remuneracao</th>\n",
       "      <th>faixa_salarial</th>\n",
       "    </tr>\n",
       "  </thead>\n",
       "  <tbody>\n",
       "    <tr>\n",
       "      <th>0</th>\n",
       "      <td>DIR000001</td>\n",
       "      <td>Théo Sales</td>\n",
       "      <td>Masculino</td>\n",
       "      <td>45</td>\n",
       "      <td>Diretor(a)</td>\n",
       "      <td>Bom</td>\n",
       "      <td>29950.79</td>\n",
       "      <td>A</td>\n",
       "    </tr>\n",
       "    <tr>\n",
       "      <th>1</th>\n",
       "      <td>DIR000002</td>\n",
       "      <td>Isis Pinto</td>\n",
       "      <td>Feminino</td>\n",
       "      <td>45</td>\n",
       "      <td>Diretor(a)</td>\n",
       "      <td>Bom</td>\n",
       "      <td>27261.07</td>\n",
       "      <td>A</td>\n",
       "    </tr>\n",
       "    <tr>\n",
       "      <th>2</th>\n",
       "      <td>DIR000003</td>\n",
       "      <td>Isabelly Garcia</td>\n",
       "      <td>Feminino</td>\n",
       "      <td>45</td>\n",
       "      <td>Diretor(a)</td>\n",
       "      <td>Bom</td>\n",
       "      <td>25635.61</td>\n",
       "      <td>A</td>\n",
       "    </tr>\n",
       "    <tr>\n",
       "      <th>3</th>\n",
       "      <td>DIR000004</td>\n",
       "      <td>Nina Pereira</td>\n",
       "      <td>Feminino</td>\n",
       "      <td>45</td>\n",
       "      <td>Diretor(a)</td>\n",
       "      <td>Excelente</td>\n",
       "      <td>27678.60</td>\n",
       "      <td>A</td>\n",
       "    </tr>\n",
       "    <tr>\n",
       "      <th>4</th>\n",
       "      <td>DIR000005</td>\n",
       "      <td>Otávio Azevedo</td>\n",
       "      <td>Masculino</td>\n",
       "      <td>46</td>\n",
       "      <td>Diretor(a)</td>\n",
       "      <td>Excelente</td>\n",
       "      <td>32084.55</td>\n",
       "      <td>A</td>\n",
       "    </tr>\n",
       "    <tr>\n",
       "      <th>...</th>\n",
       "      <td>...</td>\n",
       "      <td>...</td>\n",
       "      <td>...</td>\n",
       "      <td>...</td>\n",
       "      <td>...</td>\n",
       "      <td>...</td>\n",
       "      <td>...</td>\n",
       "      <td>...</td>\n",
       "    </tr>\n",
       "    <tr>\n",
       "      <th>11085</th>\n",
       "      <td>REP011086</td>\n",
       "      <td>Nicolas Mendes</td>\n",
       "      <td>Masculino</td>\n",
       "      <td>40</td>\n",
       "      <td>Repositor(a)</td>\n",
       "      <td>Bom</td>\n",
       "      <td>3340.72</td>\n",
       "      <td>D</td>\n",
       "    </tr>\n",
       "    <tr>\n",
       "      <th>11086</th>\n",
       "      <td>REP011087</td>\n",
       "      <td>Maria Luísa Câmara</td>\n",
       "      <td>Feminino</td>\n",
       "      <td>48</td>\n",
       "      <td>Repositor(a)</td>\n",
       "      <td>Insuficiente</td>\n",
       "      <td>3330.98</td>\n",
       "      <td>D</td>\n",
       "    </tr>\n",
       "    <tr>\n",
       "      <th>11087</th>\n",
       "      <td>REP011088</td>\n",
       "      <td>Allana da Mota</td>\n",
       "      <td>Feminino</td>\n",
       "      <td>28</td>\n",
       "      <td>Repositor(a)</td>\n",
       "      <td>Excelente</td>\n",
       "      <td>3382.03</td>\n",
       "      <td>D</td>\n",
       "    </tr>\n",
       "    <tr>\n",
       "      <th>11088</th>\n",
       "      <td>REP011089</td>\n",
       "      <td>Bruno Rezende</td>\n",
       "      <td>Masculino</td>\n",
       "      <td>36</td>\n",
       "      <td>Repositor(a)</td>\n",
       "      <td>Bom</td>\n",
       "      <td>3088.46</td>\n",
       "      <td>D</td>\n",
       "    </tr>\n",
       "    <tr>\n",
       "      <th>11089</th>\n",
       "      <td>REP011090</td>\n",
       "      <td>Maria Júlia Rios</td>\n",
       "      <td>Feminino</td>\n",
       "      <td>42</td>\n",
       "      <td>Repositor(a)</td>\n",
       "      <td>Regular</td>\n",
       "      <td>2978.90</td>\n",
       "      <td>D</td>\n",
       "    </tr>\n",
       "  </tbody>\n",
       "</table>\n",
       "<p>11090 rows × 8 columns</p>\n",
       "</div>"
      ],
      "text/plain": [
       "      id_colaborador                nome sexo_biologico  idade         cargo  \\\n",
       "0          DIR000001          Théo Sales      Masculino     45    Diretor(a)   \n",
       "1          DIR000002          Isis Pinto       Feminino     45    Diretor(a)   \n",
       "2          DIR000003     Isabelly Garcia       Feminino     45    Diretor(a)   \n",
       "3          DIR000004        Nina Pereira       Feminino     45    Diretor(a)   \n",
       "4          DIR000005      Otávio Azevedo      Masculino     46    Diretor(a)   \n",
       "...              ...                 ...            ...    ...           ...   \n",
       "11085      REP011086      Nicolas Mendes      Masculino     40  Repositor(a)   \n",
       "11086      REP011087  Maria Luísa Câmara       Feminino     48  Repositor(a)   \n",
       "11087      REP011088      Allana da Mota       Feminino     28  Repositor(a)   \n",
       "11088      REP011089       Bruno Rezende      Masculino     36  Repositor(a)   \n",
       "11089      REP011090    Maria Júlia Rios       Feminino     42  Repositor(a)   \n",
       "\n",
       "      nota_desempenho  remuneracao faixa_salarial  \n",
       "0                 Bom     29950.79              A  \n",
       "1                 Bom     27261.07              A  \n",
       "2                 Bom     25635.61              A  \n",
       "3           Excelente     27678.60              A  \n",
       "4           Excelente     32084.55              A  \n",
       "...               ...          ...            ...  \n",
       "11085             Bom      3340.72              D  \n",
       "11086    Insuficiente      3330.98              D  \n",
       "11087       Excelente      3382.03              D  \n",
       "11088             Bom      3088.46              D  \n",
       "11089         Regular      2978.90              D  \n",
       "\n",
       "[11090 rows x 8 columns]"
      ]
     },
     "execution_count": 74,
     "metadata": {},
     "output_type": "execute_result"
    }
   ],
   "source": [
    "# Definindo as classes salariais com base nas faixas\n",
    "labels = ['E', 'D', 'C', 'B', 'A']\n",
    "colaboradores['faixa_salarial'] = pd.cut(colaboradores['remuneracao'], bins=classes, labels=labels, right=True, include_lowest=True)\n",
    "\n",
    "colaboradores"
   ]
  },
  {
   "cell_type": "code",
   "execution_count": 75,
   "metadata": {},
   "outputs": [
    {
     "data": {
      "application/vnd.microsoft.datawrangler.viewer.v0+json": {
       "columns": [
        {
         "name": "faixa_salarial",
         "rawType": "category",
         "type": "unknown"
        },
        {
         "name": "count",
         "rawType": "int64",
         "type": "integer"
        }
       ],
       "ref": "b054eb03-b549-4d96-8d1b-1ce268ec813b",
       "rows": [
        [
         "E",
         "948"
        ],
        [
         "D",
         "8070"
        ],
        [
         "C",
         "1944"
        ],
        [
         "B",
         "93"
        ],
        [
         "A",
         "35"
        ]
       ],
       "shape": {
        "columns": 1,
        "rows": 5
       }
      },
      "text/plain": [
       "faixa_salarial\n",
       "E     948\n",
       "D    8070\n",
       "C    1944\n",
       "B      93\n",
       "A      35\n",
       "Name: count, dtype: int64"
      ]
     },
     "execution_count": 75,
     "metadata": {},
     "output_type": "execute_result"
    }
   ],
   "source": [
    "# Tabela de frequência das faixas salariais\n",
    "frequencias = colaboradores['faixa_salarial'].value_counts().sort_index()\n",
    "\n",
    "frequencias"
   ]
  },
  {
   "cell_type": "code",
   "execution_count": 76,
   "metadata": {},
   "outputs": [],
   "source": [
    "# Agrupar por faixa salarial e calcular a frequência e porcentagem\n",
    "classes_salariais = colaboradores.groupby('faixa_salarial', observed=False ).size().reset_index(name='frequencia')"
   ]
  },
  {
   "cell_type": "code",
   "execution_count": 77,
   "metadata": {},
   "outputs": [],
   "source": [
    "# Calcular a porcentagem\n",
    "classes_salariais['porcentagem'] = (classes_salariais['frequencia'] / len(colaboradores)) * 100"
   ]
  },
  {
   "cell_type": "code",
   "execution_count": 78,
   "metadata": {},
   "outputs": [
    {
     "data": {
      "application/vnd.microsoft.datawrangler.viewer.v0+json": {
       "columns": [
        {
         "name": "index",
         "rawType": "int64",
         "type": "integer"
        },
        {
         "name": "faixa_salarial",
         "rawType": "category",
         "type": "unknown"
        },
        {
         "name": "frequencia",
         "rawType": "int64",
         "type": "integer"
        },
        {
         "name": "porcentagem",
         "rawType": "float64",
         "type": "float"
        }
       ],
       "ref": "72780ab8-ca62-485c-9365-af02e8c72bae",
       "rows": [
        [
         "0",
         "E",
         "948",
         "8.548241659152389"
        ],
        [
         "1",
         "D",
         "8070",
         "72.76825969341749"
        ],
        [
         "2",
         "C",
         "1944",
         "17.52930568079351"
        ],
        [
         "3",
         "B",
         "93",
         "0.8385933273219116"
        ],
        [
         "4",
         "A",
         "35",
         "0.3155996393146979"
        ]
       ],
       "shape": {
        "columns": 3,
        "rows": 5
       }
      },
      "text/html": [
       "<div>\n",
       "<style scoped>\n",
       "    .dataframe tbody tr th:only-of-type {\n",
       "        vertical-align: middle;\n",
       "    }\n",
       "\n",
       "    .dataframe tbody tr th {\n",
       "        vertical-align: top;\n",
       "    }\n",
       "\n",
       "    .dataframe thead th {\n",
       "        text-align: right;\n",
       "    }\n",
       "</style>\n",
       "<table border=\"1\" class=\"dataframe\">\n",
       "  <thead>\n",
       "    <tr style=\"text-align: right;\">\n",
       "      <th></th>\n",
       "      <th>faixa_salarial</th>\n",
       "      <th>frequencia</th>\n",
       "      <th>porcentagem</th>\n",
       "    </tr>\n",
       "  </thead>\n",
       "  <tbody>\n",
       "    <tr>\n",
       "      <th>0</th>\n",
       "      <td>E</td>\n",
       "      <td>948</td>\n",
       "      <td>8.548242</td>\n",
       "    </tr>\n",
       "    <tr>\n",
       "      <th>1</th>\n",
       "      <td>D</td>\n",
       "      <td>8070</td>\n",
       "      <td>72.768260</td>\n",
       "    </tr>\n",
       "    <tr>\n",
       "      <th>2</th>\n",
       "      <td>C</td>\n",
       "      <td>1944</td>\n",
       "      <td>17.529306</td>\n",
       "    </tr>\n",
       "    <tr>\n",
       "      <th>3</th>\n",
       "      <td>B</td>\n",
       "      <td>93</td>\n",
       "      <td>0.838593</td>\n",
       "    </tr>\n",
       "    <tr>\n",
       "      <th>4</th>\n",
       "      <td>A</td>\n",
       "      <td>35</td>\n",
       "      <td>0.315600</td>\n",
       "    </tr>\n",
       "  </tbody>\n",
       "</table>\n",
       "</div>"
      ],
      "text/plain": [
       "  faixa_salarial  frequencia  porcentagem\n",
       "0              E         948     8.548242\n",
       "1              D        8070    72.768260\n",
       "2              C        1944    17.529306\n",
       "3              B          93     0.838593\n",
       "4              A          35     0.315600"
      ]
     },
     "execution_count": 78,
     "metadata": {},
     "output_type": "execute_result"
    }
   ],
   "source": [
    "# Ordenar pelas classes salariais\n",
    "classes_salariais = classes_salariais.sort_values(by='faixa_salarial')\n",
    "\n",
    "classes_salariais"
   ]
  },
  {
   "cell_type": "code",
   "execution_count": 79,
   "metadata": {},
   "outputs": [
    {
     "data": {
      "image/png": "[encoded data removed]",
      "text/plain": [
       "<Figure size 1000x800 with 1 Axes>"
      ]
     },
     "metadata": {},
     "output_type": "display_data"
    }
   ],
   "source": [
    "# Ajustando o tamanho do gráfico\n",
    "plt.figure(figsize=(10, 8))\n",
    "\n",
    "# Criando o gráfico de barras\n",
    "sns.barplot(x='faixa_salarial', y='frequencia', data=classes_salariais, color='steelblue', alpha=0.6)\n",
    "\n",
    "# Adicionando título e rótulos aos eixos\n",
    "plt.title('Distribuição de Frequência das Faixas Salariais', fontsize=22, ha='center')\n",
    "plt.xlabel('Faixas', fontsize=16)\n",
    "plt.ylabel('nº de colaboradores', fontsize=16)\n",
    "\n",
    "# Adicionando rótulos de frequência e porcentagem acima das barras\n",
    "for i, row in classes_salariais.iterrows():\n",
    "    plt.text(i, row['frequencia'] + 2, f\"{row['frequencia']} ({round(row['porcentagem'], 1)}%)\",\n",
    "             ha='center', fontsize=14)\n",
    "\n",
    "# Exibindo o gráfico\n",
    "plt.show()"
   ]
  },
  {
   "cell_type": "markdown",
   "metadata": {
    "id": "dRX8627hNI49"
   },
   "source": [
    "## **4.2 Avaliando os salários pelas medidas separatrizes**\n",
    "\n",
    "---\n",
    "\n"
   ]
  },
  {
   "cell_type": "markdown",
   "metadata": {
    "id": "64g_fCdINK8E"
   },
   "source": [
    "### <font color=\"#E23155\" face=\"Verdana\">Demanda 9: Análise de remuneração dos colaboradores</font>"
   ]
  },
  {
   "cell_type": "markdown",
   "metadata": {
    "id": "RbShP8iiHDem"
   },
   "source": [
    "Agora, a equipe de RH e financeiro da empresa quer entender melhor a distribuição dos salários dos colaboradores dentro de faixas específicas. Há um interesse em identificar faixas salariais e entender se a remuneração das pessoas coordenadoras estão dentro dos 99% maiores salários.\n",
    "\n",
    "Como calcular e interpretar esses dados para gerar insights úteis ao RH e ao financeiro? Além disso, como comunicar essas análises de forma clara para orientar decisões estratégicas?"
   ]
  },
  {
   "cell_type": "markdown",
   "metadata": {
    "id": "ORygy6BmHIt6"
   },
   "source": [
    "### **Quartis, decis e percentis**\n",
    "\n",
    "São medidas de posição semelhantes à mediana, embora não sejam medidas de tendência central. Como se sabe, a mediana divide a distribuição em duas partes iguais quanto ao número de elementos de cada parte. Para essas 3 medidas temos:\n",
    "\n",
    "* **Quartis:** Dividem os dados em 4 partes iguais de acordo com o número de registros, sendo bastante importante para identificar faixas.\n",
    "\n",
    "* **Decis:** Dividem os dados em 10 partes iguais.\n",
    "\n",
    "* **Percentis:** Dividem os dados em 100 partes iguais, que ajuda em análises mais granulares, como os 5% ou 1% maiores valores.\n",
    "\n"
   ]
  },
  {
   "cell_type": "markdown",
   "metadata": {
    "id": "Q7vNVvtaHKm-"
   },
   "source": [
    "### <font color=\"#E23155\" face=\"Verdana\">Solução:</font>"
   ]
  },
  {
   "cell_type": "markdown",
   "metadata": {
    "id": "CdTHJ72dHMEt"
   },
   "source": [
    "Para os salários, utilizaremos os quartis para observar as faixas salariais e o percentil acima de 99% para identificar se as pessoas coordenadoras estão entre os salários mais altos."
   ]
  },
  {
   "cell_type": "markdown",
   "metadata": {
    "id": "UhWvsw8GHOBv"
   },
   "source": [
    "#### **Calculando os quartis**"
   ]
  },
  {
   "cell_type": "code",
   "execution_count": 80,
   "metadata": {
    "id": "jfBvlGIYki3y"
   },
   "outputs": [
    {
     "data": {
      "text/plain": [
       "{'Q1': np.float64(3345.0775),\n",
       " 'Q2': np.float64(4003.3599999999997),\n",
       " 'Q3': np.float64(5036.1575)}"
      ]
     },
     "execution_count": 80,
     "metadata": {},
     "output_type": "execute_result"
    }
   ],
   "source": [
    "quartis = {\n",
    "    'Q1': colaboradores['remuneracao'].quantile(0.25),\n",
    "    'Q2': colaboradores['remuneracao'].quantile(0.50),\n",
    "    'Q3': colaboradores['remuneracao'].quantile(0.75)\n",
    "}\n",
    "\n",
    "quartis"
   ]
  },
  {
   "cell_type": "markdown",
   "metadata": {
    "id": "aspdJ0sWHRN4"
   },
   "source": [
    "#### **Visualizando os quartis em um Histograma**"
   ]
  },
  {
   "cell_type": "code",
   "execution_count": 81,
   "metadata": {
    "id": "mIrPX9shkkUs"
   },
   "outputs": [
    {
     "data": {
      "image/png": "[encoded data removed]",
      "text/plain": [
       "<Figure size 1500x600 with 1 Axes>"
      ]
     },
     "metadata": {},
     "output_type": "display_data"
    }
   ],
   "source": [
    "plt.figure(figsize=(15, 6))\n",
    "sns.histplot(binwidth = 500, data=colaboradores, x='remuneracao')\n",
    "plt.axvline(quartis['Q1'], color='red', linestyle='dashed')\n",
    "plt.axvline(quartis['Q2'], color='red', linestyle='dashed')\n",
    "plt.axvline(quartis['Q3'], color='red', linestyle='dashed')\n",
    "\n",
    "plt.show()"
   ]
  },
  {
   "cell_type": "markdown",
   "metadata": {
    "id": "ydNDN2O1HTxe"
   },
   "source": [
    "Com os quartis conseguimos dividir as faixas salariais em partes iguais. Aqui conseguimos observar que por conta dos altos salários dos cargos mais gerenciais da empresa, temos uma **distribuição mais assimétrica** da remuneração.\n",
    "\n",
    "O que é um comportamento esperado para salário: muitos recebem um valor base e poucos com altos salários."
   ]
  },
  {
   "cell_type": "markdown",
   "metadata": {
    "id": "K_OSOG2nHU28"
   },
   "source": [
    "#### **Analisando os salários das pessoas coordenadoras**"
   ]
  },
  {
   "cell_type": "markdown",
   "metadata": {
    "id": "ge5YnXvaHW6E"
   },
   "source": [
    "Vamos prosseguir nossa investigação verificando se as pessoas coordenadoras (3º em hierarquia na nossa base) estão entre os 1% com maiores salários."
   ]
  },
  {
   "cell_type": "code",
   "execution_count": 82,
   "metadata": {
    "id": "1ttK35IsknRA"
   },
   "outputs": [
    {
     "data": {
      "text/plain": [
       "np.float64(11525.662300000055)"
      ]
     },
     "execution_count": 82,
     "metadata": {},
     "output_type": "execute_result"
    }
   ],
   "source": [
    "percentil_99 = colaboradores['remuneracao'].quantile(0.99)\n",
    "percentil_99"
   ]
  },
  {
   "cell_type": "code",
   "execution_count": 83,
   "metadata": {
    "id": "lARNg46_knLZ"
   },
   "outputs": [
    {
     "data": {
      "text/plain": [
       "45"
      ]
     },
     "execution_count": 83,
     "metadata": {},
     "output_type": "execute_result"
    }
   ],
   "source": [
    "coordenadores = colaboradores[colaboradores['cargo'] == 'Coordenador(a)']\n",
    "num_coordenadores = len(coordenadores)\n",
    "num_coordenadores"
   ]
  },
  {
   "cell_type": "code",
   "execution_count": 84,
   "metadata": {
    "id": "J1opdEq9knGJ"
   },
   "outputs": [
    {
     "data": {
      "text/plain": [
       "45"
      ]
     },
     "execution_count": 84,
     "metadata": {},
     "output_type": "execute_result"
    }
   ],
   "source": [
    "coordenadores_alta_remuneracao = colaboradores[(colaboradores['cargo'] == 'Coordenador(a)') & (colaboradores['remuneracao'] > percentil_99)]\n",
    "\n",
    "num_coordenadores_alta_remuneracao = len(coordenadores_alta_remuneracao)\n",
    "num_coordenadores_alta_remuneracao"
   ]
  },
  {
   "cell_type": "markdown",
   "metadata": {
    "id": "fkLSMGyWHbbi"
   },
   "source": [
    "Com isso, conseguimos comprovar que as pessoas coordenadoras estão entre os 1% que recebem maiores salários dentro da empresa. Podemos repassar essa informação para o RH e financeiro da empresa para averiguar se está dentro das políticas salariais. E, se possível, analisando mais perfis, eles poderão definir políticas de remuneração mais transparentes e alinhadas ao mercado."
   ]
  },
  {
   "cell_type": "markdown",
   "metadata": {
    "id": "kmqN1SR1NMmh"
   },
   "source": [
    "## **4.3 Classificando dados pelas medidas separatrizes**\n",
    "\n",
    "---"
   ]
  },
  {
   "cell_type": "markdown",
   "metadata": {
    "id": "5h5AeufUNScL"
   },
   "source": [
    "### <font color=\"#E23155\" face=\"Verdana\">Demanda 10: Pesquisa de colaboradores mais jovens</font>"
   ]
  },
  {
   "cell_type": "markdown",
   "metadata": {
    "id": "1v1JMABGNI7m"
   },
   "source": [
    "Nesta nova demanda, a equipe de RH da empresa quer realizar uma pesquisa em torno das idades dos colaboradores. Isto porque a empresa deseja identificar o grupo mais jovem (**20% mais novos**) para implementar um programa de aceleração profissional com cursos e treinamentos voltados ao desenvolvimento de jovens talentos.\n",
    "\n",
    "Como calcular e interpretar esses dados para repassar ao RH?"
   ]
  },
  {
   "cell_type": "markdown",
   "metadata": {
    "id": "us4698S6NLHE"
   },
   "source": [
    "### <font color=\"#E23155\" face=\"Verdana\">Solução - Analisando as idades:</font>"
   ]
  },
  {
   "cell_type": "markdown",
   "metadata": {
    "id": "26rnBsVYNMjr"
   },
   "source": [
    "Para as idades, visualizaremos a distribuição, classificaremos as idades percentualmente, e determinaremos o ponto de corte para o grupo de 20% mais jovens, que poderão ser contemplados com o programa de aceleração profissional.\n"
   ]
  },
  {
   "cell_type": "markdown",
   "metadata": {
    "id": "zxKGGxb3NPCu"
   },
   "source": [
    "#### **Visualizando a faixa etária desejada**"
   ]
  },
  {
   "cell_type": "code",
   "execution_count": 85,
   "metadata": {
    "id": "vwGEMwbekqEn"
   },
   "outputs": [
    {
     "data": {
      "image/png": "[encoded data removed]",
      "text/plain": [
       "<Figure size 1500x600 with 1 Axes>"
      ]
     },
     "metadata": {},
     "output_type": "display_data"
    }
   ],
   "source": [
    "plt.figure(figsize=(15, 6))\n",
    "sns.histplot(data=colaboradores, x='idade', bins= 10, cumulative=True, stat='proportion', kde=True )\n",
    "plt.axhline(0.20, color='red', linestyle='dashed')\n",
    "\n",
    "plt.show()"
   ]
  },
  {
   "cell_type": "markdown",
   "metadata": {
    "id": "hh7iH1O6NRdK"
   },
   "source": [
    "#### **Classificando os colaboradores e identificando público**"
   ]
  },
  {
   "cell_type": "code",
   "execution_count": 86,
   "metadata": {
    "id": "1MKu8F5Akrj9"
   },
   "outputs": [
    {
     "data": {
      "application/vnd.microsoft.datawrangler.viewer.v0+json": {
       "columns": [
        {
         "name": "index",
         "rawType": "int64",
         "type": "integer"
        },
        {
         "name": "id_colaborador",
         "rawType": "object",
         "type": "string"
        },
        {
         "name": "nome",
         "rawType": "object",
         "type": "string"
        },
        {
         "name": "sexo_biologico",
         "rawType": "object",
         "type": "string"
        },
        {
         "name": "idade",
         "rawType": "int64",
         "type": "integer"
        },
        {
         "name": "cargo",
         "rawType": "object",
         "type": "string"
        },
        {
         "name": "nota_desempenho",
         "rawType": "object",
         "type": "string"
        },
        {
         "name": "remuneracao",
         "rawType": "float64",
         "type": "float"
        },
        {
         "name": "faixa_salarial",
         "rawType": "category",
         "type": "unknown"
        }
       ],
       "ref": "90838109-5df2-4496-a5b0-846a313cfa56",
       "rows": [
        [
         "0",
         "DIR000001",
         "Théo Sales",
         "Masculino",
         "45",
         "Diretor(a)",
         "Bom",
         "29950.79",
         "A"
        ],
        [
         "1",
         "DIR000002",
         "Isis Pinto",
         "Feminino",
         "45",
         "Diretor(a)",
         "Bom",
         "27261.07",
         "A"
        ],
        [
         "2",
         "DIR000003",
         "Isabelly Garcia",
         "Feminino",
         "45",
         "Diretor(a)",
         "Bom",
         "25635.61",
         "A"
        ],
        [
         "3",
         "DIR000004",
         "Nina Pereira",
         "Feminino",
         "45",
         "Diretor(a)",
         "Excelente",
         "27678.6",
         "A"
        ],
        [
         "4",
         "DIR000005",
         "Otávio Azevedo",
         "Masculino",
         "46",
         "Diretor(a)",
         "Excelente",
         "32084.55",
         "A"
        ]
       ],
       "shape": {
        "columns": 8,
        "rows": 5
       }
      },
      "text/html": [
       "<div>\n",
       "<style scoped>\n",
       "    .dataframe tbody tr th:only-of-type {\n",
       "        vertical-align: middle;\n",
       "    }\n",
       "\n",
       "    .dataframe tbody tr th {\n",
       "        vertical-align: top;\n",
       "    }\n",
       "\n",
       "    .dataframe thead th {\n",
       "        text-align: right;\n",
       "    }\n",
       "</style>\n",
       "<table border=\"1\" class=\"dataframe\">\n",
       "  <thead>\n",
       "    <tr style=\"text-align: right;\">\n",
       "      <th></th>\n",
       "      <th>id_colaborador</th>\n",
       "      <th>nome</th>\n",
       "      <th>sexo_biologico</th>\n",
       "      <th>idade</th>\n",
       "      <th>cargo</th>\n",
       "      <th>nota_desempenho</th>\n",
       "      <th>remuneracao</th>\n",
       "      <th>faixa_salarial</th>\n",
       "    </tr>\n",
       "  </thead>\n",
       "  <tbody>\n",
       "    <tr>\n",
       "      <th>0</th>\n",
       "      <td>DIR000001</td>\n",
       "      <td>Théo Sales</td>\n",
       "      <td>Masculino</td>\n",
       "      <td>45</td>\n",
       "      <td>Diretor(a)</td>\n",
       "      <td>Bom</td>\n",
       "      <td>29950.79</td>\n",
       "      <td>A</td>\n",
       "    </tr>\n",
       "    <tr>\n",
       "      <th>1</th>\n",
       "      <td>DIR000002</td>\n",
       "      <td>Isis Pinto</td>\n",
       "      <td>Feminino</td>\n",
       "      <td>45</td>\n",
       "      <td>Diretor(a)</td>\n",
       "      <td>Bom</td>\n",
       "      <td>27261.07</td>\n",
       "      <td>A</td>\n",
       "    </tr>\n",
       "    <tr>\n",
       "      <th>2</th>\n",
       "      <td>DIR000003</td>\n",
       "      <td>Isabelly Garcia</td>\n",
       "      <td>Feminino</td>\n",
       "      <td>45</td>\n",
       "      <td>Diretor(a)</td>\n",
       "      <td>Bom</td>\n",
       "      <td>25635.61</td>\n",
       "      <td>A</td>\n",
       "    </tr>\n",
       "    <tr>\n",
       "      <th>3</th>\n",
       "      <td>DIR000004</td>\n",
       "      <td>Nina Pereira</td>\n",
       "      <td>Feminino</td>\n",
       "      <td>45</td>\n",
       "      <td>Diretor(a)</td>\n",
       "      <td>Excelente</td>\n",
       "      <td>27678.60</td>\n",
       "      <td>A</td>\n",
       "    </tr>\n",
       "    <tr>\n",
       "      <th>4</th>\n",
       "      <td>DIR000005</td>\n",
       "      <td>Otávio Azevedo</td>\n",
       "      <td>Masculino</td>\n",
       "      <td>46</td>\n",
       "      <td>Diretor(a)</td>\n",
       "      <td>Excelente</td>\n",
       "      <td>32084.55</td>\n",
       "      <td>A</td>\n",
       "    </tr>\n",
       "  </tbody>\n",
       "</table>\n",
       "</div>"
      ],
      "text/plain": [
       "  id_colaborador             nome sexo_biologico  idade       cargo  \\\n",
       "0      DIR000001       Théo Sales      Masculino     45  Diretor(a)   \n",
       "1      DIR000002       Isis Pinto       Feminino     45  Diretor(a)   \n",
       "2      DIR000003  Isabelly Garcia       Feminino     45  Diretor(a)   \n",
       "3      DIR000004     Nina Pereira       Feminino     45  Diretor(a)   \n",
       "4      DIR000005   Otávio Azevedo      Masculino     46  Diretor(a)   \n",
       "\n",
       "  nota_desempenho  remuneracao faixa_salarial  \n",
       "0             Bom     29950.79              A  \n",
       "1             Bom     27261.07              A  \n",
       "2             Bom     25635.61              A  \n",
       "3       Excelente     27678.60              A  \n",
       "4       Excelente     32084.55              A  "
      ]
     },
     "execution_count": 86,
     "metadata": {},
     "output_type": "execute_result"
    }
   ],
   "source": [
    "idades_classificacao = colaboradores.copy()\n",
    "idades_classificacao.head()"
   ]
  },
  {
   "cell_type": "code",
   "execution_count": 87,
   "metadata": {
    "id": "uUW3osdbks56"
   },
   "outputs": [
    {
     "data": {
      "application/vnd.microsoft.datawrangler.viewer.v0+json": {
       "columns": [
        {
         "name": "index",
         "rawType": "int64",
         "type": "integer"
        },
        {
         "name": "id_colaborador",
         "rawType": "object",
         "type": "string"
        },
        {
         "name": "nome",
         "rawType": "object",
         "type": "string"
        },
        {
         "name": "sexo_biologico",
         "rawType": "object",
         "type": "string"
        },
        {
         "name": "idade",
         "rawType": "int64",
         "type": "integer"
        },
        {
         "name": "cargo",
         "rawType": "object",
         "type": "string"
        },
        {
         "name": "nota_desempenho",
         "rawType": "object",
         "type": "string"
        },
        {
         "name": "remuneracao",
         "rawType": "float64",
         "type": "float"
        },
        {
         "name": "faixa_salarial",
         "rawType": "category",
         "type": "unknown"
        },
        {
         "name": "cumulativo",
         "rawType": "float64",
         "type": "float"
        },
        {
         "name": "qualificado",
         "rawType": "bool",
         "type": "boolean"
        }
       ],
       "ref": "105fb94b-f73c-4703-bec8-d0064261d7f2",
       "rows": [
        [
         "8730",
         "REP008731",
         "Danilo Gonçalves",
         "Masculino",
         "18",
         "Repositor(a)",
         "Excelente",
         "4104.73",
         "D",
         "9.017132551848512e-05",
         "True"
        ],
        [
         "8710",
         "REP008711",
         "Ana Lívia Casa Grande",
         "Feminino",
         "18",
         "Repositor(a)",
         "Insuficiente",
         "2892.72",
         "D",
         "0.00018034265103697024",
         "True"
        ],
        [
         "4239",
         "EST004240",
         "Lorenzo Lopes",
         "Masculino",
         "18",
         "Estoquista",
         "Regular",
         "4742.12",
         "D",
         "0.0002705139765554554",
         "True"
        ],
        [
         "3003",
         "EST003004",
         "Ana Julia Ferreira",
         "Feminino",
         "18",
         "Estoquista",
         "Bom",
         "4516.05",
         "D",
         "0.0003606853020739405",
         "True"
        ],
        [
         "3001",
         "EST003002",
         "Alana Vargas",
         "Feminino",
         "18",
         "Estoquista",
         "Excelente",
         "3977.6",
         "D",
         "0.0004508566275924256",
         "True"
        ],
        [
         "6022",
         "EST006023",
         "Maria Laura Fonseca",
         "Feminino",
         "18",
         "Estoquista",
         "Regular",
         "2832.6",
         "D",
         "0.0005410279531109107",
         "True"
        ],
        [
         "6016",
         "EST006017",
         "Henry Gabriel Freitas",
         "Masculino",
         "18",
         "Estoquista",
         "Excelente",
         "4376.48",
         "D",
         "0.0006311992786293959",
         "True"
        ],
        [
         "6238",
         "EST006239",
         "Ana Julia Campos",
         "Feminino",
         "18",
         "Estoquista",
         "Excelente",
         "5017.54",
         "D",
         "0.000721370604147881",
         "True"
        ],
        [
         "6236",
         "EST006237",
         "Isabella Montenegro",
         "Feminino",
         "18",
         "Estoquista",
         "Excelente",
         "3634.73",
         "D",
         "0.0008115419296663661",
         "True"
        ],
        [
         "4247",
         "EST004248",
         "Emanuel das Neves",
         "Masculino",
         "18",
         "Estoquista",
         "Bom",
         "5252.37",
         "D",
         "0.0009017132551848512",
         "True"
        ],
        [
         "5210",
         "EST005211",
         "Lavínia Andrade",
         "Feminino",
         "18",
         "Estoquista",
         "Excelente",
         "3012.24",
         "D",
         "0.0009918845807033363",
         "True"
        ],
        [
         "10992",
         "REP010993",
         "Juliana Abreu",
         "Feminino",
         "18",
         "Repositor(a)",
         "Excelente",
         "4077.98",
         "D",
         "0.0010820559062218215",
         "True"
        ],
        [
         "2928",
         "SUP002929",
         "Fernanda Fonseca",
         "Feminino",
         "18",
         "Suporte",
         "Insuficiente",
         "5950.89",
         "C",
         "0.0011722272317403065",
         "True"
        ],
        [
         "2926",
         "SUP002927",
         "Laura Almeida",
         "Feminino",
         "18",
         "Suporte",
         "Excelente",
         "5807.98",
         "C",
         "0.0012623985572587917",
         "True"
        ],
        [
         "867",
         "ASS000868",
         "Rhavi da Rocha",
         "Masculino",
         "18",
         "Assistente de vendas",
         "Excelente",
         "9684.08",
         "C",
         "0.001352569882777277",
         "True"
        ],
        [
         "2951",
         "SUP002952",
         "Elisa Freitas",
         "Feminino",
         "18",
         "Suporte",
         "Bom",
         "4787.41",
         "D",
         "0.001442741208295762",
         "True"
        ],
        [
         "8711",
         "REP008712",
         "Diogo Farias",
         "Masculino",
         "18",
         "Repositor(a)",
         "Bom",
         "3878.95",
         "D",
         "0.0015329125338142471",
         "True"
        ],
        [
         "8778",
         "REP008779",
         "Vitória Barbosa",
         "Feminino",
         "18",
         "Repositor(a)",
         "Bom",
         "4018.77",
         "D",
         "0.0016230838593327321",
         "True"
        ],
        [
         "860",
         "ASS000861",
         "Alana Moreira",
         "Feminino",
         "18",
         "Assistente de vendas",
         "Excelente",
         "6952.28",
         "C",
         "0.0017132551848512173",
         "True"
        ],
        [
         "854",
         "ASS000855",
         "Joaquim Rocha",
         "Masculino",
         "18",
         "Assistente de vendas",
         "Regular",
         "6603.47",
         "C",
         "0.0018034265103697023",
         "True"
        ],
        [
         "10379",
         "REP010380",
         "Pietra Ribeiro",
         "Feminino",
         "18",
         "Repositor(a)",
         "Excelente",
         "2996.25",
         "D",
         "0.0018935978358881876",
         "True"
        ],
        [
         "9740",
         "REP009741",
         "João Felipe Moreira",
         "Masculino",
         "18",
         "Repositor(a)",
         "Excelente",
         "3773.48",
         "D",
         "0.0019837691614066726",
         "True"
        ],
        [
         "4256",
         "EST004257",
         "Isis Cassiano",
         "Feminino",
         "18",
         "Estoquista",
         "Bom",
         "2273.18",
         "E",
         "0.002073940486925158",
         "True"
        ],
        [
         "9726",
         "REP009727",
         "Sarah Pires",
         "Feminino",
         "18",
         "Repositor(a)",
         "Insuficiente",
         "2650.09",
         "E",
         "0.002164111812443643",
         "True"
        ],
        [
         "6175",
         "EST006176",
         "Arthur Jesus",
         "Masculino",
         "18",
         "Estoquista",
         "Bom",
         "2381.5",
         "E",
         "0.002254283137962128",
         "True"
        ],
        [
         "11080",
         "REP011081",
         "Eloá Almeida",
         "Feminino",
         "18",
         "Repositor(a)",
         "Regular",
         "3605.93",
         "D",
         "0.002344454463480613",
         "True"
        ],
        [
         "4823",
         "EST004824",
         "Isaque Vieira",
         "Masculino",
         "18",
         "Estoquista",
         "Bom",
         "2601.52",
         "E",
         "0.0024346257889990984",
         "True"
        ],
        [
         "7694",
         "REP007695",
         "Hadassa Oliveira",
         "Feminino",
         "18",
         "Repositor(a)",
         "Regular",
         "2969.54",
         "D",
         "0.0025247971145175834",
         "True"
        ],
        [
         "10090",
         "REP010091",
         "Gustavo Rios",
         "Masculino",
         "18",
         "Repositor(a)",
         "Regular",
         "4323.08",
         "D",
         "0.0026149684400360684",
         "True"
        ],
        [
         "10082",
         "REP010083",
         "Emanuella Pires",
         "Feminino",
         "18",
         "Repositor(a)",
         "Bom",
         "4045.63",
         "D",
         "0.002705139765554554",
         "True"
        ],
        [
         "4846",
         "EST004847",
         "Alícia Cavalcanti",
         "Feminino",
         "18",
         "Estoquista",
         "Excelente",
         "5022.34",
         "D",
         "0.002795311091073039",
         "True"
        ],
        [
         "11041",
         "REP011042",
         "Maria Helena Albuquerque",
         "Feminino",
         "18",
         "Repositor(a)",
         "Regular",
         "2831.43",
         "D",
         "0.002885482416591524",
         "True"
        ],
        [
         "7691",
         "REP007692",
         "Esther Andrade",
         "Feminino",
         "18",
         "Repositor(a)",
         "Insuficiente",
         "3494.35",
         "D",
         "0.002975653742110009",
         "True"
        ],
        [
         "5185",
         "EST005186",
         "Luísa Caldeira",
         "Feminino",
         "18",
         "Estoquista",
         "Excelente",
         "5102.12",
         "D",
         "0.0030658250676284943",
         "True"
        ],
        [
         "2862",
         "SUP002863",
         "Letícia Viana",
         "Feminino",
         "18",
         "Suporte",
         "Insuficiente",
         "5473.86",
         "D",
         "0.0031559963931469793",
         "True"
        ],
        [
         "2992",
         "EST002993",
         "Evelyn Vasconcelos",
         "Feminino",
         "18",
         "Estoquista",
         "Insuficiente",
         "2956.15",
         "D",
         "0.0032461677186654643",
         "True"
        ],
        [
         "6927",
         "EST006928",
         "Eduarda Gomes",
         "Feminino",
         "18",
         "Estoquista",
         "Regular",
         "2683.93",
         "E",
         "0.0033363390441839497",
         "True"
        ],
        [
         "2897",
         "SUP002898",
         "Erick Lopes",
         "Masculino",
         "18",
         "Suporte",
         "Bom",
         "5288.14",
         "D",
         "0.0034265103697024347",
         "True"
        ],
        [
         "6921",
         "EST006922",
         "Otto Oliveira",
         "Masculino",
         "18",
         "Estoquista",
         "Regular",
         "5043.19",
         "D",
         "0.0035166816952209197",
         "True"
        ],
        [
         "8691",
         "REP008692",
         "Ana Julia da Rocha",
         "Feminino",
         "18",
         "Repositor(a)",
         "Insuficiente",
         "2976.45",
         "D",
         "0.0036068530207394047",
         "True"
        ],
        [
         "3016",
         "EST003017",
         "Maria Abreu",
         "Feminino",
         "18",
         "Estoquista",
         "Excelente",
         "2439.02",
         "E",
         "0.00369702434625789",
         "True"
        ],
        [
         "10363",
         "REP010364",
         "Sabrina Dias",
         "Feminino",
         "18",
         "Repositor(a)",
         "Bom",
         "3530.16",
         "D",
         "0.003787195671776375",
         "True"
        ],
        [
         "6001",
         "EST006002",
         "Lucca Ribeiro",
         "Masculino",
         "18",
         "Estoquista",
         "Bom",
         "4817.39",
         "D",
         "0.00387736699729486",
         "True"
        ],
        [
         "11002",
         "REP011003",
         "Emanuella Mendonça",
         "Feminino",
         "18",
         "Repositor(a)",
         "Bom",
         "3400.84",
         "D",
         "0.003967538322813345",
         "True"
        ],
        [
         "10360",
         "REP010361",
         "Luana Camargo",
         "Feminino",
         "18",
         "Repositor(a)",
         "Bom",
         "2814.09",
         "E",
         "0.0040577096483318306",
         "True"
        ],
        [
         "6902",
         "EST006903",
         "Gabriel Ferreira",
         "Masculino",
         "18",
         "Estoquista",
         "Bom",
         "3351.81",
         "D",
         "0.004147880973850316",
         "True"
        ],
        [
         "7617",
         "REP007618",
         "Isadora Santos",
         "Feminino",
         "18",
         "Repositor(a)",
         "Excelente",
         "4060.8",
         "D",
         "0.0042380522993688005",
         "True"
        ],
        [
         "2908",
         "SUP002909",
         "Yuri Gonçalves",
         "Masculino",
         "18",
         "Suporte",
         "Regular",
         "7308.28",
         "C",
         "0.004328223624887286",
         "True"
        ],
        [
         "8848",
         "REP008849",
         "Rael Cassiano",
         "Masculino",
         "18",
         "Repositor(a)",
         "Bom",
         "4040.9",
         "D",
         "0.0044183949504057705",
         "True"
        ],
        [
         "2854",
         "SUP002855",
         "Lucas Gabriel da Costa",
         "Masculino",
         "18",
         "Suporte",
         "Bom",
         "6918.57",
         "C",
         "0.004508566275924256",
         "True"
        ]
       ],
       "shape": {
        "columns": 10,
        "rows": 11090
       }
      },
      "text/html": [
       "<div>\n",
       "<style scoped>\n",
       "    .dataframe tbody tr th:only-of-type {\n",
       "        vertical-align: middle;\n",
       "    }\n",
       "\n",
       "    .dataframe tbody tr th {\n",
       "        vertical-align: top;\n",
       "    }\n",
       "\n",
       "    .dataframe thead th {\n",
       "        text-align: right;\n",
       "    }\n",
       "</style>\n",
       "<table border=\"1\" class=\"dataframe\">\n",
       "  <thead>\n",
       "    <tr style=\"text-align: right;\">\n",
       "      <th></th>\n",
       "      <th>id_colaborador</th>\n",
       "      <th>nome</th>\n",
       "      <th>sexo_biologico</th>\n",
       "      <th>idade</th>\n",
       "      <th>cargo</th>\n",
       "      <th>nota_desempenho</th>\n",
       "      <th>remuneracao</th>\n",
       "      <th>faixa_salarial</th>\n",
       "      <th>cumulativo</th>\n",
       "      <th>qualificado</th>\n",
       "    </tr>\n",
       "  </thead>\n",
       "  <tbody>\n",
       "    <tr>\n",
       "      <th>8730</th>\n",
       "      <td>REP008731</td>\n",
       "      <td>Danilo Gonçalves</td>\n",
       "      <td>Masculino</td>\n",
       "      <td>18</td>\n",
       "      <td>Repositor(a)</td>\n",
       "      <td>Excelente</td>\n",
       "      <td>4104.73</td>\n",
       "      <td>D</td>\n",
       "      <td>0.000090</td>\n",
       "      <td>True</td>\n",
       "    </tr>\n",
       "    <tr>\n",
       "      <th>8710</th>\n",
       "      <td>REP008711</td>\n",
       "      <td>Ana Lívia Casa Grande</td>\n",
       "      <td>Feminino</td>\n",
       "      <td>18</td>\n",
       "      <td>Repositor(a)</td>\n",
       "      <td>Insuficiente</td>\n",
       "      <td>2892.72</td>\n",
       "      <td>D</td>\n",
       "      <td>0.000180</td>\n",
       "      <td>True</td>\n",
       "    </tr>\n",
       "    <tr>\n",
       "      <th>4239</th>\n",
       "      <td>EST004240</td>\n",
       "      <td>Lorenzo Lopes</td>\n",
       "      <td>Masculino</td>\n",
       "      <td>18</td>\n",
       "      <td>Estoquista</td>\n",
       "      <td>Regular</td>\n",
       "      <td>4742.12</td>\n",
       "      <td>D</td>\n",
       "      <td>0.000271</td>\n",
       "      <td>True</td>\n",
       "    </tr>\n",
       "    <tr>\n",
       "      <th>3003</th>\n",
       "      <td>EST003004</td>\n",
       "      <td>Ana Julia Ferreira</td>\n",
       "      <td>Feminino</td>\n",
       "      <td>18</td>\n",
       "      <td>Estoquista</td>\n",
       "      <td>Bom</td>\n",
       "      <td>4516.05</td>\n",
       "      <td>D</td>\n",
       "      <td>0.000361</td>\n",
       "      <td>True</td>\n",
       "    </tr>\n",
       "    <tr>\n",
       "      <th>3001</th>\n",
       "      <td>EST003002</td>\n",
       "      <td>Alana Vargas</td>\n",
       "      <td>Feminino</td>\n",
       "      <td>18</td>\n",
       "      <td>Estoquista</td>\n",
       "      <td>Excelente</td>\n",
       "      <td>3977.60</td>\n",
       "      <td>D</td>\n",
       "      <td>0.000451</td>\n",
       "      <td>True</td>\n",
       "    </tr>\n",
       "    <tr>\n",
       "      <th>...</th>\n",
       "      <td>...</td>\n",
       "      <td>...</td>\n",
       "      <td>...</td>\n",
       "      <td>...</td>\n",
       "      <td>...</td>\n",
       "      <td>...</td>\n",
       "      <td>...</td>\n",
       "      <td>...</td>\n",
       "      <td>...</td>\n",
       "      <td>...</td>\n",
       "    </tr>\n",
       "    <tr>\n",
       "      <th>8881</th>\n",
       "      <td>REP008882</td>\n",
       "      <td>Davi Lucca Aragão</td>\n",
       "      <td>Masculino</td>\n",
       "      <td>65</td>\n",
       "      <td>Repositor(a)</td>\n",
       "      <td>Insuficiente</td>\n",
       "      <td>3613.99</td>\n",
       "      <td>D</td>\n",
       "      <td>0.999639</td>\n",
       "      <td>False</td>\n",
       "    </tr>\n",
       "    <tr>\n",
       "      <th>4460</th>\n",
       "      <td>EST004461</td>\n",
       "      <td>Felipe Almeida</td>\n",
       "      <td>Masculino</td>\n",
       "      <td>65</td>\n",
       "      <td>Estoquista</td>\n",
       "      <td>Excelente</td>\n",
       "      <td>4905.33</td>\n",
       "      <td>D</td>\n",
       "      <td>0.999729</td>\n",
       "      <td>False</td>\n",
       "    </tr>\n",
       "    <tr>\n",
       "      <th>10492</th>\n",
       "      <td>REP010493</td>\n",
       "      <td>Theo Rezende</td>\n",
       "      <td>Masculino</td>\n",
       "      <td>65</td>\n",
       "      <td>Repositor(a)</td>\n",
       "      <td>Bom</td>\n",
       "      <td>4514.12</td>\n",
       "      <td>D</td>\n",
       "      <td>0.999820</td>\n",
       "      <td>False</td>\n",
       "    </tr>\n",
       "    <tr>\n",
       "      <th>3962</th>\n",
       "      <td>EST003963</td>\n",
       "      <td>Luiz Miguel Gonçalves</td>\n",
       "      <td>Masculino</td>\n",
       "      <td>65</td>\n",
       "      <td>Estoquista</td>\n",
       "      <td>Regular</td>\n",
       "      <td>2663.92</td>\n",
       "      <td>E</td>\n",
       "      <td>0.999910</td>\n",
       "      <td>False</td>\n",
       "    </tr>\n",
       "    <tr>\n",
       "      <th>6166</th>\n",
       "      <td>EST006167</td>\n",
       "      <td>Yuri Almeida</td>\n",
       "      <td>Masculino</td>\n",
       "      <td>65</td>\n",
       "      <td>Estoquista</td>\n",
       "      <td>Excelente</td>\n",
       "      <td>4744.60</td>\n",
       "      <td>D</td>\n",
       "      <td>1.000000</td>\n",
       "      <td>False</td>\n",
       "    </tr>\n",
       "  </tbody>\n",
       "</table>\n",
       "<p>11090 rows × 10 columns</p>\n",
       "</div>"
      ],
      "text/plain": [
       "      id_colaborador                   nome sexo_biologico  idade  \\\n",
       "8730       REP008731       Danilo Gonçalves      Masculino     18   \n",
       "8710       REP008711  Ana Lívia Casa Grande       Feminino     18   \n",
       "4239       EST004240          Lorenzo Lopes      Masculino     18   \n",
       "3003       EST003004     Ana Julia Ferreira       Feminino     18   \n",
       "3001       EST003002           Alana Vargas       Feminino     18   \n",
       "...              ...                    ...            ...    ...   \n",
       "8881       REP008882      Davi Lucca Aragão      Masculino     65   \n",
       "4460       EST004461         Felipe Almeida      Masculino     65   \n",
       "10492      REP010493           Theo Rezende      Masculino     65   \n",
       "3962       EST003963  Luiz Miguel Gonçalves      Masculino     65   \n",
       "6166       EST006167           Yuri Almeida      Masculino     65   \n",
       "\n",
       "              cargo nota_desempenho  remuneracao faixa_salarial  cumulativo  \\\n",
       "8730   Repositor(a)       Excelente      4104.73              D    0.000090   \n",
       "8710   Repositor(a)    Insuficiente      2892.72              D    0.000180   \n",
       "4239     Estoquista         Regular      4742.12              D    0.000271   \n",
       "3003     Estoquista             Bom      4516.05              D    0.000361   \n",
       "3001     Estoquista       Excelente      3977.60              D    0.000451   \n",
       "...             ...             ...          ...            ...         ...   \n",
       "8881   Repositor(a)    Insuficiente      3613.99              D    0.999639   \n",
       "4460     Estoquista       Excelente      4905.33              D    0.999729   \n",
       "10492  Repositor(a)             Bom      4514.12              D    0.999820   \n",
       "3962     Estoquista         Regular      2663.92              E    0.999910   \n",
       "6166     Estoquista       Excelente      4744.60              D    1.000000   \n",
       "\n",
       "       qualificado  \n",
       "8730          True  \n",
       "8710          True  \n",
       "4239          True  \n",
       "3003          True  \n",
       "3001          True  \n",
       "...            ...  \n",
       "8881         False  \n",
       "4460         False  \n",
       "10492        False  \n",
       "3962         False  \n",
       "6166         False  \n",
       "\n",
       "[11090 rows x 10 columns]"
      ]
     },
     "execution_count": 87,
     "metadata": {},
     "output_type": "execute_result"
    }
   ],
   "source": [
    "# 1. Ordenar os dados pela coluna 'idade'\n",
    "idades_classificacao = idades_classificacao.sort_values(by='idade')\n",
    "\n",
    "# 2. Adicionar a coluna 'cumulativo' (posição relativa de cada linha)\n",
    "idades_classificacao['cumulativo'] = (idades_classificacao.reset_index().index + 1) / len(idades_classificacao)\n",
    "\n",
    "# 3. Adicionar a coluna 'qualificado' com base no valor de 'cumulativo'\n",
    "idades_classificacao['qualificado'] = idades_classificacao['cumulativo'] <= 0.20\n",
    "\n",
    "idades_classificacao"
   ]
  },
  {
   "cell_type": "code",
   "execution_count": 88,
   "metadata": {
    "id": "EgKoTOQfktnO"
   },
   "outputs": [
    {
     "data": {
      "application/vnd.microsoft.datawrangler.viewer.v0+json": {
       "columns": [
        {
         "name": "index",
         "rawType": "int64",
         "type": "integer"
        },
        {
         "name": "id_colaborador",
         "rawType": "object",
         "type": "string"
        },
        {
         "name": "nome",
         "rawType": "object",
         "type": "string"
        },
        {
         "name": "sexo_biologico",
         "rawType": "object",
         "type": "string"
        },
        {
         "name": "idade",
         "rawType": "int64",
         "type": "integer"
        },
        {
         "name": "cargo",
         "rawType": "object",
         "type": "string"
        },
        {
         "name": "nota_desempenho",
         "rawType": "object",
         "type": "string"
        },
        {
         "name": "remuneracao",
         "rawType": "float64",
         "type": "float"
        },
        {
         "name": "faixa_salarial",
         "rawType": "category",
         "type": "unknown"
        },
        {
         "name": "cumulativo",
         "rawType": "float64",
         "type": "float"
        },
        {
         "name": "qualificado",
         "rawType": "bool",
         "type": "boolean"
        }
       ],
       "ref": "12867f9f-5886-491a-a259-f7fdfb9cd217",
       "rows": [
        [
         "8730",
         "REP008731",
         "Danilo Gonçalves",
         "Masculino",
         "18",
         "Repositor(a)",
         "Excelente",
         "4104.73",
         "D",
         "9.017132551848512e-05",
         "True"
        ],
        [
         "8710",
         "REP008711",
         "Ana Lívia Casa Grande",
         "Feminino",
         "18",
         "Repositor(a)",
         "Insuficiente",
         "2892.72",
         "D",
         "0.00018034265103697024",
         "True"
        ],
        [
         "4239",
         "EST004240",
         "Lorenzo Lopes",
         "Masculino",
         "18",
         "Estoquista",
         "Regular",
         "4742.12",
         "D",
         "0.0002705139765554554",
         "True"
        ],
        [
         "3003",
         "EST003004",
         "Ana Julia Ferreira",
         "Feminino",
         "18",
         "Estoquista",
         "Bom",
         "4516.05",
         "D",
         "0.0003606853020739405",
         "True"
        ],
        [
         "3001",
         "EST003002",
         "Alana Vargas",
         "Feminino",
         "18",
         "Estoquista",
         "Excelente",
         "3977.6",
         "D",
         "0.0004508566275924256",
         "True"
        ],
        [
         "6022",
         "EST006023",
         "Maria Laura Fonseca",
         "Feminino",
         "18",
         "Estoquista",
         "Regular",
         "2832.6",
         "D",
         "0.0005410279531109107",
         "True"
        ],
        [
         "6016",
         "EST006017",
         "Henry Gabriel Freitas",
         "Masculino",
         "18",
         "Estoquista",
         "Excelente",
         "4376.48",
         "D",
         "0.0006311992786293959",
         "True"
        ],
        [
         "6238",
         "EST006239",
         "Ana Julia Campos",
         "Feminino",
         "18",
         "Estoquista",
         "Excelente",
         "5017.54",
         "D",
         "0.000721370604147881",
         "True"
        ],
        [
         "6236",
         "EST006237",
         "Isabella Montenegro",
         "Feminino",
         "18",
         "Estoquista",
         "Excelente",
         "3634.73",
         "D",
         "0.0008115419296663661",
         "True"
        ],
        [
         "4247",
         "EST004248",
         "Emanuel das Neves",
         "Masculino",
         "18",
         "Estoquista",
         "Bom",
         "5252.37",
         "D",
         "0.0009017132551848512",
         "True"
        ],
        [
         "5210",
         "EST005211",
         "Lavínia Andrade",
         "Feminino",
         "18",
         "Estoquista",
         "Excelente",
         "3012.24",
         "D",
         "0.0009918845807033363",
         "True"
        ],
        [
         "10992",
         "REP010993",
         "Juliana Abreu",
         "Feminino",
         "18",
         "Repositor(a)",
         "Excelente",
         "4077.98",
         "D",
         "0.0010820559062218215",
         "True"
        ],
        [
         "2928",
         "SUP002929",
         "Fernanda Fonseca",
         "Feminino",
         "18",
         "Suporte",
         "Insuficiente",
         "5950.89",
         "C",
         "0.0011722272317403065",
         "True"
        ],
        [
         "2926",
         "SUP002927",
         "Laura Almeida",
         "Feminino",
         "18",
         "Suporte",
         "Excelente",
         "5807.98",
         "C",
         "0.0012623985572587917",
         "True"
        ],
        [
         "867",
         "ASS000868",
         "Rhavi da Rocha",
         "Masculino",
         "18",
         "Assistente de vendas",
         "Excelente",
         "9684.08",
         "C",
         "0.001352569882777277",
         "True"
        ],
        [
         "2951",
         "SUP002952",
         "Elisa Freitas",
         "Feminino",
         "18",
         "Suporte",
         "Bom",
         "4787.41",
         "D",
         "0.001442741208295762",
         "True"
        ],
        [
         "8711",
         "REP008712",
         "Diogo Farias",
         "Masculino",
         "18",
         "Repositor(a)",
         "Bom",
         "3878.95",
         "D",
         "0.0015329125338142471",
         "True"
        ],
        [
         "8778",
         "REP008779",
         "Vitória Barbosa",
         "Feminino",
         "18",
         "Repositor(a)",
         "Bom",
         "4018.77",
         "D",
         "0.0016230838593327321",
         "True"
        ],
        [
         "860",
         "ASS000861",
         "Alana Moreira",
         "Feminino",
         "18",
         "Assistente de vendas",
         "Excelente",
         "6952.28",
         "C",
         "0.0017132551848512173",
         "True"
        ],
        [
         "854",
         "ASS000855",
         "Joaquim Rocha",
         "Masculino",
         "18",
         "Assistente de vendas",
         "Regular",
         "6603.47",
         "C",
         "0.0018034265103697023",
         "True"
        ],
        [
         "10379",
         "REP010380",
         "Pietra Ribeiro",
         "Feminino",
         "18",
         "Repositor(a)",
         "Excelente",
         "2996.25",
         "D",
         "0.0018935978358881876",
         "True"
        ],
        [
         "9740",
         "REP009741",
         "João Felipe Moreira",
         "Masculino",
         "18",
         "Repositor(a)",
         "Excelente",
         "3773.48",
         "D",
         "0.0019837691614066726",
         "True"
        ],
        [
         "4256",
         "EST004257",
         "Isis Cassiano",
         "Feminino",
         "18",
         "Estoquista",
         "Bom",
         "2273.18",
         "E",
         "0.002073940486925158",
         "True"
        ],
        [
         "9726",
         "REP009727",
         "Sarah Pires",
         "Feminino",
         "18",
         "Repositor(a)",
         "Insuficiente",
         "2650.09",
         "E",
         "0.002164111812443643",
         "True"
        ],
        [
         "6175",
         "EST006176",
         "Arthur Jesus",
         "Masculino",
         "18",
         "Estoquista",
         "Bom",
         "2381.5",
         "E",
         "0.002254283137962128",
         "True"
        ],
        [
         "11080",
         "REP011081",
         "Eloá Almeida",
         "Feminino",
         "18",
         "Repositor(a)",
         "Regular",
         "3605.93",
         "D",
         "0.002344454463480613",
         "True"
        ],
        [
         "4823",
         "EST004824",
         "Isaque Vieira",
         "Masculino",
         "18",
         "Estoquista",
         "Bom",
         "2601.52",
         "E",
         "0.0024346257889990984",
         "True"
        ],
        [
         "7694",
         "REP007695",
         "Hadassa Oliveira",
         "Feminino",
         "18",
         "Repositor(a)",
         "Regular",
         "2969.54",
         "D",
         "0.0025247971145175834",
         "True"
        ],
        [
         "10090",
         "REP010091",
         "Gustavo Rios",
         "Masculino",
         "18",
         "Repositor(a)",
         "Regular",
         "4323.08",
         "D",
         "0.0026149684400360684",
         "True"
        ],
        [
         "10082",
         "REP010083",
         "Emanuella Pires",
         "Feminino",
         "18",
         "Repositor(a)",
         "Bom",
         "4045.63",
         "D",
         "0.002705139765554554",
         "True"
        ],
        [
         "4846",
         "EST004847",
         "Alícia Cavalcanti",
         "Feminino",
         "18",
         "Estoquista",
         "Excelente",
         "5022.34",
         "D",
         "0.002795311091073039",
         "True"
        ],
        [
         "11041",
         "REP011042",
         "Maria Helena Albuquerque",
         "Feminino",
         "18",
         "Repositor(a)",
         "Regular",
         "2831.43",
         "D",
         "0.002885482416591524",
         "True"
        ],
        [
         "7691",
         "REP007692",
         "Esther Andrade",
         "Feminino",
         "18",
         "Repositor(a)",
         "Insuficiente",
         "3494.35",
         "D",
         "0.002975653742110009",
         "True"
        ],
        [
         "5185",
         "EST005186",
         "Luísa Caldeira",
         "Feminino",
         "18",
         "Estoquista",
         "Excelente",
         "5102.12",
         "D",
         "0.0030658250676284943",
         "True"
        ],
        [
         "2862",
         "SUP002863",
         "Letícia Viana",
         "Feminino",
         "18",
         "Suporte",
         "Insuficiente",
         "5473.86",
         "D",
         "0.0031559963931469793",
         "True"
        ],
        [
         "2992",
         "EST002993",
         "Evelyn Vasconcelos",
         "Feminino",
         "18",
         "Estoquista",
         "Insuficiente",
         "2956.15",
         "D",
         "0.0032461677186654643",
         "True"
        ],
        [
         "6927",
         "EST006928",
         "Eduarda Gomes",
         "Feminino",
         "18",
         "Estoquista",
         "Regular",
         "2683.93",
         "E",
         "0.0033363390441839497",
         "True"
        ],
        [
         "2897",
         "SUP002898",
         "Erick Lopes",
         "Masculino",
         "18",
         "Suporte",
         "Bom",
         "5288.14",
         "D",
         "0.0034265103697024347",
         "True"
        ],
        [
         "6921",
         "EST006922",
         "Otto Oliveira",
         "Masculino",
         "18",
         "Estoquista",
         "Regular",
         "5043.19",
         "D",
         "0.0035166816952209197",
         "True"
        ],
        [
         "8691",
         "REP008692",
         "Ana Julia da Rocha",
         "Feminino",
         "18",
         "Repositor(a)",
         "Insuficiente",
         "2976.45",
         "D",
         "0.0036068530207394047",
         "True"
        ],
        [
         "3016",
         "EST003017",
         "Maria Abreu",
         "Feminino",
         "18",
         "Estoquista",
         "Excelente",
         "2439.02",
         "E",
         "0.00369702434625789",
         "True"
        ],
        [
         "10363",
         "REP010364",
         "Sabrina Dias",
         "Feminino",
         "18",
         "Repositor(a)",
         "Bom",
         "3530.16",
         "D",
         "0.003787195671776375",
         "True"
        ],
        [
         "6001",
         "EST006002",
         "Lucca Ribeiro",
         "Masculino",
         "18",
         "Estoquista",
         "Bom",
         "4817.39",
         "D",
         "0.00387736699729486",
         "True"
        ],
        [
         "11002",
         "REP011003",
         "Emanuella Mendonça",
         "Feminino",
         "18",
         "Repositor(a)",
         "Bom",
         "3400.84",
         "D",
         "0.003967538322813345",
         "True"
        ],
        [
         "10360",
         "REP010361",
         "Luana Camargo",
         "Feminino",
         "18",
         "Repositor(a)",
         "Bom",
         "2814.09",
         "E",
         "0.0040577096483318306",
         "True"
        ],
        [
         "6902",
         "EST006903",
         "Gabriel Ferreira",
         "Masculino",
         "18",
         "Estoquista",
         "Bom",
         "3351.81",
         "D",
         "0.004147880973850316",
         "True"
        ],
        [
         "7617",
         "REP007618",
         "Isadora Santos",
         "Feminino",
         "18",
         "Repositor(a)",
         "Excelente",
         "4060.8",
         "D",
         "0.0042380522993688005",
         "True"
        ],
        [
         "2908",
         "SUP002909",
         "Yuri Gonçalves",
         "Masculino",
         "18",
         "Suporte",
         "Regular",
         "7308.28",
         "C",
         "0.004328223624887286",
         "True"
        ],
        [
         "8848",
         "REP008849",
         "Rael Cassiano",
         "Masculino",
         "18",
         "Repositor(a)",
         "Bom",
         "4040.9",
         "D",
         "0.0044183949504057705",
         "True"
        ],
        [
         "2854",
         "SUP002855",
         "Lucas Gabriel da Costa",
         "Masculino",
         "18",
         "Suporte",
         "Bom",
         "6918.57",
         "C",
         "0.004508566275924256",
         "True"
        ]
       ],
       "shape": {
        "columns": 10,
        "rows": 2218
       }
      },
      "text/html": [
       "<div>\n",
       "<style scoped>\n",
       "    .dataframe tbody tr th:only-of-type {\n",
       "        vertical-align: middle;\n",
       "    }\n",
       "\n",
       "    .dataframe tbody tr th {\n",
       "        vertical-align: top;\n",
       "    }\n",
       "\n",
       "    .dataframe thead th {\n",
       "        text-align: right;\n",
       "    }\n",
       "</style>\n",
       "<table border=\"1\" class=\"dataframe\">\n",
       "  <thead>\n",
       "    <tr style=\"text-align: right;\">\n",
       "      <th></th>\n",
       "      <th>id_colaborador</th>\n",
       "      <th>nome</th>\n",
       "      <th>sexo_biologico</th>\n",
       "      <th>idade</th>\n",
       "      <th>cargo</th>\n",
       "      <th>nota_desempenho</th>\n",
       "      <th>remuneracao</th>\n",
       "      <th>faixa_salarial</th>\n",
       "      <th>cumulativo</th>\n",
       "      <th>qualificado</th>\n",
       "    </tr>\n",
       "  </thead>\n",
       "  <tbody>\n",
       "    <tr>\n",
       "      <th>8730</th>\n",
       "      <td>REP008731</td>\n",
       "      <td>Danilo Gonçalves</td>\n",
       "      <td>Masculino</td>\n",
       "      <td>18</td>\n",
       "      <td>Repositor(a)</td>\n",
       "      <td>Excelente</td>\n",
       "      <td>4104.73</td>\n",
       "      <td>D</td>\n",
       "      <td>0.000090</td>\n",
       "      <td>True</td>\n",
       "    </tr>\n",
       "    <tr>\n",
       "      <th>8710</th>\n",
       "      <td>REP008711</td>\n",
       "      <td>Ana Lívia Casa Grande</td>\n",
       "      <td>Feminino</td>\n",
       "      <td>18</td>\n",
       "      <td>Repositor(a)</td>\n",
       "      <td>Insuficiente</td>\n",
       "      <td>2892.72</td>\n",
       "      <td>D</td>\n",
       "      <td>0.000180</td>\n",
       "      <td>True</td>\n",
       "    </tr>\n",
       "    <tr>\n",
       "      <th>4239</th>\n",
       "      <td>EST004240</td>\n",
       "      <td>Lorenzo Lopes</td>\n",
       "      <td>Masculino</td>\n",
       "      <td>18</td>\n",
       "      <td>Estoquista</td>\n",
       "      <td>Regular</td>\n",
       "      <td>4742.12</td>\n",
       "      <td>D</td>\n",
       "      <td>0.000271</td>\n",
       "      <td>True</td>\n",
       "    </tr>\n",
       "    <tr>\n",
       "      <th>3003</th>\n",
       "      <td>EST003004</td>\n",
       "      <td>Ana Julia Ferreira</td>\n",
       "      <td>Feminino</td>\n",
       "      <td>18</td>\n",
       "      <td>Estoquista</td>\n",
       "      <td>Bom</td>\n",
       "      <td>4516.05</td>\n",
       "      <td>D</td>\n",
       "      <td>0.000361</td>\n",
       "      <td>True</td>\n",
       "    </tr>\n",
       "    <tr>\n",
       "      <th>3001</th>\n",
       "      <td>EST003002</td>\n",
       "      <td>Alana Vargas</td>\n",
       "      <td>Feminino</td>\n",
       "      <td>18</td>\n",
       "      <td>Estoquista</td>\n",
       "      <td>Excelente</td>\n",
       "      <td>3977.60</td>\n",
       "      <td>D</td>\n",
       "      <td>0.000451</td>\n",
       "      <td>True</td>\n",
       "    </tr>\n",
       "    <tr>\n",
       "      <th>...</th>\n",
       "      <td>...</td>\n",
       "      <td>...</td>\n",
       "      <td>...</td>\n",
       "      <td>...</td>\n",
       "      <td>...</td>\n",
       "      <td>...</td>\n",
       "      <td>...</td>\n",
       "      <td>...</td>\n",
       "      <td>...</td>\n",
       "      <td>...</td>\n",
       "    </tr>\n",
       "    <tr>\n",
       "      <th>6983</th>\n",
       "      <td>EST006984</td>\n",
       "      <td>Maysa Vasconcelos</td>\n",
       "      <td>Feminino</td>\n",
       "      <td>25</td>\n",
       "      <td>Estoquista</td>\n",
       "      <td>Bom</td>\n",
       "      <td>2725.33</td>\n",
       "      <td>E</td>\n",
       "      <td>0.199639</td>\n",
       "      <td>True</td>\n",
       "    </tr>\n",
       "    <tr>\n",
       "      <th>9787</th>\n",
       "      <td>REP009788</td>\n",
       "      <td>Augusto Jesus</td>\n",
       "      <td>Masculino</td>\n",
       "      <td>25</td>\n",
       "      <td>Repositor(a)</td>\n",
       "      <td>Bom</td>\n",
       "      <td>3863.30</td>\n",
       "      <td>D</td>\n",
       "      <td>0.199729</td>\n",
       "      <td>True</td>\n",
       "    </tr>\n",
       "    <tr>\n",
       "      <th>1640</th>\n",
       "      <td>SUP001641</td>\n",
       "      <td>Leonardo Silveira</td>\n",
       "      <td>Masculino</td>\n",
       "      <td>25</td>\n",
       "      <td>Suporte</td>\n",
       "      <td>Excelente</td>\n",
       "      <td>6052.56</td>\n",
       "      <td>C</td>\n",
       "      <td>0.199820</td>\n",
       "      <td>True</td>\n",
       "    </tr>\n",
       "    <tr>\n",
       "      <th>4253</th>\n",
       "      <td>EST004254</td>\n",
       "      <td>João Vitor Cassiano</td>\n",
       "      <td>Masculino</td>\n",
       "      <td>25</td>\n",
       "      <td>Estoquista</td>\n",
       "      <td>Excelente</td>\n",
       "      <td>3677.53</td>\n",
       "      <td>D</td>\n",
       "      <td>0.199910</td>\n",
       "      <td>True</td>\n",
       "    </tr>\n",
       "    <tr>\n",
       "      <th>4249</th>\n",
       "      <td>EST004250</td>\n",
       "      <td>Mariana Alves</td>\n",
       "      <td>Feminino</td>\n",
       "      <td>25</td>\n",
       "      <td>Estoquista</td>\n",
       "      <td>Regular</td>\n",
       "      <td>3201.68</td>\n",
       "      <td>D</td>\n",
       "      <td>0.200000</td>\n",
       "      <td>True</td>\n",
       "    </tr>\n",
       "  </tbody>\n",
       "</table>\n",
       "<p>2218 rows × 10 columns</p>\n",
       "</div>"
      ],
      "text/plain": [
       "     id_colaborador                   nome sexo_biologico  idade  \\\n",
       "8730      REP008731       Danilo Gonçalves      Masculino     18   \n",
       "8710      REP008711  Ana Lívia Casa Grande       Feminino     18   \n",
       "4239      EST004240          Lorenzo Lopes      Masculino     18   \n",
       "3003      EST003004     Ana Julia Ferreira       Feminino     18   \n",
       "3001      EST003002           Alana Vargas       Feminino     18   \n",
       "...             ...                    ...            ...    ...   \n",
       "6983      EST006984      Maysa Vasconcelos       Feminino     25   \n",
       "9787      REP009788          Augusto Jesus      Masculino     25   \n",
       "1640      SUP001641      Leonardo Silveira      Masculino     25   \n",
       "4253      EST004254    João Vitor Cassiano      Masculino     25   \n",
       "4249      EST004250          Mariana Alves       Feminino     25   \n",
       "\n",
       "             cargo nota_desempenho  remuneracao faixa_salarial  cumulativo  \\\n",
       "8730  Repositor(a)       Excelente      4104.73              D    0.000090   \n",
       "8710  Repositor(a)    Insuficiente      2892.72              D    0.000180   \n",
       "4239    Estoquista         Regular      4742.12              D    0.000271   \n",
       "3003    Estoquista             Bom      4516.05              D    0.000361   \n",
       "3001    Estoquista       Excelente      3977.60              D    0.000451   \n",
       "...            ...             ...          ...            ...         ...   \n",
       "6983    Estoquista             Bom      2725.33              E    0.199639   \n",
       "9787  Repositor(a)             Bom      3863.30              D    0.199729   \n",
       "1640       Suporte       Excelente      6052.56              C    0.199820   \n",
       "4253    Estoquista       Excelente      3677.53              D    0.199910   \n",
       "4249    Estoquista         Regular      3201.68              D    0.200000   \n",
       "\n",
       "      qualificado  \n",
       "8730         True  \n",
       "8710         True  \n",
       "4239         True  \n",
       "3003         True  \n",
       "3001         True  \n",
       "...           ...  \n",
       "6983         True  \n",
       "9787         True  \n",
       "1640         True  \n",
       "4253         True  \n",
       "4249         True  \n",
       "\n",
       "[2218 rows x 10 columns]"
      ]
     },
     "execution_count": 88,
     "metadata": {},
     "output_type": "execute_result"
    }
   ],
   "source": [
    "idades_qualificados = idades_classificacao[idades_classificacao['qualificado'] == True]\n",
    "idades_qualificados"
   ]
  },
  {
   "cell_type": "code",
   "execution_count": 89,
   "metadata": {},
   "outputs": [
    {
     "data": {
      "text/plain": [
       "2218"
      ]
     },
     "execution_count": 89,
     "metadata": {},
     "output_type": "execute_result"
    }
   ],
   "source": [
    "len(idades_qualificados)"
   ]
  },
  {
   "cell_type": "markdown",
   "metadata": {
    "id": "5z0cbX1LNUZF"
   },
   "source": [
    "Com base na análise, identificamos que há **2.218 pessoas** qualificadas para o programa, representando os **20% mais jovens do total de colaboradores**. Esse grupo pode ser o alvo ideal para o programa de aceleração profissional, já que engloba aqueles que estão no início de suas carreiras.\n",
    "\n",
    "Agora, podemos reportar ao RH a lista de funcionários dentro da qualificação desejada, o que ajudará no planejamento do programa para jovens talentos, fortalecendo a cultura organizacional e promovendo o desenvolvimento profissional."
   ]
  },
  {
   "cell_type": "markdown",
   "metadata": {
    "id": "AvHVpbyxNPyf"
   },
   "source": [
    "## **4.4 Construindo um boxplot para visualização das distribuições**\n",
    "\n",
    "---\n",
    "\n"
   ]
  },
  {
   "cell_type": "markdown",
   "metadata": {
    "id": "SFjXkMJXNVZD"
   },
   "source": [
    "### <font color=\"#E23155\" face=\"Verdana\">Demanda 11: Análise de remuneração dos colaboradores pelo sexo</font>"
   ]
  },
  {
   "cell_type": "markdown",
   "metadata": {
    "id": "Y92NzX12RY3H"
   },
   "source": [
    "A equipe de RH e financeiro da empresa requisitou uma nova análise das distribuições salariais. Ela tem interesse em investigar as diferenças salariais entre os sexos biológicos masculino e feminino, buscando informações para reforçar a importância de garantir a equidade salarial.\n",
    "\n",
    "Os dados salariais não são fáceis de interpretar em tabelas ou gráficos convencionais. É necessário um visual que permita identificar algumas medidas de tendência central , faixas de salário e até possíveis outliers, além de comparar visualmente as distribuições entre diferentes grupos.\n",
    "\n",
    "Com isso, o RH também pode direcionar ações voltadas à igualdade salarial."
   ]
  },
  {
   "cell_type": "markdown",
   "metadata": {
    "id": "OOaRrsWiRax-"
   },
   "source": [
    "### **Boxplot**\n",
    "\n",
    "![texto do link](https://github.com/afonsosr2/estatistica-r-frequencias-medidas/blob/main/imagens/outros/boxplot.png?raw=true)\n",
    "\n",
    "O **boxplot** é uma representação visual que mostra a distribuição de dados quantitativos, facilitando comparações entre variáveis ou categorias.\n",
    "\n",
    "Os elementos principais de um boxplot são:\n",
    "\n",
    "* **Caixa:** Representa o intervalo\n",
    "interquartil (IIQ), que vai do primeiro quartil (Q1 - 25% dos dados) ao terceiro quartil (Q3 - 75% dos dados).\n",
    "\n",
    "* **Linha mediana:** Onde está posicionado a mediana (Q2), valor que separa 50% dos dados.\n",
    "\n",
    "* **Whiskers (\"bigodes\"):** Extensões que mostram a variabilidade fora do intervalo interquartil, geralmente até 1,5 vezes o IIQ a partir dos quartis.\n",
    "\n",
    "* **Outliers:** Pontos individuais que estão fora do alcance dos *whiskers*, indicados separadamente.\n",
    "\n",
    "Essa visualização ajuda a identificar a centralidade, dispersão e possíveis outliers em um conjunto de dados.\n",
    "\n"
   ]
  },
  {
   "cell_type": "markdown",
   "metadata": {
    "id": "7G3SNz1eRc8_"
   },
   "source": [
    "### <font color=\"#E23155\" face=\"Verdana\">Solução:</font>"
   ]
  },
  {
   "cell_type": "markdown",
   "metadata": {
    "id": "l1O0RAJ4ReXV"
   },
   "source": [
    "Vamos construir e interpretar boxplots para visualizar a distribuição das variáveis. Analisaremos diferenças salariais entre os sexos e discutiremos possíveis ações para promover equidade."
   ]
  },
  {
   "cell_type": "code",
   "execution_count": 90,
   "metadata": {
    "id": "q-U_hTfckwn2"
   },
   "outputs": [
    {
     "data": {
      "image/png": "[encoded data removed]",
      "text/plain": [
       "<Figure size 800x600 with 1 Axes>"
      ]
     },
     "metadata": {},
     "output_type": "display_data"
    }
   ],
   "source": [
    "import matplotlib.pyplot as plt\n",
    "import seaborn as sns\n",
    "\n",
    "plt.figure(figsize=(8, 6))\n",
    "sns.boxplot(x=colaboradores['remuneracao'], color='steelblue')\n",
    "\n",
    "plt.title('Boxplot de Salários')\n",
    "plt.xlabel('Salário (R$)')\n",
    "\n",
    "plt.ylim(-1, 1)\n",
    "\n",
    "plt.show()"
   ]
  },
  {
   "cell_type": "markdown",
   "metadata": {
    "id": "UysvckB5RgaE"
   },
   "source": [
    "Para sabermos os valores de cada elemento do boxplot, podemos utilizar as funções quando estudamos os quartis das remunerações ou chamar a função `describe()` que resume nossos dados com as principais estatísticas descritivas."
   ]
  },
  {
   "cell_type": "code",
   "execution_count": 91,
   "metadata": {
    "id": "71XhI_Uxkxj-"
   },
   "outputs": [
    {
     "data": {
      "application/vnd.microsoft.datawrangler.viewer.v0+json": {
       "columns": [
        {
         "name": "index",
         "rawType": "object",
         "type": "string"
        },
        {
         "name": "remuneracao",
         "rawType": "float64",
         "type": "float"
        }
       ],
       "ref": "cef635d4-e6a4-4a6d-8fbf-cb0d6405a53e",
       "rows": [
        [
         "count",
         "11090.0"
        ],
        [
         "mean",
         "4531.771664562668"
        ],
        [
         "std",
         "2002.3698760134494"
        ],
        [
         "min",
         "1920.57"
        ],
        [
         "25%",
         "3345.0775"
        ],
        [
         "50%",
         "4003.3599999999997"
        ],
        [
         "75%",
         "5036.1575"
        ],
        [
         "max",
         "32084.55"
        ]
       ],
       "shape": {
        "columns": 1,
        "rows": 8
       }
      },
      "text/plain": [
       "count    11090.000000\n",
       "mean      4531.771665\n",
       "std       2002.369876\n",
       "min       1920.570000\n",
       "25%       3345.077500\n",
       "50%       4003.360000\n",
       "75%       5036.157500\n",
       "max      32084.550000\n",
       "Name: remuneracao, dtype: float64"
      ]
     },
     "execution_count": 91,
     "metadata": {},
     "output_type": "execute_result"
    }
   ],
   "source": [
    "colaboradores['remuneracao'].describe()"
   ]
  },
  {
   "cell_type": "markdown",
   "metadata": {
    "id": "8kLovmQCRi3k"
   },
   "source": [
    "Agora, vamos partir para o foco da nossa análise que é a comparação entre os sexos biológicos:"
   ]
  },
  {
   "cell_type": "code",
   "execution_count": 92,
   "metadata": {
    "id": "Wd_fUO_Dky0M"
   },
   "outputs": [
    {
     "data": {
      "image/png": "[encoded data removed]",
      "text/plain": [
       "<Figure size 800x600 with 1 Axes>"
      ]
     },
     "metadata": {},
     "output_type": "display_data"
    }
   ],
   "source": [
    "plt.figure(figsize=(8, 6))\n",
    "ax = sns.boxplot(x='remuneracao', y='sexo_biologico', data=colaboradores, hue='sexo_biologico')\n",
    "\n",
    "plt.title('Boxplot de Salários por Sexo Biológico')\n",
    "plt.xlabel('Salário (R$)')\n",
    "plt.ylabel('Sexo Biológico')\n",
    "\n",
    "plt.show()"
   ]
  },
  {
   "cell_type": "markdown",
   "metadata": {
    "id": "04NFPVJoRlBz"
   },
   "source": [
    "Aplicando a análise visual, conseguimos notar que aparentemente as pessoas do sexo masculino possuem uma distribuição salarial maior que a do sexo feminino, mas com os candidatos à outliers que temos ainda não fica tão clara essa diferença.\n",
    "\n",
    "> **Obs:** Outliers indicam indivíduos com salários significativamente maiores ou menores.\n",
    "\n",
    "Como estudamos anteriormente, mais de 95% das remunerações chegam até R$ 10.000,00. Podemos usar esse fator para filtrar os dados e observar com mais facilidade essa diferença salarial."
   ]
  },
  {
   "cell_type": "code",
   "execution_count": 93,
   "metadata": {
    "id": "yvHPC92fk0qO"
   },
   "outputs": [
    {
     "data": {
      "application/vnd.microsoft.datawrangler.viewer.v0+json": {
       "columns": [
        {
         "name": "index",
         "rawType": "int64",
         "type": "integer"
        },
        {
         "name": "id_colaborador",
         "rawType": "object",
         "type": "string"
        },
        {
         "name": "nome",
         "rawType": "object",
         "type": "string"
        },
        {
         "name": "sexo_biologico",
         "rawType": "object",
         "type": "string"
        },
        {
         "name": "idade",
         "rawType": "int64",
         "type": "integer"
        },
        {
         "name": "cargo",
         "rawType": "object",
         "type": "string"
        },
        {
         "name": "nota_desempenho",
         "rawType": "object",
         "type": "string"
        },
        {
         "name": "remuneracao",
         "rawType": "float64",
         "type": "float"
        },
        {
         "name": "faixa_salarial",
         "rawType": "category",
         "type": "unknown"
        }
       ],
       "ref": "d0fd4fca-c655-4fbf-bac8-d5e3e8b63d03",
       "rows": [
        [
         "65",
         "CON000066",
         "Antony da Paz",
         "Masculino",
         "40",
         "Consultor(a) de vendas",
         "Regular",
         "9317.13",
         "C"
        ],
        [
         "66",
         "CON000067",
         "Luiz Felipe Sales",
         "Masculino",
         "38",
         "Consultor(a) de vendas",
         "Regular",
         "9423.72",
         "C"
        ],
        [
         "67",
         "CON000068",
         "Sophia Mendonça",
         "Feminino",
         "37",
         "Consultor(a) de vendas",
         "Regular",
         "9409.15",
         "C"
        ],
        [
         "68",
         "CON000069",
         "Rael Leão",
         "Masculino",
         "40",
         "Consultor(a) de vendas",
         "Bom",
         "9315.77",
         "C"
        ],
        [
         "70",
         "CON000071",
         "Stephany Sales",
         "Feminino",
         "27",
         "Consultor(a) de vendas",
         "Bom",
         "9060.64",
         "C"
        ]
       ],
       "shape": {
        "columns": 8,
        "rows": 5
       }
      },
      "text/html": [
       "<div>\n",
       "<style scoped>\n",
       "    .dataframe tbody tr th:only-of-type {\n",
       "        vertical-align: middle;\n",
       "    }\n",
       "\n",
       "    .dataframe tbody tr th {\n",
       "        vertical-align: top;\n",
       "    }\n",
       "\n",
       "    .dataframe thead th {\n",
       "        text-align: right;\n",
       "    }\n",
       "</style>\n",
       "<table border=\"1\" class=\"dataframe\">\n",
       "  <thead>\n",
       "    <tr style=\"text-align: right;\">\n",
       "      <th></th>\n",
       "      <th>id_colaborador</th>\n",
       "      <th>nome</th>\n",
       "      <th>sexo_biologico</th>\n",
       "      <th>idade</th>\n",
       "      <th>cargo</th>\n",
       "      <th>nota_desempenho</th>\n",
       "      <th>remuneracao</th>\n",
       "      <th>faixa_salarial</th>\n",
       "    </tr>\n",
       "  </thead>\n",
       "  <tbody>\n",
       "    <tr>\n",
       "      <th>65</th>\n",
       "      <td>CON000066</td>\n",
       "      <td>Antony da Paz</td>\n",
       "      <td>Masculino</td>\n",
       "      <td>40</td>\n",
       "      <td>Consultor(a) de vendas</td>\n",
       "      <td>Regular</td>\n",
       "      <td>9317.13</td>\n",
       "      <td>C</td>\n",
       "    </tr>\n",
       "    <tr>\n",
       "      <th>66</th>\n",
       "      <td>CON000067</td>\n",
       "      <td>Luiz Felipe Sales</td>\n",
       "      <td>Masculino</td>\n",
       "      <td>38</td>\n",
       "      <td>Consultor(a) de vendas</td>\n",
       "      <td>Regular</td>\n",
       "      <td>9423.72</td>\n",
       "      <td>C</td>\n",
       "    </tr>\n",
       "    <tr>\n",
       "      <th>67</th>\n",
       "      <td>CON000068</td>\n",
       "      <td>Sophia Mendonça</td>\n",
       "      <td>Feminino</td>\n",
       "      <td>37</td>\n",
       "      <td>Consultor(a) de vendas</td>\n",
       "      <td>Regular</td>\n",
       "      <td>9409.15</td>\n",
       "      <td>C</td>\n",
       "    </tr>\n",
       "    <tr>\n",
       "      <th>68</th>\n",
       "      <td>CON000069</td>\n",
       "      <td>Rael Leão</td>\n",
       "      <td>Masculino</td>\n",
       "      <td>40</td>\n",
       "      <td>Consultor(a) de vendas</td>\n",
       "      <td>Bom</td>\n",
       "      <td>9315.77</td>\n",
       "      <td>C</td>\n",
       "    </tr>\n",
       "    <tr>\n",
       "      <th>70</th>\n",
       "      <td>CON000071</td>\n",
       "      <td>Stephany Sales</td>\n",
       "      <td>Feminino</td>\n",
       "      <td>27</td>\n",
       "      <td>Consultor(a) de vendas</td>\n",
       "      <td>Bom</td>\n",
       "      <td>9060.64</td>\n",
       "      <td>C</td>\n",
       "    </tr>\n",
       "  </tbody>\n",
       "</table>\n",
       "</div>"
      ],
      "text/plain": [
       "   id_colaborador               nome sexo_biologico  idade  \\\n",
       "65      CON000066      Antony da Paz      Masculino     40   \n",
       "66      CON000067  Luiz Felipe Sales      Masculino     38   \n",
       "67      CON000068    Sophia Mendonça       Feminino     37   \n",
       "68      CON000069          Rael Leão      Masculino     40   \n",
       "70      CON000071     Stephany Sales       Feminino     27   \n",
       "\n",
       "                     cargo nota_desempenho  remuneracao faixa_salarial  \n",
       "65  Consultor(a) de vendas         Regular      9317.13              C  \n",
       "66  Consultor(a) de vendas         Regular      9423.72              C  \n",
       "67  Consultor(a) de vendas         Regular      9409.15              C  \n",
       "68  Consultor(a) de vendas             Bom      9315.77              C  \n",
       "70  Consultor(a) de vendas             Bom      9060.64              C  "
      ]
     },
     "execution_count": 93,
     "metadata": {},
     "output_type": "execute_result"
    }
   ],
   "source": [
    "colaboradores_filtrados = colaboradores[colaboradores['remuneracao'] <= 10e3]\n",
    "colaboradores_filtrados.head()"
   ]
  },
  {
   "cell_type": "code",
   "execution_count": 94,
   "metadata": {
    "id": "LVd3GkD1k0ib"
   },
   "outputs": [
    {
     "data": {
      "image/png": "[encoded data removed]",
      "text/plain": [
       "<Figure size 800x600 with 1 Axes>"
      ]
     },
     "metadata": {},
     "output_type": "display_data"
    }
   ],
   "source": [
    "plt.figure(figsize=(8, 6))\n",
    "ax = sns.boxplot(x='remuneracao', y='sexo_biologico', data=colaboradores_filtrados, hue='sexo_biologico')\n",
    "\n",
    "plt.title('Boxplot de Salários por Sexo Biológico')\n",
    "plt.xlabel('Salário (R$)')\n",
    "plt.ylabel('Sexo Biológico')\n",
    "\n",
    "plt.show()"
   ]
  },
  {
   "cell_type": "markdown",
   "metadata": {
    "id": "1LPh0o7yRoID"
   },
   "source": [
    "Notamos aqui que **a mediana dos salários para pessoas do sexo feminino é menor** que a das pessoas com sexo masculino, sendo o primeiro abaixo **R$ 4.000,00** e o segundo acima desse valor.\n",
    "\n",
    "Para reforçar a análise, vamos calcular as estatísticas descritivas para cada grupo."
   ]
  },
  {
   "cell_type": "code",
   "execution_count": 95,
   "metadata": {
    "id": "REpuXbHEk4mr"
   },
   "outputs": [
    {
     "data": {
      "application/vnd.microsoft.datawrangler.viewer.v0+json": {
       "columns": [
        {
         "name": "index",
         "rawType": "int64",
         "type": "integer"
        },
        {
         "name": "sexo_biologico",
         "rawType": "object",
         "type": "string"
        },
        {
         "name": "Q1",
         "rawType": "float64",
         "type": "float"
        },
        {
         "name": "mediana",
         "rawType": "float64",
         "type": "float"
        },
        {
         "name": "media",
         "rawType": "float64",
         "type": "float"
        },
        {
         "name": "Q3",
         "rawType": "float64",
         "type": "float"
        },
        {
         "name": "IIQ",
         "rawType": "float64",
         "type": "float"
        }
       ],
       "ref": "4f072e72-3653-4a31-8c87-ebfaf6e10094",
       "rows": [
        [
         "0",
         "Feminino",
         "3219.585",
         "3858.82",
         "4352.968367722166",
         "4843.3150000000005",
         "1623.7300000000005"
        ],
        [
         "1",
         "Masculino",
         "3427.525",
         "4121.19",
         "4673.053688458434",
         "5189.1900000000005",
         "1761.6650000000004"
        ]
       ],
       "shape": {
        "columns": 6,
        "rows": 2
       }
      },
      "text/html": [
       "<div>\n",
       "<style scoped>\n",
       "    .dataframe tbody tr th:only-of-type {\n",
       "        vertical-align: middle;\n",
       "    }\n",
       "\n",
       "    .dataframe tbody tr th {\n",
       "        vertical-align: top;\n",
       "    }\n",
       "\n",
       "    .dataframe thead th {\n",
       "        text-align: right;\n",
       "    }\n",
       "</style>\n",
       "<table border=\"1\" class=\"dataframe\">\n",
       "  <thead>\n",
       "    <tr style=\"text-align: right;\">\n",
       "      <th></th>\n",
       "      <th>sexo_biologico</th>\n",
       "      <th>Q1</th>\n",
       "      <th>mediana</th>\n",
       "      <th>media</th>\n",
       "      <th>Q3</th>\n",
       "      <th>IIQ</th>\n",
       "    </tr>\n",
       "  </thead>\n",
       "  <tbody>\n",
       "    <tr>\n",
       "      <th>0</th>\n",
       "      <td>Feminino</td>\n",
       "      <td>3219.585</td>\n",
       "      <td>3858.82</td>\n",
       "      <td>4352.968368</td>\n",
       "      <td>4843.315</td>\n",
       "      <td>1623.730</td>\n",
       "    </tr>\n",
       "    <tr>\n",
       "      <th>1</th>\n",
       "      <td>Masculino</td>\n",
       "      <td>3427.525</td>\n",
       "      <td>4121.19</td>\n",
       "      <td>4673.053688</td>\n",
       "      <td>5189.190</td>\n",
       "      <td>1761.665</td>\n",
       "    </tr>\n",
       "  </tbody>\n",
       "</table>\n",
       "</div>"
      ],
      "text/plain": [
       "  sexo_biologico        Q1  mediana        media        Q3       IIQ\n",
       "0       Feminino  3219.585  3858.82  4352.968368  4843.315  1623.730\n",
       "1      Masculino  3427.525  4121.19  4673.053688  5189.190  1761.665"
      ]
     },
     "execution_count": 95,
     "metadata": {},
     "output_type": "execute_result"
    }
   ],
   "source": [
    "estat_remuneracao = colaboradores.groupby('sexo_biologico')['remuneracao'].agg(\n",
    "    Q1 = lambda x: x.quantile(0.25),\n",
    "    mediana = 'median',\n",
    "    media = 'mean',\n",
    "    Q3 = lambda x: x.quantile(0.75),\n",
    "    IIQ = lambda x: x.quantile(0.75) - x.quantile(0.25)\n",
    ").reset_index()\n",
    "estat_remuneracao"
   ]
  },
  {
   "cell_type": "markdown",
   "metadata": {
    "id": "P3roaiKARpNV"
   },
   "source": [
    "Podemos reportar os resultados para o RH da empresa que deve investigar as causas, especialmente ao considerar cargos similares. Com isso, será possível que a equipe realize ações que busquem revisar políticas salariais para garantir igualdade e realizar análises adicionais considerando fatores como cargo, experiência e desempenho."
   ]
  },
  {
   "cell_type": "markdown",
   "metadata": {
    "id": "sVgnDXWKD11k"
   },
   "source": [
    "# **5. Analisando as variações dos dados**\n",
    "\n",
    "---"
   ]
  },
  {
   "cell_type": "markdown",
   "metadata": {
    "id": "MdhnhGk2M3sT"
   },
   "source": [
    "## **5.1 Calculando o desvio médio absoluto**\n",
    "\n",
    "---\n"
   ]
  },
  {
   "cell_type": "markdown",
   "metadata": {
    "id": "-6NYHNLaM7tl"
   },
   "source": [
    "### <font color=\"#E23155\" face=\"Verdana\">Demanda 12: Analisando diferenças salariais - Parte 1</font>"
   ]
  },
  {
   "cell_type": "markdown",
   "metadata": {
    "id": "c7cujIPQWKXw"
   },
   "source": [
    "A equipe de RH e financeiro da empresa de e-commerce recebeu alguns feedbacks sobre uma possível falta de padrão entre os salários dos cargos de **Inteligência comercial** e **Consultor(a) de vendas**.\n",
    "\n",
    "Com que aprendemos até o momento, apenas as medidas de tendência central (média e mediana) não são suficientes para avaliar a uniformidade dos salários. É necessário um indicador de dispersão que mostre como os salários se distribuem em relação à média, revelando inconsistências.\n",
    "\n",
    "O objetivo é investigar as faixas salariais desses cargos.\n",
    "\n",
    "\n",
    "\n"
   ]
  },
  {
   "cell_type": "markdown",
   "metadata": {
    "id": "S3zyeqHfWL-U"
   },
   "source": [
    "#### **Medidas de dispersão**\n",
    "As **medidas de dispersão** são utilizadas para indicar o grau da variação dos valores de uma variável quantitativa em relação à sua média.\n",
    "\n",
    "Embora as medidas de tendência central e de posição forneçam uma sumarização bastante importante dos dados, elas podem não ser suficientes para caracterizar conjuntos distintos, especialmente quando as observações de determinada distribuição apresentarem dados muito dispersos.\n",
    "\n",
    "#### **Desvio médio absoluto (MAD)**\n",
    "O **Desvio Médio Absoluto (MAD)** é uma medida para avaliar a dispersão dos dados que representa a média das diferenças absolutas entre cada valor e a média dos dados.\n",
    "\n",
    "# $$MAD = \\frac 1n\\sum_{i=1}^{n}|X_i-\\bar{X}|$$\n",
    "\n",
    "Onde:\n",
    "\n",
    "$n$ = número de observações\n",
    "\n",
    "$X_i$ = valores da i-ésima variável\n",
    "\n",
    "$\\bar{X}$ = a média da distribuição\n"
   ]
  },
  {
   "cell_type": "markdown",
   "metadata": {
    "id": "FkYIsKmtWN1B"
   },
   "source": [
    "### <font color=\"#E23155\" face=\"Verdana\">Solução:</font>"
   ]
  },
  {
   "cell_type": "markdown",
   "metadata": {
    "id": "Vwh3c12-WPdS"
   },
   "source": [
    "#### **Ler as estatísticas descritivas das remunerações**"
   ]
  },
  {
   "cell_type": "markdown",
   "metadata": {
    "id": "9cajizo0WQp2"
   },
   "source": [
    "Vamos começar lendo os valores de tendência central dos salários dos cargos de Inteligência comercial e Consultor(a) de vendas"
   ]
  },
  {
   "cell_type": "code",
   "execution_count": null,
   "metadata": {
    "id": "s3SCV3bck-dy"
   },
   "outputs": [],
   "source": []
  },
  {
   "cell_type": "code",
   "execution_count": null,
   "metadata": {
    "id": "X8w0irBEk-ZE"
   },
   "outputs": [],
   "source": []
  },
  {
   "cell_type": "markdown",
   "metadata": {
    "id": "Ex3cXDZBWSzh"
   },
   "source": [
    "Conseguimos notar que as médias e medianas estão bem próximas, então parece tudo ok, certo?\n",
    "\n",
    "**Não!** As medidas de tendência central servem para trazer um valor que generaliza nosso dado, mas que não representa a dispersão entre eles. Neste caso precisamos utilizar as medidas de dispersão para ter uma noção."
   ]
  },
  {
   "cell_type": "markdown",
   "metadata": {
    "id": "7oTGKpJgWUml"
   },
   "source": [
    "#### **Observando as variações das remunerações**"
   ]
  },
  {
   "cell_type": "code",
   "execution_count": null,
   "metadata": {
    "id": "ZjUypqt9lANZ"
   },
   "outputs": [],
   "source": []
  },
  {
   "cell_type": "code",
   "execution_count": null,
   "metadata": {
    "id": "2D6Z76f6lAJs"
   },
   "outputs": [],
   "source": []
  },
  {
   "cell_type": "code",
   "execution_count": null,
   "metadata": {
    "id": "xyfMDdHDlAGI"
   },
   "outputs": [],
   "source": []
  },
  {
   "cell_type": "code",
   "execution_count": null,
   "metadata": {
    "id": "UeWhdQlolBsQ"
   },
   "outputs": [],
   "source": []
  },
  {
   "cell_type": "markdown",
   "metadata": {
    "id": "lteF-YqbWXLG"
   },
   "source": [
    "Como dito anteriormente a média e mediana estão próximas entre os dois cargos. E o desvio médio absoluto é ligeiramente maior para as pessoas consultoras,  indicando maior dispersão se comparada com as pessoas da Inteligência comercial. Podemos visualizar graficamente essa variação entre elas."
   ]
  },
  {
   "cell_type": "markdown",
   "metadata": {
    "id": "hq2AbvhmWYxz"
   },
   "source": [
    "#### **Visualizando graficamente**"
   ]
  },
  {
   "cell_type": "code",
   "execution_count": null,
   "metadata": {
    "id": "-kzdzYLSlB_W"
   },
   "outputs": [],
   "source": []
  },
  {
   "cell_type": "markdown",
   "metadata": {
    "id": "H0-5GPh9WcfK"
   },
   "source": [
    "Conseguimos observar os comportamentos dos salários entre os profissionais de inteligência comercial e consultoria de vendas e percebemos que ambos têm média e mediana salariais muito próximas, com uma variação ligeiramente superior do cargo de inteligência comercial, que foi comprovado tanto pelo MAD quanto observando o intervalo interquartil (IIQ).\n",
    "\n",
    "A equipe de RH pode usar esses dados para:\n",
    "\n",
    "* Investigar os critérios de definição salarial para ambos, visto que o esperado era ter o mesmo nível salarial.\n",
    "* Estabelecer políticas salariais mais padronizadas para cargos equivalentes ou ser mais transparente na definição salarial dentro da empresa."
   ]
  },
  {
   "cell_type": "markdown",
   "metadata": {
    "id": "loZM7qj6NBmp"
   },
   "source": [
    "## **5.2 Calculando a variância e desvio padrão**\n",
    "\n",
    "---\n"
   ]
  },
  {
   "cell_type": "markdown",
   "metadata": {
    "id": "xOulTBD4M9qR"
   },
   "source": [
    "### <font color=\"#E23155\" face=\"Verdana\">Demanda 12: Analisando diferenças salariais - Parte 2</font>"
   ]
  },
  {
   "cell_type": "markdown",
   "metadata": {
    "id": "i6pXglhGXri8"
   },
   "source": [
    "A equipe de RH e financeiro da empresa de e-commerce também recebeu alguns feedbacks sobre uma possível falta de padrão entre os salários de dois cargos operacionais, Estoquista e Repositor(a), que representam o maior volume de funcionários da empresa.\n",
    "\n",
    "O objetivo é investigar também as faixas salariais desses cargos, determinar qual deles apresenta maior inconsistência e identificar padrões que possam sugerir desigualdades ou problemas de política salarial."
   ]
  },
  {
   "cell_type": "markdown",
   "metadata": {
    "id": "E9uQVq0qXs0k"
   },
   "source": [
    "#### **Variância ($\\sigma^2$ ou $S^2$)**\n",
    "A **variância** é uma medida de dispersão que mostra o quão distante cada valor de uma variável quantitativa está da média da sua distribuição.\n",
    "\n",
    "Ela é construída a partir das diferenças entre cada observação e a média dos dados, ou seja, o desvio em torno da média. No cálculo da variância, os desvios em torno da média são elevados ao quadrado.\n",
    "\n",
    "##### **Variância populacional**\n",
    "\n",
    "# $$\\sigma^2 = \\frac 1n\\sum_{i=1}^{n}(X_i-\\mu)^2$$\n",
    "\n",
    "##### **Variância amostral**\n",
    "\n",
    "# $$S^2 = \\frac 1{n-1}\\sum_{i=1}^{n}(X_i-\\bar{X})^2$$\n",
    "\n",
    "Onde:\n",
    "\n",
    "$n$ = número de observações\n",
    "\n",
    "$X_i$ = valores da i-ésima variável\n",
    "\n",
    "$\\mu$ e $\\bar{X}$ = média da população e amostra da distribuição, respectivamente\n"
   ]
  },
  {
   "cell_type": "markdown",
   "metadata": {
    "id": "U2EUBdPqXu5R"
   },
   "source": [
    "### <font color=\"#E23155\" face=\"Verdana\">Solução:</font>"
   ]
  },
  {
   "cell_type": "markdown",
   "metadata": {
    "id": "fHOFgkdUXvPn"
   },
   "source": [
    "#### **Ler as estatísticas descritivas das remunerações**"
   ]
  },
  {
   "cell_type": "markdown",
   "metadata": {
    "id": "TQZKhCdgXw80"
   },
   "source": [
    "Vamos começar lendo os valores de tendência central dos salários dos cargos de Estoquista e Repositor(a)"
   ]
  },
  {
   "cell_type": "code",
   "execution_count": null,
   "metadata": {
    "id": "Ydl8ggIulD_c"
   },
   "outputs": [],
   "source": []
  },
  {
   "cell_type": "code",
   "execution_count": null,
   "metadata": {
    "id": "BShyfCPslD7b"
   },
   "outputs": [],
   "source": []
  },
  {
   "cell_type": "code",
   "execution_count": null,
   "metadata": {
    "id": "2ZrHCPIJlD3V"
   },
   "outputs": [],
   "source": []
  },
  {
   "cell_type": "markdown",
   "metadata": {
    "id": "EYfK8WYSX4MX"
   },
   "source": [
    "Conseguimos notar que novamente as médias e medianas estão bem próximas. Precisamos utilizar as medidas de dispersão para ter uma noção se realmente temos uma diferença relevantes entre os salários dos dois cargos."
   ]
  },
  {
   "cell_type": "code",
   "execution_count": null,
   "metadata": {
    "id": "jvpZlNJClGYY"
   },
   "outputs": [],
   "source": []
  },
  {
   "cell_type": "markdown",
   "metadata": {
    "id": "1_QAnMIkX7sy"
   },
   "source": [
    "Números bem altos não é mesmo? O que isso significa?\n",
    "\n",
    "Como variância fornece os valores das medidas ao quadrado, representar o nosso resultado dessa forma dificultaria a comparação da dispersão com as variáveis que a definem.\n",
    "\n",
    "Um modo de eliminar essa dificuldade é utilizando o **desvio padrão**"
   ]
  },
  {
   "cell_type": "markdown",
   "metadata": {
    "id": "5vXAbjBIX9Hd"
   },
   "source": [
    "#### **Desvio padrão ($\\sigma$ ou $S$)**\n",
    "\n",
    "O desvio padrão é uma medida de dispersão que indica o grau de dispersão de um conjunto de dados. É expresso pela raiz quadrada da variância populacional ou amostral.\n",
    "\n",
    "Além de expressar a variabilidade da população, o desvio padrão pode ser utilizado para medir a confiança (nível de acerto esperado de uma estimativa) e geralmente permite sintetizar os resultados de amostras.\n",
    "\n",
    "\n",
    "##### **Desvio padão populacional**\n",
    "\n",
    "# $$\\sigma = \\sqrt{\\frac 1n\\sum_{i=1}^{n}(X_i-\\mu)^2} \\Longrightarrow \\sigma = \\sqrt{\\sigma^2}$$\n",
    "\n",
    "##### **Desvio padrão amostral**\n",
    "\n",
    "# $$S = \\sqrt{\\frac 1{n-1}\\sum_{i=1}^{n}(X_i-\\bar{X})^2} \\Longrightarrow S = \\sqrt{S^2}$$\n",
    "\n",
    "Onde:\n",
    "\n",
    "$n$ = número de observações\n",
    "\n",
    "$X_i$ = valores da i-ésima variável\n",
    "\n",
    "$\\mu$ e $\\bar{X}$ = média da população e amostra da distribuição, respectivamente\n"
   ]
  },
  {
   "cell_type": "code",
   "execution_count": null,
   "metadata": {
    "id": "D98Pw3BYlHX5"
   },
   "outputs": [],
   "source": []
  },
  {
   "cell_type": "markdown",
   "metadata": {
    "id": "OqPkblj4YUSC"
   },
   "source": [
    "O que podemos constatar aqui:\n",
    "1. **Média e Mediana:** Ambos os cargos têm valores próximos, indicando simetria na centralidade.\n",
    "\n",
    "2. **Variância e Desvio Padrão:** O cargo de Estoquista tem maior variância e desvio padrão, revelando maior dispersão nos salários.\n",
    "\n",
    "3. **MAD vs. Desvio Padrão:** Em ambos os casos o MAD é menor em relação ao desvio padrão, indicando que a dispersão está sendo influenciada por valores extremos."
   ]
  },
  {
   "cell_type": "markdown",
   "metadata": {
    "id": "5sfLCyqyYWCI"
   },
   "source": [
    "\n",
    "#### **Visualizando graficamente**"
   ]
  },
  {
   "cell_type": "code",
   "execution_count": null,
   "metadata": {
    "id": "Cjl-HJxHlIUh"
   },
   "outputs": [],
   "source": []
  },
  {
   "cell_type": "markdown",
   "metadata": {
    "id": "7-oIOXAlYYNk"
   },
   "source": [
    "Conseguimos observar os comportamentos dos salários entre os profissionais estoquistas e repositores e percebemos que ambos têm média e mediana salariais muito próximas, entretando notamos uma dispersão considerável entre os salários dos colaboradores, que foi comprovado tanto pelo desvio padrão e MAD quanto observando o intervalo interquartil (IIQ) no gráfico de violino.\n",
    "\n",
    "Consideração para o RH:\n",
    "\n",
    "* As métricas indicam que o cargo de Estoquista possui maior variabilidade salarial.\n",
    "* O RH deve investigar se essa inconsistência reflete discrepâncias injustas ou se há justificativas baseadas em mérito ou experiência.\n",
    "\n",
    "Como sugestão:\n",
    "* Ajuste das políticas para reduzir a inconsistência salarial, promovendo equidade.\n",
    "* Compartilhamento de mais informações para análise de outras métricas para maior robustez na análise."
   ]
  }
 ],
 "metadata": {
  "colab": {
   "collapsed_sections": [
    "aXvD2rsPDicS",
    "UNZZiHpAnSS-",
    "lmFhWRkinnP0",
    "eUBRumYDo7Hu",
    "PjCs3WacJ8xh",
    "lz_rMlOtDtso",
    "zHp0nFexFz6t",
    "GMfPrLjdF8jM",
    "pL3InDboGD42",
    "PG13hWS7L-k_",
    "GNOLac1oMBot",
    "V6iS-yqwDwQm",
    "Y3nmdRYXPJgZ",
    "g3zvC6ITMMWw",
    "tWyxUtqq7UYq",
    "338fE8qL7WGa",
    "I_hLmh_dMarM",
    "vaK7ctdMMjSn",
    "-Nl4kK-MMk2T",
    "5_Ue_sy38o-Y",
    "AsBGdfK0DzLt",
    "aV0q3H8GPXwc",
    "OgPd_yXlEP6r",
    "FwZr9mioEwug",
    "dRX8627hNI49",
    "64g_fCdINK8E",
    "Q7vNVvtaHKm-",
    "UhWvsw8GHOBv",
    "aspdJ0sWHRN4",
    "K_OSOG2nHU28",
    "kmqN1SR1NMmh",
    "hh7iH1O6NRdK",
    "AvHVpbyxNPyf"
   ],
   "provenance": []
  },
  "kernelspec": {
   "display_name": "Python 3",
   "name": "python3"
  },
  "language_info": {
   "codemirror_mode": {
    "name": "ipython",
    "version": 3
   },
   "file_extension": ".py",
   "mimetype": "text/x-python",
   "name": "python",
   "nbconvert_exporter": "python",
   "pygments_lexer": "ipython3",
   "version": "3.13.3"
  }
 },
 "nbformat": 4,
 "nbformat_minor": 0
}
