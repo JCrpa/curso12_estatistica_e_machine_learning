{
 "cells": [
  {
   "cell_type": "markdown",
   "metadata": {
    "id": "qxah03ikONCD"
   },
   "source": [
    "# **Sobre o notebook**\n",
    "\n",
    "Aproveite esse espaço para as atividades do curso de **Estatística com Python: resumindo e analisando dados** da Alura. Aqui você pode escrever e testar os códigos dos diversos exercícios do **Mão na Massa** envolvendo os aprendizados de cada aula.\n",
    "\n",
    "Utilizando os conhecimentos adquiridos ao longo do curso, você precisará realizar uma **análise descritiva** básica de um conjunto de dados retirados da **Pesquisa Nacional por Amostra de Domicílios - 2015** do IBGE.\n",
    "\n",
    "Nele, você irá avaliar os tipos dos dados e suas distribuições, calcular as medidas de tendência central, medidas separatrizes e de dispersão dos dados e construirá visuais como histogramas, boxplot, entre outras para responder às perguntas.\n",
    "\n",
    "Este notebook foi construído com espaços para adicionar as células dos desafios propostos no curso, com eles você tem espaço para construir e executar suas soluções.\n",
    "\n",
    "\n",
    "\n"
   ]
  },
  {
   "cell_type": "markdown",
   "metadata": {
    "id": "ouMWQS5PkxIr"
   },
   "source": [
    "## **Dataset do Projeto**"
   ]
  },
  {
   "cell_type": "markdown",
   "metadata": {
    "id": "eeErXl4El6tC"
   },
   "source": [
    "O conjunto de dados que será explorado aqui é uma adaptação dos dados da **Pesquisa Nacional por Amostra de Domicílios - PNAD**. Ela investiga anualmente, de forma permanente, características gerais da população, de educação, trabalho, rendimento e habitação e outras, com periodicidade variável, de acordo com as necessidades de informação para o país, como as características sobre migração, fecundidade, nupcialidade, saúde, segurança alimentar, entre outros temas.\n",
    "\n",
    "O levantamento dessas estatísticas constitui, ao longo dos 49 anos de realização da pesquisa, um importante instrumento para formulação, validação e avaliação de políticas orientadas para o desenvolvimento socioeconômico e a melhoria das condições de vida no Brasil."
   ]
  },
  {
   "cell_type": "markdown",
   "metadata": {
    "id": "_vpi0QThnfJ6"
   },
   "source": [
    "### **Fonte dos Dados**\n",
    "\n",
    "https://www.ibge.gov.br/estatisticas/sociais/populacao/9127-pesquisa-nacional-por-amostra-de-domicilios.html?edicao=9128"
   ]
  },
  {
   "cell_type": "markdown",
   "metadata": {
    "id": "zrMeV3e5rQxd"
   },
   "source": [
    "### **Variáveis do dataset**\n",
    "\n",
    "> ### UF\n",
    "> ***\n",
    "\n",
    "Unidade federativa da pessoa responsável\n",
    "\n",
    "> ### Sexo\n",
    "> ***\n",
    "\n",
    "Sexo biológico da pessoa responsável\n",
    "\n",
    "<br>\n",
    "\n",
    "|Código|Descrição|\n",
    "|---|---|\n",
    "|0|Masculino|\n",
    "|1|Feminino|\n",
    "\n",
    "> ### Idade\n",
    "> ***\n",
    "\n",
    "Idade da pessoa responsável na data de referência em anos.\n",
    "\n",
    "> ### Cor\n",
    "> ***\n",
    "\n",
    "Cor ou raça da pessoa responsável com base na autodeclaração\n",
    "\n",
    "<br>\n",
    "\n",
    "|Código|Descrição|\n",
    "|---|---|\n",
    "|0|Indígena|\n",
    "|2|Branca|\n",
    "|4|Preta|\n",
    "|6|Amarela|\n",
    "|8|Parda|\n",
    "\n",
    "> ### Anos de Estudo\n",
    "> ***\n",
    "\n",
    "Anos de estudo da pessoa responsável\n",
    "\n",
    "<br>\n",
    "\n",
    "|Código|Descrição|\n",
    "|---|---|\n",
    "|1|Sem instrução e menos de 1 ano|\n",
    "|2|1 ano|\n",
    "|3|2 anos|\n",
    "|4|3 anos|\n",
    "|5|4 anos|\n",
    "|6|5 anos|\n",
    "|7|6 anos|\n",
    "|8|7 anos|\n",
    "|9|8 anos|\n",
    "|10|9 anos|\n",
    "|11|10 anos|\n",
    "|12|11 anos|\n",
    "|13|12 anos|\n",
    "|14|13 anos|\n",
    "|15|14 anos|\n",
    "|16|15 anos ou mais|\n",
    "|17|Não determinados|\n",
    "\n",
    "> ### Renda\n",
    "> ***\n",
    "\n",
    "Rendimento mensal do trabalho principal da pessoa responsável para 10 anos ou mais de idade.\n",
    "\n",
    "> ### Altura (elaboração própria - dado sintético)\n",
    "> ***\n",
    "\n",
    "Altura da pessoa responsável em metros."
   ]
  },
  {
   "cell_type": "markdown",
   "metadata": {
    "id": "sIlkOh1BvGsM"
   },
   "source": [
    "#### <font color='red'>Observação</font>\n",
    "***\n",
    "> Os seguintes tratamentos foram realizados nos dados originais:\n",
    "> 1. Foram eliminados os registros onde a **Renda** era inválida (999 999 999 999);\n",
    "> 2. Foram eliminados os registros onde a **Renda** era missing;\n",
    "> 3. Foram considerados somente os registros das **Pessoas de Referência** de cada domicílio (responsável pelo domicílio)."
   ]
  },
  {
   "cell_type": "markdown",
   "metadata": {
    "id": "IA3M1eso_L2Z"
   },
   "source": [
    "## **Aula 01 - Entendendo os dados**"
   ]
  },
  {
   "cell_type": "markdown",
   "metadata": {
    "id": "AmpR_VE4CImQ"
   },
   "source": [
    "### **Mão na Massa - Explorando novos dados**\n",
    "\n",
    "\n"
   ]
  },
  {
   "cell_type": "markdown",
   "metadata": {
    "id": "k2YfI6iDYmo4"
   },
   "source": [
    "Você está treinando para ser uma pessoa cientista de dados e recebeu a demanda de investigar os dados da PNAD de 2015. A fim de testar as suas habilidades de análise de dados e os conceitos da estatística descritiva, responda às perguntas ao longo do notebook compartilhado."
   ]
  },
  {
   "cell_type": "markdown",
   "metadata": {
    "id": "QDUU7jVGiMiZ"
   },
   "source": [
    "#### **Importando os pacotes e configurando o ambiente**"
   ]
  },
  {
   "cell_type": "code",
   "execution_count": 1,
   "metadata": {
    "executionInfo": {
     "elapsed": 2658,
     "status": "ok",
     "timestamp": 1738847245491,
     "user": {
      "displayName": "Danielle Oliveira",
      "userId": "05655775487564333131"
     },
     "user_tz": 180
    },
    "id": "ZruvypSoO6oP"
   },
   "outputs": [],
   "source": [
    "# Importando os pacotes do projeto\n",
    "import pandas as pd\n",
    "import numpy as np\n",
    "import seaborn as sns\n",
    "import matplotlib.pyplot as plt"
   ]
  },
  {
   "cell_type": "markdown",
   "metadata": {
    "id": "MqXopokVzjV8"
   },
   "source": [
    "#### **Importe o dataset e armazene o conteúdo em um DataFrame**"
   ]
  },
  {
   "cell_type": "markdown",
   "metadata": {
    "id": "pr2UTRm70Tsq"
   },
   "source": [
    "**Dica:** Passe a url para a função que lê um arquivo do tipo `.csv`"
   ]
  },
  {
   "cell_type": "code",
   "execution_count": 2,
   "metadata": {
    "executionInfo": {
     "elapsed": 321,
     "status": "ok",
     "timestamp": 1738847251199,
     "user": {
      "displayName": "Danielle Oliveira",
      "userId": "05655775487564333131"
     },
     "user_tz": 180
    },
    "id": "cndAfPzKzjBs"
   },
   "outputs": [],
   "source": [
    "url = \"https://raw.githubusercontent.com/alura-cursos/Estatisticas-Python-frequencias-medidas/refs/heads/main/dados/dados_desafio.csv\"\n",
    "dados = pd.read_csv(url)"
   ]
  },
  {
   "cell_type": "markdown",
   "metadata": {
    "id": "CKddW-tNzuP1"
   },
   "source": [
    "#### **Visualize o conteúdo do DataFrame e leia as infos sobre os dados (linhas, colunas, tipos)**"
   ]
  },
  {
   "cell_type": "markdown",
   "metadata": {
    "id": "exRQ_Tuf0jrD"
   },
   "source": [
    "**Dica:** Para observar as infos dos dados, utilize a função `info`"
   ]
  },
  {
   "cell_type": "code",
   "execution_count": 3,
   "metadata": {
    "colab": {
     "base_uri": "https://localhost:8080/",
     "height": 206
    },
    "executionInfo": {
     "elapsed": 200,
     "status": "ok",
     "timestamp": 1738847252718,
     "user": {
      "displayName": "Danielle Oliveira",
      "userId": "05655775487564333131"
     },
     "user_tz": 180
    },
    "id": "onefzgWfr7-7",
    "outputId": "b42914fe-07b6-463e-d03c-b92ec5235d64"
   },
   "outputs": [
    {
     "data": {
      "application/vnd.microsoft.datawrangler.viewer.v0+json": {
       "columns": [
        {
         "name": "index",
         "rawType": "int64",
         "type": "integer"
        },
        {
         "name": "UF",
         "rawType": "object",
         "type": "string"
        },
        {
         "name": "Sexo",
         "rawType": "int64",
         "type": "integer"
        },
        {
         "name": "Idade",
         "rawType": "int64",
         "type": "integer"
        },
        {
         "name": "Cor",
         "rawType": "int64",
         "type": "integer"
        },
        {
         "name": "Anos.de.Estudo",
         "rawType": "int64",
         "type": "integer"
        },
        {
         "name": "Renda",
         "rawType": "int64",
         "type": "integer"
        },
        {
         "name": "Altura",
         "rawType": "float64",
         "type": "float"
        }
       ],
       "ref": "5d50effb-48d7-4f71-aab1-1b50893cb01c",
       "rows": [
        [
         "0",
         "Rondônia",
         "0",
         "23",
         "8",
         "12",
         "800",
         "1.6"
        ],
        [
         "1",
         "Rondônia",
         "1",
         "23",
         "2",
         "12",
         "1150",
         "1.74"
        ],
        [
         "2",
         "Rondônia",
         "1",
         "35",
         "8",
         "15",
         "880",
         "1.76"
        ],
        [
         "3",
         "Rondônia",
         "0",
         "46",
         "2",
         "6",
         "3500",
         "1.78"
        ],
        [
         "4",
         "Rondônia",
         "1",
         "47",
         "8",
         "9",
         "150",
         "1.69"
        ]
       ],
       "shape": {
        "columns": 7,
        "rows": 5
       }
      },
      "text/html": [
       "<div>\n",
       "<style scoped>\n",
       "    .dataframe tbody tr th:only-of-type {\n",
       "        vertical-align: middle;\n",
       "    }\n",
       "\n",
       "    .dataframe tbody tr th {\n",
       "        vertical-align: top;\n",
       "    }\n",
       "\n",
       "    .dataframe thead th {\n",
       "        text-align: right;\n",
       "    }\n",
       "</style>\n",
       "<table border=\"1\" class=\"dataframe\">\n",
       "  <thead>\n",
       "    <tr style=\"text-align: right;\">\n",
       "      <th></th>\n",
       "      <th>UF</th>\n",
       "      <th>Sexo</th>\n",
       "      <th>Idade</th>\n",
       "      <th>Cor</th>\n",
       "      <th>Anos.de.Estudo</th>\n",
       "      <th>Renda</th>\n",
       "      <th>Altura</th>\n",
       "    </tr>\n",
       "  </thead>\n",
       "  <tbody>\n",
       "    <tr>\n",
       "      <th>0</th>\n",
       "      <td>Rondônia</td>\n",
       "      <td>0</td>\n",
       "      <td>23</td>\n",
       "      <td>8</td>\n",
       "      <td>12</td>\n",
       "      <td>800</td>\n",
       "      <td>1.60</td>\n",
       "    </tr>\n",
       "    <tr>\n",
       "      <th>1</th>\n",
       "      <td>Rondônia</td>\n",
       "      <td>1</td>\n",
       "      <td>23</td>\n",
       "      <td>2</td>\n",
       "      <td>12</td>\n",
       "      <td>1150</td>\n",
       "      <td>1.74</td>\n",
       "    </tr>\n",
       "    <tr>\n",
       "      <th>2</th>\n",
       "      <td>Rondônia</td>\n",
       "      <td>1</td>\n",
       "      <td>35</td>\n",
       "      <td>8</td>\n",
       "      <td>15</td>\n",
       "      <td>880</td>\n",
       "      <td>1.76</td>\n",
       "    </tr>\n",
       "    <tr>\n",
       "      <th>3</th>\n",
       "      <td>Rondônia</td>\n",
       "      <td>0</td>\n",
       "      <td>46</td>\n",
       "      <td>2</td>\n",
       "      <td>6</td>\n",
       "      <td>3500</td>\n",
       "      <td>1.78</td>\n",
       "    </tr>\n",
       "    <tr>\n",
       "      <th>4</th>\n",
       "      <td>Rondônia</td>\n",
       "      <td>1</td>\n",
       "      <td>47</td>\n",
       "      <td>8</td>\n",
       "      <td>9</td>\n",
       "      <td>150</td>\n",
       "      <td>1.69</td>\n",
       "    </tr>\n",
       "  </tbody>\n",
       "</table>\n",
       "</div>"
      ],
      "text/plain": [
       "         UF  Sexo  Idade  Cor  Anos.de.Estudo  Renda  Altura\n",
       "0  Rondônia     0     23    8              12    800    1.60\n",
       "1  Rondônia     1     23    2              12   1150    1.74\n",
       "2  Rondônia     1     35    8              15    880    1.76\n",
       "3  Rondônia     0     46    2               6   3500    1.78\n",
       "4  Rondônia     1     47    8               9    150    1.69"
      ]
     },
     "execution_count": 3,
     "metadata": {},
     "output_type": "execute_result"
    }
   ],
   "source": [
    "dados.head()"
   ]
  },
  {
   "cell_type": "code",
   "execution_count": 4,
   "metadata": {
    "colab": {
     "base_uri": "https://localhost:8080/"
    },
    "executionInfo": {
     "elapsed": 73,
     "status": "ok",
     "timestamp": 1738847257018,
     "user": {
      "displayName": "Danielle Oliveira",
      "userId": "05655775487564333131"
     },
     "user_tz": 180
    },
    "id": "sMQfhgrt1F8K",
    "outputId": "befff291-f11a-4404-f5b3-5e3c1f42b7f3"
   },
   "outputs": [
    {
     "name": "stdout",
     "output_type": "stream",
     "text": [
      "<class 'pandas.core.frame.DataFrame'>\n",
      "RangeIndex: 76840 entries, 0 to 76839\n",
      "Data columns (total 7 columns):\n",
      " #   Column          Non-Null Count  Dtype  \n",
      "---  ------          --------------  -----  \n",
      " 0   UF              76840 non-null  object \n",
      " 1   Sexo            76840 non-null  int64  \n",
      " 2   Idade           76840 non-null  int64  \n",
      " 3   Cor             76840 non-null  int64  \n",
      " 4   Anos.de.Estudo  76840 non-null  int64  \n",
      " 5   Renda           76840 non-null  int64  \n",
      " 6   Altura          76840 non-null  float64\n",
      "dtypes: float64(1), int64(5), object(1)\n",
      "memory usage: 4.1+ MB\n"
     ]
    }
   ],
   "source": [
    "dados.info()"
   ]
  },
  {
   "cell_type": "markdown",
   "metadata": {
    "id": "RAmtjJFi0-ni"
   },
   "source": [
    "#### **Explore brevemente a variável `UF` e investigue quantos dados possuímos para cada estado**"
   ]
  },
  {
   "cell_type": "markdown",
   "metadata": {
    "id": "FeK6odCN9O1m"
   },
   "source": [
    "**Dica:** Para explorar, utilize as funções `unique`, `value_counts`, `reset_index` e `barplot`\n",
    "\n"
   ]
  },
  {
   "cell_type": "code",
   "execution_count": 5,
   "metadata": {
    "colab": {
     "base_uri": "https://localhost:8080/",
     "height": 458
    },
    "id": "tClysTb77818",
    "outputId": "46175096-0c53-433e-d9e6-2d706a0c3517"
   },
   "outputs": [
    {
     "data": {
      "application/vnd.microsoft.datawrangler.viewer.v0+json": {
       "columns": [
        {
         "name": "index",
         "rawType": "int64",
         "type": "integer"
        },
        {
         "name": "UF",
         "rawType": "object",
         "type": "string"
        }
       ],
       "ref": "691ff4db-73a1-4530-a3b9-cf74012c2f9d",
       "rows": [
        [
         "0",
         "Rondônia"
        ],
        [
         "1",
         "Rondônia"
        ],
        [
         "2",
         "Rondônia"
        ],
        [
         "3",
         "Rondônia"
        ],
        [
         "4",
         "Rondônia"
        ],
        [
         "5",
         "Rondônia"
        ],
        [
         "6",
         "Rondônia"
        ],
        [
         "7",
         "Rondônia"
        ],
        [
         "8",
         "Rondônia"
        ],
        [
         "9",
         "Rondônia"
        ],
        [
         "10",
         "Rondônia"
        ],
        [
         "11",
         "Rondônia"
        ],
        [
         "12",
         "Rondônia"
        ],
        [
         "13",
         "Rondônia"
        ],
        [
         "14",
         "Rondônia"
        ],
        [
         "15",
         "Rondônia"
        ],
        [
         "16",
         "Rondônia"
        ],
        [
         "17",
         "Rondônia"
        ],
        [
         "18",
         "Rondônia"
        ],
        [
         "19",
         "Rondônia"
        ],
        [
         "20",
         "Rondônia"
        ],
        [
         "21",
         "Rondônia"
        ],
        [
         "22",
         "Rondônia"
        ],
        [
         "23",
         "Rondônia"
        ],
        [
         "24",
         "Rondônia"
        ],
        [
         "25",
         "Rondônia"
        ],
        [
         "26",
         "Rondônia"
        ],
        [
         "27",
         "Rondônia"
        ],
        [
         "28",
         "Rondônia"
        ],
        [
         "29",
         "Rondônia"
        ],
        [
         "30",
         "Rondônia"
        ],
        [
         "31",
         "Rondônia"
        ],
        [
         "32",
         "Rondônia"
        ],
        [
         "33",
         "Rondônia"
        ],
        [
         "34",
         "Rondônia"
        ],
        [
         "35",
         "Rondônia"
        ],
        [
         "36",
         "Rondônia"
        ],
        [
         "37",
         "Rondônia"
        ],
        [
         "38",
         "Rondônia"
        ],
        [
         "39",
         "Rondônia"
        ],
        [
         "40",
         "Rondônia"
        ],
        [
         "41",
         "Rondônia"
        ],
        [
         "42",
         "Rondônia"
        ],
        [
         "43",
         "Rondônia"
        ],
        [
         "44",
         "Rondônia"
        ],
        [
         "45",
         "Rondônia"
        ],
        [
         "46",
         "Rondônia"
        ],
        [
         "47",
         "Rondônia"
        ],
        [
         "48",
         "Rondônia"
        ],
        [
         "49",
         "Rondônia"
        ]
       ],
       "shape": {
        "columns": 1,
        "rows": 76840
       }
      },
      "text/plain": [
       "0                Rondônia\n",
       "1                Rondônia\n",
       "2                Rondônia\n",
       "3                Rondônia\n",
       "4                Rondônia\n",
       "               ...       \n",
       "76835    Distrito Federal\n",
       "76836    Distrito Federal\n",
       "76837    Distrito Federal\n",
       "76838    Distrito Federal\n",
       "76839    Distrito Federal\n",
       "Name: UF, Length: 76840, dtype: object"
      ]
     },
     "execution_count": 5,
     "metadata": {},
     "output_type": "execute_result"
    }
   ],
   "source": [
    "dados['UF']"
   ]
  },
  {
   "cell_type": "code",
   "execution_count": 6,
   "metadata": {
    "colab": {
     "base_uri": "https://localhost:8080/"
    },
    "id": "cFHK-Ekm9tbi",
    "outputId": "97cd12f1-dd09-4985-ad19-91b904d94d19"
   },
   "outputs": [
    {
     "data": {
      "text/plain": [
       "array(['Rondônia', 'Acre', 'Amazonas', 'Roraima', 'Pará', 'Amapá',\n",
       "       'Tocantins', 'Maranhão', 'Piauí', 'Ceará', 'Rio Grande do Norte',\n",
       "       'Paraíba', 'Pernambuco', 'Alagoas', 'Sergipe', 'Bahia',\n",
       "       'Minas Gerais', 'Espírito Santo', 'Rio de Janeiro', 'São Paulo',\n",
       "       'Paraná', 'Santa Catarina', 'Rio Grande do Sul',\n",
       "       'Mato Grosso do Sul', 'Mato Grosso', 'Goiás', 'Distrito Federal'],\n",
       "      dtype=object)"
      ]
     },
     "execution_count": 6,
     "metadata": {},
     "output_type": "execute_result"
    }
   ],
   "source": [
    "dados['UF'].unique()"
   ]
  },
  {
   "cell_type": "code",
   "execution_count": 7,
   "metadata": {
    "colab": {
     "base_uri": "https://localhost:8080/",
     "height": 896
    },
    "id": "VhQ5_rRO9tZJ",
    "outputId": "50f22bc2-31b1-4518-a1da-a3f136a18a26"
   },
   "outputs": [
    {
     "data": {
      "application/vnd.microsoft.datawrangler.viewer.v0+json": {
       "columns": [
        {
         "name": "index",
         "rawType": "int64",
         "type": "integer"
        },
        {
         "name": "UF",
         "rawType": "object",
         "type": "string"
        },
        {
         "name": "count",
         "rawType": "int64",
         "type": "integer"
        }
       ],
       "ref": "a405a729-d939-465a-a71f-6a049799cfc9",
       "rows": [
        [
         "0",
         "São Paulo",
         "8544"
        ],
        [
         "1",
         "Minas Gerais",
         "7686"
        ],
        [
         "2",
         "Rio Grande do Sul",
         "6322"
        ],
        [
         "3",
         "Bahia",
         "5717"
        ],
        [
         "4",
         "Rio de Janeiro",
         "5556"
        ],
        [
         "5",
         "Pará",
         "4449"
        ],
        [
         "6",
         "Paraná",
         "4356"
        ],
        [
         "7",
         "Pernambuco",
         "3820"
        ],
        [
         "8",
         "Goiás",
         "3478"
        ],
        [
         "9",
         "Ceará",
         "3359"
        ],
        [
         "10",
         "Santa Catarina",
         "2275"
        ],
        [
         "11",
         "Amazonas",
         "2206"
        ],
        [
         "12",
         "Distrito Federal",
         "2054"
        ],
        [
         "13",
         "Mato Grosso",
         "1800"
        ],
        [
         "14",
         "Maranhão",
         "1787"
        ],
        [
         "15",
         "Rondônia",
         "1537"
        ],
        [
         "16",
         "Espírito Santo",
         "1511"
        ],
        [
         "17",
         "Mato Grosso do Sul",
         "1440"
        ],
        [
         "18",
         "Tocantins",
         "1306"
        ],
        [
         "19",
         "Sergipe",
         "1287"
        ],
        [
         "20",
         "Paraíba",
         "1274"
        ],
        [
         "21",
         "Piauí",
         "1211"
        ],
        [
         "22",
         "Rio Grande do Norte",
         "973"
        ],
        [
         "23",
         "Acre",
         "937"
        ],
        [
         "24",
         "Alagoas",
         "903"
        ],
        [
         "25",
         "Roraima",
         "540"
        ],
        [
         "26",
         "Amapá",
         "512"
        ]
       ],
       "shape": {
        "columns": 2,
        "rows": 27
       }
      },
      "text/html": [
       "<div>\n",
       "<style scoped>\n",
       "    .dataframe tbody tr th:only-of-type {\n",
       "        vertical-align: middle;\n",
       "    }\n",
       "\n",
       "    .dataframe tbody tr th {\n",
       "        vertical-align: top;\n",
       "    }\n",
       "\n",
       "    .dataframe thead th {\n",
       "        text-align: right;\n",
       "    }\n",
       "</style>\n",
       "<table border=\"1\" class=\"dataframe\">\n",
       "  <thead>\n",
       "    <tr style=\"text-align: right;\">\n",
       "      <th></th>\n",
       "      <th>UF</th>\n",
       "      <th>count</th>\n",
       "    </tr>\n",
       "  </thead>\n",
       "  <tbody>\n",
       "    <tr>\n",
       "      <th>0</th>\n",
       "      <td>São Paulo</td>\n",
       "      <td>8544</td>\n",
       "    </tr>\n",
       "    <tr>\n",
       "      <th>1</th>\n",
       "      <td>Minas Gerais</td>\n",
       "      <td>7686</td>\n",
       "    </tr>\n",
       "    <tr>\n",
       "      <th>2</th>\n",
       "      <td>Rio Grande do Sul</td>\n",
       "      <td>6322</td>\n",
       "    </tr>\n",
       "    <tr>\n",
       "      <th>3</th>\n",
       "      <td>Bahia</td>\n",
       "      <td>5717</td>\n",
       "    </tr>\n",
       "    <tr>\n",
       "      <th>4</th>\n",
       "      <td>Rio de Janeiro</td>\n",
       "      <td>5556</td>\n",
       "    </tr>\n",
       "    <tr>\n",
       "      <th>5</th>\n",
       "      <td>Pará</td>\n",
       "      <td>4449</td>\n",
       "    </tr>\n",
       "    <tr>\n",
       "      <th>6</th>\n",
       "      <td>Paraná</td>\n",
       "      <td>4356</td>\n",
       "    </tr>\n",
       "    <tr>\n",
       "      <th>7</th>\n",
       "      <td>Pernambuco</td>\n",
       "      <td>3820</td>\n",
       "    </tr>\n",
       "    <tr>\n",
       "      <th>8</th>\n",
       "      <td>Goiás</td>\n",
       "      <td>3478</td>\n",
       "    </tr>\n",
       "    <tr>\n",
       "      <th>9</th>\n",
       "      <td>Ceará</td>\n",
       "      <td>3359</td>\n",
       "    </tr>\n",
       "    <tr>\n",
       "      <th>10</th>\n",
       "      <td>Santa Catarina</td>\n",
       "      <td>2275</td>\n",
       "    </tr>\n",
       "    <tr>\n",
       "      <th>11</th>\n",
       "      <td>Amazonas</td>\n",
       "      <td>2206</td>\n",
       "    </tr>\n",
       "    <tr>\n",
       "      <th>12</th>\n",
       "      <td>Distrito Federal</td>\n",
       "      <td>2054</td>\n",
       "    </tr>\n",
       "    <tr>\n",
       "      <th>13</th>\n",
       "      <td>Mato Grosso</td>\n",
       "      <td>1800</td>\n",
       "    </tr>\n",
       "    <tr>\n",
       "      <th>14</th>\n",
       "      <td>Maranhão</td>\n",
       "      <td>1787</td>\n",
       "    </tr>\n",
       "    <tr>\n",
       "      <th>15</th>\n",
       "      <td>Rondônia</td>\n",
       "      <td>1537</td>\n",
       "    </tr>\n",
       "    <tr>\n",
       "      <th>16</th>\n",
       "      <td>Espírito Santo</td>\n",
       "      <td>1511</td>\n",
       "    </tr>\n",
       "    <tr>\n",
       "      <th>17</th>\n",
       "      <td>Mato Grosso do Sul</td>\n",
       "      <td>1440</td>\n",
       "    </tr>\n",
       "    <tr>\n",
       "      <th>18</th>\n",
       "      <td>Tocantins</td>\n",
       "      <td>1306</td>\n",
       "    </tr>\n",
       "    <tr>\n",
       "      <th>19</th>\n",
       "      <td>Sergipe</td>\n",
       "      <td>1287</td>\n",
       "    </tr>\n",
       "    <tr>\n",
       "      <th>20</th>\n",
       "      <td>Paraíba</td>\n",
       "      <td>1274</td>\n",
       "    </tr>\n",
       "    <tr>\n",
       "      <th>21</th>\n",
       "      <td>Piauí</td>\n",
       "      <td>1211</td>\n",
       "    </tr>\n",
       "    <tr>\n",
       "      <th>22</th>\n",
       "      <td>Rio Grande do Norte</td>\n",
       "      <td>973</td>\n",
       "    </tr>\n",
       "    <tr>\n",
       "      <th>23</th>\n",
       "      <td>Acre</td>\n",
       "      <td>937</td>\n",
       "    </tr>\n",
       "    <tr>\n",
       "      <th>24</th>\n",
       "      <td>Alagoas</td>\n",
       "      <td>903</td>\n",
       "    </tr>\n",
       "    <tr>\n",
       "      <th>25</th>\n",
       "      <td>Roraima</td>\n",
       "      <td>540</td>\n",
       "    </tr>\n",
       "    <tr>\n",
       "      <th>26</th>\n",
       "      <td>Amapá</td>\n",
       "      <td>512</td>\n",
       "    </tr>\n",
       "  </tbody>\n",
       "</table>\n",
       "</div>"
      ],
      "text/plain": [
       "                     UF  count\n",
       "0             São Paulo   8544\n",
       "1          Minas Gerais   7686\n",
       "2     Rio Grande do Sul   6322\n",
       "3                 Bahia   5717\n",
       "4        Rio de Janeiro   5556\n",
       "5                  Pará   4449\n",
       "6                Paraná   4356\n",
       "7            Pernambuco   3820\n",
       "8                 Goiás   3478\n",
       "9                 Ceará   3359\n",
       "10       Santa Catarina   2275\n",
       "11             Amazonas   2206\n",
       "12     Distrito Federal   2054\n",
       "13          Mato Grosso   1800\n",
       "14             Maranhão   1787\n",
       "15             Rondônia   1537\n",
       "16       Espírito Santo   1511\n",
       "17   Mato Grosso do Sul   1440\n",
       "18            Tocantins   1306\n",
       "19              Sergipe   1287\n",
       "20              Paraíba   1274\n",
       "21                Piauí   1211\n",
       "22  Rio Grande do Norte    973\n",
       "23                 Acre    937\n",
       "24              Alagoas    903\n",
       "25              Roraima    540\n",
       "26                Amapá    512"
      ]
     },
     "execution_count": 7,
     "metadata": {},
     "output_type": "execute_result"
    }
   ],
   "source": [
    "registros_uf = dados['UF'].value_counts().reset_index()\n",
    "registros_uf"
   ]
  },
  {
   "cell_type": "code",
   "execution_count": 8,
   "metadata": {
    "colab": {
     "base_uri": "https://localhost:8080/",
     "height": 449
    },
    "id": "Uvr8woqy9tWb",
    "outputId": "bf62fb78-2598-47c3-d4a2-2bd2459fd518"
   },
   "outputs": [
    {
     "data": {
      "image/png": "[encoded data removed]",
      "text/plain": [
       "<Figure size 640x480 with 1 Axes>"
      ]
     },
     "metadata": {},
     "output_type": "display_data"
    }
   ],
   "source": [
    "sns.barplot(data=registros_uf, x='count', y='UF')\n",
    "plt.show()"
   ]
  },
  {
   "cell_type": "markdown",
   "metadata": {
    "id": "8fTFk94y-ZUK"
   },
   "source": [
    "#### **Transforme as variáveis `Sexo`, `Cor` e `Anos.de.Estudo` em Categorical e observe o resultado**"
   ]
  },
  {
   "cell_type": "markdown",
   "metadata": {
    "id": "UUIelOM4-s9J"
   },
   "source": [
    "**Dica 1:** Para te auxiliar neste processo, a célula abaixo traz os vetores com os valores de cada coluna na ordem desejada.\n",
    "\n",
    "**Dica 2:** Utilize a tabela no início do documento para fazer a relação dos valores atuais para os desejados."
   ]
  },
  {
   "cell_type": "code",
   "execution_count": 9,
   "metadata": {
    "id": "Y-Db4dk--Y2x"
   },
   "outputs": [],
   "source": [
    "# Definindo as variáveis\n",
    "sexo = {0: 'Masculino', 1: 'Feminino'}\n",
    "\n",
    "cor = {0:'Indígena', 2:'Branca', 4:'Preta', 6:'Amarela', 8:'Parda'}\n",
    "\n",
    "anos_de_estudo = {1:'Sem instrução e menos de 1 ano', 2:'1 ano', 3:'2 anos', 4:'3 anos', 5:'4 anos', 6:'5 anos',\n",
    "    7:'6 anos', 8:'7 anos', 9:'8 anos', 10:'9 anos', 11:'10 anos', 12:'11 anos', 13:'12 anos',14:'13 anos',\n",
    "    15:'14 anos', 16:'15 anos ou mais', 17:'Não determinados'\n",
    "}"
   ]
  },
  {
   "cell_type": "code",
   "execution_count": 10,
   "metadata": {
    "colab": {
     "base_uri": "https://localhost:8080/",
     "height": 206
    },
    "id": "lxfNCBlibSZl",
    "outputId": "59508a0a-0d5f-474c-ee21-b19d03b7d5ff"
   },
   "outputs": [
    {
     "data": {
      "application/vnd.microsoft.datawrangler.viewer.v0+json": {
       "columns": [
        {
         "name": "index",
         "rawType": "int64",
         "type": "integer"
        },
        {
         "name": "UF",
         "rawType": "object",
         "type": "string"
        },
        {
         "name": "Sexo",
         "rawType": "int64",
         "type": "integer"
        },
        {
         "name": "Idade",
         "rawType": "int64",
         "type": "integer"
        },
        {
         "name": "Cor",
         "rawType": "int64",
         "type": "integer"
        },
        {
         "name": "Anos.de.Estudo",
         "rawType": "int64",
         "type": "integer"
        },
        {
         "name": "Renda",
         "rawType": "int64",
         "type": "integer"
        },
        {
         "name": "Altura",
         "rawType": "float64",
         "type": "float"
        }
       ],
       "ref": "1afc1243-63c7-4dc2-a298-5c92d68ee8d4",
       "rows": [
        [
         "0",
         "Rondônia",
         "0",
         "23",
         "8",
         "12",
         "800",
         "1.6"
        ],
        [
         "1",
         "Rondônia",
         "1",
         "23",
         "2",
         "12",
         "1150",
         "1.74"
        ],
        [
         "2",
         "Rondônia",
         "1",
         "35",
         "8",
         "15",
         "880",
         "1.76"
        ],
        [
         "3",
         "Rondônia",
         "0",
         "46",
         "2",
         "6",
         "3500",
         "1.78"
        ],
        [
         "4",
         "Rondônia",
         "1",
         "47",
         "8",
         "9",
         "150",
         "1.69"
        ]
       ],
       "shape": {
        "columns": 7,
        "rows": 5
       }
      },
      "text/html": [
       "<div>\n",
       "<style scoped>\n",
       "    .dataframe tbody tr th:only-of-type {\n",
       "        vertical-align: middle;\n",
       "    }\n",
       "\n",
       "    .dataframe tbody tr th {\n",
       "        vertical-align: top;\n",
       "    }\n",
       "\n",
       "    .dataframe thead th {\n",
       "        text-align: right;\n",
       "    }\n",
       "</style>\n",
       "<table border=\"1\" class=\"dataframe\">\n",
       "  <thead>\n",
       "    <tr style=\"text-align: right;\">\n",
       "      <th></th>\n",
       "      <th>UF</th>\n",
       "      <th>Sexo</th>\n",
       "      <th>Idade</th>\n",
       "      <th>Cor</th>\n",
       "      <th>Anos.de.Estudo</th>\n",
       "      <th>Renda</th>\n",
       "      <th>Altura</th>\n",
       "    </tr>\n",
       "  </thead>\n",
       "  <tbody>\n",
       "    <tr>\n",
       "      <th>0</th>\n",
       "      <td>Rondônia</td>\n",
       "      <td>0</td>\n",
       "      <td>23</td>\n",
       "      <td>8</td>\n",
       "      <td>12</td>\n",
       "      <td>800</td>\n",
       "      <td>1.60</td>\n",
       "    </tr>\n",
       "    <tr>\n",
       "      <th>1</th>\n",
       "      <td>Rondônia</td>\n",
       "      <td>1</td>\n",
       "      <td>23</td>\n",
       "      <td>2</td>\n",
       "      <td>12</td>\n",
       "      <td>1150</td>\n",
       "      <td>1.74</td>\n",
       "    </tr>\n",
       "    <tr>\n",
       "      <th>2</th>\n",
       "      <td>Rondônia</td>\n",
       "      <td>1</td>\n",
       "      <td>35</td>\n",
       "      <td>8</td>\n",
       "      <td>15</td>\n",
       "      <td>880</td>\n",
       "      <td>1.76</td>\n",
       "    </tr>\n",
       "    <tr>\n",
       "      <th>3</th>\n",
       "      <td>Rondônia</td>\n",
       "      <td>0</td>\n",
       "      <td>46</td>\n",
       "      <td>2</td>\n",
       "      <td>6</td>\n",
       "      <td>3500</td>\n",
       "      <td>1.78</td>\n",
       "    </tr>\n",
       "    <tr>\n",
       "      <th>4</th>\n",
       "      <td>Rondônia</td>\n",
       "      <td>1</td>\n",
       "      <td>47</td>\n",
       "      <td>8</td>\n",
       "      <td>9</td>\n",
       "      <td>150</td>\n",
       "      <td>1.69</td>\n",
       "    </tr>\n",
       "  </tbody>\n",
       "</table>\n",
       "</div>"
      ],
      "text/plain": [
       "         UF  Sexo  Idade  Cor  Anos.de.Estudo  Renda  Altura\n",
       "0  Rondônia     0     23    8              12    800    1.60\n",
       "1  Rondônia     1     23    2              12   1150    1.74\n",
       "2  Rondônia     1     35    8              15    880    1.76\n",
       "3  Rondônia     0     46    2               6   3500    1.78\n",
       "4  Rondônia     1     47    8               9    150    1.69"
      ]
     },
     "execution_count": 10,
     "metadata": {},
     "output_type": "execute_result"
    }
   ],
   "source": [
    "dados.head()"
   ]
  },
  {
   "cell_type": "markdown",
   "metadata": {
    "id": "oNXrD7nYbu9L"
   },
   "source": [
    "##### Sexo"
   ]
  },
  {
   "cell_type": "code",
   "execution_count": 11,
   "metadata": {
    "id": "P86ry_DJXtoo"
   },
   "outputs": [],
   "source": [
    "dados['Cat.Sexo'] = pd.Categorical(\n",
    "    dados['Sexo'],\n",
    "    categories=[0,1],\n",
    "   ordered=True\n",
    "  )"
   ]
  },
  {
   "cell_type": "code",
   "execution_count": 12,
   "metadata": {
    "colab": {
     "base_uri": "https://localhost:8080/",
     "height": 206
    },
    "id": "Dn2zr8xgv1PL",
    "outputId": "2f5c53e5-e61f-4357-b733-1e78aeb93294"
   },
   "outputs": [
    {
     "data": {
      "application/vnd.microsoft.datawrangler.viewer.v0+json": {
       "columns": [
        {
         "name": "index",
         "rawType": "int64",
         "type": "integer"
        },
        {
         "name": "UF",
         "rawType": "object",
         "type": "string"
        },
        {
         "name": "Sexo",
         "rawType": "int64",
         "type": "integer"
        },
        {
         "name": "Idade",
         "rawType": "int64",
         "type": "integer"
        },
        {
         "name": "Cor",
         "rawType": "int64",
         "type": "integer"
        },
        {
         "name": "Anos.de.Estudo",
         "rawType": "int64",
         "type": "integer"
        },
        {
         "name": "Renda",
         "rawType": "int64",
         "type": "integer"
        },
        {
         "name": "Altura",
         "rawType": "float64",
         "type": "float"
        },
        {
         "name": "Cat.Sexo",
         "rawType": "category",
         "type": "unknown"
        }
       ],
       "ref": "d7297192-72aa-4106-98fa-a4828d0778a2",
       "rows": [
        [
         "0",
         "Rondônia",
         "0",
         "23",
         "8",
         "12",
         "800",
         "1.6",
         "Masculino"
        ],
        [
         "1",
         "Rondônia",
         "1",
         "23",
         "2",
         "12",
         "1150",
         "1.74",
         "Feminino"
        ],
        [
         "2",
         "Rondônia",
         "1",
         "35",
         "8",
         "15",
         "880",
         "1.76",
         "Feminino"
        ],
        [
         "3",
         "Rondônia",
         "0",
         "46",
         "2",
         "6",
         "3500",
         "1.78",
         "Masculino"
        ],
        [
         "4",
         "Rondônia",
         "1",
         "47",
         "8",
         "9",
         "150",
         "1.69",
         "Feminino"
        ]
       ],
       "shape": {
        "columns": 8,
        "rows": 5
       }
      },
      "text/html": [
       "<div>\n",
       "<style scoped>\n",
       "    .dataframe tbody tr th:only-of-type {\n",
       "        vertical-align: middle;\n",
       "    }\n",
       "\n",
       "    .dataframe tbody tr th {\n",
       "        vertical-align: top;\n",
       "    }\n",
       "\n",
       "    .dataframe thead th {\n",
       "        text-align: right;\n",
       "    }\n",
       "</style>\n",
       "<table border=\"1\" class=\"dataframe\">\n",
       "  <thead>\n",
       "    <tr style=\"text-align: right;\">\n",
       "      <th></th>\n",
       "      <th>UF</th>\n",
       "      <th>Sexo</th>\n",
       "      <th>Idade</th>\n",
       "      <th>Cor</th>\n",
       "      <th>Anos.de.Estudo</th>\n",
       "      <th>Renda</th>\n",
       "      <th>Altura</th>\n",
       "      <th>Cat.Sexo</th>\n",
       "    </tr>\n",
       "  </thead>\n",
       "  <tbody>\n",
       "    <tr>\n",
       "      <th>0</th>\n",
       "      <td>Rondônia</td>\n",
       "      <td>0</td>\n",
       "      <td>23</td>\n",
       "      <td>8</td>\n",
       "      <td>12</td>\n",
       "      <td>800</td>\n",
       "      <td>1.60</td>\n",
       "      <td>Masculino</td>\n",
       "    </tr>\n",
       "    <tr>\n",
       "      <th>1</th>\n",
       "      <td>Rondônia</td>\n",
       "      <td>1</td>\n",
       "      <td>23</td>\n",
       "      <td>2</td>\n",
       "      <td>12</td>\n",
       "      <td>1150</td>\n",
       "      <td>1.74</td>\n",
       "      <td>Feminino</td>\n",
       "    </tr>\n",
       "    <tr>\n",
       "      <th>2</th>\n",
       "      <td>Rondônia</td>\n",
       "      <td>1</td>\n",
       "      <td>35</td>\n",
       "      <td>8</td>\n",
       "      <td>15</td>\n",
       "      <td>880</td>\n",
       "      <td>1.76</td>\n",
       "      <td>Feminino</td>\n",
       "    </tr>\n",
       "    <tr>\n",
       "      <th>3</th>\n",
       "      <td>Rondônia</td>\n",
       "      <td>0</td>\n",
       "      <td>46</td>\n",
       "      <td>2</td>\n",
       "      <td>6</td>\n",
       "      <td>3500</td>\n",
       "      <td>1.78</td>\n",
       "      <td>Masculino</td>\n",
       "    </tr>\n",
       "    <tr>\n",
       "      <th>4</th>\n",
       "      <td>Rondônia</td>\n",
       "      <td>1</td>\n",
       "      <td>47</td>\n",
       "      <td>8</td>\n",
       "      <td>9</td>\n",
       "      <td>150</td>\n",
       "      <td>1.69</td>\n",
       "      <td>Feminino</td>\n",
       "    </tr>\n",
       "  </tbody>\n",
       "</table>\n",
       "</div>"
      ],
      "text/plain": [
       "         UF  Sexo  Idade  Cor  Anos.de.Estudo  Renda  Altura   Cat.Sexo\n",
       "0  Rondônia     0     23    8              12    800    1.60  Masculino\n",
       "1  Rondônia     1     23    2              12   1150    1.74   Feminino\n",
       "2  Rondônia     1     35    8              15    880    1.76   Feminino\n",
       "3  Rondônia     0     46    2               6   3500    1.78  Masculino\n",
       "4  Rondônia     1     47    8               9    150    1.69   Feminino"
      ]
     },
     "execution_count": 12,
     "metadata": {},
     "output_type": "execute_result"
    }
   ],
   "source": [
    "dados['Cat.Sexo']  = dados['Cat.Sexo'].map(sexo)\n",
    "dados.head()"
   ]
  },
  {
   "cell_type": "code",
   "execution_count": 13,
   "metadata": {
    "colab": {
     "base_uri": "https://localhost:8080/",
     "height": 125
    },
    "id": "NAQ8aFGIXH0S",
    "outputId": "c5b0e673-a7bd-4a77-bfa4-66595b51f3eb"
   },
   "outputs": [
    {
     "data": {
      "application/vnd.microsoft.datawrangler.viewer.v0+json": {
       "columns": [
        {
         "name": "index",
         "rawType": "int64",
         "type": "integer"
        },
        {
         "name": "Sexo",
         "rawType": "int64",
         "type": "integer"
        },
        {
         "name": "Cat.Sexo",
         "rawType": "category",
         "type": "unknown"
        }
       ],
       "ref": "13bf9aa4-b835-477d-b94c-1dbbc8c6d608",
       "rows": [
        [
         "0",
         "0",
         "Masculino"
        ],
        [
         "1",
         "1",
         "Feminino"
        ]
       ],
       "shape": {
        "columns": 2,
        "rows": 2
       }
      },
      "text/html": [
       "<div>\n",
       "<style scoped>\n",
       "    .dataframe tbody tr th:only-of-type {\n",
       "        vertical-align: middle;\n",
       "    }\n",
       "\n",
       "    .dataframe tbody tr th {\n",
       "        vertical-align: top;\n",
       "    }\n",
       "\n",
       "    .dataframe thead th {\n",
       "        text-align: right;\n",
       "    }\n",
       "</style>\n",
       "<table border=\"1\" class=\"dataframe\">\n",
       "  <thead>\n",
       "    <tr style=\"text-align: right;\">\n",
       "      <th></th>\n",
       "      <th>Sexo</th>\n",
       "      <th>Cat.Sexo</th>\n",
       "    </tr>\n",
       "  </thead>\n",
       "  <tbody>\n",
       "    <tr>\n",
       "      <th>0</th>\n",
       "      <td>0</td>\n",
       "      <td>Masculino</td>\n",
       "    </tr>\n",
       "    <tr>\n",
       "      <th>1</th>\n",
       "      <td>1</td>\n",
       "      <td>Feminino</td>\n",
       "    </tr>\n",
       "  </tbody>\n",
       "</table>\n",
       "</div>"
      ],
      "text/plain": [
       "   Sexo   Cat.Sexo\n",
       "0     0  Masculino\n",
       "1     1   Feminino"
      ]
     },
     "execution_count": 13,
     "metadata": {},
     "output_type": "execute_result"
    }
   ],
   "source": [
    "# Selecionando valores distintos e ordenando por 'Cat.Sexo'\n",
    "dados_distintos = dados[['Sexo', 'Cat.Sexo']].drop_duplicates()\n",
    "dados_distintos"
   ]
  },
  {
   "cell_type": "markdown",
   "metadata": {
    "id": "qrrZ2J9kcCFl"
   },
   "source": [
    "##### Cor"
   ]
  },
  {
   "cell_type": "code",
   "execution_count": 14,
   "metadata": {
    "id": "jF8M0uM_Xtoo"
   },
   "outputs": [],
   "source": [
    "dados['Cat.Cor'] = pd.Categorical(\n",
    "    dados['Cor'],\n",
    "    categories=[0, 2, 4, 6, 8],\n",
    "   ordered=True\n",
    "  )"
   ]
  },
  {
   "cell_type": "code",
   "execution_count": 15,
   "metadata": {
    "colab": {
     "base_uri": "https://localhost:8080/",
     "height": 206
    },
    "id": "hYw4oqfxbWlE",
    "outputId": "cd7b2ae4-099b-41cd-845b-b038210d63c8"
   },
   "outputs": [
    {
     "data": {
      "application/vnd.microsoft.datawrangler.viewer.v0+json": {
       "columns": [
        {
         "name": "index",
         "rawType": "int64",
         "type": "integer"
        },
        {
         "name": "UF",
         "rawType": "object",
         "type": "string"
        },
        {
         "name": "Sexo",
         "rawType": "int64",
         "type": "integer"
        },
        {
         "name": "Idade",
         "rawType": "int64",
         "type": "integer"
        },
        {
         "name": "Cor",
         "rawType": "int64",
         "type": "integer"
        },
        {
         "name": "Anos.de.Estudo",
         "rawType": "int64",
         "type": "integer"
        },
        {
         "name": "Renda",
         "rawType": "int64",
         "type": "integer"
        },
        {
         "name": "Altura",
         "rawType": "float64",
         "type": "float"
        },
        {
         "name": "Cat.Sexo",
         "rawType": "category",
         "type": "unknown"
        },
        {
         "name": "Cat.Cor",
         "rawType": "category",
         "type": "unknown"
        }
       ],
       "ref": "e7021244-7c7d-454a-a11f-c7c6ee34d5af",
       "rows": [
        [
         "0",
         "Rondônia",
         "0",
         "23",
         "8",
         "12",
         "800",
         "1.6",
         "Masculino",
         "Parda"
        ],
        [
         "1",
         "Rondônia",
         "1",
         "23",
         "2",
         "12",
         "1150",
         "1.74",
         "Feminino",
         "Branca"
        ],
        [
         "2",
         "Rondônia",
         "1",
         "35",
         "8",
         "15",
         "880",
         "1.76",
         "Feminino",
         "Parda"
        ],
        [
         "3",
         "Rondônia",
         "0",
         "46",
         "2",
         "6",
         "3500",
         "1.78",
         "Masculino",
         "Branca"
        ],
        [
         "4",
         "Rondônia",
         "1",
         "47",
         "8",
         "9",
         "150",
         "1.69",
         "Feminino",
         "Parda"
        ]
       ],
       "shape": {
        "columns": 9,
        "rows": 5
       }
      },
      "text/html": [
       "<div>\n",
       "<style scoped>\n",
       "    .dataframe tbody tr th:only-of-type {\n",
       "        vertical-align: middle;\n",
       "    }\n",
       "\n",
       "    .dataframe tbody tr th {\n",
       "        vertical-align: top;\n",
       "    }\n",
       "\n",
       "    .dataframe thead th {\n",
       "        text-align: right;\n",
       "    }\n",
       "</style>\n",
       "<table border=\"1\" class=\"dataframe\">\n",
       "  <thead>\n",
       "    <tr style=\"text-align: right;\">\n",
       "      <th></th>\n",
       "      <th>UF</th>\n",
       "      <th>Sexo</th>\n",
       "      <th>Idade</th>\n",
       "      <th>Cor</th>\n",
       "      <th>Anos.de.Estudo</th>\n",
       "      <th>Renda</th>\n",
       "      <th>Altura</th>\n",
       "      <th>Cat.Sexo</th>\n",
       "      <th>Cat.Cor</th>\n",
       "    </tr>\n",
       "  </thead>\n",
       "  <tbody>\n",
       "    <tr>\n",
       "      <th>0</th>\n",
       "      <td>Rondônia</td>\n",
       "      <td>0</td>\n",
       "      <td>23</td>\n",
       "      <td>8</td>\n",
       "      <td>12</td>\n",
       "      <td>800</td>\n",
       "      <td>1.60</td>\n",
       "      <td>Masculino</td>\n",
       "      <td>Parda</td>\n",
       "    </tr>\n",
       "    <tr>\n",
       "      <th>1</th>\n",
       "      <td>Rondônia</td>\n",
       "      <td>1</td>\n",
       "      <td>23</td>\n",
       "      <td>2</td>\n",
       "      <td>12</td>\n",
       "      <td>1150</td>\n",
       "      <td>1.74</td>\n",
       "      <td>Feminino</td>\n",
       "      <td>Branca</td>\n",
       "    </tr>\n",
       "    <tr>\n",
       "      <th>2</th>\n",
       "      <td>Rondônia</td>\n",
       "      <td>1</td>\n",
       "      <td>35</td>\n",
       "      <td>8</td>\n",
       "      <td>15</td>\n",
       "      <td>880</td>\n",
       "      <td>1.76</td>\n",
       "      <td>Feminino</td>\n",
       "      <td>Parda</td>\n",
       "    </tr>\n",
       "    <tr>\n",
       "      <th>3</th>\n",
       "      <td>Rondônia</td>\n",
       "      <td>0</td>\n",
       "      <td>46</td>\n",
       "      <td>2</td>\n",
       "      <td>6</td>\n",
       "      <td>3500</td>\n",
       "      <td>1.78</td>\n",
       "      <td>Masculino</td>\n",
       "      <td>Branca</td>\n",
       "    </tr>\n",
       "    <tr>\n",
       "      <th>4</th>\n",
       "      <td>Rondônia</td>\n",
       "      <td>1</td>\n",
       "      <td>47</td>\n",
       "      <td>8</td>\n",
       "      <td>9</td>\n",
       "      <td>150</td>\n",
       "      <td>1.69</td>\n",
       "      <td>Feminino</td>\n",
       "      <td>Parda</td>\n",
       "    </tr>\n",
       "  </tbody>\n",
       "</table>\n",
       "</div>"
      ],
      "text/plain": [
       "         UF  Sexo  Idade  Cor  Anos.de.Estudo  Renda  Altura   Cat.Sexo  \\\n",
       "0  Rondônia     0     23    8              12    800    1.60  Masculino   \n",
       "1  Rondônia     1     23    2              12   1150    1.74   Feminino   \n",
       "2  Rondônia     1     35    8              15    880    1.76   Feminino   \n",
       "3  Rondônia     0     46    2               6   3500    1.78  Masculino   \n",
       "4  Rondônia     1     47    8               9    150    1.69   Feminino   \n",
       "\n",
       "  Cat.Cor  \n",
       "0   Parda  \n",
       "1  Branca  \n",
       "2   Parda  \n",
       "3  Branca  \n",
       "4   Parda  "
      ]
     },
     "execution_count": 15,
     "metadata": {},
     "output_type": "execute_result"
    }
   ],
   "source": [
    "dados['Cat.Cor'] = dados['Cat.Cor'].map(cor)\n",
    "\n",
    "dados.head()"
   ]
  },
  {
   "cell_type": "code",
   "execution_count": 16,
   "metadata": {
    "colab": {
     "base_uri": "https://localhost:8080/",
     "height": 206
    },
    "id": "ZpOYL7LebWlF",
    "outputId": "6e7bd66f-1403-45ef-d102-68cb2fb49a62"
   },
   "outputs": [
    {
     "data": {
      "application/vnd.microsoft.datawrangler.viewer.v0+json": {
       "columns": [
        {
         "name": "index",
         "rawType": "int64",
         "type": "integer"
        },
        {
         "name": "Cor",
         "rawType": "int64",
         "type": "integer"
        },
        {
         "name": "Cat.Cor",
         "rawType": "category",
         "type": "unknown"
        }
       ],
       "ref": "7d3625b6-19fd-4938-a4d8-268ea61b0dbf",
       "rows": [
        [
         "0",
         "8",
         "Parda"
        ],
        [
         "1",
         "2",
         "Branca"
        ],
        [
         "8",
         "4",
         "Preta"
        ],
        [
         "35",
         "6",
         "Amarela"
        ],
        [
         "659",
         "0",
         "Indígena"
        ]
       ],
       "shape": {
        "columns": 2,
        "rows": 5
       }
      },
      "text/html": [
       "<div>\n",
       "<style scoped>\n",
       "    .dataframe tbody tr th:only-of-type {\n",
       "        vertical-align: middle;\n",
       "    }\n",
       "\n",
       "    .dataframe tbody tr th {\n",
       "        vertical-align: top;\n",
       "    }\n",
       "\n",
       "    .dataframe thead th {\n",
       "        text-align: right;\n",
       "    }\n",
       "</style>\n",
       "<table border=\"1\" class=\"dataframe\">\n",
       "  <thead>\n",
       "    <tr style=\"text-align: right;\">\n",
       "      <th></th>\n",
       "      <th>Cor</th>\n",
       "      <th>Cat.Cor</th>\n",
       "    </tr>\n",
       "  </thead>\n",
       "  <tbody>\n",
       "    <tr>\n",
       "      <th>0</th>\n",
       "      <td>8</td>\n",
       "      <td>Parda</td>\n",
       "    </tr>\n",
       "    <tr>\n",
       "      <th>1</th>\n",
       "      <td>2</td>\n",
       "      <td>Branca</td>\n",
       "    </tr>\n",
       "    <tr>\n",
       "      <th>8</th>\n",
       "      <td>4</td>\n",
       "      <td>Preta</td>\n",
       "    </tr>\n",
       "    <tr>\n",
       "      <th>35</th>\n",
       "      <td>6</td>\n",
       "      <td>Amarela</td>\n",
       "    </tr>\n",
       "    <tr>\n",
       "      <th>659</th>\n",
       "      <td>0</td>\n",
       "      <td>Indígena</td>\n",
       "    </tr>\n",
       "  </tbody>\n",
       "</table>\n",
       "</div>"
      ],
      "text/plain": [
       "     Cor   Cat.Cor\n",
       "0      8     Parda\n",
       "1      2    Branca\n",
       "8      4     Preta\n",
       "35     6   Amarela\n",
       "659    0  Indígena"
      ]
     },
     "execution_count": 16,
     "metadata": {},
     "output_type": "execute_result"
    }
   ],
   "source": [
    "# Selecionando valores distintos e ordenando por 'Cat.Cor'\n",
    "dados_distintos = dados[['Cor', 'Cat.Cor']].drop_duplicates()\n",
    "dados_distintos"
   ]
  },
  {
   "cell_type": "markdown",
   "metadata": {
    "id": "ssIG-8t6cE5r"
   },
   "source": [
    "##### Anos de Estudo"
   ]
  },
  {
   "cell_type": "code",
   "execution_count": 17,
   "metadata": {
    "id": "Ko1gkMBGXtop"
   },
   "outputs": [],
   "source": [
    "dados['Cat.Anos.de.Estudo'] = pd.Categorical(\n",
    "    dados['Anos.de.Estudo'],\n",
    "    categories=range(1, 18),\n",
    "   ordered=True\n",
    "  )"
   ]
  },
  {
   "cell_type": "code",
   "execution_count": 18,
   "metadata": {
    "colab": {
     "base_uri": "https://localhost:8080/",
     "height": 206
    },
    "id": "MgDm6PK4ba6r",
    "outputId": "b3e3eb02-285d-4733-b96f-3773f5ee4d7d"
   },
   "outputs": [
    {
     "data": {
      "application/vnd.microsoft.datawrangler.viewer.v0+json": {
       "columns": [
        {
         "name": "index",
         "rawType": "int64",
         "type": "integer"
        },
        {
         "name": "UF",
         "rawType": "object",
         "type": "string"
        },
        {
         "name": "Sexo",
         "rawType": "int64",
         "type": "integer"
        },
        {
         "name": "Idade",
         "rawType": "int64",
         "type": "integer"
        },
        {
         "name": "Cor",
         "rawType": "int64",
         "type": "integer"
        },
        {
         "name": "Anos.de.Estudo",
         "rawType": "int64",
         "type": "integer"
        },
        {
         "name": "Renda",
         "rawType": "int64",
         "type": "integer"
        },
        {
         "name": "Altura",
         "rawType": "float64",
         "type": "float"
        },
        {
         "name": "Cat.Sexo",
         "rawType": "category",
         "type": "unknown"
        },
        {
         "name": "Cat.Cor",
         "rawType": "category",
         "type": "unknown"
        },
        {
         "name": "Cat.Anos.de.Estudo",
         "rawType": "category",
         "type": "unknown"
        }
       ],
       "ref": "76bf7af5-d03a-4201-97e1-b7ca34b947e3",
       "rows": [
        [
         "0",
         "Rondônia",
         "0",
         "23",
         "8",
         "12",
         "800",
         "1.6",
         "Masculino",
         "Parda",
         "11 anos"
        ],
        [
         "1",
         "Rondônia",
         "1",
         "23",
         "2",
         "12",
         "1150",
         "1.74",
         "Feminino",
         "Branca",
         "11 anos"
        ],
        [
         "2",
         "Rondônia",
         "1",
         "35",
         "8",
         "15",
         "880",
         "1.76",
         "Feminino",
         "Parda",
         "14 anos"
        ],
        [
         "3",
         "Rondônia",
         "0",
         "46",
         "2",
         "6",
         "3500",
         "1.78",
         "Masculino",
         "Branca",
         "5 anos"
        ],
        [
         "4",
         "Rondônia",
         "1",
         "47",
         "8",
         "9",
         "150",
         "1.69",
         "Feminino",
         "Parda",
         "8 anos"
        ]
       ],
       "shape": {
        "columns": 10,
        "rows": 5
       }
      },
      "text/html": [
       "<div>\n",
       "<style scoped>\n",
       "    .dataframe tbody tr th:only-of-type {\n",
       "        vertical-align: middle;\n",
       "    }\n",
       "\n",
       "    .dataframe tbody tr th {\n",
       "        vertical-align: top;\n",
       "    }\n",
       "\n",
       "    .dataframe thead th {\n",
       "        text-align: right;\n",
       "    }\n",
       "</style>\n",
       "<table border=\"1\" class=\"dataframe\">\n",
       "  <thead>\n",
       "    <tr style=\"text-align: right;\">\n",
       "      <th></th>\n",
       "      <th>UF</th>\n",
       "      <th>Sexo</th>\n",
       "      <th>Idade</th>\n",
       "      <th>Cor</th>\n",
       "      <th>Anos.de.Estudo</th>\n",
       "      <th>Renda</th>\n",
       "      <th>Altura</th>\n",
       "      <th>Cat.Sexo</th>\n",
       "      <th>Cat.Cor</th>\n",
       "      <th>Cat.Anos.de.Estudo</th>\n",
       "    </tr>\n",
       "  </thead>\n",
       "  <tbody>\n",
       "    <tr>\n",
       "      <th>0</th>\n",
       "      <td>Rondônia</td>\n",
       "      <td>0</td>\n",
       "      <td>23</td>\n",
       "      <td>8</td>\n",
       "      <td>12</td>\n",
       "      <td>800</td>\n",
       "      <td>1.60</td>\n",
       "      <td>Masculino</td>\n",
       "      <td>Parda</td>\n",
       "      <td>11 anos</td>\n",
       "    </tr>\n",
       "    <tr>\n",
       "      <th>1</th>\n",
       "      <td>Rondônia</td>\n",
       "      <td>1</td>\n",
       "      <td>23</td>\n",
       "      <td>2</td>\n",
       "      <td>12</td>\n",
       "      <td>1150</td>\n",
       "      <td>1.74</td>\n",
       "      <td>Feminino</td>\n",
       "      <td>Branca</td>\n",
       "      <td>11 anos</td>\n",
       "    </tr>\n",
       "    <tr>\n",
       "      <th>2</th>\n",
       "      <td>Rondônia</td>\n",
       "      <td>1</td>\n",
       "      <td>35</td>\n",
       "      <td>8</td>\n",
       "      <td>15</td>\n",
       "      <td>880</td>\n",
       "      <td>1.76</td>\n",
       "      <td>Feminino</td>\n",
       "      <td>Parda</td>\n",
       "      <td>14 anos</td>\n",
       "    </tr>\n",
       "    <tr>\n",
       "      <th>3</th>\n",
       "      <td>Rondônia</td>\n",
       "      <td>0</td>\n",
       "      <td>46</td>\n",
       "      <td>2</td>\n",
       "      <td>6</td>\n",
       "      <td>3500</td>\n",
       "      <td>1.78</td>\n",
       "      <td>Masculino</td>\n",
       "      <td>Branca</td>\n",
       "      <td>5 anos</td>\n",
       "    </tr>\n",
       "    <tr>\n",
       "      <th>4</th>\n",
       "      <td>Rondônia</td>\n",
       "      <td>1</td>\n",
       "      <td>47</td>\n",
       "      <td>8</td>\n",
       "      <td>9</td>\n",
       "      <td>150</td>\n",
       "      <td>1.69</td>\n",
       "      <td>Feminino</td>\n",
       "      <td>Parda</td>\n",
       "      <td>8 anos</td>\n",
       "    </tr>\n",
       "  </tbody>\n",
       "</table>\n",
       "</div>"
      ],
      "text/plain": [
       "         UF  Sexo  Idade  Cor  Anos.de.Estudo  Renda  Altura   Cat.Sexo  \\\n",
       "0  Rondônia     0     23    8              12    800    1.60  Masculino   \n",
       "1  Rondônia     1     23    2              12   1150    1.74   Feminino   \n",
       "2  Rondônia     1     35    8              15    880    1.76   Feminino   \n",
       "3  Rondônia     0     46    2               6   3500    1.78  Masculino   \n",
       "4  Rondônia     1     47    8               9    150    1.69   Feminino   \n",
       "\n",
       "  Cat.Cor Cat.Anos.de.Estudo  \n",
       "0   Parda            11 anos  \n",
       "1  Branca            11 anos  \n",
       "2   Parda            14 anos  \n",
       "3  Branca             5 anos  \n",
       "4   Parda             8 anos  "
      ]
     },
     "execution_count": 18,
     "metadata": {},
     "output_type": "execute_result"
    }
   ],
   "source": [
    "dados['Cat.Anos.de.Estudo'] = dados['Cat.Anos.de.Estudo'].map(anos_de_estudo)\n",
    "dados.head()"
   ]
  },
  {
   "cell_type": "code",
   "execution_count": 19,
   "metadata": {
    "colab": {
     "base_uri": "https://localhost:8080/",
     "height": 582
    },
    "id": "bev-3RVKba6s",
    "outputId": "fa224afb-27e0-4b97-b58e-8540ede7aef6"
   },
   "outputs": [
    {
     "data": {
      "application/vnd.microsoft.datawrangler.viewer.v0+json": {
       "columns": [
        {
         "name": "index",
         "rawType": "int64",
         "type": "integer"
        },
        {
         "name": "Anos.de.Estudo",
         "rawType": "int64",
         "type": "integer"
        },
        {
         "name": "Cat.Anos.de.Estudo",
         "rawType": "category",
         "type": "unknown"
        }
       ],
       "ref": "2d5c46a4-99c2-4458-a923-d16940fda288",
       "rows": [
        [
         "20",
         "1",
         "Sem instrução e menos de 1 ano"
        ],
        [
         "43",
         "2",
         "1 ano"
        ],
        [
         "37",
         "3",
         "2 anos"
        ],
        [
         "49",
         "4",
         "3 anos"
        ],
        [
         "22",
         "5",
         "4 anos"
        ],
        [
         "3",
         "6",
         "5 anos"
        ],
        [
         "36",
         "7",
         "6 anos"
        ],
        [
         "50",
         "8",
         "7 anos"
        ],
        [
         "4",
         "9",
         "8 anos"
        ],
        [
         "16",
         "10",
         "9 anos"
        ],
        [
         "62",
         "11",
         "10 anos"
        ],
        [
         "0",
         "12",
         "11 anos"
        ],
        [
         "160",
         "13",
         "12 anos"
        ],
        [
         "8",
         "14",
         "13 anos"
        ],
        [
         "2",
         "15",
         "14 anos"
        ],
        [
         "15",
         "16",
         "15 anos ou mais"
        ],
        [
         "74",
         "17",
         "Não determinados"
        ]
       ],
       "shape": {
        "columns": 2,
        "rows": 17
       }
      },
      "text/html": [
       "<div>\n",
       "<style scoped>\n",
       "    .dataframe tbody tr th:only-of-type {\n",
       "        vertical-align: middle;\n",
       "    }\n",
       "\n",
       "    .dataframe tbody tr th {\n",
       "        vertical-align: top;\n",
       "    }\n",
       "\n",
       "    .dataframe thead th {\n",
       "        text-align: right;\n",
       "    }\n",
       "</style>\n",
       "<table border=\"1\" class=\"dataframe\">\n",
       "  <thead>\n",
       "    <tr style=\"text-align: right;\">\n",
       "      <th></th>\n",
       "      <th>Anos.de.Estudo</th>\n",
       "      <th>Cat.Anos.de.Estudo</th>\n",
       "    </tr>\n",
       "  </thead>\n",
       "  <tbody>\n",
       "    <tr>\n",
       "      <th>20</th>\n",
       "      <td>1</td>\n",
       "      <td>Sem instrução e menos de 1 ano</td>\n",
       "    </tr>\n",
       "    <tr>\n",
       "      <th>43</th>\n",
       "      <td>2</td>\n",
       "      <td>1 ano</td>\n",
       "    </tr>\n",
       "    <tr>\n",
       "      <th>37</th>\n",
       "      <td>3</td>\n",
       "      <td>2 anos</td>\n",
       "    </tr>\n",
       "    <tr>\n",
       "      <th>49</th>\n",
       "      <td>4</td>\n",
       "      <td>3 anos</td>\n",
       "    </tr>\n",
       "    <tr>\n",
       "      <th>22</th>\n",
       "      <td>5</td>\n",
       "      <td>4 anos</td>\n",
       "    </tr>\n",
       "    <tr>\n",
       "      <th>3</th>\n",
       "      <td>6</td>\n",
       "      <td>5 anos</td>\n",
       "    </tr>\n",
       "    <tr>\n",
       "      <th>36</th>\n",
       "      <td>7</td>\n",
       "      <td>6 anos</td>\n",
       "    </tr>\n",
       "    <tr>\n",
       "      <th>50</th>\n",
       "      <td>8</td>\n",
       "      <td>7 anos</td>\n",
       "    </tr>\n",
       "    <tr>\n",
       "      <th>4</th>\n",
       "      <td>9</td>\n",
       "      <td>8 anos</td>\n",
       "    </tr>\n",
       "    <tr>\n",
       "      <th>16</th>\n",
       "      <td>10</td>\n",
       "      <td>9 anos</td>\n",
       "    </tr>\n",
       "    <tr>\n",
       "      <th>62</th>\n",
       "      <td>11</td>\n",
       "      <td>10 anos</td>\n",
       "    </tr>\n",
       "    <tr>\n",
       "      <th>0</th>\n",
       "      <td>12</td>\n",
       "      <td>11 anos</td>\n",
       "    </tr>\n",
       "    <tr>\n",
       "      <th>160</th>\n",
       "      <td>13</td>\n",
       "      <td>12 anos</td>\n",
       "    </tr>\n",
       "    <tr>\n",
       "      <th>8</th>\n",
       "      <td>14</td>\n",
       "      <td>13 anos</td>\n",
       "    </tr>\n",
       "    <tr>\n",
       "      <th>2</th>\n",
       "      <td>15</td>\n",
       "      <td>14 anos</td>\n",
       "    </tr>\n",
       "    <tr>\n",
       "      <th>15</th>\n",
       "      <td>16</td>\n",
       "      <td>15 anos ou mais</td>\n",
       "    </tr>\n",
       "    <tr>\n",
       "      <th>74</th>\n",
       "      <td>17</td>\n",
       "      <td>Não determinados</td>\n",
       "    </tr>\n",
       "  </tbody>\n",
       "</table>\n",
       "</div>"
      ],
      "text/plain": [
       "     Anos.de.Estudo              Cat.Anos.de.Estudo\n",
       "20                1  Sem instrução e menos de 1 ano\n",
       "43                2                           1 ano\n",
       "37                3                          2 anos\n",
       "49                4                          3 anos\n",
       "22                5                          4 anos\n",
       "3                 6                          5 anos\n",
       "36                7                          6 anos\n",
       "50                8                          7 anos\n",
       "4                 9                          8 anos\n",
       "16               10                          9 anos\n",
       "62               11                         10 anos\n",
       "0                12                         11 anos\n",
       "160              13                         12 anos\n",
       "8                14                         13 anos\n",
       "2                15                         14 anos\n",
       "15               16                 15 anos ou mais\n",
       "74               17                Não determinados"
      ]
     },
     "execution_count": 19,
     "metadata": {},
     "output_type": "execute_result"
    }
   ],
   "source": [
    "# Selecionando valores distintos e ordenando por 'Cat.Anos.de.Estudo'\n",
    "dados_distintos = dados[['Anos.de.Estudo', 'Cat.Anos.de.Estudo']].drop_duplicates().sort_values(by='Cat.Anos.de.Estudo')\n",
    "dados_distintos"
   ]
  },
  {
   "cell_type": "code",
   "execution_count": 20,
   "metadata": {
    "colab": {
     "base_uri": "https://localhost:8080/",
     "height": 206
    },
    "id": "JQXv8ZtFbVYk",
    "outputId": "468da3ef-6e6f-4684-bd8c-179e4b81ef10"
   },
   "outputs": [
    {
     "data": {
      "application/vnd.microsoft.datawrangler.viewer.v0+json": {
       "columns": [
        {
         "name": "index",
         "rawType": "int64",
         "type": "integer"
        },
        {
         "name": "UF",
         "rawType": "object",
         "type": "string"
        },
        {
         "name": "Sexo",
         "rawType": "int64",
         "type": "integer"
        },
        {
         "name": "Idade",
         "rawType": "int64",
         "type": "integer"
        },
        {
         "name": "Cor",
         "rawType": "int64",
         "type": "integer"
        },
        {
         "name": "Anos.de.Estudo",
         "rawType": "int64",
         "type": "integer"
        },
        {
         "name": "Renda",
         "rawType": "int64",
         "type": "integer"
        },
        {
         "name": "Altura",
         "rawType": "float64",
         "type": "float"
        },
        {
         "name": "Cat.Sexo",
         "rawType": "category",
         "type": "unknown"
        },
        {
         "name": "Cat.Cor",
         "rawType": "category",
         "type": "unknown"
        },
        {
         "name": "Cat.Anos.de.Estudo",
         "rawType": "category",
         "type": "unknown"
        }
       ],
       "ref": "77a98c4f-70c5-461f-be43-62cfcdcc3886",
       "rows": [
        [
         "0",
         "Rondônia",
         "0",
         "23",
         "8",
         "12",
         "800",
         "1.6",
         "Masculino",
         "Parda",
         "11 anos"
        ],
        [
         "1",
         "Rondônia",
         "1",
         "23",
         "2",
         "12",
         "1150",
         "1.74",
         "Feminino",
         "Branca",
         "11 anos"
        ],
        [
         "2",
         "Rondônia",
         "1",
         "35",
         "8",
         "15",
         "880",
         "1.76",
         "Feminino",
         "Parda",
         "14 anos"
        ],
        [
         "3",
         "Rondônia",
         "0",
         "46",
         "2",
         "6",
         "3500",
         "1.78",
         "Masculino",
         "Branca",
         "5 anos"
        ],
        [
         "4",
         "Rondônia",
         "1",
         "47",
         "8",
         "9",
         "150",
         "1.69",
         "Feminino",
         "Parda",
         "8 anos"
        ]
       ],
       "shape": {
        "columns": 10,
        "rows": 5
       }
      },
      "text/html": [
       "<div>\n",
       "<style scoped>\n",
       "    .dataframe tbody tr th:only-of-type {\n",
       "        vertical-align: middle;\n",
       "    }\n",
       "\n",
       "    .dataframe tbody tr th {\n",
       "        vertical-align: top;\n",
       "    }\n",
       "\n",
       "    .dataframe thead th {\n",
       "        text-align: right;\n",
       "    }\n",
       "</style>\n",
       "<table border=\"1\" class=\"dataframe\">\n",
       "  <thead>\n",
       "    <tr style=\"text-align: right;\">\n",
       "      <th></th>\n",
       "      <th>UF</th>\n",
       "      <th>Sexo</th>\n",
       "      <th>Idade</th>\n",
       "      <th>Cor</th>\n",
       "      <th>Anos.de.Estudo</th>\n",
       "      <th>Renda</th>\n",
       "      <th>Altura</th>\n",
       "      <th>Cat.Sexo</th>\n",
       "      <th>Cat.Cor</th>\n",
       "      <th>Cat.Anos.de.Estudo</th>\n",
       "    </tr>\n",
       "  </thead>\n",
       "  <tbody>\n",
       "    <tr>\n",
       "      <th>0</th>\n",
       "      <td>Rondônia</td>\n",
       "      <td>0</td>\n",
       "      <td>23</td>\n",
       "      <td>8</td>\n",
       "      <td>12</td>\n",
       "      <td>800</td>\n",
       "      <td>1.60</td>\n",
       "      <td>Masculino</td>\n",
       "      <td>Parda</td>\n",
       "      <td>11 anos</td>\n",
       "    </tr>\n",
       "    <tr>\n",
       "      <th>1</th>\n",
       "      <td>Rondônia</td>\n",
       "      <td>1</td>\n",
       "      <td>23</td>\n",
       "      <td>2</td>\n",
       "      <td>12</td>\n",
       "      <td>1150</td>\n",
       "      <td>1.74</td>\n",
       "      <td>Feminino</td>\n",
       "      <td>Branca</td>\n",
       "      <td>11 anos</td>\n",
       "    </tr>\n",
       "    <tr>\n",
       "      <th>2</th>\n",
       "      <td>Rondônia</td>\n",
       "      <td>1</td>\n",
       "      <td>35</td>\n",
       "      <td>8</td>\n",
       "      <td>15</td>\n",
       "      <td>880</td>\n",
       "      <td>1.76</td>\n",
       "      <td>Feminino</td>\n",
       "      <td>Parda</td>\n",
       "      <td>14 anos</td>\n",
       "    </tr>\n",
       "    <tr>\n",
       "      <th>3</th>\n",
       "      <td>Rondônia</td>\n",
       "      <td>0</td>\n",
       "      <td>46</td>\n",
       "      <td>2</td>\n",
       "      <td>6</td>\n",
       "      <td>3500</td>\n",
       "      <td>1.78</td>\n",
       "      <td>Masculino</td>\n",
       "      <td>Branca</td>\n",
       "      <td>5 anos</td>\n",
       "    </tr>\n",
       "    <tr>\n",
       "      <th>4</th>\n",
       "      <td>Rondônia</td>\n",
       "      <td>1</td>\n",
       "      <td>47</td>\n",
       "      <td>8</td>\n",
       "      <td>9</td>\n",
       "      <td>150</td>\n",
       "      <td>1.69</td>\n",
       "      <td>Feminino</td>\n",
       "      <td>Parda</td>\n",
       "      <td>8 anos</td>\n",
       "    </tr>\n",
       "  </tbody>\n",
       "</table>\n",
       "</div>"
      ],
      "text/plain": [
       "         UF  Sexo  Idade  Cor  Anos.de.Estudo  Renda  Altura   Cat.Sexo  \\\n",
       "0  Rondônia     0     23    8              12    800    1.60  Masculino   \n",
       "1  Rondônia     1     23    2              12   1150    1.74   Feminino   \n",
       "2  Rondônia     1     35    8              15    880    1.76   Feminino   \n",
       "3  Rondônia     0     46    2               6   3500    1.78  Masculino   \n",
       "4  Rondônia     1     47    8               9    150    1.69   Feminino   \n",
       "\n",
       "  Cat.Cor Cat.Anos.de.Estudo  \n",
       "0   Parda            11 anos  \n",
       "1  Branca            11 anos  \n",
       "2   Parda            14 anos  \n",
       "3  Branca             5 anos  \n",
       "4   Parda             8 anos  "
      ]
     },
     "execution_count": 20,
     "metadata": {},
     "output_type": "execute_result"
    }
   ],
   "source": [
    "dados.head()"
   ]
  },
  {
   "cell_type": "markdown",
   "metadata": {
    "id": "kZO79aSSgp7w"
   },
   "source": [
    "#### **Apresente em texto a menor e maior `Renda` da base de dados**"
   ]
  },
  {
   "cell_type": "markdown",
   "metadata": {
    "id": "L3vbQxRRiMF0"
   },
   "source": [
    "**Dica:** A renda é uma medida discreta. Utilizamos f-strings para formatar a string de forma mais legível e eficiente, substituindo diretamente as variáveis dentro da string"
   ]
  },
  {
   "cell_type": "code",
   "execution_count": 21,
   "metadata": {
    "colab": {
     "base_uri": "https://localhost:8080/"
    },
    "id": "GkmDkp_Gg9PI",
    "outputId": "ac5b1919-31c6-4c6b-a875-d59beda6a937"
   },
   "outputs": [
    {
     "name": "stdout",
     "output_type": "stream",
     "text": [
      "A menor Renda da base de dados é de R$0.00 e a maior é de R$ 200,000\n"
     ]
    }
   ],
   "source": [
    "print(f\"A menor Renda da base de dados é de R${min(dados['Renda']):,.2f} e a maior é de R$ {max(dados['Renda']):,.0f}\")"
   ]
  },
  {
   "cell_type": "markdown",
   "metadata": {
    "id": "ix1N_JAH_T1C"
   },
   "source": [
    "## **Aula 02 - Identificando o perfil do público**"
   ]
  },
  {
   "cell_type": "markdown",
   "metadata": {
    "id": "J_4eNIp7i6Rh"
   },
   "source": [
    "### **Mão na Massa - Analisando o perfil das pessoas responsáveis**"
   ]
  },
  {
   "cell_type": "markdown",
   "metadata": {
    "id": "0rBGP9HaAQJj"
   },
   "source": [
    "Vamos prosseguir no treinamento, agora identificando o perfil das pessoas responsáveis pelo domicílio de acordo com os dados da PNAD de 2015. Responda às perguntas abaixo e reflita sobre os achados."
   ]
  },
  {
   "cell_type": "markdown",
   "metadata": {
    "id": "IMiAX2onkchv"
   },
   "source": [
    "#### **Construa uma tabela de frequências das pessoas responsáveis pelo domicílio por `Cat.Sexo`. Adicione também uma coluna com esse valor em porcentagem.**"
   ]
  },
  {
   "cell_type": "code",
   "execution_count": 22,
   "metadata": {
    "id": "E6NP8FE5Xtou"
   },
   "outputs": [
    {
     "data": {
      "application/vnd.microsoft.datawrangler.viewer.v0+json": {
       "columns": [
        {
         "name": "index",
         "rawType": "int64",
         "type": "integer"
        },
        {
         "name": "UF",
         "rawType": "object",
         "type": "string"
        },
        {
         "name": "Sexo",
         "rawType": "int64",
         "type": "integer"
        },
        {
         "name": "Idade",
         "rawType": "int64",
         "type": "integer"
        },
        {
         "name": "Cor",
         "rawType": "int64",
         "type": "integer"
        },
        {
         "name": "Anos.de.Estudo",
         "rawType": "int64",
         "type": "integer"
        },
        {
         "name": "Renda",
         "rawType": "int64",
         "type": "integer"
        },
        {
         "name": "Altura",
         "rawType": "float64",
         "type": "float"
        },
        {
         "name": "Cat.Sexo",
         "rawType": "category",
         "type": "unknown"
        },
        {
         "name": "Cat.Cor",
         "rawType": "category",
         "type": "unknown"
        },
        {
         "name": "Cat.Anos.de.Estudo",
         "rawType": "category",
         "type": "unknown"
        }
       ],
       "ref": "0956bb98-f131-44a3-a7fc-5d747f4db669",
       "rows": [
        [
         "0",
         "Rondônia",
         "0",
         "23",
         "8",
         "12",
         "800",
         "1.6",
         "Masculino",
         "Parda",
         "11 anos"
        ],
        [
         "1",
         "Rondônia",
         "1",
         "23",
         "2",
         "12",
         "1150",
         "1.74",
         "Feminino",
         "Branca",
         "11 anos"
        ],
        [
         "2",
         "Rondônia",
         "1",
         "35",
         "8",
         "15",
         "880",
         "1.76",
         "Feminino",
         "Parda",
         "14 anos"
        ],
        [
         "3",
         "Rondônia",
         "0",
         "46",
         "2",
         "6",
         "3500",
         "1.78",
         "Masculino",
         "Branca",
         "5 anos"
        ],
        [
         "4",
         "Rondônia",
         "1",
         "47",
         "8",
         "9",
         "150",
         "1.69",
         "Feminino",
         "Parda",
         "8 anos"
        ]
       ],
       "shape": {
        "columns": 10,
        "rows": 5
       }
      },
      "text/html": [
       "<div>\n",
       "<style scoped>\n",
       "    .dataframe tbody tr th:only-of-type {\n",
       "        vertical-align: middle;\n",
       "    }\n",
       "\n",
       "    .dataframe tbody tr th {\n",
       "        vertical-align: top;\n",
       "    }\n",
       "\n",
       "    .dataframe thead th {\n",
       "        text-align: right;\n",
       "    }\n",
       "</style>\n",
       "<table border=\"1\" class=\"dataframe\">\n",
       "  <thead>\n",
       "    <tr style=\"text-align: right;\">\n",
       "      <th></th>\n",
       "      <th>UF</th>\n",
       "      <th>Sexo</th>\n",
       "      <th>Idade</th>\n",
       "      <th>Cor</th>\n",
       "      <th>Anos.de.Estudo</th>\n",
       "      <th>Renda</th>\n",
       "      <th>Altura</th>\n",
       "      <th>Cat.Sexo</th>\n",
       "      <th>Cat.Cor</th>\n",
       "      <th>Cat.Anos.de.Estudo</th>\n",
       "    </tr>\n",
       "  </thead>\n",
       "  <tbody>\n",
       "    <tr>\n",
       "      <th>0</th>\n",
       "      <td>Rondônia</td>\n",
       "      <td>0</td>\n",
       "      <td>23</td>\n",
       "      <td>8</td>\n",
       "      <td>12</td>\n",
       "      <td>800</td>\n",
       "      <td>1.60</td>\n",
       "      <td>Masculino</td>\n",
       "      <td>Parda</td>\n",
       "      <td>11 anos</td>\n",
       "    </tr>\n",
       "    <tr>\n",
       "      <th>1</th>\n",
       "      <td>Rondônia</td>\n",
       "      <td>1</td>\n",
       "      <td>23</td>\n",
       "      <td>2</td>\n",
       "      <td>12</td>\n",
       "      <td>1150</td>\n",
       "      <td>1.74</td>\n",
       "      <td>Feminino</td>\n",
       "      <td>Branca</td>\n",
       "      <td>11 anos</td>\n",
       "    </tr>\n",
       "    <tr>\n",
       "      <th>2</th>\n",
       "      <td>Rondônia</td>\n",
       "      <td>1</td>\n",
       "      <td>35</td>\n",
       "      <td>8</td>\n",
       "      <td>15</td>\n",
       "      <td>880</td>\n",
       "      <td>1.76</td>\n",
       "      <td>Feminino</td>\n",
       "      <td>Parda</td>\n",
       "      <td>14 anos</td>\n",
       "    </tr>\n",
       "    <tr>\n",
       "      <th>3</th>\n",
       "      <td>Rondônia</td>\n",
       "      <td>0</td>\n",
       "      <td>46</td>\n",
       "      <td>2</td>\n",
       "      <td>6</td>\n",
       "      <td>3500</td>\n",
       "      <td>1.78</td>\n",
       "      <td>Masculino</td>\n",
       "      <td>Branca</td>\n",
       "      <td>5 anos</td>\n",
       "    </tr>\n",
       "    <tr>\n",
       "      <th>4</th>\n",
       "      <td>Rondônia</td>\n",
       "      <td>1</td>\n",
       "      <td>47</td>\n",
       "      <td>8</td>\n",
       "      <td>9</td>\n",
       "      <td>150</td>\n",
       "      <td>1.69</td>\n",
       "      <td>Feminino</td>\n",
       "      <td>Parda</td>\n",
       "      <td>8 anos</td>\n",
       "    </tr>\n",
       "  </tbody>\n",
       "</table>\n",
       "</div>"
      ],
      "text/plain": [
       "         UF  Sexo  Idade  Cor  Anos.de.Estudo  Renda  Altura   Cat.Sexo  \\\n",
       "0  Rondônia     0     23    8              12    800    1.60  Masculino   \n",
       "1  Rondônia     1     23    2              12   1150    1.74   Feminino   \n",
       "2  Rondônia     1     35    8              15    880    1.76   Feminino   \n",
       "3  Rondônia     0     46    2               6   3500    1.78  Masculino   \n",
       "4  Rondônia     1     47    8               9    150    1.69   Feminino   \n",
       "\n",
       "  Cat.Cor Cat.Anos.de.Estudo  \n",
       "0   Parda            11 anos  \n",
       "1  Branca            11 anos  \n",
       "2   Parda            14 anos  \n",
       "3  Branca             5 anos  \n",
       "4   Parda             8 anos  "
      ]
     },
     "execution_count": 22,
     "metadata": {},
     "output_type": "execute_result"
    }
   ],
   "source": [
    "dados.head()"
   ]
  },
  {
   "cell_type": "code",
   "execution_count": 25,
   "metadata": {
    "id": "XL5HmtPMXtou"
   },
   "outputs": [
    {
     "data": {
      "application/vnd.microsoft.datawrangler.viewer.v0+json": {
       "columns": [
        {
         "name": "index",
         "rawType": "int64",
         "type": "integer"
        },
        {
         "name": "Cat.Sexo",
         "rawType": "category",
         "type": "unknown"
        },
        {
         "name": "freq_absoluta",
         "rawType": "int64",
         "type": "integer"
        }
       ],
       "ref": "bebe407e-4e10-4ac6-a73e-5e8b982a5fe0",
       "rows": [
        [
         "0",
         "Masculino",
         "53250"
        ],
        [
         "1",
         "Feminino",
         "23590"
        ]
       ],
       "shape": {
        "columns": 2,
        "rows": 2
       }
      },
      "text/html": [
       "<div>\n",
       "<style scoped>\n",
       "    .dataframe tbody tr th:only-of-type {\n",
       "        vertical-align: middle;\n",
       "    }\n",
       "\n",
       "    .dataframe tbody tr th {\n",
       "        vertical-align: top;\n",
       "    }\n",
       "\n",
       "    .dataframe thead th {\n",
       "        text-align: right;\n",
       "    }\n",
       "</style>\n",
       "<table border=\"1\" class=\"dataframe\">\n",
       "  <thead>\n",
       "    <tr style=\"text-align: right;\">\n",
       "      <th></th>\n",
       "      <th>Cat.Sexo</th>\n",
       "      <th>freq_absoluta</th>\n",
       "    </tr>\n",
       "  </thead>\n",
       "  <tbody>\n",
       "    <tr>\n",
       "      <th>0</th>\n",
       "      <td>Masculino</td>\n",
       "      <td>53250</td>\n",
       "    </tr>\n",
       "    <tr>\n",
       "      <th>1</th>\n",
       "      <td>Feminino</td>\n",
       "      <td>23590</td>\n",
       "    </tr>\n",
       "  </tbody>\n",
       "</table>\n",
       "</div>"
      ],
      "text/plain": [
       "    Cat.Sexo  freq_absoluta\n",
       "0  Masculino          53250\n",
       "1   Feminino          23590"
      ]
     },
     "execution_count": 25,
     "metadata": {},
     "output_type": "execute_result"
    }
   ],
   "source": [
    "# Calculando a frequência absoluta\n",
    "freq_sexo = dados.groupby('Cat.Sexo', observed=False).size().reset_index(name='freq_absoluta')\n",
    "\n",
    "freq_sexo"
   ]
  },
  {
   "cell_type": "code",
   "execution_count": 26,
   "metadata": {
    "id": "bBwY9qb0Xtou"
   },
   "outputs": [
    {
     "data": {
      "application/vnd.microsoft.datawrangler.viewer.v0+json": {
       "columns": [
        {
         "name": "index",
         "rawType": "int64",
         "type": "integer"
        },
        {
         "name": "Cat.Sexo",
         "rawType": "category",
         "type": "unknown"
        },
        {
         "name": "freq_absoluta",
         "rawType": "int64",
         "type": "integer"
        },
        {
         "name": "freq_relativa",
         "rawType": "float64",
         "type": "float"
        }
       ],
       "ref": "ef6d866f-ddbb-4f1f-848a-c5942e1cb12c",
       "rows": [
        [
         "0",
         "Masculino",
         "53250",
         "69.3"
        ],
        [
         "1",
         "Feminino",
         "23590",
         "30.7"
        ]
       ],
       "shape": {
        "columns": 3,
        "rows": 2
       }
      },
      "text/html": [
       "<div>\n",
       "<style scoped>\n",
       "    .dataframe tbody tr th:only-of-type {\n",
       "        vertical-align: middle;\n",
       "    }\n",
       "\n",
       "    .dataframe tbody tr th {\n",
       "        vertical-align: top;\n",
       "    }\n",
       "\n",
       "    .dataframe thead th {\n",
       "        text-align: right;\n",
       "    }\n",
       "</style>\n",
       "<table border=\"1\" class=\"dataframe\">\n",
       "  <thead>\n",
       "    <tr style=\"text-align: right;\">\n",
       "      <th></th>\n",
       "      <th>Cat.Sexo</th>\n",
       "      <th>freq_absoluta</th>\n",
       "      <th>freq_relativa</th>\n",
       "    </tr>\n",
       "  </thead>\n",
       "  <tbody>\n",
       "    <tr>\n",
       "      <th>0</th>\n",
       "      <td>Masculino</td>\n",
       "      <td>53250</td>\n",
       "      <td>69.3</td>\n",
       "    </tr>\n",
       "    <tr>\n",
       "      <th>1</th>\n",
       "      <td>Feminino</td>\n",
       "      <td>23590</td>\n",
       "      <td>30.7</td>\n",
       "    </tr>\n",
       "  </tbody>\n",
       "</table>\n",
       "</div>"
      ],
      "text/plain": [
       "    Cat.Sexo  freq_absoluta  freq_relativa\n",
       "0  Masculino          53250           69.3\n",
       "1   Feminino          23590           30.7"
      ]
     },
     "execution_count": 26,
     "metadata": {},
     "output_type": "execute_result"
    }
   ],
   "source": [
    "freq_sexo['freq_relativa'] = round((freq_sexo['freq_absoluta'] / freq_sexo['freq_absoluta'].sum()) * 100, 1)\n",
    "freq_sexo"
   ]
  },
  {
   "cell_type": "code",
   "execution_count": 27,
   "metadata": {},
   "outputs": [
    {
     "data": {
      "application/vnd.microsoft.datawrangler.viewer.v0+json": {
       "columns": [
        {
         "name": "index",
         "rawType": "int64",
         "type": "integer"
        },
        {
         "name": "Sexo",
         "rawType": "category",
         "type": "unknown"
        },
        {
         "name": "Quantidade",
         "rawType": "int64",
         "type": "integer"
        },
        {
         "name": "Porcentagem (%)",
         "rawType": "float64",
         "type": "float"
        }
       ],
       "ref": "39ad3cb6-c47e-4504-85d3-a8badc9ab2c0",
       "rows": [
        [
         "0",
         "Masculino",
         "53250",
         "69.3"
        ],
        [
         "1",
         "Feminino",
         "23590",
         "30.7"
        ]
       ],
       "shape": {
        "columns": 3,
        "rows": 2
       }
      },
      "text/html": [
       "<div>\n",
       "<style scoped>\n",
       "    .dataframe tbody tr th:only-of-type {\n",
       "        vertical-align: middle;\n",
       "    }\n",
       "\n",
       "    .dataframe tbody tr th {\n",
       "        vertical-align: top;\n",
       "    }\n",
       "\n",
       "    .dataframe thead th {\n",
       "        text-align: right;\n",
       "    }\n",
       "</style>\n",
       "<table border=\"1\" class=\"dataframe\">\n",
       "  <thead>\n",
       "    <tr style=\"text-align: right;\">\n",
       "      <th></th>\n",
       "      <th>Sexo</th>\n",
       "      <th>Quantidade</th>\n",
       "      <th>Porcentagem (%)</th>\n",
       "    </tr>\n",
       "  </thead>\n",
       "  <tbody>\n",
       "    <tr>\n",
       "      <th>0</th>\n",
       "      <td>Masculino</td>\n",
       "      <td>53250</td>\n",
       "      <td>69.3</td>\n",
       "    </tr>\n",
       "    <tr>\n",
       "      <th>1</th>\n",
       "      <td>Feminino</td>\n",
       "      <td>23590</td>\n",
       "      <td>30.7</td>\n",
       "    </tr>\n",
       "  </tbody>\n",
       "</table>\n",
       "</div>"
      ],
      "text/plain": [
       "        Sexo  Quantidade  Porcentagem (%)\n",
       "0  Masculino       53250             69.3\n",
       "1   Feminino       23590             30.7"
      ]
     },
     "execution_count": 27,
     "metadata": {},
     "output_type": "execute_result"
    }
   ],
   "source": [
    "freq_sexo.columns = ['Sexo', 'Quantidade', 'Porcentagem (%)']\n",
    "freq_sexo"
   ]
  },
  {
   "cell_type": "markdown",
   "metadata": {
    "id": "oN452vflnRlO"
   },
   "source": [
    "#### **Construa uma tabela de frequências absolutas e outra de relativas cruzando as variáveis `Cat.Sexo` e `Cat.Cor` das pessoas responsáveis pelo domicílio.**"
   ]
  },
  {
   "cell_type": "code",
   "execution_count": 28,
   "metadata": {
    "id": "Y5BlKKKRXtou"
   },
   "outputs": [
    {
     "data": {
      "application/vnd.microsoft.datawrangler.viewer.v0+json": {
       "columns": [
        {
         "name": "Cat.Sexo",
         "rawType": "category",
         "type": "unknown"
        },
        {
         "name": "Indígena",
         "rawType": "int64",
         "type": "integer"
        },
        {
         "name": "Branca",
         "rawType": "int64",
         "type": "integer"
        },
        {
         "name": "Preta",
         "rawType": "int64",
         "type": "integer"
        },
        {
         "name": "Amarela",
         "rawType": "int64",
         "type": "integer"
        },
        {
         "name": "Parda",
         "rawType": "int64",
         "type": "integer"
        }
       ],
       "ref": "2a3c15c6-6563-4520-8fb0-404647d1d3b7",
       "rows": [
        [
         "Masculino",
         "256",
         "22194",
         "5502",
         "235",
         "25063"
        ],
        [
         "Feminino",
         "101",
         "9621",
         "2889",
         "117",
         "10862"
        ]
       ],
       "shape": {
        "columns": 5,
        "rows": 2
       }
      },
      "text/html": [
       "<div>\n",
       "<style scoped>\n",
       "    .dataframe tbody tr th:only-of-type {\n",
       "        vertical-align: middle;\n",
       "    }\n",
       "\n",
       "    .dataframe tbody tr th {\n",
       "        vertical-align: top;\n",
       "    }\n",
       "\n",
       "    .dataframe thead th {\n",
       "        text-align: right;\n",
       "    }\n",
       "</style>\n",
       "<table border=\"1\" class=\"dataframe\">\n",
       "  <thead>\n",
       "    <tr style=\"text-align: right;\">\n",
       "      <th>Cat.Cor</th>\n",
       "      <th>Indígena</th>\n",
       "      <th>Branca</th>\n",
       "      <th>Preta</th>\n",
       "      <th>Amarela</th>\n",
       "      <th>Parda</th>\n",
       "    </tr>\n",
       "    <tr>\n",
       "      <th>Cat.Sexo</th>\n",
       "      <th></th>\n",
       "      <th></th>\n",
       "      <th></th>\n",
       "      <th></th>\n",
       "      <th></th>\n",
       "    </tr>\n",
       "  </thead>\n",
       "  <tbody>\n",
       "    <tr>\n",
       "      <th>Masculino</th>\n",
       "      <td>256</td>\n",
       "      <td>22194</td>\n",
       "      <td>5502</td>\n",
       "      <td>235</td>\n",
       "      <td>25063</td>\n",
       "    </tr>\n",
       "    <tr>\n",
       "      <th>Feminino</th>\n",
       "      <td>101</td>\n",
       "      <td>9621</td>\n",
       "      <td>2889</td>\n",
       "      <td>117</td>\n",
       "      <td>10862</td>\n",
       "    </tr>\n",
       "  </tbody>\n",
       "</table>\n",
       "</div>"
      ],
      "text/plain": [
       "Cat.Cor    Indígena  Branca  Preta  Amarela  Parda\n",
       "Cat.Sexo                                          \n",
       "Masculino       256   22194   5502      235  25063\n",
       "Feminino        101    9621   2889      117  10862"
      ]
     },
     "execution_count": 28,
     "metadata": {},
     "output_type": "execute_result"
    }
   ],
   "source": [
    "freq_absoluta = pd.crosstab(dados['Cat.Sexo'], dados['Cat.Cor'])\n",
    "freq_absoluta"
   ]
  },
  {
   "cell_type": "code",
   "execution_count": 29,
   "metadata": {
    "id": "xeMqH84nXtou"
   },
   "outputs": [
    {
     "data": {
      "application/vnd.microsoft.datawrangler.viewer.v0+json": {
       "columns": [
        {
         "name": "Cat.Sexo",
         "rawType": "category",
         "type": "unknown"
        },
        {
         "name": "Indígena",
         "rawType": "float64",
         "type": "float"
        },
        {
         "name": "Branca",
         "rawType": "float64",
         "type": "float"
        },
        {
         "name": "Preta",
         "rawType": "float64",
         "type": "float"
        },
        {
         "name": "Amarela",
         "rawType": "float64",
         "type": "float"
        },
        {
         "name": "Parda",
         "rawType": "float64",
         "type": "float"
        }
       ],
       "ref": "0eabefde-181a-4907-971e-73cbd79011bd",
       "rows": [
        [
         "Masculino",
         "0.33",
         "28.88",
         "7.16",
         "0.31",
         "32.62"
        ],
        [
         "Feminino",
         "0.13",
         "12.52",
         "3.76",
         "0.15",
         "14.14"
        ]
       ],
       "shape": {
        "columns": 5,
        "rows": 2
       }
      },
      "text/html": [
       "<div>\n",
       "<style scoped>\n",
       "    .dataframe tbody tr th:only-of-type {\n",
       "        vertical-align: middle;\n",
       "    }\n",
       "\n",
       "    .dataframe tbody tr th {\n",
       "        vertical-align: top;\n",
       "    }\n",
       "\n",
       "    .dataframe thead th {\n",
       "        text-align: right;\n",
       "    }\n",
       "</style>\n",
       "<table border=\"1\" class=\"dataframe\">\n",
       "  <thead>\n",
       "    <tr style=\"text-align: right;\">\n",
       "      <th>Cat.Cor</th>\n",
       "      <th>Indígena</th>\n",
       "      <th>Branca</th>\n",
       "      <th>Preta</th>\n",
       "      <th>Amarela</th>\n",
       "      <th>Parda</th>\n",
       "    </tr>\n",
       "    <tr>\n",
       "      <th>Cat.Sexo</th>\n",
       "      <th></th>\n",
       "      <th></th>\n",
       "      <th></th>\n",
       "      <th></th>\n",
       "      <th></th>\n",
       "    </tr>\n",
       "  </thead>\n",
       "  <tbody>\n",
       "    <tr>\n",
       "      <th>Masculino</th>\n",
       "      <td>0.33</td>\n",
       "      <td>28.88</td>\n",
       "      <td>7.16</td>\n",
       "      <td>0.31</td>\n",
       "      <td>32.62</td>\n",
       "    </tr>\n",
       "    <tr>\n",
       "      <th>Feminino</th>\n",
       "      <td>0.13</td>\n",
       "      <td>12.52</td>\n",
       "      <td>3.76</td>\n",
       "      <td>0.15</td>\n",
       "      <td>14.14</td>\n",
       "    </tr>\n",
       "  </tbody>\n",
       "</table>\n",
       "</div>"
      ],
      "text/plain": [
       "Cat.Cor    Indígena  Branca  Preta  Amarela  Parda\n",
       "Cat.Sexo                                          \n",
       "Masculino      0.33   28.88   7.16     0.31  32.62\n",
       "Feminino       0.13   12.52   3.76     0.15  14.14"
      ]
     },
     "execution_count": 29,
     "metadata": {},
     "output_type": "execute_result"
    }
   ],
   "source": [
    "freq_relativa = round(pd.crosstab(dados['Cat.Sexo'], dados['Cat.Cor'], normalize = 'all') * 100,2)\n",
    "freq_relativa"
   ]
  },
  {
   "cell_type": "markdown",
   "metadata": {
    "id": "gxFG42FfwpN1"
   },
   "source": [
    "> #### Conclusões\n",
    "\n",
    "Escreva suas conclusões aqui..."
   ]
  },
  {
   "cell_type": "markdown",
   "metadata": {
    "id": "Opcp5rprwrlX"
   },
   "source": [
    "#### **Construa uma tabela cruzada para calcular a `Renda` média das pessoas responsáveis pelo domicílio em relação ao `Cat.Sexo` e `Cat.Cor`.**"
   ]
  },
  {
   "cell_type": "code",
   "execution_count": 30,
   "metadata": {
    "id": "NvLzkEFAXtov"
   },
   "outputs": [
    {
     "data": {
      "application/vnd.microsoft.datawrangler.viewer.v0+json": {
       "columns": [
        {
         "name": "Cat.Sexo",
         "rawType": "category",
         "type": "unknown"
        },
        {
         "name": "Indígena",
         "rawType": "float64",
         "type": "float"
        },
        {
         "name": "Branca",
         "rawType": "float64",
         "type": "float"
        },
        {
         "name": "Preta",
         "rawType": "float64",
         "type": "float"
        },
        {
         "name": "Amarela",
         "rawType": "float64",
         "type": "float"
        },
        {
         "name": "Parda",
         "rawType": "float64",
         "type": "float"
        }
       ],
       "ref": "858331c5-b68e-4637-a1dd-fd27861a7db0",
       "rows": [
        [
         "Masculino",
         "1081.71",
         "2925.74",
         "1603.86",
         "4758.25",
         "1659.58"
        ],
        [
         "Feminino",
         "2464.39",
         "2109.87",
         "1134.6",
         "3027.34",
         "1176.76"
        ]
       ],
       "shape": {
        "columns": 5,
        "rows": 2
       }
      },
      "text/html": [
       "<div>\n",
       "<style scoped>\n",
       "    .dataframe tbody tr th:only-of-type {\n",
       "        vertical-align: middle;\n",
       "    }\n",
       "\n",
       "    .dataframe tbody tr th {\n",
       "        vertical-align: top;\n",
       "    }\n",
       "\n",
       "    .dataframe thead th {\n",
       "        text-align: right;\n",
       "    }\n",
       "</style>\n",
       "<table border=\"1\" class=\"dataframe\">\n",
       "  <thead>\n",
       "    <tr style=\"text-align: right;\">\n",
       "      <th>Cat.Cor</th>\n",
       "      <th>Indígena</th>\n",
       "      <th>Branca</th>\n",
       "      <th>Preta</th>\n",
       "      <th>Amarela</th>\n",
       "      <th>Parda</th>\n",
       "    </tr>\n",
       "    <tr>\n",
       "      <th>Cat.Sexo</th>\n",
       "      <th></th>\n",
       "      <th></th>\n",
       "      <th></th>\n",
       "      <th></th>\n",
       "      <th></th>\n",
       "    </tr>\n",
       "  </thead>\n",
       "  <tbody>\n",
       "    <tr>\n",
       "      <th>Masculino</th>\n",
       "      <td>1081.71</td>\n",
       "      <td>2925.74</td>\n",
       "      <td>1603.86</td>\n",
       "      <td>4758.25</td>\n",
       "      <td>1659.58</td>\n",
       "    </tr>\n",
       "    <tr>\n",
       "      <th>Feminino</th>\n",
       "      <td>2464.39</td>\n",
       "      <td>2109.87</td>\n",
       "      <td>1134.60</td>\n",
       "      <td>3027.34</td>\n",
       "      <td>1176.76</td>\n",
       "    </tr>\n",
       "  </tbody>\n",
       "</table>\n",
       "</div>"
      ],
      "text/plain": [
       "Cat.Cor    Indígena   Branca    Preta  Amarela    Parda\n",
       "Cat.Sexo                                               \n",
       "Masculino   1081.71  2925.74  1603.86  4758.25  1659.58\n",
       "Feminino    2464.39  2109.87  1134.60  3027.34  1176.76"
      ]
     },
     "execution_count": 30,
     "metadata": {},
     "output_type": "execute_result"
    }
   ],
   "source": [
    "ticket_medio = round(pd.crosstab(dados['Cat.Sexo'], dados['Cat.Cor'], values=dados['Renda'], aggfunc='mean'), 2)\n",
    "\n",
    "ticket_medio"
   ]
  },
  {
   "cell_type": "markdown",
   "metadata": {
    "id": "d5Iwt1EKwNfp"
   },
   "source": [
    "> #### Conclusões\n",
    "\n",
    "Escreva suas conclusões aqui..."
   ]
  },
  {
   "cell_type": "markdown",
   "metadata": {
    "id": "1uTAdILB_T6m"
   },
   "source": [
    "## **Aula 03 - Analisando a tendência dos dados**"
   ]
  },
  {
   "cell_type": "markdown",
   "metadata": {
    "id": "vJ0a5l-Di79U"
   },
   "source": [
    "### **Mão na Massa - Analisando a renda das pessoas responsáveis**"
   ]
  },
  {
   "cell_type": "markdown",
   "metadata": {
    "id": "xAZjitTs-roh"
   },
   "source": [
    "Nesta etapa do treinamento, vamos analisar mais dados das pessoas responsáveis pelo domicílio de acordo com os dados da PNAD de 2015, focando na renda e na variável que criamos com as suas alturas. Responda às perguntas abaixo e reflita sobre os achados."
   ]
  },
  {
   "cell_type": "markdown",
   "metadata": {
    "id": "pTpoxoY7-roj"
   },
   "source": [
    "#### **Calcule as medidas de tendência central (média, mediana e moda) para a variável `Renda`**"
   ]
  },
  {
   "cell_type": "code",
   "execution_count": null,
   "metadata": {
    "id": "ytmlX1C-Xtov"
   },
   "outputs": [],
   "source": []
  },
  {
   "cell_type": "code",
   "execution_count": null,
   "metadata": {
    "id": "kNOZHfIiXtow"
   },
   "outputs": [],
   "source": []
  },
  {
   "cell_type": "code",
   "execution_count": null,
   "metadata": {
    "id": "RYTiQ8ovXtow"
   },
   "outputs": [],
   "source": []
  },
  {
   "cell_type": "code",
   "execution_count": null,
   "metadata": {
    "id": "A976zqVkXtow"
   },
   "outputs": [],
   "source": []
  },
  {
   "cell_type": "markdown",
   "metadata": {
    "id": "ICXWPxBCB9F3"
   },
   "source": [
    "#### **Crie um gráfico de barras do Top 5 estados pela médias de `Renda`**"
   ]
  },
  {
   "cell_type": "markdown",
   "metadata": {
    "id": "Fn0HRjQTFcqc"
   },
   "source": [
    "**Dica:** Para conseguir apresentar apenas os Top 5 estados utilize a função `head()` passando como variável quantos valores deseja apresentar."
   ]
  },
  {
   "cell_type": "code",
   "execution_count": null,
   "metadata": {
    "id": "uTQzy5V5Xtow"
   },
   "outputs": [],
   "source": []
  },
  {
   "cell_type": "code",
   "execution_count": null,
   "metadata": {
    "id": "Be5M4awWXtow"
   },
   "outputs": [],
   "source": []
  },
  {
   "cell_type": "code",
   "execution_count": null,
   "metadata": {
    "id": "0u2__aAlXtow"
   },
   "outputs": [],
   "source": []
  },
  {
   "cell_type": "markdown",
   "metadata": {
    "id": "-3RjEjJrKa0J"
   },
   "source": [
    "> #### Conclusões\n",
    "\n",
    "Escreva suas conclusões aqui..."
   ]
  },
  {
   "cell_type": "markdown",
   "metadata": {
    "id": "7wYIJXkt-roo"
   },
   "source": [
    "#### **Construa 3 tabelas cruzadas calculando a média, mediana e valores máximos de `Renda` relacionando as pessoas responsáveis por estado da Região Sudeste (`UF`) e por `Cat.Sexo`**"
   ]
  },
  {
   "cell_type": "code",
   "execution_count": null,
   "metadata": {
    "id": "5FaQK20tXtox"
   },
   "outputs": [],
   "source": []
  },
  {
   "cell_type": "markdown",
   "metadata": {
    "id": "FtNN9kkiKfK4"
   },
   "source": [
    "##### **Média**"
   ]
  },
  {
   "cell_type": "code",
   "execution_count": null,
   "metadata": {
    "id": "x2fqntcpXtox"
   },
   "outputs": [],
   "source": []
  },
  {
   "cell_type": "markdown",
   "metadata": {
    "id": "I_HNBCdWKjyX"
   },
   "source": [
    "##### **Mediana**"
   ]
  },
  {
   "cell_type": "code",
   "execution_count": null,
   "metadata": {
    "id": "o9pKlHJyXtox"
   },
   "outputs": [],
   "source": []
  },
  {
   "cell_type": "markdown",
   "metadata": {
    "id": "m4bFpespKk2Y"
   },
   "source": [
    "##### **Renda Máxima**"
   ]
  },
  {
   "cell_type": "code",
   "execution_count": null,
   "metadata": {
    "id": "t1RA2GoSXtox"
   },
   "outputs": [],
   "source": []
  },
  {
   "cell_type": "markdown",
   "metadata": {
    "id": "4d19wJraKcQX"
   },
   "source": [
    "> #### Conclusões\n",
    "\n",
    "Escreva suas conclusões aqui..."
   ]
  },
  {
   "cell_type": "markdown",
   "metadata": {
    "id": "Jk7hNSEKC6Bf"
   },
   "source": [
    "#### **Construa 2 histogramas com curva de densidade com os valores das colunas `Altura` e `Idade` de todas as pessoas responsáveis e compare as curvas obtidas com as suas  MTCs**"
   ]
  },
  {
   "cell_type": "markdown",
   "metadata": {
    "id": "zE321QEALLSH"
   },
   "source": [
    "##### **Altura**"
   ]
  },
  {
   "cell_type": "code",
   "execution_count": null,
   "metadata": {
    "id": "DPriM1CYXtoy"
   },
   "outputs": [],
   "source": []
  },
  {
   "cell_type": "code",
   "execution_count": null,
   "metadata": {
    "id": "mG5faapyXtoy"
   },
   "outputs": [],
   "source": []
  },
  {
   "cell_type": "markdown",
   "metadata": {
    "id": "B5ZUa7OF-ror"
   },
   "source": [
    "> #### Conclusões\n",
    "\n",
    "Escreva suas conclusões aqui..."
   ]
  },
  {
   "cell_type": "markdown",
   "metadata": {
    "id": "whm6etapM6Ni"
   },
   "source": [
    "##### **Idade**"
   ]
  },
  {
   "cell_type": "code",
   "execution_count": null,
   "metadata": {
    "id": "yHlqHvObXtoy"
   },
   "outputs": [],
   "source": []
  },
  {
   "cell_type": "code",
   "execution_count": null,
   "metadata": {
    "id": "-V7xSHAUXtoy"
   },
   "outputs": [],
   "source": []
  },
  {
   "cell_type": "markdown",
   "metadata": {
    "id": "8E3XCvRYM9Qz"
   },
   "source": [
    "> #### Conclusões\n",
    "\n",
    "Escreva suas conclusões aqui..."
   ]
  },
  {
   "cell_type": "markdown",
   "metadata": {
    "id": "i_X1NcH9_T-u"
   },
   "source": [
    "## **Aula 04 - Investigando os dados dos colaboradores**"
   ]
  },
  {
   "cell_type": "markdown",
   "metadata": {
    "id": "hd7f_bUIi8ty"
   },
   "source": [
    "### **Mão na Massa - Analisando as rendas e suas divisões**"
   ]
  },
  {
   "cell_type": "markdown",
   "metadata": {
    "id": "_PehOjjeVL1Y"
   },
   "source": [
    "Nesta etapa do treinamento, vamos analisar os dados das pessoas responsáveis pelo domicílio de acordo com os dados da PNAD de 2015, por meio das medidas separatrizes. Responda às perguntas abaixo e reflita sobre os achados.\n"
   ]
  },
  {
   "cell_type": "markdown",
   "metadata": {
    "id": "NENRGQVdY3fq"
   },
   "source": [
    "#### **Calcule o número de classes para `Renda` até R$15.000 utilizando a regra de Sturges**"
   ]
  },
  {
   "cell_type": "markdown",
   "metadata": {
    "id": "cBeURnT-1mvR"
   },
   "source": [
    "$$k = 1 + \\frac {10}{3}\\log_{10}n$$\n",
    "\n",
    "onde,\n",
    "\n",
    "$k$ = número de classes\n",
    "\n",
    "$n$ = número de observações.\n"
   ]
  },
  {
   "cell_type": "code",
   "execution_count": null,
   "metadata": {
    "id": "9d1TeIqbXtoz"
   },
   "outputs": [],
   "source": []
  },
  {
   "cell_type": "code",
   "execution_count": null,
   "metadata": {
    "id": "RT8bf8y9Xtoz"
   },
   "outputs": [],
   "source": []
  },
  {
   "cell_type": "code",
   "execution_count": null,
   "metadata": {
    "id": "pvpT9_joXtoz"
   },
   "outputs": [],
   "source": []
  },
  {
   "cell_type": "code",
   "execution_count": null,
   "metadata": {
    "id": "iKVSRDURXtoz"
   },
   "outputs": [],
   "source": []
  },
  {
   "cell_type": "code",
   "execution_count": null,
   "metadata": {
    "id": "HT6OLbGNXtoz"
   },
   "outputs": [],
   "source": []
  },
  {
   "cell_type": "markdown",
   "metadata": {
    "id": "jOLZSNmHY3fv"
   },
   "source": [
    "#### **Crie o histograma da `Renda` das pessoas responsáveis até R$15.000 seguindo o número de classes calculado anteriormente**"
   ]
  },
  {
   "cell_type": "markdown",
   "metadata": {
    "id": "ycnq6L-I24cO"
   },
   "source": [
    "> **Observação:** Ao rodar o código para dividir os dados em faixas é possível que você observe o limite inferior da 1ª faixa com um valor negativo. Isto porque a *Regra de Sturges* define o intervalo mínimo da 1ª classe pela seguinte fórmula: $min(Renda) - (max(Renda) - min(Renda)) * 0.001$.\n",
    "\n"
   ]
  },
  {
   "cell_type": "code",
   "execution_count": null,
   "metadata": {
    "id": "mdCodeRxXto1"
   },
   "outputs": [],
   "source": []
  },
  {
   "cell_type": "code",
   "execution_count": null,
   "metadata": {
    "id": "7hoE9ErrXto1"
   },
   "outputs": [],
   "source": []
  },
  {
   "cell_type": "code",
   "execution_count": null,
   "metadata": {
    "id": "Sxx6xyVOXto1"
   },
   "outputs": [],
   "source": []
  },
  {
   "cell_type": "markdown",
   "metadata": {
    "id": "MRRzLUVVY3fz"
   },
   "source": [
    "> #### Conclusões\n",
    "\n",
    "Escreva suas conclusões aqui..."
   ]
  },
  {
   "cell_type": "markdown",
   "metadata": {
    "id": "CY3P_t7CiUmK"
   },
   "source": [
    "#### **Responda as seguintes questões sobre o nosso dataset completo utilizando os conceitos que estudamos até aqui:**"
   ]
  },
  {
   "cell_type": "markdown",
   "metadata": {
    "id": "1eRC8Ko0B-8u"
   },
   "source": [
    "##### **1. Qual o percentual de pessoas responsáveis que ganhava até um salário mínimo em 2015 (R$ 788,00)?**\n",
    "\n"
   ]
  },
  {
   "cell_type": "code",
   "execution_count": null,
   "metadata": {
    "id": "QVWL8ROHXto1"
   },
   "outputs": [],
   "source": []
  },
  {
   "cell_type": "markdown",
   "metadata": {
    "id": "DG8AZfpRY3f3"
   },
   "source": [
    "##### **2. Qual a renda máxima de 95% das pessoas responsáveis na pesquisa?**\n"
   ]
  },
  {
   "cell_type": "code",
   "execution_count": null,
   "metadata": {
    "id": "kfhFp5EPXto2"
   },
   "outputs": [],
   "source": []
  },
  {
   "cell_type": "markdown",
   "metadata": {
    "id": "uPqMZkacY3f5"
   },
   "source": [
    "##### **3.   Qual a renda mínima dos 1% mais bem pagos da pesquisa?**"
   ]
  },
  {
   "cell_type": "code",
   "execution_count": null,
   "metadata": {
    "id": "dYHUHREoXto2"
   },
   "outputs": [],
   "source": []
  },
  {
   "cell_type": "markdown",
   "metadata": {
    "id": "J8R5TK2_Y3f1"
   },
   "source": [
    "##### **4. Qual a renda máxima de 25%, 50% e 75% das pessoas responsáveis que receberam até R$ 6.000 de rendimento mensal? Construa o boxplot e traga o resumo desses dados.**\n"
   ]
  },
  {
   "cell_type": "code",
   "execution_count": null,
   "metadata": {
    "id": "i7RJ-u_pXto2"
   },
   "outputs": [],
   "source": []
  },
  {
   "cell_type": "code",
   "execution_count": null,
   "metadata": {
    "id": "-wNCQFR3Xto2"
   },
   "outputs": [],
   "source": []
  },
  {
   "cell_type": "code",
   "execution_count": null,
   "metadata": {
    "id": "Zs3mvYF-Xto2"
   },
   "outputs": [],
   "source": []
  },
  {
   "cell_type": "markdown",
   "metadata": {
    "id": "OEVJhNXlY3f6"
   },
   "source": [
    "> #### Conclusões\n",
    "\n",
    "Escreva suas conclusões aqui..."
   ]
  },
  {
   "cell_type": "markdown",
   "metadata": {
    "id": "ZGVF4ZrrY3f7"
   },
   "source": [
    "#### **Construa o boxplot da `Renda` até o percentil 95% (`renda_6k`) das pessoas responsáveis por `Cat.Sexo` e `Cat.Cor`. Interprete o resultado.**"
   ]
  },
  {
   "cell_type": "markdown",
   "metadata": {
    "id": "hmcRkp8GHsT3"
   },
   "source": [
    "**Dica:** Para incluir uma 3ª variável na construção de um boxplot, utilize o parâmetro `hue` da seguinte maneira: `(x = Renda, y = Cat.Cor, hue = Cat.Sexo)`."
   ]
  },
  {
   "cell_type": "code",
   "execution_count": null,
   "metadata": {
    "id": "HCfpsRQwXto2"
   },
   "outputs": [],
   "source": []
  },
  {
   "cell_type": "markdown",
   "metadata": {
    "id": "u5QwAmCdlsW_"
   },
   "source": [
    "#### **Qual a idade limite para 20% da população? Construa o histograma acumulado com curva de densidade, definindo a idade limite e quantas pessoas se encaixam nessa porcentagem.**"
   ]
  },
  {
   "cell_type": "markdown",
   "metadata": {
    "id": "xtzRs-kPJnoX"
   },
   "source": [
    "**Dica:** Para ler os últimos valores de um DataFrame utilize a função `tail()`.\n",
    "\n",
    "Exemplo: `df.tail(3)` lê os ultimos 3 registros do DataFrame `df`."
   ]
  },
  {
   "cell_type": "code",
   "execution_count": null,
   "metadata": {
    "id": "s_4gARVuXto3"
   },
   "outputs": [],
   "source": []
  },
  {
   "cell_type": "code",
   "execution_count": null,
   "metadata": {
    "id": "7J9TTEdAXto3"
   },
   "outputs": [],
   "source": []
  },
  {
   "cell_type": "code",
   "execution_count": null,
   "metadata": {
    "id": "sg4MixvRXto3"
   },
   "outputs": [],
   "source": []
  },
  {
   "cell_type": "code",
   "execution_count": null,
   "metadata": {
    "id": "Snoys3s1Xto3"
   },
   "outputs": [],
   "source": []
  },
  {
   "cell_type": "code",
   "execution_count": null,
   "metadata": {
    "id": "LIHw0QFSXto3"
   },
   "outputs": [],
   "source": []
  },
  {
   "cell_type": "code",
   "execution_count": null,
   "metadata": {
    "id": "JDil7UulXto3"
   },
   "outputs": [],
   "source": []
  },
  {
   "cell_type": "code",
   "execution_count": null,
   "metadata": {
    "id": "3JSUmtiTXto3"
   },
   "outputs": [],
   "source": []
  },
  {
   "cell_type": "markdown",
   "metadata": {
    "id": "4D6YPAnvY3f-"
   },
   "source": [
    "> #### Conclusões\n",
    "\n",
    "Escreva suas conclusões aqui..."
   ]
  },
  {
   "cell_type": "markdown",
   "metadata": {
    "id": "8oiQ6DsahpRv"
   },
   "source": [
    "## **Aula 05 - Analisando a variação dos dados**"
   ]
  },
  {
   "cell_type": "markdown",
   "metadata": {
    "id": "41X1NLZpi9Z_"
   },
   "source": [
    "### **Mão na Massa - Analisando a variação da Renda das pessoas responsáveis**"
   ]
  },
  {
   "cell_type": "markdown",
   "metadata": {
    "id": "iBC8rHu8MJw5"
   },
   "source": [
    "Nesta última etapa do treinamento, vamos analisar os dados de renda das pessoas responsáveis pelo domicílio de acordo com os dados da PNAD de 2015, calculando a variação desta para determinadas características da amostra. Responda às perguntas abaixo e reflita sobre os achados.\n"
   ]
  },
  {
   "cell_type": "markdown",
   "metadata": {
    "id": "_M9dh9-Bnnak"
   },
   "source": [
    "#### **Responda as seguintes questões sobre o nosso dataset utilizando os conceitos que estudamos até aqui:**"
   ]
  },
  {
   "cell_type": "markdown",
   "metadata": {
    "id": "s3M82GT_nnal"
   },
   "source": [
    "##### **1.   Qual o desvio médio absoluto, a variância e desvio padrão da renda das pessoas responsáveis na pesquisa?**\n",
    "\n",
    "\n",
    "\n"
   ]
  },
  {
   "cell_type": "code",
   "execution_count": null,
   "metadata": {
    "id": "YaPACv6CXto4"
   },
   "outputs": [],
   "source": []
  },
  {
   "cell_type": "markdown",
   "metadata": {
    "id": "6F0H8I-MdhB9"
   },
   "source": [
    "##### **2. Construa uma tabela com a média, mediana e desvio padrão para a renda das pessoas em relação aos Anos de Estudo. O que podemos interpretar com esses dados?**"
   ]
  },
  {
   "cell_type": "code",
   "execution_count": null,
   "metadata": {
    "id": "avU9XQ7zXto4"
   },
   "outputs": [],
   "source": []
  },
  {
   "cell_type": "markdown",
   "metadata": {
    "id": "BUI1Zps3eseQ"
   },
   "source": [
    "> #### Conclusões\n",
    "\n",
    "Escreva suas conclusões aqui..."
   ]
  },
  {
   "cell_type": "markdown",
   "metadata": {
    "id": "upuAC7ZuddUd"
   },
   "source": [
    "##### **3.   Construa uma tabela com a média, mediana e desvio padrão para a renda das pessoas do sexo biológico masculino e feminino até R$ 15.000. O que podemos interpretar com esses dados?**"
   ]
  },
  {
   "cell_type": "code",
   "execution_count": null,
   "metadata": {
    "id": "Jt80n5-pXto4"
   },
   "outputs": [],
   "source": []
  },
  {
   "cell_type": "markdown",
   "metadata": {
    "id": "4EcHVWU3etkV"
   },
   "source": [
    "> #### Conclusões\n",
    "\n",
    "Escreva suas conclusões aqui..."
   ]
  },
  {
   "cell_type": "markdown",
   "metadata": {
    "id": "Z-zoKBPRnnal"
   },
   "source": [
    "#### **Construa um boxplot da `Renda` dos estados da Região Centro-Oeste até R$ 10.000 segundo o `Cat.Sexo`. Para interpretar o resultado construa 3 tabelas com cada uma das estatísticas descritivas (média, mediana e desvio padrão).**"
   ]
  },
  {
   "cell_type": "code",
   "execution_count": null,
   "metadata": {
    "id": "GcvUXYJjXto4"
   },
   "outputs": [],
   "source": []
  },
  {
   "cell_type": "code",
   "execution_count": null,
   "metadata": {
    "id": "T_kWEzndXto4"
   },
   "outputs": [],
   "source": []
  },
  {
   "cell_type": "markdown",
   "metadata": {
    "id": "RSyeOjU3oA6t"
   },
   "source": [
    "##### **Média**"
   ]
  },
  {
   "cell_type": "code",
   "execution_count": null,
   "metadata": {
    "id": "uqMY7DJDXto5"
   },
   "outputs": [],
   "source": []
  },
  {
   "cell_type": "markdown",
   "metadata": {
    "id": "-IAhXYjDoDjU"
   },
   "source": [
    "##### **Mediana**"
   ]
  },
  {
   "cell_type": "code",
   "execution_count": null,
   "metadata": {
    "id": "kOd-JlGhXto5"
   },
   "outputs": [],
   "source": []
  },
  {
   "cell_type": "markdown",
   "metadata": {
    "id": "TaiN5Uk9oG1D"
   },
   "source": [
    "##### **Desvio Padrão**"
   ]
  },
  {
   "cell_type": "code",
   "execution_count": null,
   "metadata": {
    "id": "ISt77pp9Xto5"
   },
   "outputs": [],
   "source": []
  },
  {
   "cell_type": "markdown",
   "metadata": {
    "id": "Yvhlg_qWewNB"
   },
   "source": [
    "> #### Conclusões\n",
    "\n",
    "Escreva suas conclusões aqui..."
   ]
  }
 ],
 "metadata": {
  "colab": {
   "collapsed_sections": [
    "pTpoxoY7-roj"
   ],
   "provenance": []
  },
  "kernelspec": {
   "display_name": "Python 3",
   "name": "python3"
  },
  "language_info": {
   "codemirror_mode": {
    "name": "ipython",
    "version": 3
   },
   "file_extension": ".py",
   "mimetype": "text/x-python",
   "name": "python",
   "nbconvert_exporter": "python",
   "pygments_lexer": "ipython3",
   "version": "3.13.3"
  },
  "orig_nbformat": 4
 },
 "nbformat": 4,
 "nbformat_minor": 0
}
