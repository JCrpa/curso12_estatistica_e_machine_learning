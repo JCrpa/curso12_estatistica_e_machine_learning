{
 "cells": [
  {
   "cell_type": "markdown",
   "metadata": {
    "id": "qxah03ikONCD"
   },
   "source": [
    "# **Sobre o notebook**\n",
    "\n",
    "Aproveite esse espaço para as atividades do curso de **Estatística com Python: resumindo e analisando dados** da Alura. Aqui você pode escrever e testar os códigos dos diversos exercícios do **Mão na Massa** envolvendo os aprendizados de cada aula.\n",
    "\n",
    "Utilizando os conhecimentos adquiridos ao longo do curso, você precisará realizar uma **análise descritiva** básica de um conjunto de dados retirados da **Pesquisa Nacional por Amostra de Domicílios - 2015** do IBGE.\n",
    "\n",
    "Nele, você irá avaliar os tipos dos dados e suas distribuições, calcular as medidas de tendência central, medidas separatrizes e de dispersão dos dados e construirá visuais como histogramas, boxplot, entre outras para responder às perguntas.\n",
    "\n",
    "Este notebook foi construído com espaços para adicionar as células dos desafios propostos no curso, com eles você tem espaço para construir e executar suas soluções.\n",
    "\n",
    "\n",
    "\n"
   ]
  },
  {
   "cell_type": "markdown",
   "metadata": {
    "id": "ouMWQS5PkxIr"
   },
   "source": [
    "## **Dataset do Projeto**"
   ]
  },
  {
   "cell_type": "markdown",
   "metadata": {
    "id": "eeErXl4El6tC"
   },
   "source": [
    "O conjunto de dados que será explorado aqui é uma adaptação dos dados da **Pesquisa Nacional por Amostra de Domicílios - PNAD**. Ela investiga anualmente, de forma permanente, características gerais da população, de educação, trabalho, rendimento e habitação e outras, com periodicidade variável, de acordo com as necessidades de informação para o país, como as características sobre migração, fecundidade, nupcialidade, saúde, segurança alimentar, entre outros temas.\n",
    "\n",
    "O levantamento dessas estatísticas constitui, ao longo dos 49 anos de realização da pesquisa, um importante instrumento para formulação, validação e avaliação de políticas orientadas para o desenvolvimento socioeconômico e a melhoria das condições de vida no Brasil."
   ]
  },
  {
   "cell_type": "markdown",
   "metadata": {
    "id": "_vpi0QThnfJ6"
   },
   "source": [
    "### **Fonte dos Dados**\n",
    "\n",
    "https://www.ibge.gov.br/estatisticas/sociais/populacao/9127-pesquisa-nacional-por-amostra-de-domicilios.html?edicao=9128"
   ]
  },
  {
   "cell_type": "markdown",
   "metadata": {
    "id": "zrMeV3e5rQxd"
   },
   "source": [
    "### **Variáveis do dataset**\n",
    "\n",
    "> ### UF\n",
    "> ***\n",
    "\n",
    "Unidade federativa da pessoa responsável\n",
    "\n",
    "> ### Sexo\n",
    "> ***\n",
    "\n",
    "Sexo biológico da pessoa responsável\n",
    "\n",
    "<br>\n",
    "\n",
    "|Código|Descrição|\n",
    "|---|---|\n",
    "|0|Masculino|\n",
    "|1|Feminino|\n",
    "\n",
    "> ### Idade\n",
    "> ***\n",
    "\n",
    "Idade da pessoa responsável na data de referência em anos.\n",
    "\n",
    "> ### Cor\n",
    "> ***\n",
    "\n",
    "Cor ou raça da pessoa responsável com base na autodeclaração\n",
    "\n",
    "<br>\n",
    "\n",
    "|Código|Descrição|\n",
    "|---|---|\n",
    "|0|Indígena|\n",
    "|2|Branca|\n",
    "|4|Preta|\n",
    "|6|Amarela|\n",
    "|8|Parda|\n",
    "\n",
    "> ### Anos de Estudo\n",
    "> ***\n",
    "\n",
    "Anos de estudo da pessoa responsável\n",
    "\n",
    "<br>\n",
    "\n",
    "|Código|Descrição|\n",
    "|---|---|\n",
    "|1|Sem instrução e menos de 1 ano|\n",
    "|2|1 ano|\n",
    "|3|2 anos|\n",
    "|4|3 anos|\n",
    "|5|4 anos|\n",
    "|6|5 anos|\n",
    "|7|6 anos|\n",
    "|8|7 anos|\n",
    "|9|8 anos|\n",
    "|10|9 anos|\n",
    "|11|10 anos|\n",
    "|12|11 anos|\n",
    "|13|12 anos|\n",
    "|14|13 anos|\n",
    "|15|14 anos|\n",
    "|16|15 anos ou mais|\n",
    "|17|Não determinados|\n",
    "\n",
    "> ### Renda\n",
    "> ***\n",
    "\n",
    "Rendimento mensal do trabalho principal da pessoa responsável para 10 anos ou mais de idade.\n",
    "\n",
    "> ### Altura (elaboração própria - dado sintético)\n",
    "> ***\n",
    "\n",
    "Altura da pessoa responsável em metros."
   ]
  },
  {
   "cell_type": "markdown",
   "metadata": {
    "id": "sIlkOh1BvGsM"
   },
   "source": [
    "#### <font color='red'>Observação</font>\n",
    "***\n",
    "> Os seguintes tratamentos foram realizados nos dados originais:\n",
    "> 1. Foram eliminados os registros onde a **Renda** era inválida (999 999 999 999);\n",
    "> 2. Foram eliminados os registros onde a **Renda** era missing;\n",
    "> 3. Foram considerados somente os registros das **Pessoas de Referência** de cada domicílio (responsável pelo domicílio)."
   ]
  },
  {
   "cell_type": "markdown",
   "metadata": {
    "id": "IA3M1eso_L2Z"
   },
   "source": [
    "## **Aula 01 - Entendendo os dados**"
   ]
  },
  {
   "cell_type": "markdown",
   "metadata": {
    "id": "AmpR_VE4CImQ"
   },
   "source": [
    "### **Mão na Massa - Explorando novos dados**\n",
    "\n",
    "\n"
   ]
  },
  {
   "cell_type": "markdown",
   "metadata": {
    "id": "k2YfI6iDYmo4"
   },
   "source": [
    "Você está treinando para ser uma pessoa cientista de dados e recebeu a demanda de investigar os dados da PNAD de 2015. A fim de testar as suas habilidades de análise de dados e os conceitos da estatística descritiva, responda às perguntas ao longo do notebook compartilhado."
   ]
  },
  {
   "cell_type": "markdown",
   "metadata": {
    "id": "QDUU7jVGiMiZ"
   },
   "source": [
    "#### **Importando os pacotes e configurando o ambiente**"
   ]
  },
  {
   "cell_type": "code",
   "execution_count": 72,
   "metadata": {
    "id": "ZruvypSoO6oP"
   },
   "outputs": [],
   "source": [
    "# Importando os pacotes do projeto\n",
    "import pandas as pd\n",
    "import numpy as np\n",
    "import seaborn as sns\n",
    "import matplotlib.pyplot as plt"
   ]
  },
  {
   "cell_type": "markdown",
   "metadata": {
    "id": "MqXopokVzjV8"
   },
   "source": [
    "#### **Importe o dataset e armazene o conteúdo em um DataFrame**"
   ]
  },
  {
   "cell_type": "markdown",
   "metadata": {
    "id": "pr2UTRm70Tsq"
   },
   "source": [
    "**Dica:** Passe a url para a função que lê um arquivo do tipo `.csv`"
   ]
  },
  {
   "cell_type": "code",
   "execution_count": 73,
   "metadata": {
    "id": "cndAfPzKzjBs"
   },
   "outputs": [],
   "source": [
    "url = \"https://raw.githubusercontent.com/alura-cursos/Estatisticas-Python-frequencias-medidas/refs/heads/main/dados/dados_desafio.csv\"\n",
    "dados = pd.read_csv(url)"
   ]
  },
  {
   "cell_type": "markdown",
   "metadata": {
    "id": "CKddW-tNzuP1"
   },
   "source": [
    "#### **Visualize o conteúdo do DataFrame e leia as infos sobre os dados (linhas, colunas, tipos)**"
   ]
  },
  {
   "cell_type": "markdown",
   "metadata": {
    "id": "exRQ_Tuf0jrD"
   },
   "source": [
    "**Dica:** Para observar as infos dos dados, utilize a função `info`"
   ]
  },
  {
   "cell_type": "code",
   "execution_count": 74,
   "metadata": {
    "id": "NVm1btZMXttA"
   },
   "outputs": [
    {
     "data": {
      "application/vnd.microsoft.datawrangler.viewer.v0+json": {
       "columns": [
        {
         "name": "index",
         "rawType": "int64",
         "type": "integer"
        },
        {
         "name": "UF",
         "rawType": "object",
         "type": "string"
        },
        {
         "name": "Sexo",
         "rawType": "int64",
         "type": "integer"
        },
        {
         "name": "Idade",
         "rawType": "int64",
         "type": "integer"
        },
        {
         "name": "Cor",
         "rawType": "int64",
         "type": "integer"
        },
        {
         "name": "Anos.de.Estudo",
         "rawType": "int64",
         "type": "integer"
        },
        {
         "name": "Renda",
         "rawType": "int64",
         "type": "integer"
        },
        {
         "name": "Altura",
         "rawType": "float64",
         "type": "float"
        }
       ],
       "ref": "aa71d9fc-6859-4340-b0f5-6b9f4fd2337c",
       "rows": [
        [
         "0",
         "Rondônia",
         "0",
         "23",
         "8",
         "12",
         "800",
         "1.6"
        ],
        [
         "1",
         "Rondônia",
         "1",
         "23",
         "2",
         "12",
         "1150",
         "1.74"
        ],
        [
         "2",
         "Rondônia",
         "1",
         "35",
         "8",
         "15",
         "880",
         "1.76"
        ],
        [
         "3",
         "Rondônia",
         "0",
         "46",
         "2",
         "6",
         "3500",
         "1.78"
        ],
        [
         "4",
         "Rondônia",
         "1",
         "47",
         "8",
         "9",
         "150",
         "1.69"
        ],
        [
         "5",
         "Rondônia",
         "1",
         "34",
         "8",
         "12",
         "790",
         "1.64"
        ],
        [
         "6",
         "Rondônia",
         "0",
         "57",
         "8",
         "12",
         "3150",
         "1.57"
        ],
        [
         "7",
         "Rondônia",
         "1",
         "60",
         "8",
         "12",
         "1700",
         "1.61"
        ],
        [
         "8",
         "Rondônia",
         "1",
         "50",
         "4",
         "14",
         "1800",
         "1.78"
        ],
        [
         "9",
         "Rondônia",
         "0",
         "26",
         "8",
         "12",
         "1150",
         "1.79"
        ],
        [
         "10",
         "Rondônia",
         "1",
         "46",
         "8",
         "12",
         "3000",
         "1.79"
        ],
        [
         "11",
         "Rondônia",
         "1",
         "49",
         "8",
         "6",
         "2500",
         "1.71"
        ],
        [
         "12",
         "Rondônia",
         "1",
         "52",
         "2",
         "6",
         "1200",
         "1.74"
        ],
        [
         "13",
         "Rondônia",
         "0",
         "38",
         "8",
         "12",
         "2000",
         "1.75"
        ],
        [
         "14",
         "Rondônia",
         "0",
         "45",
         "2",
         "12",
         "2000",
         "1.78"
        ],
        [
         "15",
         "Rondônia",
         "0",
         "34",
         "2",
         "16",
         "6000",
         "1.71"
        ],
        [
         "16",
         "Rondônia",
         "1",
         "43",
         "8",
         "10",
         "1050",
         "1.79"
        ],
        [
         "17",
         "Rondônia",
         "0",
         "53",
         "8",
         "16",
         "7000",
         "1.67"
        ],
        [
         "18",
         "Rondônia",
         "0",
         "57",
         "2",
         "12",
         "2000",
         "1.72"
        ],
        [
         "19",
         "Rondônia",
         "1",
         "62",
         "8",
         "12",
         "1150",
         "1.77"
        ],
        [
         "20",
         "Rondônia",
         "0",
         "69",
         "8",
         "1",
         "3030",
         "1.75"
        ],
        [
         "21",
         "Rondônia",
         "1",
         "41",
         "8",
         "16",
         "4000",
         "1.66"
        ],
        [
         "22",
         "Rondônia",
         "0",
         "34",
         "8",
         "5",
         "788",
         "1.75"
        ],
        [
         "23",
         "Rondônia",
         "0",
         "25",
         "8",
         "12",
         "1000",
         "1.73"
        ],
        [
         "24",
         "Rondônia",
         "0",
         "33",
         "8",
         "9",
         "800",
         "1.78"
        ],
        [
         "25",
         "Rondônia",
         "1",
         "44",
         "8",
         "5",
         "788",
         "1.67"
        ],
        [
         "26",
         "Rondônia",
         "0",
         "33",
         "2",
         "16",
         "1600",
         "1.78"
        ],
        [
         "27",
         "Rondônia",
         "0",
         "65",
         "2",
         "12",
         "1700",
         "1.87"
        ],
        [
         "28",
         "Rondônia",
         "0",
         "33",
         "8",
         "14",
         "2000",
         "1.89"
        ],
        [
         "29",
         "Rondônia",
         "0",
         "32",
         "8",
         "12",
         "2400",
         "1.66"
        ],
        [
         "30",
         "Rondônia",
         "0",
         "43",
         "8",
         "5",
         "3000",
         "1.64"
        ],
        [
         "31",
         "Rondônia",
         "0",
         "30",
         "8",
         "1",
         "920",
         "1.69"
        ],
        [
         "32",
         "Rondônia",
         "0",
         "26",
         "2",
         "10",
         "1300",
         "1.68"
        ],
        [
         "33",
         "Rondônia",
         "0",
         "52",
         "2",
         "15",
         "2000",
         "1.67"
        ],
        [
         "34",
         "Rondônia",
         "0",
         "62",
         "8",
         "1",
         "1300",
         "1.63"
        ],
        [
         "35",
         "Rondônia",
         "0",
         "64",
         "6",
         "5",
         "600",
         "1.71"
        ],
        [
         "36",
         "Rondônia",
         "0",
         "31",
         "8",
         "7",
         "1200",
         "1.76"
        ],
        [
         "37",
         "Rondônia",
         "0",
         "63",
         "2",
         "3",
         "1000",
         "1.69"
        ],
        [
         "38",
         "Rondônia",
         "1",
         "40",
         "2",
         "9",
         "1000",
         "1.71"
        ],
        [
         "39",
         "Rondônia",
         "0",
         "47",
         "4",
         "9",
         "1500",
         "1.67"
        ],
        [
         "40",
         "Rondônia",
         "0",
         "34",
         "2",
         "7",
         "900",
         "1.65"
        ],
        [
         "41",
         "Rondônia",
         "0",
         "33",
         "8",
         "6",
         "900",
         "1.81"
        ],
        [
         "42",
         "Rondônia",
         "0",
         "63",
         "8",
         "6",
         "0",
         "1.65"
        ],
        [
         "43",
         "Rondônia",
         "1",
         "40",
         "8",
         "2",
         "300",
         "1.76"
        ],
        [
         "44",
         "Rondônia",
         "0",
         "41",
         "8",
         "6",
         "1600",
         "1.61"
        ],
        [
         "45",
         "Rondônia",
         "0",
         "28",
         "2",
         "10",
         "1500",
         "1.69"
        ],
        [
         "46",
         "Rondônia",
         "1",
         "32",
         "8",
         "12",
         "750",
         "1.68"
        ],
        [
         "47",
         "Rondônia",
         "0",
         "44",
         "2",
         "1",
         "800",
         "1.7"
        ],
        [
         "48",
         "Rondônia",
         "1",
         "38",
         "2",
         "12",
         "3600",
         "1.6"
        ],
        [
         "49",
         "Rondônia",
         "0",
         "41",
         "2",
         "4",
         "1500",
         "1.65"
        ]
       ],
       "shape": {
        "columns": 7,
        "rows": 76840
       }
      },
      "text/html": [
       "<div>\n",
       "<style scoped>\n",
       "    .dataframe tbody tr th:only-of-type {\n",
       "        vertical-align: middle;\n",
       "    }\n",
       "\n",
       "    .dataframe tbody tr th {\n",
       "        vertical-align: top;\n",
       "    }\n",
       "\n",
       "    .dataframe thead th {\n",
       "        text-align: right;\n",
       "    }\n",
       "</style>\n",
       "<table border=\"1\" class=\"dataframe\">\n",
       "  <thead>\n",
       "    <tr style=\"text-align: right;\">\n",
       "      <th></th>\n",
       "      <th>UF</th>\n",
       "      <th>Sexo</th>\n",
       "      <th>Idade</th>\n",
       "      <th>Cor</th>\n",
       "      <th>Anos.de.Estudo</th>\n",
       "      <th>Renda</th>\n",
       "      <th>Altura</th>\n",
       "    </tr>\n",
       "  </thead>\n",
       "  <tbody>\n",
       "    <tr>\n",
       "      <th>0</th>\n",
       "      <td>Rondônia</td>\n",
       "      <td>0</td>\n",
       "      <td>23</td>\n",
       "      <td>8</td>\n",
       "      <td>12</td>\n",
       "      <td>800</td>\n",
       "      <td>1.60</td>\n",
       "    </tr>\n",
       "    <tr>\n",
       "      <th>1</th>\n",
       "      <td>Rondônia</td>\n",
       "      <td>1</td>\n",
       "      <td>23</td>\n",
       "      <td>2</td>\n",
       "      <td>12</td>\n",
       "      <td>1150</td>\n",
       "      <td>1.74</td>\n",
       "    </tr>\n",
       "    <tr>\n",
       "      <th>2</th>\n",
       "      <td>Rondônia</td>\n",
       "      <td>1</td>\n",
       "      <td>35</td>\n",
       "      <td>8</td>\n",
       "      <td>15</td>\n",
       "      <td>880</td>\n",
       "      <td>1.76</td>\n",
       "    </tr>\n",
       "    <tr>\n",
       "      <th>3</th>\n",
       "      <td>Rondônia</td>\n",
       "      <td>0</td>\n",
       "      <td>46</td>\n",
       "      <td>2</td>\n",
       "      <td>6</td>\n",
       "      <td>3500</td>\n",
       "      <td>1.78</td>\n",
       "    </tr>\n",
       "    <tr>\n",
       "      <th>4</th>\n",
       "      <td>Rondônia</td>\n",
       "      <td>1</td>\n",
       "      <td>47</td>\n",
       "      <td>8</td>\n",
       "      <td>9</td>\n",
       "      <td>150</td>\n",
       "      <td>1.69</td>\n",
       "    </tr>\n",
       "    <tr>\n",
       "      <th>...</th>\n",
       "      <td>...</td>\n",
       "      <td>...</td>\n",
       "      <td>...</td>\n",
       "      <td>...</td>\n",
       "      <td>...</td>\n",
       "      <td>...</td>\n",
       "      <td>...</td>\n",
       "    </tr>\n",
       "    <tr>\n",
       "      <th>76835</th>\n",
       "      <td>Distrito Federal</td>\n",
       "      <td>1</td>\n",
       "      <td>46</td>\n",
       "      <td>2</td>\n",
       "      <td>11</td>\n",
       "      <td>812</td>\n",
       "      <td>1.69</td>\n",
       "    </tr>\n",
       "    <tr>\n",
       "      <th>76836</th>\n",
       "      <td>Distrito Federal</td>\n",
       "      <td>0</td>\n",
       "      <td>30</td>\n",
       "      <td>4</td>\n",
       "      <td>7</td>\n",
       "      <td>1500</td>\n",
       "      <td>1.79</td>\n",
       "    </tr>\n",
       "    <tr>\n",
       "      <th>76837</th>\n",
       "      <td>Distrito Federal</td>\n",
       "      <td>0</td>\n",
       "      <td>32</td>\n",
       "      <td>8</td>\n",
       "      <td>12</td>\n",
       "      <td>1300</td>\n",
       "      <td>1.83</td>\n",
       "    </tr>\n",
       "    <tr>\n",
       "      <th>76838</th>\n",
       "      <td>Distrito Federal</td>\n",
       "      <td>0</td>\n",
       "      <td>57</td>\n",
       "      <td>8</td>\n",
       "      <td>4</td>\n",
       "      <td>1500</td>\n",
       "      <td>1.73</td>\n",
       "    </tr>\n",
       "    <tr>\n",
       "      <th>76839</th>\n",
       "      <td>Distrito Federal</td>\n",
       "      <td>0</td>\n",
       "      <td>38</td>\n",
       "      <td>8</td>\n",
       "      <td>4</td>\n",
       "      <td>900</td>\n",
       "      <td>1.66</td>\n",
       "    </tr>\n",
       "  </tbody>\n",
       "</table>\n",
       "<p>76840 rows × 7 columns</p>\n",
       "</div>"
      ],
      "text/plain": [
       "                     UF  Sexo  Idade  Cor  Anos.de.Estudo  Renda  Altura\n",
       "0              Rondônia     0     23    8              12    800    1.60\n",
       "1              Rondônia     1     23    2              12   1150    1.74\n",
       "2              Rondônia     1     35    8              15    880    1.76\n",
       "3              Rondônia     0     46    2               6   3500    1.78\n",
       "4              Rondônia     1     47    8               9    150    1.69\n",
       "...                 ...   ...    ...  ...             ...    ...     ...\n",
       "76835  Distrito Federal     1     46    2              11    812    1.69\n",
       "76836  Distrito Federal     0     30    4               7   1500    1.79\n",
       "76837  Distrito Federal     0     32    8              12   1300    1.83\n",
       "76838  Distrito Federal     0     57    8               4   1500    1.73\n",
       "76839  Distrito Federal     0     38    8               4    900    1.66\n",
       "\n",
       "[76840 rows x 7 columns]"
      ]
     },
     "execution_count": 74,
     "metadata": {},
     "output_type": "execute_result"
    }
   ],
   "source": [
    "dados"
   ]
  },
  {
   "cell_type": "code",
   "execution_count": 75,
   "metadata": {
    "id": "OLc-_Q4oXttA"
   },
   "outputs": [
    {
     "name": "stdout",
     "output_type": "stream",
     "text": [
      "<class 'pandas.core.frame.DataFrame'>\n",
      "RangeIndex: 76840 entries, 0 to 76839\n",
      "Data columns (total 7 columns):\n",
      " #   Column          Non-Null Count  Dtype  \n",
      "---  ------          --------------  -----  \n",
      " 0   UF              76840 non-null  object \n",
      " 1   Sexo            76840 non-null  int64  \n",
      " 2   Idade           76840 non-null  int64  \n",
      " 3   Cor             76840 non-null  int64  \n",
      " 4   Anos.de.Estudo  76840 non-null  int64  \n",
      " 5   Renda           76840 non-null  int64  \n",
      " 6   Altura          76840 non-null  float64\n",
      "dtypes: float64(1), int64(5), object(1)\n",
      "memory usage: 4.1+ MB\n"
     ]
    }
   ],
   "source": [
    "dados.info()"
   ]
  },
  {
   "cell_type": "markdown",
   "metadata": {
    "id": "RAmtjJFi0-ni"
   },
   "source": [
    "#### **Explore brevemente a variável `UF` e investigue quantos dados possuímos para cada estado**"
   ]
  },
  {
   "cell_type": "markdown",
   "metadata": {
    "id": "FeK6odCN9O1m"
   },
   "source": [
    "**Dica:** Para explorar, utilize as funções `unique`, `value_counts`, `reset_index` e `barplot`\n",
    "\n"
   ]
  },
  {
   "cell_type": "code",
   "execution_count": 76,
   "metadata": {
    "id": "8LCZ_HX_XttB"
   },
   "outputs": [
    {
     "data": {
      "text/plain": [
       "array(['Rondônia', 'Acre', 'Amazonas', 'Roraima', 'Pará', 'Amapá',\n",
       "       'Tocantins', 'Maranhão', 'Piauí', 'Ceará', 'Rio Grande do Norte',\n",
       "       'Paraíba', 'Pernambuco', 'Alagoas', 'Sergipe', 'Bahia',\n",
       "       'Minas Gerais', 'Espírito Santo', 'Rio de Janeiro', 'São Paulo',\n",
       "       'Paraná', 'Santa Catarina', 'Rio Grande do Sul',\n",
       "       'Mato Grosso do Sul', 'Mato Grosso', 'Goiás', 'Distrito Federal'],\n",
       "      dtype=object)"
      ]
     },
     "execution_count": 76,
     "metadata": {},
     "output_type": "execute_result"
    }
   ],
   "source": [
    "dados['UF'].unique()"
   ]
  },
  {
   "cell_type": "code",
   "execution_count": 77,
   "metadata": {
    "id": "7thCb1O1XttB"
   },
   "outputs": [
    {
     "data": {
      "application/vnd.microsoft.datawrangler.viewer.v0+json": {
       "columns": [
        {
         "name": "UF",
         "rawType": "object",
         "type": "string"
        },
        {
         "name": "count",
         "rawType": "int64",
         "type": "integer"
        }
       ],
       "ref": "722af472-1955-4247-97ce-cb259a432cd8",
       "rows": [
        [
         "São Paulo",
         "8544"
        ],
        [
         "Minas Gerais",
         "7686"
        ],
        [
         "Rio Grande do Sul",
         "6322"
        ],
        [
         "Bahia",
         "5717"
        ],
        [
         "Rio de Janeiro",
         "5556"
        ],
        [
         "Pará",
         "4449"
        ],
        [
         "Paraná",
         "4356"
        ],
        [
         "Pernambuco",
         "3820"
        ],
        [
         "Goiás",
         "3478"
        ],
        [
         "Ceará",
         "3359"
        ],
        [
         "Santa Catarina",
         "2275"
        ],
        [
         "Amazonas",
         "2206"
        ],
        [
         "Distrito Federal",
         "2054"
        ],
        [
         "Mato Grosso",
         "1800"
        ],
        [
         "Maranhão",
         "1787"
        ],
        [
         "Rondônia",
         "1537"
        ],
        [
         "Espírito Santo",
         "1511"
        ],
        [
         "Mato Grosso do Sul",
         "1440"
        ],
        [
         "Tocantins",
         "1306"
        ],
        [
         "Sergipe",
         "1287"
        ],
        [
         "Paraíba",
         "1274"
        ],
        [
         "Piauí",
         "1211"
        ],
        [
         "Rio Grande do Norte",
         "973"
        ],
        [
         "Acre",
         "937"
        ],
        [
         "Alagoas",
         "903"
        ],
        [
         "Roraima",
         "540"
        ],
        [
         "Amapá",
         "512"
        ]
       ],
       "shape": {
        "columns": 1,
        "rows": 27
       }
      },
      "text/plain": [
       "UF\n",
       "São Paulo              8544\n",
       "Minas Gerais           7686\n",
       "Rio Grande do Sul      6322\n",
       "Bahia                  5717\n",
       "Rio de Janeiro         5556\n",
       "Pará                   4449\n",
       "Paraná                 4356\n",
       "Pernambuco             3820\n",
       "Goiás                  3478\n",
       "Ceará                  3359\n",
       "Santa Catarina         2275\n",
       "Amazonas               2206\n",
       "Distrito Federal       2054\n",
       "Mato Grosso            1800\n",
       "Maranhão               1787\n",
       "Rondônia               1537\n",
       "Espírito Santo         1511\n",
       "Mato Grosso do Sul     1440\n",
       "Tocantins              1306\n",
       "Sergipe                1287\n",
       "Paraíba                1274\n",
       "Piauí                  1211\n",
       "Rio Grande do Norte     973\n",
       "Acre                    937\n",
       "Alagoas                 903\n",
       "Roraima                 540\n",
       "Amapá                   512\n",
       "Name: count, dtype: int64"
      ]
     },
     "execution_count": 77,
     "metadata": {},
     "output_type": "execute_result"
    }
   ],
   "source": [
    "dados['UF'].value_counts()"
   ]
  },
  {
   "cell_type": "code",
   "execution_count": 78,
   "metadata": {
    "id": "-M7-GwhVXttB"
   },
   "outputs": [
    {
     "data": {
      "application/vnd.microsoft.datawrangler.viewer.v0+json": {
       "columns": [
        {
         "name": "index",
         "rawType": "int64",
         "type": "integer"
        },
        {
         "name": "UF",
         "rawType": "object",
         "type": "string"
        },
        {
         "name": "count",
         "rawType": "int64",
         "type": "integer"
        }
       ],
       "ref": "e3218659-794a-441f-a0ab-e5faeb6deecd",
       "rows": [
        [
         "0",
         "São Paulo",
         "8544"
        ],
        [
         "1",
         "Minas Gerais",
         "7686"
        ],
        [
         "2",
         "Rio Grande do Sul",
         "6322"
        ],
        [
         "3",
         "Bahia",
         "5717"
        ],
        [
         "4",
         "Rio de Janeiro",
         "5556"
        ],
        [
         "5",
         "Pará",
         "4449"
        ],
        [
         "6",
         "Paraná",
         "4356"
        ],
        [
         "7",
         "Pernambuco",
         "3820"
        ],
        [
         "8",
         "Goiás",
         "3478"
        ],
        [
         "9",
         "Ceará",
         "3359"
        ],
        [
         "10",
         "Santa Catarina",
         "2275"
        ],
        [
         "11",
         "Amazonas",
         "2206"
        ],
        [
         "12",
         "Distrito Federal",
         "2054"
        ],
        [
         "13",
         "Mato Grosso",
         "1800"
        ],
        [
         "14",
         "Maranhão",
         "1787"
        ],
        [
         "15",
         "Rondônia",
         "1537"
        ],
        [
         "16",
         "Espírito Santo",
         "1511"
        ],
        [
         "17",
         "Mato Grosso do Sul",
         "1440"
        ],
        [
         "18",
         "Tocantins",
         "1306"
        ],
        [
         "19",
         "Sergipe",
         "1287"
        ],
        [
         "20",
         "Paraíba",
         "1274"
        ],
        [
         "21",
         "Piauí",
         "1211"
        ],
        [
         "22",
         "Rio Grande do Norte",
         "973"
        ],
        [
         "23",
         "Acre",
         "937"
        ],
        [
         "24",
         "Alagoas",
         "903"
        ],
        [
         "25",
         "Roraima",
         "540"
        ],
        [
         "26",
         "Amapá",
         "512"
        ]
       ],
       "shape": {
        "columns": 2,
        "rows": 27
       }
      },
      "text/html": [
       "<div>\n",
       "<style scoped>\n",
       "    .dataframe tbody tr th:only-of-type {\n",
       "        vertical-align: middle;\n",
       "    }\n",
       "\n",
       "    .dataframe tbody tr th {\n",
       "        vertical-align: top;\n",
       "    }\n",
       "\n",
       "    .dataframe thead th {\n",
       "        text-align: right;\n",
       "    }\n",
       "</style>\n",
       "<table border=\"1\" class=\"dataframe\">\n",
       "  <thead>\n",
       "    <tr style=\"text-align: right;\">\n",
       "      <th></th>\n",
       "      <th>UF</th>\n",
       "      <th>count</th>\n",
       "    </tr>\n",
       "  </thead>\n",
       "  <tbody>\n",
       "    <tr>\n",
       "      <th>0</th>\n",
       "      <td>São Paulo</td>\n",
       "      <td>8544</td>\n",
       "    </tr>\n",
       "    <tr>\n",
       "      <th>1</th>\n",
       "      <td>Minas Gerais</td>\n",
       "      <td>7686</td>\n",
       "    </tr>\n",
       "    <tr>\n",
       "      <th>2</th>\n",
       "      <td>Rio Grande do Sul</td>\n",
       "      <td>6322</td>\n",
       "    </tr>\n",
       "    <tr>\n",
       "      <th>3</th>\n",
       "      <td>Bahia</td>\n",
       "      <td>5717</td>\n",
       "    </tr>\n",
       "    <tr>\n",
       "      <th>4</th>\n",
       "      <td>Rio de Janeiro</td>\n",
       "      <td>5556</td>\n",
       "    </tr>\n",
       "    <tr>\n",
       "      <th>5</th>\n",
       "      <td>Pará</td>\n",
       "      <td>4449</td>\n",
       "    </tr>\n",
       "    <tr>\n",
       "      <th>6</th>\n",
       "      <td>Paraná</td>\n",
       "      <td>4356</td>\n",
       "    </tr>\n",
       "    <tr>\n",
       "      <th>7</th>\n",
       "      <td>Pernambuco</td>\n",
       "      <td>3820</td>\n",
       "    </tr>\n",
       "    <tr>\n",
       "      <th>8</th>\n",
       "      <td>Goiás</td>\n",
       "      <td>3478</td>\n",
       "    </tr>\n",
       "    <tr>\n",
       "      <th>9</th>\n",
       "      <td>Ceará</td>\n",
       "      <td>3359</td>\n",
       "    </tr>\n",
       "    <tr>\n",
       "      <th>10</th>\n",
       "      <td>Santa Catarina</td>\n",
       "      <td>2275</td>\n",
       "    </tr>\n",
       "    <tr>\n",
       "      <th>11</th>\n",
       "      <td>Amazonas</td>\n",
       "      <td>2206</td>\n",
       "    </tr>\n",
       "    <tr>\n",
       "      <th>12</th>\n",
       "      <td>Distrito Federal</td>\n",
       "      <td>2054</td>\n",
       "    </tr>\n",
       "    <tr>\n",
       "      <th>13</th>\n",
       "      <td>Mato Grosso</td>\n",
       "      <td>1800</td>\n",
       "    </tr>\n",
       "    <tr>\n",
       "      <th>14</th>\n",
       "      <td>Maranhão</td>\n",
       "      <td>1787</td>\n",
       "    </tr>\n",
       "    <tr>\n",
       "      <th>15</th>\n",
       "      <td>Rondônia</td>\n",
       "      <td>1537</td>\n",
       "    </tr>\n",
       "    <tr>\n",
       "      <th>16</th>\n",
       "      <td>Espírito Santo</td>\n",
       "      <td>1511</td>\n",
       "    </tr>\n",
       "    <tr>\n",
       "      <th>17</th>\n",
       "      <td>Mato Grosso do Sul</td>\n",
       "      <td>1440</td>\n",
       "    </tr>\n",
       "    <tr>\n",
       "      <th>18</th>\n",
       "      <td>Tocantins</td>\n",
       "      <td>1306</td>\n",
       "    </tr>\n",
       "    <tr>\n",
       "      <th>19</th>\n",
       "      <td>Sergipe</td>\n",
       "      <td>1287</td>\n",
       "    </tr>\n",
       "    <tr>\n",
       "      <th>20</th>\n",
       "      <td>Paraíba</td>\n",
       "      <td>1274</td>\n",
       "    </tr>\n",
       "    <tr>\n",
       "      <th>21</th>\n",
       "      <td>Piauí</td>\n",
       "      <td>1211</td>\n",
       "    </tr>\n",
       "    <tr>\n",
       "      <th>22</th>\n",
       "      <td>Rio Grande do Norte</td>\n",
       "      <td>973</td>\n",
       "    </tr>\n",
       "    <tr>\n",
       "      <th>23</th>\n",
       "      <td>Acre</td>\n",
       "      <td>937</td>\n",
       "    </tr>\n",
       "    <tr>\n",
       "      <th>24</th>\n",
       "      <td>Alagoas</td>\n",
       "      <td>903</td>\n",
       "    </tr>\n",
       "    <tr>\n",
       "      <th>25</th>\n",
       "      <td>Roraima</td>\n",
       "      <td>540</td>\n",
       "    </tr>\n",
       "    <tr>\n",
       "      <th>26</th>\n",
       "      <td>Amapá</td>\n",
       "      <td>512</td>\n",
       "    </tr>\n",
       "  </tbody>\n",
       "</table>\n",
       "</div>"
      ],
      "text/plain": [
       "                     UF  count\n",
       "0             São Paulo   8544\n",
       "1          Minas Gerais   7686\n",
       "2     Rio Grande do Sul   6322\n",
       "3                 Bahia   5717\n",
       "4        Rio de Janeiro   5556\n",
       "5                  Pará   4449\n",
       "6                Paraná   4356\n",
       "7            Pernambuco   3820\n",
       "8                 Goiás   3478\n",
       "9                 Ceará   3359\n",
       "10       Santa Catarina   2275\n",
       "11             Amazonas   2206\n",
       "12     Distrito Federal   2054\n",
       "13          Mato Grosso   1800\n",
       "14             Maranhão   1787\n",
       "15             Rondônia   1537\n",
       "16       Espírito Santo   1511\n",
       "17   Mato Grosso do Sul   1440\n",
       "18            Tocantins   1306\n",
       "19              Sergipe   1287\n",
       "20              Paraíba   1274\n",
       "21                Piauí   1211\n",
       "22  Rio Grande do Norte    973\n",
       "23                 Acre    937\n",
       "24              Alagoas    903\n",
       "25              Roraima    540\n",
       "26                Amapá    512"
      ]
     },
     "execution_count": 78,
     "metadata": {},
     "output_type": "execute_result"
    }
   ],
   "source": [
    "estado = dados['UF'].value_counts().reset_index()\n",
    "estado"
   ]
  },
  {
   "cell_type": "code",
   "execution_count": 79,
   "metadata": {
    "id": "A_Wm9zumXttB"
   },
   "outputs": [
    {
     "data": {
      "text/plain": [
       "<BarContainer object of 27 artists>"
      ]
     },
     "execution_count": 79,
     "metadata": {},
     "output_type": "execute_result"
    },
    {
     "data": {
      "image/png": "[encoded data removed]",
      "text/plain": [
       "<Figure size 640x480 with 1 Axes>"
      ]
     },
     "metadata": {},
     "output_type": "display_data"
    }
   ],
   "source": [
    "plt.barh(estado['UF'], estado['count'])"
   ]
  },
  {
   "cell_type": "markdown",
   "metadata": {
    "id": "8fTFk94y-ZUK"
   },
   "source": [
    "#### **Transforme as variáveis `Sexo`, `Cor` e `Anos.de.Estudo` em Categorical e observe o resultado**"
   ]
  },
  {
   "cell_type": "markdown",
   "metadata": {
    "id": "UUIelOM4-s9J"
   },
   "source": [
    "**Dica 1:** Para te auxiliar neste processo, a célula abaixo traz os vetores com os valores de cada coluna na ordem desejada.\n",
    "\n",
    "**Dica 2:** Utilize a tabela no início do documento para fazer a relação dos valores atuais para os desejados."
   ]
  },
  {
   "cell_type": "code",
   "execution_count": 132,
   "metadata": {
    "id": "P2QOn38uXttB"
   },
   "outputs": [],
   "source": [
    "# Definindo as variáveis\n",
    "sexo = {0: 'Masculino', 1: 'Feminino'}\n",
    "\n",
    "cor = {0:'Indígena', 2:'Branca', 4:'Preta', 6:'Amarela', 8:'Parda'}\n",
    "\n",
    "anos_de_estudo = {1:'Sem instrução e menos de 1 ano', 2:'1 ano', 3:'2 anos', 4:'3 anos', 5:'4 anos', 6:'5 anos',\n",
    "    7:'6 anos', 8:'7 anos', 9:'8 anos', 10:'9 anos', 11:'10 anos', 12:'11 anos', 13:'12 anos',14:'13 anos',\n",
    "    15:'14 anos', 16:'15 anos ou mais', 17:'Não determinados'\n",
    "}"
   ]
  },
  {
   "cell_type": "markdown",
   "metadata": {
    "id": "oNXrD7nYbu9L"
   },
   "source": [
    "##### Sexo"
   ]
  },
  {
   "cell_type": "code",
   "execution_count": 133,
   "metadata": {
    "id": "_py-S1n4XttC"
   },
   "outputs": [],
   "source": [
    "dados['sexo'] = dados['Sexo'].map(sexo)"
   ]
  },
  {
   "cell_type": "markdown",
   "metadata": {
    "id": "qrrZ2J9kcCFl"
   },
   "source": [
    "##### Cor"
   ]
  },
  {
   "cell_type": "code",
   "execution_count": 134,
   "metadata": {
    "id": "aaICZDtuXttC"
   },
   "outputs": [],
   "source": [
    "dados['cor'] = dados['Cor'].map(cor)"
   ]
  },
  {
   "cell_type": "markdown",
   "metadata": {
    "id": "ssIG-8t6cE5r"
   },
   "source": [
    "##### Anos de Estudo"
   ]
  },
  {
   "cell_type": "code",
   "execution_count": 135,
   "metadata": {
    "id": "qow6gO1oXttD"
   },
   "outputs": [],
   "source": [
    "dados['anos_de_estudo'] = dados['Anos.de.Estudo'].map(anos_de_estudo)"
   ]
  },
  {
   "cell_type": "code",
   "execution_count": 136,
   "metadata": {
    "id": "i4C4N9F4XttH"
   },
   "outputs": [],
   "source": [
    "# Definir as categorias na ordem desejada\n",
    "dados['sexo'] = pd.Categorical(\n",
    "    dados['sexo'],\n",
    "    categories=['Masculino', 'Feminino'],\n",
    "    ordered=True\n",
    ")\n",
    "\n",
    "dados['cor'] = pd.Categorical(\n",
    "    dados['cor'],\n",
    "    categories=['Indígena', 'Branca', 'Preta', 'Amarela', 'Parda'],\n",
    "    ordered=True\n",
    ")\n",
    "\n",
    "dados['anos_de_estudo'] = pd.Categorical(\n",
    "    dados['anos_de_estudo'],\n",
    "    categories=list(anos_de_estudo.values()),\n",
    "    ordered=True\n",
    ")\n"
   ]
  },
  {
   "cell_type": "code",
   "execution_count": 137,
   "metadata": {
    "id": "xLxEV5HYXttD"
   },
   "outputs": [
    {
     "name": "stdout",
     "output_type": "stream",
     "text": [
      "<class 'pandas.core.frame.DataFrame'>\n",
      "RangeIndex: 76840 entries, 0 to 76839\n",
      "Data columns (total 3 columns):\n",
      " #   Column          Non-Null Count  Dtype   \n",
      "---  ------          --------------  -----   \n",
      " 0   sexo            76840 non-null  category\n",
      " 1   cor             76840 non-null  category\n",
      " 2   anos_de_estudo  76840 non-null  category\n",
      "dtypes: category(3)\n",
      "memory usage: 226.2 KB\n",
      "None\n",
      "        sexo     cor anos_de_estudo\n",
      "0  Masculino   Parda        11 anos\n",
      "1   Feminino  Branca        11 anos\n",
      "2   Feminino   Parda        14 anos\n",
      "3  Masculino  Branca         5 anos\n",
      "4   Feminino   Parda         8 anos\n"
     ]
    }
   ],
   "source": [
    "print(dados[['sexo', 'cor', 'anos_de_estudo']].info())\n",
    "print(dados[['sexo', 'cor', 'anos_de_estudo']].head())"
   ]
  },
  {
   "cell_type": "markdown",
   "metadata": {},
   "source": [
    "Abaixo tive que fazer um drop.columns porque criei de forma equivocada uma coluna com outro nome, errei uma letra ao final do nome da coluna e criou uma nova coluna."
   ]
  },
  {
   "cell_type": "code",
   "execution_count": 142,
   "metadata": {},
   "outputs": [],
   "source": [
    "dados = dados.drop(columns=['anos_de_estudp'])"
   ]
  },
  {
   "cell_type": "code",
   "execution_count": 143,
   "metadata": {},
   "outputs": [
    {
     "data": {
      "application/vnd.microsoft.datawrangler.viewer.v0+json": {
       "columns": [
        {
         "name": "index",
         "rawType": "int64",
         "type": "integer"
        },
        {
         "name": "UF",
         "rawType": "object",
         "type": "string"
        },
        {
         "name": "Sexo",
         "rawType": "int64",
         "type": "integer"
        },
        {
         "name": "Idade",
         "rawType": "int64",
         "type": "integer"
        },
        {
         "name": "Cor",
         "rawType": "int64",
         "type": "integer"
        },
        {
         "name": "Anos.de.Estudo",
         "rawType": "int64",
         "type": "integer"
        },
        {
         "name": "Renda",
         "rawType": "int64",
         "type": "integer"
        },
        {
         "name": "Altura",
         "rawType": "float64",
         "type": "float"
        },
        {
         "name": "sexo",
         "rawType": "category",
         "type": "unknown"
        },
        {
         "name": "cor",
         "rawType": "category",
         "type": "unknown"
        },
        {
         "name": "anos_de_estudo",
         "rawType": "category",
         "type": "unknown"
        }
       ],
       "ref": "a812714f-dfe0-4e4a-b47a-f2f281e133ef",
       "rows": [
        [
         "0",
         "Rondônia",
         "0",
         "23",
         "8",
         "12",
         "800",
         "1.6",
         "Masculino",
         "Parda",
         "11 anos"
        ],
        [
         "1",
         "Rondônia",
         "1",
         "23",
         "2",
         "12",
         "1150",
         "1.74",
         "Feminino",
         "Branca",
         "11 anos"
        ],
        [
         "2",
         "Rondônia",
         "1",
         "35",
         "8",
         "15",
         "880",
         "1.76",
         "Feminino",
         "Parda",
         "14 anos"
        ],
        [
         "3",
         "Rondônia",
         "0",
         "46",
         "2",
         "6",
         "3500",
         "1.78",
         "Masculino",
         "Branca",
         "5 anos"
        ],
        [
         "4",
         "Rondônia",
         "1",
         "47",
         "8",
         "9",
         "150",
         "1.69",
         "Feminino",
         "Parda",
         "8 anos"
        ]
       ],
       "shape": {
        "columns": 10,
        "rows": 5
       }
      },
      "text/html": [
       "<div>\n",
       "<style scoped>\n",
       "    .dataframe tbody tr th:only-of-type {\n",
       "        vertical-align: middle;\n",
       "    }\n",
       "\n",
       "    .dataframe tbody tr th {\n",
       "        vertical-align: top;\n",
       "    }\n",
       "\n",
       "    .dataframe thead th {\n",
       "        text-align: right;\n",
       "    }\n",
       "</style>\n",
       "<table border=\"1\" class=\"dataframe\">\n",
       "  <thead>\n",
       "    <tr style=\"text-align: right;\">\n",
       "      <th></th>\n",
       "      <th>UF</th>\n",
       "      <th>Sexo</th>\n",
       "      <th>Idade</th>\n",
       "      <th>Cor</th>\n",
       "      <th>Anos.de.Estudo</th>\n",
       "      <th>Renda</th>\n",
       "      <th>Altura</th>\n",
       "      <th>sexo</th>\n",
       "      <th>cor</th>\n",
       "      <th>anos_de_estudo</th>\n",
       "    </tr>\n",
       "  </thead>\n",
       "  <tbody>\n",
       "    <tr>\n",
       "      <th>0</th>\n",
       "      <td>Rondônia</td>\n",
       "      <td>0</td>\n",
       "      <td>23</td>\n",
       "      <td>8</td>\n",
       "      <td>12</td>\n",
       "      <td>800</td>\n",
       "      <td>1.60</td>\n",
       "      <td>Masculino</td>\n",
       "      <td>Parda</td>\n",
       "      <td>11 anos</td>\n",
       "    </tr>\n",
       "    <tr>\n",
       "      <th>1</th>\n",
       "      <td>Rondônia</td>\n",
       "      <td>1</td>\n",
       "      <td>23</td>\n",
       "      <td>2</td>\n",
       "      <td>12</td>\n",
       "      <td>1150</td>\n",
       "      <td>1.74</td>\n",
       "      <td>Feminino</td>\n",
       "      <td>Branca</td>\n",
       "      <td>11 anos</td>\n",
       "    </tr>\n",
       "    <tr>\n",
       "      <th>2</th>\n",
       "      <td>Rondônia</td>\n",
       "      <td>1</td>\n",
       "      <td>35</td>\n",
       "      <td>8</td>\n",
       "      <td>15</td>\n",
       "      <td>880</td>\n",
       "      <td>1.76</td>\n",
       "      <td>Feminino</td>\n",
       "      <td>Parda</td>\n",
       "      <td>14 anos</td>\n",
       "    </tr>\n",
       "    <tr>\n",
       "      <th>3</th>\n",
       "      <td>Rondônia</td>\n",
       "      <td>0</td>\n",
       "      <td>46</td>\n",
       "      <td>2</td>\n",
       "      <td>6</td>\n",
       "      <td>3500</td>\n",
       "      <td>1.78</td>\n",
       "      <td>Masculino</td>\n",
       "      <td>Branca</td>\n",
       "      <td>5 anos</td>\n",
       "    </tr>\n",
       "    <tr>\n",
       "      <th>4</th>\n",
       "      <td>Rondônia</td>\n",
       "      <td>1</td>\n",
       "      <td>47</td>\n",
       "      <td>8</td>\n",
       "      <td>9</td>\n",
       "      <td>150</td>\n",
       "      <td>1.69</td>\n",
       "      <td>Feminino</td>\n",
       "      <td>Parda</td>\n",
       "      <td>8 anos</td>\n",
       "    </tr>\n",
       "  </tbody>\n",
       "</table>\n",
       "</div>"
      ],
      "text/plain": [
       "         UF  Sexo  Idade  Cor  Anos.de.Estudo  Renda  Altura       sexo  \\\n",
       "0  Rondônia     0     23    8              12    800    1.60  Masculino   \n",
       "1  Rondônia     1     23    2              12   1150    1.74   Feminino   \n",
       "2  Rondônia     1     35    8              15    880    1.76   Feminino   \n",
       "3  Rondônia     0     46    2               6   3500    1.78  Masculino   \n",
       "4  Rondônia     1     47    8               9    150    1.69   Feminino   \n",
       "\n",
       "      cor anos_de_estudo  \n",
       "0   Parda        11 anos  \n",
       "1  Branca        11 anos  \n",
       "2   Parda        14 anos  \n",
       "3  Branca         5 anos  \n",
       "4   Parda         8 anos  "
      ]
     },
     "execution_count": 143,
     "metadata": {},
     "output_type": "execute_result"
    }
   ],
   "source": [
    "dados.head()"
   ]
  },
  {
   "cell_type": "markdown",
   "metadata": {
    "id": "kZO79aSSgp7w"
   },
   "source": [
    "#### **Apresente em texto a menor e maior `Renda` da base de dados**"
   ]
  },
  {
   "cell_type": "markdown",
   "metadata": {
    "id": "L3vbQxRRiMF0"
   },
   "source": [
    "**Dica:** A renda é uma medida discreta. Utilizamos f-strings para formatar a string de forma mais legível e eficiente, substituindo diretamente as variáveis dentro da string"
   ]
  },
  {
   "cell_type": "code",
   "execution_count": 144,
   "metadata": {
    "id": "E93TUzf0XttI"
   },
   "outputs": [
    {
     "name": "stdout",
     "output_type": "stream",
     "text": [
      "A menor renda da base de dados é R$ 0.00\n",
      "A maior renda da base de dados é R$ 200,000.00\n"
     ]
    }
   ],
   "source": [
    "# Obter menor e maior renda\n",
    "menor_renda = dados['Renda'].min()\n",
    "maior_renda = dados['Renda'].max()\n",
    "\n",
    "# Exibir usando f-string\n",
    "print(f\"A menor renda da base de dados é R$ {menor_renda:,.2f}\")\n",
    "print(f\"A maior renda da base de dados é R$ {maior_renda:,.2f}\")"
   ]
  },
  {
   "cell_type": "markdown",
   "metadata": {
    "id": "ix1N_JAH_T1C"
   },
   "source": [
    "## **Aula 02 - Identificando o perfil do público**"
   ]
  },
  {
   "cell_type": "markdown",
   "metadata": {
    "id": "J_4eNIp7i6Rh"
   },
   "source": [
    "### **Mão na Massa - Analisando o perfil das pessoas responsáveis**"
   ]
  },
  {
   "cell_type": "markdown",
   "metadata": {
    "id": "0rBGP9HaAQJj"
   },
   "source": [
    "Vamos prosseguir no treinamento, agora identificando o perfil das pessoas responsáveis pelo domicílio de acordo com os dados da PNAD de 2015. Responda às perguntas abaixo e reflita sobre os achados."
   ]
  },
  {
   "cell_type": "markdown",
   "metadata": {
    "id": "IMiAX2onkchv"
   },
   "source": [
    "#### **Construa uma tabela de frequências das pessoas responsáveis pelo domicílio por `Cat.Sexo`. Adicione também uma coluna com esse valor em porcentagem.**"
   ]
  },
  {
   "cell_type": "code",
   "execution_count": null,
   "metadata": {
    "id": "wFMEzZ_qXttI"
   },
   "outputs": [],
   "source": []
  },
  {
   "cell_type": "code",
   "execution_count": null,
   "metadata": {
    "id": "kAj1hTmaXttJ"
   },
   "outputs": [],
   "source": []
  },
  {
   "cell_type": "code",
   "execution_count": null,
   "metadata": {
    "id": "K6DkUjl0XttJ"
   },
   "outputs": [],
   "source": []
  },
  {
   "cell_type": "markdown",
   "metadata": {
    "id": "oN452vflnRlO"
   },
   "source": [
    "#### **Construa uma tabela de frequências absolutas e outra de relativas cruzando as variáveis `Cat.Sexo` e `Cat.Cor` das pessoas responsáveis pelo domicílio.**"
   ]
  },
  {
   "cell_type": "code",
   "execution_count": null,
   "metadata": {
    "id": "7i2AkjumXttL"
   },
   "outputs": [],
   "source": []
  },
  {
   "cell_type": "code",
   "execution_count": null,
   "metadata": {
    "id": "GrtfAeCBXttL"
   },
   "outputs": [],
   "source": []
  },
  {
   "cell_type": "code",
   "execution_count": null,
   "metadata": {
    "id": "HHlU5IybXttL"
   },
   "outputs": [],
   "source": []
  },
  {
   "cell_type": "markdown",
   "metadata": {
    "id": "gxFG42FfwpN1"
   },
   "source": [
    "> #### Conclusões\n",
    "\n",
    "Escreva suas conclusões aqui..."
   ]
  },
  {
   "cell_type": "markdown",
   "metadata": {
    "id": "Opcp5rprwrlX"
   },
   "source": [
    "#### **Construa uma tabela cruzada para calcular a `Renda` média das pessoas responsáveis pelo domicílio em relação ao `Cat.Sexo` e `Cat.Cor`.**"
   ]
  },
  {
   "cell_type": "code",
   "execution_count": null,
   "metadata": {
    "id": "V1kWR01jXttM"
   },
   "outputs": [],
   "source": []
  },
  {
   "cell_type": "markdown",
   "metadata": {
    "id": "d5Iwt1EKwNfp"
   },
   "source": [
    "> #### Conclusões\n",
    "\n",
    "Escreva suas conclusões aqui..."
   ]
  },
  {
   "cell_type": "markdown",
   "metadata": {
    "id": "1uTAdILB_T6m"
   },
   "source": [
    "## **Aula 03 - Analisando a tendência dos dados**"
   ]
  },
  {
   "cell_type": "markdown",
   "metadata": {
    "id": "vJ0a5l-Di79U"
   },
   "source": [
    "### **Mão na Massa - Analisando a renda das pessoas responsáveis**"
   ]
  },
  {
   "cell_type": "markdown",
   "metadata": {
    "id": "xAZjitTs-roh"
   },
   "source": [
    "Nesta etapa do treinamento, vamos analisar mais dados das pessoas responsáveis pelo domicílio de acordo com os dados da PNAD de 2015, focando na renda e na variável que criamos com as suas alturas. Responda às perguntas abaixo e reflita sobre os achados."
   ]
  },
  {
   "cell_type": "markdown",
   "metadata": {
    "id": "pTpoxoY7-roj"
   },
   "source": [
    "#### **Calcule as medidas de tendência central (média, mediana e moda) para a variável `Renda`**"
   ]
  },
  {
   "cell_type": "code",
   "execution_count": null,
   "metadata": {
    "id": "bl8w7WoKXttN"
   },
   "outputs": [],
   "source": []
  },
  {
   "cell_type": "code",
   "execution_count": null,
   "metadata": {
    "id": "szcR7gjBXttN"
   },
   "outputs": [],
   "source": []
  },
  {
   "cell_type": "code",
   "execution_count": null,
   "metadata": {
    "id": "v3T4O-ckXttN"
   },
   "outputs": [],
   "source": []
  },
  {
   "cell_type": "code",
   "execution_count": null,
   "metadata": {
    "id": "7dfubW93XttO"
   },
   "outputs": [],
   "source": []
  },
  {
   "cell_type": "markdown",
   "metadata": {
    "id": "ICXWPxBCB9F3"
   },
   "source": [
    "#### **Crie um gráfico de barras do Top 5 estados pela médias de `Renda`**"
   ]
  },
  {
   "cell_type": "markdown",
   "metadata": {
    "id": "Fn0HRjQTFcqc"
   },
   "source": [
    "**Dica:** Para conseguir apresentar apenas os Top 5 estados utilize a função `head()` passando como variável quantos valores deseja apresentar."
   ]
  },
  {
   "cell_type": "code",
   "execution_count": null,
   "metadata": {
    "id": "fMCt_o-yXttO"
   },
   "outputs": [],
   "source": []
  },
  {
   "cell_type": "code",
   "execution_count": null,
   "metadata": {
    "id": "m09IJri9XttO"
   },
   "outputs": [],
   "source": []
  },
  {
   "cell_type": "code",
   "execution_count": null,
   "metadata": {
    "id": "RGDhPHhUXttO"
   },
   "outputs": [],
   "source": []
  },
  {
   "cell_type": "markdown",
   "metadata": {
    "id": "-3RjEjJrKa0J"
   },
   "source": [
    "> #### Conclusões\n",
    "\n",
    "Escreva suas conclusões aqui..."
   ]
  },
  {
   "cell_type": "markdown",
   "metadata": {
    "id": "7wYIJXkt-roo"
   },
   "source": [
    "#### **Construa 3 tabelas cruzadas calculando a média, mediana e valores máximos de `Renda` relacionando as pessoas responsáveis por estado da Região Sudeste (`UF`) e por `Cat.Sexo`**"
   ]
  },
  {
   "cell_type": "code",
   "execution_count": null,
   "metadata": {
    "id": "1H0p2Cr_XttP"
   },
   "outputs": [],
   "source": []
  },
  {
   "cell_type": "markdown",
   "metadata": {
    "id": "FtNN9kkiKfK4"
   },
   "source": [
    "##### **Média**"
   ]
  },
  {
   "cell_type": "code",
   "execution_count": null,
   "metadata": {
    "id": "68tKsDfKXttP"
   },
   "outputs": [],
   "source": []
  },
  {
   "cell_type": "markdown",
   "metadata": {
    "id": "I_HNBCdWKjyX"
   },
   "source": [
    "##### **Mediana**"
   ]
  },
  {
   "cell_type": "code",
   "execution_count": null,
   "metadata": {
    "id": "4Nn7xbxXXttQ"
   },
   "outputs": [],
   "source": []
  },
  {
   "cell_type": "markdown",
   "metadata": {
    "id": "m4bFpespKk2Y"
   },
   "source": [
    "##### **Renda Máxima**"
   ]
  },
  {
   "cell_type": "code",
   "execution_count": null,
   "metadata": {
    "id": "vC9JWpSbXttR"
   },
   "outputs": [],
   "source": []
  },
  {
   "cell_type": "markdown",
   "metadata": {
    "id": "4d19wJraKcQX"
   },
   "source": [
    "> #### Conclusões\n",
    "\n",
    "Escreva suas conclusões aqui..."
   ]
  },
  {
   "cell_type": "markdown",
   "metadata": {
    "id": "Jk7hNSEKC6Bf"
   },
   "source": [
    "#### **Construa 2 histogramas com curva de densidade com os valores das colunas `Altura` e `Idade` de todas as pessoas responsáveis e compare as curvas obtidas com as suas  MTCs**"
   ]
  },
  {
   "cell_type": "markdown",
   "metadata": {
    "id": "zE321QEALLSH"
   },
   "source": [
    "##### **Altura**"
   ]
  },
  {
   "cell_type": "code",
   "execution_count": null,
   "metadata": {
    "id": "Rq519uIhXttR"
   },
   "outputs": [],
   "source": []
  },
  {
   "cell_type": "code",
   "execution_count": null,
   "metadata": {
    "id": "bc55wq1ZXttR"
   },
   "outputs": [],
   "source": []
  },
  {
   "cell_type": "markdown",
   "metadata": {
    "id": "B5ZUa7OF-ror"
   },
   "source": [
    "> #### Conclusões\n",
    "\n",
    "Escreva suas conclusões aqui..."
   ]
  },
  {
   "cell_type": "markdown",
   "metadata": {
    "id": "whm6etapM6Ni"
   },
   "source": [
    "##### **Idade**"
   ]
  },
  {
   "cell_type": "code",
   "execution_count": null,
   "metadata": {
    "id": "lY6T5WxfXttS"
   },
   "outputs": [],
   "source": []
  },
  {
   "cell_type": "code",
   "execution_count": null,
   "metadata": {
    "id": "i2wdO4uqXttS"
   },
   "outputs": [],
   "source": []
  },
  {
   "cell_type": "markdown",
   "metadata": {
    "id": "8E3XCvRYM9Qz"
   },
   "source": [
    "> #### Conclusões\n",
    "\n",
    "Escreva suas conclusões aqui..."
   ]
  },
  {
   "cell_type": "markdown",
   "metadata": {
    "id": "i_X1NcH9_T-u"
   },
   "source": [
    "## **Aula 04 - Investigando os dados dos colaboradores**"
   ]
  },
  {
   "cell_type": "markdown",
   "metadata": {
    "id": "hd7f_bUIi8ty"
   },
   "source": [
    "### **Mão na Massa - Analisando as rendas e suas divisões**"
   ]
  },
  {
   "cell_type": "markdown",
   "metadata": {
    "id": "_PehOjjeVL1Y"
   },
   "source": [
    "Nesta etapa do treinamento, vamos analisar os dados das pessoas responsáveis pelo domicílio de acordo com os dados da PNAD de 2015, por meio das medidas separatrizes. Responda às perguntas abaixo e reflita sobre os achados.\n"
   ]
  },
  {
   "cell_type": "markdown",
   "metadata": {
    "id": "NENRGQVdY3fq"
   },
   "source": [
    "#### **Calcule o número de classes para `Renda` até R$15.000 utilizando a regra de Sturges**"
   ]
  },
  {
   "cell_type": "markdown",
   "metadata": {
    "id": "cBeURnT-1mvR"
   },
   "source": [
    "$$k = 1 + \\frac {10}{3}\\log_{10}n$$\n",
    "\n",
    "onde,\n",
    "\n",
    "$k$ = número de classes\n",
    "\n",
    "$n$ = número de observações.\n"
   ]
  },
  {
   "cell_type": "code",
   "execution_count": null,
   "metadata": {
    "id": "TmDnTrpCXttT"
   },
   "outputs": [],
   "source": []
  },
  {
   "cell_type": "code",
   "execution_count": null,
   "metadata": {
    "id": "EXGfDn8hXttT"
   },
   "outputs": [],
   "source": []
  },
  {
   "cell_type": "code",
   "execution_count": null,
   "metadata": {
    "id": "5LMK0dCDXttU"
   },
   "outputs": [],
   "source": []
  },
  {
   "cell_type": "code",
   "execution_count": null,
   "metadata": {
    "id": "_hGEfSObXttU"
   },
   "outputs": [],
   "source": []
  },
  {
   "cell_type": "code",
   "execution_count": null,
   "metadata": {
    "id": "sy21NWJuXttU"
   },
   "outputs": [],
   "source": []
  },
  {
   "cell_type": "markdown",
   "metadata": {
    "id": "jOLZSNmHY3fv"
   },
   "source": [
    "#### **Crie o histograma da `Renda` das pessoas responsáveis até R$15.000 seguindo o número de classes calculado anteriormente**"
   ]
  },
  {
   "cell_type": "markdown",
   "metadata": {
    "id": "ycnq6L-I24cO"
   },
   "source": [
    "> **Observação:** Ao rodar o código para dividir os dados em faixas é possível que você observe o limite inferior da 1ª faixa com um valor negativo. Isto porque a *Regra de Sturges* define o intervalo mínimo da 1ª classe pela seguinte fórmula: $min(Renda) - (max(Renda) - min(Renda)) * 0.001$.\n",
    "\n"
   ]
  },
  {
   "cell_type": "code",
   "execution_count": null,
   "metadata": {
    "id": "wkl2gz47XttU"
   },
   "outputs": [],
   "source": []
  },
  {
   "cell_type": "code",
   "execution_count": null,
   "metadata": {
    "id": "P2yIL7HvXttU"
   },
   "outputs": [],
   "source": []
  },
  {
   "cell_type": "code",
   "execution_count": null,
   "metadata": {
    "id": "OqVelsvIXttV"
   },
   "outputs": [],
   "source": []
  },
  {
   "cell_type": "markdown",
   "metadata": {
    "id": "MRRzLUVVY3fz"
   },
   "source": [
    "> #### Conclusões\n",
    "\n",
    "Escreva suas conclusões aqui..."
   ]
  },
  {
   "cell_type": "markdown",
   "metadata": {
    "id": "CY3P_t7CiUmK"
   },
   "source": [
    "#### **Responda as seguintes questões sobre o nosso dataset completo utilizando os conceitos que estudamos até aqui:**"
   ]
  },
  {
   "cell_type": "markdown",
   "metadata": {
    "id": "1eRC8Ko0B-8u"
   },
   "source": [
    "##### **1. Qual o percentual de pessoas responsáveis que ganhava até um salário mínimo em 2015 (R$ 788,00)?**\n",
    "\n"
   ]
  },
  {
   "cell_type": "code",
   "execution_count": null,
   "metadata": {
    "id": "R7iobsP9XttV"
   },
   "outputs": [],
   "source": []
  },
  {
   "cell_type": "markdown",
   "metadata": {
    "id": "DG8AZfpRY3f3"
   },
   "source": [
    "##### **2. Qual a renda máxima de 95% das pessoas responsáveis na pesquisa?**\n"
   ]
  },
  {
   "cell_type": "code",
   "execution_count": null,
   "metadata": {
    "id": "YawjpiflXttW"
   },
   "outputs": [],
   "source": []
  },
  {
   "cell_type": "markdown",
   "metadata": {
    "id": "uPqMZkacY3f5"
   },
   "source": [
    "##### **3.   Qual a renda mínima dos 1% mais bem pagos da pesquisa?**"
   ]
  },
  {
   "cell_type": "code",
   "execution_count": null,
   "metadata": {
    "id": "B3Zeil0eXttW"
   },
   "outputs": [],
   "source": []
  },
  {
   "cell_type": "markdown",
   "metadata": {
    "id": "J8R5TK2_Y3f1"
   },
   "source": [
    "##### **4. Qual a renda máxima de 25%, 50% e 75% das pessoas responsáveis que receberam até R$ 6.000 de rendimento mensal? Construa o boxplot e traga o resumo desses dados.**\n"
   ]
  },
  {
   "cell_type": "code",
   "execution_count": null,
   "metadata": {
    "id": "j4-anz8SXttW"
   },
   "outputs": [],
   "source": []
  },
  {
   "cell_type": "code",
   "execution_count": null,
   "metadata": {
    "id": "VbzETKR2XttW"
   },
   "outputs": [],
   "source": []
  },
  {
   "cell_type": "code",
   "execution_count": null,
   "metadata": {
    "id": "KiN6NB7NXttW"
   },
   "outputs": [],
   "source": []
  },
  {
   "cell_type": "markdown",
   "metadata": {
    "id": "OEVJhNXlY3f6"
   },
   "source": [
    "> #### Conclusões\n",
    "\n",
    "Escreva suas conclusões aqui..."
   ]
  },
  {
   "cell_type": "markdown",
   "metadata": {
    "id": "ZGVF4ZrrY3f7"
   },
   "source": [
    "#### **Construa o boxplot da `Renda` até o percentil 95% (`renda_6k`) das pessoas responsáveis por `Cat.Sexo` e `Cat.Cor`. Interprete o resultado.**"
   ]
  },
  {
   "cell_type": "markdown",
   "metadata": {
    "id": "hmcRkp8GHsT3"
   },
   "source": [
    "**Dica:** Para incluir uma 3ª variável na construção de um boxplot, utilize o parâmetro `hue` da seguinte maneira: `(x = Renda, y = Cat.Cor, hue = Cat.Sexo)`."
   ]
  },
  {
   "cell_type": "code",
   "execution_count": null,
   "metadata": {
    "id": "WBOTVg-lXttX"
   },
   "outputs": [],
   "source": []
  },
  {
   "cell_type": "markdown",
   "metadata": {
    "id": "u5QwAmCdlsW_"
   },
   "source": [
    "#### **Qual a idade limite para 20% da população? Construa o histograma acumulado com curva de densidade, definindo a idade limite e quantas pessoas se encaixam nessa porcentagem.**"
   ]
  },
  {
   "cell_type": "markdown",
   "metadata": {
    "id": "xtzRs-kPJnoX"
   },
   "source": [
    "**Dica:** Para ler os últimos valores de um DataFrame utilize a função `tail()`.\n",
    "\n",
    "Exemplo: `df.tail(3)` lê os ultimos 3 registros do DataFrame `df`."
   ]
  },
  {
   "cell_type": "code",
   "execution_count": null,
   "metadata": {
    "id": "TyQV3zwIXttY"
   },
   "outputs": [],
   "source": []
  },
  {
   "cell_type": "code",
   "execution_count": null,
   "metadata": {
    "id": "Zm_zltjkXttY"
   },
   "outputs": [],
   "source": []
  },
  {
   "cell_type": "code",
   "execution_count": null,
   "metadata": {
    "id": "h9OcEyx5XttY"
   },
   "outputs": [],
   "source": []
  },
  {
   "cell_type": "code",
   "execution_count": null,
   "metadata": {
    "id": "0ss0U2TKXttY"
   },
   "outputs": [],
   "source": []
  },
  {
   "cell_type": "code",
   "execution_count": null,
   "metadata": {
    "id": "c-8l5oecXttZ"
   },
   "outputs": [],
   "source": []
  },
  {
   "cell_type": "code",
   "execution_count": null,
   "metadata": {
    "id": "k84MfaZrXttZ"
   },
   "outputs": [],
   "source": []
  },
  {
   "cell_type": "code",
   "execution_count": null,
   "metadata": {
    "id": "-IATmc0gXttZ"
   },
   "outputs": [],
   "source": []
  },
  {
   "cell_type": "markdown",
   "metadata": {
    "id": "4D6YPAnvY3f-"
   },
   "source": [
    "> #### Conclusões\n",
    "\n",
    "Escreva suas conclusões aqui..."
   ]
  },
  {
   "cell_type": "markdown",
   "metadata": {
    "id": "8oiQ6DsahpRv"
   },
   "source": [
    "## **Aula 05 - Analisando a variação dos dados**"
   ]
  },
  {
   "cell_type": "markdown",
   "metadata": {
    "id": "41X1NLZpi9Z_"
   },
   "source": [
    "### **Mão na Massa - Analisando a variação da Renda das pessoas responsáveis**"
   ]
  },
  {
   "cell_type": "markdown",
   "metadata": {
    "id": "iBC8rHu8MJw5"
   },
   "source": [
    "Nesta última etapa do treinamento, vamos analisar os dados de renda das pessoas responsáveis pelo domicílio de acordo com os dados da PNAD de 2015, calculando a variação desta para determinadas características da amostra. Responda às perguntas abaixo e reflita sobre os achados.\n"
   ]
  },
  {
   "cell_type": "markdown",
   "metadata": {
    "id": "_M9dh9-Bnnak"
   },
   "source": [
    "#### **Responda as seguintes questões sobre o nosso dataset utilizando os conceitos que estudamos até aqui:**"
   ]
  },
  {
   "cell_type": "markdown",
   "metadata": {
    "id": "s3M82GT_nnal"
   },
   "source": [
    "##### **1.   Qual o desvio médio absoluto, a variância e desvio padrão da renda das pessoas responsáveis na pesquisa?**\n",
    "\n",
    "\n",
    "\n"
   ]
  },
  {
   "cell_type": "code",
   "execution_count": null,
   "metadata": {
    "id": "WTyxha0KXttd"
   },
   "outputs": [],
   "source": []
  },
  {
   "cell_type": "markdown",
   "metadata": {
    "id": "6F0H8I-MdhB9"
   },
   "source": [
    "##### **2. Construa uma tabela com a média, mediana e desvio padrão para a renda das pessoas em relação aos Anos de Estudo. O que podemos interpretar com esses dados?**"
   ]
  },
  {
   "cell_type": "code",
   "execution_count": null,
   "metadata": {
    "id": "fHD3A9zjXtte"
   },
   "outputs": [],
   "source": []
  },
  {
   "cell_type": "markdown",
   "metadata": {
    "id": "BUI1Zps3eseQ"
   },
   "source": [
    "> #### Conclusões\n",
    "\n",
    "Escreva suas conclusões aqui..."
   ]
  },
  {
   "cell_type": "markdown",
   "metadata": {
    "id": "upuAC7ZuddUd"
   },
   "source": [
    "##### **3.   Construa uma tabela com a média, mediana e desvio padrão para a renda das pessoas do sexo biológico masculino e feminino até R$ 15.000. O que podemos interpretar com esses dados?**"
   ]
  },
  {
   "cell_type": "code",
   "execution_count": null,
   "metadata": {
    "id": "_APol7btXttf"
   },
   "outputs": [],
   "source": []
  },
  {
   "cell_type": "markdown",
   "metadata": {
    "id": "4EcHVWU3etkV"
   },
   "source": [
    "> #### Conclusões\n",
    "\n",
    "Escreva suas conclusões aqui..."
   ]
  },
  {
   "cell_type": "markdown",
   "metadata": {
    "id": "Z-zoKBPRnnal"
   },
   "source": [
    "#### **Construa um boxplot da `Renda` dos estados da Região Centro-Oeste até R$ 10.000 segundo o `Cat.Sexo`. Para interpretar o resultado construa 3 tabelas com cada uma das estatísticas descritivas (média, mediana e desvio padrão).**"
   ]
  },
  {
   "cell_type": "code",
   "execution_count": null,
   "metadata": {
    "id": "sOQE8rbkXttf"
   },
   "outputs": [],
   "source": []
  },
  {
   "cell_type": "code",
   "execution_count": null,
   "metadata": {
    "id": "-RXYntHRXttf"
   },
   "outputs": [],
   "source": []
  },
  {
   "cell_type": "markdown",
   "metadata": {
    "id": "RSyeOjU3oA6t"
   },
   "source": [
    "##### **Média**"
   ]
  },
  {
   "cell_type": "code",
   "execution_count": null,
   "metadata": {
    "id": "BgCrJDFtXttg"
   },
   "outputs": [],
   "source": []
  },
  {
   "cell_type": "markdown",
   "metadata": {
    "id": "-IAhXYjDoDjU"
   },
   "source": [
    "##### **Mediana**"
   ]
  },
  {
   "cell_type": "code",
   "execution_count": null,
   "metadata": {
    "id": "A1-P7p3yXttg"
   },
   "outputs": [],
   "source": []
  },
  {
   "cell_type": "markdown",
   "metadata": {
    "id": "TaiN5Uk9oG1D"
   },
   "source": [
    "##### **Desvio Padrão**"
   ]
  },
  {
   "cell_type": "code",
   "execution_count": null,
   "metadata": {
    "id": "fG2n4hMPXttg"
   },
   "outputs": [],
   "source": []
  },
  {
   "cell_type": "markdown",
   "metadata": {
    "id": "Yvhlg_qWewNB"
   },
   "source": [
    "> #### Conclusões\n",
    "\n",
    "Escreva suas conclusões aqui..."
   ]
  }
 ],
 "metadata": {
  "colab": {
   "collapsed_sections": [
    "pTpoxoY7-roj"
   ],
   "provenance": []
  },
  "kernelspec": {
   "display_name": "Python 3",
   "name": "python3"
  },
  "language_info": {
   "codemirror_mode": {
    "name": "ipython",
    "version": 3
   },
   "file_extension": ".py",
   "mimetype": "text/x-python",
   "name": "python",
   "nbconvert_exporter": "python",
   "pygments_lexer": "ipython3",
   "version": "3.13.3"
  },
  "orig_nbformat": 4
 },
 "nbformat": 4,
 "nbformat_minor": 0
}
