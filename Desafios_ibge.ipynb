{
 "cells": [
  {
   "cell_type": "markdown",
   "metadata": {
    "id": "qxah03ikONCD"
   },
   "source": [
    "# **Sobre o notebook**\n",
    "\n",
    "Aproveite esse espaço para as atividades do curso de **Estatística com Python: resumindo e analisando dados** da Alura. Aqui você pode escrever e testar os códigos dos diversos exercícios do **Mão na Massa** envolvendo os aprendizados de cada aula.\n",
    "\n",
    "Utilizando os conhecimentos adquiridos ao longo do curso, você precisará realizar uma **análise descritiva** básica de um conjunto de dados retirados da **Pesquisa Nacional por Amostra de Domicílios - 2015** do IBGE.\n",
    "\n",
    "Nele, você irá avaliar os tipos dos dados e suas distribuições, calcular as medidas de tendência central, medidas separatrizes e de dispersão dos dados e construirá visuais como histogramas, boxplot, entre outras para responder às perguntas.\n",
    "\n",
    "Este notebook foi construído com espaços para adicionar as células dos desafios propostos no curso, com eles você tem espaço para construir e executar suas soluções.\n",
    "\n",
    "\n",
    "\n"
   ]
  },
  {
   "cell_type": "markdown",
   "metadata": {
    "id": "ouMWQS5PkxIr"
   },
   "source": [
    "## **Dataset do Projeto**"
   ]
  },
  {
   "cell_type": "markdown",
   "metadata": {
    "id": "eeErXl4El6tC"
   },
   "source": [
    "O conjunto de dados que será explorado aqui é uma adaptação dos dados da **Pesquisa Nacional por Amostra de Domicílios - PNAD**. Ela investiga anualmente, de forma permanente, características gerais da população, de educação, trabalho, rendimento e habitação e outras, com periodicidade variável, de acordo com as necessidades de informação para o país, como as características sobre migração, fecundidade, nupcialidade, saúde, segurança alimentar, entre outros temas.\n",
    "\n",
    "O levantamento dessas estatísticas constitui, ao longo dos 49 anos de realização da pesquisa, um importante instrumento para formulação, validação e avaliação de políticas orientadas para o desenvolvimento socioeconômico e a melhoria das condições de vida no Brasil."
   ]
  },
  {
   "cell_type": "markdown",
   "metadata": {
    "id": "_vpi0QThnfJ6"
   },
   "source": [
    "### **Fonte dos Dados**\n",
    "\n",
    "https://www.ibge.gov.br/estatisticas/sociais/populacao/9127-pesquisa-nacional-por-amostra-de-domicilios.html?edicao=9128"
   ]
  },
  {
   "cell_type": "markdown",
   "metadata": {
    "id": "zrMeV3e5rQxd"
   },
   "source": [
    "### **Variáveis do dataset**\n",
    "\n",
    "> ### UF\n",
    "> ***\n",
    "\n",
    "Unidade federativa da pessoa responsável\n",
    "\n",
    "> ### Sexo\n",
    "> ***\n",
    "\n",
    "Sexo biológico da pessoa responsável\n",
    "\n",
    "<br>\n",
    "\n",
    "|Código|Descrição|\n",
    "|---|---|\n",
    "|0|Masculino|\n",
    "|1|Feminino|\n",
    "\n",
    "> ### Idade\n",
    "> ***\n",
    "\n",
    "Idade da pessoa responsável na data de referência em anos.\n",
    "\n",
    "> ### Cor\n",
    "> ***\n",
    "\n",
    "Cor ou raça da pessoa responsável com base na autodeclaração\n",
    "\n",
    "<br>\n",
    "\n",
    "|Código|Descrição|\n",
    "|---|---|\n",
    "|0|Indígena|\n",
    "|2|Branca|\n",
    "|4|Preta|\n",
    "|6|Amarela|\n",
    "|8|Parda|\n",
    "\n",
    "> ### Anos de Estudo\n",
    "> ***\n",
    "\n",
    "Anos de estudo da pessoa responsável\n",
    "\n",
    "<br>\n",
    "\n",
    "|Código|Descrição|\n",
    "|---|---|\n",
    "|1|Sem instrução e menos de 1 ano|\n",
    "|2|1 ano|\n",
    "|3|2 anos|\n",
    "|4|3 anos|\n",
    "|5|4 anos|\n",
    "|6|5 anos|\n",
    "|7|6 anos|\n",
    "|8|7 anos|\n",
    "|9|8 anos|\n",
    "|10|9 anos|\n",
    "|11|10 anos|\n",
    "|12|11 anos|\n",
    "|13|12 anos|\n",
    "|14|13 anos|\n",
    "|15|14 anos|\n",
    "|16|15 anos ou mais|\n",
    "|17|Não determinados|\n",
    "\n",
    "> ### Renda\n",
    "> ***\n",
    "\n",
    "Rendimento mensal do trabalho principal da pessoa responsável para 10 anos ou mais de idade.\n",
    "\n",
    "> ### Altura (elaboração própria - dado sintético)\n",
    "> ***\n",
    "\n",
    "Altura da pessoa responsável em metros."
   ]
  },
  {
   "cell_type": "markdown",
   "metadata": {
    "id": "sIlkOh1BvGsM"
   },
   "source": [
    "#### <font color='red'>Observação</font>\n",
    "***\n",
    "> Os seguintes tratamentos foram realizados nos dados originais:\n",
    "> 1. Foram eliminados os registros onde a **Renda** era inválida (999 999 999 999);\n",
    "> 2. Foram eliminados os registros onde a **Renda** era missing;\n",
    "> 3. Foram considerados somente os registros das **Pessoas de Referência** de cada domicílio (responsável pelo domicílio)."
   ]
  },
  {
   "cell_type": "markdown",
   "metadata": {
    "id": "IA3M1eso_L2Z"
   },
   "source": [
    "## **Módulo 01 - Aula 11 - Desafio Mão na massa: Explorando novos dados**"
   ]
  },
  {
   "cell_type": "markdown",
   "metadata": {
    "id": "k2YfI6iDYmo4"
   },
   "source": [
    "Você está treinando para ser uma pessoa cientista de dados e recebeu a demanda de investigar os dados da PNAD de 2015. A fim de testar as suas habilidades de análise de dados e os conceitos da estatística descritiva, responda às perguntas ao longo do notebook compartilhado."
   ]
  },
  {
   "cell_type": "markdown",
   "metadata": {
    "id": "QDUU7jVGiMiZ"
   },
   "source": [
    "#### **Importando os pacotes e configurando o ambiente**"
   ]
  },
  {
   "cell_type": "code",
   "execution_count": 1,
   "metadata": {
    "id": "ZruvypSoO6oP"
   },
   "outputs": [],
   "source": [
    "# Importando os pacotes do projeto\n",
    "import pandas as pd\n",
    "import numpy as np\n",
    "import seaborn as sns\n",
    "import matplotlib.pyplot as plt"
   ]
  },
  {
   "cell_type": "markdown",
   "metadata": {
    "id": "MqXopokVzjV8"
   },
   "source": [
    "#### **Importe o dataset e armazene o conteúdo em um DataFrame**"
   ]
  },
  {
   "cell_type": "markdown",
   "metadata": {
    "id": "pr2UTRm70Tsq"
   },
   "source": [
    "**Dica:** Passe a url para a função que lê um arquivo do tipo `.csv`"
   ]
  },
  {
   "cell_type": "code",
   "execution_count": 2,
   "metadata": {
    "id": "cndAfPzKzjBs"
   },
   "outputs": [],
   "source": [
    "url = \"https://raw.githubusercontent.com/alura-cursos/Estatisticas-Python-frequencias-medidas/refs/heads/main/dados/dados_desafio.csv\"\n",
    "dados = pd.read_csv(url)"
   ]
  },
  {
   "cell_type": "markdown",
   "metadata": {
    "id": "CKddW-tNzuP1"
   },
   "source": [
    "#### **Visualize o conteúdo do DataFrame e leia as infos sobre os dados (linhas, colunas, tipos)**"
   ]
  },
  {
   "cell_type": "markdown",
   "metadata": {
    "id": "exRQ_Tuf0jrD"
   },
   "source": [
    "**Dica:** Para observar as infos dos dados, utilize a função `info`"
   ]
  },
  {
   "cell_type": "code",
   "execution_count": 3,
   "metadata": {
    "id": "NVm1btZMXttA"
   },
   "outputs": [
    {
     "data": {
      "application/vnd.microsoft.datawrangler.viewer.v0+json": {
       "columns": [
        {
         "name": "index",
         "rawType": "int64",
         "type": "integer"
        },
        {
         "name": "UF",
         "rawType": "object",
         "type": "string"
        },
        {
         "name": "Sexo",
         "rawType": "int64",
         "type": "integer"
        },
        {
         "name": "Idade",
         "rawType": "int64",
         "type": "integer"
        },
        {
         "name": "Cor",
         "rawType": "int64",
         "type": "integer"
        },
        {
         "name": "Anos.de.Estudo",
         "rawType": "int64",
         "type": "integer"
        },
        {
         "name": "Renda",
         "rawType": "int64",
         "type": "integer"
        },
        {
         "name": "Altura",
         "rawType": "float64",
         "type": "float"
        }
       ],
       "ref": "c9c7f315-c79e-4260-bdc1-ce5770eb625d",
       "rows": [
        [
         "0",
         "Rondônia",
         "0",
         "23",
         "8",
         "12",
         "800",
         "1.6"
        ],
        [
         "1",
         "Rondônia",
         "1",
         "23",
         "2",
         "12",
         "1150",
         "1.74"
        ],
        [
         "2",
         "Rondônia",
         "1",
         "35",
         "8",
         "15",
         "880",
         "1.76"
        ],
        [
         "3",
         "Rondônia",
         "0",
         "46",
         "2",
         "6",
         "3500",
         "1.78"
        ],
        [
         "4",
         "Rondônia",
         "1",
         "47",
         "8",
         "9",
         "150",
         "1.69"
        ],
        [
         "5",
         "Rondônia",
         "1",
         "34",
         "8",
         "12",
         "790",
         "1.64"
        ],
        [
         "6",
         "Rondônia",
         "0",
         "57",
         "8",
         "12",
         "3150",
         "1.57"
        ],
        [
         "7",
         "Rondônia",
         "1",
         "60",
         "8",
         "12",
         "1700",
         "1.61"
        ],
        [
         "8",
         "Rondônia",
         "1",
         "50",
         "4",
         "14",
         "1800",
         "1.78"
        ],
        [
         "9",
         "Rondônia",
         "0",
         "26",
         "8",
         "12",
         "1150",
         "1.79"
        ],
        [
         "10",
         "Rondônia",
         "1",
         "46",
         "8",
         "12",
         "3000",
         "1.79"
        ],
        [
         "11",
         "Rondônia",
         "1",
         "49",
         "8",
         "6",
         "2500",
         "1.71"
        ],
        [
         "12",
         "Rondônia",
         "1",
         "52",
         "2",
         "6",
         "1200",
         "1.74"
        ],
        [
         "13",
         "Rondônia",
         "0",
         "38",
         "8",
         "12",
         "2000",
         "1.75"
        ],
        [
         "14",
         "Rondônia",
         "0",
         "45",
         "2",
         "12",
         "2000",
         "1.78"
        ],
        [
         "15",
         "Rondônia",
         "0",
         "34",
         "2",
         "16",
         "6000",
         "1.71"
        ],
        [
         "16",
         "Rondônia",
         "1",
         "43",
         "8",
         "10",
         "1050",
         "1.79"
        ],
        [
         "17",
         "Rondônia",
         "0",
         "53",
         "8",
         "16",
         "7000",
         "1.67"
        ],
        [
         "18",
         "Rondônia",
         "0",
         "57",
         "2",
         "12",
         "2000",
         "1.72"
        ],
        [
         "19",
         "Rondônia",
         "1",
         "62",
         "8",
         "12",
         "1150",
         "1.77"
        ],
        [
         "20",
         "Rondônia",
         "0",
         "69",
         "8",
         "1",
         "3030",
         "1.75"
        ],
        [
         "21",
         "Rondônia",
         "1",
         "41",
         "8",
         "16",
         "4000",
         "1.66"
        ],
        [
         "22",
         "Rondônia",
         "0",
         "34",
         "8",
         "5",
         "788",
         "1.75"
        ],
        [
         "23",
         "Rondônia",
         "0",
         "25",
         "8",
         "12",
         "1000",
         "1.73"
        ],
        [
         "24",
         "Rondônia",
         "0",
         "33",
         "8",
         "9",
         "800",
         "1.78"
        ],
        [
         "25",
         "Rondônia",
         "1",
         "44",
         "8",
         "5",
         "788",
         "1.67"
        ],
        [
         "26",
         "Rondônia",
         "0",
         "33",
         "2",
         "16",
         "1600",
         "1.78"
        ],
        [
         "27",
         "Rondônia",
         "0",
         "65",
         "2",
         "12",
         "1700",
         "1.87"
        ],
        [
         "28",
         "Rondônia",
         "0",
         "33",
         "8",
         "14",
         "2000",
         "1.89"
        ],
        [
         "29",
         "Rondônia",
         "0",
         "32",
         "8",
         "12",
         "2400",
         "1.66"
        ],
        [
         "30",
         "Rondônia",
         "0",
         "43",
         "8",
         "5",
         "3000",
         "1.64"
        ],
        [
         "31",
         "Rondônia",
         "0",
         "30",
         "8",
         "1",
         "920",
         "1.69"
        ],
        [
         "32",
         "Rondônia",
         "0",
         "26",
         "2",
         "10",
         "1300",
         "1.68"
        ],
        [
         "33",
         "Rondônia",
         "0",
         "52",
         "2",
         "15",
         "2000",
         "1.67"
        ],
        [
         "34",
         "Rondônia",
         "0",
         "62",
         "8",
         "1",
         "1300",
         "1.63"
        ],
        [
         "35",
         "Rondônia",
         "0",
         "64",
         "6",
         "5",
         "600",
         "1.71"
        ],
        [
         "36",
         "Rondônia",
         "0",
         "31",
         "8",
         "7",
         "1200",
         "1.76"
        ],
        [
         "37",
         "Rondônia",
         "0",
         "63",
         "2",
         "3",
         "1000",
         "1.69"
        ],
        [
         "38",
         "Rondônia",
         "1",
         "40",
         "2",
         "9",
         "1000",
         "1.71"
        ],
        [
         "39",
         "Rondônia",
         "0",
         "47",
         "4",
         "9",
         "1500",
         "1.67"
        ],
        [
         "40",
         "Rondônia",
         "0",
         "34",
         "2",
         "7",
         "900",
         "1.65"
        ],
        [
         "41",
         "Rondônia",
         "0",
         "33",
         "8",
         "6",
         "900",
         "1.81"
        ],
        [
         "42",
         "Rondônia",
         "0",
         "63",
         "8",
         "6",
         "0",
         "1.65"
        ],
        [
         "43",
         "Rondônia",
         "1",
         "40",
         "8",
         "2",
         "300",
         "1.76"
        ],
        [
         "44",
         "Rondônia",
         "0",
         "41",
         "8",
         "6",
         "1600",
         "1.61"
        ],
        [
         "45",
         "Rondônia",
         "0",
         "28",
         "2",
         "10",
         "1500",
         "1.69"
        ],
        [
         "46",
         "Rondônia",
         "1",
         "32",
         "8",
         "12",
         "750",
         "1.68"
        ],
        [
         "47",
         "Rondônia",
         "0",
         "44",
         "2",
         "1",
         "800",
         "1.7"
        ],
        [
         "48",
         "Rondônia",
         "1",
         "38",
         "2",
         "12",
         "3600",
         "1.6"
        ],
        [
         "49",
         "Rondônia",
         "0",
         "41",
         "2",
         "4",
         "1500",
         "1.65"
        ]
       ],
       "shape": {
        "columns": 7,
        "rows": 76840
       }
      },
      "text/html": [
       "<div>\n",
       "<style scoped>\n",
       "    .dataframe tbody tr th:only-of-type {\n",
       "        vertical-align: middle;\n",
       "    }\n",
       "\n",
       "    .dataframe tbody tr th {\n",
       "        vertical-align: top;\n",
       "    }\n",
       "\n",
       "    .dataframe thead th {\n",
       "        text-align: right;\n",
       "    }\n",
       "</style>\n",
       "<table border=\"1\" class=\"dataframe\">\n",
       "  <thead>\n",
       "    <tr style=\"text-align: right;\">\n",
       "      <th></th>\n",
       "      <th>UF</th>\n",
       "      <th>Sexo</th>\n",
       "      <th>Idade</th>\n",
       "      <th>Cor</th>\n",
       "      <th>Anos.de.Estudo</th>\n",
       "      <th>Renda</th>\n",
       "      <th>Altura</th>\n",
       "    </tr>\n",
       "  </thead>\n",
       "  <tbody>\n",
       "    <tr>\n",
       "      <th>0</th>\n",
       "      <td>Rondônia</td>\n",
       "      <td>0</td>\n",
       "      <td>23</td>\n",
       "      <td>8</td>\n",
       "      <td>12</td>\n",
       "      <td>800</td>\n",
       "      <td>1.60</td>\n",
       "    </tr>\n",
       "    <tr>\n",
       "      <th>1</th>\n",
       "      <td>Rondônia</td>\n",
       "      <td>1</td>\n",
       "      <td>23</td>\n",
       "      <td>2</td>\n",
       "      <td>12</td>\n",
       "      <td>1150</td>\n",
       "      <td>1.74</td>\n",
       "    </tr>\n",
       "    <tr>\n",
       "      <th>2</th>\n",
       "      <td>Rondônia</td>\n",
       "      <td>1</td>\n",
       "      <td>35</td>\n",
       "      <td>8</td>\n",
       "      <td>15</td>\n",
       "      <td>880</td>\n",
       "      <td>1.76</td>\n",
       "    </tr>\n",
       "    <tr>\n",
       "      <th>3</th>\n",
       "      <td>Rondônia</td>\n",
       "      <td>0</td>\n",
       "      <td>46</td>\n",
       "      <td>2</td>\n",
       "      <td>6</td>\n",
       "      <td>3500</td>\n",
       "      <td>1.78</td>\n",
       "    </tr>\n",
       "    <tr>\n",
       "      <th>4</th>\n",
       "      <td>Rondônia</td>\n",
       "      <td>1</td>\n",
       "      <td>47</td>\n",
       "      <td>8</td>\n",
       "      <td>9</td>\n",
       "      <td>150</td>\n",
       "      <td>1.69</td>\n",
       "    </tr>\n",
       "    <tr>\n",
       "      <th>...</th>\n",
       "      <td>...</td>\n",
       "      <td>...</td>\n",
       "      <td>...</td>\n",
       "      <td>...</td>\n",
       "      <td>...</td>\n",
       "      <td>...</td>\n",
       "      <td>...</td>\n",
       "    </tr>\n",
       "    <tr>\n",
       "      <th>76835</th>\n",
       "      <td>Distrito Federal</td>\n",
       "      <td>1</td>\n",
       "      <td>46</td>\n",
       "      <td>2</td>\n",
       "      <td>11</td>\n",
       "      <td>812</td>\n",
       "      <td>1.69</td>\n",
       "    </tr>\n",
       "    <tr>\n",
       "      <th>76836</th>\n",
       "      <td>Distrito Federal</td>\n",
       "      <td>0</td>\n",
       "      <td>30</td>\n",
       "      <td>4</td>\n",
       "      <td>7</td>\n",
       "      <td>1500</td>\n",
       "      <td>1.79</td>\n",
       "    </tr>\n",
       "    <tr>\n",
       "      <th>76837</th>\n",
       "      <td>Distrito Federal</td>\n",
       "      <td>0</td>\n",
       "      <td>32</td>\n",
       "      <td>8</td>\n",
       "      <td>12</td>\n",
       "      <td>1300</td>\n",
       "      <td>1.83</td>\n",
       "    </tr>\n",
       "    <tr>\n",
       "      <th>76838</th>\n",
       "      <td>Distrito Federal</td>\n",
       "      <td>0</td>\n",
       "      <td>57</td>\n",
       "      <td>8</td>\n",
       "      <td>4</td>\n",
       "      <td>1500</td>\n",
       "      <td>1.73</td>\n",
       "    </tr>\n",
       "    <tr>\n",
       "      <th>76839</th>\n",
       "      <td>Distrito Federal</td>\n",
       "      <td>0</td>\n",
       "      <td>38</td>\n",
       "      <td>8</td>\n",
       "      <td>4</td>\n",
       "      <td>900</td>\n",
       "      <td>1.66</td>\n",
       "    </tr>\n",
       "  </tbody>\n",
       "</table>\n",
       "<p>76840 rows × 7 columns</p>\n",
       "</div>"
      ],
      "text/plain": [
       "                     UF  Sexo  Idade  Cor  Anos.de.Estudo  Renda  Altura\n",
       "0              Rondônia     0     23    8              12    800    1.60\n",
       "1              Rondônia     1     23    2              12   1150    1.74\n",
       "2              Rondônia     1     35    8              15    880    1.76\n",
       "3              Rondônia     0     46    2               6   3500    1.78\n",
       "4              Rondônia     1     47    8               9    150    1.69\n",
       "...                 ...   ...    ...  ...             ...    ...     ...\n",
       "76835  Distrito Federal     1     46    2              11    812    1.69\n",
       "76836  Distrito Federal     0     30    4               7   1500    1.79\n",
       "76837  Distrito Federal     0     32    8              12   1300    1.83\n",
       "76838  Distrito Federal     0     57    8               4   1500    1.73\n",
       "76839  Distrito Federal     0     38    8               4    900    1.66\n",
       "\n",
       "[76840 rows x 7 columns]"
      ]
     },
     "execution_count": 3,
     "metadata": {},
     "output_type": "execute_result"
    }
   ],
   "source": [
    "dados"
   ]
  },
  {
   "cell_type": "code",
   "execution_count": 4,
   "metadata": {
    "id": "OLc-_Q4oXttA"
   },
   "outputs": [
    {
     "name": "stdout",
     "output_type": "stream",
     "text": [
      "<class 'pandas.core.frame.DataFrame'>\n",
      "RangeIndex: 76840 entries, 0 to 76839\n",
      "Data columns (total 7 columns):\n",
      " #   Column          Non-Null Count  Dtype  \n",
      "---  ------          --------------  -----  \n",
      " 0   UF              76840 non-null  object \n",
      " 1   Sexo            76840 non-null  int64  \n",
      " 2   Idade           76840 non-null  int64  \n",
      " 3   Cor             76840 non-null  int64  \n",
      " 4   Anos.de.Estudo  76840 non-null  int64  \n",
      " 5   Renda           76840 non-null  int64  \n",
      " 6   Altura          76840 non-null  float64\n",
      "dtypes: float64(1), int64(5), object(1)\n",
      "memory usage: 4.1+ MB\n"
     ]
    }
   ],
   "source": [
    "dados.info()"
   ]
  },
  {
   "cell_type": "markdown",
   "metadata": {
    "id": "RAmtjJFi0-ni"
   },
   "source": [
    "#### **Explore brevemente a variável `UF` e investigue quantos dados possuímos para cada estado**"
   ]
  },
  {
   "cell_type": "markdown",
   "metadata": {
    "id": "FeK6odCN9O1m"
   },
   "source": [
    "**Dica:** Para explorar, utilize as funções `unique`, `value_counts`, `reset_index` e `barplot`\n",
    "\n"
   ]
  },
  {
   "cell_type": "code",
   "execution_count": 5,
   "metadata": {
    "id": "8LCZ_HX_XttB"
   },
   "outputs": [
    {
     "data": {
      "text/plain": [
       "array(['Rondônia', 'Acre', 'Amazonas', 'Roraima', 'Pará', 'Amapá',\n",
       "       'Tocantins', 'Maranhão', 'Piauí', 'Ceará', 'Rio Grande do Norte',\n",
       "       'Paraíba', 'Pernambuco', 'Alagoas', 'Sergipe', 'Bahia',\n",
       "       'Minas Gerais', 'Espírito Santo', 'Rio de Janeiro', 'São Paulo',\n",
       "       'Paraná', 'Santa Catarina', 'Rio Grande do Sul',\n",
       "       'Mato Grosso do Sul', 'Mato Grosso', 'Goiás', 'Distrito Federal'],\n",
       "      dtype=object)"
      ]
     },
     "execution_count": 5,
     "metadata": {},
     "output_type": "execute_result"
    }
   ],
   "source": [
    "dados['UF'].unique()"
   ]
  },
  {
   "cell_type": "code",
   "execution_count": 6,
   "metadata": {
    "id": "7thCb1O1XttB"
   },
   "outputs": [
    {
     "data": {
      "application/vnd.microsoft.datawrangler.viewer.v0+json": {
       "columns": [
        {
         "name": "UF",
         "rawType": "object",
         "type": "string"
        },
        {
         "name": "count",
         "rawType": "int64",
         "type": "integer"
        }
       ],
       "ref": "30088ba4-0822-4abb-a838-59a22b9fa646",
       "rows": [
        [
         "São Paulo",
         "8544"
        ],
        [
         "Minas Gerais",
         "7686"
        ],
        [
         "Rio Grande do Sul",
         "6322"
        ],
        [
         "Bahia",
         "5717"
        ],
        [
         "Rio de Janeiro",
         "5556"
        ],
        [
         "Pará",
         "4449"
        ],
        [
         "Paraná",
         "4356"
        ],
        [
         "Pernambuco",
         "3820"
        ],
        [
         "Goiás",
         "3478"
        ],
        [
         "Ceará",
         "3359"
        ],
        [
         "Santa Catarina",
         "2275"
        ],
        [
         "Amazonas",
         "2206"
        ],
        [
         "Distrito Federal",
         "2054"
        ],
        [
         "Mato Grosso",
         "1800"
        ],
        [
         "Maranhão",
         "1787"
        ],
        [
         "Rondônia",
         "1537"
        ],
        [
         "Espírito Santo",
         "1511"
        ],
        [
         "Mato Grosso do Sul",
         "1440"
        ],
        [
         "Tocantins",
         "1306"
        ],
        [
         "Sergipe",
         "1287"
        ],
        [
         "Paraíba",
         "1274"
        ],
        [
         "Piauí",
         "1211"
        ],
        [
         "Rio Grande do Norte",
         "973"
        ],
        [
         "Acre",
         "937"
        ],
        [
         "Alagoas",
         "903"
        ],
        [
         "Roraima",
         "540"
        ],
        [
         "Amapá",
         "512"
        ]
       ],
       "shape": {
        "columns": 1,
        "rows": 27
       }
      },
      "text/plain": [
       "UF\n",
       "São Paulo              8544\n",
       "Minas Gerais           7686\n",
       "Rio Grande do Sul      6322\n",
       "Bahia                  5717\n",
       "Rio de Janeiro         5556\n",
       "Pará                   4449\n",
       "Paraná                 4356\n",
       "Pernambuco             3820\n",
       "Goiás                  3478\n",
       "Ceará                  3359\n",
       "Santa Catarina         2275\n",
       "Amazonas               2206\n",
       "Distrito Federal       2054\n",
       "Mato Grosso            1800\n",
       "Maranhão               1787\n",
       "Rondônia               1537\n",
       "Espírito Santo         1511\n",
       "Mato Grosso do Sul     1440\n",
       "Tocantins              1306\n",
       "Sergipe                1287\n",
       "Paraíba                1274\n",
       "Piauí                  1211\n",
       "Rio Grande do Norte     973\n",
       "Acre                    937\n",
       "Alagoas                 903\n",
       "Roraima                 540\n",
       "Amapá                   512\n",
       "Name: count, dtype: int64"
      ]
     },
     "execution_count": 6,
     "metadata": {},
     "output_type": "execute_result"
    }
   ],
   "source": [
    "dados['UF'].value_counts()"
   ]
  },
  {
   "cell_type": "code",
   "execution_count": 7,
   "metadata": {
    "id": "-M7-GwhVXttB"
   },
   "outputs": [
    {
     "data": {
      "application/vnd.microsoft.datawrangler.viewer.v0+json": {
       "columns": [
        {
         "name": "index",
         "rawType": "int64",
         "type": "integer"
        },
        {
         "name": "UF",
         "rawType": "object",
         "type": "string"
        },
        {
         "name": "count",
         "rawType": "int64",
         "type": "integer"
        }
       ],
       "ref": "b34f2333-a674-4390-8a57-04f00668d96c",
       "rows": [
        [
         "0",
         "São Paulo",
         "8544"
        ],
        [
         "1",
         "Minas Gerais",
         "7686"
        ],
        [
         "2",
         "Rio Grande do Sul",
         "6322"
        ],
        [
         "3",
         "Bahia",
         "5717"
        ],
        [
         "4",
         "Rio de Janeiro",
         "5556"
        ],
        [
         "5",
         "Pará",
         "4449"
        ],
        [
         "6",
         "Paraná",
         "4356"
        ],
        [
         "7",
         "Pernambuco",
         "3820"
        ],
        [
         "8",
         "Goiás",
         "3478"
        ],
        [
         "9",
         "Ceará",
         "3359"
        ],
        [
         "10",
         "Santa Catarina",
         "2275"
        ],
        [
         "11",
         "Amazonas",
         "2206"
        ],
        [
         "12",
         "Distrito Federal",
         "2054"
        ],
        [
         "13",
         "Mato Grosso",
         "1800"
        ],
        [
         "14",
         "Maranhão",
         "1787"
        ],
        [
         "15",
         "Rondônia",
         "1537"
        ],
        [
         "16",
         "Espírito Santo",
         "1511"
        ],
        [
         "17",
         "Mato Grosso do Sul",
         "1440"
        ],
        [
         "18",
         "Tocantins",
         "1306"
        ],
        [
         "19",
         "Sergipe",
         "1287"
        ],
        [
         "20",
         "Paraíba",
         "1274"
        ],
        [
         "21",
         "Piauí",
         "1211"
        ],
        [
         "22",
         "Rio Grande do Norte",
         "973"
        ],
        [
         "23",
         "Acre",
         "937"
        ],
        [
         "24",
         "Alagoas",
         "903"
        ],
        [
         "25",
         "Roraima",
         "540"
        ],
        [
         "26",
         "Amapá",
         "512"
        ]
       ],
       "shape": {
        "columns": 2,
        "rows": 27
       }
      },
      "text/html": [
       "<div>\n",
       "<style scoped>\n",
       "    .dataframe tbody tr th:only-of-type {\n",
       "        vertical-align: middle;\n",
       "    }\n",
       "\n",
       "    .dataframe tbody tr th {\n",
       "        vertical-align: top;\n",
       "    }\n",
       "\n",
       "    .dataframe thead th {\n",
       "        text-align: right;\n",
       "    }\n",
       "</style>\n",
       "<table border=\"1\" class=\"dataframe\">\n",
       "  <thead>\n",
       "    <tr style=\"text-align: right;\">\n",
       "      <th></th>\n",
       "      <th>UF</th>\n",
       "      <th>count</th>\n",
       "    </tr>\n",
       "  </thead>\n",
       "  <tbody>\n",
       "    <tr>\n",
       "      <th>0</th>\n",
       "      <td>São Paulo</td>\n",
       "      <td>8544</td>\n",
       "    </tr>\n",
       "    <tr>\n",
       "      <th>1</th>\n",
       "      <td>Minas Gerais</td>\n",
       "      <td>7686</td>\n",
       "    </tr>\n",
       "    <tr>\n",
       "      <th>2</th>\n",
       "      <td>Rio Grande do Sul</td>\n",
       "      <td>6322</td>\n",
       "    </tr>\n",
       "    <tr>\n",
       "      <th>3</th>\n",
       "      <td>Bahia</td>\n",
       "      <td>5717</td>\n",
       "    </tr>\n",
       "    <tr>\n",
       "      <th>4</th>\n",
       "      <td>Rio de Janeiro</td>\n",
       "      <td>5556</td>\n",
       "    </tr>\n",
       "    <tr>\n",
       "      <th>5</th>\n",
       "      <td>Pará</td>\n",
       "      <td>4449</td>\n",
       "    </tr>\n",
       "    <tr>\n",
       "      <th>6</th>\n",
       "      <td>Paraná</td>\n",
       "      <td>4356</td>\n",
       "    </tr>\n",
       "    <tr>\n",
       "      <th>7</th>\n",
       "      <td>Pernambuco</td>\n",
       "      <td>3820</td>\n",
       "    </tr>\n",
       "    <tr>\n",
       "      <th>8</th>\n",
       "      <td>Goiás</td>\n",
       "      <td>3478</td>\n",
       "    </tr>\n",
       "    <tr>\n",
       "      <th>9</th>\n",
       "      <td>Ceará</td>\n",
       "      <td>3359</td>\n",
       "    </tr>\n",
       "    <tr>\n",
       "      <th>10</th>\n",
       "      <td>Santa Catarina</td>\n",
       "      <td>2275</td>\n",
       "    </tr>\n",
       "    <tr>\n",
       "      <th>11</th>\n",
       "      <td>Amazonas</td>\n",
       "      <td>2206</td>\n",
       "    </tr>\n",
       "    <tr>\n",
       "      <th>12</th>\n",
       "      <td>Distrito Federal</td>\n",
       "      <td>2054</td>\n",
       "    </tr>\n",
       "    <tr>\n",
       "      <th>13</th>\n",
       "      <td>Mato Grosso</td>\n",
       "      <td>1800</td>\n",
       "    </tr>\n",
       "    <tr>\n",
       "      <th>14</th>\n",
       "      <td>Maranhão</td>\n",
       "      <td>1787</td>\n",
       "    </tr>\n",
       "    <tr>\n",
       "      <th>15</th>\n",
       "      <td>Rondônia</td>\n",
       "      <td>1537</td>\n",
       "    </tr>\n",
       "    <tr>\n",
       "      <th>16</th>\n",
       "      <td>Espírito Santo</td>\n",
       "      <td>1511</td>\n",
       "    </tr>\n",
       "    <tr>\n",
       "      <th>17</th>\n",
       "      <td>Mato Grosso do Sul</td>\n",
       "      <td>1440</td>\n",
       "    </tr>\n",
       "    <tr>\n",
       "      <th>18</th>\n",
       "      <td>Tocantins</td>\n",
       "      <td>1306</td>\n",
       "    </tr>\n",
       "    <tr>\n",
       "      <th>19</th>\n",
       "      <td>Sergipe</td>\n",
       "      <td>1287</td>\n",
       "    </tr>\n",
       "    <tr>\n",
       "      <th>20</th>\n",
       "      <td>Paraíba</td>\n",
       "      <td>1274</td>\n",
       "    </tr>\n",
       "    <tr>\n",
       "      <th>21</th>\n",
       "      <td>Piauí</td>\n",
       "      <td>1211</td>\n",
       "    </tr>\n",
       "    <tr>\n",
       "      <th>22</th>\n",
       "      <td>Rio Grande do Norte</td>\n",
       "      <td>973</td>\n",
       "    </tr>\n",
       "    <tr>\n",
       "      <th>23</th>\n",
       "      <td>Acre</td>\n",
       "      <td>937</td>\n",
       "    </tr>\n",
       "    <tr>\n",
       "      <th>24</th>\n",
       "      <td>Alagoas</td>\n",
       "      <td>903</td>\n",
       "    </tr>\n",
       "    <tr>\n",
       "      <th>25</th>\n",
       "      <td>Roraima</td>\n",
       "      <td>540</td>\n",
       "    </tr>\n",
       "    <tr>\n",
       "      <th>26</th>\n",
       "      <td>Amapá</td>\n",
       "      <td>512</td>\n",
       "    </tr>\n",
       "  </tbody>\n",
       "</table>\n",
       "</div>"
      ],
      "text/plain": [
       "                     UF  count\n",
       "0             São Paulo   8544\n",
       "1          Minas Gerais   7686\n",
       "2     Rio Grande do Sul   6322\n",
       "3                 Bahia   5717\n",
       "4        Rio de Janeiro   5556\n",
       "5                  Pará   4449\n",
       "6                Paraná   4356\n",
       "7            Pernambuco   3820\n",
       "8                 Goiás   3478\n",
       "9                 Ceará   3359\n",
       "10       Santa Catarina   2275\n",
       "11             Amazonas   2206\n",
       "12     Distrito Federal   2054\n",
       "13          Mato Grosso   1800\n",
       "14             Maranhão   1787\n",
       "15             Rondônia   1537\n",
       "16       Espírito Santo   1511\n",
       "17   Mato Grosso do Sul   1440\n",
       "18            Tocantins   1306\n",
       "19              Sergipe   1287\n",
       "20              Paraíba   1274\n",
       "21                Piauí   1211\n",
       "22  Rio Grande do Norte    973\n",
       "23                 Acre    937\n",
       "24              Alagoas    903\n",
       "25              Roraima    540\n",
       "26                Amapá    512"
      ]
     },
     "execution_count": 7,
     "metadata": {},
     "output_type": "execute_result"
    }
   ],
   "source": [
    "estado = dados['UF'].value_counts().reset_index()\n",
    "estado"
   ]
  },
  {
   "cell_type": "code",
   "execution_count": 8,
   "metadata": {
    "id": "A_Wm9zumXttB"
   },
   "outputs": [
    {
     "data": {
      "text/plain": [
       "<BarContainer object of 27 artists>"
      ]
     },
     "execution_count": 8,
     "metadata": {},
     "output_type": "execute_result"
    },
    {
     "data": {
      "image/png": "[encoded data removed]",
      "text/plain": [
       "<Figure size 640x480 with 1 Axes>"
      ]
     },
     "metadata": {},
     "output_type": "display_data"
    }
   ],
   "source": [
    "plt.barh(estado['UF'], estado['count'])"
   ]
  },
  {
   "cell_type": "markdown",
   "metadata": {
    "id": "8fTFk94y-ZUK"
   },
   "source": [
    "#### **Transforme as variáveis `Sexo`, `Cor` e `Anos.de.Estudo` em Categorical e observe o resultado**"
   ]
  },
  {
   "cell_type": "markdown",
   "metadata": {
    "id": "UUIelOM4-s9J"
   },
   "source": [
    "**Dica 1:** Para te auxiliar neste processo, a célula abaixo traz os vetores com os valores de cada coluna na ordem desejada.\n",
    "\n",
    "**Dica 2:** Utilize a tabela no início do documento para fazer a relação dos valores atuais para os desejados."
   ]
  },
  {
   "cell_type": "code",
   "execution_count": 9,
   "metadata": {
    "id": "P2QOn38uXttB"
   },
   "outputs": [],
   "source": [
    "# Definindo as variáveis\n",
    "sexo = {0: 'Masculino', 1: 'Feminino'}\n",
    "\n",
    "cor = {0:'Indígena', 2:'Branca', 4:'Preta', 6:'Amarela', 8:'Parda'}\n",
    "\n",
    "anos_de_estudo = {1:'Sem instrução e menos de 1 ano', 2:'1 ano', 3:'2 anos', 4:'3 anos', 5:'4 anos', 6:'5 anos',\n",
    "    7:'6 anos', 8:'7 anos', 9:'8 anos', 10:'9 anos', 11:'10 anos', 12:'11 anos', 13:'12 anos',14:'13 anos',\n",
    "    15:'14 anos', 16:'15 anos ou mais', 17:'Não determinados'\n",
    "}"
   ]
  },
  {
   "cell_type": "markdown",
   "metadata": {
    "id": "oNXrD7nYbu9L"
   },
   "source": [
    "##### Sexo"
   ]
  },
  {
   "cell_type": "code",
   "execution_count": 10,
   "metadata": {
    "id": "_py-S1n4XttC"
   },
   "outputs": [
    {
     "data": {
      "application/vnd.microsoft.datawrangler.viewer.v0+json": {
       "columns": [
        {
         "name": "index",
         "rawType": "int64",
         "type": "integer"
        },
        {
         "name": "UF",
         "rawType": "object",
         "type": "string"
        },
        {
         "name": "Sexo",
         "rawType": "int64",
         "type": "integer"
        },
        {
         "name": "Idade",
         "rawType": "int64",
         "type": "integer"
        },
        {
         "name": "Cor",
         "rawType": "int64",
         "type": "integer"
        },
        {
         "name": "Anos.de.Estudo",
         "rawType": "int64",
         "type": "integer"
        },
        {
         "name": "Renda",
         "rawType": "int64",
         "type": "integer"
        },
        {
         "name": "Altura",
         "rawType": "float64",
         "type": "float"
        },
        {
         "name": "sexo",
         "rawType": "object",
         "type": "string"
        }
       ],
       "ref": "ec9d03ad-bd5b-4fdb-94dc-72ac5f4135ba",
       "rows": [
        [
         "0",
         "Rondônia",
         "0",
         "23",
         "8",
         "12",
         "800",
         "1.6",
         "Masculino"
        ],
        [
         "1",
         "Rondônia",
         "1",
         "23",
         "2",
         "12",
         "1150",
         "1.74",
         "Feminino"
        ],
        [
         "2",
         "Rondônia",
         "1",
         "35",
         "8",
         "15",
         "880",
         "1.76",
         "Feminino"
        ],
        [
         "3",
         "Rondônia",
         "0",
         "46",
         "2",
         "6",
         "3500",
         "1.78",
         "Masculino"
        ],
        [
         "4",
         "Rondônia",
         "1",
         "47",
         "8",
         "9",
         "150",
         "1.69",
         "Feminino"
        ]
       ],
       "shape": {
        "columns": 8,
        "rows": 5
       }
      },
      "text/html": [
       "<div>\n",
       "<style scoped>\n",
       "    .dataframe tbody tr th:only-of-type {\n",
       "        vertical-align: middle;\n",
       "    }\n",
       "\n",
       "    .dataframe tbody tr th {\n",
       "        vertical-align: top;\n",
       "    }\n",
       "\n",
       "    .dataframe thead th {\n",
       "        text-align: right;\n",
       "    }\n",
       "</style>\n",
       "<table border=\"1\" class=\"dataframe\">\n",
       "  <thead>\n",
       "    <tr style=\"text-align: right;\">\n",
       "      <th></th>\n",
       "      <th>UF</th>\n",
       "      <th>Sexo</th>\n",
       "      <th>Idade</th>\n",
       "      <th>Cor</th>\n",
       "      <th>Anos.de.Estudo</th>\n",
       "      <th>Renda</th>\n",
       "      <th>Altura</th>\n",
       "      <th>sexo</th>\n",
       "    </tr>\n",
       "  </thead>\n",
       "  <tbody>\n",
       "    <tr>\n",
       "      <th>0</th>\n",
       "      <td>Rondônia</td>\n",
       "      <td>0</td>\n",
       "      <td>23</td>\n",
       "      <td>8</td>\n",
       "      <td>12</td>\n",
       "      <td>800</td>\n",
       "      <td>1.60</td>\n",
       "      <td>Masculino</td>\n",
       "    </tr>\n",
       "    <tr>\n",
       "      <th>1</th>\n",
       "      <td>Rondônia</td>\n",
       "      <td>1</td>\n",
       "      <td>23</td>\n",
       "      <td>2</td>\n",
       "      <td>12</td>\n",
       "      <td>1150</td>\n",
       "      <td>1.74</td>\n",
       "      <td>Feminino</td>\n",
       "    </tr>\n",
       "    <tr>\n",
       "      <th>2</th>\n",
       "      <td>Rondônia</td>\n",
       "      <td>1</td>\n",
       "      <td>35</td>\n",
       "      <td>8</td>\n",
       "      <td>15</td>\n",
       "      <td>880</td>\n",
       "      <td>1.76</td>\n",
       "      <td>Feminino</td>\n",
       "    </tr>\n",
       "    <tr>\n",
       "      <th>3</th>\n",
       "      <td>Rondônia</td>\n",
       "      <td>0</td>\n",
       "      <td>46</td>\n",
       "      <td>2</td>\n",
       "      <td>6</td>\n",
       "      <td>3500</td>\n",
       "      <td>1.78</td>\n",
       "      <td>Masculino</td>\n",
       "    </tr>\n",
       "    <tr>\n",
       "      <th>4</th>\n",
       "      <td>Rondônia</td>\n",
       "      <td>1</td>\n",
       "      <td>47</td>\n",
       "      <td>8</td>\n",
       "      <td>9</td>\n",
       "      <td>150</td>\n",
       "      <td>1.69</td>\n",
       "      <td>Feminino</td>\n",
       "    </tr>\n",
       "  </tbody>\n",
       "</table>\n",
       "</div>"
      ],
      "text/plain": [
       "         UF  Sexo  Idade  Cor  Anos.de.Estudo  Renda  Altura       sexo\n",
       "0  Rondônia     0     23    8              12    800    1.60  Masculino\n",
       "1  Rondônia     1     23    2              12   1150    1.74   Feminino\n",
       "2  Rondônia     1     35    8              15    880    1.76   Feminino\n",
       "3  Rondônia     0     46    2               6   3500    1.78  Masculino\n",
       "4  Rondônia     1     47    8               9    150    1.69   Feminino"
      ]
     },
     "execution_count": 10,
     "metadata": {},
     "output_type": "execute_result"
    }
   ],
   "source": [
    "dados['sexo'] = dados['Sexo'].map(sexo)\n",
    "dados.head()"
   ]
  },
  {
   "cell_type": "markdown",
   "metadata": {
    "id": "qrrZ2J9kcCFl"
   },
   "source": [
    "##### Cor"
   ]
  },
  {
   "cell_type": "code",
   "execution_count": 11,
   "metadata": {
    "id": "aaICZDtuXttC"
   },
   "outputs": [],
   "source": [
    "dados['cor'] = dados['Cor'].map(cor)"
   ]
  },
  {
   "cell_type": "markdown",
   "metadata": {
    "id": "ssIG-8t6cE5r"
   },
   "source": [
    "##### Anos de Estudo"
   ]
  },
  {
   "cell_type": "code",
   "execution_count": 12,
   "metadata": {
    "id": "qow6gO1oXttD"
   },
   "outputs": [],
   "source": [
    "dados['anos_de_estudo'] = dados['Anos.de.Estudo'].map(anos_de_estudo)"
   ]
  },
  {
   "cell_type": "code",
   "execution_count": 13,
   "metadata": {
    "id": "i4C4N9F4XttH"
   },
   "outputs": [],
   "source": [
    "# Definir as categorias na ordem desejada\n",
    "dados['sexo'] = pd.Categorical(\n",
    "    dados['sexo'],\n",
    "    categories=['Masculino', 'Feminino'],\n",
    "    ordered=True\n",
    ")\n",
    "\n",
    "dados['cor'] = pd.Categorical(\n",
    "    dados['cor'],\n",
    "    categories=['Indígena', 'Branca', 'Preta', 'Amarela', 'Parda'],\n",
    "    ordered=True\n",
    ")\n",
    "\n",
    "dados['anos_de_estudo'] = pd.Categorical(\n",
    "    dados['anos_de_estudo'],\n",
    "    categories=list(anos_de_estudo.values()),\n",
    "    ordered=True\n",
    ")\n"
   ]
  },
  {
   "cell_type": "code",
   "execution_count": 14,
   "metadata": {},
   "outputs": [
    {
     "data": {
      "application/vnd.microsoft.datawrangler.viewer.v0+json": {
       "columns": [
        {
         "name": "index",
         "rawType": "int64",
         "type": "integer"
        },
        {
         "name": "Sexo",
         "rawType": "int64",
         "type": "integer"
        },
        {
         "name": "sexo",
         "rawType": "category",
         "type": "unknown"
        }
       ],
       "ref": "977d0b16-6f33-47fc-835d-003a115af24c",
       "rows": [
        [
         "0",
         "0",
         "Masculino"
        ],
        [
         "1",
         "1",
         "Feminino"
        ]
       ],
       "shape": {
        "columns": 2,
        "rows": 2
       }
      },
      "text/html": [
       "<div>\n",
       "<style scoped>\n",
       "    .dataframe tbody tr th:only-of-type {\n",
       "        vertical-align: middle;\n",
       "    }\n",
       "\n",
       "    .dataframe tbody tr th {\n",
       "        vertical-align: top;\n",
       "    }\n",
       "\n",
       "    .dataframe thead th {\n",
       "        text-align: right;\n",
       "    }\n",
       "</style>\n",
       "<table border=\"1\" class=\"dataframe\">\n",
       "  <thead>\n",
       "    <tr style=\"text-align: right;\">\n",
       "      <th></th>\n",
       "      <th>Sexo</th>\n",
       "      <th>sexo</th>\n",
       "    </tr>\n",
       "  </thead>\n",
       "  <tbody>\n",
       "    <tr>\n",
       "      <th>0</th>\n",
       "      <td>0</td>\n",
       "      <td>Masculino</td>\n",
       "    </tr>\n",
       "    <tr>\n",
       "      <th>1</th>\n",
       "      <td>1</td>\n",
       "      <td>Feminino</td>\n",
       "    </tr>\n",
       "  </tbody>\n",
       "</table>\n",
       "</div>"
      ],
      "text/plain": [
       "   Sexo       sexo\n",
       "0     0  Masculino\n",
       "1     1   Feminino"
      ]
     },
     "execution_count": 14,
     "metadata": {},
     "output_type": "execute_result"
    }
   ],
   "source": [
    "dados_distintos = dados[['Sexo', 'sexo']].drop_duplicates()\n",
    "dados_distintos"
   ]
  },
  {
   "cell_type": "code",
   "execution_count": 15,
   "metadata": {},
   "outputs": [
    {
     "data": {
      "application/vnd.microsoft.datawrangler.viewer.v0+json": {
       "columns": [
        {
         "name": "index",
         "rawType": "int64",
         "type": "integer"
        },
        {
         "name": "Cor",
         "rawType": "int64",
         "type": "integer"
        },
        {
         "name": "cor",
         "rawType": "category",
         "type": "unknown"
        }
       ],
       "ref": "8a658e30-2a40-4fe3-8eec-9cf69600647e",
       "rows": [
        [
         "0",
         "8",
         "Parda"
        ],
        [
         "1",
         "2",
         "Branca"
        ],
        [
         "8",
         "4",
         "Preta"
        ],
        [
         "35",
         "6",
         "Amarela"
        ],
        [
         "659",
         "0",
         "Indígena"
        ]
       ],
       "shape": {
        "columns": 2,
        "rows": 5
       }
      },
      "text/html": [
       "<div>\n",
       "<style scoped>\n",
       "    .dataframe tbody tr th:only-of-type {\n",
       "        vertical-align: middle;\n",
       "    }\n",
       "\n",
       "    .dataframe tbody tr th {\n",
       "        vertical-align: top;\n",
       "    }\n",
       "\n",
       "    .dataframe thead th {\n",
       "        text-align: right;\n",
       "    }\n",
       "</style>\n",
       "<table border=\"1\" class=\"dataframe\">\n",
       "  <thead>\n",
       "    <tr style=\"text-align: right;\">\n",
       "      <th></th>\n",
       "      <th>Cor</th>\n",
       "      <th>cor</th>\n",
       "    </tr>\n",
       "  </thead>\n",
       "  <tbody>\n",
       "    <tr>\n",
       "      <th>0</th>\n",
       "      <td>8</td>\n",
       "      <td>Parda</td>\n",
       "    </tr>\n",
       "    <tr>\n",
       "      <th>1</th>\n",
       "      <td>2</td>\n",
       "      <td>Branca</td>\n",
       "    </tr>\n",
       "    <tr>\n",
       "      <th>8</th>\n",
       "      <td>4</td>\n",
       "      <td>Preta</td>\n",
       "    </tr>\n",
       "    <tr>\n",
       "      <th>35</th>\n",
       "      <td>6</td>\n",
       "      <td>Amarela</td>\n",
       "    </tr>\n",
       "    <tr>\n",
       "      <th>659</th>\n",
       "      <td>0</td>\n",
       "      <td>Indígena</td>\n",
       "    </tr>\n",
       "  </tbody>\n",
       "</table>\n",
       "</div>"
      ],
      "text/plain": [
       "     Cor       cor\n",
       "0      8     Parda\n",
       "1      2    Branca\n",
       "8      4     Preta\n",
       "35     6   Amarela\n",
       "659    0  Indígena"
      ]
     },
     "execution_count": 15,
     "metadata": {},
     "output_type": "execute_result"
    }
   ],
   "source": [
    "dados_distintos = dados[['Cor', 'cor']].drop_duplicates()\n",
    "dados_distintos"
   ]
  },
  {
   "cell_type": "code",
   "execution_count": 16,
   "metadata": {},
   "outputs": [
    {
     "data": {
      "application/vnd.microsoft.datawrangler.viewer.v0+json": {
       "columns": [
        {
         "name": "index",
         "rawType": "int64",
         "type": "integer"
        },
        {
         "name": "Anos.de.Estudo",
         "rawType": "int64",
         "type": "integer"
        },
        {
         "name": "anos_de_estudo",
         "rawType": "category",
         "type": "unknown"
        }
       ],
       "ref": "77e851cf-1f86-415e-9a7a-8b22507c0bdf",
       "rows": [
        [
         "0",
         "12",
         "11 anos"
        ],
        [
         "2",
         "15",
         "14 anos"
        ],
        [
         "3",
         "6",
         "5 anos"
        ],
        [
         "4",
         "9",
         "8 anos"
        ],
        [
         "8",
         "14",
         "13 anos"
        ],
        [
         "15",
         "16",
         "15 anos ou mais"
        ],
        [
         "16",
         "10",
         "9 anos"
        ],
        [
         "20",
         "1",
         "Sem instrução e menos de 1 ano"
        ],
        [
         "22",
         "5",
         "4 anos"
        ],
        [
         "36",
         "7",
         "6 anos"
        ],
        [
         "37",
         "3",
         "2 anos"
        ],
        [
         "43",
         "2",
         "1 ano"
        ],
        [
         "49",
         "4",
         "3 anos"
        ],
        [
         "50",
         "8",
         "7 anos"
        ],
        [
         "62",
         "11",
         "10 anos"
        ],
        [
         "74",
         "17",
         "Não determinados"
        ],
        [
         "160",
         "13",
         "12 anos"
        ]
       ],
       "shape": {
        "columns": 2,
        "rows": 17
       }
      },
      "text/html": [
       "<div>\n",
       "<style scoped>\n",
       "    .dataframe tbody tr th:only-of-type {\n",
       "        vertical-align: middle;\n",
       "    }\n",
       "\n",
       "    .dataframe tbody tr th {\n",
       "        vertical-align: top;\n",
       "    }\n",
       "\n",
       "    .dataframe thead th {\n",
       "        text-align: right;\n",
       "    }\n",
       "</style>\n",
       "<table border=\"1\" class=\"dataframe\">\n",
       "  <thead>\n",
       "    <tr style=\"text-align: right;\">\n",
       "      <th></th>\n",
       "      <th>Anos.de.Estudo</th>\n",
       "      <th>anos_de_estudo</th>\n",
       "    </tr>\n",
       "  </thead>\n",
       "  <tbody>\n",
       "    <tr>\n",
       "      <th>0</th>\n",
       "      <td>12</td>\n",
       "      <td>11 anos</td>\n",
       "    </tr>\n",
       "    <tr>\n",
       "      <th>2</th>\n",
       "      <td>15</td>\n",
       "      <td>14 anos</td>\n",
       "    </tr>\n",
       "    <tr>\n",
       "      <th>3</th>\n",
       "      <td>6</td>\n",
       "      <td>5 anos</td>\n",
       "    </tr>\n",
       "    <tr>\n",
       "      <th>4</th>\n",
       "      <td>9</td>\n",
       "      <td>8 anos</td>\n",
       "    </tr>\n",
       "    <tr>\n",
       "      <th>8</th>\n",
       "      <td>14</td>\n",
       "      <td>13 anos</td>\n",
       "    </tr>\n",
       "    <tr>\n",
       "      <th>15</th>\n",
       "      <td>16</td>\n",
       "      <td>15 anos ou mais</td>\n",
       "    </tr>\n",
       "    <tr>\n",
       "      <th>16</th>\n",
       "      <td>10</td>\n",
       "      <td>9 anos</td>\n",
       "    </tr>\n",
       "    <tr>\n",
       "      <th>20</th>\n",
       "      <td>1</td>\n",
       "      <td>Sem instrução e menos de 1 ano</td>\n",
       "    </tr>\n",
       "    <tr>\n",
       "      <th>22</th>\n",
       "      <td>5</td>\n",
       "      <td>4 anos</td>\n",
       "    </tr>\n",
       "    <tr>\n",
       "      <th>36</th>\n",
       "      <td>7</td>\n",
       "      <td>6 anos</td>\n",
       "    </tr>\n",
       "    <tr>\n",
       "      <th>37</th>\n",
       "      <td>3</td>\n",
       "      <td>2 anos</td>\n",
       "    </tr>\n",
       "    <tr>\n",
       "      <th>43</th>\n",
       "      <td>2</td>\n",
       "      <td>1 ano</td>\n",
       "    </tr>\n",
       "    <tr>\n",
       "      <th>49</th>\n",
       "      <td>4</td>\n",
       "      <td>3 anos</td>\n",
       "    </tr>\n",
       "    <tr>\n",
       "      <th>50</th>\n",
       "      <td>8</td>\n",
       "      <td>7 anos</td>\n",
       "    </tr>\n",
       "    <tr>\n",
       "      <th>62</th>\n",
       "      <td>11</td>\n",
       "      <td>10 anos</td>\n",
       "    </tr>\n",
       "    <tr>\n",
       "      <th>74</th>\n",
       "      <td>17</td>\n",
       "      <td>Não determinados</td>\n",
       "    </tr>\n",
       "    <tr>\n",
       "      <th>160</th>\n",
       "      <td>13</td>\n",
       "      <td>12 anos</td>\n",
       "    </tr>\n",
       "  </tbody>\n",
       "</table>\n",
       "</div>"
      ],
      "text/plain": [
       "     Anos.de.Estudo                  anos_de_estudo\n",
       "0                12                         11 anos\n",
       "2                15                         14 anos\n",
       "3                 6                          5 anos\n",
       "4                 9                          8 anos\n",
       "8                14                         13 anos\n",
       "15               16                 15 anos ou mais\n",
       "16               10                          9 anos\n",
       "20                1  Sem instrução e menos de 1 ano\n",
       "22                5                          4 anos\n",
       "36                7                          6 anos\n",
       "37                3                          2 anos\n",
       "43                2                           1 ano\n",
       "49                4                          3 anos\n",
       "50                8                          7 anos\n",
       "62               11                         10 anos\n",
       "74               17                Não determinados\n",
       "160              13                         12 anos"
      ]
     },
     "execution_count": 16,
     "metadata": {},
     "output_type": "execute_result"
    }
   ],
   "source": [
    "dados_distintos = dados[['Anos.de.Estudo', 'anos_de_estudo']].drop_duplicates()\n",
    "dados_distintos"
   ]
  },
  {
   "cell_type": "code",
   "execution_count": 17,
   "metadata": {
    "id": "xLxEV5HYXttD"
   },
   "outputs": [
    {
     "name": "stdout",
     "output_type": "stream",
     "text": [
      "<class 'pandas.core.frame.DataFrame'>\n",
      "RangeIndex: 76840 entries, 0 to 76839\n",
      "Data columns (total 3 columns):\n",
      " #   Column          Non-Null Count  Dtype   \n",
      "---  ------          --------------  -----   \n",
      " 0   sexo            76840 non-null  category\n",
      " 1   cor             76840 non-null  category\n",
      " 2   anos_de_estudo  76840 non-null  category\n",
      "dtypes: category(3)\n",
      "memory usage: 226.2 KB\n",
      "None\n",
      "        sexo     cor anos_de_estudo\n",
      "0  Masculino   Parda        11 anos\n",
      "1   Feminino  Branca        11 anos\n",
      "2   Feminino   Parda        14 anos\n",
      "3  Masculino  Branca         5 anos\n",
      "4   Feminino   Parda         8 anos\n"
     ]
    }
   ],
   "source": [
    "print(dados[['sexo', 'cor', 'anos_de_estudo']].info())\n",
    "print(dados[['sexo', 'cor', 'anos_de_estudo']].head())"
   ]
  },
  {
   "cell_type": "markdown",
   "metadata": {},
   "source": [
    "Abaixo tive que fazer um drop.columns porque criei de forma equivocada uma coluna com outro nome, errei uma letra ao final do nome da coluna e criou uma nova coluna."
   ]
  },
  {
   "cell_type": "code",
   "execution_count": 18,
   "metadata": {},
   "outputs": [
    {
     "data": {
      "application/vnd.microsoft.datawrangler.viewer.v0+json": {
       "columns": [
        {
         "name": "index",
         "rawType": "int64",
         "type": "integer"
        },
        {
         "name": "UF",
         "rawType": "object",
         "type": "string"
        },
        {
         "name": "Sexo",
         "rawType": "int64",
         "type": "integer"
        },
        {
         "name": "Idade",
         "rawType": "int64",
         "type": "integer"
        },
        {
         "name": "Cor",
         "rawType": "int64",
         "type": "integer"
        },
        {
         "name": "Anos.de.Estudo",
         "rawType": "int64",
         "type": "integer"
        },
        {
         "name": "Renda",
         "rawType": "int64",
         "type": "integer"
        },
        {
         "name": "Altura",
         "rawType": "float64",
         "type": "float"
        },
        {
         "name": "sexo",
         "rawType": "category",
         "type": "unknown"
        },
        {
         "name": "cor",
         "rawType": "category",
         "type": "unknown"
        },
        {
         "name": "anos_de_estudo",
         "rawType": "category",
         "type": "unknown"
        }
       ],
       "ref": "033903e0-97a1-4429-ac33-aa2dad57fd8c",
       "rows": [
        [
         "0",
         "Rondônia",
         "0",
         "23",
         "8",
         "12",
         "800",
         "1.6",
         "Masculino",
         "Parda",
         "11 anos"
        ],
        [
         "1",
         "Rondônia",
         "1",
         "23",
         "2",
         "12",
         "1150",
         "1.74",
         "Feminino",
         "Branca",
         "11 anos"
        ],
        [
         "2",
         "Rondônia",
         "1",
         "35",
         "8",
         "15",
         "880",
         "1.76",
         "Feminino",
         "Parda",
         "14 anos"
        ],
        [
         "3",
         "Rondônia",
         "0",
         "46",
         "2",
         "6",
         "3500",
         "1.78",
         "Masculino",
         "Branca",
         "5 anos"
        ],
        [
         "4",
         "Rondônia",
         "1",
         "47",
         "8",
         "9",
         "150",
         "1.69",
         "Feminino",
         "Parda",
         "8 anos"
        ]
       ],
       "shape": {
        "columns": 10,
        "rows": 5
       }
      },
      "text/html": [
       "<div>\n",
       "<style scoped>\n",
       "    .dataframe tbody tr th:only-of-type {\n",
       "        vertical-align: middle;\n",
       "    }\n",
       "\n",
       "    .dataframe tbody tr th {\n",
       "        vertical-align: top;\n",
       "    }\n",
       "\n",
       "    .dataframe thead th {\n",
       "        text-align: right;\n",
       "    }\n",
       "</style>\n",
       "<table border=\"1\" class=\"dataframe\">\n",
       "  <thead>\n",
       "    <tr style=\"text-align: right;\">\n",
       "      <th></th>\n",
       "      <th>UF</th>\n",
       "      <th>Sexo</th>\n",
       "      <th>Idade</th>\n",
       "      <th>Cor</th>\n",
       "      <th>Anos.de.Estudo</th>\n",
       "      <th>Renda</th>\n",
       "      <th>Altura</th>\n",
       "      <th>sexo</th>\n",
       "      <th>cor</th>\n",
       "      <th>anos_de_estudo</th>\n",
       "    </tr>\n",
       "  </thead>\n",
       "  <tbody>\n",
       "    <tr>\n",
       "      <th>0</th>\n",
       "      <td>Rondônia</td>\n",
       "      <td>0</td>\n",
       "      <td>23</td>\n",
       "      <td>8</td>\n",
       "      <td>12</td>\n",
       "      <td>800</td>\n",
       "      <td>1.60</td>\n",
       "      <td>Masculino</td>\n",
       "      <td>Parda</td>\n",
       "      <td>11 anos</td>\n",
       "    </tr>\n",
       "    <tr>\n",
       "      <th>1</th>\n",
       "      <td>Rondônia</td>\n",
       "      <td>1</td>\n",
       "      <td>23</td>\n",
       "      <td>2</td>\n",
       "      <td>12</td>\n",
       "      <td>1150</td>\n",
       "      <td>1.74</td>\n",
       "      <td>Feminino</td>\n",
       "      <td>Branca</td>\n",
       "      <td>11 anos</td>\n",
       "    </tr>\n",
       "    <tr>\n",
       "      <th>2</th>\n",
       "      <td>Rondônia</td>\n",
       "      <td>1</td>\n",
       "      <td>35</td>\n",
       "      <td>8</td>\n",
       "      <td>15</td>\n",
       "      <td>880</td>\n",
       "      <td>1.76</td>\n",
       "      <td>Feminino</td>\n",
       "      <td>Parda</td>\n",
       "      <td>14 anos</td>\n",
       "    </tr>\n",
       "    <tr>\n",
       "      <th>3</th>\n",
       "      <td>Rondônia</td>\n",
       "      <td>0</td>\n",
       "      <td>46</td>\n",
       "      <td>2</td>\n",
       "      <td>6</td>\n",
       "      <td>3500</td>\n",
       "      <td>1.78</td>\n",
       "      <td>Masculino</td>\n",
       "      <td>Branca</td>\n",
       "      <td>5 anos</td>\n",
       "    </tr>\n",
       "    <tr>\n",
       "      <th>4</th>\n",
       "      <td>Rondônia</td>\n",
       "      <td>1</td>\n",
       "      <td>47</td>\n",
       "      <td>8</td>\n",
       "      <td>9</td>\n",
       "      <td>150</td>\n",
       "      <td>1.69</td>\n",
       "      <td>Feminino</td>\n",
       "      <td>Parda</td>\n",
       "      <td>8 anos</td>\n",
       "    </tr>\n",
       "  </tbody>\n",
       "</table>\n",
       "</div>"
      ],
      "text/plain": [
       "         UF  Sexo  Idade  Cor  Anos.de.Estudo  Renda  Altura       sexo  \\\n",
       "0  Rondônia     0     23    8              12    800    1.60  Masculino   \n",
       "1  Rondônia     1     23    2              12   1150    1.74   Feminino   \n",
       "2  Rondônia     1     35    8              15    880    1.76   Feminino   \n",
       "3  Rondônia     0     46    2               6   3500    1.78  Masculino   \n",
       "4  Rondônia     1     47    8               9    150    1.69   Feminino   \n",
       "\n",
       "      cor anos_de_estudo  \n",
       "0   Parda        11 anos  \n",
       "1  Branca        11 anos  \n",
       "2   Parda        14 anos  \n",
       "3  Branca         5 anos  \n",
       "4   Parda         8 anos  "
      ]
     },
     "execution_count": 18,
     "metadata": {},
     "output_type": "execute_result"
    }
   ],
   "source": [
    "dados.head()"
   ]
  },
  {
   "cell_type": "markdown",
   "metadata": {
    "id": "kZO79aSSgp7w"
   },
   "source": [
    "#### **Apresente em texto a menor e maior `Renda` da base de dados**"
   ]
  },
  {
   "cell_type": "markdown",
   "metadata": {
    "id": "L3vbQxRRiMF0"
   },
   "source": [
    "**Dica:** A renda é uma medida discreta. Utilizamos f-strings para formatar a string de forma mais legível e eficiente, substituindo diretamente as variáveis dentro da string"
   ]
  },
  {
   "cell_type": "code",
   "execution_count": 19,
   "metadata": {
    "id": "E93TUzf0XttI"
   },
   "outputs": [
    {
     "name": "stdout",
     "output_type": "stream",
     "text": [
      "A menor renda da base de dados é R$ 0.00\n",
      "A maior renda da base de dados é R$ 200,000.00\n"
     ]
    }
   ],
   "source": [
    "# Obter menor e maior renda\n",
    "menor_renda = dados['Renda'].min()\n",
    "maior_renda = dados['Renda'].max()\n",
    "\n",
    "# Exibir usando f-string\n",
    "print(f\"A menor renda da base de dados é R$ {menor_renda:,.2f}\")\n",
    "print(f\"A maior renda da base de dados é R$ {maior_renda:,.2f}\")"
   ]
  },
  {
   "cell_type": "markdown",
   "metadata": {
    "id": "ix1N_JAH_T1C"
   },
   "source": [
    "## **Módulo 02 - Aula 9 - Desafio Mão na massa: Analisando o perfil das pessoas responsáveis**"
   ]
  },
  {
   "cell_type": "markdown",
   "metadata": {
    "id": "0rBGP9HaAQJj"
   },
   "source": [
    "Vamos prosseguir no treinamento, agora identificando o perfil das pessoas responsáveis pelo domicílio de acordo com os dados da PNAD de 2015. Responda às perguntas abaixo e reflita sobre os achados."
   ]
  },
  {
   "cell_type": "markdown",
   "metadata": {
    "id": "IMiAX2onkchv"
   },
   "source": [
    "#### **Construa uma tabela de frequências das pessoas responsáveis pelo domicílio por `Cat.Sexo`. Adicione também uma coluna com esse valor em porcentagem.**"
   ]
  },
  {
   "cell_type": "code",
   "execution_count": 20,
   "metadata": {
    "id": "wFMEzZ_qXttI"
   },
   "outputs": [
    {
     "data": {
      "application/vnd.microsoft.datawrangler.viewer.v0+json": {
       "columns": [
        {
         "name": "index",
         "rawType": "int64",
         "type": "integer"
        },
        {
         "name": "UF",
         "rawType": "object",
         "type": "string"
        },
        {
         "name": "Sexo",
         "rawType": "int64",
         "type": "integer"
        },
        {
         "name": "Idade",
         "rawType": "int64",
         "type": "integer"
        },
        {
         "name": "Cor",
         "rawType": "int64",
         "type": "integer"
        },
        {
         "name": "Anos.de.Estudo",
         "rawType": "int64",
         "type": "integer"
        },
        {
         "name": "Renda",
         "rawType": "int64",
         "type": "integer"
        },
        {
         "name": "Altura",
         "rawType": "float64",
         "type": "float"
        },
        {
         "name": "sexo",
         "rawType": "category",
         "type": "unknown"
        },
        {
         "name": "cor",
         "rawType": "category",
         "type": "unknown"
        },
        {
         "name": "anos_de_estudo",
         "rawType": "category",
         "type": "unknown"
        }
       ],
       "ref": "a12eea55-7916-494b-a4fd-23c34e86e2d8",
       "rows": [
        [
         "0",
         "Rondônia",
         "0",
         "23",
         "8",
         "12",
         "800",
         "1.6",
         "Masculino",
         "Parda",
         "11 anos"
        ],
        [
         "1",
         "Rondônia",
         "1",
         "23",
         "2",
         "12",
         "1150",
         "1.74",
         "Feminino",
         "Branca",
         "11 anos"
        ],
        [
         "2",
         "Rondônia",
         "1",
         "35",
         "8",
         "15",
         "880",
         "1.76",
         "Feminino",
         "Parda",
         "14 anos"
        ],
        [
         "3",
         "Rondônia",
         "0",
         "46",
         "2",
         "6",
         "3500",
         "1.78",
         "Masculino",
         "Branca",
         "5 anos"
        ],
        [
         "4",
         "Rondônia",
         "1",
         "47",
         "8",
         "9",
         "150",
         "1.69",
         "Feminino",
         "Parda",
         "8 anos"
        ]
       ],
       "shape": {
        "columns": 10,
        "rows": 5
       }
      },
      "text/html": [
       "<div>\n",
       "<style scoped>\n",
       "    .dataframe tbody tr th:only-of-type {\n",
       "        vertical-align: middle;\n",
       "    }\n",
       "\n",
       "    .dataframe tbody tr th {\n",
       "        vertical-align: top;\n",
       "    }\n",
       "\n",
       "    .dataframe thead th {\n",
       "        text-align: right;\n",
       "    }\n",
       "</style>\n",
       "<table border=\"1\" class=\"dataframe\">\n",
       "  <thead>\n",
       "    <tr style=\"text-align: right;\">\n",
       "      <th></th>\n",
       "      <th>UF</th>\n",
       "      <th>Sexo</th>\n",
       "      <th>Idade</th>\n",
       "      <th>Cor</th>\n",
       "      <th>Anos.de.Estudo</th>\n",
       "      <th>Renda</th>\n",
       "      <th>Altura</th>\n",
       "      <th>sexo</th>\n",
       "      <th>cor</th>\n",
       "      <th>anos_de_estudo</th>\n",
       "    </tr>\n",
       "  </thead>\n",
       "  <tbody>\n",
       "    <tr>\n",
       "      <th>0</th>\n",
       "      <td>Rondônia</td>\n",
       "      <td>0</td>\n",
       "      <td>23</td>\n",
       "      <td>8</td>\n",
       "      <td>12</td>\n",
       "      <td>800</td>\n",
       "      <td>1.60</td>\n",
       "      <td>Masculino</td>\n",
       "      <td>Parda</td>\n",
       "      <td>11 anos</td>\n",
       "    </tr>\n",
       "    <tr>\n",
       "      <th>1</th>\n",
       "      <td>Rondônia</td>\n",
       "      <td>1</td>\n",
       "      <td>23</td>\n",
       "      <td>2</td>\n",
       "      <td>12</td>\n",
       "      <td>1150</td>\n",
       "      <td>1.74</td>\n",
       "      <td>Feminino</td>\n",
       "      <td>Branca</td>\n",
       "      <td>11 anos</td>\n",
       "    </tr>\n",
       "    <tr>\n",
       "      <th>2</th>\n",
       "      <td>Rondônia</td>\n",
       "      <td>1</td>\n",
       "      <td>35</td>\n",
       "      <td>8</td>\n",
       "      <td>15</td>\n",
       "      <td>880</td>\n",
       "      <td>1.76</td>\n",
       "      <td>Feminino</td>\n",
       "      <td>Parda</td>\n",
       "      <td>14 anos</td>\n",
       "    </tr>\n",
       "    <tr>\n",
       "      <th>3</th>\n",
       "      <td>Rondônia</td>\n",
       "      <td>0</td>\n",
       "      <td>46</td>\n",
       "      <td>2</td>\n",
       "      <td>6</td>\n",
       "      <td>3500</td>\n",
       "      <td>1.78</td>\n",
       "      <td>Masculino</td>\n",
       "      <td>Branca</td>\n",
       "      <td>5 anos</td>\n",
       "    </tr>\n",
       "    <tr>\n",
       "      <th>4</th>\n",
       "      <td>Rondônia</td>\n",
       "      <td>1</td>\n",
       "      <td>47</td>\n",
       "      <td>8</td>\n",
       "      <td>9</td>\n",
       "      <td>150</td>\n",
       "      <td>1.69</td>\n",
       "      <td>Feminino</td>\n",
       "      <td>Parda</td>\n",
       "      <td>8 anos</td>\n",
       "    </tr>\n",
       "  </tbody>\n",
       "</table>\n",
       "</div>"
      ],
      "text/plain": [
       "         UF  Sexo  Idade  Cor  Anos.de.Estudo  Renda  Altura       sexo  \\\n",
       "0  Rondônia     0     23    8              12    800    1.60  Masculino   \n",
       "1  Rondônia     1     23    2              12   1150    1.74   Feminino   \n",
       "2  Rondônia     1     35    8              15    880    1.76   Feminino   \n",
       "3  Rondônia     0     46    2               6   3500    1.78  Masculino   \n",
       "4  Rondônia     1     47    8               9    150    1.69   Feminino   \n",
       "\n",
       "      cor anos_de_estudo  \n",
       "0   Parda        11 anos  \n",
       "1  Branca        11 anos  \n",
       "2   Parda        14 anos  \n",
       "3  Branca         5 anos  \n",
       "4   Parda         8 anos  "
      ]
     },
     "execution_count": 20,
     "metadata": {},
     "output_type": "execute_result"
    }
   ],
   "source": [
    "dados.head()"
   ]
  },
  {
   "cell_type": "code",
   "execution_count": 21,
   "metadata": {
    "id": "kAj1hTmaXttJ"
   },
   "outputs": [
    {
     "data": {
      "application/vnd.microsoft.datawrangler.viewer.v0+json": {
       "columns": [
        {
         "name": "index",
         "rawType": "int64",
         "type": "integer"
        },
        {
         "name": "sexo",
         "rawType": "category",
         "type": "unknown"
        },
        {
         "name": "freq_absoluta",
         "rawType": "int64",
         "type": "integer"
        }
       ],
       "ref": "6f7a1dbe-fbd3-41cc-a090-6a3d1a65ac4d",
       "rows": [
        [
         "0",
         "Masculino",
         "53250"
        ],
        [
         "1",
         "Feminino",
         "23590"
        ]
       ],
       "shape": {
        "columns": 2,
        "rows": 2
       }
      },
      "text/html": [
       "<div>\n",
       "<style scoped>\n",
       "    .dataframe tbody tr th:only-of-type {\n",
       "        vertical-align: middle;\n",
       "    }\n",
       "\n",
       "    .dataframe tbody tr th {\n",
       "        vertical-align: top;\n",
       "    }\n",
       "\n",
       "    .dataframe thead th {\n",
       "        text-align: right;\n",
       "    }\n",
       "</style>\n",
       "<table border=\"1\" class=\"dataframe\">\n",
       "  <thead>\n",
       "    <tr style=\"text-align: right;\">\n",
       "      <th></th>\n",
       "      <th>sexo</th>\n",
       "      <th>freq_absoluta</th>\n",
       "    </tr>\n",
       "  </thead>\n",
       "  <tbody>\n",
       "    <tr>\n",
       "      <th>0</th>\n",
       "      <td>Masculino</td>\n",
       "      <td>53250</td>\n",
       "    </tr>\n",
       "    <tr>\n",
       "      <th>1</th>\n",
       "      <td>Feminino</td>\n",
       "      <td>23590</td>\n",
       "    </tr>\n",
       "  </tbody>\n",
       "</table>\n",
       "</div>"
      ],
      "text/plain": [
       "        sexo  freq_absoluta\n",
       "0  Masculino          53250\n",
       "1   Feminino          23590"
      ]
     },
     "execution_count": 21,
     "metadata": {},
     "output_type": "execute_result"
    }
   ],
   "source": [
    "# Calculando a frequência absoluta\n",
    "freq_sexo = dados.groupby('sexo', observed=False).size().reset_index(name='freq_absoluta')\n",
    "\n",
    "freq_sexo"
   ]
  },
  {
   "cell_type": "code",
   "execution_count": 22,
   "metadata": {
    "id": "K6DkUjl0XttJ"
   },
   "outputs": [
    {
     "data": {
      "application/vnd.microsoft.datawrangler.viewer.v0+json": {
       "columns": [
        {
         "name": "index",
         "rawType": "int64",
         "type": "integer"
        },
        {
         "name": "sexo",
         "rawType": "category",
         "type": "unknown"
        },
        {
         "name": "freq_absoluta",
         "rawType": "int64",
         "type": "integer"
        },
        {
         "name": "freq_relativa",
         "rawType": "float64",
         "type": "float"
        }
       ],
       "ref": "2144c118-d1aa-4165-91a1-b8c8cb52a191",
       "rows": [
        [
         "0",
         "Masculino",
         "53250",
         "69.3"
        ],
        [
         "1",
         "Feminino",
         "23590",
         "30.7"
        ]
       ],
       "shape": {
        "columns": 3,
        "rows": 2
       }
      },
      "text/html": [
       "<div>\n",
       "<style scoped>\n",
       "    .dataframe tbody tr th:only-of-type {\n",
       "        vertical-align: middle;\n",
       "    }\n",
       "\n",
       "    .dataframe tbody tr th {\n",
       "        vertical-align: top;\n",
       "    }\n",
       "\n",
       "    .dataframe thead th {\n",
       "        text-align: right;\n",
       "    }\n",
       "</style>\n",
       "<table border=\"1\" class=\"dataframe\">\n",
       "  <thead>\n",
       "    <tr style=\"text-align: right;\">\n",
       "      <th></th>\n",
       "      <th>sexo</th>\n",
       "      <th>freq_absoluta</th>\n",
       "      <th>freq_relativa</th>\n",
       "    </tr>\n",
       "  </thead>\n",
       "  <tbody>\n",
       "    <tr>\n",
       "      <th>0</th>\n",
       "      <td>Masculino</td>\n",
       "      <td>53250</td>\n",
       "      <td>69.3</td>\n",
       "    </tr>\n",
       "    <tr>\n",
       "      <th>1</th>\n",
       "      <td>Feminino</td>\n",
       "      <td>23590</td>\n",
       "      <td>30.7</td>\n",
       "    </tr>\n",
       "  </tbody>\n",
       "</table>\n",
       "</div>"
      ],
      "text/plain": [
       "        sexo  freq_absoluta  freq_relativa\n",
       "0  Masculino          53250           69.3\n",
       "1   Feminino          23590           30.7"
      ]
     },
     "execution_count": 22,
     "metadata": {},
     "output_type": "execute_result"
    }
   ],
   "source": [
    "# Calculando a frequência relativa\n",
    "freq_sexo['freq_relativa'] = round((freq_sexo['freq_absoluta'] / freq_sexo['freq_absoluta'].sum())* 100, 2)\n",
    "freq_sexo"
   ]
  },
  {
   "cell_type": "markdown",
   "metadata": {
    "id": "oN452vflnRlO"
   },
   "source": [
    "#### **Construa uma tabela de frequências absolutas e outra de relativas cruzando as variáveis `Cat.Sexo` e `Cat.Cor` das pessoas responsáveis pelo domicílio.**"
   ]
  },
  {
   "cell_type": "code",
   "execution_count": 23,
   "metadata": {
    "id": "7i2AkjumXttL"
   },
   "outputs": [
    {
     "data": {
      "application/vnd.microsoft.datawrangler.viewer.v0+json": {
       "columns": [
        {
         "name": "sexo",
         "rawType": "category",
         "type": "unknown"
        },
        {
         "name": "Indígena",
         "rawType": "int64",
         "type": "integer"
        },
        {
         "name": "Branca",
         "rawType": "int64",
         "type": "integer"
        },
        {
         "name": "Preta",
         "rawType": "int64",
         "type": "integer"
        },
        {
         "name": "Amarela",
         "rawType": "int64",
         "type": "integer"
        },
        {
         "name": "Parda",
         "rawType": "int64",
         "type": "integer"
        }
       ],
       "ref": "5ce02635-4744-409e-a93b-1117b36d6bb0",
       "rows": [
        [
         "Masculino",
         "256",
         "22194",
         "5502",
         "235",
         "25063"
        ],
        [
         "Feminino",
         "101",
         "9621",
         "2889",
         "117",
         "10862"
        ]
       ],
       "shape": {
        "columns": 5,
        "rows": 2
       }
      },
      "text/html": [
       "<div>\n",
       "<style scoped>\n",
       "    .dataframe tbody tr th:only-of-type {\n",
       "        vertical-align: middle;\n",
       "    }\n",
       "\n",
       "    .dataframe tbody tr th {\n",
       "        vertical-align: top;\n",
       "    }\n",
       "\n",
       "    .dataframe thead th {\n",
       "        text-align: right;\n",
       "    }\n",
       "</style>\n",
       "<table border=\"1\" class=\"dataframe\">\n",
       "  <thead>\n",
       "    <tr style=\"text-align: right;\">\n",
       "      <th>cor</th>\n",
       "      <th>Indígena</th>\n",
       "      <th>Branca</th>\n",
       "      <th>Preta</th>\n",
       "      <th>Amarela</th>\n",
       "      <th>Parda</th>\n",
       "    </tr>\n",
       "    <tr>\n",
       "      <th>sexo</th>\n",
       "      <th></th>\n",
       "      <th></th>\n",
       "      <th></th>\n",
       "      <th></th>\n",
       "      <th></th>\n",
       "    </tr>\n",
       "  </thead>\n",
       "  <tbody>\n",
       "    <tr>\n",
       "      <th>Masculino</th>\n",
       "      <td>256</td>\n",
       "      <td>22194</td>\n",
       "      <td>5502</td>\n",
       "      <td>235</td>\n",
       "      <td>25063</td>\n",
       "    </tr>\n",
       "    <tr>\n",
       "      <th>Feminino</th>\n",
       "      <td>101</td>\n",
       "      <td>9621</td>\n",
       "      <td>2889</td>\n",
       "      <td>117</td>\n",
       "      <td>10862</td>\n",
       "    </tr>\n",
       "  </tbody>\n",
       "</table>\n",
       "</div>"
      ],
      "text/plain": [
       "cor        Indígena  Branca  Preta  Amarela  Parda\n",
       "sexo                                              \n",
       "Masculino       256   22194   5502      235  25063\n",
       "Feminino        101    9621   2889      117  10862"
      ]
     },
     "execution_count": 23,
     "metadata": {},
     "output_type": "execute_result"
    }
   ],
   "source": [
    "freq_absoluta = pd.crosstab(dados['sexo'], dados['cor'])\n",
    "freq_absoluta"
   ]
  },
  {
   "cell_type": "code",
   "execution_count": 24,
   "metadata": {
    "id": "GrtfAeCBXttL"
   },
   "outputs": [
    {
     "data": {
      "application/vnd.microsoft.datawrangler.viewer.v0+json": {
       "columns": [
        {
         "name": "sexo",
         "rawType": "category",
         "type": "unknown"
        },
        {
         "name": "Indígena",
         "rawType": "float64",
         "type": "float"
        },
        {
         "name": "Branca",
         "rawType": "float64",
         "type": "float"
        },
        {
         "name": "Preta",
         "rawType": "float64",
         "type": "float"
        },
        {
         "name": "Amarela",
         "rawType": "float64",
         "type": "float"
        },
        {
         "name": "Parda",
         "rawType": "float64",
         "type": "float"
        }
       ],
       "ref": "5980c690-628b-4b55-a742-fa9003e5b34f",
       "rows": [
        [
         "Masculino",
         "0.33",
         "28.88",
         "7.16",
         "0.31",
         "32.62"
        ],
        [
         "Feminino",
         "0.13",
         "12.52",
         "3.76",
         "0.15",
         "14.14"
        ]
       ],
       "shape": {
        "columns": 5,
        "rows": 2
       }
      },
      "text/html": [
       "<div>\n",
       "<style scoped>\n",
       "    .dataframe tbody tr th:only-of-type {\n",
       "        vertical-align: middle;\n",
       "    }\n",
       "\n",
       "    .dataframe tbody tr th {\n",
       "        vertical-align: top;\n",
       "    }\n",
       "\n",
       "    .dataframe thead th {\n",
       "        text-align: right;\n",
       "    }\n",
       "</style>\n",
       "<table border=\"1\" class=\"dataframe\">\n",
       "  <thead>\n",
       "    <tr style=\"text-align: right;\">\n",
       "      <th>cor</th>\n",
       "      <th>Indígena</th>\n",
       "      <th>Branca</th>\n",
       "      <th>Preta</th>\n",
       "      <th>Amarela</th>\n",
       "      <th>Parda</th>\n",
       "    </tr>\n",
       "    <tr>\n",
       "      <th>sexo</th>\n",
       "      <th></th>\n",
       "      <th></th>\n",
       "      <th></th>\n",
       "      <th></th>\n",
       "      <th></th>\n",
       "    </tr>\n",
       "  </thead>\n",
       "  <tbody>\n",
       "    <tr>\n",
       "      <th>Masculino</th>\n",
       "      <td>0.33</td>\n",
       "      <td>28.88</td>\n",
       "      <td>7.16</td>\n",
       "      <td>0.31</td>\n",
       "      <td>32.62</td>\n",
       "    </tr>\n",
       "    <tr>\n",
       "      <th>Feminino</th>\n",
       "      <td>0.13</td>\n",
       "      <td>12.52</td>\n",
       "      <td>3.76</td>\n",
       "      <td>0.15</td>\n",
       "      <td>14.14</td>\n",
       "    </tr>\n",
       "  </tbody>\n",
       "</table>\n",
       "</div>"
      ],
      "text/plain": [
       "cor        Indígena  Branca  Preta  Amarela  Parda\n",
       "sexo                                              \n",
       "Masculino      0.33   28.88   7.16     0.31  32.62\n",
       "Feminino       0.13   12.52   3.76     0.15  14.14"
      ]
     },
     "execution_count": 24,
     "metadata": {},
     "output_type": "execute_result"
    }
   ],
   "source": [
    "freq_relativa = round(pd.crosstab(dados['sexo'], dados['cor'], normalize = 'all') * 100,2)\n",
    "freq_relativa"
   ]
  },
  {
   "cell_type": "markdown",
   "metadata": {
    "id": "gxFG42FfwpN1"
   },
   "source": [
    "> #### Conclusões\n",
    "\n",
    "Concluímos que os responsáveis pelo domicílio são do sexo masculino e em sua grande maioria da cor parda, representando 32,62%, seguido da cor branca com 28,88%."
   ]
  },
  {
   "cell_type": "markdown",
   "metadata": {
    "id": "Opcp5rprwrlX"
   },
   "source": [
    "#### **Construa uma tabela cruzada para calcular a `Renda` média das pessoas responsáveis pelo domicílio em relação ao `Cat.Sexo` e `Cat.Cor`.**"
   ]
  },
  {
   "cell_type": "code",
   "execution_count": 25,
   "metadata": {
    "id": "V1kWR01jXttM"
   },
   "outputs": [
    {
     "data": {
      "application/vnd.microsoft.datawrangler.viewer.v0+json": {
       "columns": [
        {
         "name": "sexo",
         "rawType": "category",
         "type": "unknown"
        },
        {
         "name": "Indígena",
         "rawType": "float64",
         "type": "float"
        },
        {
         "name": "Branca",
         "rawType": "float64",
         "type": "float"
        },
        {
         "name": "Preta",
         "rawType": "float64",
         "type": "float"
        },
        {
         "name": "Amarela",
         "rawType": "float64",
         "type": "float"
        },
        {
         "name": "Parda",
         "rawType": "float64",
         "type": "float"
        }
       ],
       "ref": "81c33fbd-99c7-4175-8334-a481c30748c2",
       "rows": [
        [
         "Masculino",
         "1081.71",
         "2925.74",
         "1603.86",
         "4758.25",
         "1659.58"
        ],
        [
         "Feminino",
         "2464.39",
         "2109.87",
         "1134.6",
         "3027.34",
         "1176.76"
        ]
       ],
       "shape": {
        "columns": 5,
        "rows": 2
       }
      },
      "text/html": [
       "<div>\n",
       "<style scoped>\n",
       "    .dataframe tbody tr th:only-of-type {\n",
       "        vertical-align: middle;\n",
       "    }\n",
       "\n",
       "    .dataframe tbody tr th {\n",
       "        vertical-align: top;\n",
       "    }\n",
       "\n",
       "    .dataframe thead th {\n",
       "        text-align: right;\n",
       "    }\n",
       "</style>\n",
       "<table border=\"1\" class=\"dataframe\">\n",
       "  <thead>\n",
       "    <tr style=\"text-align: right;\">\n",
       "      <th>cor</th>\n",
       "      <th>Indígena</th>\n",
       "      <th>Branca</th>\n",
       "      <th>Preta</th>\n",
       "      <th>Amarela</th>\n",
       "      <th>Parda</th>\n",
       "    </tr>\n",
       "    <tr>\n",
       "      <th>sexo</th>\n",
       "      <th></th>\n",
       "      <th></th>\n",
       "      <th></th>\n",
       "      <th></th>\n",
       "      <th></th>\n",
       "    </tr>\n",
       "  </thead>\n",
       "  <tbody>\n",
       "    <tr>\n",
       "      <th>Masculino</th>\n",
       "      <td>1081.71</td>\n",
       "      <td>2925.74</td>\n",
       "      <td>1603.86</td>\n",
       "      <td>4758.25</td>\n",
       "      <td>1659.58</td>\n",
       "    </tr>\n",
       "    <tr>\n",
       "      <th>Feminino</th>\n",
       "      <td>2464.39</td>\n",
       "      <td>2109.87</td>\n",
       "      <td>1134.60</td>\n",
       "      <td>3027.34</td>\n",
       "      <td>1176.76</td>\n",
       "    </tr>\n",
       "  </tbody>\n",
       "</table>\n",
       "</div>"
      ],
      "text/plain": [
       "cor        Indígena   Branca    Preta  Amarela    Parda\n",
       "sexo                                                   \n",
       "Masculino   1081.71  2925.74  1603.86  4758.25  1659.58\n",
       "Feminino    2464.39  2109.87  1134.60  3027.34  1176.76"
      ]
     },
     "execution_count": 25,
     "metadata": {},
     "output_type": "execute_result"
    }
   ],
   "source": [
    "ticket_medio = round(pd.crosstab(dados['sexo'], dados['cor'], values=dados['Renda'], aggfunc='mean'),2)\n",
    "ticket_medio"
   ]
  },
  {
   "cell_type": "markdown",
   "metadata": {
    "id": "d5Iwt1EKwNfp"
   },
   "source": [
    "> #### Conclusões\n",
    "\n",
    "Concluímos que a renda média mais alta se concentra no sexo masculino e em sua grande maioria na cor amarela com R$ 4.758,25 e na cor branca com R$ 2.925,74."
   ]
  },
  {
   "cell_type": "markdown",
   "metadata": {
    "id": "1uTAdILB_T6m"
   },
   "source": [
    "## **Módulo 03 - Aula 10 - Desafio Mão na massa: Analisando a renda das pessoas responsáveis**"
   ]
  },
  {
   "cell_type": "markdown",
   "metadata": {
    "id": "xAZjitTs-roh"
   },
   "source": [
    "Nesta etapa do treinamento, vamos analisar mais dados das pessoas responsáveis pelo domicílio de acordo com os dados da PNAD de 2015, focando na renda e na variável que criamos com as suas alturas. Responda às perguntas abaixo e reflita sobre os achados."
   ]
  },
  {
   "cell_type": "markdown",
   "metadata": {
    "id": "pTpoxoY7-roj"
   },
   "source": [
    "#### **Calcule as medidas de tendência central (média, mediana e moda) para a variável `Renda`**"
   ]
  },
  {
   "cell_type": "code",
   "execution_count": 26,
   "metadata": {
    "id": "bl8w7WoKXttN"
   },
   "outputs": [
    {
     "data": {
      "text/plain": [
       "np.float64(2000.38)"
      ]
     },
     "execution_count": 26,
     "metadata": {},
     "output_type": "execute_result"
    }
   ],
   "source": [
    "round(dados['Renda'].mean(), 2)"
   ]
  },
  {
   "cell_type": "code",
   "execution_count": 27,
   "metadata": {
    "id": "szcR7gjBXttN"
   },
   "outputs": [
    {
     "data": {
      "text/plain": [
       "np.float64(1200.0)"
      ]
     },
     "execution_count": 27,
     "metadata": {},
     "output_type": "execute_result"
    }
   ],
   "source": [
    "dados.Renda.median()"
   ]
  },
  {
   "cell_type": "code",
   "execution_count": 28,
   "metadata": {
    "id": "v3T4O-ckXttN"
   },
   "outputs": [],
   "source": [
    "moda = dados.Renda.mode()"
   ]
  },
  {
   "cell_type": "code",
   "execution_count": 29,
   "metadata": {
    "id": "7dfubW93XttO"
   },
   "outputs": [
    {
     "data": {
      "application/vnd.microsoft.datawrangler.viewer.v0+json": {
       "columns": [
        {
         "name": "Renda",
         "rawType": "int64",
         "type": "integer"
        },
        {
         "name": "count",
         "rawType": "int64",
         "type": "integer"
        }
       ],
       "ref": "b8cc5d42-5067-43f9-87a7-59be4c27b89b",
       "rows": [
        [
         "788",
         "6881"
        ]
       ],
       "shape": {
        "columns": 1,
        "rows": 1
       }
      },
      "text/plain": [
       "Renda\n",
       "788    6881\n",
       "Name: count, dtype: int64"
      ]
     },
     "execution_count": 29,
     "metadata": {},
     "output_type": "execute_result"
    }
   ],
   "source": [
    "frequencia = dados[dados['Renda'].isin(moda.values)]\n",
    "frequencia.Renda.value_counts()"
   ]
  },
  {
   "cell_type": "markdown",
   "metadata": {
    "id": "ICXWPxBCB9F3"
   },
   "source": [
    "#### **Crie um gráfico de barras do Top 5 estados pela médias de `Renda`**"
   ]
  },
  {
   "cell_type": "markdown",
   "metadata": {
    "id": "Fn0HRjQTFcqc"
   },
   "source": [
    "**Dica:** Para conseguir apresentar apenas os Top 5 estados utilize a função `head()` passando como variável quantos valores deseja apresentar."
   ]
  },
  {
   "cell_type": "code",
   "execution_count": 30,
   "metadata": {
    "id": "fMCt_o-yXttO"
   },
   "outputs": [
    {
     "data": {
      "application/vnd.microsoft.datawrangler.viewer.v0+json": {
       "columns": [
        {
         "name": "index",
         "rawType": "int64",
         "type": "integer"
        },
        {
         "name": "UF",
         "rawType": "object",
         "type": "string"
        },
        {
         "name": "Sexo",
         "rawType": "int64",
         "type": "integer"
        },
        {
         "name": "Idade",
         "rawType": "int64",
         "type": "integer"
        },
        {
         "name": "Cor",
         "rawType": "int64",
         "type": "integer"
        },
        {
         "name": "Anos.de.Estudo",
         "rawType": "int64",
         "type": "integer"
        },
        {
         "name": "Renda",
         "rawType": "int64",
         "type": "integer"
        },
        {
         "name": "Altura",
         "rawType": "float64",
         "type": "float"
        },
        {
         "name": "sexo",
         "rawType": "category",
         "type": "unknown"
        },
        {
         "name": "cor",
         "rawType": "category",
         "type": "unknown"
        },
        {
         "name": "anos_de_estudo",
         "rawType": "category",
         "type": "unknown"
        }
       ],
       "ref": "224d2df2-9105-48b8-8007-2d8a2ffc062b",
       "rows": [
        [
         "0",
         "Rondônia",
         "0",
         "23",
         "8",
         "12",
         "800",
         "1.6",
         "Masculino",
         "Parda",
         "11 anos"
        ],
        [
         "1",
         "Rondônia",
         "1",
         "23",
         "2",
         "12",
         "1150",
         "1.74",
         "Feminino",
         "Branca",
         "11 anos"
        ],
        [
         "2",
         "Rondônia",
         "1",
         "35",
         "8",
         "15",
         "880",
         "1.76",
         "Feminino",
         "Parda",
         "14 anos"
        ]
       ],
       "shape": {
        "columns": 10,
        "rows": 3
       }
      },
      "text/html": [
       "<div>\n",
       "<style scoped>\n",
       "    .dataframe tbody tr th:only-of-type {\n",
       "        vertical-align: middle;\n",
       "    }\n",
       "\n",
       "    .dataframe tbody tr th {\n",
       "        vertical-align: top;\n",
       "    }\n",
       "\n",
       "    .dataframe thead th {\n",
       "        text-align: right;\n",
       "    }\n",
       "</style>\n",
       "<table border=\"1\" class=\"dataframe\">\n",
       "  <thead>\n",
       "    <tr style=\"text-align: right;\">\n",
       "      <th></th>\n",
       "      <th>UF</th>\n",
       "      <th>Sexo</th>\n",
       "      <th>Idade</th>\n",
       "      <th>Cor</th>\n",
       "      <th>Anos.de.Estudo</th>\n",
       "      <th>Renda</th>\n",
       "      <th>Altura</th>\n",
       "      <th>sexo</th>\n",
       "      <th>cor</th>\n",
       "      <th>anos_de_estudo</th>\n",
       "    </tr>\n",
       "  </thead>\n",
       "  <tbody>\n",
       "    <tr>\n",
       "      <th>0</th>\n",
       "      <td>Rondônia</td>\n",
       "      <td>0</td>\n",
       "      <td>23</td>\n",
       "      <td>8</td>\n",
       "      <td>12</td>\n",
       "      <td>800</td>\n",
       "      <td>1.60</td>\n",
       "      <td>Masculino</td>\n",
       "      <td>Parda</td>\n",
       "      <td>11 anos</td>\n",
       "    </tr>\n",
       "    <tr>\n",
       "      <th>1</th>\n",
       "      <td>Rondônia</td>\n",
       "      <td>1</td>\n",
       "      <td>23</td>\n",
       "      <td>2</td>\n",
       "      <td>12</td>\n",
       "      <td>1150</td>\n",
       "      <td>1.74</td>\n",
       "      <td>Feminino</td>\n",
       "      <td>Branca</td>\n",
       "      <td>11 anos</td>\n",
       "    </tr>\n",
       "    <tr>\n",
       "      <th>2</th>\n",
       "      <td>Rondônia</td>\n",
       "      <td>1</td>\n",
       "      <td>35</td>\n",
       "      <td>8</td>\n",
       "      <td>15</td>\n",
       "      <td>880</td>\n",
       "      <td>1.76</td>\n",
       "      <td>Feminino</td>\n",
       "      <td>Parda</td>\n",
       "      <td>14 anos</td>\n",
       "    </tr>\n",
       "  </tbody>\n",
       "</table>\n",
       "</div>"
      ],
      "text/plain": [
       "         UF  Sexo  Idade  Cor  Anos.de.Estudo  Renda  Altura       sexo  \\\n",
       "0  Rondônia     0     23    8              12    800    1.60  Masculino   \n",
       "1  Rondônia     1     23    2              12   1150    1.74   Feminino   \n",
       "2  Rondônia     1     35    8              15    880    1.76   Feminino   \n",
       "\n",
       "      cor anos_de_estudo  \n",
       "0   Parda        11 anos  \n",
       "1  Branca        11 anos  \n",
       "2   Parda        14 anos  "
      ]
     },
     "execution_count": 30,
     "metadata": {},
     "output_type": "execute_result"
    }
   ],
   "source": [
    "dados.head(3)"
   ]
  },
  {
   "cell_type": "code",
   "execution_count": 31,
   "metadata": {
    "id": "m09IJri9XttO"
   },
   "outputs": [
    {
     "data": {
      "application/vnd.microsoft.datawrangler.viewer.v0+json": {
       "columns": [
        {
         "name": "index",
         "rawType": "int64",
         "type": "integer"
        },
        {
         "name": "UF",
         "rawType": "object",
         "type": "string"
        },
        {
         "name": "media",
         "rawType": "float64",
         "type": "float"
        }
       ],
       "ref": "deb39cdb-3d9a-4353-bec9-3cc4c86c9892",
       "rows": [
        [
         "6",
         "Distrito Federal",
         "4241.95"
        ],
        [
         "25",
         "São Paulo",
         "2638.1"
        ],
        [
         "20",
         "Rio de Janeiro",
         "2496.4"
        ],
        [
         "13",
         "Paraná",
         "2493.87"
        ],
        [
         "23",
         "Santa Catarina",
         "2470.85"
        ]
       ],
       "shape": {
        "columns": 2,
        "rows": 5
       }
      },
      "text/html": [
       "<div>\n",
       "<style scoped>\n",
       "    .dataframe tbody tr th:only-of-type {\n",
       "        vertical-align: middle;\n",
       "    }\n",
       "\n",
       "    .dataframe tbody tr th {\n",
       "        vertical-align: top;\n",
       "    }\n",
       "\n",
       "    .dataframe thead th {\n",
       "        text-align: right;\n",
       "    }\n",
       "</style>\n",
       "<table border=\"1\" class=\"dataframe\">\n",
       "  <thead>\n",
       "    <tr style=\"text-align: right;\">\n",
       "      <th></th>\n",
       "      <th>UF</th>\n",
       "      <th>media</th>\n",
       "    </tr>\n",
       "  </thead>\n",
       "  <tbody>\n",
       "    <tr>\n",
       "      <th>6</th>\n",
       "      <td>Distrito Federal</td>\n",
       "      <td>4241.95</td>\n",
       "    </tr>\n",
       "    <tr>\n",
       "      <th>25</th>\n",
       "      <td>São Paulo</td>\n",
       "      <td>2638.10</td>\n",
       "    </tr>\n",
       "    <tr>\n",
       "      <th>20</th>\n",
       "      <td>Rio de Janeiro</td>\n",
       "      <td>2496.40</td>\n",
       "    </tr>\n",
       "    <tr>\n",
       "      <th>13</th>\n",
       "      <td>Paraná</td>\n",
       "      <td>2493.87</td>\n",
       "    </tr>\n",
       "    <tr>\n",
       "      <th>23</th>\n",
       "      <td>Santa Catarina</td>\n",
       "      <td>2470.85</td>\n",
       "    </tr>\n",
       "  </tbody>\n",
       "</table>\n",
       "</div>"
      ],
      "text/plain": [
       "                  UF    media\n",
       "6   Distrito Federal  4241.95\n",
       "25         São Paulo  2638.10\n",
       "20    Rio de Janeiro  2496.40\n",
       "13            Paraná  2493.87\n",
       "23    Santa Catarina  2470.85"
      ]
     },
     "execution_count": 31,
     "metadata": {},
     "output_type": "execute_result"
    }
   ],
   "source": [
    "# Calculando a média de renda por UF\n",
    "top5_renda = dados.groupby('UF').agg(media=('Renda', 'mean')).reset_index()\n",
    "\n",
    "# Ordenando e selecionando os 5 estados com as maiores médias de renda\n",
    "top5_renda = round(top5_renda.sort_values(by='media', ascending=False).head(5),2)\n",
    "\n",
    "top5_renda"
   ]
  },
  {
   "cell_type": "code",
   "execution_count": 32,
   "metadata": {
    "id": "RGDhPHhUXttO"
   },
   "outputs": [
    {
     "data": {
      "image/png": "[encoded data removed]",
      "text/plain": [
       "<Figure size 640x480 with 1 Axes>"
      ]
     },
     "metadata": {},
     "output_type": "display_data"
    }
   ],
   "source": [
    "sns.barplot(data=top5_renda, x='media', y='UF')\n",
    "plt.show()"
   ]
  },
  {
   "cell_type": "markdown",
   "metadata": {
    "id": "-3RjEjJrKa0J"
   },
   "source": [
    "> #### Conclusões\n",
    "\n",
    "Conclui-se que a maior renda está no estado do Distrito Federal com uma renda média passando dos R$ 4.241,95, seguida pelo estado de São Paulo com renda média de R$ 2.638,10 e que a renda média na comparação entre os 5 estados com a maior renda é de aproximadamente R$ 2.500,00."
   ]
  },
  {
   "cell_type": "markdown",
   "metadata": {
    "id": "7wYIJXkt-roo"
   },
   "source": [
    "#### **Construa 3 tabelas cruzadas calculando a média, mediana e valores máximos de `Renda` relacionando as pessoas responsáveis por estado da Região Sudeste (`UF`) e por `Cat.Sexo`**"
   ]
  },
  {
   "cell_type": "code",
   "execution_count": 33,
   "metadata": {
    "id": "1H0p2Cr_XttP"
   },
   "outputs": [
    {
     "data": {
      "application/vnd.microsoft.datawrangler.viewer.v0+json": {
       "columns": [
        {
         "name": "index",
         "rawType": "int64",
         "type": "integer"
        },
        {
         "name": "UF",
         "rawType": "object",
         "type": "string"
        },
        {
         "name": "Sexo",
         "rawType": "int64",
         "type": "integer"
        },
        {
         "name": "Idade",
         "rawType": "int64",
         "type": "integer"
        },
        {
         "name": "Cor",
         "rawType": "int64",
         "type": "integer"
        },
        {
         "name": "Anos.de.Estudo",
         "rawType": "int64",
         "type": "integer"
        },
        {
         "name": "Renda",
         "rawType": "int64",
         "type": "integer"
        },
        {
         "name": "Altura",
         "rawType": "float64",
         "type": "float"
        },
        {
         "name": "sexo",
         "rawType": "category",
         "type": "unknown"
        },
        {
         "name": "cor",
         "rawType": "category",
         "type": "unknown"
        },
        {
         "name": "anos_de_estudo",
         "rawType": "category",
         "type": "unknown"
        }
       ],
       "ref": "633d2e8d-887f-4f51-bb37-475da5cecd31",
       "rows": [
        [
         "31818",
         "Minas Gerais",
         "0",
         "40",
         "2",
         "12",
         "1600",
         "1.62",
         "Masculino",
         "Branca",
         "11 anos"
        ],
        [
         "31819",
         "Minas Gerais",
         "0",
         "58",
         "8",
         "5",
         "850",
         "1.58",
         "Masculino",
         "Parda",
         "4 anos"
        ],
        [
         "31820",
         "Minas Gerais",
         "0",
         "36",
         "8",
         "3",
         "1400",
         "1.75",
         "Masculino",
         "Parda",
         "2 anos"
        ],
        [
         "31821",
         "Minas Gerais",
         "0",
         "21",
         "8",
         "11",
         "1500",
         "1.66",
         "Masculino",
         "Parda",
         "10 anos"
        ],
        [
         "31822",
         "Minas Gerais",
         "0",
         "28",
         "2",
         "9",
         "1600",
         "1.62",
         "Masculino",
         "Branca",
         "8 anos"
        ],
        [
         "31823",
         "Minas Gerais",
         "0",
         "39",
         "2",
         "3",
         "1100",
         "1.63",
         "Masculino",
         "Branca",
         "2 anos"
        ],
        [
         "31824",
         "Minas Gerais",
         "0",
         "21",
         "2",
         "8",
         "1200",
         "1.73",
         "Masculino",
         "Branca",
         "7 anos"
        ],
        [
         "31825",
         "Minas Gerais",
         "0",
         "51",
         "8",
         "5",
         "1800",
         "1.67",
         "Masculino",
         "Parda",
         "4 anos"
        ],
        [
         "31826",
         "Minas Gerais",
         "0",
         "37",
         "8",
         "11",
         "2100",
         "1.61",
         "Masculino",
         "Parda",
         "10 anos"
        ],
        [
         "31827",
         "Minas Gerais",
         "0",
         "29",
         "8",
         "12",
         "2500",
         "1.79",
         "Masculino",
         "Parda",
         "11 anos"
        ],
        [
         "31828",
         "Minas Gerais",
         "0",
         "59",
         "2",
         "9",
         "1600",
         "1.68",
         "Masculino",
         "Branca",
         "8 anos"
        ],
        [
         "31829",
         "Minas Gerais",
         "0",
         "45",
         "8",
         "1",
         "0",
         "1.61",
         "Masculino",
         "Parda",
         "Sem instrução e menos de 1 ano"
        ],
        [
         "31830",
         "Minas Gerais",
         "0",
         "62",
         "8",
         "4",
         "1200",
         "1.61",
         "Masculino",
         "Parda",
         "3 anos"
        ],
        [
         "31831",
         "Minas Gerais",
         "0",
         "47",
         "8",
         "5",
         "1200",
         "1.71",
         "Masculino",
         "Parda",
         "4 anos"
        ],
        [
         "31832",
         "Minas Gerais",
         "0",
         "66",
         "8",
         "2",
         "1400",
         "1.67",
         "Masculino",
         "Parda",
         "1 ano"
        ],
        [
         "31833",
         "Minas Gerais",
         "1",
         "43",
         "8",
         "12",
         "200",
         "1.84",
         "Feminino",
         "Parda",
         "11 anos"
        ],
        [
         "31834",
         "Minas Gerais",
         "0",
         "43",
         "8",
         "6",
         "788",
         "1.69",
         "Masculino",
         "Parda",
         "5 anos"
        ],
        [
         "31835",
         "Minas Gerais",
         "0",
         "48",
         "8",
         "1",
         "788",
         "1.62",
         "Masculino",
         "Parda",
         "Sem instrução e menos de 1 ano"
        ],
        [
         "31836",
         "Minas Gerais",
         "0",
         "53",
         "8",
         "7",
         "1200",
         "1.72",
         "Masculino",
         "Parda",
         "6 anos"
        ],
        [
         "31837",
         "Minas Gerais",
         "0",
         "45",
         "8",
         "7",
         "1000",
         "1.79",
         "Masculino",
         "Parda",
         "6 anos"
        ],
        [
         "31838",
         "Minas Gerais",
         "0",
         "42",
         "8",
         "2",
         "1350",
         "1.76",
         "Masculino",
         "Parda",
         "1 ano"
        ],
        [
         "31839",
         "Minas Gerais",
         "0",
         "50",
         "2",
         "5",
         "3000",
         "1.8",
         "Masculino",
         "Branca",
         "4 anos"
        ],
        [
         "31840",
         "Minas Gerais",
         "0",
         "83",
         "4",
         "3",
         "600",
         "1.76",
         "Masculino",
         "Preta",
         "2 anos"
        ],
        [
         "31841",
         "Minas Gerais",
         "0",
         "55",
         "8",
         "12",
         "788",
         "1.63",
         "Masculino",
         "Parda",
         "11 anos"
        ],
        [
         "31842",
         "Minas Gerais",
         "0",
         "33",
         "8",
         "11",
         "2100",
         "1.75",
         "Masculino",
         "Parda",
         "10 anos"
        ],
        [
         "31843",
         "Minas Gerais",
         "0",
         "53",
         "8",
         "1",
         "1000",
         "1.61",
         "Masculino",
         "Parda",
         "Sem instrução e menos de 1 ano"
        ],
        [
         "31844",
         "Minas Gerais",
         "0",
         "64",
         "2",
         "5",
         "700",
         "1.6",
         "Masculino",
         "Branca",
         "4 anos"
        ],
        [
         "31845",
         "Minas Gerais",
         "0",
         "55",
         "4",
         "4",
         "1100",
         "1.72",
         "Masculino",
         "Preta",
         "3 anos"
        ],
        [
         "31846",
         "Minas Gerais",
         "0",
         "61",
         "8",
         "1",
         "1200",
         "1.67",
         "Masculino",
         "Parda",
         "Sem instrução e menos de 1 ano"
        ],
        [
         "31847",
         "Minas Gerais",
         "0",
         "64",
         "8",
         "4",
         "0",
         "1.75",
         "Masculino",
         "Parda",
         "3 anos"
        ],
        [
         "31848",
         "Minas Gerais",
         "0",
         "45",
         "2",
         "5",
         "1660",
         "1.51",
         "Masculino",
         "Branca",
         "4 anos"
        ],
        [
         "31849",
         "Minas Gerais",
         "0",
         "74",
         "8",
         "2",
         "1600",
         "1.9",
         "Masculino",
         "Parda",
         "1 ano"
        ],
        [
         "31850",
         "Minas Gerais",
         "0",
         "29",
         "8",
         "12",
         "1000",
         "1.72",
         "Masculino",
         "Parda",
         "11 anos"
        ],
        [
         "31851",
         "Minas Gerais",
         "0",
         "70",
         "8",
         "1",
         "400",
         "1.59",
         "Masculino",
         "Parda",
         "Sem instrução e menos de 1 ano"
        ],
        [
         "31852",
         "Minas Gerais",
         "0",
         "68",
         "4",
         "5",
         "1200",
         "1.69",
         "Masculino",
         "Preta",
         "4 anos"
        ],
        [
         "31853",
         "Minas Gerais",
         "1",
         "36",
         "2",
         "12",
         "200",
         "1.65",
         "Feminino",
         "Branca",
         "11 anos"
        ],
        [
         "31854",
         "Minas Gerais",
         "0",
         "41",
         "2",
         "12",
         "1500",
         "1.65",
         "Masculino",
         "Branca",
         "11 anos"
        ],
        [
         "31855",
         "Minas Gerais",
         "0",
         "43",
         "2",
         "16",
         "3500",
         "1.91",
         "Masculino",
         "Branca",
         "15 anos ou mais"
        ],
        [
         "31856",
         "Minas Gerais",
         "1",
         "51",
         "8",
         "16",
         "788",
         "1.55",
         "Feminino",
         "Parda",
         "15 anos ou mais"
        ],
        [
         "31857",
         "Minas Gerais",
         "0",
         "55",
         "2",
         "16",
         "6000",
         "1.55",
         "Masculino",
         "Branca",
         "15 anos ou mais"
        ],
        [
         "31858",
         "Minas Gerais",
         "0",
         "53",
         "8",
         "12",
         "2900",
         "1.73",
         "Masculino",
         "Parda",
         "11 anos"
        ],
        [
         "31859",
         "Minas Gerais",
         "1",
         "47",
         "2",
         "16",
         "3000",
         "1.75",
         "Feminino",
         "Branca",
         "15 anos ou mais"
        ],
        [
         "31860",
         "Minas Gerais",
         "0",
         "52",
         "2",
         "11",
         "1100",
         "1.82",
         "Masculino",
         "Branca",
         "10 anos"
        ],
        [
         "31861",
         "Minas Gerais",
         "0",
         "37",
         "8",
         "12",
         "1100",
         "1.7",
         "Masculino",
         "Parda",
         "11 anos"
        ],
        [
         "31862",
         "Minas Gerais",
         "1",
         "62",
         "2",
         "1",
         "600",
         "1.64",
         "Feminino",
         "Branca",
         "Sem instrução e menos de 1 ano"
        ],
        [
         "31863",
         "Minas Gerais",
         "1",
         "39",
         "2",
         "16",
         "3000",
         "1.68",
         "Feminino",
         "Branca",
         "15 anos ou mais"
        ],
        [
         "31864",
         "Minas Gerais",
         "0",
         "45",
         "2",
         "15",
         "2000",
         "1.68",
         "Masculino",
         "Branca",
         "14 anos"
        ],
        [
         "31865",
         "Minas Gerais",
         "1",
         "48",
         "2",
         "16",
         "2000",
         "1.65",
         "Feminino",
         "Branca",
         "15 anos ou mais"
        ],
        [
         "31866",
         "Minas Gerais",
         "0",
         "44",
         "8",
         "6",
         "1680",
         "1.66",
         "Masculino",
         "Parda",
         "5 anos"
        ],
        [
         "31867",
         "Minas Gerais",
         "0",
         "23",
         "2",
         "12",
         "788",
         "1.9",
         "Masculino",
         "Branca",
         "11 anos"
        ]
       ],
       "shape": {
        "columns": 10,
        "rows": 23297
       }
      },
      "text/html": [
       "<div>\n",
       "<style scoped>\n",
       "    .dataframe tbody tr th:only-of-type {\n",
       "        vertical-align: middle;\n",
       "    }\n",
       "\n",
       "    .dataframe tbody tr th {\n",
       "        vertical-align: top;\n",
       "    }\n",
       "\n",
       "    .dataframe thead th {\n",
       "        text-align: right;\n",
       "    }\n",
       "</style>\n",
       "<table border=\"1\" class=\"dataframe\">\n",
       "  <thead>\n",
       "    <tr style=\"text-align: right;\">\n",
       "      <th></th>\n",
       "      <th>UF</th>\n",
       "      <th>Sexo</th>\n",
       "      <th>Idade</th>\n",
       "      <th>Cor</th>\n",
       "      <th>Anos.de.Estudo</th>\n",
       "      <th>Renda</th>\n",
       "      <th>Altura</th>\n",
       "      <th>sexo</th>\n",
       "      <th>cor</th>\n",
       "      <th>anos_de_estudo</th>\n",
       "    </tr>\n",
       "  </thead>\n",
       "  <tbody>\n",
       "    <tr>\n",
       "      <th>31818</th>\n",
       "      <td>Minas Gerais</td>\n",
       "      <td>0</td>\n",
       "      <td>40</td>\n",
       "      <td>2</td>\n",
       "      <td>12</td>\n",
       "      <td>1600</td>\n",
       "      <td>1.62</td>\n",
       "      <td>Masculino</td>\n",
       "      <td>Branca</td>\n",
       "      <td>11 anos</td>\n",
       "    </tr>\n",
       "    <tr>\n",
       "      <th>31819</th>\n",
       "      <td>Minas Gerais</td>\n",
       "      <td>0</td>\n",
       "      <td>58</td>\n",
       "      <td>8</td>\n",
       "      <td>5</td>\n",
       "      <td>850</td>\n",
       "      <td>1.58</td>\n",
       "      <td>Masculino</td>\n",
       "      <td>Parda</td>\n",
       "      <td>4 anos</td>\n",
       "    </tr>\n",
       "    <tr>\n",
       "      <th>31820</th>\n",
       "      <td>Minas Gerais</td>\n",
       "      <td>0</td>\n",
       "      <td>36</td>\n",
       "      <td>8</td>\n",
       "      <td>3</td>\n",
       "      <td>1400</td>\n",
       "      <td>1.75</td>\n",
       "      <td>Masculino</td>\n",
       "      <td>Parda</td>\n",
       "      <td>2 anos</td>\n",
       "    </tr>\n",
       "    <tr>\n",
       "      <th>31821</th>\n",
       "      <td>Minas Gerais</td>\n",
       "      <td>0</td>\n",
       "      <td>21</td>\n",
       "      <td>8</td>\n",
       "      <td>11</td>\n",
       "      <td>1500</td>\n",
       "      <td>1.66</td>\n",
       "      <td>Masculino</td>\n",
       "      <td>Parda</td>\n",
       "      <td>10 anos</td>\n",
       "    </tr>\n",
       "    <tr>\n",
       "      <th>31822</th>\n",
       "      <td>Minas Gerais</td>\n",
       "      <td>0</td>\n",
       "      <td>28</td>\n",
       "      <td>2</td>\n",
       "      <td>9</td>\n",
       "      <td>1600</td>\n",
       "      <td>1.62</td>\n",
       "      <td>Masculino</td>\n",
       "      <td>Branca</td>\n",
       "      <td>8 anos</td>\n",
       "    </tr>\n",
       "    <tr>\n",
       "      <th>...</th>\n",
       "      <td>...</td>\n",
       "      <td>...</td>\n",
       "      <td>...</td>\n",
       "      <td>...</td>\n",
       "      <td>...</td>\n",
       "      <td>...</td>\n",
       "      <td>...</td>\n",
       "      <td>...</td>\n",
       "      <td>...</td>\n",
       "      <td>...</td>\n",
       "    </tr>\n",
       "    <tr>\n",
       "      <th>55110</th>\n",
       "      <td>São Paulo</td>\n",
       "      <td>0</td>\n",
       "      <td>52</td>\n",
       "      <td>8</td>\n",
       "      <td>12</td>\n",
       "      <td>1500</td>\n",
       "      <td>1.82</td>\n",
       "      <td>Masculino</td>\n",
       "      <td>Parda</td>\n",
       "      <td>11 anos</td>\n",
       "    </tr>\n",
       "    <tr>\n",
       "      <th>55111</th>\n",
       "      <td>São Paulo</td>\n",
       "      <td>0</td>\n",
       "      <td>30</td>\n",
       "      <td>8</td>\n",
       "      <td>12</td>\n",
       "      <td>1500</td>\n",
       "      <td>1.48</td>\n",
       "      <td>Masculino</td>\n",
       "      <td>Parda</td>\n",
       "      <td>11 anos</td>\n",
       "    </tr>\n",
       "    <tr>\n",
       "      <th>55112</th>\n",
       "      <td>São Paulo</td>\n",
       "      <td>0</td>\n",
       "      <td>43</td>\n",
       "      <td>8</td>\n",
       "      <td>5</td>\n",
       "      <td>1100</td>\n",
       "      <td>1.72</td>\n",
       "      <td>Masculino</td>\n",
       "      <td>Parda</td>\n",
       "      <td>4 anos</td>\n",
       "    </tr>\n",
       "    <tr>\n",
       "      <th>55113</th>\n",
       "      <td>São Paulo</td>\n",
       "      <td>1</td>\n",
       "      <td>51</td>\n",
       "      <td>8</td>\n",
       "      <td>16</td>\n",
       "      <td>1600</td>\n",
       "      <td>1.75</td>\n",
       "      <td>Feminino</td>\n",
       "      <td>Parda</td>\n",
       "      <td>15 anos ou mais</td>\n",
       "    </tr>\n",
       "    <tr>\n",
       "      <th>55114</th>\n",
       "      <td>São Paulo</td>\n",
       "      <td>0</td>\n",
       "      <td>59</td>\n",
       "      <td>8</td>\n",
       "      <td>12</td>\n",
       "      <td>1600</td>\n",
       "      <td>1.72</td>\n",
       "      <td>Masculino</td>\n",
       "      <td>Parda</td>\n",
       "      <td>11 anos</td>\n",
       "    </tr>\n",
       "  </tbody>\n",
       "</table>\n",
       "<p>23297 rows × 10 columns</p>\n",
       "</div>"
      ],
      "text/plain": [
       "                 UF  Sexo  Idade  Cor  Anos.de.Estudo  Renda  Altura  \\\n",
       "31818  Minas Gerais     0     40    2              12   1600    1.62   \n",
       "31819  Minas Gerais     0     58    8               5    850    1.58   \n",
       "31820  Minas Gerais     0     36    8               3   1400    1.75   \n",
       "31821  Minas Gerais     0     21    8              11   1500    1.66   \n",
       "31822  Minas Gerais     0     28    2               9   1600    1.62   \n",
       "...             ...   ...    ...  ...             ...    ...     ...   \n",
       "55110     São Paulo     0     52    8              12   1500    1.82   \n",
       "55111     São Paulo     0     30    8              12   1500    1.48   \n",
       "55112     São Paulo     0     43    8               5   1100    1.72   \n",
       "55113     São Paulo     1     51    8              16   1600    1.75   \n",
       "55114     São Paulo     0     59    8              12   1600    1.72   \n",
       "\n",
       "            sexo     cor   anos_de_estudo  \n",
       "31818  Masculino  Branca          11 anos  \n",
       "31819  Masculino   Parda           4 anos  \n",
       "31820  Masculino   Parda           2 anos  \n",
       "31821  Masculino   Parda          10 anos  \n",
       "31822  Masculino  Branca           8 anos  \n",
       "...          ...     ...              ...  \n",
       "55110  Masculino   Parda          11 anos  \n",
       "55111  Masculino   Parda          11 anos  \n",
       "55112  Masculino   Parda           4 anos  \n",
       "55113   Feminino   Parda  15 anos ou mais  \n",
       "55114  Masculino   Parda          11 anos  \n",
       "\n",
       "[23297 rows x 10 columns]"
      ]
     },
     "execution_count": 33,
     "metadata": {},
     "output_type": "execute_result"
    }
   ],
   "source": [
    "dados_sudeste = dados[dados['UF'].isin(['São Paulo', 'Rio de Janeiro', 'Minas Gerais', 'Espírito Santo'])]\n",
    "dados_sudeste"
   ]
  },
  {
   "cell_type": "markdown",
   "metadata": {
    "id": "FtNN9kkiKfK4"
   },
   "source": [
    "##### **Média**"
   ]
  },
  {
   "cell_type": "code",
   "execution_count": 34,
   "metadata": {
    "id": "68tKsDfKXttP"
   },
   "outputs": [
    {
     "data": {
      "application/vnd.microsoft.datawrangler.viewer.v0+json": {
       "columns": [
        {
         "name": "sexo",
         "rawType": "category",
         "type": "unknown"
        },
        {
         "name": "Espírito Santo",
         "rawType": "float64",
         "type": "float"
        },
        {
         "name": "Minas Gerais",
         "rawType": "float64",
         "type": "float"
        },
        {
         "name": "Rio de Janeiro",
         "rawType": "float64",
         "type": "float"
        },
        {
         "name": "São Paulo",
         "rawType": "float64",
         "type": "float"
        }
       ],
       "ref": "c4d9ea18-82d9-4d87-bef3-eddb867d842d",
       "rows": [
        [
         "Masculino",
         "2129.32",
         "2283.16",
         "2777.55",
         "2947.74"
        ],
        [
         "Feminino",
         "1752.71",
         "1489.62",
         "1971.53",
         "1950.18"
        ]
       ],
       "shape": {
        "columns": 4,
        "rows": 2
       }
      },
      "text/html": [
       "<div>\n",
       "<style scoped>\n",
       "    .dataframe tbody tr th:only-of-type {\n",
       "        vertical-align: middle;\n",
       "    }\n",
       "\n",
       "    .dataframe tbody tr th {\n",
       "        vertical-align: top;\n",
       "    }\n",
       "\n",
       "    .dataframe thead th {\n",
       "        text-align: right;\n",
       "    }\n",
       "</style>\n",
       "<table border=\"1\" class=\"dataframe\">\n",
       "  <thead>\n",
       "    <tr style=\"text-align: right;\">\n",
       "      <th>UF</th>\n",
       "      <th>Espírito Santo</th>\n",
       "      <th>Minas Gerais</th>\n",
       "      <th>Rio de Janeiro</th>\n",
       "      <th>São Paulo</th>\n",
       "    </tr>\n",
       "    <tr>\n",
       "      <th>sexo</th>\n",
       "      <th></th>\n",
       "      <th></th>\n",
       "      <th></th>\n",
       "      <th></th>\n",
       "    </tr>\n",
       "  </thead>\n",
       "  <tbody>\n",
       "    <tr>\n",
       "      <th>Masculino</th>\n",
       "      <td>2129.32</td>\n",
       "      <td>2283.16</td>\n",
       "      <td>2777.55</td>\n",
       "      <td>2947.74</td>\n",
       "    </tr>\n",
       "    <tr>\n",
       "      <th>Feminino</th>\n",
       "      <td>1752.71</td>\n",
       "      <td>1489.62</td>\n",
       "      <td>1971.53</td>\n",
       "      <td>1950.18</td>\n",
       "    </tr>\n",
       "  </tbody>\n",
       "</table>\n",
       "</div>"
      ],
      "text/plain": [
       "UF         Espírito Santo  Minas Gerais  Rio de Janeiro  São Paulo\n",
       "sexo                                                              \n",
       "Masculino         2129.32       2283.16         2777.55    2947.74\n",
       "Feminino          1752.71       1489.62         1971.53    1950.18"
      ]
     },
     "execution_count": 34,
     "metadata": {},
     "output_type": "execute_result"
    }
   ],
   "source": [
    "renda_media = round(pd.crosstab(dados_sudeste['sexo'], dados_sudeste['UF'], values=dados_sudeste['Renda'], aggfunc='mean'),2)\n",
    "renda_media"
   ]
  },
  {
   "cell_type": "markdown",
   "metadata": {
    "id": "I_HNBCdWKjyX"
   },
   "source": [
    "##### **Mediana**"
   ]
  },
  {
   "cell_type": "code",
   "execution_count": 35,
   "metadata": {
    "id": "4Nn7xbxXXttQ"
   },
   "outputs": [
    {
     "data": {
      "application/vnd.microsoft.datawrangler.viewer.v0+json": {
       "columns": [
        {
         "name": "sexo",
         "rawType": "category",
         "type": "unknown"
        },
        {
         "name": "Espírito Santo",
         "rawType": "float64",
         "type": "float"
        },
        {
         "name": "Minas Gerais",
         "rawType": "float64",
         "type": "float"
        },
        {
         "name": "Rio de Janeiro",
         "rawType": "float64",
         "type": "float"
        },
        {
         "name": "São Paulo",
         "rawType": "float64",
         "type": "float"
        }
       ],
       "ref": "b423efb3-868f-40c2-be74-25de1eea8895",
       "rows": [
        [
         "Masculino",
         "1500.0",
         "1400.0",
         "1510.0",
         "1820.0"
        ],
        [
         "Feminino",
         "927.0",
         "900.0",
         "1040.5",
         "1200.0"
        ]
       ],
       "shape": {
        "columns": 4,
        "rows": 2
       }
      },
      "text/html": [
       "<div>\n",
       "<style scoped>\n",
       "    .dataframe tbody tr th:only-of-type {\n",
       "        vertical-align: middle;\n",
       "    }\n",
       "\n",
       "    .dataframe tbody tr th {\n",
       "        vertical-align: top;\n",
       "    }\n",
       "\n",
       "    .dataframe thead th {\n",
       "        text-align: right;\n",
       "    }\n",
       "</style>\n",
       "<table border=\"1\" class=\"dataframe\">\n",
       "  <thead>\n",
       "    <tr style=\"text-align: right;\">\n",
       "      <th>UF</th>\n",
       "      <th>Espírito Santo</th>\n",
       "      <th>Minas Gerais</th>\n",
       "      <th>Rio de Janeiro</th>\n",
       "      <th>São Paulo</th>\n",
       "    </tr>\n",
       "    <tr>\n",
       "      <th>sexo</th>\n",
       "      <th></th>\n",
       "      <th></th>\n",
       "      <th></th>\n",
       "      <th></th>\n",
       "    </tr>\n",
       "  </thead>\n",
       "  <tbody>\n",
       "    <tr>\n",
       "      <th>Masculino</th>\n",
       "      <td>1500.0</td>\n",
       "      <td>1400.0</td>\n",
       "      <td>1510.0</td>\n",
       "      <td>1820.0</td>\n",
       "    </tr>\n",
       "    <tr>\n",
       "      <th>Feminino</th>\n",
       "      <td>927.0</td>\n",
       "      <td>900.0</td>\n",
       "      <td>1040.5</td>\n",
       "      <td>1200.0</td>\n",
       "    </tr>\n",
       "  </tbody>\n",
       "</table>\n",
       "</div>"
      ],
      "text/plain": [
       "UF         Espírito Santo  Minas Gerais  Rio de Janeiro  São Paulo\n",
       "sexo                                                              \n",
       "Masculino          1500.0        1400.0          1510.0     1820.0\n",
       "Feminino            927.0         900.0          1040.5     1200.0"
      ]
     },
     "execution_count": 35,
     "metadata": {},
     "output_type": "execute_result"
    }
   ],
   "source": [
    "renda_mediana = round(pd.crosstab(dados_sudeste['sexo'], dados_sudeste['UF'], values=dados_sudeste['Renda'], aggfunc='median'),2)\n",
    "renda_mediana"
   ]
  },
  {
   "cell_type": "markdown",
   "metadata": {
    "id": "m4bFpespKk2Y"
   },
   "source": [
    "##### **Renda Máxima**"
   ]
  },
  {
   "cell_type": "code",
   "execution_count": 36,
   "metadata": {
    "id": "vC9JWpSbXttR"
   },
   "outputs": [
    {
     "data": {
      "application/vnd.microsoft.datawrangler.viewer.v0+json": {
       "columns": [
        {
         "name": "sexo",
         "rawType": "category",
         "type": "unknown"
        },
        {
         "name": "Espírito Santo",
         "rawType": "int64",
         "type": "integer"
        },
        {
         "name": "Minas Gerais",
         "rawType": "int64",
         "type": "integer"
        },
        {
         "name": "Rio de Janeiro",
         "rawType": "int64",
         "type": "integer"
        },
        {
         "name": "São Paulo",
         "rawType": "int64",
         "type": "integer"
        }
       ],
       "ref": "d61ac625-12b4-421e-9913-ec53e8495feb",
       "rows": [
        [
         "Masculino",
         "40000",
         "100000",
         "200000",
         "80000"
        ],
        [
         "Feminino",
         "100000",
         "30000",
         "120000",
         "50000"
        ]
       ],
       "shape": {
        "columns": 4,
        "rows": 2
       }
      },
      "text/html": [
       "<div>\n",
       "<style scoped>\n",
       "    .dataframe tbody tr th:only-of-type {\n",
       "        vertical-align: middle;\n",
       "    }\n",
       "\n",
       "    .dataframe tbody tr th {\n",
       "        vertical-align: top;\n",
       "    }\n",
       "\n",
       "    .dataframe thead th {\n",
       "        text-align: right;\n",
       "    }\n",
       "</style>\n",
       "<table border=\"1\" class=\"dataframe\">\n",
       "  <thead>\n",
       "    <tr style=\"text-align: right;\">\n",
       "      <th>UF</th>\n",
       "      <th>Espírito Santo</th>\n",
       "      <th>Minas Gerais</th>\n",
       "      <th>Rio de Janeiro</th>\n",
       "      <th>São Paulo</th>\n",
       "    </tr>\n",
       "    <tr>\n",
       "      <th>sexo</th>\n",
       "      <th></th>\n",
       "      <th></th>\n",
       "      <th></th>\n",
       "      <th></th>\n",
       "    </tr>\n",
       "  </thead>\n",
       "  <tbody>\n",
       "    <tr>\n",
       "      <th>Masculino</th>\n",
       "      <td>40000</td>\n",
       "      <td>100000</td>\n",
       "      <td>200000</td>\n",
       "      <td>80000</td>\n",
       "    </tr>\n",
       "    <tr>\n",
       "      <th>Feminino</th>\n",
       "      <td>100000</td>\n",
       "      <td>30000</td>\n",
       "      <td>120000</td>\n",
       "      <td>50000</td>\n",
       "    </tr>\n",
       "  </tbody>\n",
       "</table>\n",
       "</div>"
      ],
      "text/plain": [
       "UF         Espírito Santo  Minas Gerais  Rio de Janeiro  São Paulo\n",
       "sexo                                                              \n",
       "Masculino           40000        100000          200000      80000\n",
       "Feminino           100000         30000          120000      50000"
      ]
     },
     "execution_count": 36,
     "metadata": {},
     "output_type": "execute_result"
    }
   ],
   "source": [
    "renda_max = round(pd.crosstab(dados_sudeste['sexo'], dados_sudeste['UF'], values=dados_sudeste['Renda'], aggfunc='max'),2)\n",
    "renda_max"
   ]
  },
  {
   "cell_type": "markdown",
   "metadata": {
    "id": "4d19wJraKcQX"
   },
   "source": [
    "> #### Conclusões\n",
    "\n",
    "No comparativo da renda média e renda mediana entre os sexos masculino e feminino, o estado de São Paulo apresentou as maiores rendas para o sexo masculino com R$ 2.947,74 e R$ 1.820,00 contra R$ 1.917,53 a média para o sexo feminino no estado do Rio de Janeiro e 1.200,00 para o estado de São Paulo.\n",
    "Já a renda máxima ficou com o estado do Rio de Janeiro com R$ 20.000,00 para o sexo masculino e de R$ 12.000,00 para o sexo feminino."
   ]
  },
  {
   "cell_type": "markdown",
   "metadata": {
    "id": "Jk7hNSEKC6Bf"
   },
   "source": [
    "#### **Construa 2 histogramas com curva de densidade com os valores das colunas `Altura` e `Idade` de todas as pessoas responsáveis e compare as curvas obtidas com as suas  MTCs**"
   ]
  },
  {
   "cell_type": "markdown",
   "metadata": {
    "id": "zE321QEALLSH"
   },
   "source": [
    "##### **Altura**"
   ]
  },
  {
   "cell_type": "code",
   "execution_count": 37,
   "metadata": {
    "id": "Rq519uIhXttR"
   },
   "outputs": [
    {
     "data": {
      "image/png": "[encoded data removed]",
      "text/plain": [
       "<Figure size 640x480 with 1 Axes>"
      ]
     },
     "metadata": {},
     "output_type": "display_data"
    }
   ],
   "source": [
    "sns.histplot(bins=15, data=dados, x='Altura', kde=True, kde_kws={'bw_adjust':2})\n",
    "\n",
    "plt.title('Distribuição das alturas das pessoas responsáveis pelo domicílio')\n",
    "plt.xlabel('Altura (metros)')\n",
    "plt.ylabel('Densidade')\n",
    "\n",
    "plt.show()"
   ]
  },
  {
   "cell_type": "code",
   "execution_count": 38,
   "metadata": {
    "id": "bc55wq1ZXttR"
   },
   "outputs": [
    {
     "data": {
      "text/plain": [
       "{'media': np.float64(1.7), 'mediana': np.float64(1.7), 'moda': np.float64(1.7)}"
      ]
     },
     "execution_count": 38,
     "metadata": {},
     "output_type": "execute_result"
    }
   ],
   "source": [
    "altura_resumo = {\n",
    "    'media': round(dados['Altura'].mean(),2),\n",
    "    'mediana': dados['Altura'].median(),\n",
    "    'moda': dados['Altura'].mode()[0]\n",
    "}\n",
    "\n",
    "altura_resumo"
   ]
  },
  {
   "cell_type": "markdown",
   "metadata": {
    "id": "B5ZUa7OF-ror"
   },
   "source": [
    "> #### Conclusões\n",
    "\n",
    "Concluiu-se que a altura média dos responsáveis pelo domicílio é de 1,7 metros."
   ]
  },
  {
   "cell_type": "markdown",
   "metadata": {
    "id": "whm6etapM6Ni"
   },
   "source": [
    "##### **Idade**"
   ]
  },
  {
   "cell_type": "code",
   "execution_count": 39,
   "metadata": {
    "id": "lY6T5WxfXttS"
   },
   "outputs": [
    {
     "data": {
      "image/png": "[encoded data removed]",
      "text/plain": [
       "<Figure size 640x480 with 1 Axes>"
      ]
     },
     "metadata": {},
     "output_type": "display_data"
    }
   ],
   "source": [
    "sns.histplot(bins=15, data=dados, x='Idade', kde=True, kde_kws={'bw_adjust':2})\n",
    "\n",
    "plt.title('Distribuição das idades das pessoas responsáveis pelo domicílio')\n",
    "plt.xlabel('Idade (metros)')\n",
    "plt.ylabel('Densidade')\n",
    "\n",
    "plt.show()"
   ]
  },
  {
   "cell_type": "code",
   "execution_count": 40,
   "metadata": {
    "id": "i2wdO4uqXttS"
   },
   "outputs": [
    {
     "data": {
      "text/plain": [
       "{'media': np.float64(44.07), 'mediana': np.float64(43.0), 'moda': np.int64(40)}"
      ]
     },
     "execution_count": 40,
     "metadata": {},
     "output_type": "execute_result"
    }
   ],
   "source": [
    "idade_resumo = {\n",
    "    'media': round(dados['Idade'].mean(),2),\n",
    "    'mediana': dados['Idade'].median(),\n",
    "    'moda': dados['Idade'].mode()[0]\n",
    "}\n",
    "\n",
    "idade_resumo"
   ]
  },
  {
   "cell_type": "markdown",
   "metadata": {
    "id": "8E3XCvRYM9Qz"
   },
   "source": [
    "> #### Conclusões\n",
    "\n",
    "Conclui-se que a idade média dos responsáveis pelos domicílios é de aproximadamente 44 anos, com mediana de 43 anos e moda de 40 anos. Isso indica uma distribuição centrada entre 40 e 44 anos."
   ]
  },
  {
   "cell_type": "markdown",
   "metadata": {
    "id": "i_X1NcH9_T-u"
   },
   "source": [
    "## **Módulo 04 - Aula 10 - Desafio Mão na Massa: Analisando a renda e suas divisões**"
   ]
  },
  {
   "cell_type": "markdown",
   "metadata": {
    "id": "_PehOjjeVL1Y"
   },
   "source": [
    "Nesta etapa do treinamento, vamos analisar os dados das pessoas responsáveis pelo domicílio de acordo com os dados da PNAD de 2015, por meio das medidas separatrizes. Responda às perguntas abaixo e reflita sobre os achados.\n"
   ]
  },
  {
   "cell_type": "markdown",
   "metadata": {
    "id": "NENRGQVdY3fq"
   },
   "source": [
    "#### **Calcule o número de classes para `Renda` até R$15.000 utilizando a regra de Sturges**"
   ]
  },
  {
   "cell_type": "markdown",
   "metadata": {
    "id": "cBeURnT-1mvR"
   },
   "source": [
    "$$k = 1 + \\frac {10}{3}\\log_{10}n$$\n",
    "\n",
    "onde,\n",
    "\n",
    "$k$ = número de classes\n",
    "\n",
    "$n$ = número de observações.\n"
   ]
  },
  {
   "cell_type": "code",
   "execution_count": 41,
   "metadata": {
    "id": "TmDnTrpCXttT"
   },
   "outputs": [
    {
     "data": {
      "application/vnd.microsoft.datawrangler.viewer.v0+json": {
       "columns": [
        {
         "name": "index",
         "rawType": "int64",
         "type": "integer"
        },
        {
         "name": "UF",
         "rawType": "object",
         "type": "string"
        },
        {
         "name": "Sexo",
         "rawType": "int64",
         "type": "integer"
        },
        {
         "name": "Idade",
         "rawType": "int64",
         "type": "integer"
        },
        {
         "name": "Cor",
         "rawType": "int64",
         "type": "integer"
        },
        {
         "name": "Anos.de.Estudo",
         "rawType": "int64",
         "type": "integer"
        },
        {
         "name": "Renda",
         "rawType": "int64",
         "type": "integer"
        },
        {
         "name": "Altura",
         "rawType": "float64",
         "type": "float"
        },
        {
         "name": "sexo",
         "rawType": "category",
         "type": "unknown"
        },
        {
         "name": "cor",
         "rawType": "category",
         "type": "unknown"
        },
        {
         "name": "anos_de_estudo",
         "rawType": "category",
         "type": "unknown"
        }
       ],
       "ref": "ec470029-a2f1-44e3-b47d-613868da36cf",
       "rows": [
        [
         "0",
         "Rondônia",
         "0",
         "23",
         "8",
         "12",
         "800",
         "1.6",
         "Masculino",
         "Parda",
         "11 anos"
        ],
        [
         "1",
         "Rondônia",
         "1",
         "23",
         "2",
         "12",
         "1150",
         "1.74",
         "Feminino",
         "Branca",
         "11 anos"
        ],
        [
         "2",
         "Rondônia",
         "1",
         "35",
         "8",
         "15",
         "880",
         "1.76",
         "Feminino",
         "Parda",
         "14 anos"
        ],
        [
         "3",
         "Rondônia",
         "0",
         "46",
         "2",
         "6",
         "3500",
         "1.78",
         "Masculino",
         "Branca",
         "5 anos"
        ],
        [
         "4",
         "Rondônia",
         "1",
         "47",
         "8",
         "9",
         "150",
         "1.69",
         "Feminino",
         "Parda",
         "8 anos"
        ]
       ],
       "shape": {
        "columns": 10,
        "rows": 5
       }
      },
      "text/html": [
       "<div>\n",
       "<style scoped>\n",
       "    .dataframe tbody tr th:only-of-type {\n",
       "        vertical-align: middle;\n",
       "    }\n",
       "\n",
       "    .dataframe tbody tr th {\n",
       "        vertical-align: top;\n",
       "    }\n",
       "\n",
       "    .dataframe thead th {\n",
       "        text-align: right;\n",
       "    }\n",
       "</style>\n",
       "<table border=\"1\" class=\"dataframe\">\n",
       "  <thead>\n",
       "    <tr style=\"text-align: right;\">\n",
       "      <th></th>\n",
       "      <th>UF</th>\n",
       "      <th>Sexo</th>\n",
       "      <th>Idade</th>\n",
       "      <th>Cor</th>\n",
       "      <th>Anos.de.Estudo</th>\n",
       "      <th>Renda</th>\n",
       "      <th>Altura</th>\n",
       "      <th>sexo</th>\n",
       "      <th>cor</th>\n",
       "      <th>anos_de_estudo</th>\n",
       "    </tr>\n",
       "  </thead>\n",
       "  <tbody>\n",
       "    <tr>\n",
       "      <th>0</th>\n",
       "      <td>Rondônia</td>\n",
       "      <td>0</td>\n",
       "      <td>23</td>\n",
       "      <td>8</td>\n",
       "      <td>12</td>\n",
       "      <td>800</td>\n",
       "      <td>1.60</td>\n",
       "      <td>Masculino</td>\n",
       "      <td>Parda</td>\n",
       "      <td>11 anos</td>\n",
       "    </tr>\n",
       "    <tr>\n",
       "      <th>1</th>\n",
       "      <td>Rondônia</td>\n",
       "      <td>1</td>\n",
       "      <td>23</td>\n",
       "      <td>2</td>\n",
       "      <td>12</td>\n",
       "      <td>1150</td>\n",
       "      <td>1.74</td>\n",
       "      <td>Feminino</td>\n",
       "      <td>Branca</td>\n",
       "      <td>11 anos</td>\n",
       "    </tr>\n",
       "    <tr>\n",
       "      <th>2</th>\n",
       "      <td>Rondônia</td>\n",
       "      <td>1</td>\n",
       "      <td>35</td>\n",
       "      <td>8</td>\n",
       "      <td>15</td>\n",
       "      <td>880</td>\n",
       "      <td>1.76</td>\n",
       "      <td>Feminino</td>\n",
       "      <td>Parda</td>\n",
       "      <td>14 anos</td>\n",
       "    </tr>\n",
       "    <tr>\n",
       "      <th>3</th>\n",
       "      <td>Rondônia</td>\n",
       "      <td>0</td>\n",
       "      <td>46</td>\n",
       "      <td>2</td>\n",
       "      <td>6</td>\n",
       "      <td>3500</td>\n",
       "      <td>1.78</td>\n",
       "      <td>Masculino</td>\n",
       "      <td>Branca</td>\n",
       "      <td>5 anos</td>\n",
       "    </tr>\n",
       "    <tr>\n",
       "      <th>4</th>\n",
       "      <td>Rondônia</td>\n",
       "      <td>1</td>\n",
       "      <td>47</td>\n",
       "      <td>8</td>\n",
       "      <td>9</td>\n",
       "      <td>150</td>\n",
       "      <td>1.69</td>\n",
       "      <td>Feminino</td>\n",
       "      <td>Parda</td>\n",
       "      <td>8 anos</td>\n",
       "    </tr>\n",
       "  </tbody>\n",
       "</table>\n",
       "</div>"
      ],
      "text/plain": [
       "         UF  Sexo  Idade  Cor  Anos.de.Estudo  Renda  Altura       sexo  \\\n",
       "0  Rondônia     0     23    8              12    800    1.60  Masculino   \n",
       "1  Rondônia     1     23    2              12   1150    1.74   Feminino   \n",
       "2  Rondônia     1     35    8              15    880    1.76   Feminino   \n",
       "3  Rondônia     0     46    2               6   3500    1.78  Masculino   \n",
       "4  Rondônia     1     47    8               9    150    1.69   Feminino   \n",
       "\n",
       "      cor anos_de_estudo  \n",
       "0   Parda        11 anos  \n",
       "1  Branca        11 anos  \n",
       "2   Parda        14 anos  \n",
       "3  Branca         5 anos  \n",
       "4   Parda         8 anos  "
      ]
     },
     "execution_count": 41,
     "metadata": {},
     "output_type": "execute_result"
    }
   ],
   "source": [
    "renda_15k = dados[dados['Renda'] <= 15000]\n",
    "renda_15k.head()"
   ]
  },
  {
   "cell_type": "code",
   "execution_count": 42,
   "metadata": {
    "id": "EXGfDn8hXttT"
   },
   "outputs": [
    {
     "data": {
      "text/plain": [
       "76219"
      ]
     },
     "execution_count": 42,
     "metadata": {},
     "output_type": "execute_result"
    }
   ],
   "source": [
    "n = len(renda_15k)\n",
    "n"
   ]
  },
  {
   "cell_type": "code",
   "execution_count": 43,
   "metadata": {
    "id": "5LMK0dCDXttU"
   },
   "outputs": [],
   "source": [
    "import math"
   ]
  },
  {
   "cell_type": "code",
   "execution_count": 44,
   "metadata": {
    "id": "_hGEfSObXttU"
   },
   "outputs": [
    {
     "data": {
      "text/plain": [
       "17.273544154972114"
      ]
     },
     "execution_count": 44,
     "metadata": {},
     "output_type": "execute_result"
    }
   ],
   "source": [
    "k = 1 + (10/3) * math.log10(n)\n",
    "k"
   ]
  },
  {
   "cell_type": "code",
   "execution_count": 45,
   "metadata": {
    "id": "sy21NWJuXttU"
   },
   "outputs": [
    {
     "data": {
      "text/plain": [
       "17"
      ]
     },
     "execution_count": 45,
     "metadata": {},
     "output_type": "execute_result"
    }
   ],
   "source": [
    "k = int(k)\n",
    "k"
   ]
  },
  {
   "cell_type": "markdown",
   "metadata": {
    "id": "jOLZSNmHY3fv"
   },
   "source": [
    "#### **Crie o histograma da `Renda` das pessoas responsáveis até R$15.000 seguindo o número de classes calculado anteriormente**"
   ]
  },
  {
   "cell_type": "markdown",
   "metadata": {
    "id": "ycnq6L-I24cO"
   },
   "source": [
    "> **Observação:** Ao rodar o código para dividir os dados em faixas é possível que você observe o limite inferior da 1ª faixa com um valor negativo. Isto porque a *Regra de Sturges* define o intervalo mínimo da 1ª classe pela seguinte fórmula: $min(Renda) - (max(Renda) - min(Renda)) * 0.001$.\n",
    "\n"
   ]
  },
  {
   "cell_type": "code",
   "execution_count": 46,
   "metadata": {
    "id": "wkl2gz47XttU"
   },
   "outputs": [
    {
     "data": {
      "application/vnd.microsoft.datawrangler.viewer.v0+json": {
       "columns": [
        {
         "name": "index",
         "rawType": "int64",
         "type": "integer"
        },
        {
         "name": "UF",
         "rawType": "object",
         "type": "string"
        },
        {
         "name": "Sexo",
         "rawType": "int64",
         "type": "integer"
        },
        {
         "name": "Idade",
         "rawType": "int64",
         "type": "integer"
        },
        {
         "name": "Cor",
         "rawType": "int64",
         "type": "integer"
        },
        {
         "name": "Anos.de.Estudo",
         "rawType": "int64",
         "type": "integer"
        },
        {
         "name": "Renda",
         "rawType": "int64",
         "type": "integer"
        },
        {
         "name": "Altura",
         "rawType": "float64",
         "type": "float"
        },
        {
         "name": "sexo",
         "rawType": "category",
         "type": "unknown"
        },
        {
         "name": "cor",
         "rawType": "category",
         "type": "unknown"
        },
        {
         "name": "anos_de_estudo",
         "rawType": "category",
         "type": "unknown"
        },
        {
         "name": "faixa_renda",
         "rawType": "category",
         "type": "unknown"
        }
       ],
       "ref": "2ee00276-4742-4832-b9da-a42d42e4fffc",
       "rows": [
        [
         "0",
         "Rondônia",
         "0",
         "23",
         "8",
         "12",
         "800",
         "1.6",
         "Masculino",
         "Parda",
         "11 anos",
         "(-15.001, 882.353]"
        ],
        [
         "1",
         "Rondônia",
         "1",
         "23",
         "2",
         "12",
         "1150",
         "1.74",
         "Feminino",
         "Branca",
         "11 anos",
         "(882.353, 1764.706]"
        ],
        [
         "2",
         "Rondônia",
         "1",
         "35",
         "8",
         "15",
         "880",
         "1.76",
         "Feminino",
         "Parda",
         "14 anos",
         "(-15.001, 882.353]"
        ],
        [
         "3",
         "Rondônia",
         "0",
         "46",
         "2",
         "6",
         "3500",
         "1.78",
         "Masculino",
         "Branca",
         "5 anos",
         "(2647.059, 3529.412]"
        ],
        [
         "4",
         "Rondônia",
         "1",
         "47",
         "8",
         "9",
         "150",
         "1.69",
         "Feminino",
         "Parda",
         "8 anos",
         "(-15.001, 882.353]"
        ]
       ],
       "shape": {
        "columns": 11,
        "rows": 5
       }
      },
      "text/html": [
       "<div>\n",
       "<style scoped>\n",
       "    .dataframe tbody tr th:only-of-type {\n",
       "        vertical-align: middle;\n",
       "    }\n",
       "\n",
       "    .dataframe tbody tr th {\n",
       "        vertical-align: top;\n",
       "    }\n",
       "\n",
       "    .dataframe thead th {\n",
       "        text-align: right;\n",
       "    }\n",
       "</style>\n",
       "<table border=\"1\" class=\"dataframe\">\n",
       "  <thead>\n",
       "    <tr style=\"text-align: right;\">\n",
       "      <th></th>\n",
       "      <th>UF</th>\n",
       "      <th>Sexo</th>\n",
       "      <th>Idade</th>\n",
       "      <th>Cor</th>\n",
       "      <th>Anos.de.Estudo</th>\n",
       "      <th>Renda</th>\n",
       "      <th>Altura</th>\n",
       "      <th>sexo</th>\n",
       "      <th>cor</th>\n",
       "      <th>anos_de_estudo</th>\n",
       "      <th>faixa_renda</th>\n",
       "    </tr>\n",
       "  </thead>\n",
       "  <tbody>\n",
       "    <tr>\n",
       "      <th>0</th>\n",
       "      <td>Rondônia</td>\n",
       "      <td>0</td>\n",
       "      <td>23</td>\n",
       "      <td>8</td>\n",
       "      <td>12</td>\n",
       "      <td>800</td>\n",
       "      <td>1.60</td>\n",
       "      <td>Masculino</td>\n",
       "      <td>Parda</td>\n",
       "      <td>11 anos</td>\n",
       "      <td>(-15.001, 882.353]</td>\n",
       "    </tr>\n",
       "    <tr>\n",
       "      <th>1</th>\n",
       "      <td>Rondônia</td>\n",
       "      <td>1</td>\n",
       "      <td>23</td>\n",
       "      <td>2</td>\n",
       "      <td>12</td>\n",
       "      <td>1150</td>\n",
       "      <td>1.74</td>\n",
       "      <td>Feminino</td>\n",
       "      <td>Branca</td>\n",
       "      <td>11 anos</td>\n",
       "      <td>(882.353, 1764.706]</td>\n",
       "    </tr>\n",
       "    <tr>\n",
       "      <th>2</th>\n",
       "      <td>Rondônia</td>\n",
       "      <td>1</td>\n",
       "      <td>35</td>\n",
       "      <td>8</td>\n",
       "      <td>15</td>\n",
       "      <td>880</td>\n",
       "      <td>1.76</td>\n",
       "      <td>Feminino</td>\n",
       "      <td>Parda</td>\n",
       "      <td>14 anos</td>\n",
       "      <td>(-15.001, 882.353]</td>\n",
       "    </tr>\n",
       "    <tr>\n",
       "      <th>3</th>\n",
       "      <td>Rondônia</td>\n",
       "      <td>0</td>\n",
       "      <td>46</td>\n",
       "      <td>2</td>\n",
       "      <td>6</td>\n",
       "      <td>3500</td>\n",
       "      <td>1.78</td>\n",
       "      <td>Masculino</td>\n",
       "      <td>Branca</td>\n",
       "      <td>5 anos</td>\n",
       "      <td>(2647.059, 3529.412]</td>\n",
       "    </tr>\n",
       "    <tr>\n",
       "      <th>4</th>\n",
       "      <td>Rondônia</td>\n",
       "      <td>1</td>\n",
       "      <td>47</td>\n",
       "      <td>8</td>\n",
       "      <td>9</td>\n",
       "      <td>150</td>\n",
       "      <td>1.69</td>\n",
       "      <td>Feminino</td>\n",
       "      <td>Parda</td>\n",
       "      <td>8 anos</td>\n",
       "      <td>(-15.001, 882.353]</td>\n",
       "    </tr>\n",
       "  </tbody>\n",
       "</table>\n",
       "</div>"
      ],
      "text/plain": [
       "         UF  Sexo  Idade  Cor  Anos.de.Estudo  Renda  Altura       sexo  \\\n",
       "0  Rondônia     0     23    8              12    800    1.60  Masculino   \n",
       "1  Rondônia     1     23    2              12   1150    1.74   Feminino   \n",
       "2  Rondônia     1     35    8              15    880    1.76   Feminino   \n",
       "3  Rondônia     0     46    2               6   3500    1.78  Masculino   \n",
       "4  Rondônia     1     47    8               9    150    1.69   Feminino   \n",
       "\n",
       "      cor anos_de_estudo           faixa_renda  \n",
       "0   Parda        11 anos    (-15.001, 882.353]  \n",
       "1  Branca        11 anos   (882.353, 1764.706]  \n",
       "2   Parda        14 anos    (-15.001, 882.353]  \n",
       "3  Branca         5 anos  (2647.059, 3529.412]  \n",
       "4   Parda         8 anos    (-15.001, 882.353]  "
      ]
     },
     "execution_count": 46,
     "metadata": {},
     "output_type": "execute_result"
    }
   ],
   "source": [
    "faixas = renda_15k.copy()\n",
    "\n",
    "# Definindo os intervalos usando a função cut()\n",
    "faixas['faixa_renda'] = pd.cut(faixas['Renda'], bins=int(k), include_lowest=True)\n",
    "\n",
    "# Exibindo o resultado\n",
    "faixas.head()"
   ]
  },
  {
   "cell_type": "code",
   "execution_count": 47,
   "metadata": {
    "id": "P2yIL7HvXttU"
   },
   "outputs": [
    {
     "data": {
      "application/vnd.microsoft.datawrangler.viewer.v0+json": {
       "columns": [
        {
         "name": "index",
         "rawType": "int64",
         "type": "integer"
        },
        {
         "name": "faixa_renda",
         "rawType": "category",
         "type": "unknown"
        },
        {
         "name": "frequencia",
         "rawType": "int64",
         "type": "integer"
        },
        {
         "name": "porcentagem",
         "rawType": "float64",
         "type": "float"
        }
       ],
       "ref": "e6721fcf-876d-43d7-b8c0-c1ec1e675bcc",
       "rows": [
        [
         "0",
         "(-15.001, 882.353]",
         "26311",
         "34.52026397617392"
        ],
        [
         "1",
         "(882.353, 1764.706]",
         "25816",
         "33.87081961190779"
        ],
        [
         "2",
         "(1764.706, 2647.059]",
         "10905",
         "14.307456146105302"
        ],
        [
         "3",
         "(2647.059, 3529.412]",
         "4854",
         "6.368490796258151"
        ],
        [
         "4",
         "(3529.412, 4411.765]",
         "2133",
         "2.7985148060194964"
        ],
        [
         "5",
         "(4411.765, 5294.118]",
         "2180",
         "2.8601792204043615"
        ],
        [
         "6",
         "(5294.118, 6176.471]",
         "1002",
         "1.3146328343326468"
        ],
        [
         "7",
         "(6176.471, 7058.824]",
         "672",
         "0.8816699248218948"
        ],
        [
         "8",
         "(7058.824, 7941.176]",
         "208",
         "0.27289783387344363"
        ],
        [
         "9",
         "(7941.176, 8823.529]",
         "554",
         "0.7268528844513835"
        ],
        [
         "10",
         "(8823.529, 9705.882]",
         "193",
         "0.25321770162295487"
        ],
        [
         "11",
         "(9705.882, 10588.235]",
         "662",
         "0.8685498366549024"
        ],
        [
         "12",
         "(10588.235, 11470.588]",
         "97",
         "0.12726485521982708"
        ],
        [
         "13",
         "(11470.588, 12352.941]",
         "218",
         "0.2860179220404361"
        ],
        [
         "14",
         "(12352.941, 13235.294]",
         "78",
         "0.10233668770254137"
        ],
        [
         "15",
         "(13235.294, 14117.647]",
         "69",
         "0.09052860835224813"
        ],
        [
         "16",
         "(14117.647, 15000.0]",
         "267",
         "0.35030635405869925"
        ]
       ],
       "shape": {
        "columns": 3,
        "rows": 17
       }
      },
      "text/html": [
       "<div>\n",
       "<style scoped>\n",
       "    .dataframe tbody tr th:only-of-type {\n",
       "        vertical-align: middle;\n",
       "    }\n",
       "\n",
       "    .dataframe tbody tr th {\n",
       "        vertical-align: top;\n",
       "    }\n",
       "\n",
       "    .dataframe thead th {\n",
       "        text-align: right;\n",
       "    }\n",
       "</style>\n",
       "<table border=\"1\" class=\"dataframe\">\n",
       "  <thead>\n",
       "    <tr style=\"text-align: right;\">\n",
       "      <th></th>\n",
       "      <th>faixa_renda</th>\n",
       "      <th>frequencia</th>\n",
       "      <th>porcentagem</th>\n",
       "    </tr>\n",
       "  </thead>\n",
       "  <tbody>\n",
       "    <tr>\n",
       "      <th>0</th>\n",
       "      <td>(-15.001, 882.353]</td>\n",
       "      <td>26311</td>\n",
       "      <td>34.520264</td>\n",
       "    </tr>\n",
       "    <tr>\n",
       "      <th>1</th>\n",
       "      <td>(882.353, 1764.706]</td>\n",
       "      <td>25816</td>\n",
       "      <td>33.870820</td>\n",
       "    </tr>\n",
       "    <tr>\n",
       "      <th>2</th>\n",
       "      <td>(1764.706, 2647.059]</td>\n",
       "      <td>10905</td>\n",
       "      <td>14.307456</td>\n",
       "    </tr>\n",
       "    <tr>\n",
       "      <th>3</th>\n",
       "      <td>(2647.059, 3529.412]</td>\n",
       "      <td>4854</td>\n",
       "      <td>6.368491</td>\n",
       "    </tr>\n",
       "    <tr>\n",
       "      <th>4</th>\n",
       "      <td>(3529.412, 4411.765]</td>\n",
       "      <td>2133</td>\n",
       "      <td>2.798515</td>\n",
       "    </tr>\n",
       "    <tr>\n",
       "      <th>5</th>\n",
       "      <td>(4411.765, 5294.118]</td>\n",
       "      <td>2180</td>\n",
       "      <td>2.860179</td>\n",
       "    </tr>\n",
       "    <tr>\n",
       "      <th>6</th>\n",
       "      <td>(5294.118, 6176.471]</td>\n",
       "      <td>1002</td>\n",
       "      <td>1.314633</td>\n",
       "    </tr>\n",
       "    <tr>\n",
       "      <th>7</th>\n",
       "      <td>(6176.471, 7058.824]</td>\n",
       "      <td>672</td>\n",
       "      <td>0.881670</td>\n",
       "    </tr>\n",
       "    <tr>\n",
       "      <th>8</th>\n",
       "      <td>(7058.824, 7941.176]</td>\n",
       "      <td>208</td>\n",
       "      <td>0.272898</td>\n",
       "    </tr>\n",
       "    <tr>\n",
       "      <th>9</th>\n",
       "      <td>(7941.176, 8823.529]</td>\n",
       "      <td>554</td>\n",
       "      <td>0.726853</td>\n",
       "    </tr>\n",
       "    <tr>\n",
       "      <th>10</th>\n",
       "      <td>(8823.529, 9705.882]</td>\n",
       "      <td>193</td>\n",
       "      <td>0.253218</td>\n",
       "    </tr>\n",
       "    <tr>\n",
       "      <th>11</th>\n",
       "      <td>(9705.882, 10588.235]</td>\n",
       "      <td>662</td>\n",
       "      <td>0.868550</td>\n",
       "    </tr>\n",
       "    <tr>\n",
       "      <th>12</th>\n",
       "      <td>(10588.235, 11470.588]</td>\n",
       "      <td>97</td>\n",
       "      <td>0.127265</td>\n",
       "    </tr>\n",
       "    <tr>\n",
       "      <th>13</th>\n",
       "      <td>(11470.588, 12352.941]</td>\n",
       "      <td>218</td>\n",
       "      <td>0.286018</td>\n",
       "    </tr>\n",
       "    <tr>\n",
       "      <th>14</th>\n",
       "      <td>(12352.941, 13235.294]</td>\n",
       "      <td>78</td>\n",
       "      <td>0.102337</td>\n",
       "    </tr>\n",
       "    <tr>\n",
       "      <th>15</th>\n",
       "      <td>(13235.294, 14117.647]</td>\n",
       "      <td>69</td>\n",
       "      <td>0.090529</td>\n",
       "    </tr>\n",
       "    <tr>\n",
       "      <th>16</th>\n",
       "      <td>(14117.647, 15000.0]</td>\n",
       "      <td>267</td>\n",
       "      <td>0.350306</td>\n",
       "    </tr>\n",
       "  </tbody>\n",
       "</table>\n",
       "</div>"
      ],
      "text/plain": [
       "               faixa_renda  frequencia  porcentagem\n",
       "0       (-15.001, 882.353]       26311    34.520264\n",
       "1      (882.353, 1764.706]       25816    33.870820\n",
       "2     (1764.706, 2647.059]       10905    14.307456\n",
       "3     (2647.059, 3529.412]        4854     6.368491\n",
       "4     (3529.412, 4411.765]        2133     2.798515\n",
       "5     (4411.765, 5294.118]        2180     2.860179\n",
       "6     (5294.118, 6176.471]        1002     1.314633\n",
       "7     (6176.471, 7058.824]         672     0.881670\n",
       "8     (7058.824, 7941.176]         208     0.272898\n",
       "9     (7941.176, 8823.529]         554     0.726853\n",
       "10    (8823.529, 9705.882]         193     0.253218\n",
       "11   (9705.882, 10588.235]         662     0.868550\n",
       "12  (10588.235, 11470.588]          97     0.127265\n",
       "13  (11470.588, 12352.941]         218     0.286018\n",
       "14  (12352.941, 13235.294]          78     0.102337\n",
       "15  (13235.294, 14117.647]          69     0.090529\n",
       "16    (14117.647, 15000.0]         267     0.350306"
      ]
     },
     "execution_count": 47,
     "metadata": {},
     "output_type": "execute_result"
    }
   ],
   "source": [
    "# 1. Agrupando por faixa_renda e calculando frequências e porcentagens\n",
    "tabela_frequencias = faixas.groupby('faixa_renda',observed=False ).size().reset_index(name='frequencia')\n",
    "\n",
    "# 2. Calculando a porcentagem\n",
    "tabela_frequencias['porcentagem'] = (tabela_frequencias['frequencia'] / len(faixas)) * 100\n",
    "\n",
    "tabela_frequencias"
   ]
  },
  {
   "cell_type": "code",
   "execution_count": 48,
   "metadata": {
    "id": "OqVelsvIXttV"
   },
   "outputs": [
    {
     "data": {
      "image/png": "[encoded data removed]",
      "text/plain": [
       "<Figure size 1500x600 with 1 Axes>"
      ]
     },
     "metadata": {},
     "output_type": "display_data"
    }
   ],
   "source": [
    "plt.figure(figsize=(15, 6))\n",
    "sns.histplot(bins= k, data=renda_15k, x='Renda')\n",
    "plt.title('Histograma das rendas das pessoas responsáveis pelo domicílio')\n",
    "plt.xlabel('Renda (R$)')\n",
    "plt.ylabel('Frequência')\n",
    "plt.show()"
   ]
  },
  {
   "cell_type": "markdown",
   "metadata": {
    "id": "MRRzLUVVY3fz"
   },
   "source": [
    "> #### Conclusões\n",
    "\n",
    "Escreva suas conclusões aqui..."
   ]
  },
  {
   "cell_type": "markdown",
   "metadata": {
    "id": "CY3P_t7CiUmK"
   },
   "source": [
    "#### **Responda as seguintes questões sobre o nosso dataset completo utilizando os conceitos que estudamos até aqui:**"
   ]
  },
  {
   "cell_type": "markdown",
   "metadata": {
    "id": "1eRC8Ko0B-8u"
   },
   "source": [
    "##### **1. Qual o percentual de pessoas responsáveis que ganhava até um salário mínimo em 2015 (R$ 788,00)?**\n",
    "\n"
   ]
  },
  {
   "cell_type": "code",
   "execution_count": 49,
   "metadata": {
    "id": "R7iobsP9XttV"
   },
   "outputs": [
    {
     "data": {
      "text/plain": [
       "np.float64(28.86777719937533)"
      ]
     },
     "execution_count": 49,
     "metadata": {},
     "output_type": "execute_result"
    }
   ],
   "source": [
    "percentual = (dados['Renda'] <= 788).sum() / len(dados) * 100\n",
    "percentual"
   ]
  },
  {
   "cell_type": "markdown",
   "metadata": {
    "id": "DG8AZfpRY3f3"
   },
   "source": [
    "##### **2. Qual a renda máxima de 95% das pessoas responsáveis na pesquisa?**\n"
   ]
  },
  {
   "cell_type": "code",
   "execution_count": 50,
   "metadata": {
    "id": "YawjpiflXttW"
   },
   "outputs": [
    {
     "data": {
      "text/plain": [
       "np.float64(6000.0)"
      ]
     },
     "execution_count": 50,
     "metadata": {},
     "output_type": "execute_result"
    }
   ],
   "source": [
    "dados['Renda'].quantile(0.95)"
   ]
  },
  {
   "cell_type": "markdown",
   "metadata": {
    "id": "uPqMZkacY3f5"
   },
   "source": [
    "##### **3.   Qual a renda mínima dos 1% mais bem pagos da pesquisa?**"
   ]
  },
  {
   "cell_type": "code",
   "execution_count": 51,
   "metadata": {
    "id": "B3Zeil0eXttW"
   },
   "outputs": [
    {
     "data": {
      "text/plain": [
       "np.float64(15000.0)"
      ]
     },
     "execution_count": 51,
     "metadata": {},
     "output_type": "execute_result"
    }
   ],
   "source": [
    "dados['Renda'].quantile(0.99)"
   ]
  },
  {
   "cell_type": "markdown",
   "metadata": {
    "id": "J8R5TK2_Y3f1"
   },
   "source": [
    "##### **4. Qual a renda máxima de 25%, 50% e 75% das pessoas responsáveis que receberam até R$ 6.000 de rendimento mensal? Construa o boxplot e traga o resumo desses dados.**\n"
   ]
  },
  {
   "cell_type": "code",
   "execution_count": 52,
   "metadata": {
    "id": "j4-anz8SXttW"
   },
   "outputs": [
    {
     "data": {
      "application/vnd.microsoft.datawrangler.viewer.v0+json": {
       "columns": [
        {
         "name": "index",
         "rawType": "int64",
         "type": "integer"
        },
        {
         "name": "UF",
         "rawType": "object",
         "type": "string"
        },
        {
         "name": "Sexo",
         "rawType": "int64",
         "type": "integer"
        },
        {
         "name": "Idade",
         "rawType": "int64",
         "type": "integer"
        },
        {
         "name": "Cor",
         "rawType": "int64",
         "type": "integer"
        },
        {
         "name": "Anos.de.Estudo",
         "rawType": "int64",
         "type": "integer"
        },
        {
         "name": "Renda",
         "rawType": "int64",
         "type": "integer"
        },
        {
         "name": "Altura",
         "rawType": "float64",
         "type": "float"
        },
        {
         "name": "sexo",
         "rawType": "category",
         "type": "unknown"
        },
        {
         "name": "cor",
         "rawType": "category",
         "type": "unknown"
        },
        {
         "name": "anos_de_estudo",
         "rawType": "category",
         "type": "unknown"
        }
       ],
       "ref": "6a15eb4e-1d12-4707-8f16-46026e699c11",
       "rows": [
        [
         "0",
         "Rondônia",
         "0",
         "23",
         "8",
         "12",
         "800",
         "1.6",
         "Masculino",
         "Parda",
         "11 anos"
        ],
        [
         "1",
         "Rondônia",
         "1",
         "23",
         "2",
         "12",
         "1150",
         "1.74",
         "Feminino",
         "Branca",
         "11 anos"
        ],
        [
         "2",
         "Rondônia",
         "1",
         "35",
         "8",
         "15",
         "880",
         "1.76",
         "Feminino",
         "Parda",
         "14 anos"
        ],
        [
         "3",
         "Rondônia",
         "0",
         "46",
         "2",
         "6",
         "3500",
         "1.78",
         "Masculino",
         "Branca",
         "5 anos"
        ],
        [
         "4",
         "Rondônia",
         "1",
         "47",
         "8",
         "9",
         "150",
         "1.69",
         "Feminino",
         "Parda",
         "8 anos"
        ],
        [
         "5",
         "Rondônia",
         "1",
         "34",
         "8",
         "12",
         "790",
         "1.64",
         "Feminino",
         "Parda",
         "11 anos"
        ],
        [
         "6",
         "Rondônia",
         "0",
         "57",
         "8",
         "12",
         "3150",
         "1.57",
         "Masculino",
         "Parda",
         "11 anos"
        ],
        [
         "7",
         "Rondônia",
         "1",
         "60",
         "8",
         "12",
         "1700",
         "1.61",
         "Feminino",
         "Parda",
         "11 anos"
        ],
        [
         "8",
         "Rondônia",
         "1",
         "50",
         "4",
         "14",
         "1800",
         "1.78",
         "Feminino",
         "Preta",
         "13 anos"
        ],
        [
         "9",
         "Rondônia",
         "0",
         "26",
         "8",
         "12",
         "1150",
         "1.79",
         "Masculino",
         "Parda",
         "11 anos"
        ],
        [
         "10",
         "Rondônia",
         "1",
         "46",
         "8",
         "12",
         "3000",
         "1.79",
         "Feminino",
         "Parda",
         "11 anos"
        ],
        [
         "11",
         "Rondônia",
         "1",
         "49",
         "8",
         "6",
         "2500",
         "1.71",
         "Feminino",
         "Parda",
         "5 anos"
        ],
        [
         "12",
         "Rondônia",
         "1",
         "52",
         "2",
         "6",
         "1200",
         "1.74",
         "Feminino",
         "Branca",
         "5 anos"
        ],
        [
         "13",
         "Rondônia",
         "0",
         "38",
         "8",
         "12",
         "2000",
         "1.75",
         "Masculino",
         "Parda",
         "11 anos"
        ],
        [
         "14",
         "Rondônia",
         "0",
         "45",
         "2",
         "12",
         "2000",
         "1.78",
         "Masculino",
         "Branca",
         "11 anos"
        ],
        [
         "15",
         "Rondônia",
         "0",
         "34",
         "2",
         "16",
         "6000",
         "1.71",
         "Masculino",
         "Branca",
         "15 anos ou mais"
        ],
        [
         "16",
         "Rondônia",
         "1",
         "43",
         "8",
         "10",
         "1050",
         "1.79",
         "Feminino",
         "Parda",
         "9 anos"
        ],
        [
         "18",
         "Rondônia",
         "0",
         "57",
         "2",
         "12",
         "2000",
         "1.72",
         "Masculino",
         "Branca",
         "11 anos"
        ],
        [
         "19",
         "Rondônia",
         "1",
         "62",
         "8",
         "12",
         "1150",
         "1.77",
         "Feminino",
         "Parda",
         "11 anos"
        ],
        [
         "20",
         "Rondônia",
         "0",
         "69",
         "8",
         "1",
         "3030",
         "1.75",
         "Masculino",
         "Parda",
         "Sem instrução e menos de 1 ano"
        ],
        [
         "21",
         "Rondônia",
         "1",
         "41",
         "8",
         "16",
         "4000",
         "1.66",
         "Feminino",
         "Parda",
         "15 anos ou mais"
        ],
        [
         "22",
         "Rondônia",
         "0",
         "34",
         "8",
         "5",
         "788",
         "1.75",
         "Masculino",
         "Parda",
         "4 anos"
        ],
        [
         "23",
         "Rondônia",
         "0",
         "25",
         "8",
         "12",
         "1000",
         "1.73",
         "Masculino",
         "Parda",
         "11 anos"
        ],
        [
         "24",
         "Rondônia",
         "0",
         "33",
         "8",
         "9",
         "800",
         "1.78",
         "Masculino",
         "Parda",
         "8 anos"
        ],
        [
         "25",
         "Rondônia",
         "1",
         "44",
         "8",
         "5",
         "788",
         "1.67",
         "Feminino",
         "Parda",
         "4 anos"
        ],
        [
         "26",
         "Rondônia",
         "0",
         "33",
         "2",
         "16",
         "1600",
         "1.78",
         "Masculino",
         "Branca",
         "15 anos ou mais"
        ],
        [
         "27",
         "Rondônia",
         "0",
         "65",
         "2",
         "12",
         "1700",
         "1.87",
         "Masculino",
         "Branca",
         "11 anos"
        ],
        [
         "28",
         "Rondônia",
         "0",
         "33",
         "8",
         "14",
         "2000",
         "1.89",
         "Masculino",
         "Parda",
         "13 anos"
        ],
        [
         "29",
         "Rondônia",
         "0",
         "32",
         "8",
         "12",
         "2400",
         "1.66",
         "Masculino",
         "Parda",
         "11 anos"
        ],
        [
         "30",
         "Rondônia",
         "0",
         "43",
         "8",
         "5",
         "3000",
         "1.64",
         "Masculino",
         "Parda",
         "4 anos"
        ],
        [
         "31",
         "Rondônia",
         "0",
         "30",
         "8",
         "1",
         "920",
         "1.69",
         "Masculino",
         "Parda",
         "Sem instrução e menos de 1 ano"
        ],
        [
         "32",
         "Rondônia",
         "0",
         "26",
         "2",
         "10",
         "1300",
         "1.68",
         "Masculino",
         "Branca",
         "9 anos"
        ],
        [
         "33",
         "Rondônia",
         "0",
         "52",
         "2",
         "15",
         "2000",
         "1.67",
         "Masculino",
         "Branca",
         "14 anos"
        ],
        [
         "34",
         "Rondônia",
         "0",
         "62",
         "8",
         "1",
         "1300",
         "1.63",
         "Masculino",
         "Parda",
         "Sem instrução e menos de 1 ano"
        ],
        [
         "35",
         "Rondônia",
         "0",
         "64",
         "6",
         "5",
         "600",
         "1.71",
         "Masculino",
         "Amarela",
         "4 anos"
        ],
        [
         "36",
         "Rondônia",
         "0",
         "31",
         "8",
         "7",
         "1200",
         "1.76",
         "Masculino",
         "Parda",
         "6 anos"
        ],
        [
         "37",
         "Rondônia",
         "0",
         "63",
         "2",
         "3",
         "1000",
         "1.69",
         "Masculino",
         "Branca",
         "2 anos"
        ],
        [
         "38",
         "Rondônia",
         "1",
         "40",
         "2",
         "9",
         "1000",
         "1.71",
         "Feminino",
         "Branca",
         "8 anos"
        ],
        [
         "39",
         "Rondônia",
         "0",
         "47",
         "4",
         "9",
         "1500",
         "1.67",
         "Masculino",
         "Preta",
         "8 anos"
        ],
        [
         "40",
         "Rondônia",
         "0",
         "34",
         "2",
         "7",
         "900",
         "1.65",
         "Masculino",
         "Branca",
         "6 anos"
        ],
        [
         "41",
         "Rondônia",
         "0",
         "33",
         "8",
         "6",
         "900",
         "1.81",
         "Masculino",
         "Parda",
         "5 anos"
        ],
        [
         "42",
         "Rondônia",
         "0",
         "63",
         "8",
         "6",
         "0",
         "1.65",
         "Masculino",
         "Parda",
         "5 anos"
        ],
        [
         "43",
         "Rondônia",
         "1",
         "40",
         "8",
         "2",
         "300",
         "1.76",
         "Feminino",
         "Parda",
         "1 ano"
        ],
        [
         "44",
         "Rondônia",
         "0",
         "41",
         "8",
         "6",
         "1600",
         "1.61",
         "Masculino",
         "Parda",
         "5 anos"
        ],
        [
         "45",
         "Rondônia",
         "0",
         "28",
         "2",
         "10",
         "1500",
         "1.69",
         "Masculino",
         "Branca",
         "9 anos"
        ],
        [
         "46",
         "Rondônia",
         "1",
         "32",
         "8",
         "12",
         "750",
         "1.68",
         "Feminino",
         "Parda",
         "11 anos"
        ],
        [
         "47",
         "Rondônia",
         "0",
         "44",
         "2",
         "1",
         "800",
         "1.7",
         "Masculino",
         "Branca",
         "Sem instrução e menos de 1 ano"
        ],
        [
         "48",
         "Rondônia",
         "1",
         "38",
         "2",
         "12",
         "3600",
         "1.6",
         "Feminino",
         "Branca",
         "11 anos"
        ],
        [
         "49",
         "Rondônia",
         "0",
         "41",
         "2",
         "4",
         "1500",
         "1.65",
         "Masculino",
         "Branca",
         "3 anos"
        ],
        [
         "50",
         "Rondônia",
         "0",
         "62",
         "8",
         "8",
         "3000",
         "1.75",
         "Masculino",
         "Parda",
         "7 anos"
        ]
       ],
       "shape": {
        "columns": 10,
        "rows": 73193
       }
      },
      "text/html": [
       "<div>\n",
       "<style scoped>\n",
       "    .dataframe tbody tr th:only-of-type {\n",
       "        vertical-align: middle;\n",
       "    }\n",
       "\n",
       "    .dataframe tbody tr th {\n",
       "        vertical-align: top;\n",
       "    }\n",
       "\n",
       "    .dataframe thead th {\n",
       "        text-align: right;\n",
       "    }\n",
       "</style>\n",
       "<table border=\"1\" class=\"dataframe\">\n",
       "  <thead>\n",
       "    <tr style=\"text-align: right;\">\n",
       "      <th></th>\n",
       "      <th>UF</th>\n",
       "      <th>Sexo</th>\n",
       "      <th>Idade</th>\n",
       "      <th>Cor</th>\n",
       "      <th>Anos.de.Estudo</th>\n",
       "      <th>Renda</th>\n",
       "      <th>Altura</th>\n",
       "      <th>sexo</th>\n",
       "      <th>cor</th>\n",
       "      <th>anos_de_estudo</th>\n",
       "    </tr>\n",
       "  </thead>\n",
       "  <tbody>\n",
       "    <tr>\n",
       "      <th>0</th>\n",
       "      <td>Rondônia</td>\n",
       "      <td>0</td>\n",
       "      <td>23</td>\n",
       "      <td>8</td>\n",
       "      <td>12</td>\n",
       "      <td>800</td>\n",
       "      <td>1.60</td>\n",
       "      <td>Masculino</td>\n",
       "      <td>Parda</td>\n",
       "      <td>11 anos</td>\n",
       "    </tr>\n",
       "    <tr>\n",
       "      <th>1</th>\n",
       "      <td>Rondônia</td>\n",
       "      <td>1</td>\n",
       "      <td>23</td>\n",
       "      <td>2</td>\n",
       "      <td>12</td>\n",
       "      <td>1150</td>\n",
       "      <td>1.74</td>\n",
       "      <td>Feminino</td>\n",
       "      <td>Branca</td>\n",
       "      <td>11 anos</td>\n",
       "    </tr>\n",
       "    <tr>\n",
       "      <th>2</th>\n",
       "      <td>Rondônia</td>\n",
       "      <td>1</td>\n",
       "      <td>35</td>\n",
       "      <td>8</td>\n",
       "      <td>15</td>\n",
       "      <td>880</td>\n",
       "      <td>1.76</td>\n",
       "      <td>Feminino</td>\n",
       "      <td>Parda</td>\n",
       "      <td>14 anos</td>\n",
       "    </tr>\n",
       "    <tr>\n",
       "      <th>3</th>\n",
       "      <td>Rondônia</td>\n",
       "      <td>0</td>\n",
       "      <td>46</td>\n",
       "      <td>2</td>\n",
       "      <td>6</td>\n",
       "      <td>3500</td>\n",
       "      <td>1.78</td>\n",
       "      <td>Masculino</td>\n",
       "      <td>Branca</td>\n",
       "      <td>5 anos</td>\n",
       "    </tr>\n",
       "    <tr>\n",
       "      <th>4</th>\n",
       "      <td>Rondônia</td>\n",
       "      <td>1</td>\n",
       "      <td>47</td>\n",
       "      <td>8</td>\n",
       "      <td>9</td>\n",
       "      <td>150</td>\n",
       "      <td>1.69</td>\n",
       "      <td>Feminino</td>\n",
       "      <td>Parda</td>\n",
       "      <td>8 anos</td>\n",
       "    </tr>\n",
       "    <tr>\n",
       "      <th>...</th>\n",
       "      <td>...</td>\n",
       "      <td>...</td>\n",
       "      <td>...</td>\n",
       "      <td>...</td>\n",
       "      <td>...</td>\n",
       "      <td>...</td>\n",
       "      <td>...</td>\n",
       "      <td>...</td>\n",
       "      <td>...</td>\n",
       "      <td>...</td>\n",
       "    </tr>\n",
       "    <tr>\n",
       "      <th>76835</th>\n",
       "      <td>Distrito Federal</td>\n",
       "      <td>1</td>\n",
       "      <td>46</td>\n",
       "      <td>2</td>\n",
       "      <td>11</td>\n",
       "      <td>812</td>\n",
       "      <td>1.69</td>\n",
       "      <td>Feminino</td>\n",
       "      <td>Branca</td>\n",
       "      <td>10 anos</td>\n",
       "    </tr>\n",
       "    <tr>\n",
       "      <th>76836</th>\n",
       "      <td>Distrito Federal</td>\n",
       "      <td>0</td>\n",
       "      <td>30</td>\n",
       "      <td>4</td>\n",
       "      <td>7</td>\n",
       "      <td>1500</td>\n",
       "      <td>1.79</td>\n",
       "      <td>Masculino</td>\n",
       "      <td>Preta</td>\n",
       "      <td>6 anos</td>\n",
       "    </tr>\n",
       "    <tr>\n",
       "      <th>76837</th>\n",
       "      <td>Distrito Federal</td>\n",
       "      <td>0</td>\n",
       "      <td>32</td>\n",
       "      <td>8</td>\n",
       "      <td>12</td>\n",
       "      <td>1300</td>\n",
       "      <td>1.83</td>\n",
       "      <td>Masculino</td>\n",
       "      <td>Parda</td>\n",
       "      <td>11 anos</td>\n",
       "    </tr>\n",
       "    <tr>\n",
       "      <th>76838</th>\n",
       "      <td>Distrito Federal</td>\n",
       "      <td>0</td>\n",
       "      <td>57</td>\n",
       "      <td>8</td>\n",
       "      <td>4</td>\n",
       "      <td>1500</td>\n",
       "      <td>1.73</td>\n",
       "      <td>Masculino</td>\n",
       "      <td>Parda</td>\n",
       "      <td>3 anos</td>\n",
       "    </tr>\n",
       "    <tr>\n",
       "      <th>76839</th>\n",
       "      <td>Distrito Federal</td>\n",
       "      <td>0</td>\n",
       "      <td>38</td>\n",
       "      <td>8</td>\n",
       "      <td>4</td>\n",
       "      <td>900</td>\n",
       "      <td>1.66</td>\n",
       "      <td>Masculino</td>\n",
       "      <td>Parda</td>\n",
       "      <td>3 anos</td>\n",
       "    </tr>\n",
       "  </tbody>\n",
       "</table>\n",
       "<p>73193 rows × 10 columns</p>\n",
       "</div>"
      ],
      "text/plain": [
       "                     UF  Sexo  Idade  Cor  Anos.de.Estudo  Renda  Altura  \\\n",
       "0              Rondônia     0     23    8              12    800    1.60   \n",
       "1              Rondônia     1     23    2              12   1150    1.74   \n",
       "2              Rondônia     1     35    8              15    880    1.76   \n",
       "3              Rondônia     0     46    2               6   3500    1.78   \n",
       "4              Rondônia     1     47    8               9    150    1.69   \n",
       "...                 ...   ...    ...  ...             ...    ...     ...   \n",
       "76835  Distrito Federal     1     46    2              11    812    1.69   \n",
       "76836  Distrito Federal     0     30    4               7   1500    1.79   \n",
       "76837  Distrito Federal     0     32    8              12   1300    1.83   \n",
       "76838  Distrito Federal     0     57    8               4   1500    1.73   \n",
       "76839  Distrito Federal     0     38    8               4    900    1.66   \n",
       "\n",
       "            sexo     cor anos_de_estudo  \n",
       "0      Masculino   Parda        11 anos  \n",
       "1       Feminino  Branca        11 anos  \n",
       "2       Feminino   Parda        14 anos  \n",
       "3      Masculino  Branca         5 anos  \n",
       "4       Feminino   Parda         8 anos  \n",
       "...          ...     ...            ...  \n",
       "76835   Feminino  Branca        10 anos  \n",
       "76836  Masculino   Preta         6 anos  \n",
       "76837  Masculino   Parda        11 anos  \n",
       "76838  Masculino   Parda         3 anos  \n",
       "76839  Masculino   Parda         3 anos  \n",
       "\n",
       "[73193 rows x 10 columns]"
      ]
     },
     "execution_count": 52,
     "metadata": {},
     "output_type": "execute_result"
    }
   ],
   "source": [
    "renda_6k = dados[dados['Renda'] <= 6000]\n",
    "renda_6k"
   ]
  },
  {
   "cell_type": "code",
   "execution_count": 53,
   "metadata": {
    "id": "VbzETKR2XttW"
   },
   "outputs": [
    {
     "data": {
      "image/png": "[encoded data removed]",
      "text/plain": [
       "<Figure size 800x600 with 1 Axes>"
      ]
     },
     "metadata": {},
     "output_type": "display_data"
    }
   ],
   "source": [
    "# Criando o boxplot com seaborn\n",
    "plt.figure(figsize=(8, 6))\n",
    "sns.boxplot(x=renda_6k['Renda'], color='steelblue')\n",
    "\n",
    "# Adicionando título e rótulos aos eixos\n",
    "plt.title('Boxplot de Renda das pessoas responsáveis pelo domicílio')\n",
    "plt.xlabel('Renda (R$)')\n",
    "\n",
    "# Ajustando os limites do eixo Y (o equivalente ao scale_y_continuous no ggplot2)\n",
    "plt.ylim(-1, 1)\n",
    "\n",
    "# Exibindo o gráfico\n",
    "plt.show()"
   ]
  },
  {
   "cell_type": "code",
   "execution_count": 54,
   "metadata": {
    "id": "KiN6NB7NXttW"
   },
   "outputs": [
    {
     "data": {
      "text/plain": [
       "{'Q1': np.float64(788.0), 'Q2': np.float64(1200.0), 'Q3': np.float64(2000.0)}"
      ]
     },
     "execution_count": 54,
     "metadata": {},
     "output_type": "execute_result"
    }
   ],
   "source": [
    "# Calculando os quartis\n",
    "resumo_renda_6k = {\n",
    "    'Q1': renda_6k['Renda'].quantile(0.25),\n",
    "    'Q2': renda_6k['Renda'].quantile(0.50),\n",
    "    'Q3': renda_6k['Renda'].quantile(0.75)\n",
    "}\n",
    "\n",
    "# Exibindo os resultados\n",
    "resumo_renda_6k"
   ]
  },
  {
   "cell_type": "markdown",
   "metadata": {
    "id": "OEVJhNXlY3f6"
   },
   "source": [
    "> #### Conclusões\n",
    "\n",
    "Escreva suas conclusões aqui..."
   ]
  },
  {
   "cell_type": "markdown",
   "metadata": {
    "id": "ZGVF4ZrrY3f7"
   },
   "source": [
    "#### **Construa o boxplot da `Renda` até o percentil 95% (`renda_6k`) das pessoas responsáveis por `Cat.Sexo` e `Cat.Cor`. Interprete o resultado.**"
   ]
  },
  {
   "cell_type": "markdown",
   "metadata": {
    "id": "hmcRkp8GHsT3"
   },
   "source": [
    "**Dica:** Para incluir uma 3ª variável na construção de um boxplot, utilize o parâmetro `hue` da seguinte maneira: `(x = Renda, y = Cat.Cor, hue = Cat.Sexo)`."
   ]
  },
  {
   "cell_type": "code",
   "execution_count": 64,
   "metadata": {
    "id": "WBOTVg-lXttX"
   },
   "outputs": [
    {
     "data": {
      "image/png": "[encoded data removed]",
      "text/plain": [
       "<Figure size 800x600 with 1 Axes>"
      ]
     },
     "metadata": {},
     "output_type": "display_data"
    }
   ],
   "source": [
    "# Criando o boxplot\n",
    "plt.figure(figsize=(8, 6))\n",
    "ax = sns.boxplot(x='Renda', y='cor', data=renda_6k, hue='sexo')\n",
    "\n",
    "# Adicionando título e rótulos aos eixos\n",
    "plt.title('Boxplot da Renda das pessoas responsáveis por sexo biológico e cor/raça')\n",
    "plt.xlabel('Renda (R$)')\n",
    "plt.ylabel('Cor ou Raça')\n",
    "\n",
    "# Exibindo o gráfico\n",
    "plt.show()"
   ]
  },
  {
   "cell_type": "markdown",
   "metadata": {
    "id": "u5QwAmCdlsW_"
   },
   "source": [
    "#### **Qual a idade limite para 20% da população? Construa o histograma acumulado com curva de densidade, definindo a idade limite e quantas pessoas se encaixam nessa porcentagem.**"
   ]
  },
  {
   "cell_type": "markdown",
   "metadata": {
    "id": "xtzRs-kPJnoX"
   },
   "source": [
    "**Dica:** Para ler os últimos valores de um DataFrame utilize a função `tail()`.\n",
    "\n",
    "Exemplo: `df.tail(3)` lê os ultimos 3 registros do DataFrame `df`."
   ]
  },
  {
   "cell_type": "code",
   "execution_count": 56,
   "metadata": {
    "id": "TyQV3zwIXttY"
   },
   "outputs": [
    {
     "data": {
      "image/png": "[encoded data removed]",
      "text/plain": [
       "<Figure size 1500x600 with 1 Axes>"
      ]
     },
     "metadata": {},
     "output_type": "display_data"
    }
   ],
   "source": [
    "plt.figure(figsize=(15, 6))\n",
    "sns.histplot(data=dados, x='Idade', bins= 10, cumulative=True, stat='proportion', kde=True )\n",
    "plt.axhline(0.20, color='red', linestyle='dashed')\n",
    "\n",
    "plt.show()"
   ]
  },
  {
   "cell_type": "code",
   "execution_count": 57,
   "metadata": {
    "id": "Zm_zltjkXttY"
   },
   "outputs": [],
   "source": [
    "idades_classificacao = dados.copy()"
   ]
  },
  {
   "cell_type": "code",
   "execution_count": 58,
   "metadata": {
    "id": "h9OcEyx5XttY"
   },
   "outputs": [
    {
     "data": {
      "application/vnd.microsoft.datawrangler.viewer.v0+json": {
       "columns": [
        {
         "name": "index",
         "rawType": "int64",
         "type": "integer"
        },
        {
         "name": "UF",
         "rawType": "object",
         "type": "string"
        },
        {
         "name": "Sexo",
         "rawType": "int64",
         "type": "integer"
        },
        {
         "name": "Idade",
         "rawType": "int64",
         "type": "integer"
        },
        {
         "name": "Cor",
         "rawType": "int64",
         "type": "integer"
        },
        {
         "name": "Anos.de.Estudo",
         "rawType": "int64",
         "type": "integer"
        },
        {
         "name": "Renda",
         "rawType": "int64",
         "type": "integer"
        },
        {
         "name": "Altura",
         "rawType": "float64",
         "type": "float"
        },
        {
         "name": "sexo",
         "rawType": "category",
         "type": "unknown"
        },
        {
         "name": "cor",
         "rawType": "category",
         "type": "unknown"
        },
        {
         "name": "anos_de_estudo",
         "rawType": "category",
         "type": "unknown"
        },
        {
         "name": "cumulativo",
         "rawType": "float64",
         "type": "float"
        },
        {
         "name": "qualificado",
         "rawType": "bool",
         "type": "boolean"
        }
       ],
       "ref": "5a4f026f-d521-468c-bc50-d59d9a36a50e",
       "rows": [
        [
         "2798",
         "Amazonas",
         "0",
         "13",
         "8",
         "6",
         "100",
         "1.61",
         "Masculino",
         "Parda",
         "5 anos",
         "1.3014055179593961e-05",
         "True"
        ],
        [
         "40579",
         "Espírito Santo",
         "0",
         "14",
         "8",
         "4",
         "300",
         "1.65",
         "Masculino",
         "Parda",
         "3 anos",
         "2.6028110359187923e-05",
         "True"
        ],
        [
         "13158",
         "Maranhão",
         "1",
         "15",
         "4",
         "9",
         "200",
         "1.53",
         "Feminino",
         "Preta",
         "8 anos",
         "3.9042165538781884e-05",
         "True"
        ],
        [
         "1426",
         "Rondônia",
         "0",
         "15",
         "4",
         "6",
         "400",
         "1.64",
         "Masculino",
         "Preta",
         "5 anos",
         "5.2056220718375845e-05",
         "True"
        ],
        [
         "35197",
         "Minas Gerais",
         "1",
         "15",
         "8",
         "3",
         "0",
         "1.81",
         "Feminino",
         "Parda",
         "2 anos",
         "6.50702758979698e-05",
         "True"
        ]
       ],
       "shape": {
        "columns": 12,
        "rows": 5
       }
      },
      "text/html": [
       "<div>\n",
       "<style scoped>\n",
       "    .dataframe tbody tr th:only-of-type {\n",
       "        vertical-align: middle;\n",
       "    }\n",
       "\n",
       "    .dataframe tbody tr th {\n",
       "        vertical-align: top;\n",
       "    }\n",
       "\n",
       "    .dataframe thead th {\n",
       "        text-align: right;\n",
       "    }\n",
       "</style>\n",
       "<table border=\"1\" class=\"dataframe\">\n",
       "  <thead>\n",
       "    <tr style=\"text-align: right;\">\n",
       "      <th></th>\n",
       "      <th>UF</th>\n",
       "      <th>Sexo</th>\n",
       "      <th>Idade</th>\n",
       "      <th>Cor</th>\n",
       "      <th>Anos.de.Estudo</th>\n",
       "      <th>Renda</th>\n",
       "      <th>Altura</th>\n",
       "      <th>sexo</th>\n",
       "      <th>cor</th>\n",
       "      <th>anos_de_estudo</th>\n",
       "      <th>cumulativo</th>\n",
       "      <th>qualificado</th>\n",
       "    </tr>\n",
       "  </thead>\n",
       "  <tbody>\n",
       "    <tr>\n",
       "      <th>2798</th>\n",
       "      <td>Amazonas</td>\n",
       "      <td>0</td>\n",
       "      <td>13</td>\n",
       "      <td>8</td>\n",
       "      <td>6</td>\n",
       "      <td>100</td>\n",
       "      <td>1.61</td>\n",
       "      <td>Masculino</td>\n",
       "      <td>Parda</td>\n",
       "      <td>5 anos</td>\n",
       "      <td>0.000013</td>\n",
       "      <td>True</td>\n",
       "    </tr>\n",
       "    <tr>\n",
       "      <th>40579</th>\n",
       "      <td>Espírito Santo</td>\n",
       "      <td>0</td>\n",
       "      <td>14</td>\n",
       "      <td>8</td>\n",
       "      <td>4</td>\n",
       "      <td>300</td>\n",
       "      <td>1.65</td>\n",
       "      <td>Masculino</td>\n",
       "      <td>Parda</td>\n",
       "      <td>3 anos</td>\n",
       "      <td>0.000026</td>\n",
       "      <td>True</td>\n",
       "    </tr>\n",
       "    <tr>\n",
       "      <th>13158</th>\n",
       "      <td>Maranhão</td>\n",
       "      <td>1</td>\n",
       "      <td>15</td>\n",
       "      <td>4</td>\n",
       "      <td>9</td>\n",
       "      <td>200</td>\n",
       "      <td>1.53</td>\n",
       "      <td>Feminino</td>\n",
       "      <td>Preta</td>\n",
       "      <td>8 anos</td>\n",
       "      <td>0.000039</td>\n",
       "      <td>True</td>\n",
       "    </tr>\n",
       "    <tr>\n",
       "      <th>1426</th>\n",
       "      <td>Rondônia</td>\n",
       "      <td>0</td>\n",
       "      <td>15</td>\n",
       "      <td>4</td>\n",
       "      <td>6</td>\n",
       "      <td>400</td>\n",
       "      <td>1.64</td>\n",
       "      <td>Masculino</td>\n",
       "      <td>Preta</td>\n",
       "      <td>5 anos</td>\n",
       "      <td>0.000052</td>\n",
       "      <td>True</td>\n",
       "    </tr>\n",
       "    <tr>\n",
       "      <th>35197</th>\n",
       "      <td>Minas Gerais</td>\n",
       "      <td>1</td>\n",
       "      <td>15</td>\n",
       "      <td>8</td>\n",
       "      <td>3</td>\n",
       "      <td>0</td>\n",
       "      <td>1.81</td>\n",
       "      <td>Feminino</td>\n",
       "      <td>Parda</td>\n",
       "      <td>2 anos</td>\n",
       "      <td>0.000065</td>\n",
       "      <td>True</td>\n",
       "    </tr>\n",
       "  </tbody>\n",
       "</table>\n",
       "</div>"
      ],
      "text/plain": [
       "                   UF  Sexo  Idade  Cor  Anos.de.Estudo  Renda  Altura  \\\n",
       "2798         Amazonas     0     13    8               6    100    1.61   \n",
       "40579  Espírito Santo     0     14    8               4    300    1.65   \n",
       "13158        Maranhão     1     15    4               9    200    1.53   \n",
       "1426         Rondônia     0     15    4               6    400    1.64   \n",
       "35197    Minas Gerais     1     15    8               3      0    1.81   \n",
       "\n",
       "            sexo    cor anos_de_estudo  cumulativo  qualificado  \n",
       "2798   Masculino  Parda         5 anos    0.000013         True  \n",
       "40579  Masculino  Parda         3 anos    0.000026         True  \n",
       "13158   Feminino  Preta         8 anos    0.000039         True  \n",
       "1426   Masculino  Preta         5 anos    0.000052         True  \n",
       "35197   Feminino  Parda         2 anos    0.000065         True  "
      ]
     },
     "execution_count": 58,
     "metadata": {},
     "output_type": "execute_result"
    }
   ],
   "source": [
    "# 1. Ordenar os dados pela coluna 'idade'\n",
    "idades_classificacao = idades_classificacao.sort_values(by='Idade')\n",
    "\n",
    "# 2. Adicionar a coluna 'cumulativo' (posição relativa de cada linha)\n",
    "idades_classificacao['cumulativo'] = (idades_classificacao.reset_index().index + 1) / len(idades_classificacao)\n",
    "\n",
    "# 3. Adicionar a coluna 'qualificado' com base no valor de 'cumulativo'\n",
    "idades_classificacao['qualificado'] = idades_classificacao['cumulativo'] <= 0.20\n",
    "\n",
    "# Exibindo o resultado\n",
    "idades_classificacao.head()"
   ]
  },
  {
   "cell_type": "code",
   "execution_count": 59,
   "metadata": {
    "id": "0ss0U2TKXttY"
   },
   "outputs": [
    {
     "data": {
      "application/vnd.microsoft.datawrangler.viewer.v0+json": {
       "columns": [
        {
         "name": "index",
         "rawType": "int64",
         "type": "integer"
        },
        {
         "name": "UF",
         "rawType": "object",
         "type": "string"
        },
        {
         "name": "Sexo",
         "rawType": "int64",
         "type": "integer"
        },
        {
         "name": "Idade",
         "rawType": "int64",
         "type": "integer"
        },
        {
         "name": "Cor",
         "rawType": "int64",
         "type": "integer"
        },
        {
         "name": "Anos.de.Estudo",
         "rawType": "int64",
         "type": "integer"
        },
        {
         "name": "Renda",
         "rawType": "int64",
         "type": "integer"
        },
        {
         "name": "Altura",
         "rawType": "float64",
         "type": "float"
        },
        {
         "name": "sexo",
         "rawType": "category",
         "type": "unknown"
        },
        {
         "name": "cor",
         "rawType": "category",
         "type": "unknown"
        },
        {
         "name": "anos_de_estudo",
         "rawType": "category",
         "type": "unknown"
        },
        {
         "name": "cumulativo",
         "rawType": "float64",
         "type": "float"
        },
        {
         "name": "qualificado",
         "rawType": "bool",
         "type": "boolean"
        }
       ],
       "ref": "f5dca8f3-d99c-470b-9ecb-490461e8a772",
       "rows": [
        [
         "1789",
         "Acre",
         "0",
         "95",
         "8",
         "9",
         "500",
         "1.86",
         "Masculino",
         "Parda",
         "8 anos",
         "0.9999739718896408",
         "False"
        ],
        [
         "11834",
         "Maranhão",
         "0",
         "97",
         "0",
         "1",
         "0",
         "1.76",
         "Masculino",
         "Indígena",
         "Sem instrução e menos de 1 ano",
         "0.9999869859448204",
         "False"
        ],
        [
         "74079",
         "Goiás",
         "0",
         "99",
         "4",
         "1",
         "0",
         "1.65",
         "Masculino",
         "Preta",
         "Sem instrução e menos de 1 ano",
         "1.0",
         "False"
        ]
       ],
       "shape": {
        "columns": 12,
        "rows": 3
       }
      },
      "text/html": [
       "<div>\n",
       "<style scoped>\n",
       "    .dataframe tbody tr th:only-of-type {\n",
       "        vertical-align: middle;\n",
       "    }\n",
       "\n",
       "    .dataframe tbody tr th {\n",
       "        vertical-align: top;\n",
       "    }\n",
       "\n",
       "    .dataframe thead th {\n",
       "        text-align: right;\n",
       "    }\n",
       "</style>\n",
       "<table border=\"1\" class=\"dataframe\">\n",
       "  <thead>\n",
       "    <tr style=\"text-align: right;\">\n",
       "      <th></th>\n",
       "      <th>UF</th>\n",
       "      <th>Sexo</th>\n",
       "      <th>Idade</th>\n",
       "      <th>Cor</th>\n",
       "      <th>Anos.de.Estudo</th>\n",
       "      <th>Renda</th>\n",
       "      <th>Altura</th>\n",
       "      <th>sexo</th>\n",
       "      <th>cor</th>\n",
       "      <th>anos_de_estudo</th>\n",
       "      <th>cumulativo</th>\n",
       "      <th>qualificado</th>\n",
       "    </tr>\n",
       "  </thead>\n",
       "  <tbody>\n",
       "    <tr>\n",
       "      <th>1789</th>\n",
       "      <td>Acre</td>\n",
       "      <td>0</td>\n",
       "      <td>95</td>\n",
       "      <td>8</td>\n",
       "      <td>9</td>\n",
       "      <td>500</td>\n",
       "      <td>1.86</td>\n",
       "      <td>Masculino</td>\n",
       "      <td>Parda</td>\n",
       "      <td>8 anos</td>\n",
       "      <td>0.999974</td>\n",
       "      <td>False</td>\n",
       "    </tr>\n",
       "    <tr>\n",
       "      <th>11834</th>\n",
       "      <td>Maranhão</td>\n",
       "      <td>0</td>\n",
       "      <td>97</td>\n",
       "      <td>0</td>\n",
       "      <td>1</td>\n",
       "      <td>0</td>\n",
       "      <td>1.76</td>\n",
       "      <td>Masculino</td>\n",
       "      <td>Indígena</td>\n",
       "      <td>Sem instrução e menos de 1 ano</td>\n",
       "      <td>0.999987</td>\n",
       "      <td>False</td>\n",
       "    </tr>\n",
       "    <tr>\n",
       "      <th>74079</th>\n",
       "      <td>Goiás</td>\n",
       "      <td>0</td>\n",
       "      <td>99</td>\n",
       "      <td>4</td>\n",
       "      <td>1</td>\n",
       "      <td>0</td>\n",
       "      <td>1.65</td>\n",
       "      <td>Masculino</td>\n",
       "      <td>Preta</td>\n",
       "      <td>Sem instrução e menos de 1 ano</td>\n",
       "      <td>1.000000</td>\n",
       "      <td>False</td>\n",
       "    </tr>\n",
       "  </tbody>\n",
       "</table>\n",
       "</div>"
      ],
      "text/plain": [
       "             UF  Sexo  Idade  Cor  Anos.de.Estudo  Renda  Altura       sexo  \\\n",
       "1789       Acre     0     95    8               9    500    1.86  Masculino   \n",
       "11834  Maranhão     0     97    0               1      0    1.76  Masculino   \n",
       "74079     Goiás     0     99    4               1      0    1.65  Masculino   \n",
       "\n",
       "            cor                  anos_de_estudo  cumulativo  qualificado  \n",
       "1789      Parda                          8 anos    0.999974        False  \n",
       "11834  Indígena  Sem instrução e menos de 1 ano    0.999987        False  \n",
       "74079     Preta  Sem instrução e menos de 1 ano    1.000000        False  "
      ]
     },
     "execution_count": 59,
     "metadata": {},
     "output_type": "execute_result"
    }
   ],
   "source": [
    "idades_classificacao.tail(3)"
   ]
  },
  {
   "cell_type": "code",
   "execution_count": 60,
   "metadata": {
    "id": "c-8l5oecXttZ"
   },
   "outputs": [
    {
     "data": {
      "application/vnd.microsoft.datawrangler.viewer.v0+json": {
       "columns": [
        {
         "name": "index",
         "rawType": "int64",
         "type": "integer"
        },
        {
         "name": "UF",
         "rawType": "object",
         "type": "string"
        },
        {
         "name": "Sexo",
         "rawType": "int64",
         "type": "integer"
        },
        {
         "name": "Idade",
         "rawType": "int64",
         "type": "integer"
        },
        {
         "name": "Cor",
         "rawType": "int64",
         "type": "integer"
        },
        {
         "name": "Anos.de.Estudo",
         "rawType": "int64",
         "type": "integer"
        },
        {
         "name": "Renda",
         "rawType": "int64",
         "type": "integer"
        },
        {
         "name": "Altura",
         "rawType": "float64",
         "type": "float"
        },
        {
         "name": "sexo",
         "rawType": "category",
         "type": "unknown"
        },
        {
         "name": "cor",
         "rawType": "category",
         "type": "unknown"
        },
        {
         "name": "anos_de_estudo",
         "rawType": "category",
         "type": "unknown"
        },
        {
         "name": "cumulativo",
         "rawType": "float64",
         "type": "float"
        },
        {
         "name": "qualificado",
         "rawType": "bool",
         "type": "boolean"
        }
       ],
       "ref": "9150547e-049f-4176-ba31-832b98d98650",
       "rows": [
        [
         "2798",
         "Amazonas",
         "0",
         "13",
         "8",
         "6",
         "100",
         "1.61",
         "Masculino",
         "Parda",
         "5 anos",
         "1.3014055179593961e-05",
         "True"
        ],
        [
         "40579",
         "Espírito Santo",
         "0",
         "14",
         "8",
         "4",
         "300",
         "1.65",
         "Masculino",
         "Parda",
         "3 anos",
         "2.6028110359187923e-05",
         "True"
        ],
        [
         "13158",
         "Maranhão",
         "1",
         "15",
         "4",
         "9",
         "200",
         "1.53",
         "Feminino",
         "Preta",
         "8 anos",
         "3.9042165538781884e-05",
         "True"
        ],
        [
         "1426",
         "Rondônia",
         "0",
         "15",
         "4",
         "6",
         "400",
         "1.64",
         "Masculino",
         "Preta",
         "5 anos",
         "5.2056220718375845e-05",
         "True"
        ],
        [
         "35197",
         "Minas Gerais",
         "1",
         "15",
         "8",
         "3",
         "0",
         "1.81",
         "Feminino",
         "Parda",
         "2 anos",
         "6.50702758979698e-05",
         "True"
        ]
       ],
       "shape": {
        "columns": 12,
        "rows": 5
       }
      },
      "text/html": [
       "<div>\n",
       "<style scoped>\n",
       "    .dataframe tbody tr th:only-of-type {\n",
       "        vertical-align: middle;\n",
       "    }\n",
       "\n",
       "    .dataframe tbody tr th {\n",
       "        vertical-align: top;\n",
       "    }\n",
       "\n",
       "    .dataframe thead th {\n",
       "        text-align: right;\n",
       "    }\n",
       "</style>\n",
       "<table border=\"1\" class=\"dataframe\">\n",
       "  <thead>\n",
       "    <tr style=\"text-align: right;\">\n",
       "      <th></th>\n",
       "      <th>UF</th>\n",
       "      <th>Sexo</th>\n",
       "      <th>Idade</th>\n",
       "      <th>Cor</th>\n",
       "      <th>Anos.de.Estudo</th>\n",
       "      <th>Renda</th>\n",
       "      <th>Altura</th>\n",
       "      <th>sexo</th>\n",
       "      <th>cor</th>\n",
       "      <th>anos_de_estudo</th>\n",
       "      <th>cumulativo</th>\n",
       "      <th>qualificado</th>\n",
       "    </tr>\n",
       "  </thead>\n",
       "  <tbody>\n",
       "    <tr>\n",
       "      <th>2798</th>\n",
       "      <td>Amazonas</td>\n",
       "      <td>0</td>\n",
       "      <td>13</td>\n",
       "      <td>8</td>\n",
       "      <td>6</td>\n",
       "      <td>100</td>\n",
       "      <td>1.61</td>\n",
       "      <td>Masculino</td>\n",
       "      <td>Parda</td>\n",
       "      <td>5 anos</td>\n",
       "      <td>0.000013</td>\n",
       "      <td>True</td>\n",
       "    </tr>\n",
       "    <tr>\n",
       "      <th>40579</th>\n",
       "      <td>Espírito Santo</td>\n",
       "      <td>0</td>\n",
       "      <td>14</td>\n",
       "      <td>8</td>\n",
       "      <td>4</td>\n",
       "      <td>300</td>\n",
       "      <td>1.65</td>\n",
       "      <td>Masculino</td>\n",
       "      <td>Parda</td>\n",
       "      <td>3 anos</td>\n",
       "      <td>0.000026</td>\n",
       "      <td>True</td>\n",
       "    </tr>\n",
       "    <tr>\n",
       "      <th>13158</th>\n",
       "      <td>Maranhão</td>\n",
       "      <td>1</td>\n",
       "      <td>15</td>\n",
       "      <td>4</td>\n",
       "      <td>9</td>\n",
       "      <td>200</td>\n",
       "      <td>1.53</td>\n",
       "      <td>Feminino</td>\n",
       "      <td>Preta</td>\n",
       "      <td>8 anos</td>\n",
       "      <td>0.000039</td>\n",
       "      <td>True</td>\n",
       "    </tr>\n",
       "    <tr>\n",
       "      <th>1426</th>\n",
       "      <td>Rondônia</td>\n",
       "      <td>0</td>\n",
       "      <td>15</td>\n",
       "      <td>4</td>\n",
       "      <td>6</td>\n",
       "      <td>400</td>\n",
       "      <td>1.64</td>\n",
       "      <td>Masculino</td>\n",
       "      <td>Preta</td>\n",
       "      <td>5 anos</td>\n",
       "      <td>0.000052</td>\n",
       "      <td>True</td>\n",
       "    </tr>\n",
       "    <tr>\n",
       "      <th>35197</th>\n",
       "      <td>Minas Gerais</td>\n",
       "      <td>1</td>\n",
       "      <td>15</td>\n",
       "      <td>8</td>\n",
       "      <td>3</td>\n",
       "      <td>0</td>\n",
       "      <td>1.81</td>\n",
       "      <td>Feminino</td>\n",
       "      <td>Parda</td>\n",
       "      <td>2 anos</td>\n",
       "      <td>0.000065</td>\n",
       "      <td>True</td>\n",
       "    </tr>\n",
       "  </tbody>\n",
       "</table>\n",
       "</div>"
      ],
      "text/plain": [
       "                   UF  Sexo  Idade  Cor  Anos.de.Estudo  Renda  Altura  \\\n",
       "2798         Amazonas     0     13    8               6    100    1.61   \n",
       "40579  Espírito Santo     0     14    8               4    300    1.65   \n",
       "13158        Maranhão     1     15    4               9    200    1.53   \n",
       "1426         Rondônia     0     15    4               6    400    1.64   \n",
       "35197    Minas Gerais     1     15    8               3      0    1.81   \n",
       "\n",
       "            sexo    cor anos_de_estudo  cumulativo  qualificado  \n",
       "2798   Masculino  Parda         5 anos    0.000013         True  \n",
       "40579  Masculino  Parda         3 anos    0.000026         True  \n",
       "13158   Feminino  Preta         8 anos    0.000039         True  \n",
       "1426   Masculino  Preta         5 anos    0.000052         True  \n",
       "35197   Feminino  Parda         2 anos    0.000065         True  "
      ]
     },
     "execution_count": 60,
     "metadata": {},
     "output_type": "execute_result"
    }
   ],
   "source": [
    "idades_qualificados = idades_classificacao[idades_classificacao['qualificado'] == True]\n",
    "idades_qualificados.head()"
   ]
  },
  {
   "cell_type": "code",
   "execution_count": 61,
   "metadata": {
    "id": "k84MfaZrXttZ"
   },
   "outputs": [
    {
     "data": {
      "text/plain": [
       "15368"
      ]
     },
     "execution_count": 61,
     "metadata": {},
     "output_type": "execute_result"
    }
   ],
   "source": [
    "len(idades_qualificados)"
   ]
  },
  {
   "cell_type": "markdown",
   "metadata": {
    "id": "4D6YPAnvY3f-"
   },
   "source": [
    "> #### Conclusões\n",
    "\n",
    "Escreva suas conclusões aqui..."
   ]
  },
  {
   "cell_type": "markdown",
   "metadata": {
    "id": "8oiQ6DsahpRv"
   },
   "source": [
    "## **Aula 05 - Analisando a variação dos dados**"
   ]
  },
  {
   "cell_type": "markdown",
   "metadata": {
    "id": "41X1NLZpi9Z_"
   },
   "source": [
    "### **Mão na Massa - Analisando a variação da Renda das pessoas responsáveis**"
   ]
  },
  {
   "cell_type": "markdown",
   "metadata": {
    "id": "iBC8rHu8MJw5"
   },
   "source": [
    "Nesta última etapa do treinamento, vamos analisar os dados de renda das pessoas responsáveis pelo domicílio de acordo com os dados da PNAD de 2015, calculando a variação desta para determinadas características da amostra. Responda às perguntas abaixo e reflita sobre os achados.\n"
   ]
  },
  {
   "cell_type": "markdown",
   "metadata": {
    "id": "_M9dh9-Bnnak"
   },
   "source": [
    "#### **Responda as seguintes questões sobre o nosso dataset utilizando os conceitos que estudamos até aqui:**"
   ]
  },
  {
   "cell_type": "markdown",
   "metadata": {
    "id": "s3M82GT_nnal"
   },
   "source": [
    "##### **1.   Qual o desvio médio absoluto, a variância e desvio padrão da renda das pessoas responsáveis na pesquisa?**\n",
    "\n",
    "\n",
    "\n"
   ]
  },
  {
   "cell_type": "code",
   "execution_count": 65,
   "metadata": {
    "id": "WTyxha0KXttd"
   },
   "outputs": [
    {
     "data": {
      "application/vnd.microsoft.datawrangler.viewer.v0+json": {
       "columns": [
        {
         "name": "index",
         "rawType": "int64",
         "type": "integer"
        },
        {
         "name": "index",
         "rawType": "object",
         "type": "string"
        },
        {
         "name": "Renda",
         "rawType": "float64",
         "type": "float"
        }
       ],
       "ref": "8cf0b0aa-63dc-4090-a246-e5588d0ec335",
       "rows": [
        [
         "0",
         "media",
         "2000.38"
        ],
        [
         "1",
         "mediana",
         "1200.0"
        ],
        [
         "2",
         "mad",
         "1526.5"
        ]
       ],
       "shape": {
        "columns": 2,
        "rows": 3
       }
      },
      "text/html": [
       "<div>\n",
       "<style scoped>\n",
       "    .dataframe tbody tr th:only-of-type {\n",
       "        vertical-align: middle;\n",
       "    }\n",
       "\n",
       "    .dataframe tbody tr th {\n",
       "        vertical-align: top;\n",
       "    }\n",
       "\n",
       "    .dataframe thead th {\n",
       "        text-align: right;\n",
       "    }\n",
       "</style>\n",
       "<table border=\"1\" class=\"dataframe\">\n",
       "  <thead>\n",
       "    <tr style=\"text-align: right;\">\n",
       "      <th></th>\n",
       "      <th>index</th>\n",
       "      <th>Renda</th>\n",
       "    </tr>\n",
       "  </thead>\n",
       "  <tbody>\n",
       "    <tr>\n",
       "      <th>0</th>\n",
       "      <td>media</td>\n",
       "      <td>2000.38</td>\n",
       "    </tr>\n",
       "    <tr>\n",
       "      <th>1</th>\n",
       "      <td>mediana</td>\n",
       "      <td>1200.00</td>\n",
       "    </tr>\n",
       "    <tr>\n",
       "      <th>2</th>\n",
       "      <td>mad</td>\n",
       "      <td>1526.50</td>\n",
       "    </tr>\n",
       "  </tbody>\n",
       "</table>\n",
       "</div>"
      ],
      "text/plain": [
       "     index    Renda\n",
       "0    media  2000.38\n",
       "1  mediana  1200.00\n",
       "2      mad  1526.50"
      ]
     },
     "execution_count": 65,
     "metadata": {},
     "output_type": "execute_result"
    }
   ],
   "source": [
    "estat_renda = dados['Renda'].agg(\n",
    "    media='mean',\n",
    "    mediana='median',\n",
    "    mad=lambda x: (abs(x - x.mean())).mean()\n",
    ").reset_index()\n",
    "\n",
    "# Exibindo o resultado\n",
    "round(estat_renda,2)"
   ]
  },
  {
   "cell_type": "markdown",
   "metadata": {
    "id": "6F0H8I-MdhB9"
   },
   "source": [
    "##### **2. Construa uma tabela com a média, mediana e desvio padrão para a renda das pessoas em relação aos Anos de Estudo. O que podemos interpretar com esses dados?**"
   ]
  },
  {
   "cell_type": "code",
   "execution_count": 68,
   "metadata": {
    "id": "fHD3A9zjXtte"
   },
   "outputs": [
    {
     "data": {
      "application/vnd.microsoft.datawrangler.viewer.v0+json": {
       "columns": [
        {
         "name": "index",
         "rawType": "int64",
         "type": "integer"
        },
        {
         "name": "anos_de_estudo",
         "rawType": "category",
         "type": "unknown"
        },
        {
         "name": "media",
         "rawType": "float64",
         "type": "float"
        },
        {
         "name": "mediana",
         "rawType": "float64",
         "type": "float"
        },
        {
         "name": "desvio_padrao",
         "rawType": "float64",
         "type": "float"
        }
       ],
       "ref": "27d8712b-0646-45f4-b1ff-3a687a687a5d",
       "rows": [
        [
         "0",
         "Sem instrução e menos de 1 ano",
         "732.9941870405197",
         "600.0",
         "955.2748429724294"
        ],
        [
         "1",
         "1 ano",
         "806.5244956772334",
         "700.0",
         "1203.8662920553875"
        ],
        [
         "2",
         "2 anos",
         "842.5602094240837",
         "788.0",
         "1298.873800393745"
        ],
        [
         "3",
         "3 anos",
         "980.0442753372536",
         "788.0",
         "1907.138436877663"
        ],
        [
         "4",
         "4 anos",
         "1150.4392926140586",
         "900.0",
         "1293.1449343604313"
        ],
        [
         "5",
         "5 anos",
         "1183.5756834852189",
         "940.0",
         "1328.7090167428703"
        ],
        [
         "6",
         "6 anos",
         "1284.082617586912",
         "1000.0",
         "1326.1402038033975"
        ],
        [
         "7",
         "7 anos",
         "1289.1662328002976",
         "1000.0",
         "1279.4120814138366"
        ],
        [
         "8",
         "8 anos",
         "1437.7448621553885",
         "1100.0",
         "1404.2803401247138"
        ],
        [
         "9",
         "9 anos",
         "1315.6858695652174",
         "1000.0",
         "1888.3739520929742"
        ],
        [
         "10",
         "10 anos",
         "1495.9013220018885",
         "1100.0",
         "1817.6765545227627"
        ],
        [
         "11",
         "11 anos",
         "1841.6712874136608",
         "1350.0",
         "2457.1976572660033"
        ],
        [
         "12",
         "12 anos",
         "2185.7690631808277",
         "1500.0",
         "3452.732524638073"
        ],
        [
         "13",
         "13 anos",
         "2758.7741420590582",
         "2000.0",
         "2638.8402869385263"
        ],
        [
         "14",
         "14 anos",
         "3099.8400576368877",
         "2100.0",
         "3413.3594228768893"
        ],
        [
         "15",
         "15 anos ou mais",
         "5242.443353404354",
         "3500.0",
         "6450.4908059598065"
        ],
        [
         "16",
         "Não determinados",
         "1071.717277486911",
         "900.0",
         "825.5795563468199"
        ]
       ],
       "shape": {
        "columns": 4,
        "rows": 17
       }
      },
      "text/html": [
       "<div>\n",
       "<style scoped>\n",
       "    .dataframe tbody tr th:only-of-type {\n",
       "        vertical-align: middle;\n",
       "    }\n",
       "\n",
       "    .dataframe tbody tr th {\n",
       "        vertical-align: top;\n",
       "    }\n",
       "\n",
       "    .dataframe thead th {\n",
       "        text-align: right;\n",
       "    }\n",
       "</style>\n",
       "<table border=\"1\" class=\"dataframe\">\n",
       "  <thead>\n",
       "    <tr style=\"text-align: right;\">\n",
       "      <th></th>\n",
       "      <th>anos_de_estudo</th>\n",
       "      <th>media</th>\n",
       "      <th>mediana</th>\n",
       "      <th>desvio_padrao</th>\n",
       "    </tr>\n",
       "  </thead>\n",
       "  <tbody>\n",
       "    <tr>\n",
       "      <th>0</th>\n",
       "      <td>Sem instrução e menos de 1 ano</td>\n",
       "      <td>732.994187</td>\n",
       "      <td>600.0</td>\n",
       "      <td>955.274843</td>\n",
       "    </tr>\n",
       "    <tr>\n",
       "      <th>1</th>\n",
       "      <td>1 ano</td>\n",
       "      <td>806.524496</td>\n",
       "      <td>700.0</td>\n",
       "      <td>1203.866292</td>\n",
       "    </tr>\n",
       "    <tr>\n",
       "      <th>2</th>\n",
       "      <td>2 anos</td>\n",
       "      <td>842.560209</td>\n",
       "      <td>788.0</td>\n",
       "      <td>1298.873800</td>\n",
       "    </tr>\n",
       "    <tr>\n",
       "      <th>3</th>\n",
       "      <td>3 anos</td>\n",
       "      <td>980.044275</td>\n",
       "      <td>788.0</td>\n",
       "      <td>1907.138437</td>\n",
       "    </tr>\n",
       "    <tr>\n",
       "      <th>4</th>\n",
       "      <td>4 anos</td>\n",
       "      <td>1150.439293</td>\n",
       "      <td>900.0</td>\n",
       "      <td>1293.144934</td>\n",
       "    </tr>\n",
       "    <tr>\n",
       "      <th>5</th>\n",
       "      <td>5 anos</td>\n",
       "      <td>1183.575683</td>\n",
       "      <td>940.0</td>\n",
       "      <td>1328.709017</td>\n",
       "    </tr>\n",
       "    <tr>\n",
       "      <th>6</th>\n",
       "      <td>6 anos</td>\n",
       "      <td>1284.082618</td>\n",
       "      <td>1000.0</td>\n",
       "      <td>1326.140204</td>\n",
       "    </tr>\n",
       "    <tr>\n",
       "      <th>7</th>\n",
       "      <td>7 anos</td>\n",
       "      <td>1289.166233</td>\n",
       "      <td>1000.0</td>\n",
       "      <td>1279.412081</td>\n",
       "    </tr>\n",
       "    <tr>\n",
       "      <th>8</th>\n",
       "      <td>8 anos</td>\n",
       "      <td>1437.744862</td>\n",
       "      <td>1100.0</td>\n",
       "      <td>1404.280340</td>\n",
       "    </tr>\n",
       "    <tr>\n",
       "      <th>9</th>\n",
       "      <td>9 anos</td>\n",
       "      <td>1315.685870</td>\n",
       "      <td>1000.0</td>\n",
       "      <td>1888.373952</td>\n",
       "    </tr>\n",
       "    <tr>\n",
       "      <th>10</th>\n",
       "      <td>10 anos</td>\n",
       "      <td>1495.901322</td>\n",
       "      <td>1100.0</td>\n",
       "      <td>1817.676555</td>\n",
       "    </tr>\n",
       "    <tr>\n",
       "      <th>11</th>\n",
       "      <td>11 anos</td>\n",
       "      <td>1841.671287</td>\n",
       "      <td>1350.0</td>\n",
       "      <td>2457.197657</td>\n",
       "    </tr>\n",
       "    <tr>\n",
       "      <th>12</th>\n",
       "      <td>12 anos</td>\n",
       "      <td>2185.769063</td>\n",
       "      <td>1500.0</td>\n",
       "      <td>3452.732525</td>\n",
       "    </tr>\n",
       "    <tr>\n",
       "      <th>13</th>\n",
       "      <td>13 anos</td>\n",
       "      <td>2758.774142</td>\n",
       "      <td>2000.0</td>\n",
       "      <td>2638.840287</td>\n",
       "    </tr>\n",
       "    <tr>\n",
       "      <th>14</th>\n",
       "      <td>14 anos</td>\n",
       "      <td>3099.840058</td>\n",
       "      <td>2100.0</td>\n",
       "      <td>3413.359423</td>\n",
       "    </tr>\n",
       "    <tr>\n",
       "      <th>15</th>\n",
       "      <td>15 anos ou mais</td>\n",
       "      <td>5242.443353</td>\n",
       "      <td>3500.0</td>\n",
       "      <td>6450.490806</td>\n",
       "    </tr>\n",
       "    <tr>\n",
       "      <th>16</th>\n",
       "      <td>Não determinados</td>\n",
       "      <td>1071.717277</td>\n",
       "      <td>900.0</td>\n",
       "      <td>825.579556</td>\n",
       "    </tr>\n",
       "  </tbody>\n",
       "</table>\n",
       "</div>"
      ],
      "text/plain": [
       "                    anos_de_estudo        media  mediana  desvio_padrao\n",
       "0   Sem instrução e menos de 1 ano   732.994187    600.0     955.274843\n",
       "1                            1 ano   806.524496    700.0    1203.866292\n",
       "2                           2 anos   842.560209    788.0    1298.873800\n",
       "3                           3 anos   980.044275    788.0    1907.138437\n",
       "4                           4 anos  1150.439293    900.0    1293.144934\n",
       "5                           5 anos  1183.575683    940.0    1328.709017\n",
       "6                           6 anos  1284.082618   1000.0    1326.140204\n",
       "7                           7 anos  1289.166233   1000.0    1279.412081\n",
       "8                           8 anos  1437.744862   1100.0    1404.280340\n",
       "9                           9 anos  1315.685870   1000.0    1888.373952\n",
       "10                         10 anos  1495.901322   1100.0    1817.676555\n",
       "11                         11 anos  1841.671287   1350.0    2457.197657\n",
       "12                         12 anos  2185.769063   1500.0    3452.732525\n",
       "13                         13 anos  2758.774142   2000.0    2638.840287\n",
       "14                         14 anos  3099.840058   2100.0    3413.359423\n",
       "15                 15 anos ou mais  5242.443353   3500.0    6450.490806\n",
       "16                Não determinados  1071.717277    900.0     825.579556"
      ]
     },
     "execution_count": 68,
     "metadata": {},
     "output_type": "execute_result"
    }
   ],
   "source": [
    "estat_renda_anos_estudo = dados.groupby('anos_de_estudo', observed=False)['Renda'].agg(\n",
    "    media='mean',\n",
    "    mediana='median',\n",
    "    desvio_padrao='std'\n",
    ").reset_index()\n",
    "estat_renda_anos_estudo"
   ]
  },
  {
   "cell_type": "markdown",
   "metadata": {
    "id": "BUI1Zps3eseQ"
   },
   "source": [
    "> #### Conclusões\n",
    "\n",
    "Escreva suas conclusões aqui..."
   ]
  },
  {
   "cell_type": "markdown",
   "metadata": {
    "id": "upuAC7ZuddUd"
   },
   "source": [
    "##### **3.   Construa uma tabela com a média, mediana e desvio padrão para a renda das pessoas do sexo biológico masculino e feminino até R$ 15.000. O que podemos interpretar com esses dados?**"
   ]
  },
  {
   "cell_type": "code",
   "execution_count": 70,
   "metadata": {
    "id": "_APol7btXttf"
   },
   "outputs": [
    {
     "name": "stderr",
     "output_type": "stream",
     "text": [
      "C:\\Users\\joaoc\\AppData\\Local\\Temp\\ipykernel_8296\\3300925752.py:1: FutureWarning: The default of observed=False is deprecated and will be changed to True in a future version of pandas. Pass observed=False to retain current behavior or observed=True to adopt the future default and silence this warning.\n",
      "  estat_renda_sexo = dados[dados['Renda'] <= 15000].groupby('sexo')['Renda'].agg(\n"
     ]
    },
    {
     "data": {
      "application/vnd.microsoft.datawrangler.viewer.v0+json": {
       "columns": [
        {
         "name": "index",
         "rawType": "int64",
         "type": "integer"
        },
        {
         "name": "sexo",
         "rawType": "category",
         "type": "unknown"
        },
        {
         "name": "media",
         "rawType": "float64",
         "type": "float"
        },
        {
         "name": "mediana",
         "rawType": "float64",
         "type": "float"
        },
        {
         "name": "desvio_padrao",
         "rawType": "float64",
         "type": "float"
        }
       ],
       "ref": "e3afd7be-7945-460c-afc4-ace3b4c344a8",
       "rows": [
        [
         "0",
         "Masculino",
         "1964.3519965113192",
         "1300.0",
         "2101.16346797568"
        ],
        [
         "1",
         "Feminino",
         "1460.1436299356817",
         "900.0",
         "1763.686373922932"
        ]
       ],
       "shape": {
        "columns": 4,
        "rows": 2
       }
      },
      "text/html": [
       "<div>\n",
       "<style scoped>\n",
       "    .dataframe tbody tr th:only-of-type {\n",
       "        vertical-align: middle;\n",
       "    }\n",
       "\n",
       "    .dataframe tbody tr th {\n",
       "        vertical-align: top;\n",
       "    }\n",
       "\n",
       "    .dataframe thead th {\n",
       "        text-align: right;\n",
       "    }\n",
       "</style>\n",
       "<table border=\"1\" class=\"dataframe\">\n",
       "  <thead>\n",
       "    <tr style=\"text-align: right;\">\n",
       "      <th></th>\n",
       "      <th>sexo</th>\n",
       "      <th>media</th>\n",
       "      <th>mediana</th>\n",
       "      <th>desvio_padrao</th>\n",
       "    </tr>\n",
       "  </thead>\n",
       "  <tbody>\n",
       "    <tr>\n",
       "      <th>0</th>\n",
       "      <td>Masculino</td>\n",
       "      <td>1964.351997</td>\n",
       "      <td>1300.0</td>\n",
       "      <td>2101.163468</td>\n",
       "    </tr>\n",
       "    <tr>\n",
       "      <th>1</th>\n",
       "      <td>Feminino</td>\n",
       "      <td>1460.143630</td>\n",
       "      <td>900.0</td>\n",
       "      <td>1763.686374</td>\n",
       "    </tr>\n",
       "  </tbody>\n",
       "</table>\n",
       "</div>"
      ],
      "text/plain": [
       "        sexo        media  mediana  desvio_padrao\n",
       "0  Masculino  1964.351997   1300.0    2101.163468\n",
       "1   Feminino  1460.143630    900.0    1763.686374"
      ]
     },
     "execution_count": 70,
     "metadata": {},
     "output_type": "execute_result"
    }
   ],
   "source": [
    "estat_renda_sexo = dados[dados['Renda'] <= 15000].groupby('sexo')['Renda'].agg(\n",
    "    media='mean',\n",
    "    mediana='median',\n",
    "    desvio_padrao='std'\n",
    ").reset_index()\n",
    "estat_renda_sexo"
   ]
  },
  {
   "cell_type": "markdown",
   "metadata": {
    "id": "4EcHVWU3etkV"
   },
   "source": [
    "> #### Conclusões\n",
    "\n",
    "Escreva suas conclusões aqui..."
   ]
  },
  {
   "cell_type": "markdown",
   "metadata": {
    "id": "Z-zoKBPRnnal"
   },
   "source": [
    "#### **Construa um boxplot da `Renda` dos estados da Região Centro-Oeste até R$ 10.000 segundo o `Cat.Sexo`. Para interpretar o resultado construa 3 tabelas com cada uma das estatísticas descritivas (média, mediana e desvio padrão).**"
   ]
  },
  {
   "cell_type": "code",
   "execution_count": 71,
   "metadata": {
    "id": "sOQE8rbkXttf"
   },
   "outputs": [
    {
     "data": {
      "application/vnd.microsoft.datawrangler.viewer.v0+json": {
       "columns": [
        {
         "name": "index",
         "rawType": "int64",
         "type": "integer"
        },
        {
         "name": "UF",
         "rawType": "object",
         "type": "string"
        },
        {
         "name": "Sexo",
         "rawType": "int64",
         "type": "integer"
        },
        {
         "name": "Idade",
         "rawType": "int64",
         "type": "integer"
        },
        {
         "name": "Cor",
         "rawType": "int64",
         "type": "integer"
        },
        {
         "name": "Anos.de.Estudo",
         "rawType": "int64",
         "type": "integer"
        },
        {
         "name": "Renda",
         "rawType": "int64",
         "type": "integer"
        },
        {
         "name": "Altura",
         "rawType": "float64",
         "type": "float"
        },
        {
         "name": "sexo",
         "rawType": "category",
         "type": "unknown"
        },
        {
         "name": "cor",
         "rawType": "category",
         "type": "unknown"
        },
        {
         "name": "anos_de_estudo",
         "rawType": "category",
         "type": "unknown"
        }
       ],
       "ref": "70944f15-619c-46ca-8bdc-3693cef4bd82",
       "rows": [
        [
         "31818",
         "Minas Gerais",
         "0",
         "40",
         "2",
         "12",
         "1600",
         "1.62",
         "Masculino",
         "Branca",
         "11 anos"
        ],
        [
         "31819",
         "Minas Gerais",
         "0",
         "58",
         "8",
         "5",
         "850",
         "1.58",
         "Masculino",
         "Parda",
         "4 anos"
        ],
        [
         "31820",
         "Minas Gerais",
         "0",
         "36",
         "8",
         "3",
         "1400",
         "1.75",
         "Masculino",
         "Parda",
         "2 anos"
        ],
        [
         "31821",
         "Minas Gerais",
         "0",
         "21",
         "8",
         "11",
         "1500",
         "1.66",
         "Masculino",
         "Parda",
         "10 anos"
        ],
        [
         "31822",
         "Minas Gerais",
         "0",
         "28",
         "2",
         "9",
         "1600",
         "1.62",
         "Masculino",
         "Branca",
         "8 anos"
        ],
        [
         "31823",
         "Minas Gerais",
         "0",
         "39",
         "2",
         "3",
         "1100",
         "1.63",
         "Masculino",
         "Branca",
         "2 anos"
        ],
        [
         "31824",
         "Minas Gerais",
         "0",
         "21",
         "2",
         "8",
         "1200",
         "1.73",
         "Masculino",
         "Branca",
         "7 anos"
        ],
        [
         "31825",
         "Minas Gerais",
         "0",
         "51",
         "8",
         "5",
         "1800",
         "1.67",
         "Masculino",
         "Parda",
         "4 anos"
        ],
        [
         "31826",
         "Minas Gerais",
         "0",
         "37",
         "8",
         "11",
         "2100",
         "1.61",
         "Masculino",
         "Parda",
         "10 anos"
        ],
        [
         "31827",
         "Minas Gerais",
         "0",
         "29",
         "8",
         "12",
         "2500",
         "1.79",
         "Masculino",
         "Parda",
         "11 anos"
        ],
        [
         "31828",
         "Minas Gerais",
         "0",
         "59",
         "2",
         "9",
         "1600",
         "1.68",
         "Masculino",
         "Branca",
         "8 anos"
        ],
        [
         "31829",
         "Minas Gerais",
         "0",
         "45",
         "8",
         "1",
         "0",
         "1.61",
         "Masculino",
         "Parda",
         "Sem instrução e menos de 1 ano"
        ],
        [
         "31830",
         "Minas Gerais",
         "0",
         "62",
         "8",
         "4",
         "1200",
         "1.61",
         "Masculino",
         "Parda",
         "3 anos"
        ],
        [
         "31831",
         "Minas Gerais",
         "0",
         "47",
         "8",
         "5",
         "1200",
         "1.71",
         "Masculino",
         "Parda",
         "4 anos"
        ],
        [
         "31832",
         "Minas Gerais",
         "0",
         "66",
         "8",
         "2",
         "1400",
         "1.67",
         "Masculino",
         "Parda",
         "1 ano"
        ],
        [
         "31833",
         "Minas Gerais",
         "1",
         "43",
         "8",
         "12",
         "200",
         "1.84",
         "Feminino",
         "Parda",
         "11 anos"
        ],
        [
         "31834",
         "Minas Gerais",
         "0",
         "43",
         "8",
         "6",
         "788",
         "1.69",
         "Masculino",
         "Parda",
         "5 anos"
        ],
        [
         "31835",
         "Minas Gerais",
         "0",
         "48",
         "8",
         "1",
         "788",
         "1.62",
         "Masculino",
         "Parda",
         "Sem instrução e menos de 1 ano"
        ],
        [
         "31836",
         "Minas Gerais",
         "0",
         "53",
         "8",
         "7",
         "1200",
         "1.72",
         "Masculino",
         "Parda",
         "6 anos"
        ],
        [
         "31837",
         "Minas Gerais",
         "0",
         "45",
         "8",
         "7",
         "1000",
         "1.79",
         "Masculino",
         "Parda",
         "6 anos"
        ],
        [
         "31838",
         "Minas Gerais",
         "0",
         "42",
         "8",
         "2",
         "1350",
         "1.76",
         "Masculino",
         "Parda",
         "1 ano"
        ],
        [
         "31839",
         "Minas Gerais",
         "0",
         "50",
         "2",
         "5",
         "3000",
         "1.8",
         "Masculino",
         "Branca",
         "4 anos"
        ],
        [
         "31840",
         "Minas Gerais",
         "0",
         "83",
         "4",
         "3",
         "600",
         "1.76",
         "Masculino",
         "Preta",
         "2 anos"
        ],
        [
         "31841",
         "Minas Gerais",
         "0",
         "55",
         "8",
         "12",
         "788",
         "1.63",
         "Masculino",
         "Parda",
         "11 anos"
        ],
        [
         "31842",
         "Minas Gerais",
         "0",
         "33",
         "8",
         "11",
         "2100",
         "1.75",
         "Masculino",
         "Parda",
         "10 anos"
        ],
        [
         "31843",
         "Minas Gerais",
         "0",
         "53",
         "8",
         "1",
         "1000",
         "1.61",
         "Masculino",
         "Parda",
         "Sem instrução e menos de 1 ano"
        ],
        [
         "31844",
         "Minas Gerais",
         "0",
         "64",
         "2",
         "5",
         "700",
         "1.6",
         "Masculino",
         "Branca",
         "4 anos"
        ],
        [
         "31845",
         "Minas Gerais",
         "0",
         "55",
         "4",
         "4",
         "1100",
         "1.72",
         "Masculino",
         "Preta",
         "3 anos"
        ],
        [
         "31846",
         "Minas Gerais",
         "0",
         "61",
         "8",
         "1",
         "1200",
         "1.67",
         "Masculino",
         "Parda",
         "Sem instrução e menos de 1 ano"
        ],
        [
         "31847",
         "Minas Gerais",
         "0",
         "64",
         "8",
         "4",
         "0",
         "1.75",
         "Masculino",
         "Parda",
         "3 anos"
        ],
        [
         "31848",
         "Minas Gerais",
         "0",
         "45",
         "2",
         "5",
         "1660",
         "1.51",
         "Masculino",
         "Branca",
         "4 anos"
        ],
        [
         "31849",
         "Minas Gerais",
         "0",
         "74",
         "8",
         "2",
         "1600",
         "1.9",
         "Masculino",
         "Parda",
         "1 ano"
        ],
        [
         "31850",
         "Minas Gerais",
         "0",
         "29",
         "8",
         "12",
         "1000",
         "1.72",
         "Masculino",
         "Parda",
         "11 anos"
        ],
        [
         "31851",
         "Minas Gerais",
         "0",
         "70",
         "8",
         "1",
         "400",
         "1.59",
         "Masculino",
         "Parda",
         "Sem instrução e menos de 1 ano"
        ],
        [
         "31852",
         "Minas Gerais",
         "0",
         "68",
         "4",
         "5",
         "1200",
         "1.69",
         "Masculino",
         "Preta",
         "4 anos"
        ],
        [
         "31853",
         "Minas Gerais",
         "1",
         "36",
         "2",
         "12",
         "200",
         "1.65",
         "Feminino",
         "Branca",
         "11 anos"
        ],
        [
         "31854",
         "Minas Gerais",
         "0",
         "41",
         "2",
         "12",
         "1500",
         "1.65",
         "Masculino",
         "Branca",
         "11 anos"
        ],
        [
         "31855",
         "Minas Gerais",
         "0",
         "43",
         "2",
         "16",
         "3500",
         "1.91",
         "Masculino",
         "Branca",
         "15 anos ou mais"
        ],
        [
         "31856",
         "Minas Gerais",
         "1",
         "51",
         "8",
         "16",
         "788",
         "1.55",
         "Feminino",
         "Parda",
         "15 anos ou mais"
        ],
        [
         "31857",
         "Minas Gerais",
         "0",
         "55",
         "2",
         "16",
         "6000",
         "1.55",
         "Masculino",
         "Branca",
         "15 anos ou mais"
        ],
        [
         "31858",
         "Minas Gerais",
         "0",
         "53",
         "8",
         "12",
         "2900",
         "1.73",
         "Masculino",
         "Parda",
         "11 anos"
        ],
        [
         "31859",
         "Minas Gerais",
         "1",
         "47",
         "2",
         "16",
         "3000",
         "1.75",
         "Feminino",
         "Branca",
         "15 anos ou mais"
        ],
        [
         "31860",
         "Minas Gerais",
         "0",
         "52",
         "2",
         "11",
         "1100",
         "1.82",
         "Masculino",
         "Branca",
         "10 anos"
        ],
        [
         "31861",
         "Minas Gerais",
         "0",
         "37",
         "8",
         "12",
         "1100",
         "1.7",
         "Masculino",
         "Parda",
         "11 anos"
        ],
        [
         "31862",
         "Minas Gerais",
         "1",
         "62",
         "2",
         "1",
         "600",
         "1.64",
         "Feminino",
         "Branca",
         "Sem instrução e menos de 1 ano"
        ],
        [
         "31863",
         "Minas Gerais",
         "1",
         "39",
         "2",
         "16",
         "3000",
         "1.68",
         "Feminino",
         "Branca",
         "15 anos ou mais"
        ],
        [
         "31864",
         "Minas Gerais",
         "0",
         "45",
         "2",
         "15",
         "2000",
         "1.68",
         "Masculino",
         "Branca",
         "14 anos"
        ],
        [
         "31865",
         "Minas Gerais",
         "1",
         "48",
         "2",
         "16",
         "2000",
         "1.65",
         "Feminino",
         "Branca",
         "15 anos ou mais"
        ],
        [
         "31866",
         "Minas Gerais",
         "0",
         "44",
         "8",
         "6",
         "1680",
         "1.66",
         "Masculino",
         "Parda",
         "5 anos"
        ],
        [
         "31867",
         "Minas Gerais",
         "0",
         "23",
         "2",
         "12",
         "788",
         "1.9",
         "Masculino",
         "Branca",
         "11 anos"
        ]
       ],
       "shape": {
        "columns": 10,
        "rows": 23297
       }
      },
      "text/html": [
       "<div>\n",
       "<style scoped>\n",
       "    .dataframe tbody tr th:only-of-type {\n",
       "        vertical-align: middle;\n",
       "    }\n",
       "\n",
       "    .dataframe tbody tr th {\n",
       "        vertical-align: top;\n",
       "    }\n",
       "\n",
       "    .dataframe thead th {\n",
       "        text-align: right;\n",
       "    }\n",
       "</style>\n",
       "<table border=\"1\" class=\"dataframe\">\n",
       "  <thead>\n",
       "    <tr style=\"text-align: right;\">\n",
       "      <th></th>\n",
       "      <th>UF</th>\n",
       "      <th>Sexo</th>\n",
       "      <th>Idade</th>\n",
       "      <th>Cor</th>\n",
       "      <th>Anos.de.Estudo</th>\n",
       "      <th>Renda</th>\n",
       "      <th>Altura</th>\n",
       "      <th>sexo</th>\n",
       "      <th>cor</th>\n",
       "      <th>anos_de_estudo</th>\n",
       "    </tr>\n",
       "  </thead>\n",
       "  <tbody>\n",
       "    <tr>\n",
       "      <th>31818</th>\n",
       "      <td>Minas Gerais</td>\n",
       "      <td>0</td>\n",
       "      <td>40</td>\n",
       "      <td>2</td>\n",
       "      <td>12</td>\n",
       "      <td>1600</td>\n",
       "      <td>1.62</td>\n",
       "      <td>Masculino</td>\n",
       "      <td>Branca</td>\n",
       "      <td>11 anos</td>\n",
       "    </tr>\n",
       "    <tr>\n",
       "      <th>31819</th>\n",
       "      <td>Minas Gerais</td>\n",
       "      <td>0</td>\n",
       "      <td>58</td>\n",
       "      <td>8</td>\n",
       "      <td>5</td>\n",
       "      <td>850</td>\n",
       "      <td>1.58</td>\n",
       "      <td>Masculino</td>\n",
       "      <td>Parda</td>\n",
       "      <td>4 anos</td>\n",
       "    </tr>\n",
       "    <tr>\n",
       "      <th>31820</th>\n",
       "      <td>Minas Gerais</td>\n",
       "      <td>0</td>\n",
       "      <td>36</td>\n",
       "      <td>8</td>\n",
       "      <td>3</td>\n",
       "      <td>1400</td>\n",
       "      <td>1.75</td>\n",
       "      <td>Masculino</td>\n",
       "      <td>Parda</td>\n",
       "      <td>2 anos</td>\n",
       "    </tr>\n",
       "    <tr>\n",
       "      <th>31821</th>\n",
       "      <td>Minas Gerais</td>\n",
       "      <td>0</td>\n",
       "      <td>21</td>\n",
       "      <td>8</td>\n",
       "      <td>11</td>\n",
       "      <td>1500</td>\n",
       "      <td>1.66</td>\n",
       "      <td>Masculino</td>\n",
       "      <td>Parda</td>\n",
       "      <td>10 anos</td>\n",
       "    </tr>\n",
       "    <tr>\n",
       "      <th>31822</th>\n",
       "      <td>Minas Gerais</td>\n",
       "      <td>0</td>\n",
       "      <td>28</td>\n",
       "      <td>2</td>\n",
       "      <td>9</td>\n",
       "      <td>1600</td>\n",
       "      <td>1.62</td>\n",
       "      <td>Masculino</td>\n",
       "      <td>Branca</td>\n",
       "      <td>8 anos</td>\n",
       "    </tr>\n",
       "    <tr>\n",
       "      <th>...</th>\n",
       "      <td>...</td>\n",
       "      <td>...</td>\n",
       "      <td>...</td>\n",
       "      <td>...</td>\n",
       "      <td>...</td>\n",
       "      <td>...</td>\n",
       "      <td>...</td>\n",
       "      <td>...</td>\n",
       "      <td>...</td>\n",
       "      <td>...</td>\n",
       "    </tr>\n",
       "    <tr>\n",
       "      <th>55110</th>\n",
       "      <td>São Paulo</td>\n",
       "      <td>0</td>\n",
       "      <td>52</td>\n",
       "      <td>8</td>\n",
       "      <td>12</td>\n",
       "      <td>1500</td>\n",
       "      <td>1.82</td>\n",
       "      <td>Masculino</td>\n",
       "      <td>Parda</td>\n",
       "      <td>11 anos</td>\n",
       "    </tr>\n",
       "    <tr>\n",
       "      <th>55111</th>\n",
       "      <td>São Paulo</td>\n",
       "      <td>0</td>\n",
       "      <td>30</td>\n",
       "      <td>8</td>\n",
       "      <td>12</td>\n",
       "      <td>1500</td>\n",
       "      <td>1.48</td>\n",
       "      <td>Masculino</td>\n",
       "      <td>Parda</td>\n",
       "      <td>11 anos</td>\n",
       "    </tr>\n",
       "    <tr>\n",
       "      <th>55112</th>\n",
       "      <td>São Paulo</td>\n",
       "      <td>0</td>\n",
       "      <td>43</td>\n",
       "      <td>8</td>\n",
       "      <td>5</td>\n",
       "      <td>1100</td>\n",
       "      <td>1.72</td>\n",
       "      <td>Masculino</td>\n",
       "      <td>Parda</td>\n",
       "      <td>4 anos</td>\n",
       "    </tr>\n",
       "    <tr>\n",
       "      <th>55113</th>\n",
       "      <td>São Paulo</td>\n",
       "      <td>1</td>\n",
       "      <td>51</td>\n",
       "      <td>8</td>\n",
       "      <td>16</td>\n",
       "      <td>1600</td>\n",
       "      <td>1.75</td>\n",
       "      <td>Feminino</td>\n",
       "      <td>Parda</td>\n",
       "      <td>15 anos ou mais</td>\n",
       "    </tr>\n",
       "    <tr>\n",
       "      <th>55114</th>\n",
       "      <td>São Paulo</td>\n",
       "      <td>0</td>\n",
       "      <td>59</td>\n",
       "      <td>8</td>\n",
       "      <td>12</td>\n",
       "      <td>1600</td>\n",
       "      <td>1.72</td>\n",
       "      <td>Masculino</td>\n",
       "      <td>Parda</td>\n",
       "      <td>11 anos</td>\n",
       "    </tr>\n",
       "  </tbody>\n",
       "</table>\n",
       "<p>23297 rows × 10 columns</p>\n",
       "</div>"
      ],
      "text/plain": [
       "                 UF  Sexo  Idade  Cor  Anos.de.Estudo  Renda  Altura  \\\n",
       "31818  Minas Gerais     0     40    2              12   1600    1.62   \n",
       "31819  Minas Gerais     0     58    8               5    850    1.58   \n",
       "31820  Minas Gerais     0     36    8               3   1400    1.75   \n",
       "31821  Minas Gerais     0     21    8              11   1500    1.66   \n",
       "31822  Minas Gerais     0     28    2               9   1600    1.62   \n",
       "...             ...   ...    ...  ...             ...    ...     ...   \n",
       "55110     São Paulo     0     52    8              12   1500    1.82   \n",
       "55111     São Paulo     0     30    8              12   1500    1.48   \n",
       "55112     São Paulo     0     43    8               5   1100    1.72   \n",
       "55113     São Paulo     1     51    8              16   1600    1.75   \n",
       "55114     São Paulo     0     59    8              12   1600    1.72   \n",
       "\n",
       "            sexo     cor   anos_de_estudo  \n",
       "31818  Masculino  Branca          11 anos  \n",
       "31819  Masculino   Parda           4 anos  \n",
       "31820  Masculino   Parda           2 anos  \n",
       "31821  Masculino   Parda          10 anos  \n",
       "31822  Masculino  Branca           8 anos  \n",
       "...          ...     ...              ...  \n",
       "55110  Masculino   Parda          11 anos  \n",
       "55111  Masculino   Parda          11 anos  \n",
       "55112  Masculino   Parda           4 anos  \n",
       "55113   Feminino   Parda  15 anos ou mais  \n",
       "55114  Masculino   Parda          11 anos  \n",
       "\n",
       "[23297 rows x 10 columns]"
      ]
     },
     "execution_count": 71,
     "metadata": {},
     "output_type": "execute_result"
    }
   ],
   "source": [
    "renda_10k_centro_oeste = dados[dados['UF'].isin(['Goiás', 'Distrito Federal', 'Mato Grosso', 'Mato Grosso do Sul', 'Tocantins']) & (dados['Renda'] <=10e3)]\n",
    "dados_sudeste"
   ]
  },
  {
   "cell_type": "code",
   "execution_count": 73,
   "metadata": {
    "id": "-RXYntHRXttf"
   },
   "outputs": [
    {
     "data": {
      "image/png": "[encoded data removed]",
      "text/plain": [
       "<Figure size 800x600 with 1 Axes>"
      ]
     },
     "metadata": {},
     "output_type": "display_data"
    }
   ],
   "source": [
    "# Criando o boxplot\n",
    "plt.figure(figsize=(8, 6))\n",
    "ax = sns.boxplot(x='Renda', y='UF', data=renda_10k_centro_oeste, hue='sexo')\n",
    "\n",
    "# Adicionando título e rótulos aos eixos\n",
    "plt.title('Distribuição de Renda no Centro-Oeste por unidade federativa e sexo')\n",
    "plt.xlabel('Renda (R$)')\n",
    "plt.ylabel('UF')\n",
    "\n",
    "# Exibindo o gráfico\n",
    "plt.show()"
   ]
  },
  {
   "cell_type": "markdown",
   "metadata": {
    "id": "RSyeOjU3oA6t"
   },
   "source": [
    "##### **Média**"
   ]
  },
  {
   "cell_type": "code",
   "execution_count": 76,
   "metadata": {
    "id": "BgCrJDFtXttg"
   },
   "outputs": [
    {
     "data": {
      "application/vnd.microsoft.datawrangler.viewer.v0+json": {
       "columns": [
        {
         "name": "sexo",
         "rawType": "category",
         "type": "unknown"
        },
        {
         "name": "Distrito Federal",
         "rawType": "float64",
         "type": "float"
        },
        {
         "name": "Goiás",
         "rawType": "float64",
         "type": "float"
        },
        {
         "name": "Mato Grosso",
         "rawType": "float64",
         "type": "float"
        },
        {
         "name": "Mato Grosso do Sul",
         "rawType": "float64",
         "type": "float"
        },
        {
         "name": "Tocantins",
         "rawType": "float64",
         "type": "float"
        }
       ],
       "ref": "efec7f59-6750-4fc1-8ed4-c20a675dda54",
       "rows": [
        [
         "Masculino",
         "3138.46",
         "2030.06",
         "2092.1",
         "2181.73",
         "1598.92"
        ],
        [
         "Feminino",
         "2551.87",
         "1284.65",
         "1548.93",
         "1396.69",
         "1381.8"
        ]
       ],
       "shape": {
        "columns": 5,
        "rows": 2
       }
      },
      "text/html": [
       "<div>\n",
       "<style scoped>\n",
       "    .dataframe tbody tr th:only-of-type {\n",
       "        vertical-align: middle;\n",
       "    }\n",
       "\n",
       "    .dataframe tbody tr th {\n",
       "        vertical-align: top;\n",
       "    }\n",
       "\n",
       "    .dataframe thead th {\n",
       "        text-align: right;\n",
       "    }\n",
       "</style>\n",
       "<table border=\"1\" class=\"dataframe\">\n",
       "  <thead>\n",
       "    <tr style=\"text-align: right;\">\n",
       "      <th>UF</th>\n",
       "      <th>Distrito Federal</th>\n",
       "      <th>Goiás</th>\n",
       "      <th>Mato Grosso</th>\n",
       "      <th>Mato Grosso do Sul</th>\n",
       "      <th>Tocantins</th>\n",
       "    </tr>\n",
       "    <tr>\n",
       "      <th>sexo</th>\n",
       "      <th></th>\n",
       "      <th></th>\n",
       "      <th></th>\n",
       "      <th></th>\n",
       "      <th></th>\n",
       "    </tr>\n",
       "  </thead>\n",
       "  <tbody>\n",
       "    <tr>\n",
       "      <th>Masculino</th>\n",
       "      <td>3138.46</td>\n",
       "      <td>2030.06</td>\n",
       "      <td>2092.10</td>\n",
       "      <td>2181.73</td>\n",
       "      <td>1598.92</td>\n",
       "    </tr>\n",
       "    <tr>\n",
       "      <th>Feminino</th>\n",
       "      <td>2551.87</td>\n",
       "      <td>1284.65</td>\n",
       "      <td>1548.93</td>\n",
       "      <td>1396.69</td>\n",
       "      <td>1381.80</td>\n",
       "    </tr>\n",
       "  </tbody>\n",
       "</table>\n",
       "</div>"
      ],
      "text/plain": [
       "UF         Distrito Federal    Goiás  Mato Grosso  Mato Grosso do Sul  \\\n",
       "sexo                                                                    \n",
       "Masculino           3138.46  2030.06      2092.10             2181.73   \n",
       "Feminino            2551.87  1284.65      1548.93             1396.69   \n",
       "\n",
       "UF         Tocantins  \n",
       "sexo                  \n",
       "Masculino    1598.92  \n",
       "Feminino     1381.80  "
      ]
     },
     "execution_count": 76,
     "metadata": {},
     "output_type": "execute_result"
    }
   ],
   "source": [
    "renda_10k_centro_oeste_media = round(pd.crosstab(renda_10k_centro_oeste['sexo'], renda_10k_centro_oeste['UF'], values=renda_10k_centro_oeste['Renda'], aggfunc='mean'), 2)\n",
    "\n",
    "renda_10k_centro_oeste_media"
   ]
  },
  {
   "cell_type": "markdown",
   "metadata": {
    "id": "-IAhXYjDoDjU"
   },
   "source": [
    "##### **Mediana**"
   ]
  },
  {
   "cell_type": "code",
   "execution_count": 79,
   "metadata": {
    "id": "A1-P7p3yXttg"
   },
   "outputs": [
    {
     "data": {
      "application/vnd.microsoft.datawrangler.viewer.v0+json": {
       "columns": [
        {
         "name": "sexo",
         "rawType": "category",
         "type": "unknown"
        },
        {
         "name": "Distrito Federal",
         "rawType": "float64",
         "type": "float"
        },
        {
         "name": "Goiás",
         "rawType": "float64",
         "type": "float"
        },
        {
         "name": "Mato Grosso",
         "rawType": "float64",
         "type": "float"
        },
        {
         "name": "Mato Grosso do Sul",
         "rawType": "float64",
         "type": "float"
        },
        {
         "name": "Tocantins",
         "rawType": "float64",
         "type": "float"
        }
       ],
       "ref": "a0030e17-5ddb-481a-9cfd-17113c7efe46",
       "rows": [
        [
         "Masculino",
         "2000.0",
         "1500.0",
         "1560.0",
         "1576.0",
         "1020.0"
        ],
        [
         "Feminino",
         "1400.0",
         "900.0",
         "1000.0",
         "986.0",
         "788.0"
        ]
       ],
       "shape": {
        "columns": 5,
        "rows": 2
       }
      },
      "text/html": [
       "<div>\n",
       "<style scoped>\n",
       "    .dataframe tbody tr th:only-of-type {\n",
       "        vertical-align: middle;\n",
       "    }\n",
       "\n",
       "    .dataframe tbody tr th {\n",
       "        vertical-align: top;\n",
       "    }\n",
       "\n",
       "    .dataframe thead th {\n",
       "        text-align: right;\n",
       "    }\n",
       "</style>\n",
       "<table border=\"1\" class=\"dataframe\">\n",
       "  <thead>\n",
       "    <tr style=\"text-align: right;\">\n",
       "      <th>UF</th>\n",
       "      <th>Distrito Federal</th>\n",
       "      <th>Goiás</th>\n",
       "      <th>Mato Grosso</th>\n",
       "      <th>Mato Grosso do Sul</th>\n",
       "      <th>Tocantins</th>\n",
       "    </tr>\n",
       "    <tr>\n",
       "      <th>sexo</th>\n",
       "      <th></th>\n",
       "      <th></th>\n",
       "      <th></th>\n",
       "      <th></th>\n",
       "      <th></th>\n",
       "    </tr>\n",
       "  </thead>\n",
       "  <tbody>\n",
       "    <tr>\n",
       "      <th>Masculino</th>\n",
       "      <td>2000.0</td>\n",
       "      <td>1500.0</td>\n",
       "      <td>1560.0</td>\n",
       "      <td>1576.0</td>\n",
       "      <td>1020.0</td>\n",
       "    </tr>\n",
       "    <tr>\n",
       "      <th>Feminino</th>\n",
       "      <td>1400.0</td>\n",
       "      <td>900.0</td>\n",
       "      <td>1000.0</td>\n",
       "      <td>986.0</td>\n",
       "      <td>788.0</td>\n",
       "    </tr>\n",
       "  </tbody>\n",
       "</table>\n",
       "</div>"
      ],
      "text/plain": [
       "UF         Distrito Federal   Goiás  Mato Grosso  Mato Grosso do Sul  \\\n",
       "sexo                                                                   \n",
       "Masculino            2000.0  1500.0       1560.0              1576.0   \n",
       "Feminino             1400.0   900.0       1000.0               986.0   \n",
       "\n",
       "UF         Tocantins  \n",
       "sexo                  \n",
       "Masculino     1020.0  \n",
       "Feminino       788.0  "
      ]
     },
     "execution_count": 79,
     "metadata": {},
     "output_type": "execute_result"
    }
   ],
   "source": [
    "renda_10k_centro_oeste_mediana = round(pd.crosstab(renda_10k_centro_oeste['sexo'], renda_10k_centro_oeste['UF'], values=renda_10k_centro_oeste['Renda'], aggfunc='median'), 2)\n",
    "\n",
    "renda_10k_centro_oeste_mediana"
   ]
  },
  {
   "cell_type": "markdown",
   "metadata": {
    "id": "TaiN5Uk9oG1D"
   },
   "source": [
    "##### **Desvio Padrão**"
   ]
  },
  {
   "cell_type": "code",
   "execution_count": 81,
   "metadata": {
    "id": "fG2n4hMPXttg"
   },
   "outputs": [
    {
     "data": {
      "application/vnd.microsoft.datawrangler.viewer.v0+json": {
       "columns": [
        {
         "name": "sexo",
         "rawType": "category",
         "type": "unknown"
        },
        {
         "name": "Distrito Federal",
         "rawType": "float64",
         "type": "float"
        },
        {
         "name": "Goiás",
         "rawType": "float64",
         "type": "float"
        },
        {
         "name": "Mato Grosso",
         "rawType": "float64",
         "type": "float"
        },
        {
         "name": "Mato Grosso do Sul",
         "rawType": "float64",
         "type": "float"
        },
        {
         "name": "Tocantins",
         "rawType": "float64",
         "type": "float"
        }
       ],
       "ref": "a08b217d-ff7e-4a7a-a687-ef36f8833598",
       "rows": [
        [
         "Masculino",
         "2513.43",
         "1587.38",
         "1707.91",
         "1773.44",
         "1632.05"
        ],
        [
         "Feminino",
         "2451.17",
         "1110.0",
         "1508.59",
         "1400.9",
         "1516.37"
        ]
       ],
       "shape": {
        "columns": 5,
        "rows": 2
       }
      },
      "text/html": [
       "<div>\n",
       "<style scoped>\n",
       "    .dataframe tbody tr th:only-of-type {\n",
       "        vertical-align: middle;\n",
       "    }\n",
       "\n",
       "    .dataframe tbody tr th {\n",
       "        vertical-align: top;\n",
       "    }\n",
       "\n",
       "    .dataframe thead th {\n",
       "        text-align: right;\n",
       "    }\n",
       "</style>\n",
       "<table border=\"1\" class=\"dataframe\">\n",
       "  <thead>\n",
       "    <tr style=\"text-align: right;\">\n",
       "      <th>UF</th>\n",
       "      <th>Distrito Federal</th>\n",
       "      <th>Goiás</th>\n",
       "      <th>Mato Grosso</th>\n",
       "      <th>Mato Grosso do Sul</th>\n",
       "      <th>Tocantins</th>\n",
       "    </tr>\n",
       "    <tr>\n",
       "      <th>sexo</th>\n",
       "      <th></th>\n",
       "      <th></th>\n",
       "      <th></th>\n",
       "      <th></th>\n",
       "      <th></th>\n",
       "    </tr>\n",
       "  </thead>\n",
       "  <tbody>\n",
       "    <tr>\n",
       "      <th>Masculino</th>\n",
       "      <td>2513.43</td>\n",
       "      <td>1587.38</td>\n",
       "      <td>1707.91</td>\n",
       "      <td>1773.44</td>\n",
       "      <td>1632.05</td>\n",
       "    </tr>\n",
       "    <tr>\n",
       "      <th>Feminino</th>\n",
       "      <td>2451.17</td>\n",
       "      <td>1110.00</td>\n",
       "      <td>1508.59</td>\n",
       "      <td>1400.90</td>\n",
       "      <td>1516.37</td>\n",
       "    </tr>\n",
       "  </tbody>\n",
       "</table>\n",
       "</div>"
      ],
      "text/plain": [
       "UF         Distrito Federal    Goiás  Mato Grosso  Mato Grosso do Sul  \\\n",
       "sexo                                                                    \n",
       "Masculino           2513.43  1587.38      1707.91             1773.44   \n",
       "Feminino            2451.17  1110.00      1508.59             1400.90   \n",
       "\n",
       "UF         Tocantins  \n",
       "sexo                  \n",
       "Masculino    1632.05  \n",
       "Feminino     1516.37  "
      ]
     },
     "execution_count": 81,
     "metadata": {},
     "output_type": "execute_result"
    }
   ],
   "source": [
    "renda_10k_centro_oeste_sd = round(pd.crosstab(renda_10k_centro_oeste['sexo'], renda_10k_centro_oeste['UF'], values=renda_10k_centro_oeste['Renda'], aggfunc='std'), 2)\n",
    "\n",
    "renda_10k_centro_oeste_sd"
   ]
  },
  {
   "cell_type": "markdown",
   "metadata": {
    "id": "Yvhlg_qWewNB"
   },
   "source": [
    "> #### Conclusões\n",
    "\n",
    "Escreva suas conclusões aqui..."
   ]
  }
 ],
 "metadata": {
  "colab": {
   "collapsed_sections": [
    "pTpoxoY7-roj"
   ],
   "provenance": []
  },
  "kernelspec": {
   "display_name": "Python 3",
   "name": "python3"
  },
  "language_info": {
   "codemirror_mode": {
    "name": "ipython",
    "version": 3
   },
   "file_extension": ".py",
   "mimetype": "text/x-python",
   "name": "python",
   "nbconvert_exporter": "python",
   "pygments_lexer": "ipython3",
   "version": "3.13.3"
  },
  "orig_nbformat": 4
 },
 "nbformat": 4,
 "nbformat_minor": 0
}
